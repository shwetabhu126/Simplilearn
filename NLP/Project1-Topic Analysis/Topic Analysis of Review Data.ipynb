{
 "cells": [
  {
   "cell_type": "markdown",
   "metadata": {},
   "source": [
    "# PGP AI - Natural Language Processing"
   ]
  },
  {
   "cell_type": "markdown",
   "metadata": {},
   "source": [
    "## Project 1: Topic Analysis of Review Data"
   ]
  },
  {
   "cell_type": "markdown",
   "metadata": {},
   "source": [
    "> ***Author***\n",
    ">\n",
    "> ***Saikat Narayan Bhattacharjya***\n",
    ">\n",
    "> ***Email: <snbhattacharjya@gmail.com>***"
   ]
  },
  {
   "cell_type": "markdown",
   "metadata": {},
   "source": [
    "#### DESCRIPTION\n",
    "\n",
    "Help a leading mobile brand understand the voice of the customer by analyzing the reviews of their product on Amazon and the topics that customers are talking about. You will perform topic modeling on specific parts of speech. You’ll finally interpret the emerging topics."
   ]
  },
  {
   "cell_type": "markdown",
   "metadata": {},
   "source": [
    "#### Problem Statement: \n",
    "\n",
    "A popular mobile phone brand, Lenovo has launched their budget smartphone in the Indian market. The client wants to understand the VOC (voice of the customer) on the product. This will be useful to not just evaluate the current product, but to also get some direction for developing the product pipeline. The client is particularly interested in the different aspects that customers care about. Product reviews by customers on a leading e-commerce site should provide a good view."
   ]
  },
  {
   "cell_type": "markdown",
   "metadata": {},
   "source": [
    "**Domain:** Amazon reviews for a leading phone brand"
   ]
  },
  {
   "cell_type": "markdown",
   "metadata": {},
   "source": [
    "#### Analysis to be done: \n",
    "POS tagging, topic modeling using LDA, and topic interpretation\n",
    "\n",
    "**Dataset:** ‘K8 Reviews v0.2.csv’\n",
    "\n",
    "**Sentiment:** The sentiment against the review (4,5 star reviews are positive, 1,2 are negative)\n",
    "\n",
    "**Reviews:** The main text of the review"
   ]
  },
  {
   "cell_type": "markdown",
   "metadata": {},
   "source": [
    "#### Steps to perform:\n",
    "\n",
    "Discover the topics in the reviews and present it to business in a consumable format. Employ techniques in syntactic processing and topic modeling.\n",
    "\n",
    "Perform specific cleanup, POS tagging, and restricting to relevant POS tags, then, perform topic modeling using LDA. Finally, give business-friendly names to the topics and make a table for business."
   ]
  },
  {
   "cell_type": "markdown",
   "metadata": {},
   "source": [
    "#### Tasks: \n",
    "\n",
    "1. Read the .csv file using Pandas. Take a look at the top few records.\n",
    "\n",
    "2. Normalize casings for the review text and extract the text into a list for easier manipulation.\n",
    "\n",
    "3. Tokenize the reviews using NLTKs word_tokenize function.\n",
    "\n",
    "4. Perform parts-of-speech tagging on each sentence using the NLTK POS tagger.\n",
    "\n",
    "5. For the topic model, we should  want to include only nouns.\n",
    "\n",
    "  - Find out all the POS tags that correspond to nouns.\n",
    "\n",
    "  - Limit the data to only terms with these tags.\n",
    "\n",
    "6. Lemmatize. \n",
    "\n",
    "  - Different forms of the terms need to be treated as one.\n",
    "\n",
    "  - No need to provide POS tag to lemmatizer for now.\n",
    "\n",
    "7. Remove stopwords and punctuation (if there are any). \n",
    "\n",
    "8. Create a topic model using LDA on the cleaned up data with 12 topics.\n",
    "\n",
    "  - Print out the top terms for each topic.\n",
    "\n",
    "  - What is the coherence of the model with the c_v metric?\n",
    "\n",
    "9. Analyze the topics through the business lens.\n",
    "\n",
    "  - Determine which of the topics can be combined.\n",
    "\n",
    "10. Create topic model using LDA with what you think is the optimal number of topics\n",
    "\n",
    "  - What is the coherence of the model?\n",
    "\n",
    "11. The business should  be able to interpret the topics.\n",
    "\n",
    "  - Name each of the identified topics.\n",
    "\n",
    "  - Create a table with the topic name and the top 10 terms in each to present to the  business."
   ]
  },
  {
   "cell_type": "markdown",
   "metadata": {},
   "source": [
    "#### Environment Setup"
   ]
  },
  {
   "cell_type": "code",
   "execution_count": 1,
   "metadata": {},
   "outputs": [],
   "source": [
    "import numpy as np\n",
    "import pandas as pd\n",
    "import re\n",
    "import nltk\n",
    "import gensim\n",
    "from pprint import pprint\n",
    "\n",
    "# Plotting tools\n",
    "import pyLDAvis\n",
    "import pyLDAvis.gensim\n",
    "import matplotlib.pyplot as plt\n",
    "%matplotlib inline"
   ]
  },
  {
   "cell_type": "markdown",
   "metadata": {},
   "source": [
    "#### 1. Read the data"
   ]
  },
  {
   "cell_type": "code",
   "execution_count": 2,
   "metadata": {},
   "outputs": [],
   "source": [
    "data = pd.read_csv('K8 Reviews v0.2.csv')"
   ]
  },
  {
   "cell_type": "markdown",
   "metadata": {},
   "source": [
    "#### Understanding the data"
   ]
  },
  {
   "cell_type": "code",
   "execution_count": 3,
   "metadata": {},
   "outputs": [
    {
     "data": {
      "text/html": [
       "<div>\n",
       "<style scoped>\n",
       "    .dataframe tbody tr th:only-of-type {\n",
       "        vertical-align: middle;\n",
       "    }\n",
       "\n",
       "    .dataframe tbody tr th {\n",
       "        vertical-align: top;\n",
       "    }\n",
       "\n",
       "    .dataframe thead th {\n",
       "        text-align: right;\n",
       "    }\n",
       "</style>\n",
       "<table border=\"1\" class=\"dataframe\">\n",
       "  <thead>\n",
       "    <tr style=\"text-align: right;\">\n",
       "      <th></th>\n",
       "      <th>sentiment</th>\n",
       "      <th>review</th>\n",
       "    </tr>\n",
       "  </thead>\n",
       "  <tbody>\n",
       "    <tr>\n",
       "      <th>0</th>\n",
       "      <td>1</td>\n",
       "      <td>Good but need updates and improvements</td>\n",
       "    </tr>\n",
       "    <tr>\n",
       "      <th>1</th>\n",
       "      <td>0</td>\n",
       "      <td>Worst mobile i have bought ever, Battery is dr...</td>\n",
       "    </tr>\n",
       "    <tr>\n",
       "      <th>2</th>\n",
       "      <td>1</td>\n",
       "      <td>when I will get my 10% cash back.... its alrea...</td>\n",
       "    </tr>\n",
       "    <tr>\n",
       "      <th>3</th>\n",
       "      <td>1</td>\n",
       "      <td>Good</td>\n",
       "    </tr>\n",
       "    <tr>\n",
       "      <th>4</th>\n",
       "      <td>0</td>\n",
       "      <td>The worst phone everThey have changed the last...</td>\n",
       "    </tr>\n",
       "  </tbody>\n",
       "</table>\n",
       "</div>"
      ],
      "text/plain": [
       "   sentiment                                             review\n",
       "0          1             Good but need updates and improvements\n",
       "1          0  Worst mobile i have bought ever, Battery is dr...\n",
       "2          1  when I will get my 10% cash back.... its alrea...\n",
       "3          1                                               Good\n",
       "4          0  The worst phone everThey have changed the last..."
      ]
     },
     "execution_count": 3,
     "metadata": {},
     "output_type": "execute_result"
    }
   ],
   "source": [
    "data.head()"
   ]
  },
  {
   "cell_type": "code",
   "execution_count": 4,
   "metadata": {},
   "outputs": [
    {
     "name": "stdout",
     "output_type": "stream",
     "text": [
      "<class 'pandas.core.frame.DataFrame'>\n",
      "RangeIndex: 14675 entries, 0 to 14674\n",
      "Data columns (total 2 columns):\n",
      " #   Column     Non-Null Count  Dtype \n",
      "---  ------     --------------  ----- \n",
      " 0   sentiment  14675 non-null  int64 \n",
      " 1   review     14675 non-null  object\n",
      "dtypes: int64(1), object(1)\n",
      "memory usage: 229.4+ KB\n"
     ]
    }
   ],
   "source": [
    "data.info()"
   ]
  },
  {
   "cell_type": "markdown",
   "metadata": {},
   "source": [
    "#### 2. Normalizing the casing to lower"
   ]
  },
  {
   "cell_type": "code",
   "execution_count": 5,
   "metadata": {},
   "outputs": [],
   "source": [
    "data['review_cleaned'] = data['review'].apply(lambda review: review.lower())"
   ]
  },
  {
   "cell_type": "code",
   "execution_count": 6,
   "metadata": {},
   "outputs": [
    {
     "data": {
      "text/html": [
       "<div>\n",
       "<style scoped>\n",
       "    .dataframe tbody tr th:only-of-type {\n",
       "        vertical-align: middle;\n",
       "    }\n",
       "\n",
       "    .dataframe tbody tr th {\n",
       "        vertical-align: top;\n",
       "    }\n",
       "\n",
       "    .dataframe thead th {\n",
       "        text-align: right;\n",
       "    }\n",
       "</style>\n",
       "<table border=\"1\" class=\"dataframe\">\n",
       "  <thead>\n",
       "    <tr style=\"text-align: right;\">\n",
       "      <th></th>\n",
       "      <th>sentiment</th>\n",
       "      <th>review</th>\n",
       "      <th>review_cleaned</th>\n",
       "    </tr>\n",
       "  </thead>\n",
       "  <tbody>\n",
       "    <tr>\n",
       "      <th>0</th>\n",
       "      <td>1</td>\n",
       "      <td>Good but need updates and improvements</td>\n",
       "      <td>good but need updates and improvements</td>\n",
       "    </tr>\n",
       "    <tr>\n",
       "      <th>1</th>\n",
       "      <td>0</td>\n",
       "      <td>Worst mobile i have bought ever, Battery is dr...</td>\n",
       "      <td>worst mobile i have bought ever, battery is dr...</td>\n",
       "    </tr>\n",
       "    <tr>\n",
       "      <th>2</th>\n",
       "      <td>1</td>\n",
       "      <td>when I will get my 10% cash back.... its alrea...</td>\n",
       "      <td>when i will get my 10% cash back.... its alrea...</td>\n",
       "    </tr>\n",
       "    <tr>\n",
       "      <th>3</th>\n",
       "      <td>1</td>\n",
       "      <td>Good</td>\n",
       "      <td>good</td>\n",
       "    </tr>\n",
       "    <tr>\n",
       "      <th>4</th>\n",
       "      <td>0</td>\n",
       "      <td>The worst phone everThey have changed the last...</td>\n",
       "      <td>the worst phone everthey have changed the last...</td>\n",
       "    </tr>\n",
       "  </tbody>\n",
       "</table>\n",
       "</div>"
      ],
      "text/plain": [
       "   sentiment                                             review  \\\n",
       "0          1             Good but need updates and improvements   \n",
       "1          0  Worst mobile i have bought ever, Battery is dr...   \n",
       "2          1  when I will get my 10% cash back.... its alrea...   \n",
       "3          1                                               Good   \n",
       "4          0  The worst phone everThey have changed the last...   \n",
       "\n",
       "                                      review_cleaned  \n",
       "0             good but need updates and improvements  \n",
       "1  worst mobile i have bought ever, battery is dr...  \n",
       "2  when i will get my 10% cash back.... its alrea...  \n",
       "3                                               good  \n",
       "4  the worst phone everthey have changed the last...  "
      ]
     },
     "execution_count": 6,
     "metadata": {},
     "output_type": "execute_result"
    }
   ],
   "source": [
    "data.head()"
   ]
  },
  {
   "cell_type": "markdown",
   "metadata": {},
   "source": [
    "#### 3. Tokenize the reviews using NLTKs word_tokenize function."
   ]
  },
  {
   "cell_type": "code",
   "execution_count": 7,
   "metadata": {},
   "outputs": [],
   "source": [
    "reviews = data['review_cleaned']\n",
    "reviews = [nltk.word_tokenize(review) for review in reviews]"
   ]
  },
  {
   "cell_type": "code",
   "execution_count": 8,
   "metadata": {},
   "outputs": [
    {
     "data": {
      "text/plain": [
       "14675"
      ]
     },
     "execution_count": 8,
     "metadata": {},
     "output_type": "execute_result"
    }
   ],
   "source": [
    "len(reviews)"
   ]
  },
  {
   "cell_type": "code",
   "execution_count": 9,
   "metadata": {},
   "outputs": [
    {
     "name": "stdout",
     "output_type": "stream",
     "text": [
      "[['good', 'but', 'need', 'updates', 'and', 'improvements'],\n",
      " ['worst', 'mobile', 'i', 'have', 'bought', 'ever', ',', 'battery', 'is',\n",
      "  'draining', 'like', 'hell', ',', 'backup', 'is', 'only', '6', 'to', '7',\n",
      "  'hours', 'with', 'internet', 'uses', ',', 'even', 'if', 'i', 'put', 'mobile',\n",
      "  'idle', 'its', 'getting', 'discharged.this', 'is', 'biggest', 'lie', 'from',\n",
      "  'amazon', '&', 'lenove', 'which', 'is', 'not', 'at', 'all', 'expected', ',',\n",
      "  'they', 'are', 'making', 'full', 'by', 'saying', 'that', 'battery', 'is',\n",
      "  '4000mah', '&', 'booster', 'charger', 'is', 'fake', ',', 'it', 'takes', 'at',\n",
      "  'least', '4', 'to', '5', 'hours', 'to', 'be', 'fully', 'charged.do', \"n't\",\n",
      "  'know', 'how', 'lenovo', 'will', 'survive', 'by', 'making', 'full', 'of',\n",
      "  'us.please', 'don', ';', 't', 'go', 'for', 'this', 'else', 'you', 'will',\n",
      "  'regret', 'like', 'me', '.'],\n",
      " ['when', 'i', 'will', 'get', 'my', '10', '%', 'cash', 'back', '...', '.',\n",
      "  'its', 'already', '15', 'january..'],\n",
      " ['good'],\n",
      " ['the', 'worst', 'phone', 'everthey', 'have', 'changed', 'the', 'last',\n",
      "  'phone', 'but', 'the', 'problem', 'is', 'still', 'same', 'and', 'the',\n",
      "  'amazon', 'is', 'not', 'returning', 'the', 'phone', '.highly',\n",
      "  'disappointing', 'of', 'amazon']]\n"
     ]
    }
   ],
   "source": [
    "pprint(reviews[:5], compact=True)"
   ]
  },
  {
   "cell_type": "markdown",
   "metadata": {},
   "source": [
    "#### 4. Perform parts-of-speech tagging on each document using the NLTK POS tagger"
   ]
  },
  {
   "cell_type": "code",
   "execution_count": 10,
   "metadata": {},
   "outputs": [
    {
     "name": "stdout",
     "output_type": "stream",
     "text": [
      "[[('good', 'JJ'), ('but', 'CC'), ('need', 'VBP'), ('updates', 'NNS'),\n",
      "  ('and', 'CC'), ('improvements', 'NNS')],\n",
      " [('worst', 'JJS'), ('mobile', 'NN'), ('i', 'NN'), ('have', 'VBP'),\n",
      "  ('bought', 'VBN'), ('ever', 'RB'), (',', ','), ('battery', 'NN'),\n",
      "  ('is', 'VBZ'), ('draining', 'VBG'), ('like', 'IN'), ('hell', 'NN'),\n",
      "  (',', ','), ('backup', 'NN'), ('is', 'VBZ'), ('only', 'RB'), ('6', 'CD'),\n",
      "  ('to', 'TO'), ('7', 'CD'), ('hours', 'NNS'), ('with', 'IN'),\n",
      "  ('internet', 'JJ'), ('uses', 'NNS'), (',', ','), ('even', 'RB'), ('if', 'IN'),\n",
      "  ('i', 'JJ'), ('put', 'VBP'), ('mobile', 'JJ'), ('idle', 'NN'),\n",
      "  ('its', 'PRP$'), ('getting', 'VBG'), ('discharged.this', 'NN'), ('is', 'VBZ'),\n",
      "  ('biggest', 'JJS'), ('lie', 'NN'), ('from', 'IN'), ('amazon', 'NN'),\n",
      "  ('&', 'CC'), ('lenove', 'NN'), ('which', 'WDT'), ('is', 'VBZ'), ('not', 'RB'),\n",
      "  ('at', 'IN'), ('all', 'DT'), ('expected', 'VBN'), (',', ','), ('they', 'PRP'),\n",
      "  ('are', 'VBP'), ('making', 'VBG'), ('full', 'JJ'), ('by', 'IN'),\n",
      "  ('saying', 'VBG'), ('that', 'DT'), ('battery', 'NN'), ('is', 'VBZ'),\n",
      "  ('4000mah', 'CD'), ('&', 'CC'), ('booster', 'JJR'), ('charger', 'NN'),\n",
      "  ('is', 'VBZ'), ('fake', 'JJ'), (',', ','), ('it', 'PRP'), ('takes', 'VBZ'),\n",
      "  ('at', 'IN'), ('least', 'JJS'), ('4', 'CD'), ('to', 'TO'), ('5', 'CD'),\n",
      "  ('hours', 'NNS'), ('to', 'TO'), ('be', 'VB'), ('fully', 'RB'),\n",
      "  ('charged.do', 'VBP'), (\"n't\", 'RB'), ('know', 'VB'), ('how', 'WRB'),\n",
      "  ('lenovo', 'JJ'), ('will', 'MD'), ('survive', 'VB'), ('by', 'IN'),\n",
      "  ('making', 'VBG'), ('full', 'JJ'), ('of', 'IN'), ('us.please', 'JJ'),\n",
      "  ('don', 'NN'), (';', ':'), ('t', 'CC'), ('go', 'VB'), ('for', 'IN'),\n",
      "  ('this', 'DT'), ('else', 'JJ'), ('you', 'PRP'), ('will', 'MD'),\n",
      "  ('regret', 'VB'), ('like', 'IN'), ('me', 'PRP'), ('.', '.')],\n",
      " [('when', 'WRB'), ('i', 'NN'), ('will', 'MD'), ('get', 'VB'), ('my', 'PRP$'),\n",
      "  ('10', 'CD'), ('%', 'NN'), ('cash', 'NN'), ('back', 'RB'), ('...', ':'),\n",
      "  ('.', '.'), ('its', 'PRP$'), ('already', 'RB'), ('15', 'CD'),\n",
      "  ('january..', 'NN')],\n",
      " [('good', 'JJ')],\n",
      " [('the', 'DT'), ('worst', 'JJS'), ('phone', 'NN'), ('everthey', 'NN'),\n",
      "  ('have', 'VBP'), ('changed', 'VBN'), ('the', 'DT'), ('last', 'JJ'),\n",
      "  ('phone', 'NN'), ('but', 'CC'), ('the', 'DT'), ('problem', 'NN'),\n",
      "  ('is', 'VBZ'), ('still', 'RB'), ('same', 'JJ'), ('and', 'CC'), ('the', 'DT'),\n",
      "  ('amazon', 'NN'), ('is', 'VBZ'), ('not', 'RB'), ('returning', 'VBG'),\n",
      "  ('the', 'DT'), ('phone', 'NN'), ('.highly', 'RB'), ('disappointing', 'JJ'),\n",
      "  ('of', 'IN'), ('amazon', 'NN')]]\n",
      "Wall time: 27.7 s\n"
     ]
    }
   ],
   "source": [
    "%%time\n",
    "review_pos_tags = [nltk.pos_tag(doc) for doc in reviews]\n",
    "pprint(review_pos_tags[:5], compact=True)"
   ]
  },
  {
   "cell_type": "markdown",
   "metadata": {},
   "source": [
    "#### 5. Including only nouns for building the Topic Model"
   ]
  },
  {
   "cell_type": "code",
   "execution_count": 11,
   "metadata": {},
   "outputs": [
    {
     "name": "stdout",
     "output_type": "stream",
     "text": [
      "[['updates', 'improvements'],\n",
      " ['mobile', 'i', 'battery', 'hell', 'backup', 'hours', 'uses', 'idle',\n",
      "  'discharged.this', 'lie', 'amazon', 'lenove', 'battery', 'charger', 'hours',\n",
      "  'don'],\n",
      " ['i', '%', 'cash', 'january..'], [],\n",
      " ['phone', 'everthey', 'phone', 'problem', 'amazon', 'phone', 'amazon']]\n"
     ]
    }
   ],
   "source": [
    "review_nouns = [[token for token, pos in doc if pos.startswith('NN')] for doc in review_pos_tags]\n",
    "pprint(review_nouns[:5], compact=True)"
   ]
  },
  {
   "cell_type": "markdown",
   "metadata": {},
   "source": [
    "#### 6. Lemmatize"
   ]
  },
  {
   "cell_type": "code",
   "execution_count": 12,
   "metadata": {},
   "outputs": [
    {
     "name": "stdout",
     "output_type": "stream",
     "text": [
      "[['update', 'improvement'],\n",
      " ['mobile', 'i', 'battery', 'hell', 'backup', 'hour', 'us', 'idle',\n",
      "  'discharged.this', 'lie', 'amazon', 'lenove', 'battery', 'charger', 'hour',\n",
      "  'don'],\n",
      " ['i', '%', 'cash', 'january..'], [],\n",
      " ['phone', 'everthey', 'phone', 'problem', 'amazon', 'phone', 'amazon']]\n",
      "Wall time: 3.13 s\n"
     ]
    }
   ],
   "source": [
    "%%time\n",
    "review_lemmatized = [[nltk.stem.WordNetLemmatizer().lemmatize(token) for token in doc] for doc in review_nouns]\n",
    "pprint(review_lemmatized[:5],compact=True)"
   ]
  },
  {
   "cell_type": "markdown",
   "metadata": {},
   "source": [
    "#### 7. Remove stopwords and punctuation (if there are any)."
   ]
  },
  {
   "cell_type": "code",
   "execution_count": 13,
   "metadata": {},
   "outputs": [
    {
     "name": "stdout",
     "output_type": "stream",
     "text": [
      "[['update', 'improvement'],\n",
      " ['mobile', 'battery', 'hell', 'backup', 'hour', 'us', 'idle', 'lie', 'amazon',\n",
      "  'lenove', 'battery', 'charger', 'hour'],\n",
      " ['cash'], [],\n",
      " ['phone', 'everthey', 'phone', 'problem', 'amazon', 'phone', 'amazon']]\n",
      "Wall time: 25.9 s\n"
     ]
    }
   ],
   "source": [
    "%%time\n",
    "review_no_sw = [[token for token in doc if token not in nltk.corpus.stopwords.words('english') \n",
    "                 and token.isalpha()] \n",
    "                for doc in review_lemmatized]\n",
    "pprint(review_no_sw[:5], compact=True)"
   ]
  },
  {
   "cell_type": "markdown",
   "metadata": {},
   "source": [
    "#### 8. Create a topic model using LDA on the cleaned up data with 12 topics."
   ]
  },
  {
   "cell_type": "code",
   "execution_count": 14,
   "metadata": {},
   "outputs": [],
   "source": [
    "# Build a Dictionary - association word to numeric id\n",
    "dictionary = gensim.corpora.Dictionary(review_no_sw)\n",
    "# Transform the collection of texts to a numerical form\n",
    "corpus = [dictionary.doc2bow(text) for text in review_no_sw]"
   ]
  },
  {
   "cell_type": "code",
   "execution_count": 15,
   "metadata": {},
   "outputs": [],
   "source": [
    "NUM_TOPICS = 12\n",
    "lda_model = gensim.models.LdaModel(corpus=corpus, num_topics=NUM_TOPICS, id2word=dictionary, random_state=1)"
   ]
  },
  {
   "cell_type": "markdown",
   "metadata": {},
   "source": [
    "#### 8.1 Print out the top terms for each topic."
   ]
  },
  {
   "cell_type": "code",
   "execution_count": 16,
   "metadata": {},
   "outputs": [
    {
     "name": "stdout",
     "output_type": "stream",
     "text": [
      "LDA Model:\n",
      "('Topic #0: 0.070*\"battery\" + 0.043*\"phone\" + 0.042*\"screen\" + 0.037*\"day\" + '\n",
      " '0.023*\"camera\" + 0.019*\"ram\" + 0.016*\"note\" + 0.015*\"hr\" + 0.014*\"time\" + '\n",
      " '0.014*\"app\"')\n",
      "('Topic #1: 0.371*\"mobile\" + 0.046*\"glass\" + 0.040*\"buy\" + 0.032*\"phone\" + '\n",
      " '0.025*\"gorilla\" + 0.017*\"purchase\" + 0.016*\"star\" + 0.013*\"mi\" + '\n",
      " '0.012*\"jata\" + 0.011*\"rating\"')\n",
      "('Topic #2: 0.087*\"issue\" + 0.083*\"phone\" + 0.056*\"network\" + 0.025*\"sim\" + '\n",
      " '0.024*\"note\" + 0.024*\"call\" + 0.023*\"time\" + 0.023*\"battery\" + '\n",
      " '0.017*\"problem\" + 0.015*\"jio\"')\n",
      "('Topic #3: 0.210*\"product\" + 0.095*\"phone\" + 0.053*\"service\" + 0.042*\"lenovo\" '\n",
      " '+ 0.025*\"amazon\" + 0.018*\"customer\" + 0.017*\"time\" + 0.016*\"please\" + '\n",
      " '0.015*\"center\" + 0.015*\"day\"')\n",
      "('Topic #4: 0.081*\"battery\" + 0.046*\"device\" + 0.039*\"hour\" + 0.028*\"charging\" '\n",
      " '+ 0.025*\"drain\" + 0.025*\"camera\" + 0.025*\"day\" + 0.024*\"amazon\" + '\n",
      " '0.023*\"speaker\" + 0.022*\"problem\"')\n",
      "('Topic #5: 0.144*\"camera\" + 0.050*\"phone\" + 0.027*\"mode\" + 0.025*\"hai\" + '\n",
      " '0.019*\"quality\" + 0.017*\"depth\" + 0.017*\"battery\" + 0.017*\"charger\" + '\n",
      " '0.015*\"photo\" + 0.015*\"feature\"')\n",
      "('Topic #6: 0.167*\"battery\" + 0.088*\"phone\" + 0.071*\"backup\" + 0.062*\"heating\" '\n",
      " '+ 0.060*\"heat\" + 0.058*\"problem\" + 0.048*\"issue\" + 0.046*\"time\" + '\n",
      " '0.028*\"delivery\" + 0.017*\"thanks\"')\n",
      "('Topic #7: 0.074*\"phone\" + 0.062*\"superb\" + 0.029*\"work\" + 0.025*\"earphone\" + '\n",
      " '0.024*\"smartphone\" + 0.023*\"user\" + 0.022*\"awesome\" + 0.020*\"contact\" + '\n",
      " '0.016*\"option\" + 0.016*\"feature\"')\n",
      "('Topic #8: 0.128*\"camera\" + 0.123*\"quality\" + 0.062*\"phone\" + 0.040*\"display\" '\n",
      " '+ 0.034*\"battery\" + 0.028*\"h\" + 0.023*\"problem\" + 0.018*\"budget\" + '\n",
      " '0.016*\"performance\" + 0.016*\"picture\"')\n",
      "('Topic #9: 0.176*\"price\" + 0.121*\"phone\" + 0.066*\"range\" + 0.051*\"feature\" + '\n",
      " '0.020*\"excellent\" + 0.019*\"set\" + 0.019*\"camera\" + 0.017*\"system\" + '\n",
      " '0.015*\"function\" + 0.014*\"option\"')\n",
      "('Topic #10: 0.113*\"money\" + 0.079*\"note\" + 0.052*\"waste\" + 0.048*\"phone\" + '\n",
      " '0.047*\"value\" + 0.024*\"product\" + 0.019*\"dolby\" + 0.017*\"speed\" + '\n",
      " '0.016*\"atmos\" + 0.015*\"everything\"')\n",
      "('Topic #11: 0.293*\"phone\" + 0.054*\"problem\" + 0.046*\"performance\" + '\n",
      " '0.034*\"battery\" + 0.030*\"camera\" + 0.026*\"month\" + 0.018*\"day\" + '\n",
      " '0.012*\"look\" + 0.012*\"bit\" + 0.011*\"super\"')\n"
     ]
    }
   ],
   "source": [
    "print(\"LDA Model:\")\n",
    " \n",
    "for idx in range(NUM_TOPICS):\n",
    "    # Print the first 10 most representative topics\n",
    "    pprint(\"Topic #{}: {}\".format(idx, lda_model.print_topic(idx, 10)), compact=True)"
   ]
  },
  {
   "cell_type": "markdown",
   "metadata": {},
   "source": [
    "#### Visualising the topic model as per problem statement"
   ]
  },
  {
   "cell_type": "code",
   "execution_count": 17,
   "metadata": {},
   "outputs": [
    {
     "data": {
      "text/html": [
       "\n",
       "<link rel=\"stylesheet\" type=\"text/css\" href=\"https://cdn.rawgit.com/bmabey/pyLDAvis/files/ldavis.v1.0.0.css\">\n",
       "\n",
       "\n",
       "<div id=\"ldavis_el1176022926827468805266066858\"></div>\n",
       "<script type=\"text/javascript\">\n",
       "\n",
       "var ldavis_el1176022926827468805266066858_data = {\"mdsDat\": {\"x\": [0.06266855553997136, 0.09611576274985323, 0.053151297441543253, -0.013537984011874206, 0.0412867139461959, 0.08260315826242674, 0.13381345429425667, 0.15754111314094701, -0.08252742956220123, -0.13787584661636496, -0.11325177571472127, -0.27998701947003274], \"y\": [-0.08511629912491975, 0.026157906514506297, 0.19022860668795866, -0.16645466964830632, 0.002237996581015709, 0.1408301658459176, -0.09094555869546135, -0.06128719066296583, -0.06538648051417065, 0.1052357379995134, 0.06554292615703919, -0.06104314114012732], \"topics\": [1, 2, 3, 4, 5, 6, 7, 8, 9, 10, 11, 12], \"cluster\": [1, 1, 1, 1, 1, 1, 1, 1, 1, 1, 1, 1], \"Freq\": [11.862483024597168, 11.853811264038086, 10.86954402923584, 10.68000316619873, 9.842620849609375, 9.113232612609863, 8.402766227722168, 7.17101526260376, 6.00213623046875, 5.4328155517578125, 4.400358200073242, 4.369218826293945]}, \"tinfo\": {\"Term\": [\"mobile\", \"product\", \"price\", \"battery\", \"phone\", \"camera\", \"money\", \"quality\", \"issue\", \"network\", \"backup\", \"service\", \"heat\", \"note\", \"heating\", \"range\", \"problem\", \"waste\", \"superb\", \"value\", \"display\", \"device\", \"hour\", \"glass\", \"feature\", \"screen\", \"h\", \"time\", \"performance\", \"hai\", \"lte\", \"place\", \"coverage\", \"jio\", \"caller\", \"idea\", \"id\", \"temperature\", \"movie\", \"reality\", \"volta\", \"round\", \"okay\", \"pad\", \"multi\", \"india\", \"book\", \"deca\", \"network\", \"aug\", \"reboot\", \"crash\", \"ear\", \"smartphones\", \"disaster\", \"gamer\", \"folder\", \"reset\", \"adaptor\", \"curve\", \"number\", \"spec\", \"sim\", \"deal\", \"difference\", \"core\", \"issue\", \"record\", \"data\", \"person\", \"min\", \"killer\", \"choice\", \"call\", \"connection\", \"lot\", \"charge\", \"connectivity\", \"brightness\", \"wifi\", \"strength\", \"update\", \"phone\", \"time\", \"note\", \"processor\", \"use\", \"hour\", \"lenovo\", \"battery\", \"problem\", \"mobile\", \"day\", \"month\", \"charger\", \"camera\", \"feature\", \"top\", \"mind\", \"file\", \"lock\", \"accessory\", \"control\", \"colour\", \"manager\", \"rom\", \"storage\", \"moment\", \"messenger\", \"gb\", \"fall\", \"matter\", \"overheating\", \"phn\", \"vodafone\", \"batter\", \"msg\", \"wow\", \"persist\", \"dot\", \"last\", \"message\", \"phoneall\", \"nougat\", \"efficient\", \"resolution\", \"rounder\", \"setting\", \"ram\", \"whatsapp\", \"item\", \"notification\", \"medium\", \"screen\", \"management\", \"sims\", \"mah\", \"hr\", \"app\", \"memory\", \"cost\", \"android\", \"video\", \"day\", \"battery\", \"condition\", \"stock\", \"life\", \"handset\", \"cast\", \"usage\", \"option\", \"phone\", \"software\", \"game\", \"note\", \"time\", \"camera\", \"sound\", \"problem\", \"call\", \"quality\", \"processor\", \"performance\", \"hai\", \"bhi\", \"raha\", \"tray\", \"right\", \"zoom\", \"rha\", \"detail\", \"yesterday\", \"flash\", \"kar\", \"improvement\", \"toh\", \"bhut\", \"cool\", \"hota\", \"se\", \"loss\", \"ye\", \"alarm\", \"tha\", \"thik\", \"usb\", \"diya\", \"gaya\", \"blur\", \"hone\", \"capture\", \"group\", \"mobail\", \"mp\", \"headphone\", \"depth\", \"bokeh\", \"front\", \"ko\", \"ka\", \"photo\", \"rear\", \"mode\", \"ho\", \"effect\", \"camera\", \"card\", \"piece\", \"need\", \"key\", \"clarity\", \"music\", \"charger\", \"cable\", \"light\", \"turbo\", \"phone\", \"quality\", \"feature\", \"image\", \"battery\", \"performance\", \"sound\", \"note\", \"sensor\", \"speaker\", \"lenovo\", \"warranty\", \"china\", \"seller\", \"icon\", \"effort\", \"bank\", \"one\", \"repair\", \"beast\", \"center\", \"technician\", \"manufacturing\", \"navigation\", \"hence\", \"centre\", \"service\", \"wife\", \"purpose\", \"go\", \"procedure\", \"visibility\", \"mera\", \"sell\", \"location\", \"osm\", \"house\", \"cheater\", \"inspite\", \"product\", \"minus\", \"defect\", \"please\", \"customer\", \"model\", \"bakwas\", \"complaint\", \"care\", \"support\", \"year\", \"lenovo\", \"amazon\", \"return\", \"lover\", \"phone\", \"charger\", \"delivery\", \"request\", \"time\", \"month\", \"day\", \"replacement\", \"note\", \"feature\", \"call\", \"problem\", \"issue\", \"software\", \"device\", \"battery\", \"super\", \"concern\", \"graphic\", \"job\", \"n\", \"phon\", \"access\", \"photography\", \"clearity\", \"standard\", \"flipkart\", \"department\", \"tag\", \"bhai\", \"smart\", \"oct\", \"batery\", \"menu\", \"ti\", \"asphalt\", \"shutter\", \"thats\", \"task\", \"pubg\", \"god\", \"september\", \"fuction\", \"perfect\", \"powerfull\", \"microphone\", \"bill\", \"weight\", \"look\", \"gaming\", \"mail\", \"phone\", \"performance\", \"month\", \"bit\", \"problem\", \"back\", \"oreo\", \"specification\", \"game\", \"day\", \"battery\", \"camera\", \"market\", \"way\", \"feature\", \"update\", \"life\", \"price\", \"amazon\", \"use\", \"heating\", \"review\", \"mark\", \"mobile\", \"lenovo\", \"quality\", \"h\", \"processing\", \"hd\", \"cell\", \"processer\", \"ad\", \"flashlight\", \"comment\", \"jyada\", \"fake\", \"series\", \"wrost\", \"penny\", \"micromax\", \"socket\", \"size\", \"step\", \"color\", \"manner\", \"factory\", \"stop\", \"result\", \"dslr\", \"mention\", \"advantage\", \"lie\", \"prise\", \"invoice\", \"functioning\", \"left\", \"pic\", \"display\", \"quality\", \"budget\", \"picture\", \"friend\", \"hotspot\", \"expectation\", \"camera\", \"mark\", \"drainage\", \"sound\", \"design\", \"k\", \"phone\", \"image\", \"battery\", \"problem\", \"performance\", \"heating\", \"video\", \"everything\", \"work\", \"note\", \"product\", \"charge\", \"mode\", \"lot\", \"mobile\", \"speaker\", \"draining\", \"lenova\", \"level\", \"bed\", \"bekar\", \"cash\", \"adapter\", \"couple\", \"g\", \"copy\", \"max\", \"provider\", \"whats\", \"world\", \"patch\", \"im\", \"style\", \"whereas\", \"plz\", \"chrome\", \"fast\", \"shopping\", \"ha\", \"none\", \"cheating\", \"heatup\", \"form\", \"turbocharger\", \"account\", \"prblm\", \"help\", \"charging\", \"good\", \"site\", \"doesnt\", \"drain\", \"worth\", \"night\", \"device\", \"stand\", \"minute\", \"refund\", \"hour\", \"replacement\", \"policy\", \"usage\", \"return\", \"speaker\", \"battery\", \"amazon\", \"date\", \"charge\", \"day\", \"turbo\", \"problem\", \"camera\", \"time\", \"charger\", \"performance\", \"experience\", \"phone\", \"issue\", \"note\", \"quality\", \"lenovo\", \"nice\", \"ok\", \"pin\", \"atom\", \"pr\", \"nhi\", \"ek\", \"gya\", \"headset\", \"optimization\", \"sir\", \"camra\", \"discharge\", \"hu\", \"aspect\", \"cpu\", \"heat\", \"brother\", \"risk\", \"pick\", \"payment\", \"wise\", \"warm\", \"others\", \"b\", \"thanks\", \"dad\", \"yes\", \"iska\", \"tooo\", \"backup\", \"heating\", \"delivery\", \"gesture\", \"hang\", \"battery\", \"get\", \"word\", \"side\", \"time\", \"problem\", \"issue\", \"phone\", \"life\", \"speed\", \"speaker\", \"clarity\", \"camera\", \"till\", \"hour\", \"processor\", \"future\", \"facility\", \"working\", \"mob\", \"wastage\", \"value\", \"browsing\", \"rupee\", \"recorder\", \"pack\", \"generation\", \"news\", \"degree\", \"manufacturer\", \"recharge\", \"electronics\", \"corner\", \"money\", \"waste\", \"premium\", \"section\", \"screenshot\", \"nano\", \"competition\", \"verry\", \"station\", \"family\", \"coz\", \"atmos\", \"tap\", \"pls\", \"motorola\", \"exchange\", \"buying\", \"version\", \"dolby\", \"store\", \"note\", \"view\", \"tv\", \"cast\", \"signal\", \"speed\", \"everything\", \"anything\", \"drop\", \"experience\", \"call\", \"phone\", \"product\", \"feature\", \"sound\", \"lenovo\", \"quality\", \"mobile\", \"camera\", \"amazon\", \"problem\", \"excellent\", \"complain\", \"pc\", \"category\", \"battry\", \"mast\", \"example\", \"isme\", \"car\", \"ph\", \"goog\", \"love\", \"feeling\", \"sensing\", \"fone\", \"vr\", \"lena\", \"everytime\", \"kharab\", \"set\", \"assistant\", \"percentage\", \"head\", \"bulky\", \"bilkul\", \"disadvantage\", \"slim\", \"respect\", \"price\", \"networking\", \"range\", \"net\", \"fine\", \"function\", \"cam\", \"r\", \"shot\", \"anyone\", \"type\", \"system\", \"feature\", \"nothing\", \"phone\", \"offer\", \"etc\", \"box\", \"option\", \"gallery\", \"everything\", \"camera\", \"recording\", \"screen\", \"quality\", \"apps\", \"time\", \"experience\", \"superb\", \"awesome\", \"half\", \"functionality\", \"ringtone\", \"switch\", \"kiya\", \"limit\", \"damage\", \"order\", \"camara\", \"rock\", \"office\", \"multimedia\", \"gud\", \"mobil\", \"launch\", \"operation\", \"hv\", \"vibration\", \"operating\", \"gift\", \"variant\", \"shortcut\", \"technology\", \"thank\", \"combination\", \"inbuilt\", \"line\", \"nokia\", \"earphone\", \"interface\", \"smartphone\", \"contact\", \"class\", \"user\", \"work\", \"jack\", \"team\", \"specification\", \"touch\", \"week\", \"hi\", \"phone\", \"option\", \"review\", \"auto\", \"feature\", \"power\", \"lenovo\", \"camera\", \"music\", \"company\", \"software\", \"jata\", \"comparison\", \"protection\", \"lenevo\", \"talk\", \"crack\", \"chromecast\", \"awsome\", \"mean\", \"comapre\", \"scratch\", \"buy\", \"executive\", \"gorilla\", \"glass\", \"think\", \"mine\", \"information\", \"resistant\", \"timing\", \"fon\", \"mobile\", \"backlight\", \"mother\", \"run\", \"simple\", \"mistake\", \"board\", \"rating\", \"prize\", \"mi\", \"segment\", \"water\", \"purchase\", \"restart\", \"iron\", \"star\", \"u\", \"date\", \"part\", \"phone\", \"hand\", \"price\", \"feature\", \"camera\", \"cost\", \"product\", \"range\", \"day\"], \"Freq\": [1666.0, 2176.0, 940.0, 3159.0, 6989.0, 3218.0, 620.0, 1411.0, 1430.0, 578.0, 582.0, 496.0, 393.0, 1172.0, 612.0, 365.0, 1517.0, 287.0, 222.0, 237.0, 364.0, 465.0, 471.0, 188.0, 857.0, 571.0, 207.0, 970.0, 843.0, 223.0, 47.06150817871094, 29.209667205810547, 22.82432746887207, 145.15966796875, 28.757225036621094, 25.772117614746094, 17.592269897460938, 18.44322395324707, 16.395572662353516, 16.9672908782959, 138.96768188476562, 16.004016876220703, 14.524243354797363, 13.776388168334961, 15.907946586608887, 12.224495887756348, 12.94633674621582, 58.46431350708008, 533.2619018554688, 11.082518577575684, 11.283388137817383, 10.992039680480957, 14.034423828125, 9.65182876586914, 10.814922332763672, 13.855306625366211, 9.411693572998047, 12.421643257141113, 8.58031177520752, 8.483553886413574, 66.497314453125, 43.39048767089844, 235.91233825683594, 31.982269287109375, 23.960588455200195, 83.69364929199219, 833.374267578125, 21.326318740844727, 120.88909149169922, 43.90679931640625, 87.54010009765625, 66.8797836303711, 33.614891052246094, 230.33030700683594, 47.84788513183594, 139.58096313476562, 139.88841247558594, 49.99528503417969, 43.14543533325195, 47.86636734008789, 32.81026077270508, 141.44842529296875, 792.1616821289062, 218.2650909423828, 231.55384826660156, 106.5826644897461, 86.45893096923828, 105.6872787475586, 129.53317260742188, 217.40890502929688, 158.4099884033203, 121.84345245361328, 97.45598602294922, 80.99310302734375, 75.4664306640625, 103.51287078857422, 72.0855484008789, 42.071990966796875, 36.987571716308594, 32.02725601196289, 39.918907165527344, 38.59830093383789, 21.160247802734375, 24.48874855041504, 21.57337188720703, 25.835420608520508, 50.80879592895508, 16.867403030395508, 16.24489974975586, 105.42314910888672, 31.187057495117188, 18.9724178314209, 13.839611053466797, 38.01605224609375, 11.795685768127441, 17.22286033630371, 13.662040710449219, 13.320273399353027, 10.930831909179688, 9.69117259979248, 9.623970031738281, 93.36943054199219, 9.496308326721191, 9.379218101501465, 9.215903282165527, 58.809322357177734, 8.436619758605957, 35.98670196533203, 185.12362670898438, 38.33165740966797, 63.24467086791992, 101.3049087524414, 36.97773742675781, 403.4080810546875, 45.54999542236328, 21.560184478759766, 87.77471160888672, 139.0820770263672, 136.4219970703125, 76.46040344238281, 57.84410095214844, 101.26568603515625, 126.83427429199219, 350.41168212890625, 667.484130859375, 60.788047790527344, 82.9283218383789, 132.49034118652344, 94.6050033569336, 75.6980209350586, 92.4147720336914, 109.83546447753906, 404.6275634765625, 101.53372955322266, 76.8059310913086, 156.59950256347656, 137.9709014892578, 218.63218688964844, 85.62855529785156, 120.79812622070312, 84.23941040039062, 91.57691192626953, 68.50762939453125, 71.75927734375, 219.68276977539062, 52.59157943725586, 33.27329635620117, 26.716266632080078, 27.166784286499023, 27.03924560546875, 26.623075485229492, 26.141231536865234, 32.75636291503906, 102.51642608642578, 21.39581298828125, 44.361167907714844, 21.613338470458984, 21.355205535888672, 20.604774475097656, 27.928932189941406, 32.75733184814453, 18.92987060546875, 38.63437271118164, 18.2807559967041, 33.55363845825195, 17.48680305480957, 17.234601974487305, 16.95306968688965, 17.4698543548584, 26.208784103393555, 15.983402252197266, 14.415217399597168, 14.361175537109375, 14.181427955627441, 94.81285858154297, 111.49010467529297, 148.6737518310547, 25.405132293701172, 110.4469985961914, 37.134979248046875, 26.147066116333008, 133.84298706054688, 46.039703369140625, 239.5554656982422, 81.13884735107422, 83.77870178222656, 1255.4984130859375, 88.77615356445312, 75.65925598144531, 69.49519348144531, 71.50621795654297, 85.36497497558594, 109.95292663574219, 144.0979766845703, 43.61896514892578, 72.08719635009766, 76.7455062866211, 438.6659240722656, 166.47116088867188, 129.5535888671875, 58.21309280395508, 144.16094970703125, 81.49120330810547, 64.35421752929688, 76.44831085205078, 54.440792083740234, 58.713504791259766, 56.83473587036133, 62.72944641113281, 28.707380294799805, 33.850582122802734, 24.502973556518555, 19.94049835205078, 19.364845275878906, 53.522491455078125, 17.071311950683594, 21.107032775878906, 132.51524353027344, 13.41446304321289, 12.542916297912598, 15.366911888122559, 15.322507858276367, 73.49697875976562, 456.97259521484375, 11.317791938781738, 10.018445014953613, 12.085341453552246, 8.557561874389648, 8.262189865112305, 18.879436492919922, 6.550298690795898, 15.778854370117188, 5.868380069732666, 6.357900619506836, 5.610037326812744, 5.324944496154785, 1804.369384765625, 14.402867317199707, 31.19007110595703, 141.15748596191406, 153.97406005859375, 97.95221710205078, 12.282430648803711, 47.656253814697266, 68.68504333496094, 104.8433837890625, 42.623321533203125, 363.10845947265625, 214.9127655029297, 90.59452819824219, 25.97372055053711, 814.4343872070312, 118.19396209716797, 82.6296157836914, 36.2346076965332, 142.70785522460938, 94.74673461914062, 125.77759552001953, 54.62251281738281, 110.84149932861328, 94.71142578125, 71.85842895507812, 99.28518676757812, 68.17688751220703, 49.695064544677734, 51.56153869628906, 51.38395309448242, 89.86573791503906, 41.95332336425781, 35.36442565917969, 20.964262008666992, 45.92949676513672, 19.9245548248291, 18.905120849609375, 20.56349754333496, 17.85489273071289, 19.429622650146484, 16.043712615966797, 15.17589282989502, 13.732466697692871, 13.420930862426758, 20.03582191467285, 11.647597312927246, 11.043936729431152, 10.769233703613281, 10.268190383911133, 11.670666694641113, 9.373573303222656, 8.601333618164062, 9.040616989135742, 8.364275932312012, 9.908738136291504, 10.411931991577148, 8.100309371948242, 19.23689079284668, 7.570716381072998, 7.523437023162842, 50.75155258178711, 39.26311111450195, 95.57345581054688, 44.239376068115234, 27.259794235229492, 2319.02734375, 367.3659973144531, 206.9990234375, 93.49886322021484, 422.93511962890625, 21.230714797973633, 31.161855697631836, 47.40843200683594, 68.04389953613281, 145.72103881835938, 265.07843017578125, 240.6011505126953, 24.477821350097656, 29.685367584228516, 79.68260955810547, 57.76055908203125, 52.892215728759766, 72.07112121582031, 57.24348831176758, 44.128883361816406, 54.15009307861328, 35.40080642700195, 33.898990631103516, 56.27256393432617, 44.47419738769531, 38.470218658447266, 205.7459716796875, 41.88615798950195, 38.651084899902344, 65.0665054321289, 23.11672019958496, 16.99220848083496, 18.521379470825195, 15.95322322845459, 15.474359512329102, 14.63654613494873, 22.768672943115234, 18.06965446472168, 13.82496166229248, 11.092916488647461, 9.859745979309082, 31.13555335998535, 9.234150886535645, 63.051231384277344, 9.456671714782715, 7.973435401916504, 24.68402099609375, 45.040061950683594, 8.200119972229004, 6.957884788513184, 6.829695224761963, 6.476889610290527, 5.996765613555908, 27.4393253326416, 5.869399547576904, 5.645425319671631, 63.35868835449219, 294.037841796875, 896.813232421875, 133.96974182128906, 114.79302215576172, 29.622934341430664, 26.582883834838867, 77.1775894165039, 938.79931640625, 86.24407958984375, 28.891338348388672, 97.29634094238281, 36.19999313354492, 37.22156524658203, 453.5307922363281, 50.22589111328125, 248.80738830566406, 169.24099731445312, 116.77764892578125, 80.45115661621094, 54.635215759277344, 56.312255859375, 48.69777297973633, 76.16852569580078, 74.69184112548828, 47.56435775756836, 46.918731689453125, 43.76713180541992, 49.15937423706055, 39.31146240234375, 45.0605583190918, 32.81508255004883, 47.33469009399414, 26.861745834350586, 26.844829559326172, 33.520870208740234, 22.3986759185791, 30.779455184936523, 18.412256240844727, 18.288516998291016, 25.25955581665039, 15.162084579467773, 14.080012321472168, 14.955574035644531, 10.945679664611816, 14.971633911132812, 7.8930816650390625, 8.28240966796875, 55.65773391723633, 8.27427864074707, 64.64696502685547, 7.329038143157959, 6.985833644866943, 8.543706893920898, 6.56671142578125, 6.360424995422363, 6.625275135040283, 9.483440399169922, 8.824905395507812, 5.788171291351318, 47.65382766723633, 187.7198028564453, 27.269344329833984, 28.688505172729492, 22.703933715820312, 171.4775390625, 89.8746109008789, 51.475120544433594, 307.8322448730469, 15.241642951965332, 71.79056549072266, 79.00566101074219, 263.8912353515625, 124.19916534423828, 67.97445678710938, 115.55900573730469, 98.11555480957031, 153.49002075195312, 547.3870239257812, 159.8577423095703, 42.23218536376953, 95.58883666992188, 165.908935546875, 72.77986145019531, 151.74563598632812, 169.82586669921875, 102.52606964111328, 73.4348373413086, 88.544677734375, 58.059207916259766, 126.88721466064453, 85.76033782958984, 72.11862182617188, 53.3851203918457, 52.21897506713867, 54.009952545166016, 92.75386810302734, 24.912511825561523, 21.95223045349121, 17.23247718811035, 21.33022117614746, 19.95433235168457, 14.979377746582031, 52.030975341796875, 13.061949729919434, 35.953086853027344, 10.185826301574707, 29.409103393554688, 14.072683334350586, 7.640469074249268, 7.576226234436035, 348.1784362792969, 7.389437198638916, 6.900468826293945, 6.570419788360596, 6.05086088180542, 42.97135925292969, 17.457630157470703, 30.458906173706055, 14.096036911010742, 98.08584594726562, 5.134917736053467, 4.697226524353027, 4.367447376251221, 4.350212097167969, 409.6346130371094, 355.0914001464844, 161.8300018310547, 13.913461685180664, 77.99412536621094, 964.1422119140625, 28.10343360900879, 23.93297576904297, 55.0658073425293, 262.0629577636719, 334.3560791015625, 275.3226013183594, 506.7878112792969, 53.39398193359375, 46.10096740722656, 47.38158416748047, 33.39009094238281, 69.19347381591797, 26.661027908325195, 32.64105987548828, 25.673721313476562, 45.13496780395508, 59.15131759643555, 31.9515323638916, 26.840559005737305, 18.159164428710938, 225.54090881347656, 25.74897003173828, 16.704301834106445, 58.404945373535156, 15.707976341247559, 10.382092475891113, 10.297954559326172, 11.488360404968262, 9.721898078918457, 9.020180702209473, 7.334975719451904, 7.4142842292785645, 545.1893310546875, 251.48367309570312, 6.582014560699463, 6.5084404945373535, 10.071603775024414, 6.924912929534912, 6.147007942199707, 5.609243869781494, 7.450814723968506, 5.235891819000244, 4.742260456085205, 77.90999603271484, 6.028900623321533, 53.001220703125, 31.857812881469727, 29.79004669189453, 32.44059371948242, 59.02042770385742, 93.87745666503906, 17.791940689086914, 381.6058349609375, 12.739839553833008, 33.491512298583984, 63.24622344970703, 49.56072235107422, 79.6596450805664, 73.09902954101562, 24.60457420349121, 19.19232177734375, 56.77949142456055, 67.1669921875, 230.37738037109375, 114.15843200683594, 70.83965301513672, 48.761314392089844, 64.56172943115234, 54.21659851074219, 51.56294631958008, 43.55295944213867, 36.08726119995117, 32.9225959777832, 89.23863220214844, 45.78903579711914, 30.10477638244629, 22.403079986572266, 18.65812110900879, 17.943069458007812, 12.833983421325684, 11.206332206726074, 10.913552284240723, 19.08650016784668, 9.732382774353027, 24.523231506347656, 11.163091659545898, 10.161331176757812, 30.590227127075195, 9.761968612670898, 8.102967262268066, 6.943395614624023, 5.9754509925842285, 84.74755096435547, 5.803269863128662, 21.89040756225586, 33.949100494384766, 5.111326217651367, 4.6917033195495605, 6.490983486175537, 4.549571514129639, 4.731880187988281, 768.7252197265625, 3.79649019241333, 286.9516296386719, 24.856307983398438, 29.511962890625, 64.3813705444336, 44.94680404663086, 45.158966064453125, 31.758983612060547, 20.504858016967773, 23.43819808959961, 72.85392761230469, 224.49908447265625, 43.663631439208984, 529.2612915039062, 25.906763076782227, 33.4156608581543, 41.13422775268555, 62.9005012512207, 35.07111740112305, 45.519710540771484, 84.44679260253906, 26.09316635131836, 38.14267349243164, 39.36625289916992, 28.141836166381836, 27.293813705444336, 24.945255279541016, 218.287841796875, 77.57091522216797, 37.39287567138672, 38.40022277832031, 35.07371139526367, 33.05353927612305, 24.92351531982422, 19.476449966430664, 22.772300720214844, 47.23257827758789, 17.624208450317383, 15.874129295349121, 26.221954345703125, 13.29328727722168, 50.80859375, 12.108007431030273, 11.337112426757812, 11.270263671875, 10.261077880859375, 9.572896957397461, 13.989775657653809, 10.894449234008789, 11.173675537109375, 9.909210205078125, 14.784470558166504, 26.902915954589844, 6.215854644775391, 7.01364278793335, 18.102888107299805, 4.515620708465576, 87.29546356201172, 35.2929801940918, 83.60308837890625, 72.02059936523438, 50.99505615234375, 81.0096664428711, 103.74676513671875, 24.83875274658203, 31.066295623779297, 41.90201187133789, 41.01569747924805, 43.283321380615234, 29.212486267089844, 262.28961181640625, 57.77363204956055, 41.41734313964844, 26.424510955810547, 57.674800872802734, 32.50731658935547, 50.51858901977539, 43.71126937866211, 29.570985794067383, 27.648622512817383, 28.35136604309082, 40.97589874267578, 30.968740463256836, 26.58202362060547, 28.178930282592773, 16.49721908569336, 16.618282318115234, 13.07003116607666, 11.059782028198242, 11.152848243713379, 9.203818321228027, 31.51657485961914, 140.13648986816406, 6.593203544616699, 86.39679718017578, 160.94235229492188, 15.747934341430664, 14.30197525024414, 25.843591690063477, 4.443802356719971, 4.049154281616211, 3.636580228805542, 1300.0238037109375, 3.3186914920806885, 3.080615520477295, 4.169711112976074, 2.633939266204834, 14.160735130310059, 5.1489787101745605, 36.97336196899414, 6.1851301193237305, 46.67695617675781, 24.26858901977539, 10.923070907592773, 61.380714416503906, 18.820144653320312, 11.08515739440918, 56.34521484375, 26.60341453552246, 21.2398738861084, 17.529638290405273, 111.13184356689453, 18.034500122070312, 34.72601318359375, 28.86673355102539, 32.057769775390625, 15.8721284866333, 19.431062698364258, 16.93808364868164, 16.587636947631836], \"Total\": [1666.0, 2176.0, 940.0, 3159.0, 6989.0, 3218.0, 620.0, 1411.0, 1430.0, 578.0, 582.0, 496.0, 393.0, 1172.0, 612.0, 365.0, 1517.0, 287.0, 222.0, 237.0, 364.0, 465.0, 471.0, 188.0, 857.0, 571.0, 207.0, 970.0, 843.0, 223.0, 48.24252700805664, 30.176950454711914, 23.791584014892578, 152.41220092773438, 30.219968795776367, 27.1852970123291, 18.602052688598633, 19.50971031188965, 17.362838745117188, 17.97503089904785, 147.32200622558594, 16.972043991088867, 15.491494178771973, 14.744102478027344, 17.122085571289062, 13.191753387451172, 13.988871574401855, 63.254451751708984, 578.5235595703125, 12.04980754852295, 12.287212371826172, 12.079627990722656, 15.42814826965332, 10.619087219238281, 11.904075622558594, 15.278517723083496, 10.378961563110352, 13.807409286499023, 9.547621726989746, 9.451521873474121, 74.31855010986328, 48.388362884521484, 287.83062744140625, 37.11876678466797, 27.997344970703125, 110.23713684082031, 1430.96484375, 25.40323829650879, 187.67369079589844, 58.61790466308594, 131.12069702148438, 102.29422760009766, 45.1261100769043, 506.05126953125, 70.58181762695312, 289.351318359375, 319.5672302246094, 80.87820434570312, 66.24630737304688, 77.01288604736328, 45.71516036987305, 415.50384521484375, 6989.1826171875, 970.818359375, 1172.0838623046875, 321.5555114746094, 290.5869445800781, 471.0475769042969, 859.7579956054688, 3159.970947265625, 1517.5313720703125, 1666.02978515625, 940.7279663085938, 489.1838684082031, 451.84478759765625, 3218.90283203125, 857.7127685546875, 43.056068420410156, 37.97351837158203, 33.23970413208008, 41.53559112548828, 40.24142074584961, 22.133174896240234, 25.62656021118164, 22.599035263061523, 27.136377334594727, 53.372074127197266, 17.857784271240234, 17.217151641845703, 112.40045166015625, 33.33071517944336, 20.282777786254883, 14.864401817321777, 41.03801727294922, 12.76118278503418, 18.661354064941406, 14.864947319030762, 14.502323150634766, 11.913616180419922, 10.656614303588867, 10.589409828186035, 102.86211395263672, 10.461819648742676, 10.36042308807373, 10.201136589050293, 65.36737060546875, 9.402505874633789, 40.125370025634766, 212.87286376953125, 43.0726203918457, 73.37557983398438, 119.43499755859375, 42.25975799560547, 571.2094116210938, 56.704193115234375, 24.83652687072754, 122.48330688476562, 210.56683349609375, 224.14187622070312, 118.06208801269531, 85.7403564453125, 174.54518127441406, 240.2257080078125, 940.7279663085938, 3159.970947265625, 101.2646255493164, 162.37911987304688, 343.772216796875, 224.2564239501953, 150.68887329101562, 228.79376220703125, 348.1353454589844, 6989.1826171875, 346.6604919433594, 190.80322265625, 1172.0838623046875, 970.818359375, 3218.90283203125, 328.1698303222656, 1517.5313720703125, 506.05126953125, 1411.033447265625, 321.5555114746094, 843.849609375, 223.16387939453125, 53.68626403808594, 34.397186279296875, 27.687026977539062, 28.163753509521484, 28.033445358276367, 27.622873306274414, 27.20650291442871, 34.17214584350586, 107.08244323730469, 22.371244430541992, 46.42411804199219, 22.624513626098633, 22.359100341796875, 21.575515747070312, 29.25560760498047, 34.366661071777344, 19.900653839111328, 40.6722297668457, 19.251510620117188, 35.37800979614258, 18.46273422241211, 18.205360412597656, 17.923908233642578, 18.496191024780273, 27.7557373046875, 16.968530654907227, 15.385974884033203, 15.332062721252441, 15.152176856994629, 104.52584838867188, 125.14666748046875, 171.42626953125, 27.600637435913086, 130.8983612060547, 41.54562759399414, 28.644351959228516, 181.37823486328125, 54.92904281616211, 373.1397705078125, 107.14847564697266, 111.58670043945312, 3218.90283203125, 151.62413024902344, 122.53471374511719, 112.5403823852539, 120.4832992553711, 169.15884399414062, 252.14340209960938, 451.84478759765625, 62.152008056640625, 167.92135620117188, 207.8247528076172, 6989.1826171875, 1411.033447265625, 857.7127685546875, 138.92617797851562, 3159.970947265625, 843.849609375, 328.1698303222656, 1172.0838623046875, 166.83609008789062, 378.1769104003906, 859.7579956054688, 63.84490203857422, 29.729202270507812, 35.14204025268555, 25.473249435424805, 20.91082191467285, 20.335601806640625, 56.22079086303711, 18.046916961669922, 22.427331924438477, 141.1482391357422, 14.3847074508667, 13.513163566589355, 16.65519905090332, 16.618852615356445, 79.87547302246094, 496.658203125, 12.338443756103516, 11.000009536743164, 13.270910263061523, 9.527812957763672, 9.237604141235352, 21.131607055664062, 7.588440418243408, 18.382049560546875, 6.838615894317627, 7.440135955810547, 6.58027458190918, 6.352294445037842, 2176.538330078125, 17.545085906982422, 39.2805061340332, 190.86502075195312, 210.14617919921875, 140.02139282226562, 15.029995918273926, 67.32894897460938, 102.50462341308594, 167.97259521484375, 63.27705764770508, 859.7579956054688, 562.2974243164062, 204.113037109375, 37.91264724731445, 6989.1826171875, 451.84478759765625, 273.0318603515625, 69.37010955810547, 970.818359375, 489.1838684082031, 940.7279663085938, 213.92530822753906, 1172.0838623046875, 857.7127685546875, 506.05126953125, 1517.5313720703125, 1430.96484375, 346.6604919433594, 465.1034851074219, 3159.970947265625, 90.97518920898438, 42.92540740966797, 36.54499816894531, 21.936309814453125, 48.11294174194336, 20.896596908569336, 19.877185821533203, 21.660734176635742, 18.82694435119629, 20.493621826171875, 17.015764236450195, 16.147960662841797, 14.704522132873535, 14.39303970336914, 21.62158966064453, 12.680155754089355, 12.03665828704834, 11.741281509399414, 11.240243911743164, 12.81420612335205, 10.346370697021484, 9.573382377624512, 10.07495403289795, 9.336477279663086, 11.09075927734375, 11.655832290649414, 9.07241153717041, 21.653228759765625, 8.542747497558594, 8.495495796203613, 57.78672409057617, 46.23992919921875, 146.78440856933594, 63.24679183959961, 36.450103759765625, 6989.1826171875, 843.849609375, 489.1838684082031, 183.6695098876953, 1517.5313720703125, 30.826805114746094, 53.916507720947266, 108.51525115966797, 190.80322265625, 940.7279663085938, 3159.970947265625, 3218.90283203125, 44.28596115112305, 71.60633087158203, 857.7127685546875, 415.50384521484375, 343.772216796875, 940.393798828125, 562.2974243164062, 290.5869445800781, 612.7186889648438, 185.75108337402344, 170.61048889160156, 1666.02978515625, 859.7579956054688, 1411.033447265625, 207.2488555908203, 42.851776123046875, 39.99946212768555, 68.13175201416016, 24.381877899169922, 17.957857131958008, 19.616973876953125, 16.938047409057617, 16.44000816345215, 15.602194786071777, 24.27655792236328, 19.282575607299805, 14.84992790222168, 12.05856990814209, 10.825369834899902, 34.35724639892578, 10.19978141784668, 69.82878112792969, 10.484230995178223, 8.939050674438477, 27.69916534423828, 50.60526657104492, 9.2620267868042, 7.9235124588012695, 7.795314311981201, 7.442512512207031, 6.962372303009033, 31.9274845123291, 6.835014820098877, 6.675587177276611, 75.72891235351562, 364.60333251953125, 1411.033447265625, 193.1029510498047, 177.78565979003906, 40.08439254760742, 36.39714050292969, 133.105712890625, 3218.90283203125, 170.61048889160156, 43.39899444580078, 328.1698303222656, 73.22328186035156, 78.76979064941406, 6989.1826171875, 138.92617797851562, 3159.970947265625, 1517.5313720703125, 843.849609375, 612.7186889648438, 240.2257080078125, 260.3343200683594, 221.1074676513672, 1172.0838623046875, 2176.538330078125, 319.5672302246094, 373.1397705078125, 289.351318359375, 1666.02978515625, 378.1769104003906, 46.171512603759766, 33.791534423828125, 49.01274490356445, 27.82335090637207, 27.806428909301758, 34.88880920410156, 23.360273361206055, 32.118431091308594, 19.373865127563477, 19.53253936767578, 27.026426315307617, 16.270620346069336, 15.226983070373535, 16.251976013183594, 12.02607536315918, 16.62950325012207, 8.854667663574219, 9.31276798248291, 62.618873596191406, 9.314624786376953, 73.06433868408203, 8.290630340576172, 7.947564125061035, 9.722779273986816, 7.543264865875244, 7.322897911071777, 7.646188259124756, 11.042325973510742, 10.283219337463379, 6.757111072540283, 56.631080627441406, 230.70529174804688, 32.46910095214844, 34.262413024902344, 27.09990692138672, 225.64572143554688, 115.33341217041016, 66.69586944580078, 465.1034851074219, 18.181514739990234, 102.46793365478516, 118.23821258544922, 471.0475769042969, 213.92530822753906, 110.45333099365234, 228.79376220703125, 204.113037109375, 378.1769104003906, 3159.970947265625, 562.2974243164062, 74.02548217773438, 319.5672302246094, 940.7279663085938, 207.8247528076172, 1517.5313720703125, 3218.90283203125, 970.818359375, 451.84478759765625, 843.849609375, 248.53883361816406, 6989.1826171875, 1430.96484375, 1172.0838623046875, 1411.033447265625, 859.7579956054688, 54.97636413574219, 94.84284973144531, 25.874982833862305, 22.92255973815918, 18.194913864135742, 22.52218246459961, 21.18688201904297, 15.941808700561523, 55.72663879394531, 14.11408805847168, 39.0800666809082, 11.148234367370605, 32.210426330566406, 15.477741241455078, 8.602890014648438, 8.538656234741211, 393.03582763671875, 8.351847648620605, 7.8628973960876465, 7.570143222808838, 7.013266563415527, 50.672542572021484, 20.58759880065918, 36.0698356628418, 16.720226287841797, 116.43315887451172, 6.097324371337891, 5.659636497497559, 5.329881191253662, 5.31312894821167, 582.773193359375, 612.7186889648438, 273.0318603515625, 18.65067481994629, 142.85165405273438, 3159.970947265625, 43.84218215942383, 37.265926361083984, 109.13294219970703, 970.818359375, 1517.5313720703125, 1430.96484375, 6989.1826171875, 343.772216796875, 278.0696105957031, 378.1769104003906, 169.15884399414062, 3218.90283203125, 102.26384735107422, 471.0475769042969, 321.5555114746094, 46.09700393676758, 60.529605865478516, 33.1608772277832, 27.911027908325195, 19.13426971435547, 237.8036651611328, 27.171789169311523, 17.666345596313477, 62.615234375, 16.84799575805664, 11.344141006469727, 11.266793251037598, 12.595030784606934, 10.683938980102539, 9.9823579788208, 8.297019004821777, 8.394935607910156, 620.9595947265625, 287.6585388183594, 7.544058322906494, 7.470485210418701, 11.565016746520996, 7.9630818367004395, 7.1235527992248535, 6.571279048919678, 8.790348052978516, 6.1979289054870605, 5.764702796936035, 95.92322540283203, 7.451693058013916, 78.1821517944336, 45.12150955200195, 41.96630096435547, 46.74418640136719, 92.31158447265625, 167.01417541503906, 24.82721710205078, 1172.0838623046875, 17.128013610839844, 60.44479751586914, 150.68887329101562, 109.41053771972656, 278.0696105957031, 260.3343200683594, 48.36048126220703, 32.7138557434082, 248.53883361816406, 506.05126953125, 6989.1826171875, 2176.538330078125, 857.7127685546875, 328.1698303222656, 859.7579956054688, 1411.033447265625, 1666.02978515625, 3218.90283203125, 562.2974243164062, 1517.5313720703125, 90.57095336914062, 47.3806266784668, 31.154590606689453, 23.369279861450195, 19.62432289123535, 18.909265518188477, 13.80173110961914, 12.17312240600586, 11.879759788513184, 20.972726821899414, 10.698686599731445, 27.00176429748535, 12.305411338806152, 11.229310989379883, 33.81032943725586, 10.795575141906738, 9.06918716430664, 8.033525466918945, 6.941683769226074, 98.80992126464844, 6.828974723815918, 25.840576171875, 40.288612365722656, 6.077574729919434, 5.657927989959717, 7.831296443939209, 5.5157976150512695, 5.756507396697998, 940.393798828125, 4.762693881988525, 365.1439208984375, 33.70208740234375, 40.81144714355469, 111.13883972167969, 77.47312927246094, 78.89684295654297, 52.6605224609375, 31.166316986083984, 36.70709991455078, 183.35311889648438, 857.7127685546875, 114.55722045898438, 6989.1826171875, 52.397064208984375, 82.47103118896484, 146.57345581054688, 348.1353454589844, 118.8890151977539, 260.3343200683594, 3218.90283203125, 65.74038696289062, 571.2094116210938, 1411.033447265625, 184.98512268066406, 970.818359375, 248.53883361816406, 222.35614013671875, 79.2600326538086, 38.355369567871094, 39.5567741394043, 36.201637268066406, 34.27994918823242, 25.89058494567871, 20.4495792388916, 23.960826873779297, 49.8321647644043, 18.61390495300293, 16.836654663085938, 27.816009521484375, 14.259403228759766, 54.797698974609375, 13.129829406738281, 12.299599647521973, 12.35283374786377, 11.288812637329102, 10.535442352294922, 15.437396049499512, 12.0281343460083, 12.779502868652344, 11.340463638305664, 17.005264282226562, 31.60112953186035, 7.379944324493408, 8.460885047912598, 22.022686004638672, 5.5379638671875, 110.27106475830078, 50.699371337890625, 135.857177734375, 120.78875732421875, 81.06941986083984, 144.8125457763672, 221.1074676513672, 40.0984992980957, 63.7017822265625, 108.51525115966797, 106.99760437011719, 125.80264282226562, 60.9666748046875, 6989.1826171875, 348.1353454589844, 185.75108337402344, 61.7121467590332, 857.7127685546875, 135.15122985839844, 859.7579956054688, 3218.90283203125, 252.14340209960938, 133.3677215576172, 346.6604919433594, 41.93995666503906, 31.932790756225586, 27.546058654785156, 29.229442596435547, 17.461275100708008, 17.706661224365234, 14.06544303894043, 12.086332321166992, 12.259502410888672, 10.16804313659668, 35.05195236206055, 158.92593383789062, 7.557233810424805, 100.13761901855469, 188.92831420898438, 18.553945541381836, 16.922561645507812, 30.95465087890625, 5.411387920379639, 5.01961612701416, 4.600609302520752, 1666.02978515625, 4.282805442810059, 4.080231666564941, 5.666661739349365, 3.5980935096740723, 19.56318473815918, 7.417797565460205, 53.97027587890625, 9.060784339904785, 77.19269561767578, 40.85016632080078, 18.003116607666016, 144.5795440673828, 35.681419372558594, 19.19027328491211, 161.2362060546875, 93.24574279785156, 74.02548217773438, 56.237098693847656, 6989.1826171875, 90.93926239013672, 940.393798828125, 857.7127685546875, 3218.90283203125, 85.7403564453125, 2176.538330078125, 365.1439208984375, 940.7279663085938], \"Category\": [\"Default\", \"Default\", \"Default\", \"Default\", \"Default\", \"Default\", \"Default\", \"Default\", \"Default\", \"Default\", \"Default\", \"Default\", \"Default\", \"Default\", \"Default\", \"Default\", \"Default\", \"Default\", \"Default\", \"Default\", \"Default\", \"Default\", \"Default\", \"Default\", \"Default\", \"Default\", \"Default\", \"Default\", \"Default\", \"Default\", \"Topic1\", \"Topic1\", \"Topic1\", \"Topic1\", \"Topic1\", \"Topic1\", \"Topic1\", \"Topic1\", \"Topic1\", \"Topic1\", \"Topic1\", \"Topic1\", \"Topic1\", \"Topic1\", \"Topic1\", \"Topic1\", \"Topic1\", \"Topic1\", \"Topic1\", \"Topic1\", \"Topic1\", \"Topic1\", \"Topic1\", \"Topic1\", \"Topic1\", \"Topic1\", \"Topic1\", \"Topic1\", \"Topic1\", \"Topic1\", \"Topic1\", \"Topic1\", \"Topic1\", \"Topic1\", \"Topic1\", \"Topic1\", \"Topic1\", \"Topic1\", \"Topic1\", \"Topic1\", \"Topic1\", \"Topic1\", \"Topic1\", \"Topic1\", \"Topic1\", \"Topic1\", \"Topic1\", \"Topic1\", \"Topic1\", \"Topic1\", \"Topic1\", \"Topic1\", \"Topic1\", \"Topic1\", \"Topic1\", \"Topic1\", \"Topic1\", \"Topic1\", \"Topic1\", \"Topic1\", \"Topic1\", \"Topic1\", \"Topic1\", \"Topic1\", \"Topic1\", \"Topic1\", \"Topic1\", \"Topic2\", \"Topic2\", \"Topic2\", \"Topic2\", \"Topic2\", \"Topic2\", \"Topic2\", \"Topic2\", \"Topic2\", \"Topic2\", \"Topic2\", \"Topic2\", \"Topic2\", \"Topic2\", \"Topic2\", \"Topic2\", \"Topic2\", \"Topic2\", \"Topic2\", \"Topic2\", \"Topic2\", \"Topic2\", \"Topic2\", \"Topic2\", \"Topic2\", \"Topic2\", \"Topic2\", \"Topic2\", \"Topic2\", \"Topic2\", \"Topic2\", \"Topic2\", \"Topic2\", \"Topic2\", \"Topic2\", \"Topic2\", \"Topic2\", \"Topic2\", \"Topic2\", \"Topic2\", \"Topic2\", \"Topic2\", \"Topic2\", \"Topic2\", \"Topic2\", \"Topic2\", \"Topic2\", \"Topic2\", \"Topic2\", \"Topic2\", \"Topic2\", \"Topic2\", \"Topic2\", \"Topic2\", \"Topic2\", \"Topic2\", \"Topic2\", \"Topic2\", \"Topic2\", \"Topic2\", \"Topic2\", \"Topic2\", \"Topic2\", \"Topic2\", \"Topic2\", \"Topic2\", \"Topic2\", \"Topic3\", \"Topic3\", \"Topic3\", \"Topic3\", \"Topic3\", \"Topic3\", \"Topic3\", \"Topic3\", \"Topic3\", \"Topic3\", \"Topic3\", \"Topic3\", \"Topic3\", \"Topic3\", \"Topic3\", \"Topic3\", \"Topic3\", \"Topic3\", \"Topic3\", \"Topic3\", \"Topic3\", \"Topic3\", \"Topic3\", \"Topic3\", \"Topic3\", \"Topic3\", \"Topic3\", \"Topic3\", \"Topic3\", \"Topic3\", \"Topic3\", \"Topic3\", \"Topic3\", \"Topic3\", \"Topic3\", \"Topic3\", \"Topic3\", \"Topic3\", \"Topic3\", \"Topic3\", \"Topic3\", \"Topic3\", \"Topic3\", \"Topic3\", \"Topic3\", \"Topic3\", \"Topic3\", \"Topic3\", \"Topic3\", \"Topic3\", \"Topic3\", \"Topic3\", \"Topic3\", \"Topic3\", \"Topic3\", \"Topic3\", \"Topic3\", \"Topic3\", \"Topic3\", \"Topic3\", \"Topic3\", \"Topic3\", \"Topic3\", \"Topic3\", \"Topic4\", \"Topic4\", \"Topic4\", \"Topic4\", \"Topic4\", \"Topic4\", \"Topic4\", \"Topic4\", \"Topic4\", \"Topic4\", \"Topic4\", \"Topic4\", \"Topic4\", \"Topic4\", \"Topic4\", \"Topic4\", \"Topic4\", \"Topic4\", \"Topic4\", \"Topic4\", \"Topic4\", \"Topic4\", \"Topic4\", \"Topic4\", \"Topic4\", \"Topic4\", \"Topic4\", \"Topic4\", \"Topic4\", \"Topic4\", \"Topic4\", \"Topic4\", \"Topic4\", \"Topic4\", \"Topic4\", \"Topic4\", \"Topic4\", \"Topic4\", \"Topic4\", \"Topic4\", \"Topic4\", \"Topic4\", \"Topic4\", \"Topic4\", \"Topic4\", \"Topic4\", \"Topic4\", \"Topic4\", \"Topic4\", \"Topic4\", \"Topic4\", \"Topic4\", \"Topic4\", \"Topic4\", \"Topic4\", \"Topic4\", \"Topic4\", \"Topic4\", \"Topic4\", \"Topic5\", \"Topic5\", \"Topic5\", \"Topic5\", \"Topic5\", \"Topic5\", \"Topic5\", \"Topic5\", \"Topic5\", \"Topic5\", \"Topic5\", \"Topic5\", \"Topic5\", \"Topic5\", \"Topic5\", \"Topic5\", \"Topic5\", \"Topic5\", \"Topic5\", \"Topic5\", \"Topic5\", \"Topic5\", \"Topic5\", \"Topic5\", \"Topic5\", \"Topic5\", \"Topic5\", \"Topic5\", \"Topic5\", \"Topic5\", \"Topic5\", \"Topic5\", \"Topic5\", \"Topic5\", \"Topic5\", \"Topic5\", \"Topic5\", \"Topic5\", \"Topic5\", \"Topic5\", \"Topic5\", \"Topic5\", \"Topic5\", \"Topic5\", \"Topic5\", \"Topic5\", \"Topic5\", \"Topic5\", \"Topic5\", \"Topic5\", \"Topic5\", \"Topic5\", \"Topic5\", \"Topic5\", \"Topic5\", \"Topic5\", \"Topic5\", \"Topic5\", \"Topic5\", \"Topic5\", \"Topic5\", \"Topic6\", \"Topic6\", \"Topic6\", \"Topic6\", \"Topic6\", \"Topic6\", \"Topic6\", \"Topic6\", \"Topic6\", \"Topic6\", \"Topic6\", \"Topic6\", \"Topic6\", \"Topic6\", \"Topic6\", \"Topic6\", \"Topic6\", \"Topic6\", \"Topic6\", \"Topic6\", \"Topic6\", \"Topic6\", \"Topic6\", \"Topic6\", \"Topic6\", \"Topic6\", \"Topic6\", \"Topic6\", \"Topic6\", \"Topic6\", \"Topic6\", \"Topic6\", \"Topic6\", \"Topic6\", \"Topic6\", \"Topic6\", \"Topic6\", \"Topic6\", \"Topic6\", \"Topic6\", \"Topic6\", \"Topic6\", \"Topic6\", \"Topic6\", \"Topic6\", \"Topic6\", \"Topic6\", \"Topic6\", \"Topic6\", \"Topic6\", \"Topic6\", \"Topic6\", \"Topic6\", \"Topic6\", \"Topic6\", \"Topic6\", \"Topic6\", \"Topic6\", \"Topic6\", \"Topic6\", \"Topic7\", \"Topic7\", \"Topic7\", \"Topic7\", \"Topic7\", \"Topic7\", \"Topic7\", \"Topic7\", \"Topic7\", \"Topic7\", \"Topic7\", \"Topic7\", \"Topic7\", \"Topic7\", \"Topic7\", \"Topic7\", \"Topic7\", \"Topic7\", \"Topic7\", \"Topic7\", \"Topic7\", \"Topic7\", \"Topic7\", \"Topic7\", \"Topic7\", \"Topic7\", \"Topic7\", \"Topic7\", \"Topic7\", \"Topic7\", \"Topic7\", \"Topic7\", \"Topic7\", \"Topic7\", \"Topic7\", \"Topic7\", \"Topic7\", \"Topic7\", \"Topic7\", \"Topic7\", \"Topic7\", \"Topic7\", \"Topic7\", \"Topic7\", \"Topic7\", \"Topic7\", \"Topic7\", \"Topic7\", \"Topic7\", \"Topic7\", \"Topic7\", \"Topic7\", \"Topic7\", \"Topic7\", \"Topic7\", \"Topic7\", \"Topic7\", \"Topic7\", \"Topic7\", \"Topic7\", \"Topic7\", \"Topic7\", \"Topic7\", \"Topic7\", \"Topic7\", \"Topic8\", \"Topic8\", \"Topic8\", \"Topic8\", \"Topic8\", \"Topic8\", \"Topic8\", \"Topic8\", \"Topic8\", \"Topic8\", \"Topic8\", \"Topic8\", \"Topic8\", \"Topic8\", \"Topic8\", \"Topic8\", \"Topic8\", \"Topic8\", \"Topic8\", \"Topic8\", \"Topic8\", \"Topic8\", \"Topic8\", \"Topic8\", \"Topic8\", \"Topic8\", \"Topic8\", \"Topic8\", \"Topic8\", \"Topic8\", \"Topic8\", \"Topic8\", \"Topic8\", \"Topic8\", \"Topic8\", \"Topic8\", \"Topic8\", \"Topic8\", \"Topic8\", \"Topic8\", \"Topic8\", \"Topic8\", \"Topic8\", \"Topic8\", \"Topic8\", \"Topic8\", \"Topic8\", \"Topic8\", \"Topic8\", \"Topic8\", \"Topic8\", \"Topic9\", \"Topic9\", \"Topic9\", \"Topic9\", \"Topic9\", \"Topic9\", \"Topic9\", \"Topic9\", \"Topic9\", \"Topic9\", \"Topic9\", \"Topic9\", \"Topic9\", \"Topic9\", \"Topic9\", \"Topic9\", \"Topic9\", \"Topic9\", \"Topic9\", \"Topic9\", \"Topic9\", \"Topic9\", \"Topic9\", \"Topic9\", \"Topic9\", \"Topic9\", \"Topic9\", \"Topic9\", \"Topic9\", \"Topic9\", \"Topic9\", \"Topic9\", \"Topic9\", \"Topic9\", \"Topic9\", \"Topic9\", \"Topic9\", \"Topic9\", \"Topic9\", \"Topic9\", \"Topic9\", \"Topic9\", \"Topic9\", \"Topic9\", \"Topic9\", \"Topic9\", \"Topic9\", \"Topic9\", \"Topic9\", \"Topic9\", \"Topic9\", \"Topic9\", \"Topic9\", \"Topic9\", \"Topic9\", \"Topic9\", \"Topic9\", \"Topic9\", \"Topic10\", \"Topic10\", \"Topic10\", \"Topic10\", \"Topic10\", \"Topic10\", \"Topic10\", \"Topic10\", \"Topic10\", \"Topic10\", \"Topic10\", \"Topic10\", \"Topic10\", \"Topic10\", \"Topic10\", \"Topic10\", \"Topic10\", \"Topic10\", \"Topic10\", \"Topic10\", \"Topic10\", \"Topic10\", \"Topic10\", \"Topic10\", \"Topic10\", \"Topic10\", \"Topic10\", \"Topic10\", \"Topic10\", \"Topic10\", \"Topic10\", \"Topic10\", \"Topic10\", \"Topic10\", \"Topic10\", \"Topic10\", \"Topic10\", \"Topic10\", \"Topic10\", \"Topic10\", \"Topic10\", \"Topic10\", \"Topic10\", \"Topic10\", \"Topic10\", \"Topic10\", \"Topic10\", \"Topic10\", \"Topic10\", \"Topic10\", \"Topic10\", \"Topic10\", \"Topic10\", \"Topic10\", \"Topic10\", \"Topic10\", \"Topic11\", \"Topic11\", \"Topic11\", \"Topic11\", \"Topic11\", \"Topic11\", \"Topic11\", \"Topic11\", \"Topic11\", \"Topic11\", \"Topic11\", \"Topic11\", \"Topic11\", \"Topic11\", \"Topic11\", \"Topic11\", \"Topic11\", \"Topic11\", \"Topic11\", \"Topic11\", \"Topic11\", \"Topic11\", \"Topic11\", \"Topic11\", \"Topic11\", \"Topic11\", \"Topic11\", \"Topic11\", \"Topic11\", \"Topic11\", \"Topic11\", \"Topic11\", \"Topic11\", \"Topic11\", \"Topic11\", \"Topic11\", \"Topic11\", \"Topic11\", \"Topic11\", \"Topic11\", \"Topic11\", \"Topic11\", \"Topic11\", \"Topic11\", \"Topic11\", \"Topic11\", \"Topic11\", \"Topic11\", \"Topic11\", \"Topic11\", \"Topic11\", \"Topic11\", \"Topic11\", \"Topic11\", \"Topic12\", \"Topic12\", \"Topic12\", \"Topic12\", \"Topic12\", \"Topic12\", \"Topic12\", \"Topic12\", \"Topic12\", \"Topic12\", \"Topic12\", \"Topic12\", \"Topic12\", \"Topic12\", \"Topic12\", \"Topic12\", \"Topic12\", \"Topic12\", \"Topic12\", \"Topic12\", \"Topic12\", \"Topic12\", \"Topic12\", \"Topic12\", \"Topic12\", \"Topic12\", \"Topic12\", \"Topic12\", \"Topic12\", \"Topic12\", \"Topic12\", \"Topic12\", \"Topic12\", \"Topic12\", \"Topic12\", \"Topic12\", \"Topic12\", \"Topic12\", \"Topic12\", \"Topic12\", \"Topic12\", \"Topic12\", \"Topic12\", \"Topic12\", \"Topic12\", \"Topic12\", \"Topic12\", \"Topic12\", \"Topic12\"], \"logprob\": [30.0, 29.0, 28.0, 27.0, 26.0, 25.0, 24.0, 23.0, 22.0, 21.0, 20.0, 19.0, 18.0, 17.0, 16.0, 15.0, 14.0, 13.0, 12.0, 11.0, 10.0, 9.0, 8.0, 7.0, 6.0, 5.0, 4.0, 3.0, 2.0, 1.0, -5.310299873352051, -5.787300109863281, -6.033899784088135, -4.183899879455566, -5.8028998374938965, -5.912499904632568, -6.294300079345703, -6.247099876403809, -6.364799976348877, -6.33050012588501, -4.227499961853027, -6.388899803161621, -6.485899925231934, -6.53879976272583, -6.394899845123291, -6.658299922943115, -6.60099983215332, -5.093400001525879, -2.8828001022338867, -6.756400108337402, -6.738399982452393, -6.764599800109863, -6.520299911499023, -6.894599914550781, -6.780799865722656, -6.533100128173828, -6.9197998046875, -6.642300128936768, -7.01230001449585, -7.023600101470947, -4.964600086212158, -5.391499996185303, -3.6982998847961426, -5.696599960327148, -5.985400199890137, -4.734600067138672, -2.436300039291382, -6.101799964904785, -4.3668999671936035, -5.379700183868408, -4.689700126647949, -4.958899974822998, -5.6468000411987305, -3.7223000526428223, -5.293700218200684, -4.223100185394287, -4.220900058746338, -5.249800205230713, -5.397200107574463, -5.293399810791016, -5.671000003814697, -4.209799766540527, -2.486999988555908, -3.776099920272827, -3.7170000076293945, -4.492800235748291, -4.702099800109863, -4.501299858093262, -4.297800064086914, -3.7799999713897705, -4.09660005569458, -4.359000205993652, -4.582399845123291, -4.767399787902832, -4.838099956512451, -4.52209997177124, -4.883900165557861, -5.4217000007629395, -5.55049991607666, -5.694399833679199, -5.4741997718811035, -5.507800102233887, -6.10890007019043, -5.962800025939941, -6.089600086212158, -5.909299850463867, -5.232999801635742, -6.335700035095215, -6.373300075531006, -4.5030999183654785, -5.7210001945495605, -6.2179999351501465, -6.5335001945495605, -5.5229997634887695, -6.693299770355225, -6.314799785614014, -6.54640007019043, -6.571700096130371, -6.769400119781494, -6.889800071716309, -6.8968000411987305, -4.624499797821045, -6.910099983215332, -6.922500133514404, -6.940100193023682, -5.086699962615967, -7.028500080108643, -5.577899932861328, -3.940000057220459, -5.514800071716309, -5.013999938964844, -4.542900085449219, -5.5507001876831055, -3.161099910736084, -5.342199802398682, -6.090199947357178, -4.686299800872803, -4.22599983215332, -4.245299816131592, -4.8242998123168945, -5.103300094604492, -4.543300151824951, -4.31820011138916, -3.3018999099731445, -2.6575000286102295, -5.053599834442139, -4.743100166320801, -4.274499893188477, -4.611299991607666, -4.8343000411987305, -4.634699821472168, -4.462100028991699, -3.158099889755249, -4.540599822998047, -4.819799900054932, -4.1072998046875, -4.234000205993652, -3.7736001014709473, -4.710999965667725, -4.3668999671936035, -4.727399826049805, -4.643899917602539, -4.934100151062012, -4.887700080871582, -3.6821999549865723, -5.111800193786621, -5.5696001052856445, -5.789100170135498, -5.77239990234375, -5.777100086212158, -5.792600154876709, -5.810800075531006, -5.585299968719482, -4.444300174713135, -6.011199951171875, -5.2820000648498535, -6.000999927520752, -6.0131001472473145, -6.048799991607666, -5.744699954986572, -5.58519983291626, -6.133600234985352, -5.420199871063232, -6.168499946594238, -5.561200141906738, -6.212900161743164, -6.227399826049805, -6.243899822235107, -6.213900089263916, -5.808300018310547, -6.302800178527832, -6.406099796295166, -6.409800052642822, -6.422399997711182, -4.52239990234375, -4.360400199890137, -4.0725998878479, -5.839399814605713, -4.369800090789795, -5.459799766540527, -5.8105998039245605, -4.177700042724609, -5.244800090789795, -3.595599889755249, -4.678199768066406, -4.646200180053711, -1.9391000270843506, -4.588200092315674, -4.7480998039245605, -4.833099842071533, -4.804599761962891, -4.627399921417236, -4.374300003051758, -4.103899955749512, -5.298900127410889, -4.796500205993652, -4.73390007019043, -2.990600109100342, -3.9595000743865967, -4.210299968719482, -5.010200023651123, -4.103400230407715, -4.673900127410889, -4.909900188446045, -4.73769998550415, -5.077199935913086, -5.001699924468994, -5.034200191497803, -4.917900085449219, -5.6996002197265625, -5.534800052642822, -5.857999801635742, -6.064000129699707, -6.093299865722656, -5.076700210571289, -6.219399929046631, -6.007199764251709, -4.170100212097168, -6.460400104522705, -6.527599811553955, -6.32450008392334, -6.327400207519531, -4.759500026702881, -2.9321000576019287, -6.63040018081665, -6.752299785614014, -6.564799785614014, -6.909900188446045, -6.945099830627441, -6.11870002746582, -7.177199840545654, -6.298099994659424, -7.287199974060059, -7.207099914550781, -7.332200050354004, -7.384399890899658, -1.5587999820709229, -6.3892998695373535, -5.616700172424316, -4.106900215148926, -4.019999980926514, -4.472300052642822, -6.548600196838379, -5.192699909210205, -4.827199935913086, -4.404300212860107, -5.3043999671936035, -3.162100076675415, -3.686500072479248, -4.5503997802734375, -5.799699783325195, -2.354300022125244, -4.28439998626709, -4.642399787902832, -5.466700077056885, -4.0960001945495605, -4.5055999755859375, -4.2221999168396, -5.056300163269043, -4.348700046539307, -4.505899906158447, -4.782100200653076, -4.458799839019775, -4.834700107574463, -5.150899887084961, -5.113999843597412, -5.117400169372559, -4.476799964904785, -5.23859977722168, -5.40939998626709, -5.932300090789795, -5.1479997634887695, -5.9832000732421875, -6.035699844360352, -5.951600074768066, -6.092800140380859, -6.008299827575684, -6.19980001449585, -6.25540018081665, -6.355299949645996, -6.378300189971924, -5.97760009765625, -6.519999980926514, -6.573200225830078, -6.598400115966797, -6.646100044250488, -6.51800012588501, -6.737199783325195, -6.823200225830078, -6.773399829864502, -6.851099967956543, -6.681700229644775, -6.632199764251709, -6.883200168609619, -6.0183000564575195, -6.950799942016602, -6.957099914550781, -5.0482001304626465, -5.304800033569336, -4.415200233459473, -5.185500144958496, -5.6697001457214355, -1.226199984550476, -3.0687999725341797, -3.642400026321411, -4.43720006942749, -2.9279000759124756, -5.9197001457214355, -5.535900115966797, -5.116300106048584, -4.755000114440918, -3.9934000968933105, -3.3951001167297363, -3.492000102996826, -5.777299880981445, -5.584499835968018, -4.597099781036377, -4.918799877166748, -5.006899833679199, -4.697500228881836, -4.927800178527832, -5.188000202178955, -4.98330020904541, -5.408400058746338, -5.451700210571289, -4.944900035858154, -5.180200099945068, -5.325200080871582, -3.571500062942505, -5.1631999015808105, -5.243500232696533, -4.722700119018555, -5.757599830627441, -6.065400123596191, -5.9791998863220215, -6.128499984741211, -6.158899784088135, -6.214600086212158, -5.77269983291626, -6.003900051116943, -6.271599769592285, -6.491799831390381, -6.6097002029418945, -5.459799766540527, -6.67519998550415, -4.754199981689453, -6.651400089263916, -6.822000026702881, -5.691999912261963, -5.09060001373291, -6.794000148773193, -6.958199977874756, -6.976799964904785, -7.029900074005127, -7.106900215148926, -5.586100101470947, -7.128399848937988, -7.167300224304199, -4.749300003051758, -3.214400053024292, -2.099299907684326, -4.000500202178955, -4.15500020980835, -5.5096001625061035, -5.617800235748291, -4.552000045776367, -2.053499937057495, -4.440899848937988, -5.534599781036377, -4.320400238037109, -5.309100151062012, -5.281199932098389, -2.781100034713745, -4.981599807739258, -3.3814001083374023, -3.7667999267578125, -4.137800216674805, -4.510499954223633, -4.89739990234375, -4.867199897766113, -5.012499809265137, -4.565199851989746, -4.584700107574463, -5.035999774932861, -5.049699783325195, -5.119200229644775, -5.002999782562256, -5.226600170135498, -5.008900165557861, -5.326099872589111, -4.959700107574463, -5.526199817657471, -5.526899814605713, -5.304800033569336, -5.707900047302246, -5.390100002288818, -5.903900146484375, -5.910699844360352, -5.587699890136719, -6.098100185394287, -6.1722002029418945, -6.1118998527526855, -6.423999786376953, -6.110799789428711, -6.750999927520752, -6.7027997970581055, -4.797699928283691, -6.703800201416016, -4.6479997634887695, -6.825099945068359, -6.8730998039245605, -6.671800136566162, -6.934899806976318, -6.966899871826172, -6.92609977722168, -6.567399978637695, -6.639400005340576, -7.061100006103516, -4.953000068664551, -3.5820000171661377, -5.511199951171875, -5.4604997634887695, -5.694399833679199, -3.672499895095825, -4.31850004196167, -4.875800132751465, -3.087399959564209, -6.092899799346924, -4.5432000160217285, -4.447400093078613, -3.2414000034332275, -3.9951000213623047, -4.597799777984619, -4.067200183868408, -4.230800151824951, -3.7832999229431152, -2.5118000507354736, -3.7427000999450684, -5.073800086975098, -4.256899833679199, -3.7054998874664307, -4.5295000076293945, -3.7946999073028564, -3.6821999549865723, -4.186800003051758, -4.520500183105469, -4.333399772644043, -4.755499839782715, -3.973599910736084, -4.3653998374938965, -4.538599967956543, -4.839399814605713, -4.861499786376953, -4.669300079345703, -4.128499984741211, -5.4430999755859375, -5.5696001052856445, -5.811600208282471, -5.598299980163574, -5.664999961853027, -5.9517998695373535, -4.706600189208984, -6.088699817657471, -5.076200008392334, -6.337399959564209, -5.277100086212158, -6.014200210571289, -6.625, -6.633399963378906, -2.8057000637054443, -6.658400058746338, -6.726799964904785, -6.775899887084961, -6.8582000732421875, -4.897900104522705, -5.798699855804443, -5.242099761962891, -6.012499809265137, -4.0725998878479, -7.02239990234375, -7.111499786376953, -7.184299945831299, -7.188199996948242, -2.643199920654297, -2.786099910736084, -3.571899890899658, -6.025599956512451, -4.301799774169922, -1.7871999740600586, -5.322500228881836, -5.4832000732421875, -4.649899959564209, -3.0897998809814453, -2.8461999893188477, -3.0404999256134033, -2.430299997329712, -4.680699825286865, -4.827600002288818, -4.80019998550415, -5.150199890136719, -4.421500205993652, -5.375199794769287, -5.172900199890137, -5.413000106811523, -4.67080020904541, -4.400400161743164, -5.016300201416016, -5.1905999183654785, -5.581299781799316, -3.062000036239624, -5.232100009918213, -5.66480016708374, -4.413099765777588, -5.72629976272583, -6.140399932861328, -6.148600101470947, -6.0391998291015625, -6.206099987030029, -6.281000137329102, -6.487800121307373, -6.477099895477295, -2.1793999671936035, -2.9530999660491943, -6.596199989318848, -6.607399940490723, -6.17080020904541, -6.545400142669678, -6.6645002365112305, -6.756100177764893, -6.4721999168396, -6.824999809265137, -6.923999786376953, -4.124899864196777, -6.683899879455566, -4.510200023651123, -5.019199848175049, -5.086299896240234, -5.001100063323975, -4.402599811553955, -3.938499927520752, -5.601799964904785, -2.536099910736084, -5.935800075531006, -4.969200134277344, -4.333499908447266, -4.577300071716309, -4.102700233459473, -4.188700199127197, -5.277599811553955, -5.526000022888184, -4.441299915313721, -4.2733001708984375, -3.040800094604492, -3.7428998947143555, -4.220099925994873, -4.593599796295166, -4.312900066375732, -4.487500190734863, -4.537700176239014, -4.706500053405762, -4.894599914550781, -4.986299991607666, -3.8894999027252197, -4.55679988861084, -4.976200103759766, -5.271599769592285, -5.454599857330322, -5.493599891662598, -5.828700065612793, -5.964399814605713, -5.990799903869629, -5.4319000244140625, -6.105400085449219, -5.18120002746582, -5.968200206756592, -6.062300205230713, -4.96019983291626, -6.102399826049805, -6.288599967956543, -6.4430999755859375, -6.593200206756592, -3.941200017929077, -6.622399806976318, -5.2947998046875, -4.855999946594238, -6.7494001388549805, -6.835000038146973, -6.51039981842041, -6.865799903869629, -6.826499938964844, -1.7360999584197998, -7.046800136566162, -2.7214999198913574, -5.167699813842773, -4.995999813079834, -4.216000080108643, -4.575399875640869, -4.570700168609619, -4.922699928283691, -5.360199928283691, -5.226500034332275, -4.092400074005127, -2.9670000076293945, -4.604300022125244, -2.1094000339508057, -5.126299858093262, -4.871799945831299, -4.664000034332275, -4.239299774169922, -4.823500156402588, -4.562699794769287, -3.944700002670288, -5.119200229644775, -4.739500045776367, -4.707900047302246, -5.043600082397461, -5.07420015335083, -5.1641998291015625, -2.7843000888824463, -3.8189001083374023, -4.548600196838379, -4.521999835968018, -4.612599849700928, -4.671899795532227, -4.9542999267578125, -5.200900077819824, -5.04449987411499, -4.315000057220459, -5.30079984664917, -5.405399799346924, -4.903500080108643, -5.582799911499023, -4.242000102996826, -5.676199913024902, -5.742000102996826, -5.747900009155273, -5.841700077056885, -5.911099910736084, -5.531700134277344, -5.781799793243408, -5.756499767303467, -5.8765997886657715, -5.476500034332275, -4.877799987792969, -6.3429999351501465, -6.2221999168396, -5.27400016784668, -6.662499904632568, -3.7007999420166016, -4.606400012969971, -3.74399995803833, -3.8931000232696533, -4.23829984664917, -3.7755000591278076, -3.52810001373291, -4.957699775695801, -4.73390007019043, -4.434700012207031, -4.456099987030029, -4.402299880981445, -4.795499801635742, -2.600600004196167, -4.113500118255615, -4.446400165557861, -4.8958001136779785, -4.115300178527832, -4.688600063323975, -4.247700214385986, -4.392499923706055, -4.783299922943115, -4.850500106811523, -4.825399875640869, -4.449999809265137, -4.730000019073486, -4.882699966430664, -4.824399948120117, -5.359799861907959, -5.352499961853027, -5.592599868774414, -5.759699821472168, -5.751299858093262, -5.943399906158447, -4.712500095367432, -3.220400094985962, -6.276899814605713, -3.7039999961853027, -3.081899881362915, -5.406300067901611, -5.502600193023682, -4.910900115966797, -6.671500205993652, -6.764500141143799, -6.8719000816345215, -0.9927999973297119, -6.963399887084961, -7.037799835205078, -6.735099792480469, -7.194499969482422, -5.512499809265137, -6.524199962615967, -4.552800178527832, -6.340799808502197, -4.319699764251709, -4.973800182342529, -5.77209997177124, -4.045899868011475, -5.228000164031982, -5.757400035858154, -4.131499767303467, -4.881899833679199, -5.107100009918213, -5.299099922180176, -3.4523000717163086, -5.270699977874756, -4.615499973297119, -4.800300121307373, -4.695400238037109, -5.398399829864502, -5.196100234985352, -5.333399772644043, -5.354300022125244], \"loglift\": [30.0, 29.0, 28.0, 27.0, 26.0, 25.0, 24.0, 23.0, 22.0, 21.0, 20.0, 19.0, 18.0, 17.0, 16.0, 15.0, 14.0, 13.0, 12.0, 11.0, 10.0, 9.0, 8.0, 7.0, 6.0, 5.0, 4.0, 3.0, 2.0, 1.0, 2.1070001125335693, 2.0992000102996826, 2.0903000831604004, 2.0829999446868896, 2.082200050354004, 2.078399896621704, 2.0759999752044678, 2.0755999088287354, 2.07450008392334, 2.0741000175476074, 2.0734000205993652, 2.0731000900268555, 2.0673000812530518, 2.0638999938964844, 2.058199882507324, 2.0555999279022217, 2.05430006980896, 2.052999973297119, 2.050299882888794, 2.048099994659424, 2.046600103378296, 2.037400007247925, 2.037100076675415, 2.03629994392395, 2.035799980163574, 2.0339999198913574, 2.0339999198913574, 2.0260000228881836, 2.0250000953674316, 2.023699998855591, 2.0206000804901123, 2.0227999687194824, 1.9328999519348145, 1.982800006866455, 1.976099967956543, 1.8562999963760376, 1.5911999940872192, 1.9569000005722046, 1.6920000314712524, 1.8428000211715698, 1.7278000116348267, 1.7067999839782715, 1.8372999429702759, 1.3446999788284302, 1.7430000305175781, 1.4027999639511108, 1.3056999444961548, 1.6507999897003174, 1.7029999494552612, 1.6562000513076782, 1.8000999689102173, 1.0542000532150269, -0.04560000076889992, 0.6394000053405762, 0.5101000070571899, 1.027500033378601, 0.9196000099182129, 0.6373000144958496, 0.23909999430179596, -0.544700026512146, -0.12790000438690186, -0.4837000072002411, -0.1354999989271164, 0.33340001106262207, 0.34209999442100525, -1.305299997329712, -0.34459999203681946, 2.1094000339508057, 2.1061999797821045, 2.095400094985962, 2.0927999019622803, 2.0908000469207764, 2.087599992752075, 2.087100028991699, 2.0861001014709473, 2.083400011062622, 2.0833001136779785, 2.075500011444092, 2.074399948120117, 2.0683999061584473, 2.065999984741211, 2.065700054168701, 2.0611000061035156, 2.055999994277954, 2.053800106048584, 2.052299976348877, 2.048099994659424, 2.047499895095825, 2.0464000701904297, 2.037600040435791, 2.036900043487549, 2.0357000827789307, 2.0357000827789307, 2.0329999923706055, 2.0309998989105225, 2.0267999172210693, 2.0241000652313232, 2.023699998855591, 1.992799997329712, 2.015899896621704, 1.9838999509811401, 1.967900037765503, 1.9989999532699585, 1.7847000360488892, 1.9134999513626099, 1.9910999536514282, 1.799299955368042, 1.7178000211715698, 1.6360000371932983, 1.698099970817566, 1.7388999462127686, 1.5880999565124512, 1.4938000440597534, 1.1449999809265137, 0.5777000188827515, 1.6222000122070312, 1.4606000185012817, 1.1791000366210938, 1.2694000005722046, 1.444100022315979, 1.2259999513626099, 0.9789000153541565, -0.7166000008583069, 0.9046000242233276, 1.222599983215332, 0.11969999969005585, 0.18140000104904175, -0.5569000244140625, 0.7889999747276306, -0.39820000529289246, 0.3395000100135803, -0.602400004863739, 0.5863000154495239, -0.3321000039577484, 2.2035000324249268, 2.1986000537872314, 2.186000108718872, 2.183500051498413, 2.183199882507324, 2.1830999851226807, 2.182300090789795, 2.17930006980896, 2.1768999099731445, 2.175600051879883, 2.1745998859405518, 2.173799991607666, 2.1735000610351562, 2.17330002784729, 2.1731998920440674, 2.172800064086914, 2.1712000370025635, 2.1691999435424805, 2.167799949645996, 2.1675000190734863, 2.166300058364868, 2.164900064468384, 2.164400100708008, 2.1635000705718994, 2.162100076675415, 2.161900043487549, 2.15939998626709, 2.1540000438690186, 2.1538000106811523, 2.1530001163482666, 2.1217000484466553, 2.1036999225616455, 2.0768001079559326, 2.1363000869750977, 2.049299955368042, 2.1070001125335693, 2.128000020980835, 1.9153000116348267, 2.0427000522613525, 1.7760000228881836, 1.9412000179290771, 1.9326000213623047, 1.2776999473571777, 1.683899998664856, 1.7371000051498413, 1.7372000217437744, 1.6974999904632568, 1.5353000164031982, 1.389299988746643, 1.0764000415802002, 1.8651000261306763, 1.3736000061035156, 1.2230000495910645, -0.5491999983787537, 0.08190000057220459, 0.32899999618530273, 1.3494000434875488, -0.8682000041007996, -0.11829999834299088, 0.5900999903678894, -0.510699987411499, 1.0993000268936157, 0.3564999997615814, -0.49729999899864197, 2.2191998958587646, 2.2018001079559326, 2.199399948120117, 2.197999954223633, 2.189300060272217, 2.1879000663757324, 2.1875998973846436, 2.1812000274658203, 2.176100015640259, 2.1737000942230225, 2.1670000553131104, 2.1623001098632812, 2.1563000679016113, 2.155600070953369, 2.153599977493286, 2.1535000801086426, 2.1505000591278076, 2.1433000564575195, 2.143199920654297, 2.1294000148773193, 2.125200033187866, 2.1240999698638916, 2.0896999835968018, 2.0841000080108643, 2.0838000774383545, 2.0796000957489014, 2.0773000717163086, 2.0604000091552734, 2.049299955368042, 2.0394999980926514, 2.006200075149536, 1.9350999593734741, 1.9257999658584595, 1.8795000314712524, 2.034899950027466, 1.8911999464035034, 1.836400032043457, 1.7654999494552612, 1.8416999578475952, 1.3747999668121338, 1.274999976158142, 1.4244999885559082, 1.8586000204086304, 0.08720000088214874, 0.895799994468689, 1.041599988937378, 1.587399959564209, 0.31949999928474426, 0.595300018787384, 0.22470000386238098, 0.8715999722480774, -0.12160000205039978, 0.033399999141693115, 0.2849000096321106, -0.49000000953674316, -0.807200014591217, 0.29440000653266907, 0.037300001829862595, -1.882200002670288, 2.3062000274658203, 2.2955000400543213, 2.285599946975708, 2.273099899291992, 2.2720000743865967, 2.2708001136779785, 2.2683000564575195, 2.2664999961853027, 2.265399932861328, 2.2651000022888184, 2.2595999240875244, 2.2564001083374023, 2.2500998973846436, 2.248500108718872, 2.242300033569336, 2.2335000038146973, 2.2323999404907227, 2.2320001125335693, 2.2279999256134033, 2.2249999046325684, 2.2197000980377197, 2.211400032043457, 2.210099935531616, 2.2084999084472656, 2.2058000564575195, 2.2056000232696533, 2.2051000595092773, 2.2000999450683594, 2.197700023651123, 2.196899890899658, 2.1886000633239746, 2.154900074005127, 1.8894000053405762, 1.9609999656677246, 2.027899980545044, 1.2151999473571777, 1.486799955368042, 1.458400011062622, 1.6433000564575195, 1.0407999753952026, 1.9455000162124634, 1.7702000141143799, 1.490399956703186, 1.2874000072479248, 0.45350000262260437, -0.1597999930381775, -0.2752000093460083, 1.7254999876022339, 1.4378999471664429, -0.05779999867081642, 0.34529998898506165, 0.44670000672340393, -0.2502000033855438, 0.03370000049471855, 0.43369999527931213, -0.10769999772310257, 0.6607999801635742, 0.7024999856948853, -1.0694999694824219, -0.6432999968528748, -1.2836999893188477, 2.388200044631958, 2.3726999759674072, 2.3612000942230225, 2.349400043487549, 2.3422000408172607, 2.3401999473571777, 2.3380000591278076, 2.3355000019073486, 2.33489990234375, 2.3315999507904053, 2.3313000202178955, 2.3304998874664307, 2.323899984359741, 2.312000036239624, 2.302000045776367, 2.296999931335449, 2.2960000038146973, 2.293299913406372, 2.29229998588562, 2.281100034713745, 2.2802000045776367, 2.278899908065796, 2.273699998855591, 2.265500068664551, 2.263200044631958, 2.256500005722046, 2.2460999488830566, 2.24399995803833, 2.2430999279022217, 2.227799892425537, 2.217099905014038, 2.180299997329712, 1.942199945449829, 2.0297999382019043, 1.9579999446868896, 2.0929999351501465, 2.081199884414673, 1.8503999710083008, 1.1632000207901, 1.7131999731063843, 1.9884999990463257, 1.1797000169754028, 1.690999984741211, 1.645799994468689, -0.33959999680519104, 1.378000020980835, -0.1462000012397766, 0.20190000534057617, 0.41769999265670776, 0.365200012922287, 0.9144999980926514, 0.8644000291824341, 0.8823999762535095, -0.33809998631477356, -0.9767000079154968, 0.49059998989105225, 0.32190001010894775, 0.5066999793052673, -1.1276999711990356, 0.1316000074148178, 2.4523000717163086, 2.4472999572753906, 2.441800117492676, 2.4414000511169434, 2.4414000511169434, 2.4365999698638916, 2.4346001148223877, 2.434000015258789, 2.4256999492645264, 2.410799980163574, 2.4089999198913574, 2.4059998989105225, 2.3982999324798584, 2.3935000896453857, 2.382499933242798, 2.3715999126434326, 2.3617000579833984, 2.3594000339508057, 2.358799934387207, 2.3582000732421875, 2.3541998863220215, 2.353300094604492, 2.347599983215332, 2.3473000526428223, 2.3380000591278076, 2.335700035095215, 2.3333001136779785, 2.324399948120117, 2.323699951171875, 2.3217999935150146, 2.303999900817871, 2.270400047302246, 2.3020999431610107, 2.299099922180176, 2.2995998859405518, 2.2021000385284424, 2.2272000312805176, 2.217600107192993, 2.0638999938964844, 2.3001999855041504, 2.120800018310547, 2.0734000205993652, 1.8971999883651733, 1.9328999519348145, 1.9910999536514282, 1.7935999631881714, 1.7440999746322632, 1.5749000310897827, 0.7233999967575073, 1.2188999652862549, 1.9154000282287598, 1.269700050354004, 0.7414000034332275, 1.42739999294281, 0.17399999499320984, -0.46540001034736633, 0.22859999537467957, 0.6596999764442444, 0.22210000455379486, 1.0225000381469727, -1.5321999788284302, -0.3379000127315521, -0.311599999666214, -0.7979000210762024, -0.3246000111103058, 2.6173999309539795, 2.6129000186920166, 2.5971999168395996, 2.591900110244751, 2.5808000564575195, 2.580699920654297, 2.575200080871582, 2.5729000568389893, 2.566499948501587, 2.5576999187469482, 2.5517001152038574, 2.544800043106079, 2.544100046157837, 2.5399999618530273, 2.5164999961853027, 2.515500068664551, 2.5139000415802, 2.512700080871582, 2.5046000480651855, 2.493499994277954, 2.487499952316284, 2.4702999591827393, 2.4702000617980957, 2.4660000801086426, 2.464400053024292, 2.463599920272827, 2.4632999897003174, 2.448699951171875, 2.436000108718872, 2.4351999759674072, 2.282599925994873, 2.089600086212158, 2.1120998859405518, 2.342099905014038, 2.029900074005127, 1.4479999542236328, 2.1903998851776123, 2.1923000812530518, 1.9510999917984009, 1.325600028038025, 1.122499942779541, 0.9869999885559082, 0.011099999770522118, 0.7728000283241272, 0.838100016117096, 0.5580000281333923, 1.0125000476837158, -1.204800009727478, 1.2907999753952026, -0.034299999475479126, 0.10740000009536743, 2.7920000553131104, 2.7899999618530273, 2.775899887084961, 2.773900032043457, 2.760699987411499, 2.7600998878479004, 2.7592999935150146, 2.7571001052856445, 2.7434000968933105, 2.743000030517578, 2.724400043487549, 2.723099946975708, 2.721100091934204, 2.7186999320983887, 2.711699962615967, 2.6898000240325928, 2.688800096511841, 2.6828999519348145, 2.6786999702453613, 2.6765999794006348, 2.6751999855041504, 2.674799919128418, 2.6733999252319336, 2.665600061416626, 2.6547999382019043, 2.647700071334839, 2.644399881362915, 2.617799997329712, 2.60509991645813, 2.6012001037597656, 2.424299955368042, 2.4649999141693115, 2.470400094985962, 2.4477999210357666, 2.365799903869629, 2.236999988555908, 2.4798998832702637, 1.6908999681472778, 2.5171000957489014, 2.222599983215332, 1.9449000358581543, 2.0211000442504883, 1.5628999471664429, 1.5428999662399292, 2.1373000144958496, 2.2797999382019043, 1.3365999460220337, 0.7936000227928162, -0.5993000268936157, -0.1348000019788742, 0.3192000091075897, 0.906499981880188, 0.2240000069141388, -0.44600000977516174, -0.6622999906539917, -1.489799976348877, 0.06700000166893005, -1.0176000595092773, 2.897900104522705, 2.878499984741211, 2.8784000873565674, 2.870500087738037, 2.8622000217437744, 2.860300064086914, 2.8399999141693115, 2.8299999237060547, 2.827899932861328, 2.81850004196167, 2.8180999755859375, 2.8164000511169434, 2.8152999877929688, 2.8127999305725098, 2.8125998973846436, 2.8120999336242676, 2.800100088119507, 2.766900062561035, 2.7627999782562256, 2.759200096130371, 2.75, 2.746799945831299, 2.741499900817871, 2.7395999431610107, 2.7255001068115234, 2.7249999046325684, 2.720099925994873, 2.7167000770568848, 2.7111001014709473, 2.686000108718872, 2.6717000007629395, 2.608299970626831, 2.5885000228881836, 2.36680006980896, 2.368299961090088, 2.35479998588562, 2.4070000648498535, 2.49399995803833, 2.464099884033203, 1.989799976348877, 1.5722999572753906, 1.948199987411499, 0.3321000039577484, 2.208400011062622, 2.0092999935150146, 1.6419999599456787, 1.20169997215271, 1.6919000148773193, 1.1689000129699707, -0.7279999852180481, 1.988700032234192, 0.20630000531673431, -0.6664999723434448, 1.0297000408172607, -0.6588000059127808, 0.6137999892234802, 3.1050000190734863, 3.101900100708008, 3.098099946975708, 3.0938000679016113, 3.0917999744415283, 3.087100028991699, 3.085400104522705, 3.074700117111206, 3.0725998878479004, 3.0699000358581543, 3.0687999725341797, 3.0645999908447266, 3.064500093460083, 3.053299903869629, 3.0478999614715576, 3.0425000190734863, 3.0420000553131104, 3.0318000316619873, 3.0280001163482666, 3.0276999473571777, 3.0250000953674316, 3.0244998931884766, 2.9892001152038574, 2.988600015640259, 2.9835000038146973, 2.9625000953674316, 2.9518001079559326, 2.9358999729156494, 2.927500009536743, 2.9193999767303467, 2.8898000717163086, 2.7613000869750977, 2.638000011444092, 2.6064000129699707, 2.659899950027466, 2.54259991645813, 2.36680006980896, 2.6445999145507812, 2.405400037765503, 2.1719000339508057, 2.164599895477295, 2.05649995803833, 2.3877999782562256, -0.15919999778270721, 1.3273999691009521, 1.6227999925613403, 2.2753000259399414, 0.42399999499320984, 1.6986000537872314, 0.2892000079154968, -1.1756999492645264, 0.9803000092506409, 1.5499999523162842, 0.6197999715805054, 3.107300043106079, 3.099900007247925, 3.0950000286102295, 3.0940001010894775, 3.0738000869750977, 3.0671000480651855, 3.0571999549865723, 3.041800022125244, 3.0360000133514404, 3.0309998989105225, 3.0243000984191895, 3.0048000812530518, 2.9941000938415527, 2.9830000400543213, 2.9702999591827393, 2.966599941253662, 2.9623000621795654, 2.9500999450683594, 2.9335999488830566, 2.9156999588012695, 2.895400047302246, 2.882499933242798, 2.875499963760376, 2.849600076675415, 2.8238000869750977, 2.818700075149536, 2.8073999881744385, 2.765500068664551, 2.7523999214172363, 2.748800039291382, 2.627500057220459, 2.6098999977111816, 2.6308999061584473, 2.273900032043457, 2.4909000396728516, 2.5817999839782715, 2.079200029373169, 1.8763999938964844, 1.882099986076355, 1.964900016784668, -1.0108000040054321, 1.5126999616622925, -0.16820000112056732, -0.26100000739097595, -1.478700041770935, 1.4437999725341797, -1.5880000591278076, 0.05990000069141388, -0.9074000120162964]}, \"token.table\": {\"Topic\": [5, 2, 10, 2, 7, 6, 7, 1, 6, 3, 1, 2, 3, 4, 5, 6, 7, 9, 10, 11, 12, 1, 2, 3, 5, 6, 9, 10, 11, 12, 1, 2, 6, 10, 12, 1, 2, 4, 9, 11, 1, 2, 3, 4, 5, 6, 7, 8, 9, 1, 2, 3, 4, 5, 6, 7, 9, 10, 12, 8, 5, 10, 2, 3, 4, 5, 6, 9, 8, 1, 1, 3, 4, 11, 11, 12, 7, 8, 3, 4, 5, 7, 12, 2, 3, 5, 6, 7, 8, 9, 10, 3, 4, 4, 5, 2, 1, 2, 3, 4, 5, 6, 7, 8, 9, 10, 11, 12, 10, 4, 7, 7, 5, 3, 3, 10, 4, 5, 7, 8, 10, 1, 2, 3, 5, 6, 3, 7, 2, 12, 3, 5, 1, 1, 2, 3, 4, 5, 7, 8, 9, 10, 11, 1, 2, 4, 9, 8, 9, 1, 3, 4, 5, 6, 11, 12, 10, 1, 3, 6, 7, 10, 12, 2, 9, 1, 2, 3, 5, 7, 1, 2, 3, 4, 5, 6, 7, 9, 10, 11, 12, 1, 5, 5, 6, 7, 10, 11, 1, 2, 3, 4, 5, 6, 7, 8, 9, 10, 11, 12, 8, 3, 10, 1, 2, 3, 5, 7, 8, 9, 10, 11, 2, 4, 5, 6, 7, 9, 12, 7, 1, 2, 3, 4, 5, 6, 9, 10, 10, 4, 6, 9, 2, 3, 4, 5, 10, 4, 5, 7, 12, 1, 2, 3, 4, 5, 6, 7, 8, 9, 1, 2, 3, 4, 5, 6, 7, 8, 9, 10, 11, 1, 2, 3, 5, 6, 7, 8, 9, 10, 11, 4, 7, 4, 1, 3, 6, 7, 12, 2, 3, 4, 5, 6, 7, 8, 9, 11, 12, 1, 4, 5, 11, 5, 2, 3, 6, 8, 2, 12, 11, 6, 1, 2, 3, 4, 5, 6, 7, 9, 10, 11, 12, 9, 6, 10, 3, 4, 7, 9, 5, 2, 3, 4, 6, 1, 5, 10, 1, 2, 5, 9, 10, 12, 1, 2, 3, 4, 7, 11, 2, 3, 7, 1, 2, 5, 6, 9, 2, 4, 11, 12, 7, 1, 9, 8, 12, 1, 1, 1, 2, 4, 5, 6, 7, 9, 10, 11, 12, 8, 11, 1, 3, 4, 5, 6, 7, 9, 11, 3, 4, 5, 7, 9, 12, 1, 2, 3, 4, 5, 6, 7, 8, 9, 10, 11, 12, 1, 3, 9, 1, 5, 1, 4, 5, 9, 1, 2, 3, 4, 5, 8, 9, 10, 5, 2, 3, 5, 6, 1, 2, 3, 6, 8, 10, 11, 3, 1, 2, 3, 4, 5, 6, 7, 8, 9, 10, 12, 1, 3, 10, 1, 2, 8, 1, 2, 3, 4, 5, 6, 7, 10, 11, 3, 4, 7, 2, 4, 5, 6, 8, 9, 10, 11, 2, 1, 2, 4, 5, 7, 1, 6, 7, 4, 7, 9, 11, 6, 1, 1, 2, 3, 4, 6, 7, 9, 11, 1, 2, 3, 4, 5, 6, 9, 2, 4, 8, 9, 1, 2, 3, 4, 9, 10, 11, 2, 3, 4, 5, 6, 7, 9, 10, 11, 10, 10, 10, 1, 2, 4, 5, 9, 12, 4, 5, 6, 7, 10, 1, 2, 3, 4, 5, 6, 7, 9, 10, 11, 7, 9, 6, 6, 2, 5, 9, 6, 7, 1, 2, 3, 4, 5, 6, 7, 8, 9, 10, 11, 12, 10, 2, 5, 8, 10, 3, 6, 7, 10, 6, 5, 1, 12, 1, 10, 12, 7, 1, 5, 6, 12, 1, 2, 3, 5, 6, 8, 10, 5, 1, 2, 3, 4, 5, 6, 8, 10, 11, 6, 9, 7, 2, 3, 4, 6, 7, 8, 10, 11, 1, 2, 3, 5, 7, 1, 1, 5, 12, 3, 1, 2, 3, 6, 9, 6, 8, 1, 3, 5, 8, 9, 11, 2, 3, 5, 11, 12, 4, 5, 3, 5, 7, 9, 12, 10, 2, 11, 12, 5, 3, 6, 11, 8, 1, 6, 7, 3, 8, 12, 11, 1, 2, 3, 4, 5, 9, 10, 11, 12, 1, 2, 3, 4, 5, 7, 9, 10, 1, 2, 5, 6, 7, 8, 9, 12, 6, 5, 9, 10, 3, 4, 5, 6, 9, 5, 8, 9, 1, 3, 4, 5, 6, 7, 8, 9, 10, 1, 2, 4, 5, 6, 7, 8, 9, 11, 7, 5, 7, 8, 10, 4, 3, 8, 10, 11, 12, 3, 6, 8, 12, 3, 3, 6, 10, 1, 2, 3, 4, 5, 6, 7, 8, 9, 10, 12, 4, 1, 2, 3, 4, 5, 6, 7, 8, 1, 8, 11, 4, 1, 1, 7, 1, 2, 3, 6, 7, 9, 10, 3, 4, 11, 1, 3, 12, 4, 1, 6, 9, 11, 1, 5, 6, 1, 12, 8, 10, 1, 2, 3, 4, 5, 6, 7, 8, 9, 10, 11, 12, 1, 2, 5, 7, 9, 2, 3, 5, 6, 7, 9, 11, 12, 1, 2, 3, 5, 6, 9, 12, 5, 6, 1, 3, 4, 5, 6, 8, 10, 3, 8, 3, 1, 3, 4, 5, 6, 9, 11, 10, 1, 4, 5, 6, 8, 11, 3, 8, 2, 11, 6, 10, 12, 7, 1, 2, 3, 4, 5, 6, 7, 9, 10, 11, 12, 7, 6, 1, 2, 3, 4, 5, 6, 7, 8, 9, 10, 11, 1, 2, 3, 5, 7, 9, 10, 11, 11, 1, 5, 11, 12, 4, 11, 2, 6, 1, 2, 3, 4, 5, 6, 7, 8, 9, 3, 1, 2, 3, 4, 6, 7, 8, 9, 10, 5, 10, 1, 2, 4, 5, 1, 1, 2, 3, 4, 5, 7, 10, 11, 3, 5, 6, 2, 3, 4, 7, 2, 6, 9, 4, 1, 2, 4, 5, 6, 7, 8, 9, 5, 9, 10, 2, 6, 7, 12, 2, 7, 1, 2, 3, 6, 7, 9, 6, 5, 4, 5, 2, 4, 5, 8, 9, 2, 1, 2, 4, 7, 12, 6, 5, 1, 2, 5, 7, 2, 1, 12, 1, 4, 1, 2, 5, 7, 9, 10, 1, 5, 12, 9, 3, 11, 1, 2, 3, 4, 5, 6, 7, 8, 9, 10, 11, 12, 1, 2, 3, 4, 5, 6, 7, 10, 11, 3, 4, 5, 6, 7, 9, 12, 2, 1, 2, 3, 4, 5, 6, 7, 8, 9, 10, 11, 12, 1, 2, 3, 4, 5, 7, 8, 9, 11, 12, 3, 5, 7, 9, 1, 1, 3, 5, 8, 9, 10, 2, 1, 11, 2, 3, 4, 6, 7, 9, 10, 11, 1, 5, 9, 4, 1, 2, 3, 4, 5, 6, 9, 12, 5, 10, 12, 1, 2, 3, 4, 5, 6, 7, 8, 9, 10, 9, 8, 8, 1, 6, 7, 11, 7, 1, 2, 3, 4, 5, 6, 7, 8, 9, 10, 11, 12, 1, 2, 3, 4, 6, 7, 8, 10, 11, 12, 2, 3, 4, 9, 11, 2, 1, 4, 5, 11, 5, 1, 6, 10, 2, 11, 8, 1, 4, 10, 11, 11, 8, 1, 2, 3, 4, 5, 6, 7, 9, 10, 11, 12, 3, 5, 11, 3, 4, 5, 4, 8, 12, 2, 9, 1, 1, 3, 4, 5, 12, 7, 8, 10, 6, 4, 10, 2, 5, 1, 2, 3, 4, 5, 6, 7, 8, 9, 11, 2, 1, 2, 6, 9, 8, 10, 2, 3, 8, 5, 1, 2, 3, 4, 5, 6, 7, 8, 9, 10, 11, 12, 2, 1, 2, 3, 9, 11, 5, 2, 6, 7, 8, 2, 3, 5, 6, 9, 10, 2, 3, 4, 7, 9, 8, 1, 1, 2, 4, 5, 7, 5, 7, 9, 10, 1, 2, 5, 7, 1, 3, 4, 5, 7, 2, 3, 4, 5, 6, 7, 11, 5, 8, 7, 9, 1, 2, 3, 4, 5, 6, 7, 8, 9, 10, 11, 12, 6, 5, 10, 12, 1, 2, 3, 4, 5, 6, 7, 8, 9, 10, 11, 12, 4, 6, 6, 1, 2, 3, 5, 6, 7, 8, 9, 1, 2, 3, 4, 5, 6, 7, 8, 9, 10, 11, 12, 12, 7, 5, 1, 2, 4, 5, 6, 9, 11, 12, 4, 1, 2, 3, 4, 5, 6, 7, 8, 9, 10, 11, 12, 2, 3, 4, 5, 10, 3, 1, 2, 3, 7, 9, 11, 1, 2, 3, 4, 5, 6, 8, 10, 11, 12, 2, 5, 6, 9, 10, 12, 1, 3, 5, 9, 1, 9, 1, 12, 4, 9, 1, 2, 4, 6, 10, 3, 5, 7, 8, 4, 1, 3, 4, 5, 7, 12, 2, 4, 7, 10, 1, 2, 12, 2, 6, 10, 2, 3, 8, 12, 5, 6, 1, 3, 4, 5, 7, 9, 1, 2, 3, 4, 5, 6, 7, 8, 9, 10, 11, 12, 3, 3, 11, 8, 11, 2, 1, 2, 7, 12, 9, 2, 12, 1, 2, 3, 4, 5, 6, 7, 8, 9, 10, 11, 12, 9, 11, 3, 9, 4, 5, 12, 4, 4, 10, 1, 2, 3, 6, 8, 10, 5, 5, 6, 1, 2, 3, 4, 5, 6, 7, 9, 10, 5, 9, 10, 12, 2, 6, 9, 7, 11, 2, 3, 5, 10, 11, 5, 2, 3, 4, 6, 7, 8, 9, 10, 12, 1, 2, 4, 5, 7, 9, 1, 3, 4, 5, 6, 7, 8, 9, 10, 12, 12, 2, 10, 5, 8, 10, 5, 7, 3, 4, 6, 10, 5, 9, 1, 2, 3, 4, 5, 6, 10, 11, 1, 6, 1, 2, 3, 4, 5, 6, 7, 8, 9, 11, 12, 1, 2, 3, 4, 5, 6, 7, 8, 9, 10, 11, 1, 2, 3, 4, 5, 6, 7, 8, 9, 10, 11, 1, 2, 3, 7, 1, 2, 3, 4, 5, 7, 8, 9, 10, 11, 12, 1, 2, 3, 5, 7, 8, 9, 10, 11, 12, 2, 3, 7, 5, 2, 3, 4, 5, 6, 7, 8, 9, 12, 9, 6, 1, 2, 3, 4, 5, 6, 9, 10, 6, 9, 2, 11, 12, 5, 7, 8, 9, 1, 2, 9, 7, 5, 1, 4, 8, 11, 12, 1, 4, 5, 6, 7, 9, 11, 11, 1, 3, 4, 5, 6, 7, 8, 10, 11, 5, 12, 2, 9, 5, 1, 10, 11, 4, 6, 11, 1, 3, 8, 9, 11, 3, 4, 5, 7, 8, 9, 10, 12, 5, 3, 4, 12, 5, 2, 3, 4, 5, 6, 7, 8, 12, 1, 2, 3, 4, 5, 6, 7, 8, 9, 10, 11, 12, 12, 3, 8, 2, 1, 3, 4, 5, 7, 11, 12, 3, 1, 2, 3, 4, 5, 6, 7, 11, 5, 7, 1, 2, 5, 9, 10, 12, 2, 4, 6, 7, 10, 12, 3, 5, 6, 7, 11, 12, 1, 2, 3, 4, 5, 6, 7, 8, 9, 10, 11, 12, 1, 2, 3, 5, 6, 7, 11, 3, 1, 2, 3, 4, 5, 6, 7, 11, 12, 1, 2, 4, 5, 6, 7, 9, 11, 1, 5, 6, 9, 10, 11, 2, 11, 9, 3, 4, 5, 6, 9, 11, 11, 1, 2, 3, 5, 6, 7, 9, 4, 9, 4, 2, 1, 3, 4, 6, 10, 11, 10, 1, 8, 4, 9, 1, 2, 4, 5, 7, 9, 3, 12, 2, 3, 4, 5, 9, 10, 11, 1, 3, 4, 5, 7, 8, 9, 11, 12, 2, 5, 7, 2, 9, 7, 4, 1, 4, 5, 9, 10, 2, 5, 7, 8, 9, 4, 7, 8, 1, 2, 3, 4, 5, 6, 7, 11, 9, 7, 1, 5, 7, 10, 2, 6, 3, 10, 1, 2, 4, 5, 6, 9, 8, 3, 5, 3], \"Freq\": [0.955869734287262, 0.9691506624221802, 0.024850016459822655, 0.09724581241607666, 0.8752123117446899, 0.9466608166694641, 0.9417697787284851, 0.9426431059837341, 0.8979753255844116, 0.9349915385246277, 0.07469356805086136, 0.0071136727929115295, 0.008892090991139412, 0.38235992193222046, 0.10136984288692474, 0.02134101837873459, 0.2845469117164612, 0.06402305513620377, 0.019562600180506706, 0.033789947628974915, 0.0035568363964557648, 0.08020845800638199, 0.578646719455719, 0.14895856380462646, 0.08020845800638199, 0.040104229003190994, 0.005729175638407469, 0.01718752644956112, 0.03437505289912224, 0.011458351276814938, 0.25668737292289734, 0.03208592161536217, 0.03208592161536217, 0.6738043427467346, 0.03208592161536217, 0.020678041502833366, 0.14474628865718842, 0.2481364905834198, 0.5169510245323181, 0.06203412264585495, 0.09815211594104767, 0.6067585349082947, 0.022307299077510834, 0.017845839262008667, 0.004461459815502167, 0.08476773649454117, 0.1204594150185585, 0.031230218708515167, 0.008922919631004333, 0.23785696923732758, 0.22704528272151947, 0.08649343997240067, 0.11892848461866379, 0.021623359993100166, 0.032435040920972824, 0.09189928323030472, 0.005405839998275042, 0.1513635218143463, 0.02702920138835907, 0.9299200773239136, 0.9364606738090515, 0.8786091804504395, 0.05212501809000969, 0.03127501159906387, 0.05212501809000969, 0.010425004176795483, 0.04170001670718193, 0.8131502866744995, 0.9597532153129578, 0.9128776788711548, 0.17824691534042358, 0.25926825404167175, 0.11342985928058624, 0.4213109016418457, 0.9841025471687317, 0.9101189374923706, 0.11961560696363449, 0.8373092412948608, 0.0973179042339325, 0.032439298927783966, 0.6812252998352051, 0.16219650208950043, 0.7004754543304443, 0.048046134412288666, 0.07550106942653656, 0.03946647047996521, 0.05490987002849579, 0.07378513365983963, 0.7035326957702637, 0.0017159334383904934, 0.0017159334383904934, 0.13306723535060883, 0.7984033823013306, 0.9343219995498657, 0.9138749241828918, 0.9109735488891602, 0.06867151707410812, 0.21107788383960724, 0.04557003825902939, 0.01613938808441162, 0.08386152982711792, 0.07879818975925446, 0.17310285568237305, 0.3050661087036133, 0.005379796493798494, 0.0056962547823786736, 0.004746878985315561, 0.001265834434889257, 0.9681862592697144, 0.9363574981689453, 0.9704079031944275, 0.9709984660148621, 0.9032143354415894, 0.987217128276825, 0.9392148852348328, 0.8837157487869263, 0.06922005116939545, 0.8825556635856628, 0.01730501279234886, 0.01730501279234886, 0.01730501279234886, 0.16878141462802887, 0.07622386515140533, 0.08711298555135727, 0.5063442587852478, 0.15789228677749634, 0.9367432594299316, 0.03602858632802963, 0.1348109096288681, 0.6740545034408569, 0.9057762026786804, 0.03623104840517044, 0.929310142993927, 0.034112587571144104, 0.006822517607361078, 0.3343033790588379, 0.10233776271343231, 0.006822517607361078, 0.006822517607361078, 0.13645035028457642, 0.027290070429444313, 0.27972322702407837, 0.054580140858888626, 0.6490927934646606, 0.3019036054611206, 0.03019036166369915, 0.015095180831849575, 0.8381378650665283, 0.9568747878074646, 0.010357169434428215, 0.09839311242103577, 0.06214301660656929, 0.11392886191606522, 0.6939303874969482, 0.010357169434428215, 0.0051785847172141075, 0.8226965665817261, 0.012584478594362736, 0.006292239297181368, 0.03775343671441078, 0.056630153208971024, 0.006292239297181368, 0.880913496017456, 0.27810946106910706, 0.6845771074295044, 0.06435833871364594, 0.03217916935682297, 0.7079417109489441, 0.17698542773723602, 0.016089584678411484, 0.45449939370155334, 0.16599108278751373, 0.03754560276865959, 0.14227807521820068, 0.017784759402275085, 0.003952168859541416, 0.003952168859541416, 0.13239765167236328, 0.03161735087633133, 0.007904337719082832, 0.001976084429770708, 0.9596303701400757, 0.033090703189373016, 0.11616931110620499, 0.012907701544463634, 0.2839694321155548, 0.5808465480804443, 0.9670190215110779, 0.032309144735336304, 0.06803560256958008, 0.38988441228866577, 0.005902632139623165, 0.07487022876739502, 0.29171431064605713, 0.052813027054071426, 0.021435875445604324, 0.013669254258275032, 0.02609584853053093, 0.013669254258275032, 0.009941275231540203, 0.8970030546188354, 0.9099196195602417, 0.9259446263313293, 0.2308339774608612, 0.10552410036325455, 0.5869778394699097, 0.03297628089785576, 0.019785769283771515, 0.006595256272703409, 0.006595256272703409, 0.006595256272703409, 0.006595256272703409, 0.00975565705448389, 0.6731403470039368, 0.048778288066387177, 0.00975565705448389, 0.08780092000961304, 0.05853394418954849, 0.11706788837909698, 0.9745244979858398, 0.013272380456328392, 0.5043504238128662, 0.019908569753170013, 0.006636190228164196, 0.006636190228164196, 0.006636190228164196, 0.4180799722671509, 0.026544760912656784, 0.9414068460464478, 0.014677444472908974, 0.9540339112281799, 0.014677444472908974, 0.014169500209391117, 0.0070847501046955585, 0.9422717690467834, 0.028339000418782234, 0.0070847501046955585, 0.9139226078987122, 0.012519488111138344, 0.03755846247076988, 0.012519488111138344, 0.4380924701690674, 0.0031292319763451815, 0.015646159648895264, 0.03442155197262764, 0.02190462313592434, 0.150203138589859, 0.300406277179718, 0.012516927905380726, 0.02190462313592434, 0.16598619520664215, 0.02213149331510067, 0.31869351863861084, 0.26115161180496216, 0.008852597326040268, 0.039836689829826355, 0.16155990958213806, 0.004426298663020134, 0.004426298663020134, 0.006639447994530201, 0.004426298663020134, 0.017338138073682785, 0.0910252183675766, 0.008669069036841393, 0.0303417406976223, 0.008669069036841393, 0.8148924708366394, 0.004334534518420696, 0.008669069036841393, 0.004334534518420696, 0.008669069036841393, 0.9118160605430603, 0.9279801249504089, 0.9754718542098999, 0.7534440755844116, 0.1994410753250122, 0.0221601203083992, 0.858864426612854, 0.9242510199546814, 0.0650276392698288, 0.5024862885475159, 0.011823207139968872, 0.053204432129859924, 0.0650276392698288, 0.02955801784992218, 0.1950829178094864, 0.04138122498989105, 0.023646414279937744, 0.005911603569984436, 0.02467021532356739, 0.185026615858078, 0.16035640239715576, 0.6290904879570007, 0.9560765624046326, 0.05728296935558319, 0.014320742338895798, 0.9022067785263062, 0.014320742338895798, 0.9365283250808716, 0.8851260542869568, 0.8130142688751221, 0.9446189403533936, 0.12746712565422058, 0.014996131882071495, 0.09747485816478729, 0.1349651962518692, 0.0074980659410357475, 0.15745939314365387, 0.014996131882071495, 0.044988397508859634, 0.18745166063308716, 0.20994585752487183, 0.9707889556884766, 0.8422763347625732, 0.021105673164129257, 0.9708609580993652, 0.1336720734834671, 0.712917685508728, 0.014852452091872692, 0.1336720734834671, 0.9784414768218994, 0.6023821234703064, 0.05925070121884346, 0.2666281461715698, 0.05925070121884346, 0.6800618171691895, 0.2833591103553772, 0.02833591029047966, 0.6182135343551636, 0.08654989302158356, 0.13600698113441467, 0.04945708066225052, 0.04945708066225052, 0.04945708066225052, 0.05795241519808769, 0.25664639472961426, 0.008278916589915752, 0.016557833179831505, 0.049673497676849365, 0.5960819721221924, 0.9488019943237305, 0.9733254909515381, 0.9215391874313354, 0.7619936466217041, 0.09071353077888489, 0.06349947303533554, 0.07257082313299179, 0.8338360786437988, 0.6764609217643738, 0.10496807098388672, 0.011663119308650494, 0.1866099089384079, 0.9651778936386108, 0.9667283892631531, 0.8673474192619324, 0.9369155764579773, 0.9600906372070312, 0.910624086856842, 0.8464245200157166, 0.033310145139694214, 0.04282733052968979, 0.7328231930732727, 0.06186170130968094, 0.0047585922293365, 0.06662029027938843, 0.028551554307341576, 0.0047585922293365, 0.0047585922293365, 0.019034368917346, 0.8200318217277527, 0.9599000811576843, 0.644736111164093, 0.1864939033985138, 0.005328397266566753, 0.05328397452831268, 0.047955576330423355, 0.021313589066267014, 0.04262717813253403, 0.005328397266566753, 0.06754431128501892, 0.013508861884474754, 0.040526583790779114, 0.56737220287323, 0.013508861884474754, 0.283686101436615, 0.1031116396188736, 0.37205228209495544, 0.0042520263232290745, 0.13393883407115936, 0.15519896149635315, 0.021260131150484085, 0.17645908892154694, 0.0010630065808072686, 0.0042520263232290745, 0.0021260131616145372, 0.008504052646458149, 0.018071111291646957, 0.8620976209640503, 0.05388110131025314, 0.02694055065512657, 0.9169315099716187, 0.06323665380477905, 0.1527475267648697, 0.7891955375671387, 0.025457920506596565, 0.8733603358268738, 0.003662576200440526, 0.018312880769371986, 0.010987728834152222, 0.303993821144104, 0.062263794243335724, 0.59333735704422, 0.007325152400881052, 0.003662576200440526, 0.9289098381996155, 0.09333458542823792, 0.8691783547401428, 0.01166682317852974, 0.02333364635705948, 0.232166588306427, 0.1502254456281662, 0.0136568583548069, 0.4916469156742096, 0.0136568583548069, 0.0546274334192276, 0.0409705750644207, 0.9556539058685303, 0.03870106488466263, 0.008600236847996712, 0.0666518360376358, 0.1118030771613121, 0.017200473695993423, 0.019350532442331314, 0.6622182130813599, 0.002150059211999178, 0.05160142108798027, 0.019350532442331314, 0.002150059211999178, 0.85722416639328, 0.10715302079916, 0.7661566734313965, 0.9240532517433167, 0.06209169700741768, 0.90032958984375, 0.0329124815762043, 0.1042228564620018, 0.008228120394051075, 0.002742706798017025, 0.0191989466547966, 0.8063557744026184, 0.0109708271920681, 0.002742706798017025, 0.01371353305876255, 0.9484538435935974, 0.11070148646831512, 0.8487114310264587, 0.12573783099651337, 0.05388764292001724, 0.005987515673041344, 0.07185018807649612, 0.05388764292001724, 0.5628264546394348, 0.0958002507686615, 0.03592509403824806, 0.9383843541145325, 0.12852005660533905, 0.07090761512517929, 0.004431725945323706, 0.031022081151604652, 0.7578251361846924, 0.32258811593055725, 0.6682182550430298, 0.9746269583702087, 0.030568087473511696, 0.3362489640712738, 0.5807936787605286, 0.030568087473511696, 0.8637418150901794, 0.9074323177337646, 0.018137123435735703, 0.018137123435735703, 0.018137123435735703, 0.054411374032497406, 0.027205687016248703, 0.027205687016248703, 0.036274246871471405, 0.7889649271965027, 0.02688492462038994, 0.04480820894241333, 0.7527778744697571, 0.02688492462038994, 0.12546297907829285, 0.008961641229689121, 0.008961641229689121, 0.8822546601295471, 0.9564425349235535, 0.94398033618927, 0.8436765074729919, 0.31526222825050354, 0.036376409232616425, 0.12125469744205475, 0.012125469744205475, 0.02425093948841095, 0.4001404941082001, 0.07275281846523285, 0.10755401104688644, 0.16133101284503937, 0.015364858321845531, 0.007682429160922766, 0.2151080220937729, 0.011523643508553505, 0.28040868043899536, 0.17669586837291718, 0.02304728701710701, 0.8713484406471252, 0.9419108033180237, 0.9826549887657166, 0.023828642442822456, 0.023828642442822456, 0.023828642442822456, 0.21445778012275696, 0.7148593068122864, 0.9262648224830627, 0.06761542707681656, 0.06010260432958603, 0.5784875750541687, 0.09766673296689987, 0.18030782043933868, 0.08851735293865204, 0.004023516084998846, 0.11668197065591812, 0.06839977204799652, 0.02414109744131565, 0.02414109744131565, 0.23336394131183624, 0.22934041917324066, 0.10058790445327759, 0.10461141914129257, 0.016520841047167778, 0.974729597568512, 0.8949496150016785, 0.9614031910896301, 0.9300730228424072, 0.030002357438206673, 0.8067210912704468, 0.09580597281455994, 0.8896268606185913, 0.08394418656826019, 0.059460464864969254, 0.15156589448451996, 0.1107596904039383, 0.09327131509780884, 0.019820155575871468, 0.01282480638474226, 0.02331782877445221, 0.08277829736471176, 0.2611596882343292, 0.06762170791625977, 0.03381085395812988, 0.8939156532287598, 0.9627041220664978, 0.2450292855501175, 0.02450292930006981, 0.7350878715515137, 0.9618756771087646, 0.00933859869837761, 0.00933859869837761, 0.00933859869837761, 0.9685489535331726, 0.9403045177459717, 0.8671388030052185, 0.869450032711029, 0.029576759785413742, 0.9168795347213745, 0.059153519570827484, 0.9154888391494751, 0.04989473149180412, 0.02494736574590206, 0.7484209537506104, 0.14968419075012207, 0.007639515213668346, 0.022918544709682465, 0.84034663438797, 0.022918544709682465, 0.0687556341290474, 0.007639515213668346, 0.015279030427336693, 0.8817942142486572, 0.08997754752635956, 0.14396406710147858, 0.008997754193842411, 0.08097979426383972, 0.008997754193842411, 0.026993263512849808, 0.053986527025699615, 0.5758562684059143, 0.960644543170929, 0.8778327703475952, 0.9762022495269775, 0.9290866851806641, 0.36168184876441956, 0.15140171349048615, 0.008411206305027008, 0.008411206305027008, 0.15140171349048615, 0.008411206305027008, 0.2943921983242035, 0.016822412610054016, 0.15723004937171936, 0.4035571217536926, 0.03144600987434387, 0.356388121843338, 0.04716901481151581, 0.9163192510604858, 0.11067754775285721, 0.695687472820282, 0.1739218682050705, 0.9191081523895264, 0.008896761573851109, 0.9341599345207214, 0.035587046295404434, 0.008896761573851109, 0.8815123438835144, 0.21446944773197174, 0.7506430745124817, 0.06842724978923798, 0.22809083759784698, 0.045618169009685516, 0.638654351234436, 0.022809084504842758, 0.9145225286483765, 0.1270323097705841, 0.0052930130623281, 0.0052930130623281, 0.0052930130623281, 0.8521750569343567, 0.9042333960533142, 0.9016515016555786, 0.03079851157963276, 0.06159702315926552, 0.8315598368644714, 0.03079851157963276, 0.03079851157963276, 0.9346941709518433, 0.10984882712364197, 0.009986257180571556, 0.8588181138038635, 0.9577233791351318, 0.9131191372871399, 0.054746825248003006, 0.9306960105895996, 0.9409220814704895, 0.004825117066502571, 0.9939741492271423, 0.8807730078697205, 0.9858226180076599, 0.004481012001633644, 0.004481012001633644, 0.9646628499031067, 0.175941601395607, 0.4398540258407593, 0.010996350087225437, 0.021992700174450874, 0.021992700174450874, 0.04398540034890175, 0.021992700174450874, 0.07697445154190063, 0.1979343146085739, 0.25863251090049744, 0.423622190952301, 0.13823461532592773, 0.031214267015457153, 0.004459180869162083, 0.11147952824831009, 0.026755087077617645, 0.004459180869162083, 0.09100349992513657, 0.16100618243217468, 0.028001075610518456, 0.07700295746326447, 0.007000268902629614, 0.5460209846496582, 0.04900188371539116, 0.04200161248445511, 0.9750131368637085, 0.09928363561630249, 0.024820908904075623, 0.8439109325408936, 0.8869593143463135, 0.007990623824298382, 0.015981247648596764, 0.015981247648596764, 0.06392499059438705, 0.017944740131497383, 0.9331264495849609, 0.017944740131497383, 0.06360743194818497, 0.002544297371059656, 0.002544297371059656, 0.005088594742119312, 0.005088594742119312, 0.022898675873875618, 0.8854154944419861, 0.005088594742119312, 0.005088594742119312, 0.07833937555551529, 0.02121691405773163, 0.004896210972219706, 0.08813180029392242, 0.13056562840938568, 0.07344316691160202, 0.579384982585907, 0.019584843888878822, 0.003264140570536256, 0.8193477392196655, 0.01765814796090126, 0.8475911021232605, 0.088290736079216, 0.05297444388270378, 0.9025893807411194, 0.31164565682411194, 0.06560961157083511, 0.01640240289270878, 0.4756697118282318, 0.1148168221116066, 0.7559603452682495, 0.027998531237244606, 0.16799119114875793, 0.03733137622475624, 0.9429219365119934, 0.9570814967155457, 0.741816520690918, 0.24727217853069305, 0.2250303477048874, 0.07854832708835602, 0.006368783302605152, 0.03821270167827606, 0.00424585584551096, 0.010614639148116112, 0.560452938079834, 0.07005661725997925, 0.00424585584551096, 0.00212292792275548, 0.00212292792275548, 0.8064368963241577, 0.15671983361244202, 0.6601229310035706, 0.023745430633425713, 0.0189963448792696, 0.014247258193790913, 0.0094981724396348, 0.0047490862198174, 0.10922897607088089, 0.06460890918970108, 0.9045247435569763, 0.8858327269554138, 0.981421709060669, 0.9676351547241211, 0.9563993215560913, 0.9020113348960876, 0.007198067381978035, 0.05758453905582428, 0.4174879193305969, 0.35990336537361145, 0.02879226952791214, 0.01439613476395607, 0.10797101259231567, 0.9477832317352295, 0.021540528163313866, 0.8273366093635559, 0.909659206867218, 0.12922129034996033, 0.8399384021759033, 0.7871171832084656, 0.17751699686050415, 0.05917233228683472, 0.05917233228683472, 0.6903438568115234, 0.06264195591211319, 0.06264195591211319, 0.8456663489341736, 0.3647681176662445, 0.5732070803642273, 0.7504857778549194, 0.9036301374435425, 0.5821247100830078, 0.046821556985378265, 0.011181266978383064, 0.047520384192466736, 0.01816955953836441, 0.009084779769182205, 0.06009931117296219, 0.19217802584171295, 0.006289462558925152, 0.0020964876748621464, 0.01677190139889717, 0.006289462558925152, 0.013628512620925903, 0.8585962653160095, 0.08177107572555542, 0.027257025241851807, 0.013628512620925903, 0.024938588961958885, 0.22444729506969452, 0.024938588961958885, 0.04987717792391777, 0.024938588961958885, 0.024938588961958885, 0.6234647035598755, 0.9775880575180054, 0.9513673782348633, 0.0065611544996500015, 0.0065611544996500015, 0.0065611544996500015, 0.019683463498950005, 0.0065611544996500015, 0.0065611544996500015, 0.9573168754577637, 0.9124082922935486, 0.012695222161710262, 0.31738054752349854, 0.03808566555380821, 0.012695222161710262, 0.4697232246398926, 0.08886655420064926, 0.06347610801458359, 0.9076833128929138, 0.0349108949303627, 0.9387050271034241, 0.04149952903389931, 0.5975931882858276, 0.024899717420339584, 0.016599811613559723, 0.07469914853572845, 0.016599811613559723, 0.22409744560718536, 0.8643435835838318, 0.6549734473228455, 0.009775722399353981, 0.10753294825553894, 0.21506589651107788, 0.009775722399353981, 0.9656019806861877, 0.8905870914459229, 0.09627968817949295, 0.9443396925926208, 0.894338071346283, 0.898797333240509, 0.8821077346801758, 0.9579381942749023, 0.9765759706497192, 0.15120534598827362, 0.04419848322868347, 0.06629772484302521, 0.42221182584762573, 0.051177192479372025, 0.040709130465984344, 0.06048213690519333, 0.07560267299413681, 0.019773006439208984, 0.05931901931762695, 0.009304944425821304, 0.9589342474937439, 0.8061793446540833, 0.06690476834774017, 0.38397517800331116, 0.03781573846936226, 0.01163561176508665, 0.15417185425758362, 0.07272256910800934, 0.08726708590984344, 0.15417185425758362, 0.0029089029412716627, 0.0029089029412716627, 0.0232712235301733, 0.005955168511718512, 0.3632652759552002, 0.4287721514701843, 0.029775843024253845, 0.07741719484329224, 0.05359651893377304, 0.023820674046874046, 0.011910337023437023, 0.9291144609451294, 0.045407723635435104, 0.045407723635435104, 0.8173390030860901, 0.09081544727087021, 0.8704143762588501, 0.10880179703235626, 0.9630295038223267, 0.024075737223029137, 0.0068127126432955265, 0.0613144151866436, 0.14306697249412537, 0.040876276791095734, 0.6540204286575317, 0.034063562750816345, 0.040876276791095734, 0.013625425286591053, 0.0068127126432955265, 0.9547424912452698, 0.4838408827781677, 0.0760321393609047, 0.03456006199121475, 0.138240247964859, 0.1520642787218094, 0.05184009671211243, 0.0034560062922537327, 0.031104058027267456, 0.031104058027267456, 0.07406923174858093, 0.9258654117584229, 0.026376422494649887, 0.26376423239707947, 0.6857869625091553, 0.026376422494649887, 0.9742441773414612, 0.1387944221496582, 0.718465268611908, 0.016328755766153336, 0.008164377883076668, 0.06531502306461334, 0.04082188755273819, 0.016328755766153336, 0.008164377883076668, 0.027434764429926872, 0.7407386302947998, 0.19204334914684296, 0.8112275004386902, 0.0881768986582756, 0.03527076169848442, 0.05290614068508148, 0.9734928607940674, 0.8584320545196533, 0.9359843730926514, 0.9620249271392822, 0.01758391223847866, 0.11722608655691147, 0.04689043387770653, 0.19928434491157532, 0.5040721893310547, 0.023445216938853264, 0.07619695365428925, 0.011722608469426632, 0.5419324636459351, 0.4290298521518707, 0.9519143104553223, 0.9367552995681763, 0.03700082376599312, 0.9250205755233765, 0.8972631692886353, 0.8755374550819397, 0.0946526974439621, 0.016940239816904068, 0.6437290906906128, 0.28798407316207886, 0.008470119908452034, 0.025410357862710953, 0.008470119908452034, 0.8834465742111206, 0.9368653893470764, 0.8991270661354065, 0.04732247814536095, 0.9041229486465454, 0.009721752256155014, 0.019443504512310028, 0.038887009024620056, 0.029165256768465042, 0.9293058514595032, 0.10363674908876419, 0.025909187272191048, 0.051818374544382095, 0.20727349817752838, 0.6088659167289734, 0.9122142791748047, 0.9416754841804504, 0.6711373925209045, 0.007626560982316732, 0.007626560982316732, 0.3050624430179596, 0.9743632078170776, 0.11818541586399078, 0.8272979259490967, 0.11399203538894653, 0.7979442477226257, 0.06831405311822891, 0.03903660178184509, 0.06831405311822891, 0.7026588320732117, 0.03903660178184509, 0.06831405311822891, 0.20446568727493286, 0.051116421818733215, 0.7156298756599426, 0.9673595428466797, 0.9239596724510193, 0.9139494299888611, 0.07322797924280167, 0.01620619371533394, 0.004801834933459759, 0.006002293433994055, 0.03361284360289574, 0.02941123954951763, 0.004801834933459759, 0.0024009174667298794, 0.03121192753314972, 0.004801834933459759, 0.013805275782942772, 0.7802981734275818, 0.0428793728351593, 0.10451847314834595, 0.6431906223297119, 0.008039882406592369, 0.013399804942309856, 0.1259581595659256, 0.0428793728351593, 0.005359921604394913, 0.016079764813184738, 0.03570882976055145, 0.699893057346344, 0.14997708797454834, 0.007141765672713518, 0.049992360174655914, 0.057134125381708145, 0.007141765672713518, 0.9519658088684082, 0.017714519053697586, 0.0016104107489809394, 0.0032208214979618788, 0.033818624913692474, 0.009662464261054993, 0.0032208214979618788, 0.02737698331475258, 0.0016104107489809394, 0.877673864364624, 0.0032208214979618788, 0.012883285991847515, 0.004831232130527496, 0.16558191180229187, 0.11243215948343277, 0.008176884613931179, 0.1942010074853897, 0.4231537878513336, 0.06541507691144943, 0.006132663227617741, 0.010221106000244617, 0.01430954784154892, 0.7352523803710938, 0.022162379696965218, 0.022162379696965218, 0.24378617107868195, 0.709196150302887, 0.9215083122253418, 0.02870103530585766, 0.9088661074638367, 0.009567011147737503, 0.02870103530585766, 0.009567011147737503, 0.009567011147737503, 0.9418129324913025, 0.9344655871391296, 0.9116790890693665, 0.1864018589258194, 0.4362596869468689, 0.03965996950864792, 0.09518393129110336, 0.031727977097034454, 0.0753539428114891, 0.015863988548517227, 0.11897991597652435, 0.020784428343176842, 0.9560837149620056, 0.8790566325187683, 0.9006196856498718, 0.07108559459447861, 0.24879957735538483, 0.6131132245063782, 0.017771398648619652, 0.008885699324309826, 0.008885699324309826, 0.008885699324309826, 0.008885699324309826, 0.11868701130151749, 0.7417938113212585, 0.11868701130151749, 0.9213107824325562, 0.001728538074530661, 0.001728538074530661, 0.003457076149061322, 0.027656609192490578, 0.001728538074530661, 0.001728538074530661, 0.003457076149061322, 0.03629929944872856, 0.8398607969284058, 0.8875640034675598, 0.9324140548706055, 0.9822403192520142, 0.014993431977927685, 0.19491462409496307, 0.7646650671958923, 0.9028589129447937, 0.9256612658500671, 0.19793805480003357, 0.13394945859909058, 0.06484177708625793, 0.09470312297344208, 0.022182712331414223, 0.06484177708625793, 0.06142904981970787, 0.004265906289219856, 0.32591524720191956, 0.004265906289219856, 0.023035895079374313, 0.0025595438200980425, 0.01745852455496788, 0.00872926227748394, 0.06983409821987152, 0.1833145022392273, 0.2618778645992279, 0.00872926227748394, 0.00872926227748394, 0.38408753275871277, 0.03491704910993576, 0.02618778683245182, 0.8456482887268066, 0.02511826530098915, 0.033491019159555435, 0.033491019159555435, 0.0502365306019783, 0.8686903715133667, 0.8880689740180969, 0.0672779530286789, 0.013455591164529324, 0.013455591164529324, 0.9463605880737305, 0.40078580379486084, 0.07634015381336212, 0.4962109923362732, 0.035950519144535065, 0.9347135424613953, 0.9805694222450256, 0.9682732820510864, 0.9604987502098083, 0.017787013202905655, 0.9068887233734131, 0.8904839158058167, 0.9210655093193054, 0.014362229965627193, 0.3159690797328949, 0.020107122138142586, 0.03734179958701134, 0.08617338538169861, 0.002872446086257696, 0.04595913738012314, 0.08617338538169861, 0.18096409738063812, 0.16660186648368835, 0.04595913738012314, 0.020067360252141953, 0.020067360252141953, 0.9431659579277039, 0.018547195941209793, 0.38949111104011536, 0.5749630331993103, 0.8773705363273621, 0.8317198753356934, 0.13861998915672302, 0.9418475031852722, 0.9496678709983826, 0.9495322108268738, 0.3556371331214905, 0.17781856656074524, 0.12447299063205719, 0.017781855538487434, 0.3200734257698059, 0.9146791100502014, 0.8555214405059814, 0.962939977645874, 0.9427655339241028, 0.11609648168087006, 0.8513742089271545, 0.09236498177051544, 0.8774672746658325, 0.05806721746921539, 0.0853232592344284, 0.0959886685013771, 0.045031722635030746, 0.4349116086959839, 0.1386502981185913, 0.10546903312206268, 0.0011850452283397317, 0.01066540740430355, 0.02607099711894989, 0.9233132600784302, 0.750623881816864, 0.05117890238761902, 0.017059633508324623, 0.17059634625911713, 0.047680970281362534, 0.905938446521759, 0.9259706735610962, 0.024367649108171463, 0.024367649108171463, 0.9570936560630798, 0.11331797391176224, 0.057946689426898956, 0.06281135231256485, 0.11646569520235062, 0.3317984640598297, 0.06495752185583115, 0.01817093789577484, 0.07254067063331604, 0.03290799632668495, 0.07568839192390442, 0.03748650103807449, 0.01588168554008007, 0.8602709770202637, 0.011026681400835514, 0.2370736449956894, 0.7387876510620117, 0.005513340700417757, 0.005513340700417757, 0.9694962501525879, 0.07922998070716858, 0.8319147825241089, 0.06602498143911362, 0.9246852993965149, 0.08437126129865646, 0.09562075883150101, 0.09562075883150101, 0.6468462944030762, 0.04499800503253937, 0.028123753145337105, 0.17138001322746277, 0.6202324032783508, 0.04896571487188339, 0.14689715206623077, 0.008160952478647232, 0.9661841988563538, 0.9609983563423157, 0.05239304527640343, 0.047153741121292114, 0.738741934299469, 0.0104786092415452, 0.14670053124427795, 0.02558128535747528, 0.26860350370407104, 0.6779040694236755, 0.01279064267873764, 0.047908879816532135, 0.01596962660551071, 0.03193925321102142, 0.8942990899085999, 0.02716079168021679, 0.00905359722673893, 0.34403669834136963, 0.00905359722673893, 0.615644633769989, 0.4587453603744507, 0.022197356447577477, 0.15538150072097778, 0.10358766466379166, 0.014798237942159176, 0.007399118971079588, 0.2441709190607071, 0.9364668726921082, 0.9343270659446716, 0.8879534602165222, 0.9278825521469116, 0.01276061125099659, 0.00957045890390873, 0.00957045890390873, 0.01276061125099659, 0.07656367123126984, 0.008507074788212776, 0.002126768697053194, 0.002126768697053194, 0.002126768697053194, 0.8177425265312195, 0.010633843019604683, 0.037218451499938965, 0.8617752194404602, 0.11036571860313416, 0.11036571860313416, 0.6621943116188049, 0.10411646217107773, 0.07973475754261017, 0.010543439537286758, 0.06523752957582474, 0.2787421643733978, 0.11136507987976074, 0.10016267746686935, 0.22009429335594177, 0.021745843812823296, 0.005930684506893158, 0.0013179299421608448, 0.0006589649710804224, 0.944602906703949, 0.94332355260849, 0.9801227450370789, 0.33275747299194336, 0.2145819216966629, 0.16171391308307648, 0.08707672357559204, 0.09018660336732864, 0.009329648688435555, 0.08085695654153824, 0.02487906441092491, 0.005972787272185087, 0.016999470070004463, 0.019756142050027847, 0.8288390636444092, 0.009188903495669365, 0.03445838764309883, 0.019296696409583092, 0.0009188902913592756, 0.052376747131347656, 0.0009188902913592756, 0.0018377805827185512, 0.00872945785522461, 0.9801765084266663, 0.9219070672988892, 0.8568542003631592, 0.3043307363986969, 0.06916607916355133, 0.11066572368144989, 0.06916607916355133, 0.006916607730090618, 0.006916607730090618, 0.013833215460181236, 0.4219130873680115, 0.9090901017189026, 0.017008809372782707, 0.06520044058561325, 0.11764427274465561, 0.008504404686391354, 0.026930615305900574, 0.6357042789459229, 0.037561122328042984, 0.0077957045286893845, 0.03826982155442238, 0.027639316394925117, 0.01133920717984438, 0.006378303747624159, 0.025349557399749756, 0.19012168049812317, 0.012674778699874878, 0.19012168049812317, 0.5703650116920471, 0.9593808054924011, 0.014092918485403061, 0.8690633177757263, 0.08925515413284302, 0.014092918485403061, 0.004697639495134354, 0.004697639495134354, 0.03834104537963867, 0.019170522689819336, 0.019170522689819336, 0.005477292463183403, 0.035602401942014694, 0.019170522689819336, 0.0027386462315917015, 0.7859914302825928, 0.027386462315917015, 0.0465569831430912, 0.240873321890831, 0.018528718501329422, 0.018528718501329422, 0.018528718501329422, 0.018528718501329422, 0.6855625510215759, 0.9457563757896423, 0.8374440670013428, 0.09102652966976166, 0.0364106111228466, 0.8952396512031555, 0.9015905857086182, 0.8266662359237671, 0.11809518188238144, 0.03194110840559006, 0.9262921214103699, 0.3346496820449829, 0.07605674862861633, 0.16732484102249146, 0.015211349353194237, 0.39549508690834045, 0.22835257649421692, 0.08457502722740173, 0.6681427359580994, 0.008457502350211143, 0.9419891238212585, 0.05141981691122055, 0.014023586176335812, 0.25709909200668335, 0.06076887249946594, 0.579641580581665, 0.03272170200943947, 0.08649258315563202, 0.5189555287361145, 0.27389317750930786, 0.10090801119804382, 0.8690986037254333, 0.07242488116025925, 0.7391818761825562, 0.9025909900665283, 0.07649075984954834, 0.8685822486877441, 0.0280257910490036, 0.0280257910490036, 0.3923610746860504, 0.5324900150299072, 0.07904315739870071, 0.8892354965209961, 0.004899246152490377, 0.024496231228113174, 0.44583138823509216, 0.009798492304980755, 0.48012611269950867, 0.034294724464416504, 0.22610904276371002, 0.08613678067922592, 0.07536967843770981, 0.1022874265909195, 0.18842419981956482, 0.02691774256527424, 0.037684839218854904, 0.016150645911693573, 0.00538354879245162, 0.00538354879245162, 0.22072549164295197, 0.00538354879245162, 0.9774507880210876, 0.9586790204048157, 0.9668071269989014, 0.8902570605278015, 0.9503075480461121, 0.9581234455108643, 0.942726731300354, 0.850836992263794, 0.17647074162960052, 0.7058829665184021, 0.9622816443443298, 0.05705816298723221, 0.9129306077957153, 0.04376678541302681, 0.7055205702781677, 0.024509400129318237, 0.05076947063207626, 0.026260072365403175, 0.017506714910268784, 0.007002685684710741, 0.0017506714211776853, 0.03151208534836769, 0.06652551144361496, 0.005252014379948378, 0.019257385283708572, 0.8646766543388367, 0.0864676684141159, 0.9602329134941101, 0.9370207786560059, 0.024479703977704048, 0.36719557642936707, 0.5875129103660583, 0.9224556684494019, 0.9675021767616272, 0.8905265927314758, 0.029969533905386925, 0.3955978453159332, 0.32367098331451416, 0.17981721460819244, 0.041957348585128784, 0.017981721088290215, 0.857939600944519, 0.04119200259447098, 0.9474160075187683, 0.002013457240536809, 0.006040371488779783, 0.008053828962147236, 0.9201499223709106, 0.022148028016090393, 0.002013457240536809, 0.026174942031502724, 0.006040371488779783, 0.006040371488779783, 0.050602205097675323, 0.02024088241159916, 0.8602374792098999, 0.06072264909744263, 0.8971880078315735, 0.04984377697110176, 0.02492188848555088, 0.8443266153335571, 0.8817981481552124, 0.3228224813938141, 0.018989557400345802, 0.018989557400345802, 0.6076658368110657, 0.018989557400345802, 0.8698702454566956, 0.1191207692027092, 0.02748940885066986, 0.009163135662674904, 0.05497881770133972, 0.09163136035203934, 0.5039724707603455, 0.17409957945346832, 0.009163135662674904, 0.009163135662674904, 0.41129493713378906, 0.018279774114489555, 0.054839324206113815, 0.027419662103056908, 0.027419662103056908, 0.4569943845272064, 0.8199266195297241, 0.05906251072883606, 0.0034742653369903564, 0.024319857358932495, 0.06948530673980713, 0.006948530673980713, 0.0034742653369903564, 0.0034742653369903564, 0.0034742653369903564, 0.006948530673980713, 0.8337748646736145, 0.8857921361923218, 0.08052656054496765, 0.025588491931557655, 0.9211857318878174, 0.025588491931557655, 0.14593251049518585, 0.8464085459709167, 0.058211881667375565, 0.029105940833687782, 0.9022842049598694, 0.906487226486206, 0.9250013828277588, 0.04625006765127182, 0.007360671181231737, 0.0588853694498539, 0.0220820140093565, 0.007360671181231737, 0.1030493974685669, 0.16929543018341064, 0.007360671181231737, 0.6182963848114014, 0.9417005181312561, 0.923755943775177, 0.15000267326831818, 0.2942360043525696, 0.12981000542640686, 0.1442333310842514, 0.09230933338403702, 0.02884666807949543, 0.05480866879224777, 0.002884666668251157, 0.002884666668251157, 0.08077067136764526, 0.020192667841911316, 0.021330419927835464, 0.26205942034721375, 0.19502097368240356, 0.012188810855150223, 0.0030472027137875557, 0.29557865858078003, 0.0030472027137875557, 0.03351923078298569, 0.14931292831897736, 0.0030472027137875557, 0.018283216282725334, 0.007932795211672783, 0.07932795584201813, 0.1560116410255432, 0.005288530141115189, 0.07403942197561264, 0.10312633961439133, 0.4045725464820862, 0.12428046017885208, 0.015865590423345566, 0.005288530141115189, 0.021154120564460754, 0.8886434435844421, 0.020666126161813736, 0.04133225232362747, 0.020666126161813736, 0.018430588766932487, 0.036861177533864975, 0.009215294383466244, 0.05529176816344261, 0.4331188499927521, 0.009215294383466244, 0.018430588766932487, 0.009215294383466244, 0.009215294383466244, 0.387042373418808, 0.009215294383466244, 0.17261864244937897, 0.11148287355899811, 0.16182997822761536, 0.014384887181222439, 0.010788665153086185, 0.16542620956897736, 0.2876977324485779, 0.0035962217953056097, 0.06832821667194366, 0.0035962217953056097, 0.0550009161233902, 0.0550009161233902, 0.8250137567520142, 0.9271177053451538, 0.04961664602160454, 0.018606243655085564, 0.22947698831558228, 0.05581872910261154, 0.08062705397605896, 0.06202080845832825, 0.02480832301080227, 0.1364457756280899, 0.34731653332710266, 0.7963279485702515, 0.8823718428611755, 0.0862179845571518, 0.5111494660377502, 0.27712923288345337, 0.012316854670643806, 0.06774269789457321, 0.03079213574528694, 0.006158427335321903, 0.006158427335321903, 0.9025542736053467, 0.0722043439745903, 0.9555559158325195, 0.01873639039695263, 0.01873639039695263, 0.12083513289690018, 0.04027837514877319, 0.08055675029754639, 0.7250107526779175, 0.7218611836433411, 0.24062038958072662, 0.021874582394957542, 0.9034782648086548, 0.9892807006835938, 0.0044972896575927734, 0.0044972896575927734, 0.0044972896575927734, 0.9804092049598694, 0.0044972896575927734, 0.25599414110183716, 0.6251019835472107, 0.005953351967036724, 0.005953351967036724, 0.05358016863465309, 0.005953351967036724, 0.041673462837934494, 0.962661862373352, 0.0872633084654808, 0.12544101476669312, 0.19634245336055756, 0.00545395677909255, 0.038177698850631714, 0.016361869871616364, 0.00545395677909255, 0.3981388509273529, 0.1308949589729309, 0.9520880579948425, 0.9163133502006531, 0.13419769704341888, 0.8051861524581909, 0.8933043479919434, 0.47094443440437317, 0.01569814793765545, 0.48664259910583496, 0.9037375450134277, 0.05880532041192055, 0.8820797801017761, 0.922617495059967, 0.96104896068573, 0.028266146779060364, 0.09493331611156464, 0.8543998599052429, 0.008588618598878384, 0.034354474395513535, 0.008588618598878384, 0.034354474395513535, 0.8416846394538879, 0.008588618598878384, 0.05153171345591545, 0.008588618598878384, 0.9401066303253174, 0.9207736849784851, 0.10779378563165665, 0.8623502850532532, 0.8896604180335999, 0.04889313504099846, 0.029335880652070045, 0.2151297926902771, 0.26402291655540466, 0.029335880652070045, 0.11734352260828018, 0.26402291655540466, 0.03911450877785683, 0.22455282509326935, 0.14214812219142914, 0.021631235256791115, 0.1472984105348587, 0.011330646462738514, 0.028841646388173103, 0.1060960590839386, 0.2698754072189331, 0.012360705994069576, 0.02781158685684204, 0.004120235331356525, 0.004120235331356525, 0.7968736886978149, 0.9723966121673584, 0.7528520226478577, 0.9754722714424133, 0.018692007288336754, 0.31776413321495056, 0.028038010001182556, 0.20561207830905914, 0.009346003644168377, 0.3831861615180969, 0.028038010001182556, 0.9751859903335571, 0.16841112077236176, 0.06736444681882858, 0.3705044686794281, 0.009623493067920208, 0.004811746533960104, 0.014435239136219025, 0.35125747323036194, 0.014435239136219025, 0.09056062996387482, 0.8150456547737122, 0.14889618754386902, 0.24816031754016876, 0.016544021666049957, 0.5459526777267456, 0.016544021666049957, 0.016544021666049957, 0.08172805607318878, 0.027242686599493027, 0.05448537319898605, 0.1906988024711609, 0.6265817880630493, 0.027242686599493027, 0.10724350064992905, 0.28955745697021484, 0.10724350064992905, 0.1823139488697052, 0.02144869975745678, 0.28955745697021484, 0.3393470346927643, 0.12514926493167877, 0.10348881036043167, 0.06498134881258011, 0.1395895630121231, 0.01925373263657093, 0.08904851227998734, 0.0024067165795713663, 0.03610074892640114, 0.014440299943089485, 0.043320897966623306, 0.021660448983311653, 0.05681972950696945, 0.4021088778972626, 0.008741497062146664, 0.004370748531073332, 0.004370748531073332, 0.507006824016571, 0.008741497062146664, 0.933790922164917, 0.2959527373313904, 0.2305678278207779, 0.08947408199310303, 0.05161966383457184, 0.15141767263412476, 0.017206553369760513, 0.12044587731361389, 0.030971797183156013, 0.006882621441036463, 0.03452739492058754, 0.08977122604846954, 0.0069054788909852505, 0.08286574482917786, 0.1173931434750557, 0.06905478984117508, 0.03452739492058754, 0.5593438148498535, 0.008410299196839333, 0.004205149598419666, 0.012615448795258999, 0.95036381483078, 0.004205149598419666, 0.016820598393678665, 0.07825030386447906, 0.8607533574104309, 0.9130642414093018, 0.021665753796696663, 0.19499178230762482, 0.010832876898348331, 0.08666301518678665, 0.639139711856842, 0.021665753796696663, 0.9491770267486572, 0.1082315444946289, 0.5286694765090942, 0.05411577224731445, 0.004162751603871584, 0.2289513498544693, 0.062441278249025345, 0.012488255277276039, 0.17515166103839874, 0.7589905261993408, 0.866025447845459, 0.9403517246246338, 0.943511426448822, 0.006787852384150028, 0.006787852384150028, 0.02036355622112751, 0.006787852384150028, 0.013575704768300056, 0.9263054132461548, 0.09714586287736893, 0.8257398009300232, 0.9867663383483887, 0.9407204985618591, 0.0034763438161462545, 0.0034763438161462545, 0.09733762592077255, 0.0034763438161462545, 0.013905375264585018, 0.8725622892379761, 0.33327561616897583, 0.6110053062438965, 0.08379147201776505, 0.02793049067258835, 0.013965245336294174, 0.418957382440567, 0.19551344215869904, 0.1675829440355301, 0.09775672107934952, 0.1748770922422409, 0.01589791662991047, 0.08743854612112045, 0.12718333303928375, 0.07948958873748779, 0.06359166651964188, 0.06359166651964188, 0.34180521965026855, 0.03179583325982094, 0.12975798547267914, 0.8434268832206726, 0.9194204807281494, 0.8822309970855713, 0.06964981555938721, 0.8590356707572937, 0.8915224671363831, 0.6232722997665405, 0.09089387953281403, 0.11686355620622635, 0.09089387953281403, 0.05193936079740524, 0.07893821597099304, 0.01973455399274826, 0.01973455399274826, 0.8485857844352722, 0.01973455399274826, 0.08050249516963959, 0.24150748550891876, 0.6440199613571167, 0.022613437846302986, 0.1402033120393753, 0.004522687755525112, 0.004522687755525112, 0.058794938027858734, 0.22161169350147247, 0.07688568532466888, 0.4703595042228699, 0.9649925827980042, 0.9229646921157837, 0.008670514449477196, 0.026011543348431587, 0.7803462743759155, 0.17341028153896332, 0.8964080810546875, 0.9334852695465088, 0.9588851928710938, 0.02458680048584938, 0.06321406364440918, 0.03160703182220459, 0.6795511841773987, 0.06321406364440918, 0.12642812728881836, 0.047410547733306885, 0.8834489583969116, 0.965698778629303, 0.029263600707054138, 0.9631352424621582], \"Term\": [\"access\", \"accessory\", \"accessory\", \"account\", \"account\", \"ad\", \"adapter\", \"adaptor\", \"advantage\", \"alarm\", \"amazon\", \"amazon\", \"amazon\", \"amazon\", \"amazon\", \"amazon\", \"amazon\", \"amazon\", \"amazon\", \"amazon\", \"amazon\", \"android\", \"android\", \"android\", \"android\", \"android\", \"android\", \"android\", \"android\", \"android\", \"anyone\", \"anyone\", \"anyone\", \"anyone\", \"anyone\", \"anything\", \"anything\", \"anything\", \"anything\", \"anything\", \"app\", \"app\", \"app\", \"app\", \"app\", \"app\", \"app\", \"app\", \"app\", \"apps\", \"apps\", \"apps\", \"apps\", \"apps\", \"apps\", \"apps\", \"apps\", \"apps\", \"apps\", \"aspect\", \"asphalt\", \"assistant\", \"atmos\", \"atmos\", \"atmos\", \"atmos\", \"atmos\", \"atmos\", \"atom\", \"aug\", \"auto\", \"auto\", \"auto\", \"auto\", \"awesome\", \"awsome\", \"b\", \"b\", \"back\", \"back\", \"back\", \"back\", \"backlight\", \"backup\", \"backup\", \"backup\", \"backup\", \"backup\", \"backup\", \"backup\", \"backup\", \"bakwas\", \"bakwas\", \"bank\", \"batery\", \"batter\", \"battery\", \"battery\", \"battery\", \"battery\", \"battery\", \"battery\", \"battery\", \"battery\", \"battery\", \"battery\", \"battery\", \"battery\", \"battry\", \"beast\", \"bed\", \"bekar\", \"bhai\", \"bhi\", \"bhut\", \"bilkul\", \"bill\", \"bill\", \"bill\", \"bill\", \"bill\", \"bit\", \"bit\", \"bit\", \"bit\", \"bit\", \"blur\", \"blur\", \"board\", \"board\", \"bokeh\", \"bokeh\", \"book\", \"box\", \"box\", \"box\", \"box\", \"box\", \"box\", \"box\", \"box\", \"box\", \"box\", \"brightness\", \"brightness\", \"brightness\", \"brightness\", \"brother\", \"browsing\", \"budget\", \"budget\", \"budget\", \"budget\", \"budget\", \"budget\", \"budget\", \"bulky\", \"buy\", \"buy\", \"buy\", \"buy\", \"buy\", \"buy\", \"buying\", \"buying\", \"cable\", \"cable\", \"cable\", \"cable\", \"cable\", \"call\", \"call\", \"call\", \"call\", \"call\", \"call\", \"call\", \"call\", \"call\", \"call\", \"call\", \"caller\", \"caller\", \"cam\", \"cam\", \"cam\", \"cam\", \"camara\", \"camera\", \"camera\", \"camera\", \"camera\", \"camera\", \"camera\", \"camera\", \"camera\", \"camera\", \"camera\", \"camera\", \"camera\", \"camra\", \"capture\", \"car\", \"card\", \"card\", \"card\", \"card\", \"card\", \"card\", \"card\", \"card\", \"card\", \"care\", \"care\", \"care\", \"care\", \"care\", \"care\", \"care\", \"cash\", \"cast\", \"cast\", \"cast\", \"cast\", \"cast\", \"cast\", \"cast\", \"cast\", \"category\", \"cell\", \"cell\", \"cell\", \"center\", \"center\", \"center\", \"center\", \"center\", \"centre\", \"centre\", \"centre\", \"centre\", \"charge\", \"charge\", \"charge\", \"charge\", \"charge\", \"charge\", \"charge\", \"charge\", \"charge\", \"charger\", \"charger\", \"charger\", \"charger\", \"charger\", \"charger\", \"charger\", \"charger\", \"charger\", \"charger\", \"charger\", \"charging\", \"charging\", \"charging\", \"charging\", \"charging\", \"charging\", \"charging\", \"charging\", \"charging\", \"charging\", \"cheater\", \"cheating\", \"china\", \"choice\", \"choice\", \"choice\", \"chrome\", \"chromecast\", \"clarity\", \"clarity\", \"clarity\", \"clarity\", \"clarity\", \"clarity\", \"clarity\", \"clarity\", \"clarity\", \"clarity\", \"class\", \"class\", \"class\", \"class\", \"clearity\", \"color\", \"color\", \"color\", \"color\", \"colour\", \"comapre\", \"combination\", \"comment\", \"company\", \"company\", \"company\", \"company\", \"company\", \"company\", \"company\", \"company\", \"company\", \"company\", \"comparison\", \"competition\", \"complain\", \"complain\", \"complaint\", \"complaint\", \"complaint\", \"complaint\", \"concern\", \"condition\", \"condition\", \"condition\", \"condition\", \"connection\", \"connection\", \"connection\", \"connectivity\", \"connectivity\", \"connectivity\", \"connectivity\", \"connectivity\", \"connectivity\", \"contact\", \"contact\", \"contact\", \"contact\", \"contact\", \"contact\", \"control\", \"cool\", \"copy\", \"core\", \"core\", \"core\", \"core\", \"corner\", \"cost\", \"cost\", \"cost\", \"cost\", \"couple\", \"coverage\", \"coz\", \"cpu\", \"crack\", \"crash\", \"curve\", \"customer\", \"customer\", \"customer\", \"customer\", \"customer\", \"customer\", \"customer\", \"customer\", \"customer\", \"customer\", \"dad\", \"damage\", \"data\", \"data\", \"data\", \"data\", \"data\", \"data\", \"data\", \"data\", \"date\", \"date\", \"date\", \"date\", \"date\", \"date\", \"day\", \"day\", \"day\", \"day\", \"day\", \"day\", \"day\", \"day\", \"day\", \"day\", \"day\", \"day\", \"deal\", \"deal\", \"deal\", \"deca\", \"deca\", \"defect\", \"defect\", \"defect\", \"degree\", \"delivery\", \"delivery\", \"delivery\", \"delivery\", \"delivery\", \"delivery\", \"delivery\", \"delivery\", \"department\", \"depth\", \"depth\", \"depth\", \"depth\", \"design\", \"design\", \"design\", \"design\", \"design\", \"design\", \"design\", \"detail\", \"device\", \"device\", \"device\", \"device\", \"device\", \"device\", \"device\", \"device\", \"device\", \"device\", \"device\", \"difference\", \"difference\", \"disadvantage\", \"disaster\", \"discharge\", \"discharge\", \"display\", \"display\", \"display\", \"display\", \"display\", \"display\", \"display\", \"display\", \"display\", \"diya\", \"doesnt\", \"doesnt\", \"dolby\", \"dolby\", \"dolby\", \"dolby\", \"dolby\", \"dolby\", \"dolby\", \"dolby\", \"dot\", \"drain\", \"drain\", \"drain\", \"drain\", \"drain\", \"drainage\", \"drainage\", \"draining\", \"drop\", \"drop\", \"drop\", \"drop\", \"dslr\", \"ear\", \"earphone\", \"earphone\", \"earphone\", \"earphone\", \"earphone\", \"earphone\", \"earphone\", \"earphone\", \"effect\", \"effect\", \"effect\", \"effect\", \"effect\", \"effect\", \"effect\", \"efficient\", \"effort\", \"ek\", \"electronics\", \"etc\", \"etc\", \"etc\", \"etc\", \"etc\", \"etc\", \"etc\", \"everything\", \"everything\", \"everything\", \"everything\", \"everything\", \"everything\", \"everything\", \"everything\", \"everything\", \"everytime\", \"example\", \"excellent\", \"exchange\", \"exchange\", \"exchange\", \"exchange\", \"exchange\", \"executive\", \"expectation\", \"expectation\", \"expectation\", \"expectation\", \"expectation\", \"experience\", \"experience\", \"experience\", \"experience\", \"experience\", \"experience\", \"experience\", \"experience\", \"experience\", \"experience\", \"facility\", \"facility\", \"factory\", \"fake\", \"fall\", \"fall\", \"family\", \"fast\", \"fast\", \"feature\", \"feature\", \"feature\", \"feature\", \"feature\", \"feature\", \"feature\", \"feature\", \"feature\", \"feature\", \"feature\", \"feature\", \"feeling\", \"file\", \"fine\", \"fine\", \"fine\", \"flash\", \"flash\", \"flash\", \"flash\", \"flashlight\", \"flipkart\", \"folder\", \"fon\", \"fone\", \"fone\", \"fone\", \"form\", \"friend\", \"friend\", \"friend\", \"friend\", \"front\", \"front\", \"front\", \"front\", \"front\", \"front\", \"front\", \"fuction\", \"function\", \"function\", \"function\", \"function\", \"function\", \"function\", \"function\", \"function\", \"functionality\", \"functioning\", \"future\", \"g\", \"gallery\", \"gallery\", \"gallery\", \"gallery\", \"gallery\", \"gallery\", \"gallery\", \"gallery\", \"game\", \"game\", \"game\", \"game\", \"game\", \"gamer\", \"gaming\", \"gaming\", \"gaming\", \"gaya\", \"gb\", \"gb\", \"gb\", \"gb\", \"generation\", \"gesture\", \"gesture\", \"get\", \"get\", \"get\", \"get\", \"get\", \"gift\", \"glass\", \"glass\", \"glass\", \"glass\", \"glass\", \"go\", \"god\", \"good\", \"good\", \"good\", \"good\", \"good\", \"goog\", \"gorilla\", \"gorilla\", \"gorilla\", \"graphic\", \"group\", \"gud\", \"gud\", \"gya\", \"h\", \"h\", \"ha\", \"hai\", \"hai\", \"hai\", \"half\", \"hand\", \"hand\", \"hand\", \"hand\", \"hand\", \"hand\", \"hand\", \"hand\", \"hand\", \"handset\", \"handset\", \"handset\", \"handset\", \"handset\", \"handset\", \"handset\", \"handset\", \"hang\", \"hang\", \"hang\", \"hang\", \"hang\", \"hang\", \"hang\", \"hang\", \"hd\", \"head\", \"head\", \"head\", \"headphone\", \"headphone\", \"headphone\", \"headphone\", \"headphone\", \"headset\", \"headset\", \"headset\", \"heat\", \"heat\", \"heat\", \"heat\", \"heat\", \"heat\", \"heat\", \"heat\", \"heat\", \"heating\", \"heating\", \"heating\", \"heating\", \"heating\", \"heating\", \"heating\", \"heating\", \"heating\", \"heatup\", \"help\", \"help\", \"help\", \"help\", \"hence\", \"hi\", \"hi\", \"hi\", \"hi\", \"hi\", \"ho\", \"ho\", \"ho\", \"ho\", \"hone\", \"hota\", \"hotspot\", \"hotspot\", \"hour\", \"hour\", \"hour\", \"hour\", \"hour\", \"hour\", \"hour\", \"hour\", \"hour\", \"hour\", \"hour\", \"house\", \"hr\", \"hr\", \"hr\", \"hr\", \"hr\", \"hr\", \"hr\", \"hr\", \"hu\", \"hu\", \"hv\", \"icon\", \"id\", \"idea\", \"im\", \"image\", \"image\", \"image\", \"image\", \"image\", \"image\", \"image\", \"improvement\", \"improvement\", \"inbuilt\", \"india\", \"information\", \"information\", \"inspite\", \"interface\", \"interface\", \"interface\", \"interface\", \"invoice\", \"invoice\", \"invoice\", \"iron\", \"iron\", \"iska\", \"isme\", \"issue\", \"issue\", \"issue\", \"issue\", \"issue\", \"issue\", \"issue\", \"issue\", \"issue\", \"issue\", \"issue\", \"issue\", \"item\", \"item\", \"item\", \"item\", \"item\", \"jack\", \"jack\", \"jack\", \"jack\", \"jack\", \"jack\", \"jack\", \"jata\", \"jio\", \"jio\", \"jio\", \"jio\", \"jio\", \"jio\", \"jio\", \"job\", \"jyada\", \"k\", \"k\", \"k\", \"k\", \"k\", \"k\", \"k\", \"ka\", \"ka\", \"kar\", \"key\", \"key\", \"key\", \"key\", \"key\", \"key\", \"key\", \"kharab\", \"killer\", \"killer\", \"killer\", \"killer\", \"killer\", \"kiya\", \"ko\", \"ko\", \"last\", \"launch\", \"left\", \"lena\", \"lenevo\", \"lenova\", \"lenovo\", \"lenovo\", \"lenovo\", \"lenovo\", \"lenovo\", \"lenovo\", \"lenovo\", \"lenovo\", \"lenovo\", \"lenovo\", \"lenovo\", \"level\", \"lie\", \"life\", \"life\", \"life\", \"life\", \"life\", \"life\", \"life\", \"life\", \"life\", \"life\", \"life\", \"light\", \"light\", \"light\", \"light\", \"light\", \"light\", \"light\", \"light\", \"limit\", \"line\", \"line\", \"line\", \"line\", \"location\", \"location\", \"lock\", \"lock\", \"look\", \"look\", \"look\", \"look\", \"look\", \"look\", \"look\", \"look\", \"look\", \"loss\", \"lot\", \"lot\", \"lot\", \"lot\", \"lot\", \"lot\", \"lot\", \"lot\", \"lot\", \"love\", \"love\", \"lover\", \"lover\", \"lover\", \"lover\", \"lte\", \"mah\", \"mah\", \"mah\", \"mah\", \"mah\", \"mah\", \"mah\", \"mah\", \"mail\", \"mail\", \"mail\", \"management\", \"management\", \"management\", \"management\", \"manager\", \"manner\", \"manufacturer\", \"manufacturing\", \"mark\", \"mark\", \"mark\", \"mark\", \"mark\", \"mark\", \"mark\", \"mark\", \"market\", \"market\", \"mast\", \"matter\", \"max\", \"max\", \"mean\", \"medium\", \"medium\", \"memory\", \"memory\", \"memory\", \"memory\", \"memory\", \"memory\", \"mention\", \"menu\", \"mera\", \"mera\", \"message\", \"message\", \"message\", \"message\", \"message\", \"messenger\", \"mi\", \"mi\", \"mi\", \"mi\", \"mi\", \"micromax\", \"microphone\", \"min\", \"min\", \"min\", \"min\", \"mind\", \"mine\", \"mine\", \"minus\", \"minus\", \"minute\", \"minute\", \"minute\", \"minute\", \"minute\", \"minute\", \"mistake\", \"mistake\", \"mistake\", \"mob\", \"mobail\", \"mobil\", \"mobile\", \"mobile\", \"mobile\", \"mobile\", \"mobile\", \"mobile\", \"mobile\", \"mobile\", \"mobile\", \"mobile\", \"mobile\", \"mobile\", \"mode\", \"mode\", \"mode\", \"mode\", \"mode\", \"mode\", \"mode\", \"mode\", \"mode\", \"model\", \"model\", \"model\", \"model\", \"model\", \"model\", \"model\", \"moment\", \"money\", \"money\", \"money\", \"money\", \"money\", \"money\", \"money\", \"money\", \"money\", \"money\", \"money\", \"money\", \"month\", \"month\", \"month\", \"month\", \"month\", \"month\", \"month\", \"month\", \"month\", \"mother\", \"motorola\", \"motorola\", \"motorola\", \"motorola\", \"movie\", \"mp\", \"mp\", \"mp\", \"mp\", \"mp\", \"mp\", \"msg\", \"multi\", \"multimedia\", \"music\", \"music\", \"music\", \"music\", \"music\", \"music\", \"music\", \"music\", \"n\", \"n\", \"nano\", \"navigation\", \"need\", \"need\", \"need\", \"need\", \"need\", \"need\", \"need\", \"need\", \"net\", \"net\", \"net\", \"network\", \"network\", \"network\", \"network\", \"network\", \"network\", \"network\", \"network\", \"network\", \"networking\", \"news\", \"nhi\", \"nice\", \"night\", \"night\", \"night\", \"nokia\", \"none\", \"note\", \"note\", \"note\", \"note\", \"note\", \"note\", \"note\", \"note\", \"note\", \"note\", \"note\", \"note\", \"nothing\", \"nothing\", \"nothing\", \"nothing\", \"nothing\", \"nothing\", \"nothing\", \"nothing\", \"nothing\", \"nothing\", \"notification\", \"notification\", \"notification\", \"notification\", \"notification\", \"nougat\", \"number\", \"number\", \"number\", \"number\", \"oct\", \"offer\", \"offer\", \"offer\", \"office\", \"office\", \"ok\", \"okay\", \"one\", \"one\", \"operating\", \"operation\", \"optimization\", \"option\", \"option\", \"option\", \"option\", \"option\", \"option\", \"option\", \"option\", \"option\", \"option\", \"option\", \"order\", \"order\", \"order\", \"oreo\", \"oreo\", \"oreo\", \"osm\", \"others\", \"others\", \"overheating\", \"pack\", \"pad\", \"part\", \"part\", \"part\", \"part\", \"part\", \"patch\", \"payment\", \"pc\", \"penny\", \"percentage\", \"percentage\", \"perfect\", \"perfect\", \"performance\", \"performance\", \"performance\", \"performance\", \"performance\", \"performance\", \"performance\", \"performance\", \"performance\", \"performance\", \"persist\", \"person\", \"person\", \"person\", \"person\", \"ph\", \"ph\", \"phn\", \"phn\", \"phn\", \"phon\", \"phone\", \"phone\", \"phone\", \"phone\", \"phone\", \"phone\", \"phone\", \"phone\", \"phone\", \"phone\", \"phone\", \"phone\", \"phoneall\", \"photo\", \"photo\", \"photo\", \"photo\", \"photo\", \"photography\", \"pic\", \"pic\", \"pic\", \"pick\", \"picture\", \"picture\", \"picture\", \"picture\", \"picture\", \"picture\", \"piece\", \"piece\", \"piece\", \"piece\", \"piece\", \"pin\", \"place\", \"please\", \"please\", \"please\", \"please\", \"please\", \"pls\", \"pls\", \"pls\", \"pls\", \"plz\", \"plz\", \"plz\", \"plz\", \"policy\", \"policy\", \"policy\", \"policy\", \"policy\", \"power\", \"power\", \"power\", \"power\", \"power\", \"power\", \"power\", \"powerfull\", \"pr\", \"prblm\", \"premium\", \"price\", \"price\", \"price\", \"price\", \"price\", \"price\", \"price\", \"price\", \"price\", \"price\", \"price\", \"price\", \"prise\", \"prize\", \"prize\", \"prize\", \"problem\", \"problem\", \"problem\", \"problem\", \"problem\", \"problem\", \"problem\", \"problem\", \"problem\", \"problem\", \"problem\", \"problem\", \"procedure\", \"processer\", \"processing\", \"processor\", \"processor\", \"processor\", \"processor\", \"processor\", \"processor\", \"processor\", \"processor\", \"product\", \"product\", \"product\", \"product\", \"product\", \"product\", \"product\", \"product\", \"product\", \"product\", \"product\", \"product\", \"protection\", \"provider\", \"pubg\", \"purchase\", \"purchase\", \"purchase\", \"purchase\", \"purchase\", \"purchase\", \"purchase\", \"purchase\", \"purpose\", \"quality\", \"quality\", \"quality\", \"quality\", \"quality\", \"quality\", \"quality\", \"quality\", \"quality\", \"quality\", \"quality\", \"quality\", \"r\", \"r\", \"r\", \"r\", \"r\", \"raha\", \"ram\", \"ram\", \"ram\", \"ram\", \"ram\", \"ram\", \"range\", \"range\", \"range\", \"range\", \"range\", \"range\", \"range\", \"range\", \"range\", \"range\", \"rating\", \"rating\", \"rating\", \"rating\", \"rating\", \"rating\", \"reality\", \"rear\", \"rear\", \"rear\", \"reboot\", \"recharge\", \"record\", \"record\", \"recorder\", \"recorder\", \"recording\", \"recording\", \"recording\", \"recording\", \"recording\", \"refund\", \"refund\", \"refund\", \"refund\", \"repair\", \"replacement\", \"replacement\", \"replacement\", \"replacement\", \"replacement\", \"replacement\", \"request\", \"request\", \"request\", \"request\", \"reset\", \"reset\", \"resistant\", \"resolution\", \"resolution\", \"respect\", \"restart\", \"restart\", \"restart\", \"restart\", \"result\", \"result\", \"return\", \"return\", \"return\", \"return\", \"return\", \"return\", \"review\", \"review\", \"review\", \"review\", \"review\", \"review\", \"review\", \"review\", \"review\", \"review\", \"review\", \"review\", \"rha\", \"right\", \"ringtone\", \"risk\", \"rock\", \"rom\", \"round\", \"rounder\", \"run\", \"run\", \"rupee\", \"scratch\", \"scratch\", \"screen\", \"screen\", \"screen\", \"screen\", \"screen\", \"screen\", \"screen\", \"screen\", \"screen\", \"screen\", \"screen\", \"screen\", \"screenshot\", \"screenshot\", \"se\", \"section\", \"segment\", \"segment\", \"segment\", \"sell\", \"seller\", \"sensing\", \"sensor\", \"sensor\", \"sensor\", \"sensor\", \"sensor\", \"sensor\", \"september\", \"series\", \"series\", \"service\", \"service\", \"service\", \"service\", \"service\", \"service\", \"service\", \"service\", \"service\", \"set\", \"set\", \"set\", \"set\", \"setting\", \"setting\", \"setting\", \"shopping\", \"shortcut\", \"shot\", \"shot\", \"shot\", \"shot\", \"shot\", \"shutter\", \"side\", \"side\", \"side\", \"side\", \"side\", \"side\", \"side\", \"side\", \"side\", \"signal\", \"signal\", \"signal\", \"signal\", \"signal\", \"signal\", \"sim\", \"sim\", \"sim\", \"sim\", \"sim\", \"sim\", \"sim\", \"sim\", \"sim\", \"sim\", \"simple\", \"sims\", \"sims\", \"sir\", \"sir\", \"sir\", \"site\", \"site\", \"size\", \"size\", \"size\", \"slim\", \"smart\", \"smart\", \"smartphone\", \"smartphone\", \"smartphone\", \"smartphone\", \"smartphone\", \"smartphone\", \"smartphone\", \"smartphone\", \"smartphones\", \"socket\", \"software\", \"software\", \"software\", \"software\", \"software\", \"software\", \"software\", \"software\", \"software\", \"software\", \"software\", \"sound\", \"sound\", \"sound\", \"sound\", \"sound\", \"sound\", \"sound\", \"sound\", \"sound\", \"sound\", \"sound\", \"speaker\", \"speaker\", \"speaker\", \"speaker\", \"speaker\", \"speaker\", \"speaker\", \"speaker\", \"speaker\", \"speaker\", \"speaker\", \"spec\", \"spec\", \"spec\", \"spec\", \"specification\", \"specification\", \"specification\", \"specification\", \"specification\", \"specification\", \"specification\", \"specification\", \"specification\", \"specification\", \"specification\", \"speed\", \"speed\", \"speed\", \"speed\", \"speed\", \"speed\", \"speed\", \"speed\", \"speed\", \"speed\", \"stand\", \"stand\", \"stand\", \"standard\", \"star\", \"star\", \"star\", \"star\", \"star\", \"star\", \"star\", \"star\", \"star\", \"station\", \"step\", \"stock\", \"stock\", \"stock\", \"stock\", \"stock\", \"stock\", \"stock\", \"stock\", \"stop\", \"stop\", \"storage\", \"storage\", \"storage\", \"store\", \"store\", \"store\", \"store\", \"strength\", \"strength\", \"strength\", \"style\", \"super\", \"superb\", \"superb\", \"superb\", \"superb\", \"superb\", \"support\", \"support\", \"support\", \"support\", \"support\", \"support\", \"support\", \"switch\", \"system\", \"system\", \"system\", \"system\", \"system\", \"system\", \"system\", \"system\", \"system\", \"tag\", \"talk\", \"tap\", \"tap\", \"task\", \"team\", \"team\", \"team\", \"technician\", \"technology\", \"technology\", \"temperature\", \"tha\", \"tha\", \"thank\", \"thank\", \"thanks\", \"thanks\", \"thanks\", \"thanks\", \"thanks\", \"thanks\", \"thanks\", \"thanks\", \"thats\", \"thik\", \"think\", \"think\", \"ti\", \"till\", \"till\", \"till\", \"till\", \"till\", \"till\", \"till\", \"till\", \"time\", \"time\", \"time\", \"time\", \"time\", \"time\", \"time\", \"time\", \"time\", \"time\", \"time\", \"time\", \"timing\", \"toh\", \"tooo\", \"top\", \"touch\", \"touch\", \"touch\", \"touch\", \"touch\", \"touch\", \"touch\", \"tray\", \"turbo\", \"turbo\", \"turbo\", \"turbo\", \"turbo\", \"turbo\", \"turbo\", \"turbo\", \"turbocharger\", \"turbocharger\", \"tv\", \"tv\", \"tv\", \"tv\", \"tv\", \"tv\", \"type\", \"type\", \"type\", \"type\", \"type\", \"type\", \"u\", \"u\", \"u\", \"u\", \"u\", \"u\", \"update\", \"update\", \"update\", \"update\", \"update\", \"update\", \"update\", \"update\", \"update\", \"update\", \"update\", \"update\", \"usage\", \"usage\", \"usage\", \"usage\", \"usage\", \"usage\", \"usage\", \"usb\", \"use\", \"use\", \"use\", \"use\", \"use\", \"use\", \"use\", \"use\", \"use\", \"user\", \"user\", \"user\", \"user\", \"user\", \"user\", \"user\", \"user\", \"value\", \"value\", \"value\", \"value\", \"value\", \"value\", \"variant\", \"variant\", \"verry\", \"version\", \"version\", \"version\", \"version\", \"version\", \"version\", \"vibration\", \"video\", \"video\", \"video\", \"video\", \"video\", \"video\", \"video\", \"view\", \"view\", \"visibility\", \"vodafone\", \"volta\", \"volta\", \"volta\", \"volta\", \"volta\", \"volta\", \"vr\", \"warm\", \"warm\", \"warranty\", \"wastage\", \"waste\", \"waste\", \"waste\", \"waste\", \"waste\", \"waste\", \"water\", \"water\", \"way\", \"way\", \"way\", \"way\", \"way\", \"way\", \"way\", \"week\", \"week\", \"week\", \"week\", \"week\", \"week\", \"week\", \"week\", \"week\", \"weight\", \"weight\", \"whats\", \"whatsapp\", \"whatsapp\", \"whereas\", \"wife\", \"wifi\", \"wifi\", \"wifi\", \"wifi\", \"wifi\", \"wise\", \"wise\", \"wise\", \"wise\", \"wise\", \"word\", \"word\", \"word\", \"work\", \"work\", \"work\", \"work\", \"work\", \"work\", \"work\", \"work\", \"working\", \"world\", \"worth\", \"worth\", \"worth\", \"worth\", \"wow\", \"wrost\", \"ye\", \"ye\", \"year\", \"year\", \"year\", \"year\", \"year\", \"year\", \"yes\", \"yesterday\", \"yesterday\", \"zoom\"]}, \"R\": 30, \"lambda.step\": 0.01, \"plot.opts\": {\"xlab\": \"PC1\", \"ylab\": \"PC2\"}, \"topic.order\": [3, 1, 6, 4, 12, 9, 5, 7, 11, 10, 8, 2]};\n",
       "\n",
       "function LDAvis_load_lib(url, callback){\n",
       "  var s = document.createElement('script');\n",
       "  s.src = url;\n",
       "  s.async = true;\n",
       "  s.onreadystatechange = s.onload = callback;\n",
       "  s.onerror = function(){console.warn(\"failed to load library \" + url);};\n",
       "  document.getElementsByTagName(\"head\")[0].appendChild(s);\n",
       "}\n",
       "\n",
       "if(typeof(LDAvis) !== \"undefined\"){\n",
       "   // already loaded: just create the visualization\n",
       "   !function(LDAvis){\n",
       "       new LDAvis(\"#\" + \"ldavis_el1176022926827468805266066858\", ldavis_el1176022926827468805266066858_data);\n",
       "   }(LDAvis);\n",
       "}else if(typeof define === \"function\" && define.amd){\n",
       "   // require.js is available: use it to load d3/LDAvis\n",
       "   require.config({paths: {d3: \"https://cdnjs.cloudflare.com/ajax/libs/d3/3.5.5/d3.min\"}});\n",
       "   require([\"d3\"], function(d3){\n",
       "      window.d3 = d3;\n",
       "      LDAvis_load_lib(\"https://cdn.rawgit.com/bmabey/pyLDAvis/files/ldavis.v1.0.0.js\", function(){\n",
       "        new LDAvis(\"#\" + \"ldavis_el1176022926827468805266066858\", ldavis_el1176022926827468805266066858_data);\n",
       "      });\n",
       "    });\n",
       "}else{\n",
       "    // require.js not available: dynamically load d3 & LDAvis\n",
       "    LDAvis_load_lib(\"https://cdnjs.cloudflare.com/ajax/libs/d3/3.5.5/d3.min.js\", function(){\n",
       "         LDAvis_load_lib(\"https://cdn.rawgit.com/bmabey/pyLDAvis/files/ldavis.v1.0.0.js\", function(){\n",
       "                 new LDAvis(\"#\" + \"ldavis_el1176022926827468805266066858\", ldavis_el1176022926827468805266066858_data);\n",
       "            })\n",
       "         });\n",
       "}\n",
       "</script>"
      ],
      "text/plain": [
       "PreparedData(topic_coordinates=              x         y  topics  cluster       Freq\n",
       "topic                                                \n",
       "2      0.062669 -0.085116       1        1  11.862483\n",
       "0      0.096116  0.026158       2        1  11.853811\n",
       "5      0.053151  0.190229       3        1  10.869544\n",
       "3     -0.013538 -0.166455       4        1  10.680003\n",
       "11     0.041287  0.002238       5        1   9.842621\n",
       "8      0.082603  0.140830       6        1   9.113233\n",
       "4      0.133813 -0.090946       7        1   8.402766\n",
       "6      0.157541 -0.061287       8        1   7.171015\n",
       "10    -0.082527 -0.065386       9        1   6.002136\n",
       "9     -0.137876  0.105236      10        1   5.432816\n",
       "7     -0.113252  0.065543      11        1   4.400358\n",
       "1     -0.279987 -0.061043      12        1   4.369219, topic_info=        Term         Freq        Total Category  logprob  loglift\n",
       "11    mobile  1666.000000  1666.000000  Default  30.0000  30.0000\n",
       "47   product  2176.000000  2176.000000  Default  29.0000  29.0000\n",
       "63     price   940.000000   940.000000  Default  28.0000  28.0000\n",
       "4    battery  3159.000000  3159.000000  Default  27.0000  27.0000\n",
       "15     phone  6989.000000  6989.000000  Default  26.0000  26.0000\n",
       "..       ...          ...          ...      ...      ...      ...\n",
       "55    camera    32.057770  3218.902832  Topic12  -4.6954  -1.4787\n",
       "143     cost    15.872128    85.740356  Topic12  -5.3984   1.4438\n",
       "47   product    19.431063  2176.538330  Topic12  -5.1961  -1.5880\n",
       "48     range    16.938084   365.143921  Topic12  -5.3334   0.0599\n",
       "85       day    16.587637   940.727966  Topic12  -5.3543  -0.9074\n",
       "\n",
       "[741 rows x 6 columns], token_table=      Topic      Freq       Term\n",
       "term                            \n",
       "1328      5  0.955870     access\n",
       "332       2  0.969151  accessory\n",
       "332      10  0.024850  accessory\n",
       "912       2  0.097246    account\n",
       "912       7  0.875212    account\n",
       "...     ...       ...        ...\n",
       "26        9  0.047411       year\n",
       "902       8  0.883449        yes\n",
       "1024      3  0.965699  yesterday\n",
       "1024      5  0.029264  yesterday\n",
       "1770      3  0.963135       zoom\n",
       "\n",
       "[1904 rows x 3 columns], R=30, lambda_step=0.01, plot_opts={'xlab': 'PC1', 'ylab': 'PC2'}, topic_order=[3, 1, 6, 4, 12, 9, 5, 7, 11, 10, 8, 2])"
      ]
     },
     "execution_count": 17,
     "metadata": {},
     "output_type": "execute_result"
    }
   ],
   "source": [
    "pyLDAvis.enable_notebook()\n",
    "\n",
    "vis = pyLDAvis.gensim.prepare(lda_model, corpus, dictionary)\n",
    "vis"
   ]
  },
  {
   "cell_type": "markdown",
   "metadata": {},
   "source": [
    "#### 8.2 coherence of the model with the c_v metric"
   ]
  },
  {
   "cell_type": "code",
   "execution_count": 18,
   "metadata": {},
   "outputs": [
    {
     "name": "stdout",
     "output_type": "stream",
     "text": [
      "Coherence Score:  0.49850343048731377\n"
     ]
    }
   ],
   "source": [
    "# Compute Coherence Score\n",
    "coherence_model_lda = gensim.models.CoherenceModel(model=lda_model, texts=review_no_sw, \n",
    "                                                   dictionary=dictionary, coherence='c_v')\n",
    "\n",
    "coherence_lda = coherence_model_lda.get_coherence()\n",
    "print('Coherence Score: ', coherence_lda)"
   ]
  },
  {
   "cell_type": "markdown",
   "metadata": {},
   "source": [
    "#### 9. Analyze the topics through the business lens - Determine which of the topics can be combined"
   ]
  },
  {
   "cell_type": "markdown",
   "metadata": {},
   "source": [
    "Now since the problem at hand, demands identifying the different aspects of the budget smartphone launched in the market, it is imperative that the tokens (words in the customer reviews) with length less than 3 characters may be removed. That way topic model focuses on the variety of aspects like 'camera', 'battery'. Also removing tokens for length less than three would clean the dataset from low significant tokens."
   ]
  },
  {
   "cell_type": "code",
   "execution_count": 19,
   "metadata": {},
   "outputs": [
    {
     "name": "stdout",
     "output_type": "stream",
     "text": [
      "[['update', 'improvement'],\n",
      " ['mobile', 'battery', 'hell', 'backup', 'hour', 'idle', 'amazon', 'lenove',\n",
      "  'battery', 'charger', 'hour'],\n",
      " ['cash'], [],\n",
      " ['phone', 'everthey', 'phone', 'problem', 'amazon', 'phone', 'amazon']]\n"
     ]
    }
   ],
   "source": [
    "#custom_stop_words = ['problem', 'issue']\n",
    "\n",
    "review_no_custom_sw = [[token for token in doc if len(token) > 3] for doc in review_no_sw]\n",
    "\n",
    "pprint(review_no_custom_sw[:5], compact=True)"
   ]
  },
  {
   "cell_type": "markdown",
   "metadata": {},
   "source": [
    "#### Building up the topic model after removing tokens of length < 3"
   ]
  },
  {
   "cell_type": "code",
   "execution_count": 20,
   "metadata": {},
   "outputs": [
    {
     "name": "stdout",
     "output_type": "stream",
     "text": [
      "Coherence Score after removing custom stop words:  0.5031360323267438\n",
      "Wall time: 12 s\n"
     ]
    }
   ],
   "source": [
    "%%time\n",
    "NUM_TOPICS = 12\n",
    "# Build a Dictionary - association word to numeric id\n",
    "dictionary = gensim.corpora.Dictionary(review_no_custom_sw)\n",
    "\n",
    "# Transform the collection of texts to a numerical form\n",
    "corpus = [dictionary.doc2bow(text) for text in review_no_custom_sw]\n",
    "\n",
    "#Creating the LDA model\n",
    "lda_model = gensim.models.LdaModel(corpus=corpus, num_topics=NUM_TOPICS, id2word=dictionary, random_state=1)\n",
    "\n",
    "#Calculating the cohenrence score\n",
    "coherence_model_lda = gensim.models.CoherenceModel(model=lda_model, texts=review_no_custom_sw, \n",
    "                                                   dictionary=dictionary, coherence='c_v')\n",
    "\n",
    "#Collecting the score in tuple\n",
    "coherence_lda = coherence_model_lda.get_coherence()\n",
    "\n",
    "print('Coherence Score after removing custom stop words: ', coherence_lda)"
   ]
  },
  {
   "cell_type": "markdown",
   "metadata": {},
   "source": [
    "***There is only a marginal change in the cv score, hence we need to search the parameter space for number of topics for the optimal cv score.***"
   ]
  },
  {
   "cell_type": "markdown",
   "metadata": {},
   "source": [
    "#### 10. Create topic model using LDA with the optimal number of topics"
   ]
  },
  {
   "cell_type": "markdown",
   "metadata": {},
   "source": [
    "#### Gensim Model for finding the optimal number of topics"
   ]
  },
  {
   "cell_type": "code",
   "execution_count": 21,
   "metadata": {},
   "outputs": [
    {
     "name": "stdout",
     "output_type": "stream",
     "text": [
      "[(3, 0.4808409861539009), (4, 0.47658927077528973), (5, 0.49770274426195626),\n",
      " (6, 0.5091871939495295), (7, 0.5101335633630214), (8, 0.5327501878460171),\n",
      " (9, 0.514572217631393), (10, 0.4954951459691387), (11, 0.49466269660317613),\n",
      " (12, 0.5031360323267438), (13, 0.47298989182999546), (14, 0.4734695313637629),\n",
      " (15, 0.4902114977648099), (16, 0.48648530584659017), (17, 0.48581874846503603),\n",
      " (18, 0.4643128110133583), (19, 0.47288850774759045), (20, 0.464743223947254)]\n",
      "Wall time: 3min 10s\n"
     ]
    }
   ],
   "source": [
    "%%time\n",
    "NUM_TOPICS = range(3,21)\n",
    "coherence_lda_scores = []\n",
    "best_coherence_score = 0\n",
    "best_lda_model = None\n",
    "\n",
    "for topic in NUM_TOPICS:\n",
    "    #Creating the LDA model\n",
    "    lda_model = gensim.models.LdaModel(corpus=corpus, num_topics=topic, id2word=dictionary, random_state=1)\n",
    "    \n",
    "    #Calculating the cohenrence score\n",
    "    coherence_model_lda = gensim.models.CoherenceModel(model=lda_model, texts=review_no_custom_sw, \n",
    "                                                       dictionary=dictionary, coherence='c_v')\n",
    "    \n",
    "    #Collecting the score in tuple\n",
    "    score = coherence_model_lda.get_coherence()\n",
    "    coherence_lda_scores.append((topic, score))\n",
    "    \n",
    "    if(score > best_coherence_score):\n",
    "        best_lda_model = lda_model\n",
    "        best_coherence_score = score\n",
    "\n",
    "pprint(coherence_lda_scores, compact=True)"
   ]
  },
  {
   "cell_type": "markdown",
   "metadata": {},
   "source": [
    "#### Visualising the coherence scores for the parameter number of topics for range 3 to 20"
   ]
  },
  {
   "cell_type": "code",
   "execution_count": 22,
   "metadata": {},
   "outputs": [
    {
     "data": {
      "image/png": "[encoded data removed]",
      "text/plain": [
       "<Figure size 720x360 with 1 Axes>"
      ]
     },
     "metadata": {
      "needs_background": "light"
     },
     "output_type": "display_data"
    }
   ],
   "source": [
    "cv_df = pd.DataFrame(coherence_lda_scores, columns=['num_topics', 'cv_score'])\n",
    "cv_df.plot(x='num_topics',figsize=(10,5))\n",
    "plt.show()"
   ]
  },
  {
   "cell_type": "markdown",
   "metadata": {},
   "source": [
    "#### 10.1 Coherence of the Optimal Model"
   ]
  },
  {
   "cell_type": "code",
   "execution_count": 23,
   "metadata": {},
   "outputs": [
    {
     "name": "stdout",
     "output_type": "stream",
     "text": [
      "Optimal Number of Topics: 8, CV Score: 0.5327501878460171\n"
     ]
    }
   ],
   "source": [
    "best_num_topic, best_cv_score = int(cv_df.iloc[np.argmax(cv_df['cv_score'])][0]), cv_df.iloc[np.argmax(cv_df['cv_score'])][1]\n",
    "print(\"Optimal Number of Topics: {}, CV Score: {}\".format(best_num_topic, best_cv_score))"
   ]
  },
  {
   "cell_type": "markdown",
   "metadata": {},
   "source": [
    "#### Visualising the topic model for optimal number of topics based on highest CV score"
   ]
  },
  {
   "cell_type": "code",
   "execution_count": 24,
   "metadata": {},
   "outputs": [
    {
     "data": {
      "text/html": [
       "\n",
       "<link rel=\"stylesheet\" type=\"text/css\" href=\"https://cdn.rawgit.com/bmabey/pyLDAvis/files/ldavis.v1.0.0.css\">\n",
       "\n",
       "\n",
       "<div id=\"ldavis_el1176022926910756241510337485\"></div>\n",
       "<script type=\"text/javascript\">\n",
       "\n",
       "var ldavis_el1176022926910756241510337485_data = {\"mdsDat\": {\"x\": [0.11779437880316143, 0.030935400293947864, 0.02915448248422669, -0.0175036640709146, 0.13453007912155868, -0.13344292033495622, -0.23333128342281262, 0.07186352712578818], \"y\": [-0.061911057602666277, 0.012480880491690426, 0.13925045459988236, 0.1108743206712973, -0.18278357579361895, 0.05976286953784313, -0.14067849310385294, 0.0630046011994252], \"topics\": [1, 2, 3, 4, 5, 6, 7, 8], \"cluster\": [1, 1, 1, 1, 1, 1, 1, 1], \"Freq\": [19.769058227539062, 19.095752716064453, 16.45049285888672, 10.15507984161377, 10.037353515625, 9.122386932373047, 8.384658813476562, 6.985220432281494]}, \"tinfo\": {\"Term\": [\"product\", \"mobile\", \"camera\", \"phone\", \"price\", \"problem\", \"quality\", \"network\", \"feature\", \"heat\", \"charger\", \"battery\", \"money\", \"superb\", \"waste\", \"everything\", \"issue\", \"value\", \"range\", \"performance\", \"hour\", \"service\", \"device\", \"backup\", \"time\", \"processor\", \"note\", \"amazon\", \"turbo\", \"lenovo\", \"concern\", \"zoom\", \"comparison\", \"tray\", \"graphic\", \"hope\", \"right\", \"picture\", \"scratch\", \"effort\", \"access\", \"buget\", \"manager\", \"clearity\", \"player\", \"motion\", \"wireless\", \"round\", \"iron\", \"rear\", \"bhai\", \"bokeh\", \"room\", \"location\", \"percentage\", \"website\", \"download\", \"window\", \"india\", \"overheat\", \"image\", \"effect\", \"selfie\", \"depth\", \"quality\", \"camera\", \"front\", \"speaker\", \"brightness\", \"rest\", \"mode\", \"android\", \"music\", \"sound\", \"gallery\", \"display\", \"stock\", \"clarity\", \"performance\", \"option\", \"screen\", \"phone\", \"video\", \"battery\", \"life\", \"speed\", \"color\", \"note\", \"thing\", \"update\", \"game\", \"backup\", \"processor\", \"issue\", \"mobile\", \"feel\", \"space\", \"mind\", \"seller\", \"switch\", \"place\", \"caller\", \"morning\", \"icon\", \"office\", \"record\", \"moment\", \"atmos\", \"detail\", \"phon\", \"claim\", \"control\", \"fall\", \"charging\", \"standard\", \"limit\", \"mast\", \"coverage\", \"saver\", \"status\", \"movie\", \"edge\", \"bottom\", \"karo\", \"capture\", \"weight\", \"bill\", \"home\", \"person\", \"standby\", \"button\", \"glass\", \"dolby\", \"fingerprint\", \"time\", \"gorilla\", \"battery\", \"phone\", \"killer\", \"life\", \"note\", \"lenovo\", \"software\", \"issue\", \"design\", \"sensor\", \"company\", \"power\", \"feature\", \"volume\", \"price\", \"sound\", \"call\", \"backup\", \"update\", \"screen\", \"turbo\", \"camera\", \"performance\", \"quality\", \"hour\", \"problem\", \"range\", \"bekar\", \"accessory\", \"love\", \"wastage\", \"alarm\", \"restart\", \"amazone\", \"casting\", \"technician\", \"visit\", \"manufacturing\", \"book\", \"chromecast\", \"optimization\", \"vodafone\", \"menu\", \"bettery\", \"surprise\", \"persist\", \"exchange\", \"fault\", \"knowledge\", \"pickup\", \"generation\", \"motherboard\", \"face\", \"smartphones\", \"thats\", \"wife\", \"step\", \"imei\", \"motorola\", \"offer\", \"amount\", \"replacement\", \"device\", \"problem\", \"service\", \"amazon\", \"center\", \"phone\", \"heating\", \"month\", \"handset\", \"customer\", \"item\", \"strength\", \"care\", \"defect\", \"earphone\", \"budget\", \"issue\", \"week\", \"people\", \"time\", \"call\", \"product\", \"software\", \"battery\", \"option\", \"application\", \"lenovo\", \"update\", \"charge\", \"note\", \"return\", \"apps\", \"camera\", \"facility\", \"half\", \"fone\", \"category\", \"spent\", \"battry\", \"reality\", \"trouble\", \"penny\", \"example\", \"rotation\", \"bada\", \"camra\", \"spot\", \"panel\", \"volta\", \"language\", \"extent\", \"pixal\", \"notification\", \"advertising\", \"factory\", \"lena\", \"decacore\", \"want\", \"clock\", \"provider\", \"series\", \"moneycamera\", \"sunlight\", \"network\", \"waste\", \"message\", \"policy\", \"slot\", \"hanging\", \"team\", \"model\", \"deca\", \"expectation\", \"support\", \"level\", \"processor\", \"experience\", \"signal\", \"card\", \"thanks\", \"recorder\", \"drop\", \"issue\", \"call\", \"speed\", \"complaint\", \"problem\", \"cast\", \"money\", \"return\", \"amazon\", \"battery\", \"note\", \"delivery\", \"phone\", \"screen\", \"lenovo\", \"product\", \"smartphone\", \"china\", \"protection\", \"lenevo\", \"bhut\", \"cool\", \"loss\", \"provide\", \"split\", \"group\", \"flashlight\", \"difficulty\", \"processer\", \"batery\", \"cashback\", \"sort\", \"blur\", \"folder\", \"phoneall\", \"packaging\", \"curve\", \"sensitivity\", \"fair\", \"powerfull\", \"sensing\", \"capturing\", \"joke\", \"ghatiya\", \"approx\", \"otherwise\", \"product\", \"price\", \"date\", \"range\", \"beast\", \"mera\", \"suggestion\", \"package\", \"look\", \"condition\", \"good\", \"wise\", \"performance\", \"flash\", \"delivery\", \"touch\", \"feature\", \"mobile\", \"camera\", \"lenovo\", \"phone\", \"battery\", \"nothing\", \"display\", \"light\", \"till\", \"quality\", \"specification\", \"note\", \"budget\", \"thanks\", \"month\", \"screen\", \"money\", \"jata\", \"awesome\", \"cash\", \"thik\", \"test\", \"batter\", \"wire\", \"department\", \"excellent\", \"fire\", \"reset\", \"piece\", \"value\", \"launch\", \"basis\", \"crack\", \"socket\", \"last\", \"pack\", \"gift\", \"recharge\", \"patch\", \"peace\", \"corner\", \"history\", \"everytime\", \"rupee\", \"yesterday\", \"faulty\", \"number\", \"capacity\", \"handsfree\", \"charger\", \"help\", \"stand\", \"paper\", \"turbo\", \"money\", \"drain\", \"version\", \"hour\", \"star\", \"usage\", \"minute\", \"percent\", \"please\", \"note\", \"cable\", \"battery\", \"service\", \"return\", \"centre\", \"mobile\", \"device\", \"handset\", \"purchase\", \"screen\", \"issue\", \"phone\", \"power\", \"charge\", \"performance\", \"camera\", \"super\", \"nice\", \"superb\", \"working\", \"benefit\", \"bank\", \"stop\", \"hone\", \"heat\", \"camara\", \"discharge\", \"position\", \"wrost\", \"fine\", \"cemara\", \"goog\", \"karne\", \"adaptor\", \"zero\", \"material\", \"aspect\", \"trap\", \"brother\", \"mention\", \"risk\", \"vasool\", \"description\", \"class\", \"change\", \"resistant\", \"awsome\", \"everything\", \"recording\", \"mobile\", \"connectivity\", \"result\", \"others\", \"reception\", \"word\", \"work\", \"backup\", \"draining\", \"party\", \"battery\", \"mark\", \"charge\", \"data\", \"hour\", \"problem\", \"system\", \"feature\", \"time\", \"heating\", \"issue\", \"charger\", \"month\", \"camera\", \"call\", \"phone\", \"video\", \"drainage\", \"raha\", \"lenova\", \"hota\", \"invoice\", \"nahi\", \"kiya\", \"mail\", \"upgrade\", \"gaya\", \"paisa\", \"bahut\", \"gesture\", \"perfect\", \"jyada\", \"processing\", \"copy\", \"process\", \"requirement\", \"mobail\", \"packing\", \"baad\", \"mean\", \"suck\", \"mila\", \"mujhe\", \"isme\", \"liye\", \"mobil\", \"chalti\", \"apne\", \"cell\", \"headphone\", \"buying\", \"worth\", \"cost\", \"configuration\", \"feature\", \"resolution\", \"complain\", \"photo\", \"warranty\", \"hang\", \"head\", \"google\", \"phone\", \"lenovo\", \"refund\", \"response\", \"today\", \"update\", \"issue\", \"camera\", \"money\", \"heating\", \"review\", \"note\", \"battery\", \"software\", \"mobile\"], \"Freq\": [2040.0, 1552.0, 3074.0, 6930.0, 862.0, 1482.0, 1322.0, 563.0, 828.0, 361.0, 455.0, 3000.0, 582.0, 203.0, 267.0, 248.0, 1385.0, 224.0, 335.0, 810.0, 447.0, 505.0, 442.0, 541.0, 939.0, 310.0, 1124.0, 549.0, 206.0, 842.0, 42.041927337646484, 31.16007423400879, 28.273420333862305, 26.366079330444336, 35.31372833251953, 36.34746551513672, 26.689422607421875, 160.56756591796875, 30.71746063232422, 19.557540893554688, 18.96985626220703, 17.97420883178711, 19.986225128173828, 17.920272827148438, 49.551025390625, 19.051734924316406, 15.93981647491455, 15.349517822265625, 16.697490692138672, 50.68773651123047, 13.47838306427002, 25.42529296875, 13.746973037719727, 16.696374893188477, 22.744487762451172, 12.230122566223145, 14.833270072937012, 14.334155082702637, 11.59857177734375, 11.995596885681152, 120.97379302978516, 99.26661682128906, 57.77571487426758, 146.8310089111328, 1079.2783203125, 2348.050537109375, 107.07843780517578, 269.4220886230469, 52.6053581237793, 41.43976974487305, 239.04457092285156, 119.43142700195312, 159.58534240722656, 179.87271118164062, 77.70170593261719, 187.41981506347656, 98.6031723022461, 99.3935775756836, 324.9913635253906, 159.3001708984375, 223.21490478515625, 1255.9605712890625, 112.74602508544922, 560.1050415039062, 134.53073120117188, 113.05826568603516, 48.210601806640625, 213.62962341308594, 88.8900146484375, 102.28517150878906, 76.8462142944336, 109.02558898925781, 90.02513122558594, 116.30561828613281, 89.45720672607422, 53.981422424316406, 38.57177734375, 36.15130615234375, 35.14650344848633, 31.46160888671875, 29.133699417114258, 29.186975479125977, 30.927766799926758, 25.330236434936523, 25.383831024169922, 24.286659240722656, 23.458332061767578, 87.82868194580078, 27.06716537475586, 21.05256462097168, 22.3867244720459, 20.669696807861328, 31.166215896606445, 208.1897430419922, 20.497709274291992, 18.411211013793945, 17.697479248046875, 22.517343521118164, 31.11213493347168, 16.27670669555664, 16.354385375976562, 39.24119186401367, 24.50171661376953, 15.887303352355957, 15.007575988769531, 45.31578826904297, 55.864051818847656, 25.121828079223633, 51.56553268432617, 33.87528991699219, 95.5157470703125, 136.44151306152344, 120.00806427001953, 65.97288513183594, 547.7622680664062, 67.84075927734375, 993.3838500976562, 1727.3101806640625, 68.7660140991211, 151.92431640625, 351.80438232421875, 283.2651062011719, 141.5381622314453, 319.3695373535156, 49.170753479003906, 77.98534393310547, 65.98819732666016, 65.63741302490234, 152.7985076904297, 52.2593994140625, 148.61256408691406, 90.02606201171875, 107.85462188720703, 111.48473358154297, 96.60411071777344, 103.36197662353516, 72.34442901611328, 155.7317352294922, 102.37825775146484, 101.81642150878906, 75.73873138427734, 82.5913314819336, 67.1498794555664, 24.891830444335938, 37.540767669677734, 25.313016891479492, 21.00439453125, 18.837181091308594, 32.109901428222656, 14.141491889953613, 17.24662971496582, 13.751119613647461, 18.08065414428711, 12.860547065734863, 12.879018783569336, 12.503485679626465, 12.619566917419434, 11.444916725158691, 11.289249420166016, 16.91381072998047, 12.239587783813477, 10.665058135986328, 37.04336929321289, 25.39212417602539, 10.024175643920898, 10.472679138183594, 9.706155776977539, 11.025835990905762, 28.732980728149414, 9.543416023254395, 9.022420883178711, 11.446542739868164, 8.977724075317383, 9.735298156738281, 37.48849105834961, 45.262874603271484, 34.98666763305664, 159.87193298339844, 312.5316162109375, 901.2024536132812, 330.89056396484375, 331.4143981933594, 100.12706756591797, 2866.23876953125, 321.1600341796875, 276.00958251953125, 138.30853271484375, 133.6278839111328, 52.58330535888672, 34.01376724243164, 65.77500915527344, 30.78082847595215, 59.3692512512207, 87.93797302246094, 281.2286071777344, 57.70459747314453, 47.271541595458984, 171.860595703125, 115.67717742919922, 237.6481170654297, 91.78685760498047, 209.38221740722656, 79.0908203125, 48.79726791381836, 97.3987045288086, 69.37145233154297, 63.883235931396484, 84.4570083618164, 54.553707122802734, 51.868988037109375, 68.97382354736328, 53.75713348388672, 34.12890625, 31.27100372314453, 21.591604232788086, 18.967683792114258, 17.985336303710938, 16.471282958984375, 16.88127899169922, 13.313404083251953, 12.657719612121582, 10.890056610107422, 10.214710235595703, 9.434280395507812, 10.886061668395996, 14.651949882507324, 129.85818481445312, 9.471111297607422, 8.347752571105957, 8.263622283935547, 102.51155853271484, 8.028107643127441, 7.661220550537109, 7.816020488739014, 10.622694969177246, 7.988039016723633, 7.309512615203857, 13.314306259155273, 20.6883544921875, 7.882530689239502, 6.778796195983887, 486.9484558105469, 231.76646423339844, 84.7224349975586, 89.90851593017578, 77.67732238769531, 31.306846618652344, 47.60117721557617, 103.68242645263672, 47.71654510498047, 89.10140228271484, 109.85678100585938, 34.56608963012695, 175.19119262695312, 135.49893188476562, 67.581787109375, 89.47972869873047, 64.76810455322266, 39.149147033691406, 23.609394073486328, 391.26397705078125, 175.86849975585938, 100.8165283203125, 38.54486846923828, 240.56887817382812, 58.26454162597656, 127.47855377197266, 68.75347137451172, 107.8486557006836, 207.55043029785156, 131.66188049316406, 68.65785217285156, 186.3133544921875, 78.47570037841797, 73.18834686279297, 81.56584167480469, 115.34832763671875, 26.83842658996582, 23.104421615600586, 24.448152542114258, 20.06960105895996, 19.367923736572266, 17.799535751342773, 15.62947940826416, 13.935317993164062, 13.519024848937988, 16.27752113342285, 11.059524536132812, 20.00020408630371, 10.528817176818848, 10.084745407104492, 9.975275993347168, 23.911821365356445, 8.509783744812012, 8.366598129272461, 8.005249977111816, 7.837779521942139, 7.857948303222656, 7.399003982543945, 7.333840847015381, 8.967326164245605, 7.959121227264404, 7.64759635925293, 10.889638900756836, 7.978701114654541, 6.3457255363464355, 1673.2386474609375, 593.8612670898438, 50.758026123046875, 197.82366943359375, 17.009807586669922, 16.04810905456543, 31.942947387695312, 24.757307052612305, 77.1930923461914, 52.2537727355957, 20.24892807006836, 28.80961036682129, 260.6307373046875, 54.43476867675781, 91.94945526123047, 47.554466247558594, 185.63250732421875, 219.23048400878906, 272.0899658203125, 124.42369079589844, 247.7827606201172, 158.17083740234375, 35.67533874511719, 53.117462158203125, 39.82194900512695, 32.68865203857422, 70.9746322631836, 30.704286575317383, 49.195579528808594, 33.80029296875, 28.810712814331055, 31.70492172241211, 31.358461380004883, 29.51475715637207, 39.64081573486328, 72.8683090209961, 31.76727294921875, 21.805809020996094, 21.537281036376953, 26.354995727539062, 19.68581771850586, 16.15203857421875, 84.58845520019531, 19.531347274780273, 12.909696578979492, 116.41648864746094, 208.80419921875, 10.814889907836914, 11.53162956237793, 17.144624710083008, 9.74875259399414, 9.495416641235352, 14.505993843078613, 10.376689910888672, 8.532068252563477, 13.593688011169434, 7.7668304443359375, 7.070836544036865, 8.106073379516602, 7.042392730712891, 14.827457427978516, 31.57405662536621, 24.566959381103516, 66.07760620117188, 37.94722366333008, 9.995357513427734, 358.2215270996094, 43.67949295043945, 14.841672897338867, 26.56000518798828, 129.60882568359375, 316.2684020996094, 121.8633041381836, 57.488975524902344, 195.3600311279297, 84.12301635742188, 108.0931167602539, 55.967185974121094, 27.369020462036133, 79.41287231445312, 248.01370239257812, 37.21785354614258, 347.9906005859375, 107.25861358642578, 64.3505859375, 39.33942413330078, 150.4103546142578, 82.27375030517578, 58.35809326171875, 46.939788818359375, 74.66597747802734, 93.12199401855469, 106.39453125, 43.11620330810547, 48.763153076171875, 53.4939079284668, 56.488319396972656, 90.79634094238281, 50.16532897949219, 197.61013793945312, 29.26666831970215, 20.86272621154785, 19.504947662353516, 25.021093368530273, 19.480615615844727, 342.2173156738281, 17.702789306640625, 27.757543563842773, 13.278006553649902, 16.93062973022461, 36.609161376953125, 10.140350341796875, 9.30859661102295, 9.0228910446167, 8.312033653259277, 8.265386581420898, 7.510989189147949, 7.029560089111328, 7.026723861694336, 6.7990617752075195, 6.638928413391113, 6.356442451477051, 7.330058574676514, 20.155492782592773, 66.56660461425781, 30.033910751342773, 5.575677394866943, 9.64968204498291, 192.7225799560547, 49.3514404296875, 979.2050170898438, 59.298274993896484, 42.635093688964844, 26.434843063354492, 30.38205337524414, 24.687776565551758, 101.61222076416016, 207.64926147460938, 26.91795539855957, 27.219228744506836, 476.87274169921875, 61.34431457519531, 89.36856079101562, 64.0659408569336, 103.76618957519531, 197.9369354248047, 58.73066711425781, 101.12529754638672, 96.2339859008789, 68.7056655883789, 84.69477844238281, 47.753631591796875, 45.904483795166016, 60.522708892822266, 44.18423080444336, 59.99747848510742, 36.076133728027344, 41.764347076416016, 34.73305130004883, 30.777467727661133, 29.32538604736328, 30.397397994995117, 29.684459686279297, 23.600568771362305, 36.34996795654297, 21.093494415283203, 21.280715942382812, 18.2574520111084, 29.92603302001953, 16.873741149902344, 21.405839920043945, 15.201125144958496, 39.496299743652344, 17.246353149414062, 31.11648178100586, 14.6580171585083, 14.679658889770508, 19.976831436157227, 12.7090482711792, 14.71193790435791, 22.402517318725586, 11.271832466125488, 11.228806495666504, 11.15689468383789, 11.251984596252441, 11.486089706420898, 10.196505546569824, 15.016136169433594, 59.167362213134766, 110.63800811767578, 39.052738189697266, 90.3576889038086, 68.14009857177734, 36.85220718383789, 309.4044494628906, 42.80009841918945, 33.755130767822266, 83.39585876464844, 38.890316009521484, 63.64500427246094, 27.80596351623535, 33.51811218261719, 480.849609375, 138.35948181152344, 45.3780403137207, 33.209407806396484, 32.44902801513672, 65.41271209716797, 87.74044036865234, 94.14978790283203, 57.82097244262695, 53.19989013671875, 40.37466812133789, 43.88362503051758, 46.79440689086914, 37.5246467590332, 37.752628326416016], \"Total\": [2040.0, 1552.0, 3074.0, 6930.0, 862.0, 1482.0, 1322.0, 563.0, 828.0, 361.0, 455.0, 3000.0, 582.0, 203.0, 267.0, 248.0, 1385.0, 224.0, 335.0, 810.0, 447.0, 505.0, 442.0, 541.0, 939.0, 310.0, 1124.0, 549.0, 206.0, 842.0, 42.9291877746582, 32.06007385253906, 29.158945083618164, 27.25261116027832, 36.5719108581543, 37.65830993652344, 27.730884552001953, 167.20635986328125, 32.08441925048828, 20.44807243347168, 19.855438232421875, 18.85872459411621, 20.97060203552246, 18.80493927001953, 52.0256233215332, 20.04734992980957, 16.837072372436523, 16.23929214477539, 17.77800178527832, 53.985816955566406, 14.365616798400879, 27.140066146850586, 14.695306777954102, 17.852521896362305, 24.337047576904297, 13.117518424987793, 15.936103820800781, 15.411523818969727, 12.48421573638916, 12.9210844039917, 132.745849609375, 110.0022201538086, 63.53049087524414, 168.33673095703125, 1322.502197265625, 3074.712158203125, 128.58839416503906, 351.84844970703125, 62.655216217041016, 48.207576751708984, 365.62066650390625, 166.53797912597656, 242.89842224121094, 312.19207763671875, 112.0899429321289, 339.9825439453125, 156.86428833007812, 162.4916534423828, 810.031005859375, 329.6894836425781, 543.8576049804688, 6930.84765625, 227.64157104492188, 3000.250244140625, 330.83807373046875, 261.18975830078125, 64.12923431396484, 1124.8909912109375, 211.50152587890625, 407.3806457519531, 186.49618530273438, 541.6939697265625, 310.6842346191406, 1385.4515380859375, 1552.552490234375, 55.05548095703125, 39.457366943359375, 37.030208587646484, 36.15081024169922, 32.38962936401367, 30.0134220123291, 30.08320426940918, 31.946374893188477, 26.208621978759766, 26.295866012573242, 25.167173385620117, 24.340866088867188, 91.14962768554688, 28.141277313232422, 21.93081283569336, 23.34967041015625, 21.560550689697266, 32.54401779174805, 217.6787872314453, 21.49013900756836, 19.310806274414062, 18.575551986694336, 23.638307571411133, 32.7113037109375, 17.161794662475586, 17.25337028503418, 41.477237701416016, 25.926557540893555, 16.81496238708496, 15.885801315307617, 48.086666107177734, 60.179874420166016, 26.939441680908203, 57.29677963256836, 37.596534729003906, 119.40238189697266, 178.2964324951172, 158.51657104492188, 80.53712463378906, 939.5122680664062, 94.06224822998047, 3000.250244140625, 6930.84765625, 100.66473388671875, 330.83807373046875, 1124.8909912109375, 842.593994140625, 341.98443603515625, 1385.4515380859375, 70.97582244873047, 161.97142028808594, 128.4092559814453, 131.99717712402344, 828.2052001953125, 92.66792297363281, 862.5909423828125, 312.19207763671875, 493.47735595703125, 541.6939697265625, 407.3806457519531, 543.8576049804688, 206.0906524658203, 3074.712158203125, 810.031005859375, 1322.502197265625, 447.46685791015625, 1482.2322998046875, 335.2003479003906, 25.771881103515625, 38.87139892578125, 26.398365020751953, 21.910348892211914, 19.716495513916016, 33.764102935791016, 15.020787239074707, 18.32280158996582, 14.630264282226562, 19.308488845825195, 13.739799499511719, 13.760794639587402, 13.383764266967773, 13.514338493347168, 12.325486183166504, 12.16873836517334, 18.231979370117188, 13.219063758850098, 11.544713973999023, 40.173789978027344, 27.565624237060547, 10.928208351135254, 11.418651580810547, 10.585064888000488, 12.046259880065918, 31.40814208984375, 10.442057609558105, 9.902219772338867, 12.566974639892578, 9.864595413208008, 10.701714515686035, 41.86786651611328, 51.25199508666992, 40.5517578125, 206.12075805664062, 442.3226013183594, 1482.2322998046875, 505.11553955078125, 549.8878173828125, 143.97494506835938, 6930.84765625, 581.959716796875, 489.3459167480469, 219.33399963378906, 212.09593200683594, 71.42921447753906, 44.67086410522461, 102.86737823486328, 39.88878631591797, 102.98927307128906, 184.8798828125, 1385.4515380859375, 120.52037811279297, 90.29045867919922, 939.5122680664062, 493.47735595703125, 2040.395751953125, 341.98443603515625, 3000.250244140625, 329.6894836425781, 107.59727478027344, 842.593994140625, 407.3806457519531, 307.7783203125, 1124.8909912109375, 198.38150024414062, 179.24761962890625, 3074.712158203125, 55.6383056640625, 35.4411506652832, 32.498844146728516, 22.47294044494629, 19.888864517211914, 18.867000579833984, 17.48394012451172, 17.97100830078125, 14.194184303283691, 13.552427291870117, 11.830092430114746, 11.159982681274414, 10.31500244140625, 11.913505554199219, 16.10902976989746, 143.30296325683594, 10.488702774047852, 9.283617973327637, 9.200719833374023, 114.19015502929688, 8.945974349975586, 8.542417526245117, 8.718635559082031, 11.854470252990723, 8.95099925994873, 8.190933227539062, 14.939642906188965, 23.285991668701172, 8.89102554321289, 7.680406093597412, 563.3605346679688, 267.7685852050781, 98.25128936767578, 104.89092254638672, 96.15570068359375, 38.0436897277832, 60.59217834472656, 140.7993621826172, 61.674278259277344, 126.93511962890625, 166.6531982421875, 45.05619812011719, 310.6842346191406, 235.23175048828125, 104.24842834472656, 149.90322875976562, 106.02294921875, 57.9836540222168, 30.120712280273438, 1385.4515380859375, 493.47735595703125, 261.18975830078125, 66.88079071044922, 1482.2322998046875, 141.4345245361328, 582.6779174804688, 198.38150024414062, 549.8878173828125, 3000.250244140625, 1124.8909912109375, 255.46664428710938, 6930.84765625, 543.8576049804688, 842.593994140625, 2040.395751953125, 119.00238800048828, 27.747058868408203, 23.99514389038086, 25.46463966369629, 20.9881591796875, 20.25812339782715, 18.69104766845703, 16.622827529907227, 14.826969146728516, 14.412283897399902, 17.43278694152832, 11.961560249328613, 21.65092658996582, 11.458524703979492, 10.983552932739258, 10.883005142211914, 26.11638832092285, 9.400836944580078, 9.264395713806152, 8.89571762084961, 8.732961654663086, 8.781920433044434, 8.295475959777832, 8.225442886352539, 10.0728178024292, 8.950512886047363, 8.606083869934082, 12.37515926361084, 9.128839492797852, 7.275444984436035, 2040.395751953125, 862.5909423828125, 65.3373031616211, 335.2003479003906, 21.230438232421875, 20.061010360717773, 44.85037612915039, 34.723453521728516, 142.899658203125, 95.12383270263672, 28.41916275024414, 44.95005416870117, 810.031005859375, 104.5063705444336, 255.46664428710938, 99.98291015625, 828.2052001953125, 1552.552490234375, 3074.712158203125, 842.593994140625, 6930.84765625, 3000.250244140625, 109.08401489257812, 339.9825439453125, 162.5448455810547, 97.85025024414062, 1322.502197265625, 103.5691909790039, 1124.8909912109375, 184.8798828125, 106.02294921875, 489.3459167480469, 543.8576049804688, 582.6779174804688, 40.5223388671875, 75.26844024658203, 32.89109420776367, 22.69146728515625, 22.479801177978516, 27.516693115234375, 20.58665657043457, 17.030431747436523, 89.6307601928711, 20.76852798461914, 13.787154197692871, 124.63461303710938, 224.76123046875, 11.692333221435547, 12.51572036743164, 18.63791275024414, 10.625853538513184, 10.37250804901123, 15.909248352050781, 11.448955535888672, 9.422696113586426, 15.134940147399902, 8.691076278686523, 7.949329853057861, 9.113720893859863, 7.919845104217529, 16.700353622436523, 35.607208251953125, 27.717287063598633, 74.56610870361328, 44.12059020996094, 11.333525657653809, 455.5508117675781, 52.96511459350586, 17.17778205871582, 33.410194396972656, 206.0906524658203, 582.6779174804688, 213.3543243408203, 89.06621551513672, 447.46685791015625, 158.0978546142578, 218.20211791992188, 97.566162109375, 39.188812255859375, 190.49217224121094, 1124.8909912109375, 63.995819091796875, 3000.250244140625, 505.11553955078125, 198.38150024414062, 81.9609146118164, 1552.552490234375, 442.3226013183594, 219.33399963378906, 141.3375244140625, 543.8576049804688, 1385.4515380859375, 6930.84765625, 131.99717712402344, 307.7783203125, 810.031005859375, 3074.712158203125, 92.93743896484375, 51.51224136352539, 203.72994995117188, 30.266664505004883, 21.768924713134766, 20.404741287231445, 26.19872283935547, 20.44969940185547, 361.2990417480469, 18.775400161743164, 29.586658477783203, 14.161532402038574, 18.287128448486328, 39.66334915161133, 11.062943458557129, 10.19781494140625, 9.94554328918457, 9.20013427734375, 9.167823791503906, 8.405221939086914, 7.911778450012207, 7.912044525146484, 7.6810503005981445, 7.520959377288818, 7.238445281982422, 8.420905113220215, 23.28497314453125, 76.98924255371094, 34.81011962890625, 6.47537899017334, 11.23230266571045, 248.2401885986328, 63.58236312866211, 1552.552490234375, 78.53592681884766, 55.415496826171875, 33.247901916503906, 41.321502685546875, 34.172096252441406, 208.1576385498047, 541.6939697265625, 41.612770080566406, 45.938072204589844, 3000.250244140625, 163.8530731201172, 307.7783203125, 185.114013671875, 447.46685791015625, 1482.2322998046875, 176.64805603027344, 828.2052001953125, 939.5122680664062, 581.959716796875, 1385.4515380859375, 455.5508117675781, 489.3459167480469, 3074.712158203125, 493.47735595703125, 6930.84765625, 227.64157104492188, 42.71348190307617, 35.65531539916992, 31.65615463256836, 30.282384872436523, 31.407363891601562, 30.80902671813965, 24.50276756286621, 37.82700729370117, 21.973058700561523, 22.22220230102539, 19.15743637084961, 31.43763542175293, 17.753013610839844, 22.631444931030273, 16.078815460205078, 41.83658218383789, 18.314971923828125, 33.07292938232422, 15.61777114868164, 15.651660919189453, 21.33310890197754, 13.601136207580566, 15.770523071289062, 24.139789581298828, 12.149688720703125, 12.106755256652832, 12.041290283203125, 12.14927864074707, 12.425849914550781, 11.083470344543457, 16.3519229888916, 66.55138397216797, 128.40110778808594, 44.25083541870117, 108.10505676269531, 83.72040557861328, 44.05464172363281, 828.2052001953125, 63.66102981567383, 46.73125076293945, 183.26132202148438, 64.0418472290039, 136.63095092773438, 39.78390884399414, 56.500370025634766, 6930.84765625, 842.593994140625, 113.97090148925781, 65.52015686035156, 62.63205337524414, 407.3806457519531, 1385.4515380859375, 3074.712158203125, 582.6779174804688, 581.959716796875, 183.50091552734375, 1124.8909912109375, 3000.250244140625, 341.98443603515625, 1552.552490234375], \"Category\": [\"Default\", \"Default\", \"Default\", \"Default\", \"Default\", \"Default\", \"Default\", \"Default\", \"Default\", \"Default\", \"Default\", \"Default\", \"Default\", \"Default\", \"Default\", \"Default\", \"Default\", \"Default\", \"Default\", \"Default\", \"Default\", \"Default\", \"Default\", \"Default\", \"Default\", \"Default\", \"Default\", \"Default\", \"Default\", \"Default\", \"Topic1\", \"Topic1\", \"Topic1\", \"Topic1\", \"Topic1\", \"Topic1\", \"Topic1\", \"Topic1\", \"Topic1\", \"Topic1\", \"Topic1\", \"Topic1\", \"Topic1\", \"Topic1\", \"Topic1\", \"Topic1\", \"Topic1\", \"Topic1\", \"Topic1\", \"Topic1\", \"Topic1\", \"Topic1\", \"Topic1\", \"Topic1\", \"Topic1\", \"Topic1\", \"Topic1\", \"Topic1\", \"Topic1\", \"Topic1\", \"Topic1\", \"Topic1\", \"Topic1\", \"Topic1\", \"Topic1\", \"Topic1\", \"Topic1\", \"Topic1\", \"Topic1\", \"Topic1\", \"Topic1\", \"Topic1\", \"Topic1\", \"Topic1\", \"Topic1\", \"Topic1\", \"Topic1\", \"Topic1\", \"Topic1\", \"Topic1\", \"Topic1\", \"Topic1\", \"Topic1\", \"Topic1\", \"Topic1\", \"Topic1\", \"Topic1\", \"Topic1\", \"Topic1\", \"Topic1\", \"Topic1\", \"Topic1\", \"Topic1\", \"Topic1\", \"Topic1\", \"Topic2\", \"Topic2\", \"Topic2\", \"Topic2\", \"Topic2\", \"Topic2\", \"Topic2\", \"Topic2\", \"Topic2\", \"Topic2\", \"Topic2\", \"Topic2\", \"Topic2\", \"Topic2\", \"Topic2\", \"Topic2\", \"Topic2\", \"Topic2\", \"Topic2\", \"Topic2\", \"Topic2\", \"Topic2\", \"Topic2\", \"Topic2\", \"Topic2\", \"Topic2\", \"Topic2\", \"Topic2\", \"Topic2\", \"Topic2\", \"Topic2\", \"Topic2\", \"Topic2\", \"Topic2\", \"Topic2\", \"Topic2\", \"Topic2\", \"Topic2\", \"Topic2\", \"Topic2\", \"Topic2\", \"Topic2\", \"Topic2\", \"Topic2\", \"Topic2\", \"Topic2\", \"Topic2\", \"Topic2\", \"Topic2\", \"Topic2\", \"Topic2\", \"Topic2\", \"Topic2\", \"Topic2\", \"Topic2\", \"Topic2\", \"Topic2\", \"Topic2\", \"Topic2\", \"Topic2\", \"Topic2\", \"Topic2\", \"Topic2\", \"Topic2\", \"Topic2\", \"Topic2\", \"Topic2\", \"Topic2\", \"Topic3\", \"Topic3\", \"Topic3\", \"Topic3\", \"Topic3\", \"Topic3\", \"Topic3\", \"Topic3\", \"Topic3\", \"Topic3\", \"Topic3\", \"Topic3\", \"Topic3\", \"Topic3\", \"Topic3\", \"Topic3\", \"Topic3\", \"Topic3\", \"Topic3\", \"Topic3\", \"Topic3\", \"Topic3\", \"Topic3\", \"Topic3\", \"Topic3\", \"Topic3\", \"Topic3\", \"Topic3\", \"Topic3\", \"Topic3\", \"Topic3\", \"Topic3\", \"Topic3\", \"Topic3\", \"Topic3\", \"Topic3\", \"Topic3\", \"Topic3\", \"Topic3\", \"Topic3\", \"Topic3\", \"Topic3\", \"Topic3\", \"Topic3\", \"Topic3\", \"Topic3\", \"Topic3\", \"Topic3\", \"Topic3\", \"Topic3\", \"Topic3\", \"Topic3\", \"Topic3\", \"Topic3\", \"Topic3\", \"Topic3\", \"Topic3\", \"Topic3\", \"Topic3\", \"Topic3\", \"Topic3\", \"Topic3\", \"Topic3\", \"Topic3\", \"Topic3\", \"Topic3\", \"Topic3\", \"Topic3\", \"Topic4\", \"Topic4\", \"Topic4\", \"Topic4\", \"Topic4\", \"Topic4\", \"Topic4\", \"Topic4\", \"Topic4\", \"Topic4\", \"Topic4\", \"Topic4\", \"Topic4\", \"Topic4\", \"Topic4\", \"Topic4\", \"Topic4\", \"Topic4\", \"Topic4\", \"Topic4\", \"Topic4\", \"Topic4\", \"Topic4\", \"Topic4\", \"Topic4\", \"Topic4\", \"Topic4\", \"Topic4\", \"Topic4\", \"Topic4\", \"Topic4\", \"Topic4\", \"Topic4\", \"Topic4\", \"Topic4\", \"Topic4\", \"Topic4\", \"Topic4\", \"Topic4\", \"Topic4\", \"Topic4\", \"Topic4\", \"Topic4\", \"Topic4\", \"Topic4\", \"Topic4\", \"Topic4\", \"Topic4\", \"Topic4\", \"Topic4\", \"Topic4\", \"Topic4\", \"Topic4\", \"Topic4\", \"Topic4\", \"Topic4\", \"Topic4\", \"Topic4\", \"Topic4\", \"Topic4\", \"Topic4\", \"Topic4\", \"Topic4\", \"Topic4\", \"Topic4\", \"Topic5\", \"Topic5\", \"Topic5\", \"Topic5\", \"Topic5\", \"Topic5\", \"Topic5\", \"Topic5\", \"Topic5\", \"Topic5\", \"Topic5\", \"Topic5\", \"Topic5\", \"Topic5\", \"Topic5\", \"Topic5\", \"Topic5\", \"Topic5\", \"Topic5\", \"Topic5\", \"Topic5\", \"Topic5\", \"Topic5\", \"Topic5\", \"Topic5\", \"Topic5\", \"Topic5\", \"Topic5\", \"Topic5\", \"Topic5\", \"Topic5\", \"Topic5\", \"Topic5\", \"Topic5\", \"Topic5\", \"Topic5\", \"Topic5\", \"Topic5\", \"Topic5\", \"Topic5\", \"Topic5\", \"Topic5\", \"Topic5\", \"Topic5\", \"Topic5\", \"Topic5\", \"Topic5\", \"Topic5\", \"Topic5\", \"Topic5\", \"Topic5\", \"Topic5\", \"Topic5\", \"Topic5\", \"Topic5\", \"Topic5\", \"Topic5\", \"Topic5\", \"Topic5\", \"Topic5\", \"Topic5\", \"Topic5\", \"Topic5\", \"Topic5\", \"Topic6\", \"Topic6\", \"Topic6\", \"Topic6\", \"Topic6\", \"Topic6\", \"Topic6\", \"Topic6\", \"Topic6\", \"Topic6\", \"Topic6\", \"Topic6\", \"Topic6\", \"Topic6\", \"Topic6\", \"Topic6\", \"Topic6\", \"Topic6\", \"Topic6\", \"Topic6\", \"Topic6\", \"Topic6\", \"Topic6\", \"Topic6\", \"Topic6\", \"Topic6\", \"Topic6\", \"Topic6\", \"Topic6\", \"Topic6\", \"Topic6\", \"Topic6\", \"Topic6\", \"Topic6\", \"Topic6\", \"Topic6\", \"Topic6\", \"Topic6\", \"Topic6\", \"Topic6\", \"Topic6\", \"Topic6\", \"Topic6\", \"Topic6\", \"Topic6\", \"Topic6\", \"Topic6\", \"Topic6\", \"Topic6\", \"Topic6\", \"Topic6\", \"Topic6\", \"Topic6\", \"Topic6\", \"Topic6\", \"Topic6\", \"Topic6\", \"Topic6\", \"Topic6\", \"Topic6\", \"Topic6\", \"Topic6\", \"Topic6\", \"Topic7\", \"Topic7\", \"Topic7\", \"Topic7\", \"Topic7\", \"Topic7\", \"Topic7\", \"Topic7\", \"Topic7\", \"Topic7\", \"Topic7\", \"Topic7\", \"Topic7\", \"Topic7\", \"Topic7\", \"Topic7\", \"Topic7\", \"Topic7\", \"Topic7\", \"Topic7\", \"Topic7\", \"Topic7\", \"Topic7\", \"Topic7\", \"Topic7\", \"Topic7\", \"Topic7\", \"Topic7\", \"Topic7\", \"Topic7\", \"Topic7\", \"Topic7\", \"Topic7\", \"Topic7\", \"Topic7\", \"Topic7\", \"Topic7\", \"Topic7\", \"Topic7\", \"Topic7\", \"Topic7\", \"Topic7\", \"Topic7\", \"Topic7\", \"Topic7\", \"Topic7\", \"Topic7\", \"Topic7\", \"Topic7\", \"Topic7\", \"Topic7\", \"Topic7\", \"Topic7\", \"Topic7\", \"Topic7\", \"Topic7\", \"Topic7\", \"Topic7\", \"Topic7\", \"Topic7\", \"Topic8\", \"Topic8\", \"Topic8\", \"Topic8\", \"Topic8\", \"Topic8\", \"Topic8\", \"Topic8\", \"Topic8\", \"Topic8\", \"Topic8\", \"Topic8\", \"Topic8\", \"Topic8\", \"Topic8\", \"Topic8\", \"Topic8\", \"Topic8\", \"Topic8\", \"Topic8\", \"Topic8\", \"Topic8\", \"Topic8\", \"Topic8\", \"Topic8\", \"Topic8\", \"Topic8\", \"Topic8\", \"Topic8\", \"Topic8\", \"Topic8\", \"Topic8\", \"Topic8\", \"Topic8\", \"Topic8\", \"Topic8\", \"Topic8\", \"Topic8\", \"Topic8\", \"Topic8\", \"Topic8\", \"Topic8\", \"Topic8\", \"Topic8\", \"Topic8\", \"Topic8\", \"Topic8\", \"Topic8\", \"Topic8\", \"Topic8\", \"Topic8\", \"Topic8\", \"Topic8\", \"Topic8\", \"Topic8\", \"Topic8\", \"Topic8\", \"Topic8\", \"Topic8\", \"Topic8\"], \"logprob\": [30.0, 29.0, 28.0, 27.0, 26.0, 25.0, 24.0, 23.0, 22.0, 21.0, 20.0, 19.0, 18.0, 17.0, 16.0, 15.0, 14.0, 13.0, 12.0, 11.0, 10.0, 9.0, 8.0, 7.0, 6.0, 5.0, 4.0, 3.0, 2.0, 1.0, -5.827199935913086, -6.126699924468994, -6.223899841308594, -6.293799877166748, -6.0015997886657715, -5.972700119018555, -6.281599998474121, -4.487100124359131, -6.140999794006348, -6.59250020980835, -6.623000144958496, -6.6768999099731445, -6.570799827575684, -6.679900169372559, -5.662899971008301, -6.61870002746582, -6.796999931335449, -6.834799766540527, -6.7505998611450195, -5.640200138092041, -6.964799880981445, -6.330100059509277, -6.945000171661377, -6.750699996948242, -6.441500186920166, -7.061999797821045, -6.86899995803833, -6.903200149536133, -7.114999771118164, -7.081299781799316, -4.770299911499023, -4.9679999351501465, -5.509300231933594, -4.576600074768066, -2.5817999839782715, -1.8044999837875366, -4.892300128936768, -3.969599962234497, -5.603000164031982, -5.841599941253662, -4.089200019836426, -4.783100128173828, -4.493299961090088, -4.373600006103516, -5.2129998207092285, -4.332499980926514, -4.974800109863281, -4.966800212860107, -3.782099962234497, -4.495100021362305, -4.157700061798096, -2.4302000999450684, -4.840700149536133, -3.2376999855041504, -4.664100170135498, -4.8379998207092285, -5.690299987792969, -4.201600074768066, -5.078499794006348, -4.9380998611450195, -5.224100112915039, -4.874300003051758, -5.065800189971924, -4.809599876403809, -5.0721001625061035, -5.542600154876709, -5.878699779510498, -5.94350004196167, -5.971700191497803, -6.082399845123291, -6.159299850463867, -6.15749979019165, -6.099599838256836, -6.299200057983398, -6.297100067138672, -6.341300010681152, -6.375999927520752, -5.055799961090088, -6.232900142669678, -6.4842000007629395, -6.422699928283691, -6.502500057220459, -6.091899871826172, -4.192800045013428, -6.510900020599365, -6.618199825286865, -6.657800197601318, -6.416900157928467, -6.093599796295166, -6.741499900817871, -6.736700057983398, -5.861499786376953, -6.332499980926514, -6.765699863433838, -6.822700023651123, -5.717599868774414, -5.508299827575684, -6.307499885559082, -5.588399887084961, -6.008500099182129, -4.97189998626709, -4.615300178527832, -4.743599891662598, -5.3420000076293945, -3.225399971008301, -5.314000129699707, -2.6301000118255615, -2.076900005340576, -5.30049991607666, -4.507800102233887, -3.668100118637085, -3.8847999572753906, -4.57859992980957, -3.764899969100952, -5.635900020599365, -5.174699783325195, -5.341700077056885, -5.347099781036377, -4.502099990844727, -5.574999809265137, -4.529900074005127, -5.031099796295166, -4.850399971008301, -4.817299842834473, -4.960599899291992, -4.89300012588501, -5.249800205230713, -4.483099937438965, -4.902500152587891, -4.9079999923706055, -5.20389986038208, -5.117300033569336, -5.3242998123168945, -6.167600154876709, -5.756700038909912, -6.1508002281188965, -6.337399959564209, -6.446300029754639, -5.912899971008301, -6.732999801635742, -6.5345001220703125, -6.761000156402588, -6.487299919128418, -6.827899932861328, -6.826499938964844, -6.856100082397461, -6.846799850463867, -6.944499969482422, -6.958199977874756, -6.553999900817871, -6.877399921417236, -7.015100002288818, -5.769999980926514, -6.14769983291626, -7.077099800109863, -7.033299922943115, -7.109300136566162, -6.981900215148926, -6.02400016784668, -7.126200199127197, -7.182400226593018, -6.944399833679199, -7.187300205230713, -7.106299877166748, -5.7581000328063965, -5.5696001052856445, -5.827099800109863, -4.307700157165527, -3.637399911880493, -2.578399896621704, -3.5803000926971436, -3.578700065612793, -4.775700092315674, -1.4213000535964966, -3.6101999282836914, -3.761699914932251, -4.452600002288818, -4.486999988555908, -5.4197001457214355, -5.855299949645996, -5.195899963378906, -5.9552001953125, -5.298299789428711, -4.9054999351501465, -3.7428998947143555, -5.3267998695373535, -5.526199817657471, -4.235400199890137, -4.63129997253418, -3.91129994392395, -4.862599849700928, -4.037899971008301, -5.011499881744385, -5.4944000244140625, -4.803299903869629, -5.142600059509277, -5.224999904632568, -4.945899963378906, -5.382900238037109, -5.4334001541137695, -5.148399829864502, -4.915200233459473, -5.36959981918335, -5.456999778747559, -5.827400207519531, -5.956999778747559, -6.010200023651123, -6.098100185394287, -6.073500156402588, -6.3109002113342285, -6.361400127410889, -6.511899948120117, -6.575900077819824, -6.655399799346924, -6.512199878692627, -6.215099811553955, -4.033299922943115, -6.651500225067139, -6.777699947357178, -6.787899971008301, -4.269700050354004, -6.816800117492676, -6.863500118255615, -6.843500137329102, -6.5366997718811035, -6.821800231933594, -6.9105000495910645, -6.3109002113342285, -5.870100021362305, -6.835100173950195, -6.985899925231934, -2.7116000652313232, -3.4539999961853027, -4.460299968719482, -4.400899887084961, -4.5472002029418945, -5.455900192260742, -5.036900043487549, -4.258399963378906, -5.03439998626709, -4.409900188446045, -4.200500011444092, -5.356800079345703, -3.733799934387207, -3.990799903869629, -4.686399936676025, -4.405700206756592, -4.728899955749512, -5.2322998046875, -5.738100051879883, -2.930299997329712, -3.7300000190734863, -4.286399841308594, -5.247900009155273, -3.4166998863220215, -4.834700107574463, -4.051799774169922, -4.6691999435424805, -4.218999862670898, -3.564300060272217, -4.019499778747559, -4.670599937438965, -3.672300100326538, -4.536900043487549, -4.6066999435424805, -4.498300075531006, -4.140100002288818, -5.598199844360352, -5.748000144958496, -5.691500186920166, -5.888800144195557, -5.9243998527526855, -6.008900165557861, -6.138899803161621, -6.253600120544434, -6.283999919891357, -6.098299980163574, -6.484799861907959, -5.892300128936768, -6.533899784088135, -6.577000141143799, -6.587900161743164, -5.713699817657471, -6.746799945831299, -6.763800144195557, -6.808000087738037, -6.829100131988525, -6.826499938964844, -6.88670015335083, -6.895599842071533, -6.694499969482422, -6.813700199127197, -6.853700160980225, -6.500199794769287, -6.811299800872803, -7.040299892425537, -1.465499997138977, -2.5013999938964844, -4.960999965667725, -3.6006999015808105, -6.054299831390381, -6.112500190734863, -5.424099922180176, -5.678899765014648, -4.5416998863220215, -4.9319000244140625, -5.880000114440918, -5.527299880981445, -3.324899911880493, -4.89109992980957, -4.366799831390381, -5.026199817657471, -3.664299964904785, -3.4979000091552734, -3.281899929046631, -4.0644001960754395, -3.375499963760376, -3.824399948120117, -5.313600063323975, -4.915500164031982, -5.20359992980957, -5.401000022888184, -4.625699996948242, -5.463699817657471, -4.992199897766113, -5.367599964141846, -5.527299880981445, -5.431600093841553, -5.442599773406982, -5.503200054168701, -5.112599849700928, -4.503799915313721, -5.334000110626221, -5.710299968719482, -5.722700119018555, -5.5208001136779785, -5.812600135803223, -6.01039981842041, -4.354700088500977, -5.820499897003174, -6.234499931335449, -4.035299777984619, -3.4511001110076904, -6.411499977111816, -6.347400188446045, -5.950799942016602, -6.5152997970581055, -6.5416998863220215, -6.1178998947143555, -6.452899932861328, -6.648600101470947, -6.1828999519348145, -6.742599964141846, -6.83650016784668, -6.699900150299072, -6.8404998779296875, -6.0960001945495605, -5.340099811553955, -5.591100215911865, -4.601600170135498, -5.156300067901611, -6.4903998374938965, -2.91129994392395, -5.015600204467773, -6.09499979019165, -5.5131001472473145, -3.927999973297119, -3.035900115966797, -3.9895999431610107, -4.740900039672852, -3.5176000595092773, -4.360199928283691, -4.109499931335449, -4.7677001953125, -5.483099937438965, -4.417799949645996, -3.2790000438690186, -5.1757001876831055, -2.9402999877929688, -4.117199897766113, -4.6280999183654785, -5.120200157165527, -3.779099941253662, -4.382400035858154, -4.725900173187256, -4.943600177764893, -4.479400157928467, -4.258600234985352, -4.12529993057251, -5.028600215911865, -4.9054999351501465, -4.812900066375732, -4.758399963378906, -4.19950008392334, -4.792799949645996, -3.421799898147583, -5.331699848175049, -5.670199871063232, -5.737500190734863, -5.488399982452393, -5.738699913024902, -2.8726999759674072, -5.834400177001953, -5.3846001625061035, -6.122000217437744, -5.879000186920166, -5.107800006866455, -6.391600131988525, -6.477200031280518, -6.508399963378906, -6.590400218963623, -6.596099853515625, -6.691800117492676, -6.757999897003174, -6.758399963378906, -6.791399955749512, -6.815199851989746, -6.858699798583984, -6.71619987487793, -5.704699993133545, -4.509900093078613, -5.305799961090088, -6.989699840545654, -6.441199779510498, -3.446899890899658, -4.809199810028076, -1.8214000463485718, -4.6255998611450195, -4.95550012588501, -5.433499813079834, -5.294300079345703, -5.501800060272217, -4.086999893188477, -3.372299909591675, -5.41540002822876, -5.404200077056885, -2.5408999919891357, -4.591599941253662, -4.215400218963623, -4.5482001304626465, -4.065999984741211, -3.4202001094818115, -4.635200023651123, -4.091800212860107, -4.14139986038208, -4.478300094604492, -4.269100189208984, -4.842100143432617, -4.8815999031066895, -4.605100154876709, -4.9197998046875, -4.613800048828125, -5.122499942779541, -4.793499946594238, -4.977799892425537, -5.098800182342529, -5.14709997177124, -5.111199855804443, -5.134900093078613, -5.364299774169922, -4.932300090789795, -5.476600170135498, -5.467700004577637, -5.620999813079834, -5.126800060272217, -5.69980001449585, -5.461900234222412, -5.804200172424316, -4.849299907684326, -5.6778998374938965, -5.087800025939941, -5.8404998779296875, -5.839099884033203, -5.531000137329102, -5.9832000732421875, -5.836900234222412, -5.416399955749512, -6.1031999588012695, -6.107100009918213, -6.113500118255615, -6.105000019073486, -6.084400177001953, -6.203499794006348, -5.816400051116943, -4.445199966430664, -3.8192999362945557, -4.860599994659424, -4.0218000411987305, -4.303999900817871, -4.918600082397461, -2.7908999919891357, -4.769000053405762, -5.006400108337402, -4.101900100708008, -4.864799976348877, -4.372200012207031, -5.200300216674805, -5.013500213623047, -2.3499999046325684, -3.5957000255584717, -4.7104997634887695, -5.02269983291626, -5.045899868011475, -4.344799995422363, -4.051199913024902, -3.980600118637085, -4.468200206756592, -4.551499843597412, -4.827300071716309, -4.74399995803833, -4.679800033569336, -4.9004998207092285, -4.894499778747559], \"loglift\": [30.0, 29.0, 28.0, 27.0, 26.0, 25.0, 24.0, 23.0, 22.0, 21.0, 20.0, 19.0, 18.0, 17.0, 16.0, 15.0, 14.0, 13.0, 12.0, 11.0, 10.0, 9.0, 8.0, 7.0, 6.0, 5.0, 4.0, 3.0, 2.0, 1.0, 1.6002000570297241, 1.5925999879837036, 1.5901999473571777, 1.5880000591278076, 1.5859999656677246, 1.5856000185012817, 1.582800030708313, 1.5805000066757202, 1.5774999856948853, 1.5765000581741333, 1.5753999948501587, 1.5729999542236328, 1.5729999542236328, 1.5729000568389893, 1.5722999572753906, 1.570099949836731, 1.5663000345230103, 1.5647000074386597, 1.5583000183105469, 1.5579999685287476, 1.5572999715805054, 1.555799961090088, 1.5542999505996704, 1.5541000366210938, 1.5534000396728516, 1.5509999990463257, 1.549299955368042, 1.5485999584197998, 1.5475000143051147, 1.5467000007629395, 1.5282000303268433, 1.518399953842163, 1.5261000394821167, 1.4844000339508057, 1.417799949645996, 1.3514000177383423, 1.437999963760376, 1.354099988937378, 1.4462000131607056, 1.4697999954223633, 1.1960999965667725, 1.288599967956543, 1.2009999752044678, 1.069700002670288, 1.2546000480651855, 1.0255000591278076, 1.1568000316619873, 1.1295000314712524, 0.7077999711036682, 0.8937000036239624, 0.7304999828338623, -0.08699999749660492, 0.91839998960495, -0.05730000138282776, 0.7211999893188477, 0.7836999893188477, 1.3357000350952148, -0.04010000079870224, 0.7541999816894531, 0.23909999430179596, 0.7343999743461609, 0.017899999395012856, 0.3824000060558319, -0.8565000295639038, -1.232800006866455, 1.6360000371932983, 1.6330000162124634, 1.631700038909912, 1.627500057220459, 1.6266000270843506, 1.6260000467300415, 1.625499963760376, 1.6232999563217163, 1.6216000318527222, 1.6203999519348145, 1.6201000213623047, 1.6188000440597534, 1.6186000108718872, 1.6167999505996704, 1.614799976348877, 1.6136000156402588, 1.6134999990463257, 1.6124000549316406, 1.6110999584197998, 1.6083999872207642, 1.6080000400543213, 1.607300043106079, 1.607100009918213, 1.6055999994277954, 1.6028000116348267, 1.6022000312805176, 1.6002999544143677, 1.5992000102996826, 1.5989999771118164, 1.5987999439239502, 1.5964000225067139, 1.5813000202178955, 1.585800051689148, 1.5503000020980835, 1.5514999628067017, 1.4325000047683716, 1.388200044631958, 1.3774000406265259, 1.4562000036239624, 1.1161999702453613, 1.3288999795913696, 0.5504000186920166, 0.2662999927997589, 1.2746000289916992, 0.8774999976158142, 0.4932999908924103, 0.5655999779701233, 0.7735000252723694, 0.1882999986410141, 1.288699984550476, 0.9247999787330627, 0.9900000095367432, 0.957099974155426, -0.03440000116825104, 1.082900047302246, -0.10289999842643738, 0.412200003862381, 0.13500000536441803, 0.07490000128746033, 0.21660000085830688, -0.004699999932199717, 0.6087999939918518, -1.3271000385284424, -0.41269999742507935, -0.9083999991416931, -0.12060000002384186, -1.2316999435424805, 0.0478999987244606, 1.7700999975204468, 1.7699999809265137, 1.7627999782562256, 1.7625999450683594, 1.7591999769210815, 1.7546000480651855, 1.7445000410079956, 1.7443000078201294, 1.742799997329712, 1.7390999794006348, 1.738700032234192, 1.7386000156402588, 1.736799955368042, 1.736299991607666, 1.7307000160217285, 1.7297999858856201, 1.7297999858856201, 1.7278000116348267, 1.725600004196167, 1.7237000465393066, 1.7226999998092651, 1.718500018119812, 1.7182999849319458, 1.7180999517440796, 1.7163000106811523, 1.7158000469207764, 1.7148000001907349, 1.7117999792099, 1.711400032043457, 1.7106000185012817, 1.7101999521255493, 1.6943000555038452, 1.6805000305175781, 1.6571999788284302, 1.5506999492645264, 1.4574999809265137, 1.3071999549865723, 1.3818000555038452, 1.2984999418258667, 1.44159996509552, 0.9218000173568726, 1.2103999853134155, 1.232200026512146, 1.3437000513076782, 1.3428000211715698, 1.4984999895095825, 1.5322999954223633, 1.3575999736785889, 1.5456000566482544, 1.253999948501587, 1.0616999864578247, 0.2101999968290329, 1.0683000087738037, 1.1576999425888062, 0.10610000044107437, 0.35409998893737793, -0.34529998898506165, 0.4894999861717224, -0.8575000166893005, 0.3772999942302704, 1.0140999555587769, -0.3528999984264374, 0.03449999913573265, 0.23250000178813934, -0.7843999862670898, 0.5138000249862671, 0.5648000240325928, -1.992400050163269, 2.2527999877929688, 2.249500036239624, 2.248699903488159, 2.2472000122070312, 2.239799976348877, 2.239300012588501, 2.2274999618530273, 2.224600076675415, 2.223099946975708, 2.218899965286255, 2.204400062561035, 2.198699951171875, 2.1979000568389893, 2.197000026702881, 2.1923999786376953, 2.188699960708618, 2.1851000785827637, 2.1809000968933105, 2.179800033569336, 2.17930006980896, 2.1789000034332275, 2.178299903869629, 2.1779000759124756, 2.177500009536743, 2.1733999252319336, 2.17330002784729, 2.171999931335449, 2.1689000129699707, 2.166800022125244, 2.1623001098632812, 2.141400098800659, 2.1428000926971436, 2.1389999389648438, 2.1331000328063965, 2.0738000869750977, 2.0922999382019043, 2.0459001064300537, 1.9811999797821045, 2.030600070953369, 1.9333000183105469, 1.8704999685287476, 2.022200107574463, 1.7143000364303589, 1.7355999946594238, 1.8538000583648682, 1.7711999416351318, 1.7943999767303467, 1.8944000005722046, 2.043600082397461, 1.0227999687194824, 1.2554999589920044, 1.3352999687194824, 1.7360999584197998, 0.46889999508857727, 1.4004000425338745, 0.7674999833106995, 1.2274999618530273, 0.6582000255584717, -0.383899986743927, 0.1420000046491623, 0.9732000231742859, -1.3291000127792358, 0.3513000011444092, -0.15629999339580536, -0.9322999715805054, 2.267699956893921, 2.2655999660491943, 2.260999917984009, 2.2581000328063965, 2.2541000843048096, 2.2539000511169434, 2.25, 2.2372000217437744, 2.236799955368042, 2.2348999977111816, 2.230299949645996, 2.2204999923706055, 2.219599962234497, 2.214200019836426, 2.2135000228881836, 2.2118000984191895, 2.210700035095215, 2.1993000507354736, 2.196899890899658, 2.1933999061584473, 2.190700054168701, 2.187700033187866, 2.184499979019165, 2.1840999126434326, 2.1826000213623047, 2.18149995803833, 2.180799961090088, 2.1710000038146973, 2.1642000675201416, 2.162100076675415, 2.1005001068115234, 1.9256000518798828, 2.0464000701904297, 1.7714999914169312, 2.077199935913086, 2.075700044631958, 1.9594999551773071, 1.9606000185012817, 1.6829999685287476, 1.6998000144958496, 1.9599000215530396, 1.8539999723434448, 1.1648999452590942, 1.6466000080108643, 1.2769999504089355, 1.5556999444961548, 0.8033999800682068, 0.34130001068115234, -0.12600000202655792, 0.38609999418258667, -1.0322999954223633, -0.6438999772071838, 1.1812000274658203, 0.4424999952316284, 0.892300009727478, 1.2023999691009521, -0.6261000037193298, 1.0829999446868896, -0.8307999968528748, 0.5996000170707703, 0.9958999752998352, -0.4377000033855438, -0.5543000102043152, -0.683899998664856, 2.3724000453948975, 2.361999988555908, 2.3596999645233154, 2.354599952697754, 2.351599931716919, 2.351300001144409, 2.3496999740600586, 2.3415000438690186, 2.3364999294281006, 2.3329999446868896, 2.328700065612793, 2.326200008392334, 2.3208000659942627, 2.3164000511169434, 2.3125, 2.3108999729156494, 2.308300018310547, 2.3060998916625977, 2.3020999431610107, 2.296099901199341, 2.295099973678589, 2.2869999408721924, 2.2820000648498535, 2.2772998809814453, 2.2772998809814453, 2.2769999504089355, 2.2755000591278076, 2.274199962615967, 2.2737998962402344, 2.2736001014709473, 2.2437000274658203, 2.2688000202178955, 2.154099941253662, 2.20169997215271, 2.248300075531006, 2.1649999618530273, 1.9306000471115112, 1.783400058746338, 1.8344000577926636, 1.9566999673843384, 1.5657000541687012, 1.7634999752044678, 1.6920000314712524, 1.8387000560760498, 2.0355000495910645, 1.5195000171661377, 0.8824999928474426, 1.8523999452590942, 0.2401999980211258, 0.8449000120162964, 1.2685999870300293, 1.6604000329971313, 0.06019999831914902, 0.7124999761581421, 1.0703999996185303, 1.292199969291687, 0.40880000591278076, -0.305400013923645, -1.782099962234497, 1.2755999565124512, 0.5519999861717224, -0.3231000006198883, -1.6024999618530273, 2.4554998874664307, 2.4523000717163086, 2.4482998847961426, 2.445199966430664, 2.436199903488159, 2.4337000846862793, 2.432800054550171, 2.4302000999450684, 2.424499988555908, 2.4198999404907227, 2.4149999618530273, 2.414299964904785, 2.401700019836426, 2.3986001014709473, 2.391700029373169, 2.387500047683716, 2.3814001083374023, 2.3773000240325928, 2.3750998973846436, 2.366300106048584, 2.3605000972747803, 2.360100030899048, 2.356800079345703, 2.3540000915527344, 2.34879994392395, 2.3399999141693115, 2.334399938583374, 2.3333001136779785, 2.331199884414673, 2.329200029373169, 2.326900005340576, 2.225600004196167, 2.225399971008301, 2.017899990081787, 2.1977999210357666, 2.216599941253662, 2.249500036239624, 2.1712000370025635, 2.153700113296509, 1.7616000175476074, 1.5198999643325806, 2.0432000160217285, 1.955399990081787, 0.6395999789237976, 1.4962999820709229, 1.2422000169754028, 1.4177000522613525, 1.017300009727478, 0.46540001034736633, 1.3775999546051025, 0.375900000333786, 0.20020000636577606, 0.34220001101493835, -0.3160000145435333, 0.2232999950647354, 0.11230000108480453, -1.4492000341415405, 0.065700002014637, -2.270699977874756, 0.6366000175476074, 2.6389000415802, 2.635200023651123, 2.63319993019104, 2.629300117492676, 2.628700017929077, 2.6242001056671143, 2.6238999366760254, 2.621500015258789, 2.620500087738037, 2.6180999279022217, 2.613300085067749, 2.6120998859405518, 2.610599994659424, 2.6057000160217285, 2.6052000522613525, 2.603800058364868, 2.601300001144409, 2.600399971008301, 2.5980000495910645, 2.5973000526428223, 2.5957000255584717, 2.5934998989105225, 2.591900110244751, 2.586699962615967, 2.586400032043457, 2.5861001014709473, 2.585099935531616, 2.5845999717712402, 2.58270001411438, 2.578000068664551, 2.576200008392334, 2.543800115585327, 2.512500047683716, 2.536400079727173, 2.4820001125335693, 2.4554998874664307, 2.4828999042510986, 1.676800012588501, 2.2643001079559326, 2.3361001014709473, 1.8740999698638916, 2.162600040435791, 1.8974000215530396, 2.3032000064849854, 2.13919997215271, -0.006800000090152025, 0.8547000288963318, 1.7404999732971191, 1.9817999601364136, 2.0037999153137207, 0.8323000073432922, -0.09799999743700027, -0.8246999979019165, 0.35109999775886536, 0.26899999380111694, 1.1474000215530396, -0.5824999809265137, -1.4993000030517578, 0.45159998536109924, -1.0551999807357788]}, \"token.table\": {\"Topic\": [1, 3, 7, 4, 3, 1, 2, 3, 4, 5, 6, 8, 3, 2, 3, 5, 1, 2, 3, 4, 5, 6, 8, 6, 8, 2, 3, 4, 5, 7, 8, 5, 1, 2, 3, 4, 5, 6, 7, 8, 7, 1, 2, 1, 5, 6, 5, 7, 8, 1, 2, 3, 4, 5, 6, 7, 8, 4, 5, 8, 7, 6, 5, 6, 1, 2, 3, 4, 5, 6, 7, 8, 4, 3, 5, 3, 7, 2, 3, 1, 5, 2, 5, 3, 5, 1, 5, 3, 2, 1, 2, 3, 5, 7, 1, 2, 3, 5, 8, 1, 2, 3, 4, 5, 6, 1, 8, 2, 3, 6, 7, 1, 2, 3, 4, 5, 6, 7, 8, 2, 7, 1, 2, 3, 4, 5, 6, 7, 8, 4, 2, 3, 6, 2, 5, 1, 2, 3, 4, 5, 2, 3, 6, 8, 6, 5, 1, 2, 3, 4, 5, 6, 8, 3, 4, 1, 2, 4, 8, 7, 1, 2, 3, 6, 7, 2, 3, 6, 8, 8, 1, 2, 3, 7, 8, 1, 2, 3, 4, 5, 6, 7, 8, 1, 2, 3, 5, 6, 7, 8, 1, 2, 3, 4, 5, 8, 5, 3, 2, 1, 2, 3, 4, 5, 6, 7, 8, 2, 5, 7, 1, 4, 1, 5, 1, 2, 3, 4, 5, 7, 8, 1, 6, 8, 2, 3, 4, 5, 1, 1, 2, 5, 2, 5, 8, 1, 2, 7, 2, 5, 8, 6, 1, 2, 3, 5, 6, 8, 2, 2, 6, 5, 2, 3, 4, 5, 6, 7, 8, 1, 2, 3, 6, 7, 8, 2, 4, 5, 6, 2, 4, 5, 6, 8, 4, 1, 2, 3, 2, 3, 4, 5, 6, 8, 6, 1, 2, 3, 5, 6, 8, 3, 7, 1, 2, 3, 6, 2, 1, 2, 3, 4, 5, 6, 8, 5, 3, 7, 1, 2, 3, 4, 5, 7, 8, 1, 2, 4, 7, 1, 1, 2, 3, 4, 5, 6, 7, 8, 8, 1, 7, 1, 2, 4, 1, 2, 3, 5, 6, 2, 5, 1, 2, 3, 4, 7, 1, 2, 3, 4, 5, 6, 7, 8, 6, 4, 1, 2, 6, 2, 3, 1, 2, 4, 5, 6, 8, 1, 2, 3, 4, 5, 7, 8, 4, 3, 4, 3, 4, 4, 5, 2, 5, 3, 8, 2, 6, 8, 1, 2, 3, 4, 5, 6, 7, 8, 2, 2, 7, 8, 2, 4, 6, 7, 6, 1, 2, 3, 4, 5, 8, 5, 5, 4, 1, 2, 3, 4, 5, 6, 8, 1, 2, 3, 4, 5, 8, 1, 2, 3, 4, 5, 6, 7, 8, 3, 8, 1, 5, 6, 1, 2, 3, 4, 5, 5, 7, 8, 7, 2, 3, 5, 8, 1, 2, 5, 1, 5, 2, 4, 1, 3, 4, 5, 6, 7, 6, 1, 2, 3, 4, 8, 1, 4, 1, 3, 8, 1, 2, 3, 4, 5, 8, 1, 2, 4, 5, 6, 7, 8, 1, 2, 3, 4, 5, 6, 7, 8, 1, 2, 5, 6, 6, 2, 6, 7, 1, 8, 1, 2, 3, 4, 5, 6, 7, 8, 2, 1, 2, 3, 1, 8, 1, 8, 1, 2, 3, 4, 5, 6, 7, 8, 2, 3, 4, 6, 8, 6, 5, 8, 7, 2, 1, 2, 3, 4, 5, 8, 8, 3, 4, 6, 6, 4, 5, 8, 1, 2, 3, 4, 5, 6, 7, 8, 2, 3, 4, 1, 2, 3, 5, 6, 7, 2, 3, 4, 5, 6, 2, 8, 1, 1, 2, 5, 5, 3, 2, 8, 1, 3, 1, 2, 3, 4, 6, 7, 8, 2, 7, 8, 7, 3, 2, 5, 2, 4, 5, 8, 8, 2, 1, 2, 3, 4, 6, 8, 8, 1, 2, 3, 4, 5, 6, 7, 8, 1, 2, 3, 4, 5, 6, 7, 8, 1, 2, 3, 4, 6, 7, 2, 1, 2, 3, 4, 5, 6, 7, 8, 4, 1, 2, 3, 4, 5, 6, 7, 8, 2, 3, 1, 3, 5, 8, 2, 8, 1, 2, 3, 4, 5, 7, 8, 8, 1, 2, 3, 4, 6, 7, 8, 7, 8, 1, 2, 3, 4, 5, 6, 7, 8, 1, 2, 3, 5, 6, 7, 2, 4, 5, 6, 2, 6, 7, 1, 2, 3, 2, 3, 1, 2, 3, 4, 5, 7, 8, 2, 3, 7, 5, 1, 5, 6, 2, 4, 5, 6, 5, 8, 8, 2, 4, 1, 2, 6, 7, 3, 7, 3, 6, 6, 4, 1, 2, 3, 4, 2, 3, 6, 1, 2, 8, 1, 2, 3, 4, 5, 6, 7, 8, 3, 2, 5, 2, 1, 2, 3, 4, 5, 6, 7, 8, 5, 1, 2, 4, 5, 8, 3, 1, 4, 6, 7, 8, 2, 6, 4, 2, 1, 2, 1, 2, 3, 4, 5, 6, 8, 1, 2, 3, 4, 6, 7, 1, 2, 3, 5, 6, 7, 8, 5, 1, 2, 3, 4, 5, 6, 7, 8, 1, 2, 3, 4, 5, 6, 7, 8, 1, 2, 8, 1, 5, 1, 8, 1, 2, 3, 4, 5, 6, 8, 1, 2, 3, 4, 5, 6, 8, 5, 5, 2, 4, 1, 2, 3, 4, 5, 6, 7, 8, 1, 2, 3, 4, 5, 6, 7, 8, 8, 1, 2, 4, 5, 4, 1, 4, 5, 3, 6, 7, 6, 2, 1, 2, 3, 4, 6, 2, 4, 7, 2, 3, 4, 5, 6, 8, 2, 3, 4, 5, 6, 8, 8, 6, 7, 2, 3, 4, 5, 8, 1, 2, 3, 4, 7, 8, 1, 2, 3, 6, 3, 3, 5, 6, 7, 1, 2, 3, 4, 5, 6, 8, 1, 2, 3, 6, 8, 1, 7, 1, 4, 1, 3, 6, 2, 8, 1, 1, 2, 3, 4, 5, 6, 7, 8, 1, 2, 3, 5, 2, 5, 5, 1, 2, 4, 5, 7, 8, 4, 6, 1, 2, 3, 4, 5, 6, 7, 8, 1, 2, 3, 4, 6, 2, 4, 5, 7, 8, 2, 5, 6, 3, 6, 1, 2, 3, 4, 5, 6, 7, 8, 5, 1, 2, 3, 4, 8, 2, 1, 2, 3, 4, 5, 6, 7, 8, 1, 2, 3, 4, 5, 6, 8, 1, 2, 3, 4, 5, 6, 7, 8, 4, 5, 4, 1, 5, 6, 2, 2, 3, 2, 3, 5, 6, 8, 2, 3, 1, 2, 3, 4, 5, 6, 8, 7, 3, 4, 1, 8, 3, 5, 4, 5, 7, 8, 1, 2, 4, 6, 7, 3, 4, 5, 6, 3, 2, 1, 2, 3, 4, 5, 6, 7, 2, 3, 4, 8, 3, 6, 1, 2, 3, 4, 5, 6, 7, 3, 6, 1, 2, 3, 4, 5, 6, 7, 2, 3, 4, 5, 6, 1, 2, 3, 4, 5, 6, 7, 8, 1, 2, 5, 8, 1, 2, 4, 5, 6, 7, 7, 1, 4, 1, 2, 4, 6, 8, 1, 2, 3, 4, 5, 6, 7, 8, 8, 1, 2, 3, 4, 5, 6, 8, 1, 2, 3, 5, 6, 7, 8, 7, 1, 2, 3, 4, 6, 1, 2, 4, 5, 6, 7, 8, 3, 3, 1, 3, 4, 5, 7, 1, 2, 6, 8, 4, 1, 2, 5, 8, 3, 1, 2, 3, 4, 6, 8, 1, 1, 2, 3, 4, 5, 6, 7, 8, 1, 2, 3, 1, 6, 1, 2, 5, 7, 8, 1, 7, 1, 2, 3, 4, 5, 6, 7, 8, 7, 1, 2, 3, 4, 5, 8, 7, 2, 6, 7, 1], \"Freq\": [0.9569166898727417, 0.9775825142860413, 0.8695525527000427, 0.8942570090293884, 0.9636601209640503, 0.027278291061520576, 0.0854719802737236, 0.601940929889679, 0.19640369713306427, 0.0309153962880373, 0.04910092428326607, 0.010911316610872746, 0.9320417046546936, 0.024659844115376472, 0.8630945086479187, 0.09863937646150589, 0.7145517468452454, 0.1200927272439003, 0.012009272351861, 0.06004636362195015, 0.0060046361759305, 0.0720556378364563, 0.0060046361759305, 0.061154887080192566, 0.9173232913017273, 0.34387487173080444, 0.45540186762809753, 0.05576349422335625, 0.009293915703892708, 0.1115269884467125, 0.027881747111678123, 0.8763436079025269, 0.3291535973548889, 0.2677859961986542, 0.29010146856307983, 0.039052121341228485, 0.011157749220728874, 0.011157749220728874, 0.02789437398314476, 0.02789437398314476, 0.8847568035125732, 0.02194194309413433, 0.9654455184936523, 0.013285781256854534, 0.013285781256854534, 0.9698619842529297, 0.08902893960475922, 0.8902894258499146, 0.9558025002479553, 0.20122063159942627, 0.20491275191307068, 0.018460607156157494, 0.09968728572130203, 0.05168970301747322, 0.027690911665558815, 0.3839806318283081, 0.011076364666223526, 0.8960587382316589, 0.0318090096116066, 0.9542702436447144, 0.9801643490791321, 0.9587941765785217, 0.9599839448928833, 0.9448809623718262, 0.1866510957479477, 0.3309724032878876, 0.06966085731983185, 0.06932754814624786, 0.05266227200627327, 0.11599032580852509, 0.15898673236370087, 0.015665359795093536, 0.9540467262268066, 0.1413065493106842, 0.8007371425628662, 0.9700495004653931, 0.9646778702735901, 0.05484867841005325, 0.9324275851249695, 0.9049385190010071, 0.9529182314872742, 0.9305436611175537, 0.04985055327415466, 0.03829013183712959, 0.9189631938934326, 0.921147346496582, 0.036845892667770386, 0.9447128772735596, 0.9642622470855713, 0.845899224281311, 0.03192072734236717, 0.09576217830181122, 0.015960363671183586, 0.9113336801528931, 0.2920815348625183, 0.04327133670449257, 0.47598472237586975, 0.18390318751335144, 0.005408917088061571, 0.954465389251709, 0.8040040731430054, 0.008375042118132114, 0.01675008423626423, 0.041875213384628296, 0.1256256401538849, 0.09039377421140671, 0.8813393115997314, 0.06250408291816711, 0.1406341940164566, 0.5781627893447876, 0.20313827693462372, 0.07092524319887161, 0.21885502338409424, 0.2350665032863617, 0.3566526472568512, 0.0020264354534447193, 0.026343660429120064, 0.0891631618142128, 0.0020264354534447193, 0.9639930725097656, 0.9587012529373169, 0.7636487483978271, 0.050736457109451294, 0.02244112454354763, 0.006179440300911665, 0.08846356719732285, 0.01821308769285679, 0.019839255139231682, 0.030571967363357544, 0.8725155591964722, 0.09066061675548553, 0.022665154188871384, 0.861275851726532, 0.9442394375801086, 0.8938035368919373, 0.26683881878852844, 0.04669679328799248, 0.06670970469713211, 0.5937163829803467, 0.013341940939426422, 0.145818829536438, 0.6416028141975403, 0.029163764789700508, 0.18470384180545807, 0.9729077219963074, 0.9104521870613098, 0.24039392173290253, 0.03535204753279686, 0.2545347511768341, 0.41008374094963074, 0.007070409599691629, 0.007070409599691629, 0.049492865800857544, 0.9278057217597961, 0.978955090045929, 0.03005196712911129, 0.03005196712911129, 0.04507794976234436, 0.8865330219268799, 0.9039185643196106, 0.08334783464670181, 0.04861957207322121, 0.6945652961730957, 0.15975001454353333, 0.006945652887225151, 0.024401875212788582, 0.35382717847824097, 0.4758365750312805, 0.13421031832695007, 0.902244508266449, 0.05745455622673035, 0.028727278113365173, 0.028727278113365173, 0.8618183732032776, 0.028727278113365173, 0.006498183589428663, 0.17545095086097717, 0.20794187486171722, 0.032490916550159454, 0.022743642330169678, 0.15920549631118774, 0.28916916251182556, 0.10397093743085861, 0.004390289541333914, 0.05048833042383194, 0.04390289634466171, 0.004390289541333914, 0.7858618497848511, 0.10536695271730423, 0.004390289541333914, 0.009187850169837475, 0.9555363655090332, 0.004593925084918737, 0.004593925084918737, 0.009187850169837475, 0.01837570033967495, 0.9730761051177979, 0.9713261127471924, 0.9421974420547485, 0.6092620491981506, 0.012308324687182903, 0.006154162343591452, 0.1723165363073349, 0.0553874596953392, 0.030770812183618546, 0.036924973130226135, 0.08000411093235016, 0.0909217968583107, 0.02597765438258648, 0.870251476764679, 0.9571953415870667, 0.8546034693717957, 0.7484886050224304, 0.2339026778936386, 0.21026521921157837, 0.5139816403388977, 0.0778760090470314, 0.015575201250612736, 0.09345120936632156, 0.02336280234158039, 0.06230080500245094, 0.9602541923522949, 0.2567874789237976, 0.7275645136833191, 0.04485592991113663, 0.28408753871917725, 0.5831270813941956, 0.08971185982227325, 0.978355348110199, 0.010512612760066986, 0.43101710081100464, 0.5466558337211609, 0.022699084132909775, 0.11349541693925858, 0.8398661017417908, 0.03819907829165459, 0.19099539518356323, 0.7512485384941101, 0.9740011096000671, 0.9378953576087952, 0.9282023310661316, 0.8805773854255676, 0.02388903871178627, 0.07166711241006851, 0.011944519355893135, 0.02388903871178627, 0.059722594916820526, 0.8122273087501526, 0.9729968905448914, 0.053654078394174576, 0.9121193289756775, 0.916069507598877, 0.1650196611881256, 0.6317895650863647, 0.04243362694978714, 0.018859390169382095, 0.028289085254073143, 0.004714847542345524, 0.11315634101629257, 0.07562906295061111, 0.2755058705806732, 0.2052788883447647, 0.05942283943295479, 0.3457328677177429, 0.03241245821118355, 0.09183115512132645, 0.015305192209780216, 0.7805648446083069, 0.12244153767824173, 0.08107107132673264, 0.7782822847366333, 0.06485685706138611, 0.04864264279603958, 0.032428428530693054, 0.9279199838638306, 0.0250697024166584, 0.1754879206418991, 0.7771607637405396, 0.18789145350456238, 0.1565762162208557, 0.27009397745132446, 0.3601253032684326, 0.019572027027606964, 0.007828810252249241, 0.9394946694374084, 0.8732497096061707, 0.04752379283308983, 0.0178214218467474, 0.02970237098634243, 0.023761896416544914, 0.0059404741041362286, 0.08589230477809906, 0.8589230179786682, 0.2113395780324936, 0.6903759241104126, 0.07044652104377747, 0.028178609907627106, 0.9594447016716003, 0.042955074459314346, 0.042955074459314346, 0.7076283097267151, 0.013564759865403175, 0.004521586932241917, 0.18538504838943481, 0.004521586932241917, 0.919612467288971, 0.03379901871085167, 0.9463725090026855, 0.5500282645225525, 0.11471176892518997, 0.008823982439935207, 0.12353575229644775, 0.1558903604745865, 0.04117858409881592, 0.002941327402368188, 0.025233954191207886, 0.7570186257362366, 0.0063084885478019714, 0.20818012952804565, 0.9412589073181152, 0.060931503772735596, 0.19216859340667725, 0.014061116613447666, 0.11717597395181656, 0.014061116613447666, 0.5718187093734741, 0.03280927240848541, 0.004687038715928793, 0.9832960963249207, 0.3364351987838745, 0.6488392949104309, 0.06639949232339859, 0.09959923475980759, 0.7967938780784607, 0.0970974937081337, 0.03883899748325348, 0.5728752017021179, 0.10680723935365677, 0.18448522686958313, 0.9402747750282288, 0.0241096094250679, 0.8999818563461304, 0.0545443519949913, 0.02727217599749565, 0.00909072533249855, 0.00909072533249855, 0.978087306022644, 0.18127605319023132, 0.01208506990224123, 0.00805671326816082, 0.00805671326816082, 0.00402835663408041, 0.7774727940559387, 0.01208506990224123, 0.8838556408882141, 0.9592377543449402, 0.011156884022057056, 0.044627536088228226, 0.9483351707458496, 0.049783702939748764, 0.9209985136985779, 0.26785337924957275, 0.007878039963543415, 0.701145589351654, 0.007878039963543415, 0.007878039963543415, 0.007878039963543415, 0.1955518275499344, 0.08077140897512436, 0.05526464805006981, 0.5739021301269531, 0.008502253331243992, 0.012753380462527275, 0.07226915657520294, 0.8617330193519592, 0.9233274459838867, 0.06367775797843933, 0.01797322928905487, 0.9705543518066406, 0.9365030527114868, 0.8438334465026855, 0.9525560140609741, 0.03072761371731758, 0.906926691532135, 0.03627706691622734, 0.036078568547964096, 0.9019641876220703, 0.036078568547964096, 0.06882352381944656, 0.18473683297634125, 0.0024148605298250914, 0.012074301950633526, 0.2245820164680481, 0.012074301950633526, 0.12195045500993729, 0.37309592962265015, 0.9808287620544434, 0.05042438581585884, 0.9328511357307434, 0.02521219290792942, 0.81949782371521, 0.012416633777320385, 0.02483326755464077, 0.14899960160255432, 0.9629955291748047, 0.0574127696454525, 0.30620142817497253, 0.009568794630467892, 0.0861191526055336, 0.5167149305343628, 0.009568794630467892, 0.9178107976913452, 0.9573615789413452, 0.9538800716400146, 0.8321124315261841, 0.08554426580667496, 0.015553503297269344, 0.007776751648634672, 0.0388837568461895, 0.007776751648634672, 0.007776751648634672, 0.6958697438240051, 0.1516639143228531, 0.008921407163143158, 0.12489970028400421, 0.008921407163143158, 0.008921407163143158, 0.41287708282470703, 0.21984364092350006, 0.02681019902229309, 0.2681019902229309, 0.005362039897590876, 0.021448159590363503, 0.042896319180727005, 0.9450008273124695, 0.9447273015975952, 0.9575839042663574, 0.08080703765153885, 0.8888774514198303, 0.8734421133995056, 0.06169500946998596, 0.762774646282196, 0.005608637351542711, 0.005608637351542711, 0.15704184770584106, 0.703750491142273, 0.17593762278556824, 0.07037504762411118, 0.8825420141220093, 0.24778598546981812, 0.12389299273490906, 0.017698999494314194, 0.6017659902572632, 0.0637875497341156, 0.7229255437850952, 0.2019938975572586, 0.9570186138153076, 0.9713935852050781, 0.028215788304805756, 0.9593368172645569, 0.022796282544732094, 0.6291773915290833, 0.05927033722400665, 0.009118513204157352, 0.26443690061569214, 0.009118513204157352, 0.8823379874229431, 0.014637971296906471, 0.2415265291929245, 0.2415265291929245, 0.029275942593812943, 0.4684150815010071, 0.1577134132385254, 0.8148525953292847, 0.025135790929198265, 0.27649369835853577, 0.7038021087646484, 0.06230475753545761, 0.015576189383864403, 0.03894047439098358, 0.007788094691932201, 0.015576189383864403, 0.8644785284996033, 0.005535580683499575, 0.01107116136699915, 0.0027677903417497873, 0.013838951475918293, 0.013838951475918293, 0.9465842843055725, 0.005535580683499575, 0.042958300560712814, 0.08247993886470795, 0.5515845417976379, 0.07732494175434113, 0.0017183319432660937, 0.03436664119362831, 0.1185649111866951, 0.09107159823179245, 0.01888035237789154, 0.05664105713367462, 0.0944017618894577, 0.8307355046272278, 0.8777973651885986, 0.9280073642730713, 0.03712029382586479, 0.9291090369224548, 0.9559643268585205, 0.9576524496078491, 0.04469604790210724, 0.16984498500823975, 0.09162689745426178, 0.015643617138266563, 0.004469604697078466, 0.4357864558696747, 0.2324194461107254, 0.006704407278448343, 0.9538845419883728, 0.9115162491798401, 0.08286511152982712, 0.9344297051429749, 0.9612137675285339, 0.9551900029182434, 0.9562379717826843, 0.9135233759880066, 0.08372721821069717, 0.23024983704090118, 0.20282196998596191, 0.28221845626831055, 0.008661435917019844, 0.06712613254785538, 0.06135183945298195, 0.06351719796657562, 0.013999873772263527, 0.7419933080673218, 0.027999747544527054, 0.20999811589717865, 0.013999873772263527, 0.9871098399162292, 0.9295749664306641, 0.9329045414924622, 0.9049279689788818, 0.9515334963798523, 0.2284812033176422, 0.685443639755249, 0.009933965280652046, 0.04966982826590538, 0.009933965280652046, 0.019867930561304092, 0.9794812202453613, 0.9150630831718445, 0.8580660820007324, 0.8676782846450806, 0.9407874345779419, 0.9175747632980347, 0.9424833655357361, 0.9792724251747131, 0.10325257480144501, 0.33586758375167847, 0.11512068659067154, 0.0866372212767601, 0.14716458320617676, 0.03797795996069908, 0.00949448999017477, 0.16377994418144226, 0.13316702842712402, 0.08877801895141602, 0.7768076658248901, 0.4080546200275421, 0.4594392478466034, 0.009067879989743233, 0.003022626740857959, 0.11788244545459747, 0.003022626740857959, 0.326063871383667, 0.024608593434095383, 0.2953031063079834, 0.24608592689037323, 0.10458651930093765, 0.9321205615997314, 0.9054035544395447, 0.9522464275360107, 0.1259625107049942, 0.32890212535858154, 0.5388396382331848, 0.9630278944969177, 0.9470283389091492, 0.02643613889813423, 0.9517009854316711, 0.9537160396575928, 0.9461564421653748, 0.38449081778526306, 0.20139995217323303, 0.006103028543293476, 0.012206057086586952, 0.006103028543293476, 0.37228474020957947, 0.012206057086586952, 0.9690155982971191, 0.9517892599105835, 0.9511415362358093, 0.9307323098182678, 0.9039556384086609, 0.14954380691051483, 0.7975670099258423, 0.11195781826972961, 0.8651285767555237, 0.010177983902394772, 0.010177983902394772, 0.9053729772567749, 0.9721792340278625, 0.05124727636575699, 0.215238556265831, 0.14349237084388733, 0.010249455459415913, 0.5739694833755493, 0.958364725112915, 0.8852513432502747, 0.05732495337724686, 0.03478143364191055, 0.0019323017913848162, 0.012237911112606525, 0.1410580277442932, 0.09661509096622467, 0.6305744647979736, 0.02447582222521305, 0.6536829471588135, 0.14769405126571655, 0.05743657797574997, 0.0027350750751793385, 0.019145525991916656, 0.09299255162477493, 0.010940300300717354, 0.016410451382398605, 0.035511523485183716, 0.12784148752689362, 0.04971613362431526, 0.7386397123336792, 0.04261383041739464, 0.007102305069565773, 0.9449129700660706, 0.005148642230778933, 0.03089185245335102, 0.05148642137646675, 0.2179591804742813, 0.05148642137646675, 0.542323648929596, 0.0017162139993160963, 0.09954041242599487, 0.899783730506897, 0.08582885563373566, 0.10626430064439774, 0.564018189907074, 0.012261264957487583, 0.06539341062307358, 0.047001514583826065, 0.09400302916765213, 0.024522529914975166, 0.9703761339187622, 0.9131464958190918, 0.9477561712265015, 0.8837326169013977, 0.07165399938821793, 0.023884665220975876, 0.9273550510406494, 0.9085836410522461, 0.6587115526199341, 0.2676015794277191, 0.03705252707004547, 0.0041169472970068455, 0.0041169472970068455, 0.0041169472970068455, 0.024701682850718498, 0.9737405776977539, 0.010650373063981533, 0.05147680267691612, 0.003550124354660511, 0.8644552826881409, 0.003550124354660511, 0.06035211682319641, 0.007100248709321022, 0.9706430435180664, 0.01941286213696003, 0.19024065136909485, 0.3129191994667053, 0.07467390596866608, 0.11734470725059509, 0.04355977475643158, 0.22046580910682678, 0.0017779500922188163, 0.039114899933338165, 0.018334491178393364, 0.22001390159130096, 0.2750173807144165, 0.33002084493637085, 0.045836228877305984, 0.11000695079565048, 0.08757322281599045, 0.9020041823387146, 0.00875732209533453, 0.00875732209533453, 0.08046551048755646, 0.8851206302642822, 0.026821836829185486, 0.03902287036180496, 0.07804574072360992, 0.8780146241188049, 0.9507197737693787, 0.9619413018226624, 0.4822719693183899, 0.13952521979808807, 0.2396194040775299, 0.10616049915552139, 0.006066314410418272, 0.009099471382796764, 0.01819894276559353, 0.03007708676159382, 0.15038542449474335, 0.7820042371749878, 0.8246918320655823, 0.9287146329879761, 0.0628565177321434, 0.9428477883338928, 0.14399489760398865, 0.11519591510295868, 0.7199744582176208, 0.02879897877573967, 0.8993090987205505, 0.9375098347663879, 0.9395829439163208, 0.06207698583602905, 0.9311547875404358, 0.02993098460137844, 0.14965492486953735, 0.8081365823745728, 0.02993098460137844, 0.3918318450450897, 0.5877477526664734, 0.06607227772474289, 0.925011932849884, 0.9204843640327454, 0.9158680438995361, 0.07752757519483566, 0.3765624761581421, 0.5205422639846802, 0.011075367219746113, 0.051034972071647644, 0.229657381772995, 0.6889721155166626, 0.945061206817627, 0.04108961671590805, 0.9279124736785889, 0.4012192189693451, 0.1259211003780365, 0.02715945430099964, 0.04197370260953903, 0.322209894657135, 0.06542959064245224, 0.01357972715049982, 0.002469041384756565, 0.9528170228004456, 0.907555341720581, 0.06981195509433746, 0.9575568437576294, 0.18121881783008575, 0.24917587637901306, 0.4135136306285858, 0.026836544275283813, 0.03578205779194832, 0.015293944627046585, 0.008656949736177921, 0.0693998783826828, 0.8635209798812866, 0.12004715204238892, 0.33285802602767944, 0.04911020025610924, 0.03819682076573372, 0.45290517807006836, 0.8757601380348206, 0.9628820419311523, 0.005980633664876223, 0.005980633664876223, 0.005980633664876223, 0.017941901460289955, 0.05616417154669762, 0.9307205677032471, 0.8694971799850464, 0.9662343859672546, 0.961064875125885, 0.019221298396587372, 0.010499118827283382, 0.06299471110105515, 0.17848502099514008, 0.23098061978816986, 0.09449207037687302, 0.4147152006626129, 0.005249559413641691, 0.047668568789958954, 0.01906742714345455, 0.028601139783859253, 0.8580341935157776, 0.0381348542869091, 0.9179797768592834, 0.08333511650562286, 0.5000106692314148, 0.007575919385999441, 0.06060735508799553, 0.325764536857605, 0.007575919385999441, 0.015151838771998882, 0.8510180115699768, 0.07767296582460403, 0.17273540794849396, 0.01043368224054575, 0.018548768013715744, 0.6886230707168579, 0.004637192003428936, 0.011592980474233627, 0.01738947071135044, 0.026986323297023773, 0.055996619164943695, 0.6078669428825378, 0.16259260475635529, 0.006746580824255943, 0.0026986324228346348, 0.13358229398727417, 0.004722606390714645, 0.03023620881140232, 0.03023620881140232, 0.9373224973678589, 0.046187400817871094, 0.9237480163574219, 0.0478050522506237, 0.9321985244750977, 0.28968319296836853, 0.10299846529960632, 0.009656106121838093, 0.5632728934288025, 0.022530915215611458, 0.009656106121838093, 0.0032187020406126976, 0.002940606093034148, 0.015683231875300407, 0.11664403975009918, 0.04018828272819519, 0.8199389576911926, 0.001960403984412551, 0.002940606093034148, 0.9585272669792175, 0.9625318050384521, 0.06693600118160248, 0.8701680302619934, 0.04952683299779892, 0.27593520283699036, 0.21225786209106445, 0.04952683299779892, 0.04245157167315483, 0.33253732323646545, 0.007075261790305376, 0.03537631034851074, 0.8158776760101318, 0.07712652534246445, 0.009073709137737751, 0.015878990292549133, 0.05368611216545105, 0.003780712140724063, 0.005292996764183044, 0.018903560936450958, 0.9816208481788635, 0.20286375284194946, 0.1998804658651352, 0.002983290469273925, 0.5906915068626404, 0.9151255488395691, 0.9446925520896912, 0.018523383885622025, 0.018523383885622025, 0.19360379874706268, 0.04840094968676567, 0.726014256477356, 0.9551406502723694, 0.9536231756210327, 0.034492477774620056, 0.05173872038722038, 0.20695488154888153, 0.6726033687591553, 0.017246238887310028, 0.04718289524316788, 0.17300395667552948, 0.7706539630889893, 0.026322508230805397, 0.3597409427165985, 0.026322508230805397, 0.026322508230805397, 0.17548339068889618, 0.3948376178741455, 0.009703049436211586, 0.7762439846992493, 0.004851524718105793, 0.02425762452185154, 0.1358426958322525, 0.04851524904370308, 0.9604443311691284, 0.9429066777229309, 0.9265866875648499, 0.20420655608177185, 0.0628327876329422, 0.04712459072470665, 0.01570819690823555, 0.675452470779419, 0.015262478962540627, 0.10683735460042953, 0.198412224650383, 0.09157487004995346, 0.07631239295005798, 0.5036618113517761, 0.8504887223243713, 0.08297450840473175, 0.041487254202365875, 0.020743627101182938, 0.9477521181106567, 0.18045493960380554, 0.018045494332909584, 0.018045494332909584, 0.7759562134742737, 0.010081585496664047, 0.01512237824499607, 0.27724358439445496, 0.347814679145813, 0.01512237824499607, 0.3226107358932495, 0.01512237824499607, 0.13078953325748444, 0.3051756024360657, 0.2724781930446625, 0.07084432989358902, 0.21798256039619446, 0.9736436605453491, 0.828907310962677, 0.9526851177215576, 0.9298321008682251, 0.923685610294342, 0.05987897142767906, 0.898184597492218, 0.947684645652771, 0.03057047165930271, 0.9662010669708252, 0.41003379225730896, 0.18938781321048737, 0.05332278087735176, 0.14341989159584045, 0.05700021609663963, 0.13790374994277954, 0.005516149569302797, 0.0018387165619060397, 0.9129474759101868, 0.015740472823381424, 0.015740472823381424, 0.0629618912935257, 0.9681664109230042, 0.8934937715530396, 0.9109624624252319, 0.3766096532344818, 0.4815664291381836, 0.018521785736083984, 0.024695714935660362, 0.08643500506877899, 0.0061739287339150906, 0.901829719543457, 0.08588854968547821, 0.029696175828576088, 0.02771643176674843, 0.6552956104278564, 0.00593923544511199, 0.04157464578747749, 0.21183271706104279, 0.0019797449931502342, 0.02573668584227562, 0.04796235263347626, 0.009592470712959766, 0.27818164229393005, 0.652288019657135, 0.009592470712959766, 0.15599699318408966, 0.8111843466758728, 0.010399799793958664, 0.010399799793958664, 0.010399799793958664, 0.016806384548544884, 0.9663671851158142, 0.008403192274272442, 0.9576656818389893, 0.9411008954048157, 0.11988849937915802, 0.4152235686779022, 0.2690180838108063, 0.014620548114180565, 0.011696438305079937, 0.04970986396074295, 0.011696438305079937, 0.11111617088317871, 0.918863832950592, 0.5765681266784668, 0.2882840633392334, 0.022422093898057938, 0.09289152920246124, 0.016015781089663506, 0.9884085655212402, 0.7645336985588074, 0.10231678187847137, 0.05115839093923569, 0.008526397868990898, 0.005684265401214361, 0.03410559147596359, 0.022737061604857445, 0.008526397868990898, 0.2220737636089325, 0.20276300609111786, 0.009655380621552467, 0.2317291498184204, 0.2993168234825134, 0.019310761243104935, 0.019310761243104935, 0.432635635137558, 0.04594360664486885, 0.06891541182994843, 0.3866920471191406, 0.015314536169171333, 0.011485901661217213, 0.02680043876171112, 0.015314536169171333, 0.9553084373474121, 0.9442253708839417, 0.9233218431472778, 0.05821473151445389, 0.05821473151445389, 0.8732209801673889, 0.9306594133377075, 0.9043386578559875, 0.07979458570480347, 0.3036094307899475, 0.12650392949581146, 0.01897558942437172, 0.5313165187835693, 0.012650392949581146, 0.9323034286499023, 0.9123536944389343, 0.6311187744140625, 0.17849823832511902, 0.01912481151521206, 0.044624559581279755, 0.012749874964356422, 0.10837393254041672, 0.012749874964356422, 0.9542449712753296, 0.7611225247383118, 0.22385956346988678, 0.04142538085579872, 0.9113584160804749, 0.2675562798976898, 0.713483452796936, 0.9114101529121399, 0.010759926401078701, 0.9791532754898071, 0.010759926401078701, 0.01472537498921156, 0.004908458329737186, 0.004908458329737186, 0.004908458329737186, 0.9718747735023499, 0.3060247302055359, 0.6600533127784729, 0.024001939222216606, 0.0060004848055541515, 0.90777987241745, 0.9570964574813843, 0.2264389544725418, 0.01132194697856903, 0.17549018561840057, 0.028304869309067726, 0.08491460233926773, 0.13020239770412445, 0.3339974582195282, 0.03300756216049194, 0.14853402972221375, 0.7921814322471619, 0.01650378108024597, 0.9569205045700073, 0.9786563515663147, 0.009431920014321804, 0.009431920014321804, 0.037727680057287216, 0.6130748391151428, 0.2735256850719452, 0.037727680057287216, 0.009431920014321804, 0.9088871479034424, 0.9695274233818054, 0.42080074548721313, 0.3025982975959778, 0.17493963241577148, 0.009456196799874306, 0.08037766814231873, 0.004728098399937153, 0.014184295199811459, 0.2657121419906616, 0.10219697654247284, 0.23505304753780365, 0.3372500240802765, 0.06131818890571594, 0.04151089861989021, 0.5832813382148743, 0.1830737143754959, 0.03831775486469269, 0.019158877432346344, 0.029802696779370308, 0.10218067467212677, 0.0021287640556693077, 0.063865065574646, 0.1756289154291153, 0.2394939810037613, 0.510920524597168, 0.3100529909133911, 0.010001709684729576, 0.1500256359577179, 0.48008203506469727, 0.020003419369459152, 0.020003419369459152, 0.8847270607948303, 0.9540370106697083, 0.9459680914878845, 0.00970446690917015, 0.3493608236312866, 0.004852233454585075, 0.6307903528213501, 0.004852233454585075, 0.2503800690174103, 0.23810654878616333, 0.1693747639656067, 0.06627707928419113, 0.0024547067005187273, 0.08100531995296478, 0.03191118687391281, 0.15955594182014465, 0.9557158350944519, 0.05499488487839699, 0.2658086121082306, 0.05957778915762901, 0.10998976975679398, 0.004582907073199749, 0.4949539601802826, 0.009165814146399498, 0.004449165891855955, 0.004449165891855955, 0.01779666356742382, 0.01779666356742382, 0.9298756718635559, 0.004449165891855955, 0.022245829924941063, 0.8312645554542542, 0.03368280455470085, 0.17964163422584534, 0.011227602139115334, 0.12350361794233322, 0.6399732828140259, 0.49639439582824707, 0.20646493136882782, 0.0615001916885376, 0.004392870701849461, 0.004392870701849461, 0.15814334154129028, 0.07028593122959137, 0.9322324395179749, 0.8924597501754761, 0.013956445269286633, 0.03489111363887787, 0.907168984413147, 0.006978222634643316, 0.03489111363887787, 0.4100663959980011, 0.5611434578895569, 0.01079122070223093, 0.01079122070223093, 0.8937549591064453, 0.01561478991061449, 0.1093035340309143, 0.26545143127441406, 0.6089768409729004, 0.9584512114524841, 0.0037345681339502335, 0.0112037044018507, 0.014938272535800934, 0.866419792175293, 0.07469136267900467, 0.029876545071601868, 0.9148072004318237, 0.06637881696224213, 0.19913645088672638, 0.4812464118003845, 0.01659470424056053, 0.09956822544336319, 0.09956822544336319, 0.024892056360840797, 0.01659470424056053, 0.041591569781303406, 0.9358103275299072, 0.8753101229667664, 0.9084111452102661, 0.9715030789375305, 0.950283944606781, 0.24471606314182281, 0.6451604962348938, 0.04449382796883583, 0.04449382796883583, 0.2633727788925171, 0.7315910458564758, 0.07206077128648758, 0.08647292852401733, 0.18735800683498383, 0.09608102589845657, 0.004804051481187344, 0.01441215444356203, 0.4900132417678833, 0.04804051294922829, 0.9581498503684998, 0.009250260889530182, 0.018500521779060364, 0.009250260889530182, 0.027750782668590546, 0.101752869784832, 0.8325235247612, 0.9296156167984009, 0.08425260335206985, 0.8986944556236267, 0.8726171255111694, 0.9669347405433655], \"Term\": [\"access\", \"accessory\", \"adaptor\", \"advertising\", \"alarm\", \"amazon\", \"amazon\", \"amazon\", \"amazon\", \"amazon\", \"amazon\", \"amazon\", \"amazone\", \"amount\", \"amount\", \"amount\", \"android\", \"android\", \"android\", \"android\", \"android\", \"android\", \"android\", \"apne\", \"apne\", \"application\", \"application\", \"application\", \"application\", \"application\", \"application\", \"approx\", \"apps\", \"apps\", \"apps\", \"apps\", \"apps\", \"apps\", \"apps\", \"apps\", \"aspect\", \"atmos\", \"atmos\", \"awesome\", \"awesome\", \"awesome\", \"awsome\", \"awsome\", \"baad\", \"backup\", \"backup\", \"backup\", \"backup\", \"backup\", \"backup\", \"backup\", \"backup\", \"bada\", \"bahut\", \"bahut\", \"bank\", \"basis\", \"batery\", \"batter\", \"battery\", \"battery\", \"battery\", \"battery\", \"battery\", \"battery\", \"battery\", \"battery\", \"battry\", \"beast\", \"beast\", \"bekar\", \"benefit\", \"bettery\", \"bettery\", \"bhai\", \"bhut\", \"bill\", \"bill\", \"blur\", \"blur\", \"bokeh\", \"bokeh\", \"book\", \"bottom\", \"brightness\", \"brightness\", \"brightness\", \"brightness\", \"brother\", \"budget\", \"budget\", \"budget\", \"budget\", \"budget\", \"buget\", \"button\", \"button\", \"button\", \"button\", \"button\", \"buying\", \"buying\", \"cable\", \"cable\", \"cable\", \"cable\", \"call\", \"call\", \"call\", \"call\", \"call\", \"call\", \"call\", \"call\", \"caller\", \"camara\", \"camera\", \"camera\", \"camera\", \"camera\", \"camera\", \"camera\", \"camera\", \"camera\", \"camra\", \"capacity\", \"capacity\", \"capacity\", \"capture\", \"capturing\", \"card\", \"card\", \"card\", \"card\", \"card\", \"care\", \"care\", \"care\", \"care\", \"cash\", \"cashback\", \"cast\", \"cast\", \"cast\", \"cast\", \"cast\", \"cast\", \"cast\", \"casting\", \"category\", \"cell\", \"cell\", \"cell\", \"cell\", \"cemara\", \"center\", \"center\", \"center\", \"center\", \"center\", \"centre\", \"centre\", \"centre\", \"centre\", \"chalti\", \"change\", \"change\", \"change\", \"change\", \"change\", \"charge\", \"charge\", \"charge\", \"charge\", \"charge\", \"charge\", \"charge\", \"charge\", \"charger\", \"charger\", \"charger\", \"charger\", \"charger\", \"charger\", \"charger\", \"charging\", \"charging\", \"charging\", \"charging\", \"charging\", \"charging\", \"china\", \"chromecast\", \"claim\", \"clarity\", \"clarity\", \"clarity\", \"clarity\", \"clarity\", \"clarity\", \"clarity\", \"clarity\", \"class\", \"class\", \"class\", \"clearity\", \"clock\", \"color\", \"color\", \"company\", \"company\", \"company\", \"company\", \"company\", \"company\", \"company\", \"comparison\", \"complain\", \"complain\", \"complaint\", \"complaint\", \"complaint\", \"complaint\", \"concern\", \"condition\", \"condition\", \"condition\", \"configuration\", \"configuration\", \"configuration\", \"connectivity\", \"connectivity\", \"connectivity\", \"control\", \"cool\", \"copy\", \"corner\", \"cost\", \"cost\", \"cost\", \"cost\", \"cost\", \"cost\", \"coverage\", \"crack\", \"crack\", \"curve\", \"customer\", \"customer\", \"customer\", \"customer\", \"customer\", \"customer\", \"customer\", \"data\", \"data\", \"data\", \"data\", \"data\", \"data\", \"date\", \"date\", \"date\", \"date\", \"deca\", \"deca\", \"deca\", \"deca\", \"deca\", \"decacore\", \"defect\", \"defect\", \"defect\", \"delivery\", \"delivery\", \"delivery\", \"delivery\", \"delivery\", \"delivery\", \"department\", \"depth\", \"depth\", \"depth\", \"depth\", \"depth\", \"depth\", \"description\", \"description\", \"design\", \"design\", \"design\", \"design\", \"detail\", \"device\", \"device\", \"device\", \"device\", \"device\", \"device\", \"device\", \"difficulty\", \"discharge\", \"discharge\", \"display\", \"display\", \"display\", \"display\", \"display\", \"display\", \"display\", \"dolby\", \"dolby\", \"dolby\", \"dolby\", \"download\", \"drain\", \"drain\", \"drain\", \"drain\", \"drain\", \"drain\", \"drain\", \"drain\", \"drainage\", \"draining\", \"draining\", \"drop\", \"drop\", \"drop\", \"earphone\", \"earphone\", \"earphone\", \"earphone\", \"earphone\", \"edge\", \"edge\", \"effect\", \"effect\", \"effect\", \"effect\", \"effect\", \"effort\", \"everything\", \"everything\", \"everything\", \"everything\", \"everything\", \"everything\", \"everything\", \"everytime\", \"example\", \"excellent\", \"excellent\", \"excellent\", \"exchange\", \"exchange\", \"expectation\", \"expectation\", \"expectation\", \"expectation\", \"expectation\", \"expectation\", \"experience\", \"experience\", \"experience\", \"experience\", \"experience\", \"experience\", \"experience\", \"extent\", \"face\", \"face\", \"facility\", \"facility\", \"factory\", \"fair\", \"fall\", \"fall\", \"fault\", \"fault\", \"faulty\", \"faulty\", \"faulty\", \"feature\", \"feature\", \"feature\", \"feature\", \"feature\", \"feature\", \"feature\", \"feature\", \"feel\", \"fine\", \"fine\", \"fine\", \"fingerprint\", \"fingerprint\", \"fingerprint\", \"fingerprint\", \"fire\", \"flash\", \"flash\", \"flash\", \"flash\", \"flash\", \"flash\", \"flashlight\", \"folder\", \"fone\", \"front\", \"front\", \"front\", \"front\", \"front\", \"front\", \"front\", \"gallery\", \"gallery\", \"gallery\", \"gallery\", \"gallery\", \"gallery\", \"game\", \"game\", \"game\", \"game\", \"game\", \"game\", \"game\", \"gaya\", \"generation\", \"gesture\", \"ghatiya\", \"ghatiya\", \"gift\", \"glass\", \"glass\", \"glass\", \"glass\", \"glass\", \"good\", \"good\", \"good\", \"goog\", \"google\", \"google\", \"google\", \"google\", \"gorilla\", \"gorilla\", \"gorilla\", \"graphic\", \"group\", \"half\", \"half\", \"handset\", \"handset\", \"handset\", \"handset\", \"handset\", \"handset\", \"handsfree\", \"hang\", \"hang\", \"hang\", \"hang\", \"hang\", \"hanging\", \"hanging\", \"head\", \"head\", \"head\", \"headphone\", \"headphone\", \"headphone\", \"headphone\", \"headphone\", \"headphone\", \"heat\", \"heat\", \"heat\", \"heat\", \"heat\", \"heat\", \"heat\", \"heating\", \"heating\", \"heating\", \"heating\", \"heating\", \"heating\", \"heating\", \"heating\", \"help\", \"help\", \"help\", \"help\", \"history\", \"home\", \"home\", \"hone\", \"hope\", \"hota\", \"hour\", \"hour\", \"hour\", \"hour\", \"hour\", \"hour\", \"hour\", \"hour\", \"icon\", \"image\", \"image\", \"imei\", \"india\", \"invoice\", \"iron\", \"isme\", \"issue\", \"issue\", \"issue\", \"issue\", \"issue\", \"issue\", \"issue\", \"issue\", \"item\", \"item\", \"item\", \"item\", \"item\", \"jata\", \"joke\", \"jyada\", \"karne\", \"karo\", \"killer\", \"killer\", \"killer\", \"killer\", \"killer\", \"killer\", \"kiya\", \"knowledge\", \"language\", \"last\", \"launch\", \"lena\", \"lenevo\", \"lenova\", \"lenovo\", \"lenovo\", \"lenovo\", \"lenovo\", \"lenovo\", \"lenovo\", \"lenovo\", \"lenovo\", \"level\", \"level\", \"level\", \"life\", \"life\", \"life\", \"life\", \"life\", \"life\", \"light\", \"light\", \"light\", \"light\", \"light\", \"limit\", \"liye\", \"location\", \"look\", \"look\", \"look\", \"loss\", \"love\", \"mail\", \"mail\", \"manager\", \"manufacturing\", \"mark\", \"mark\", \"mark\", \"mark\", \"mark\", \"mark\", \"mark\", \"mast\", \"material\", \"mean\", \"mention\", \"menu\", \"mera\", \"mera\", \"message\", \"message\", \"message\", \"message\", \"mila\", \"mind\", \"minute\", \"minute\", \"minute\", \"minute\", \"minute\", \"mobail\", \"mobil\", \"mobile\", \"mobile\", \"mobile\", \"mobile\", \"mobile\", \"mobile\", \"mobile\", \"mobile\", \"mode\", \"mode\", \"mode\", \"mode\", \"mode\", \"mode\", \"mode\", \"mode\", \"model\", \"model\", \"model\", \"model\", \"model\", \"model\", \"moment\", \"money\", \"money\", \"money\", \"money\", \"money\", \"money\", \"money\", \"money\", \"moneycamera\", \"month\", \"month\", \"month\", \"month\", \"month\", \"month\", \"month\", \"month\", \"morning\", \"motherboard\", \"motion\", \"motorola\", \"motorola\", \"motorola\", \"movie\", \"mujhe\", \"music\", \"music\", \"music\", \"music\", \"music\", \"music\", \"music\", \"nahi\", \"network\", \"network\", \"network\", \"network\", \"network\", \"network\", \"network\", \"nice\", \"nice\", \"note\", \"note\", \"note\", \"note\", \"note\", \"note\", \"note\", \"note\", \"nothing\", \"nothing\", \"nothing\", \"nothing\", \"nothing\", \"nothing\", \"notification\", \"notification\", \"notification\", \"notification\", \"number\", \"number\", \"number\", \"offer\", \"offer\", \"offer\", \"office\", \"optimization\", \"option\", \"option\", \"option\", \"option\", \"option\", \"option\", \"option\", \"others\", \"others\", \"others\", \"otherwise\", \"overheat\", \"pack\", \"pack\", \"package\", \"package\", \"package\", \"package\", \"packaging\", \"packing\", \"paisa\", \"panel\", \"panel\", \"paper\", \"paper\", \"paper\", \"paper\", \"party\", \"party\", \"patch\", \"patch\", \"peace\", \"penny\", \"people\", \"people\", \"people\", \"people\", \"percent\", \"percent\", \"percent\", \"percentage\", \"percentage\", \"perfect\", \"performance\", \"performance\", \"performance\", \"performance\", \"performance\", \"performance\", \"performance\", \"performance\", \"persist\", \"person\", \"person\", \"phon\", \"phone\", \"phone\", \"phone\", \"phone\", \"phone\", \"phone\", \"phone\", \"phone\", \"phoneall\", \"photo\", \"photo\", \"photo\", \"photo\", \"photo\", \"pickup\", \"picture\", \"picture\", \"picture\", \"picture\", \"picture\", \"piece\", \"piece\", \"pixal\", \"place\", \"player\", \"player\", \"please\", \"please\", \"please\", \"please\", \"please\", \"please\", \"please\", \"policy\", \"policy\", \"policy\", \"policy\", \"policy\", \"position\", \"power\", \"power\", \"power\", \"power\", \"power\", \"power\", \"power\", \"powerfull\", \"price\", \"price\", \"price\", \"price\", \"price\", \"price\", \"price\", \"price\", \"problem\", \"problem\", \"problem\", \"problem\", \"problem\", \"problem\", \"problem\", \"problem\", \"process\", \"process\", \"process\", \"processer\", \"processer\", \"processing\", \"processing\", \"processor\", \"processor\", \"processor\", \"processor\", \"processor\", \"processor\", \"processor\", \"product\", \"product\", \"product\", \"product\", \"product\", \"product\", \"product\", \"protection\", \"provide\", \"provider\", \"provider\", \"purchase\", \"purchase\", \"purchase\", \"purchase\", \"purchase\", \"purchase\", \"purchase\", \"purchase\", \"quality\", \"quality\", \"quality\", \"quality\", \"quality\", \"quality\", \"quality\", \"quality\", \"raha\", \"range\", \"range\", \"range\", \"range\", \"reality\", \"rear\", \"rear\", \"rear\", \"reception\", \"reception\", \"reception\", \"recharge\", \"record\", \"recorder\", \"recorder\", \"recorder\", \"recorder\", \"recorder\", \"recording\", \"recording\", \"recording\", \"refund\", \"refund\", \"refund\", \"refund\", \"refund\", \"refund\", \"replacement\", \"replacement\", \"replacement\", \"replacement\", \"replacement\", \"replacement\", \"requirement\", \"reset\", \"resistant\", \"resolution\", \"resolution\", \"resolution\", \"resolution\", \"resolution\", \"response\", \"response\", \"response\", \"response\", \"response\", \"response\", \"rest\", \"rest\", \"rest\", \"rest\", \"restart\", \"result\", \"result\", \"result\", \"result\", \"return\", \"return\", \"return\", \"return\", \"return\", \"return\", \"return\", \"review\", \"review\", \"review\", \"review\", \"review\", \"right\", \"risk\", \"room\", \"rotation\", \"round\", \"rupee\", \"rupee\", \"saver\", \"saver\", \"scratch\", \"screen\", \"screen\", \"screen\", \"screen\", \"screen\", \"screen\", \"screen\", \"screen\", \"selfie\", \"selfie\", \"selfie\", \"selfie\", \"seller\", \"sensing\", \"sensitivity\", \"sensor\", \"sensor\", \"sensor\", \"sensor\", \"sensor\", \"sensor\", \"series\", \"series\", \"service\", \"service\", \"service\", \"service\", \"service\", \"service\", \"service\", \"service\", \"signal\", \"signal\", \"signal\", \"signal\", \"signal\", \"slot\", \"slot\", \"slot\", \"slot\", \"slot\", \"smartphone\", \"smartphone\", \"smartphone\", \"smartphones\", \"socket\", \"software\", \"software\", \"software\", \"software\", \"software\", \"software\", \"software\", \"software\", \"sort\", \"sound\", \"sound\", \"sound\", \"sound\", \"sound\", \"space\", \"speaker\", \"speaker\", \"speaker\", \"speaker\", \"speaker\", \"speaker\", \"speaker\", \"speaker\", \"specification\", \"specification\", \"specification\", \"specification\", \"specification\", \"specification\", \"specification\", \"speed\", \"speed\", \"speed\", \"speed\", \"speed\", \"speed\", \"speed\", \"speed\", \"spent\", \"split\", \"spot\", \"stand\", \"stand\", \"stand\", \"standard\", \"standby\", \"standby\", \"star\", \"star\", \"star\", \"star\", \"star\", \"status\", \"step\", \"stock\", \"stock\", \"stock\", \"stock\", \"stock\", \"stock\", \"stock\", \"stop\", \"strength\", \"strength\", \"suck\", \"suck\", \"suggestion\", \"suggestion\", \"sunlight\", \"super\", \"super\", \"super\", \"superb\", \"superb\", \"superb\", \"superb\", \"superb\", \"support\", \"support\", \"support\", \"support\", \"surprise\", \"switch\", \"system\", \"system\", \"system\", \"system\", \"system\", \"system\", \"system\", \"team\", \"team\", \"team\", \"team\", \"technician\", \"test\", \"thanks\", \"thanks\", \"thanks\", \"thanks\", \"thanks\", \"thanks\", \"thanks\", \"thats\", \"thik\", \"thing\", \"thing\", \"thing\", \"thing\", \"thing\", \"thing\", \"thing\", \"till\", \"till\", \"till\", \"till\", \"till\", \"time\", \"time\", \"time\", \"time\", \"time\", \"time\", \"time\", \"time\", \"today\", \"today\", \"today\", \"today\", \"touch\", \"touch\", \"touch\", \"touch\", \"touch\", \"touch\", \"trap\", \"tray\", \"trouble\", \"turbo\", \"turbo\", \"turbo\", \"turbo\", \"turbo\", \"update\", \"update\", \"update\", \"update\", \"update\", \"update\", \"update\", \"update\", \"upgrade\", \"usage\", \"usage\", \"usage\", \"usage\", \"usage\", \"usage\", \"usage\", \"value\", \"value\", \"value\", \"value\", \"value\", \"value\", \"value\", \"vasool\", \"version\", \"version\", \"version\", \"version\", \"version\", \"video\", \"video\", \"video\", \"video\", \"video\", \"video\", \"video\", \"visit\", \"vodafone\", \"volta\", \"volta\", \"volta\", \"volta\", \"volta\", \"volume\", \"volume\", \"volume\", \"volume\", \"want\", \"warranty\", \"warranty\", \"warranty\", \"warranty\", \"wastage\", \"waste\", \"waste\", \"waste\", \"waste\", \"waste\", \"waste\", \"website\", \"week\", \"week\", \"week\", \"week\", \"week\", \"week\", \"week\", \"week\", \"weight\", \"weight\", \"wife\", \"window\", \"wire\", \"wireless\", \"wise\", \"wise\", \"wise\", \"wise\", \"word\", \"word\", \"work\", \"work\", \"work\", \"work\", \"work\", \"work\", \"work\", \"work\", \"working\", \"worth\", \"worth\", \"worth\", \"worth\", \"worth\", \"worth\", \"wrost\", \"yesterday\", \"yesterday\", \"zero\", \"zoom\"]}, \"R\": 30, \"lambda.step\": 0.01, \"plot.opts\": {\"xlab\": \"PC1\", \"ylab\": \"PC2\"}, \"topic.order\": [5, 1, 7, 6, 8, 3, 2, 4]};\n",
       "\n",
       "function LDAvis_load_lib(url, callback){\n",
       "  var s = document.createElement('script');\n",
       "  s.src = url;\n",
       "  s.async = true;\n",
       "  s.onreadystatechange = s.onload = callback;\n",
       "  s.onerror = function(){console.warn(\"failed to load library \" + url);};\n",
       "  document.getElementsByTagName(\"head\")[0].appendChild(s);\n",
       "}\n",
       "\n",
       "if(typeof(LDAvis) !== \"undefined\"){\n",
       "   // already loaded: just create the visualization\n",
       "   !function(LDAvis){\n",
       "       new LDAvis(\"#\" + \"ldavis_el1176022926910756241510337485\", ldavis_el1176022926910756241510337485_data);\n",
       "   }(LDAvis);\n",
       "}else if(typeof define === \"function\" && define.amd){\n",
       "   // require.js is available: use it to load d3/LDAvis\n",
       "   require.config({paths: {d3: \"https://cdnjs.cloudflare.com/ajax/libs/d3/3.5.5/d3.min\"}});\n",
       "   require([\"d3\"], function(d3){\n",
       "      window.d3 = d3;\n",
       "      LDAvis_load_lib(\"https://cdn.rawgit.com/bmabey/pyLDAvis/files/ldavis.v1.0.0.js\", function(){\n",
       "        new LDAvis(\"#\" + \"ldavis_el1176022926910756241510337485\", ldavis_el1176022926910756241510337485_data);\n",
       "      });\n",
       "    });\n",
       "}else{\n",
       "    // require.js not available: dynamically load d3 & LDAvis\n",
       "    LDAvis_load_lib(\"https://cdnjs.cloudflare.com/ajax/libs/d3/3.5.5/d3.min.js\", function(){\n",
       "         LDAvis_load_lib(\"https://cdn.rawgit.com/bmabey/pyLDAvis/files/ldavis.v1.0.0.js\", function(){\n",
       "                 new LDAvis(\"#\" + \"ldavis_el1176022926910756241510337485\", ldavis_el1176022926910756241510337485_data);\n",
       "            })\n",
       "         });\n",
       "}\n",
       "</script>"
      ],
      "text/plain": [
       "PreparedData(topic_coordinates=              x         y  topics  cluster       Freq\n",
       "topic                                                \n",
       "4      0.117794 -0.061911       1        1  19.769058\n",
       "0      0.030935  0.012481       2        1  19.095753\n",
       "6      0.029154  0.139250       3        1  16.450493\n",
       "5     -0.017504  0.110874       4        1  10.155080\n",
       "7      0.134530 -0.182784       5        1  10.037354\n",
       "2     -0.133443  0.059763       6        1   9.122387\n",
       "1     -0.233331 -0.140678       7        1   8.384659\n",
       "3      0.071864  0.063005       8        1   6.985220, topic_info=         Term         Freq        Total Category  logprob  loglift\n",
       "44    product  2040.000000  2040.000000  Default  30.0000  30.0000\n",
       "10     mobile  1552.000000  1552.000000  Default  29.0000  29.0000\n",
       "52     camera  3074.000000  3074.000000  Default  28.0000  28.0000\n",
       "13      phone  6930.000000  6930.000000  Default  27.0000  27.0000\n",
       "59      price   862.000000   862.000000  Default  26.0000  26.0000\n",
       "..        ...          ...          ...      ...      ...      ...\n",
       "505    review    40.374668   183.500916   Topic8  -4.8273   1.1474\n",
       "22       note    43.883625  1124.890991   Topic8  -4.7440  -0.5825\n",
       "4     battery    46.794407  3000.250244   Topic8  -4.6798  -1.4993\n",
       "280  software    37.524647   341.984436   Topic8  -4.9005   0.4516\n",
       "10     mobile    37.752628  1552.552490   Topic8  -4.8945  -1.0552\n",
       "\n",
       "[543 rows x 6 columns], token_table=      Topic      Freq         Term\n",
       "term                              \n",
       "1148      1  0.956917       access\n",
       "277       3  0.977583    accessory\n",
       "1448      7  0.869553      adaptor\n",
       "1696      4  0.894257  advertising\n",
       "1347      3  0.963660        alarm\n",
       "...     ...       ...          ...\n",
       "28        7  0.929616        wrost\n",
       "879       2  0.084253    yesterday\n",
       "879       6  0.898694    yesterday\n",
       "2798      7  0.872617         zero\n",
       "1533      1  0.966935         zoom\n",
       "\n",
       "[1235 rows x 3 columns], R=30, lambda_step=0.01, plot_opts={'xlab': 'PC1', 'ylab': 'PC2'}, topic_order=[5, 1, 7, 6, 8, 3, 2, 4])"
      ]
     },
     "execution_count": 24,
     "metadata": {},
     "output_type": "execute_result"
    }
   ],
   "source": [
    "pyLDAvis.enable_notebook()\n",
    "\n",
    "vis = pyLDAvis.gensim.prepare(best_lda_model, corpus, dictionary)\n",
    "vis"
   ]
  },
  {
   "cell_type": "markdown",
   "metadata": {},
   "source": [
    "#### 11. Business interpretation of the identified topics"
   ]
  },
  {
   "cell_type": "code",
   "execution_count": 25,
   "metadata": {},
   "outputs": [
    {
     "name": "stdout",
     "output_type": "stream",
     "text": [
      "[(0,\n",
      "  [('phone', 0.12531994), ('battery', 0.07207206), ('time', 0.03974129),\n",
      "   ('note', 0.025524138), ('issue', 0.023170924), ('lenovo', 0.020551471),\n",
      "   ('charging', 0.015104598), ('camera', 0.011298661), ('feature', 0.011085849),\n",
      "   ('life', 0.011022424)]),\n",
      " (1,\n",
      "  [('mobile', 0.16179866), ('battery', 0.07879593), ('heat', 0.05654618),\n",
      "   ('backup', 0.034310866), ('problem', 0.032706052), ('superb', 0.032652054),\n",
      "   ('everything', 0.03184446), ('hour', 0.017145777), ('work', 0.016789867),\n",
      "   ('feature', 0.01670941)]),\n",
      " (2,\n",
      "  [('charger', 0.054403875), ('battery', 0.052850083), ('money', 0.048032366),\n",
      "   ('note', 0.037666377), ('value', 0.031711545), ('hour', 0.029669749),\n",
      "   ('mobile', 0.022843145), ('turbo', 0.019683972), ('drain', 0.018507643),\n",
      "   ('piece', 0.017680423)]),\n",
      " (3,\n",
      "  [('phone', 0.09537088), ('feature', 0.061366748), ('lenovo', 0.02744198),\n",
      "   ('headphone', 0.021943752), ('camera', 0.018673507), ('worth', 0.017921388),\n",
      "   ('issue', 0.017402288), ('photo', 0.01654059), ('cost', 0.01351479),\n",
      "   ('update', 0.012973844)]),\n",
      " (4,\n",
      "  [('camera', 0.16455387), ('phone', 0.08801904), ('quality', 0.07563697),\n",
      "   ('battery', 0.03925275), ('performance', 0.022775738),\n",
      "   ('speaker', 0.018881384), ('mode', 0.016752496), ('screen', 0.015643137),\n",
      "   ('note', 0.014971389), ('display', 0.013134578)]),\n",
      " (5,\n",
      "  [('network', 0.06643337), ('issue', 0.053379335), ('problem', 0.032820314),\n",
      "   ('waste', 0.03161942), ('battery', 0.028315676), ('phone', 0.025418345),\n",
      "   ('call', 0.023993375), ('processor', 0.02390097),\n",
      "   ('experience', 0.018485839), ('note', 0.017962357)]),\n",
      " (6,\n",
      "  [('phone', 0.24139047), ('problem', 0.07589796), ('amazon', 0.027911238),\n",
      "   ('service', 0.027867123), ('heating', 0.02704763), ('device', 0.026320959),\n",
      "   ('issue', 0.023684664), ('month', 0.023245126), ('product', 0.02001438),\n",
      "   ('battery', 0.017633867)]),\n",
      " (7,\n",
      "  [('product', 0.23095392), ('price', 0.08196953), ('camera', 0.037556056),\n",
      "   ('performance', 0.035974357), ('phone', 0.034200978),\n",
      "   ('mobile', 0.030259961), ('range', 0.027305221), ('feature', 0.025622498),\n",
      "   ('battery', 0.021832017), ('lenovo', 0.017173963)])]\n"
     ]
    }
   ],
   "source": [
    "topics = best_lda_model.show_topics(formatted=False)\n",
    "pprint(topics, compact=True)"
   ]
  },
  {
   "cell_type": "markdown",
   "metadata": {},
   "source": [
    "#### Extracting the top ten words from the optimal number of topics"
   ]
  },
  {
   "cell_type": "code",
   "execution_count": 26,
   "metadata": {},
   "outputs": [
    {
     "name": "stdout",
     "output_type": "stream",
     "text": [
      "{0: ['phone', 'battery', 'time', 'note', 'issue', 'lenovo', 'charging',\n",
      "     'camera', 'feature', 'life'],\n",
      " 1: ['mobile', 'battery', 'heat', 'backup', 'problem', 'superb', 'everything',\n",
      "     'hour', 'work', 'feature'],\n",
      " 2: ['charger', 'battery', 'money', 'note', 'value', 'hour', 'mobile', 'turbo',\n",
      "     'drain', 'piece'],\n",
      " 3: ['phone', 'feature', 'lenovo', 'headphone', 'camera', 'worth', 'issue',\n",
      "     'photo', 'cost', 'update'],\n",
      " 4: ['camera', 'phone', 'quality', 'battery', 'performance', 'speaker', 'mode',\n",
      "     'screen', 'note', 'display'],\n",
      " 5: ['network', 'issue', 'problem', 'waste', 'battery', 'phone', 'call',\n",
      "     'processor', 'experience', 'note'],\n",
      " 6: ['phone', 'problem', 'amazon', 'service', 'heating', 'device', 'issue',\n",
      "     'month', 'product', 'battery'],\n",
      " 7: ['product', 'price', 'camera', 'performance', 'phone', 'mobile', 'range',\n",
      "     'feature', 'battery', 'lenovo']}\n"
     ]
    }
   ],
   "source": [
    "topic_words = {}\n",
    "for topic_no, words in topics:\n",
    "    top_words = []\n",
    "    for word, prob in words:\n",
    "        top_words.append(word)\n",
    "    topic_words[topic_no] = top_words\n",
    "\n",
    "pprint(topic_words, compact=True)"
   ]
  },
  {
   "cell_type": "markdown",
   "metadata": {},
   "source": [
    "#### Tabularising the Topics with top ten words in a DataFrame"
   ]
  },
  {
   "cell_type": "code",
   "execution_count": 27,
   "metadata": {},
   "outputs": [
    {
     "data": {
      "text/html": [
       "<div>\n",
       "<style scoped>\n",
       "    .dataframe tbody tr th:only-of-type {\n",
       "        vertical-align: middle;\n",
       "    }\n",
       "\n",
       "    .dataframe tbody tr th {\n",
       "        vertical-align: top;\n",
       "    }\n",
       "\n",
       "    .dataframe thead th {\n",
       "        text-align: right;\n",
       "    }\n",
       "</style>\n",
       "<table border=\"1\" class=\"dataframe\">\n",
       "  <thead>\n",
       "    <tr style=\"text-align: right;\">\n",
       "      <th></th>\n",
       "      <th>0</th>\n",
       "      <th>1</th>\n",
       "      <th>2</th>\n",
       "      <th>3</th>\n",
       "      <th>4</th>\n",
       "      <th>5</th>\n",
       "      <th>6</th>\n",
       "      <th>7</th>\n",
       "    </tr>\n",
       "  </thead>\n",
       "  <tbody>\n",
       "    <tr>\n",
       "      <th>0</th>\n",
       "      <td>phone</td>\n",
       "      <td>mobile</td>\n",
       "      <td>charger</td>\n",
       "      <td>phone</td>\n",
       "      <td>camera</td>\n",
       "      <td>network</td>\n",
       "      <td>phone</td>\n",
       "      <td>product</td>\n",
       "    </tr>\n",
       "    <tr>\n",
       "      <th>1</th>\n",
       "      <td>battery</td>\n",
       "      <td>battery</td>\n",
       "      <td>battery</td>\n",
       "      <td>feature</td>\n",
       "      <td>phone</td>\n",
       "      <td>issue</td>\n",
       "      <td>problem</td>\n",
       "      <td>price</td>\n",
       "    </tr>\n",
       "    <tr>\n",
       "      <th>2</th>\n",
       "      <td>time</td>\n",
       "      <td>heat</td>\n",
       "      <td>money</td>\n",
       "      <td>lenovo</td>\n",
       "      <td>quality</td>\n",
       "      <td>problem</td>\n",
       "      <td>amazon</td>\n",
       "      <td>camera</td>\n",
       "    </tr>\n",
       "    <tr>\n",
       "      <th>3</th>\n",
       "      <td>note</td>\n",
       "      <td>backup</td>\n",
       "      <td>note</td>\n",
       "      <td>headphone</td>\n",
       "      <td>battery</td>\n",
       "      <td>waste</td>\n",
       "      <td>service</td>\n",
       "      <td>performance</td>\n",
       "    </tr>\n",
       "    <tr>\n",
       "      <th>4</th>\n",
       "      <td>issue</td>\n",
       "      <td>problem</td>\n",
       "      <td>value</td>\n",
       "      <td>camera</td>\n",
       "      <td>performance</td>\n",
       "      <td>battery</td>\n",
       "      <td>heating</td>\n",
       "      <td>phone</td>\n",
       "    </tr>\n",
       "    <tr>\n",
       "      <th>5</th>\n",
       "      <td>lenovo</td>\n",
       "      <td>superb</td>\n",
       "      <td>hour</td>\n",
       "      <td>worth</td>\n",
       "      <td>speaker</td>\n",
       "      <td>phone</td>\n",
       "      <td>device</td>\n",
       "      <td>mobile</td>\n",
       "    </tr>\n",
       "    <tr>\n",
       "      <th>6</th>\n",
       "      <td>charging</td>\n",
       "      <td>everything</td>\n",
       "      <td>mobile</td>\n",
       "      <td>issue</td>\n",
       "      <td>mode</td>\n",
       "      <td>call</td>\n",
       "      <td>issue</td>\n",
       "      <td>range</td>\n",
       "    </tr>\n",
       "    <tr>\n",
       "      <th>7</th>\n",
       "      <td>camera</td>\n",
       "      <td>hour</td>\n",
       "      <td>turbo</td>\n",
       "      <td>photo</td>\n",
       "      <td>screen</td>\n",
       "      <td>processor</td>\n",
       "      <td>month</td>\n",
       "      <td>feature</td>\n",
       "    </tr>\n",
       "    <tr>\n",
       "      <th>8</th>\n",
       "      <td>feature</td>\n",
       "      <td>work</td>\n",
       "      <td>drain</td>\n",
       "      <td>cost</td>\n",
       "      <td>note</td>\n",
       "      <td>experience</td>\n",
       "      <td>product</td>\n",
       "      <td>battery</td>\n",
       "    </tr>\n",
       "    <tr>\n",
       "      <th>9</th>\n",
       "      <td>life</td>\n",
       "      <td>feature</td>\n",
       "      <td>piece</td>\n",
       "      <td>update</td>\n",
       "      <td>display</td>\n",
       "      <td>note</td>\n",
       "      <td>battery</td>\n",
       "      <td>lenovo</td>\n",
       "    </tr>\n",
       "  </tbody>\n",
       "</table>\n",
       "</div>"
      ],
      "text/plain": [
       "          0           1        2          3            4           5        6  \\\n",
       "0     phone      mobile  charger      phone       camera     network    phone   \n",
       "1   battery     battery  battery    feature        phone       issue  problem   \n",
       "2      time        heat    money     lenovo      quality     problem   amazon   \n",
       "3      note      backup     note  headphone      battery       waste  service   \n",
       "4     issue     problem    value     camera  performance     battery  heating   \n",
       "5    lenovo      superb     hour      worth      speaker       phone   device   \n",
       "6  charging  everything   mobile      issue         mode        call    issue   \n",
       "7    camera        hour    turbo      photo       screen   processor    month   \n",
       "8   feature        work    drain       cost         note  experience  product   \n",
       "9      life     feature    piece     update      display        note  battery   \n",
       "\n",
       "             7  \n",
       "0      product  \n",
       "1        price  \n",
       "2       camera  \n",
       "3  performance  \n",
       "4        phone  \n",
       "5       mobile  \n",
       "6        range  \n",
       "7      feature  \n",
       "8      battery  \n",
       "9       lenovo  "
      ]
     },
     "execution_count": 27,
     "metadata": {},
     "output_type": "execute_result"
    }
   ],
   "source": [
    "topic_words_df = pd.DataFrame(topic_words)\n",
    "topic_words_df"
   ]
  },
  {
   "cell_type": "markdown",
   "metadata": {},
   "source": [
    "#### 11.1. Table with the topic names and the top 10 terms in each to present to the business"
   ]
  },
  {
   "cell_type": "markdown",
   "metadata": {},
   "source": [
    "***Assigning business domain topic names by the analysing the top ten words found by the topic model with highest coherence score.***\n",
    "> Disclaimer:\n",
    "> \n",
    "> The Topics are assigned based on intuitive understanding of the words distribution for each topic. Actual buisiness interpretation may differ as per requirement."
   ]
  },
  {
   "cell_type": "code",
   "execution_count": 28,
   "metadata": {},
   "outputs": [
    {
     "data": {
      "text/html": [
       "<div>\n",
       "<style scoped>\n",
       "    .dataframe tbody tr th:only-of-type {\n",
       "        vertical-align: middle;\n",
       "    }\n",
       "\n",
       "    .dataframe tbody tr th {\n",
       "        vertical-align: top;\n",
       "    }\n",
       "\n",
       "    .dataframe thead th {\n",
       "        text-align: right;\n",
       "    }\n",
       "</style>\n",
       "<table border=\"1\" class=\"dataframe\">\n",
       "  <thead>\n",
       "    <tr style=\"text-align: right;\">\n",
       "      <th></th>\n",
       "      <th>Phone Battery</th>\n",
       "      <th>Heating</th>\n",
       "      <th>Charging Time</th>\n",
       "      <th>Features</th>\n",
       "      <th>Camera Quality</th>\n",
       "      <th>Network Issue</th>\n",
       "      <th>Delivery Time</th>\n",
       "      <th>Value for Money</th>\n",
       "    </tr>\n",
       "  </thead>\n",
       "  <tbody>\n",
       "    <tr>\n",
       "      <th>0</th>\n",
       "      <td>phone</td>\n",
       "      <td>mobile</td>\n",
       "      <td>charger</td>\n",
       "      <td>phone</td>\n",
       "      <td>camera</td>\n",
       "      <td>network</td>\n",
       "      <td>phone</td>\n",
       "      <td>product</td>\n",
       "    </tr>\n",
       "    <tr>\n",
       "      <th>1</th>\n",
       "      <td>battery</td>\n",
       "      <td>battery</td>\n",
       "      <td>battery</td>\n",
       "      <td>feature</td>\n",
       "      <td>phone</td>\n",
       "      <td>issue</td>\n",
       "      <td>problem</td>\n",
       "      <td>price</td>\n",
       "    </tr>\n",
       "    <tr>\n",
       "      <th>2</th>\n",
       "      <td>time</td>\n",
       "      <td>heat</td>\n",
       "      <td>money</td>\n",
       "      <td>lenovo</td>\n",
       "      <td>quality</td>\n",
       "      <td>problem</td>\n",
       "      <td>amazon</td>\n",
       "      <td>camera</td>\n",
       "    </tr>\n",
       "    <tr>\n",
       "      <th>3</th>\n",
       "      <td>note</td>\n",
       "      <td>backup</td>\n",
       "      <td>note</td>\n",
       "      <td>headphone</td>\n",
       "      <td>battery</td>\n",
       "      <td>waste</td>\n",
       "      <td>service</td>\n",
       "      <td>performance</td>\n",
       "    </tr>\n",
       "    <tr>\n",
       "      <th>4</th>\n",
       "      <td>issue</td>\n",
       "      <td>problem</td>\n",
       "      <td>value</td>\n",
       "      <td>camera</td>\n",
       "      <td>performance</td>\n",
       "      <td>battery</td>\n",
       "      <td>heating</td>\n",
       "      <td>phone</td>\n",
       "    </tr>\n",
       "    <tr>\n",
       "      <th>5</th>\n",
       "      <td>lenovo</td>\n",
       "      <td>superb</td>\n",
       "      <td>hour</td>\n",
       "      <td>worth</td>\n",
       "      <td>speaker</td>\n",
       "      <td>phone</td>\n",
       "      <td>device</td>\n",
       "      <td>mobile</td>\n",
       "    </tr>\n",
       "    <tr>\n",
       "      <th>6</th>\n",
       "      <td>charging</td>\n",
       "      <td>everything</td>\n",
       "      <td>mobile</td>\n",
       "      <td>issue</td>\n",
       "      <td>mode</td>\n",
       "      <td>call</td>\n",
       "      <td>issue</td>\n",
       "      <td>range</td>\n",
       "    </tr>\n",
       "    <tr>\n",
       "      <th>7</th>\n",
       "      <td>camera</td>\n",
       "      <td>hour</td>\n",
       "      <td>turbo</td>\n",
       "      <td>photo</td>\n",
       "      <td>screen</td>\n",
       "      <td>processor</td>\n",
       "      <td>month</td>\n",
       "      <td>feature</td>\n",
       "    </tr>\n",
       "    <tr>\n",
       "      <th>8</th>\n",
       "      <td>feature</td>\n",
       "      <td>work</td>\n",
       "      <td>drain</td>\n",
       "      <td>cost</td>\n",
       "      <td>note</td>\n",
       "      <td>experience</td>\n",
       "      <td>product</td>\n",
       "      <td>battery</td>\n",
       "    </tr>\n",
       "    <tr>\n",
       "      <th>9</th>\n",
       "      <td>life</td>\n",
       "      <td>feature</td>\n",
       "      <td>piece</td>\n",
       "      <td>update</td>\n",
       "      <td>display</td>\n",
       "      <td>note</td>\n",
       "      <td>battery</td>\n",
       "      <td>lenovo</td>\n",
       "    </tr>\n",
       "  </tbody>\n",
       "</table>\n",
       "</div>"
      ],
      "text/plain": [
       "  Phone Battery     Heating Charging Time   Features Camera Quality  \\\n",
       "0         phone      mobile       charger      phone         camera   \n",
       "1       battery     battery       battery    feature          phone   \n",
       "2          time        heat         money     lenovo        quality   \n",
       "3          note      backup          note  headphone        battery   \n",
       "4         issue     problem         value     camera    performance   \n",
       "5        lenovo      superb          hour      worth        speaker   \n",
       "6      charging  everything        mobile      issue           mode   \n",
       "7        camera        hour         turbo      photo         screen   \n",
       "8       feature        work         drain       cost           note   \n",
       "9          life     feature         piece     update        display   \n",
       "\n",
       "  Network Issue Delivery Time Value for Money  \n",
       "0       network         phone         product  \n",
       "1         issue       problem           price  \n",
       "2       problem        amazon          camera  \n",
       "3         waste       service     performance  \n",
       "4       battery       heating           phone  \n",
       "5         phone        device          mobile  \n",
       "6          call         issue           range  \n",
       "7     processor         month         feature  \n",
       "8    experience       product         battery  \n",
       "9          note       battery          lenovo  "
      ]
     },
     "execution_count": 28,
     "metadata": {},
     "output_type": "execute_result"
    }
   ],
   "source": [
    "topic_names = {\n",
    "    0: \"Phone Battery\",\n",
    "    1: \"Heating\",\n",
    "    2: \"Charging Time\",\n",
    "    3: \"Features\",\n",
    "    4: \"Camera Quality\",\n",
    "    5: \"Network Issue\",\n",
    "    6: \"Delivery Time\",\n",
    "    7: \"Value for Money\"\n",
    "}\n",
    "\n",
    "topic_words_df = topic_words_df.rename(columns = topic_names)\n",
    "topic_words_df"
   ]
  },
  {
   "cell_type": "markdown",
   "metadata": {},
   "source": [
    "#### Extracting topic distribution for each reviews from the trained topic model"
   ]
  },
  {
   "cell_type": "code",
   "execution_count": 29,
   "metadata": {},
   "outputs": [
    {
     "data": {
      "text/plain": [
       "14675"
      ]
     },
     "execution_count": 29,
     "metadata": {},
     "output_type": "execute_result"
    }
   ],
   "source": [
    "doc_topics = []\n",
    "for bow in review_no_custom_sw:\n",
    "    doc_topics.append(best_lda_model.get_document_topics(dictionary.doc2bow(bow)))\n",
    "\n",
    "len(doc_topics)"
   ]
  },
  {
   "cell_type": "markdown",
   "metadata": {},
   "source": [
    "#### Assigning the dominant topic for each review in the corpus data"
   ]
  },
  {
   "cell_type": "code",
   "execution_count": 30,
   "metadata": {},
   "outputs": [
    {
     "data": {
      "text/plain": [
       "14675"
      ]
     },
     "execution_count": 30,
     "metadata": {},
     "output_type": "execute_result"
    }
   ],
   "source": [
    "dominant_topic = [np.argmax([prob for topic, prob in doc_topic]) for doc_topic in doc_topics]\n",
    "len(dominant_topic)"
   ]
  },
  {
   "cell_type": "code",
   "execution_count": 31,
   "metadata": {},
   "outputs": [
    {
     "data": {
      "text/html": [
       "<div>\n",
       "<style scoped>\n",
       "    .dataframe tbody tr th:only-of-type {\n",
       "        vertical-align: middle;\n",
       "    }\n",
       "\n",
       "    .dataframe tbody tr th {\n",
       "        vertical-align: top;\n",
       "    }\n",
       "\n",
       "    .dataframe thead th {\n",
       "        text-align: right;\n",
       "    }\n",
       "</style>\n",
       "<table border=\"1\" class=\"dataframe\">\n",
       "  <thead>\n",
       "    <tr style=\"text-align: right;\">\n",
       "      <th></th>\n",
       "      <th>sentiment</th>\n",
       "      <th>review</th>\n",
       "      <th>review_cleaned</th>\n",
       "      <th>dominant_topic</th>\n",
       "    </tr>\n",
       "  </thead>\n",
       "  <tbody>\n",
       "    <tr>\n",
       "      <th>0</th>\n",
       "      <td>1</td>\n",
       "      <td>Good but need updates and improvements</td>\n",
       "      <td>good but need updates and improvements</td>\n",
       "      <td>4</td>\n",
       "    </tr>\n",
       "    <tr>\n",
       "      <th>1</th>\n",
       "      <td>0</td>\n",
       "      <td>Worst mobile i have bought ever, Battery is dr...</td>\n",
       "      <td>worst mobile i have bought ever, battery is dr...</td>\n",
       "      <td>0</td>\n",
       "    </tr>\n",
       "    <tr>\n",
       "      <th>2</th>\n",
       "      <td>1</td>\n",
       "      <td>when I will get my 10% cash back.... its alrea...</td>\n",
       "      <td>when i will get my 10% cash back.... its alrea...</td>\n",
       "      <td>2</td>\n",
       "    </tr>\n",
       "    <tr>\n",
       "      <th>3</th>\n",
       "      <td>1</td>\n",
       "      <td>Good</td>\n",
       "      <td>good</td>\n",
       "      <td>0</td>\n",
       "    </tr>\n",
       "    <tr>\n",
       "      <th>4</th>\n",
       "      <td>0</td>\n",
       "      <td>The worst phone everThey have changed the last...</td>\n",
       "      <td>the worst phone everthey have changed the last...</td>\n",
       "      <td>6</td>\n",
       "    </tr>\n",
       "    <tr>\n",
       "      <th>5</th>\n",
       "      <td>0</td>\n",
       "      <td>Only I'm telling don't buyI'm totally disappoi...</td>\n",
       "      <td>only i'm telling don't buyi'm totally disappoi...</td>\n",
       "      <td>2</td>\n",
       "    </tr>\n",
       "    <tr>\n",
       "      <th>6</th>\n",
       "      <td>1</td>\n",
       "      <td>Phone is awesome. But while charging, it heats...</td>\n",
       "      <td>phone is awesome. but while charging, it heats...</td>\n",
       "      <td>0</td>\n",
       "    </tr>\n",
       "    <tr>\n",
       "      <th>7</th>\n",
       "      <td>0</td>\n",
       "      <td>The battery level has worn down</td>\n",
       "      <td>the battery level has worn down</td>\n",
       "      <td>5</td>\n",
       "    </tr>\n",
       "    <tr>\n",
       "      <th>8</th>\n",
       "      <td>0</td>\n",
       "      <td>It's over hitting problems...and phone hanging...</td>\n",
       "      <td>it's over hitting problems...and phone hanging...</td>\n",
       "      <td>6</td>\n",
       "    </tr>\n",
       "    <tr>\n",
       "      <th>9</th>\n",
       "      <td>0</td>\n",
       "      <td>A lot of glitches dont buy this thing better g...</td>\n",
       "      <td>a lot of glitches dont buy this thing better g...</td>\n",
       "      <td>0</td>\n",
       "    </tr>\n",
       "  </tbody>\n",
       "</table>\n",
       "</div>"
      ],
      "text/plain": [
       "   sentiment                                             review  \\\n",
       "0          1             Good but need updates and improvements   \n",
       "1          0  Worst mobile i have bought ever, Battery is dr...   \n",
       "2          1  when I will get my 10% cash back.... its alrea...   \n",
       "3          1                                               Good   \n",
       "4          0  The worst phone everThey have changed the last...   \n",
       "5          0  Only I'm telling don't buyI'm totally disappoi...   \n",
       "6          1  Phone is awesome. But while charging, it heats...   \n",
       "7          0                    The battery level has worn down   \n",
       "8          0  It's over hitting problems...and phone hanging...   \n",
       "9          0  A lot of glitches dont buy this thing better g...   \n",
       "\n",
       "                                      review_cleaned  dominant_topic  \n",
       "0             good but need updates and improvements               4  \n",
       "1  worst mobile i have bought ever, battery is dr...               0  \n",
       "2  when i will get my 10% cash back.... its alrea...               2  \n",
       "3                                               good               0  \n",
       "4  the worst phone everthey have changed the last...               6  \n",
       "5  only i'm telling don't buyi'm totally disappoi...               2  \n",
       "6  phone is awesome. but while charging, it heats...               0  \n",
       "7                    the battery level has worn down               5  \n",
       "8  it's over hitting problems...and phone hanging...               6  \n",
       "9  a lot of glitches dont buy this thing better g...               0  "
      ]
     },
     "execution_count": 31,
     "metadata": {},
     "output_type": "execute_result"
    }
   ],
   "source": [
    "data['dominant_topic'] = dominant_topic\n",
    "data.head(10)"
   ]
  },
  {
   "cell_type": "markdown",
   "metadata": {},
   "source": [
    "#### Mapping Topic no with Topic name"
   ]
  },
  {
   "cell_type": "code",
   "execution_count": 32,
   "metadata": {},
   "outputs": [
    {
     "data": {
      "text/html": [
       "<div>\n",
       "<style scoped>\n",
       "    .dataframe tbody tr th:only-of-type {\n",
       "        vertical-align: middle;\n",
       "    }\n",
       "\n",
       "    .dataframe tbody tr th {\n",
       "        vertical-align: top;\n",
       "    }\n",
       "\n",
       "    .dataframe thead th {\n",
       "        text-align: right;\n",
       "    }\n",
       "</style>\n",
       "<table border=\"1\" class=\"dataframe\">\n",
       "  <thead>\n",
       "    <tr style=\"text-align: right;\">\n",
       "      <th></th>\n",
       "      <th>sentiment</th>\n",
       "      <th>review</th>\n",
       "      <th>review_cleaned</th>\n",
       "      <th>dominant_topic</th>\n",
       "    </tr>\n",
       "  </thead>\n",
       "  <tbody>\n",
       "    <tr>\n",
       "      <th>0</th>\n",
       "      <td>1</td>\n",
       "      <td>Good but need updates and improvements</td>\n",
       "      <td>good but need updates and improvements</td>\n",
       "      <td>Camera Quality</td>\n",
       "    </tr>\n",
       "    <tr>\n",
       "      <th>1</th>\n",
       "      <td>0</td>\n",
       "      <td>Worst mobile i have bought ever, Battery is dr...</td>\n",
       "      <td>worst mobile i have bought ever, battery is dr...</td>\n",
       "      <td>Phone Battery</td>\n",
       "    </tr>\n",
       "    <tr>\n",
       "      <th>2</th>\n",
       "      <td>1</td>\n",
       "      <td>when I will get my 10% cash back.... its alrea...</td>\n",
       "      <td>when i will get my 10% cash back.... its alrea...</td>\n",
       "      <td>Charging Time</td>\n",
       "    </tr>\n",
       "    <tr>\n",
       "      <th>3</th>\n",
       "      <td>1</td>\n",
       "      <td>Good</td>\n",
       "      <td>good</td>\n",
       "      <td>Phone Battery</td>\n",
       "    </tr>\n",
       "    <tr>\n",
       "      <th>4</th>\n",
       "      <td>0</td>\n",
       "      <td>The worst phone everThey have changed the last...</td>\n",
       "      <td>the worst phone everthey have changed the last...</td>\n",
       "      <td>Delivery Time</td>\n",
       "    </tr>\n",
       "    <tr>\n",
       "      <th>5</th>\n",
       "      <td>0</td>\n",
       "      <td>Only I'm telling don't buyI'm totally disappoi...</td>\n",
       "      <td>only i'm telling don't buyi'm totally disappoi...</td>\n",
       "      <td>Charging Time</td>\n",
       "    </tr>\n",
       "    <tr>\n",
       "      <th>6</th>\n",
       "      <td>1</td>\n",
       "      <td>Phone is awesome. But while charging, it heats...</td>\n",
       "      <td>phone is awesome. but while charging, it heats...</td>\n",
       "      <td>Phone Battery</td>\n",
       "    </tr>\n",
       "    <tr>\n",
       "      <th>7</th>\n",
       "      <td>0</td>\n",
       "      <td>The battery level has worn down</td>\n",
       "      <td>the battery level has worn down</td>\n",
       "      <td>Network Issue</td>\n",
       "    </tr>\n",
       "    <tr>\n",
       "      <th>8</th>\n",
       "      <td>0</td>\n",
       "      <td>It's over hitting problems...and phone hanging...</td>\n",
       "      <td>it's over hitting problems...and phone hanging...</td>\n",
       "      <td>Delivery Time</td>\n",
       "    </tr>\n",
       "    <tr>\n",
       "      <th>9</th>\n",
       "      <td>0</td>\n",
       "      <td>A lot of glitches dont buy this thing better g...</td>\n",
       "      <td>a lot of glitches dont buy this thing better g...</td>\n",
       "      <td>Phone Battery</td>\n",
       "    </tr>\n",
       "  </tbody>\n",
       "</table>\n",
       "</div>"
      ],
      "text/plain": [
       "   sentiment                                             review  \\\n",
       "0          1             Good but need updates and improvements   \n",
       "1          0  Worst mobile i have bought ever, Battery is dr...   \n",
       "2          1  when I will get my 10% cash back.... its alrea...   \n",
       "3          1                                               Good   \n",
       "4          0  The worst phone everThey have changed the last...   \n",
       "5          0  Only I'm telling don't buyI'm totally disappoi...   \n",
       "6          1  Phone is awesome. But while charging, it heats...   \n",
       "7          0                    The battery level has worn down   \n",
       "8          0  It's over hitting problems...and phone hanging...   \n",
       "9          0  A lot of glitches dont buy this thing better g...   \n",
       "\n",
       "                                      review_cleaned  dominant_topic  \n",
       "0             good but need updates and improvements  Camera Quality  \n",
       "1  worst mobile i have bought ever, battery is dr...   Phone Battery  \n",
       "2  when i will get my 10% cash back.... its alrea...   Charging Time  \n",
       "3                                               good   Phone Battery  \n",
       "4  the worst phone everthey have changed the last...   Delivery Time  \n",
       "5  only i'm telling don't buyi'm totally disappoi...   Charging Time  \n",
       "6  phone is awesome. but while charging, it heats...   Phone Battery  \n",
       "7                    the battery level has worn down   Network Issue  \n",
       "8  it's over hitting problems...and phone hanging...   Delivery Time  \n",
       "9  a lot of glitches dont buy this thing better g...   Phone Battery  "
      ]
     },
     "execution_count": 32,
     "metadata": {},
     "output_type": "execute_result"
    }
   ],
   "source": [
    "data['dominant_topic'] = data['dominant_topic'].map(topic_names)\n",
    "data.head(10)"
   ]
  },
  {
   "cell_type": "markdown",
   "metadata": {},
   "source": [
    "#### Understanding the topic distribution of the topics over the entire corpus\n",
    "_This approach would belp the business house to understand what are the most important aspect that customers are talking about._ \n",
    "\n",
    "For our corpus it is the **Phone Battery**, which is the most dominant subject of discussion in the entire customer review dataset."
   ]
  },
  {
   "cell_type": "code",
   "execution_count": 33,
   "metadata": {},
   "outputs": [
    {
     "data": {
      "text/plain": [
       "Phone Battery      0.235434\n",
       "Delivery Time      0.156593\n",
       "Camera Quality     0.136831\n",
       "Value for Money    0.126065\n",
       "Heating            0.123884\n",
       "Charging Time      0.089063\n",
       "Network Issue      0.067325\n",
       "Features           0.064804\n",
       "Name: dominant_topic, dtype: float64"
      ]
     },
     "execution_count": 33,
     "metadata": {},
     "output_type": "execute_result"
    }
   ],
   "source": [
    "data['dominant_topic'].value_counts(normalize=True)"
   ]
  },
  {
   "cell_type": "markdown",
   "metadata": {},
   "source": [
    "#### Visualising the topic distribution for the entire corpus data"
   ]
  },
  {
   "cell_type": "code",
   "execution_count": 34,
   "metadata": {},
   "outputs": [
    {
     "data": {
      "image/png": "[encoded data removed]",
      "text/plain": [
       "<Figure size 1080x576 with 1 Axes>"
      ]
     },
     "metadata": {
      "needs_background": "light"
     },
     "output_type": "display_data"
    }
   ],
   "source": [
    "data['dominant_topic'].value_counts().sort_values().plot(kind='barh', figsize=(15,8), color='teal')\n",
    "plt.show()"
   ]
  },
  {
   "cell_type": "markdown",
   "metadata": {},
   "source": [
    "#### Understanding the sentiments over each topic for the corpus data"
   ]
  },
  {
   "cell_type": "code",
   "execution_count": 35,
   "metadata": {},
   "outputs": [],
   "source": [
    "data_topic_sentiment_df = pd.DataFrame(data.groupby(by=['dominant_topic', 'sentiment']).size())"
   ]
  },
  {
   "cell_type": "code",
   "execution_count": 36,
   "metadata": {},
   "outputs": [
    {
     "data": {
      "text/html": [
       "<div>\n",
       "<style scoped>\n",
       "    .dataframe tbody tr th:only-of-type {\n",
       "        vertical-align: middle;\n",
       "    }\n",
       "\n",
       "    .dataframe tbody tr th {\n",
       "        vertical-align: top;\n",
       "    }\n",
       "\n",
       "    .dataframe thead th {\n",
       "        text-align: right;\n",
       "    }\n",
       "</style>\n",
       "<table border=\"1\" class=\"dataframe\">\n",
       "  <thead>\n",
       "    <tr style=\"text-align: right;\">\n",
       "      <th></th>\n",
       "      <th>dominant_topic</th>\n",
       "      <th>sentiment</th>\n",
       "      <th>count</th>\n",
       "    </tr>\n",
       "  </thead>\n",
       "  <tbody>\n",
       "    <tr>\n",
       "      <th>0</th>\n",
       "      <td>Camera Quality</td>\n",
       "      <td>0</td>\n",
       "      <td>1116</td>\n",
       "    </tr>\n",
       "    <tr>\n",
       "      <th>1</th>\n",
       "      <td>Camera Quality</td>\n",
       "      <td>1</td>\n",
       "      <td>892</td>\n",
       "    </tr>\n",
       "    <tr>\n",
       "      <th>2</th>\n",
       "      <td>Charging Time</td>\n",
       "      <td>0</td>\n",
       "      <td>810</td>\n",
       "    </tr>\n",
       "    <tr>\n",
       "      <th>3</th>\n",
       "      <td>Charging Time</td>\n",
       "      <td>1</td>\n",
       "      <td>497</td>\n",
       "    </tr>\n",
       "    <tr>\n",
       "      <th>4</th>\n",
       "      <td>Delivery Time</td>\n",
       "      <td>0</td>\n",
       "      <td>1218</td>\n",
       "    </tr>\n",
       "    <tr>\n",
       "      <th>5</th>\n",
       "      <td>Delivery Time</td>\n",
       "      <td>1</td>\n",
       "      <td>1080</td>\n",
       "    </tr>\n",
       "    <tr>\n",
       "      <th>6</th>\n",
       "      <td>Features</td>\n",
       "      <td>0</td>\n",
       "      <td>494</td>\n",
       "    </tr>\n",
       "    <tr>\n",
       "      <th>7</th>\n",
       "      <td>Features</td>\n",
       "      <td>1</td>\n",
       "      <td>457</td>\n",
       "    </tr>\n",
       "    <tr>\n",
       "      <th>8</th>\n",
       "      <td>Heating</td>\n",
       "      <td>0</td>\n",
       "      <td>1029</td>\n",
       "    </tr>\n",
       "    <tr>\n",
       "      <th>9</th>\n",
       "      <td>Heating</td>\n",
       "      <td>1</td>\n",
       "      <td>789</td>\n",
       "    </tr>\n",
       "    <tr>\n",
       "      <th>10</th>\n",
       "      <td>Network Issue</td>\n",
       "      <td>0</td>\n",
       "      <td>708</td>\n",
       "    </tr>\n",
       "    <tr>\n",
       "      <th>11</th>\n",
       "      <td>Network Issue</td>\n",
       "      <td>1</td>\n",
       "      <td>280</td>\n",
       "    </tr>\n",
       "    <tr>\n",
       "      <th>12</th>\n",
       "      <td>Phone Battery</td>\n",
       "      <td>0</td>\n",
       "      <td>1760</td>\n",
       "    </tr>\n",
       "    <tr>\n",
       "      <th>13</th>\n",
       "      <td>Phone Battery</td>\n",
       "      <td>1</td>\n",
       "      <td>1695</td>\n",
       "    </tr>\n",
       "    <tr>\n",
       "      <th>14</th>\n",
       "      <td>Value for Money</td>\n",
       "      <td>0</td>\n",
       "      <td>577</td>\n",
       "    </tr>\n",
       "    <tr>\n",
       "      <th>15</th>\n",
       "      <td>Value for Money</td>\n",
       "      <td>1</td>\n",
       "      <td>1273</td>\n",
       "    </tr>\n",
       "  </tbody>\n",
       "</table>\n",
       "</div>"
      ],
      "text/plain": [
       "     dominant_topic  sentiment  count\n",
       "0    Camera Quality          0   1116\n",
       "1    Camera Quality          1    892\n",
       "2     Charging Time          0    810\n",
       "3     Charging Time          1    497\n",
       "4     Delivery Time          0   1218\n",
       "5     Delivery Time          1   1080\n",
       "6          Features          0    494\n",
       "7          Features          1    457\n",
       "8           Heating          0   1029\n",
       "9           Heating          1    789\n",
       "10    Network Issue          0    708\n",
       "11    Network Issue          1    280\n",
       "12    Phone Battery          0   1760\n",
       "13    Phone Battery          1   1695\n",
       "14  Value for Money          0    577\n",
       "15  Value for Money          1   1273"
      ]
     },
     "execution_count": 36,
     "metadata": {},
     "output_type": "execute_result"
    }
   ],
   "source": [
    "data_topic_sentiment_df = data_topic_sentiment_df.reset_index().rename(columns = {0: 'count'})\n",
    "data_topic_sentiment_df"
   ]
  },
  {
   "cell_type": "markdown",
   "metadata": {},
   "source": [
    "#### Negetive sentiment distribution for the corpus"
   ]
  },
  {
   "cell_type": "code",
   "execution_count": 37,
   "metadata": {},
   "outputs": [
    {
     "data": {
      "text/html": [
       "<div>\n",
       "<style scoped>\n",
       "    .dataframe tbody tr th:only-of-type {\n",
       "        vertical-align: middle;\n",
       "    }\n",
       "\n",
       "    .dataframe tbody tr th {\n",
       "        vertical-align: top;\n",
       "    }\n",
       "\n",
       "    .dataframe thead th {\n",
       "        text-align: right;\n",
       "    }\n",
       "</style>\n",
       "<table border=\"1\" class=\"dataframe\">\n",
       "  <thead>\n",
       "    <tr style=\"text-align: right;\">\n",
       "      <th></th>\n",
       "      <th>dominant_topic</th>\n",
       "      <th>sentiment</th>\n",
       "      <th>count</th>\n",
       "    </tr>\n",
       "  </thead>\n",
       "  <tbody>\n",
       "    <tr>\n",
       "      <th>0</th>\n",
       "      <td>Camera Quality</td>\n",
       "      <td>0</td>\n",
       "      <td>1116</td>\n",
       "    </tr>\n",
       "    <tr>\n",
       "      <th>2</th>\n",
       "      <td>Charging Time</td>\n",
       "      <td>0</td>\n",
       "      <td>810</td>\n",
       "    </tr>\n",
       "    <tr>\n",
       "      <th>4</th>\n",
       "      <td>Delivery Time</td>\n",
       "      <td>0</td>\n",
       "      <td>1218</td>\n",
       "    </tr>\n",
       "    <tr>\n",
       "      <th>6</th>\n",
       "      <td>Features</td>\n",
       "      <td>0</td>\n",
       "      <td>494</td>\n",
       "    </tr>\n",
       "    <tr>\n",
       "      <th>8</th>\n",
       "      <td>Heating</td>\n",
       "      <td>0</td>\n",
       "      <td>1029</td>\n",
       "    </tr>\n",
       "    <tr>\n",
       "      <th>10</th>\n",
       "      <td>Network Issue</td>\n",
       "      <td>0</td>\n",
       "      <td>708</td>\n",
       "    </tr>\n",
       "    <tr>\n",
       "      <th>12</th>\n",
       "      <td>Phone Battery</td>\n",
       "      <td>0</td>\n",
       "      <td>1760</td>\n",
       "    </tr>\n",
       "    <tr>\n",
       "      <th>14</th>\n",
       "      <td>Value for Money</td>\n",
       "      <td>0</td>\n",
       "      <td>577</td>\n",
       "    </tr>\n",
       "  </tbody>\n",
       "</table>\n",
       "</div>"
      ],
      "text/plain": [
       "     dominant_topic  sentiment  count\n",
       "0    Camera Quality          0   1116\n",
       "2     Charging Time          0    810\n",
       "4     Delivery Time          0   1218\n",
       "6          Features          0    494\n",
       "8           Heating          0   1029\n",
       "10    Network Issue          0    708\n",
       "12    Phone Battery          0   1760\n",
       "14  Value for Money          0    577"
      ]
     },
     "execution_count": 37,
     "metadata": {},
     "output_type": "execute_result"
    }
   ],
   "source": [
    "data_topic_sentiment_df[data_topic_sentiment_df['sentiment'] == 0]"
   ]
  },
  {
   "cell_type": "markdown",
   "metadata": {},
   "source": [
    "#### Positive sentiment distribution for the corpus"
   ]
  },
  {
   "cell_type": "code",
   "execution_count": 38,
   "metadata": {},
   "outputs": [
    {
     "data": {
      "text/html": [
       "<div>\n",
       "<style scoped>\n",
       "    .dataframe tbody tr th:only-of-type {\n",
       "        vertical-align: middle;\n",
       "    }\n",
       "\n",
       "    .dataframe tbody tr th {\n",
       "        vertical-align: top;\n",
       "    }\n",
       "\n",
       "    .dataframe thead th {\n",
       "        text-align: right;\n",
       "    }\n",
       "</style>\n",
       "<table border=\"1\" class=\"dataframe\">\n",
       "  <thead>\n",
       "    <tr style=\"text-align: right;\">\n",
       "      <th></th>\n",
       "      <th>dominant_topic</th>\n",
       "      <th>sentiment</th>\n",
       "      <th>count</th>\n",
       "    </tr>\n",
       "  </thead>\n",
       "  <tbody>\n",
       "    <tr>\n",
       "      <th>1</th>\n",
       "      <td>Camera Quality</td>\n",
       "      <td>1</td>\n",
       "      <td>892</td>\n",
       "    </tr>\n",
       "    <tr>\n",
       "      <th>3</th>\n",
       "      <td>Charging Time</td>\n",
       "      <td>1</td>\n",
       "      <td>497</td>\n",
       "    </tr>\n",
       "    <tr>\n",
       "      <th>5</th>\n",
       "      <td>Delivery Time</td>\n",
       "      <td>1</td>\n",
       "      <td>1080</td>\n",
       "    </tr>\n",
       "    <tr>\n",
       "      <th>7</th>\n",
       "      <td>Features</td>\n",
       "      <td>1</td>\n",
       "      <td>457</td>\n",
       "    </tr>\n",
       "    <tr>\n",
       "      <th>9</th>\n",
       "      <td>Heating</td>\n",
       "      <td>1</td>\n",
       "      <td>789</td>\n",
       "    </tr>\n",
       "    <tr>\n",
       "      <th>11</th>\n",
       "      <td>Network Issue</td>\n",
       "      <td>1</td>\n",
       "      <td>280</td>\n",
       "    </tr>\n",
       "    <tr>\n",
       "      <th>13</th>\n",
       "      <td>Phone Battery</td>\n",
       "      <td>1</td>\n",
       "      <td>1695</td>\n",
       "    </tr>\n",
       "    <tr>\n",
       "      <th>15</th>\n",
       "      <td>Value for Money</td>\n",
       "      <td>1</td>\n",
       "      <td>1273</td>\n",
       "    </tr>\n",
       "  </tbody>\n",
       "</table>\n",
       "</div>"
      ],
      "text/plain": [
       "     dominant_topic  sentiment  count\n",
       "1    Camera Quality          1    892\n",
       "3     Charging Time          1    497\n",
       "5     Delivery Time          1   1080\n",
       "7          Features          1    457\n",
       "9           Heating          1    789\n",
       "11    Network Issue          1    280\n",
       "13    Phone Battery          1   1695\n",
       "15  Value for Money          1   1273"
      ]
     },
     "execution_count": 38,
     "metadata": {},
     "output_type": "execute_result"
    }
   ],
   "source": [
    "data_topic_sentiment_df[data_topic_sentiment_df['sentiment'] == 1]"
   ]
  },
  {
   "cell_type": "markdown",
   "metadata": {},
   "source": [
    "#### Visualising the topic wise sentiment distribution for the corpus"
   ]
  },
  {
   "cell_type": "code",
   "execution_count": 39,
   "metadata": {},
   "outputs": [
    {
     "data": {
      "image/png": "[encoded data removed]",
      "text/plain": [
       "<Figure size 1080x432 with 1 Axes>"
      ]
     },
     "metadata": {
      "needs_background": "light"
     },
     "output_type": "display_data"
    }
   ],
   "source": [
    "labels = topic_names.values()\n",
    "positive_sentiments = data_topic_sentiment_df[data_topic_sentiment_df['sentiment'] == 1]['count']\n",
    "negetive_sentiments = data_topic_sentiment_df[data_topic_sentiment_df['sentiment'] == 0]['count']\n",
    "\n",
    "x = np.arange(len(labels))  # the label locations\n",
    "width = 0.35  # the width of the bars\n",
    "\n",
    "fig, ax = plt.subplots(figsize=(15,6))\n",
    "rects1 = ax.bar(x - width/2, positive_sentiments, width, label='Positive')\n",
    "rects2 = ax.bar(x + width/2, negetive_sentiments, width, label='Negetive')\n",
    "\n",
    "# Add some text for labels, title and custom x-axis tick labels, etc.\n",
    "ax.set_ylabel('Sentiments')\n",
    "ax.set_title('Sentiments by Topic')\n",
    "ax.set_xticks(x)\n",
    "ax.set_xticklabels(labels)\n",
    "ax.legend()\n",
    "\n",
    "\n",
    "def autolabel(rects):\n",
    "    \"\"\"Attach a text label above each bar in *rects*, displaying its height.\"\"\"\n",
    "    for rect in rects:\n",
    "        height = rect.get_height()\n",
    "        ax.annotate('{}'.format(height),\n",
    "                    xy=(rect.get_x() + rect.get_width() / 2, height),\n",
    "                    xytext=(0, 3),  # 3 points vertical offset\n",
    "                    textcoords=\"offset points\",\n",
    "                    ha='center', va='bottom')\n",
    "\n",
    "\n",
    "autolabel(rects1)\n",
    "autolabel(rects2)\n",
    "\n",
    "fig.tight_layout()\n",
    "\n",
    "plt.show()"
   ]
  },
  {
   "cell_type": "code",
   "execution_count": null,
   "metadata": {},
   "outputs": [],
   "source": []
  }
 ],
 "metadata": {
  "kernelspec": {
   "display_name": "Python 3",
   "language": "python",
   "name": "python3"
  },
  "language_info": {
   "codemirror_mode": {
    "name": "ipython",
    "version": 3
   },
   "file_extension": ".py",
   "mimetype": "text/x-python",
   "name": "python",
   "nbconvert_exporter": "python",
   "pygments_lexer": "ipython3",
   "version": "3.7.3"
  }
 },
 "nbformat": 4,
 "nbformat_minor": 4
}
