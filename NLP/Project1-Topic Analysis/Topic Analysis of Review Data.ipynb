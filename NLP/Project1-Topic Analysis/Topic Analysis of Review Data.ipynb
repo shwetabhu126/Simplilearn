{
 "cells": [
  {
   "cell_type": "markdown",
   "metadata": {},
   "source": [
    "## Topic Analysis of Review Data"
   ]
  },
  {
   "cell_type": "markdown",
   "metadata": {},
   "source": [
    "#### DESCRIPTION\n",
    "\n",
    "Help a leading mobile brand understand the voice of the customer by analyzing the reviews of their product on Amazon and the topics that customers are talking about. You will perform topic modeling on specific parts of speech. You’ll finally interpret the emerging topics."
   ]
  },
  {
   "cell_type": "markdown",
   "metadata": {},
   "source": [
    "#### Problem Statement: \n",
    "\n",
    "A popular mobile phone brand, Lenovo has launched their budget smartphone in the Indian market. The client wants to understand the VOC (voice of the customer) on the product. This will be useful to not just evaluate the current product, but to also get some direction for developing the product pipeline. The client is particularly interested in the different aspects that customers care about. Product reviews by customers on a leading e-commerce site should provide a good view."
   ]
  },
  {
   "cell_type": "markdown",
   "metadata": {},
   "source": [
    "**Domain:** Amazon reviews for a leading phone brand"
   ]
  },
  {
   "cell_type": "markdown",
   "metadata": {},
   "source": [
    "#### Analysis to be done: \n",
    "POS tagging, topic modeling using LDA, and topic interpretation\n",
    "\n",
    "**Dataset:** ‘K8 Reviews v0.2.csv’\n",
    "\n",
    "**Sentiment:** The sentiment against the review (4,5 star reviews are positive, 1,2 are negative)\n",
    "\n",
    "**Reviews:** The main text of the review"
   ]
  },
  {
   "cell_type": "markdown",
   "metadata": {},
   "source": [
    "#### Steps to perform:\n",
    "\n",
    "Discover the topics in the reviews and present it to business in a consumable format. Employ techniques in syntactic processing and topic modeling.\n",
    "\n",
    "Perform specific cleanup, POS tagging, and restricting to relevant POS tags, then, perform topic modeling using LDA. Finally, give business-friendly names to the topics and make a table for business."
   ]
  },
  {
   "cell_type": "markdown",
   "metadata": {},
   "source": [
    "#### Tasks: \n",
    "\n",
    "1. Read the .csv file using Pandas. Take a look at the top few records.\n",
    "\n",
    "2. Normalize casings for the review text and extract the text into a list for easier manipulation.\n",
    "\n",
    "3. Tokenize the reviews using NLTKs word_tokenize function.\n",
    "\n",
    "4. Perform parts-of-speech tagging on each sentence using the NLTK POS tagger.\n",
    "\n",
    "5. For the topic model, we should  want to include only nouns.\n",
    "\n",
    "  - Find out all the POS tags that correspond to nouns.\n",
    "\n",
    "  - Limit the data to only terms with these tags.\n",
    "\n",
    "6. Lemmatize. \n",
    "\n",
    "  - Different forms of the terms need to be treated as one.\n",
    "\n",
    "  - No need to provide POS tag to lemmatizer for now.\n",
    "\n",
    "7. Remove stopwords and punctuation (if there are any). \n",
    "\n",
    "8. Create a topic model using LDA on the cleaned up data with 12 topics.\n",
    "\n",
    "  - Print out the top terms for each topic.\n",
    "\n",
    "  - What is the coherence of the model with the c_v metric?\n",
    "\n",
    "9. Analyze the topics through the business lens.\n",
    "\n",
    "  - Determine which of the topics can be combined.\n",
    "\n",
    "10. Create topic model using LDA with what you think is the optimal number of topics\n",
    "\n",
    "  - What is the coherence of the model?\n",
    "\n",
    "11. The business should  be able to interpret the topics.\n",
    "\n",
    "  - Name each of the identified topics.\n",
    "\n",
    "  - Create a table with the topic name and the top 10 terms in each to present to the  business."
   ]
  },
  {
   "cell_type": "code",
   "execution_count": 19,
   "metadata": {},
   "outputs": [],
   "source": [
    "import numpy as np\n",
    "import pandas as pd\n",
    "import re\n",
    "import nltk\n",
    "import gensim\n",
    "\n",
    "# Sklearn\n",
    "from sklearn.decomposition import LatentDirichletAllocation\n",
    "from sklearn.feature_extraction.text import CountVectorizer, TfidfVectorizer\n",
    "from sklearn.model_selection import GridSearchCV\n",
    "from pprint import pprint\n",
    "\n",
    "# Plotting tools\n",
    "import pyLDAvis\n",
    "import pyLDAvis.sklearn\n",
    "import pyLDAvis.gensim\n",
    "import matplotlib.pyplot as plt\n",
    "%matplotlib inline"
   ]
  },
  {
   "cell_type": "markdown",
   "metadata": {},
   "source": [
    "#### 1. Read the data"
   ]
  },
  {
   "cell_type": "code",
   "execution_count": 2,
   "metadata": {},
   "outputs": [],
   "source": [
    "data = pd.read_csv('K8 Reviews v0.2.csv')"
   ]
  },
  {
   "cell_type": "code",
   "execution_count": 3,
   "metadata": {},
   "outputs": [
    {
     "data": {
      "text/html": [
       "<div>\n",
       "<style scoped>\n",
       "    .dataframe tbody tr th:only-of-type {\n",
       "        vertical-align: middle;\n",
       "    }\n",
       "\n",
       "    .dataframe tbody tr th {\n",
       "        vertical-align: top;\n",
       "    }\n",
       "\n",
       "    .dataframe thead th {\n",
       "        text-align: right;\n",
       "    }\n",
       "</style>\n",
       "<table border=\"1\" class=\"dataframe\">\n",
       "  <thead>\n",
       "    <tr style=\"text-align: right;\">\n",
       "      <th></th>\n",
       "      <th>sentiment</th>\n",
       "      <th>review</th>\n",
       "    </tr>\n",
       "  </thead>\n",
       "  <tbody>\n",
       "    <tr>\n",
       "      <th>0</th>\n",
       "      <td>1</td>\n",
       "      <td>Good but need updates and improvements</td>\n",
       "    </tr>\n",
       "    <tr>\n",
       "      <th>1</th>\n",
       "      <td>0</td>\n",
       "      <td>Worst mobile i have bought ever, Battery is dr...</td>\n",
       "    </tr>\n",
       "    <tr>\n",
       "      <th>2</th>\n",
       "      <td>1</td>\n",
       "      <td>when I will get my 10% cash back.... its alrea...</td>\n",
       "    </tr>\n",
       "    <tr>\n",
       "      <th>3</th>\n",
       "      <td>1</td>\n",
       "      <td>Good</td>\n",
       "    </tr>\n",
       "    <tr>\n",
       "      <th>4</th>\n",
       "      <td>0</td>\n",
       "      <td>The worst phone everThey have changed the last...</td>\n",
       "    </tr>\n",
       "  </tbody>\n",
       "</table>\n",
       "</div>"
      ],
      "text/plain": [
       "   sentiment                                             review\n",
       "0          1             Good but need updates and improvements\n",
       "1          0  Worst mobile i have bought ever, Battery is dr...\n",
       "2          1  when I will get my 10% cash back.... its alrea...\n",
       "3          1                                               Good\n",
       "4          0  The worst phone everThey have changed the last..."
      ]
     },
     "execution_count": 3,
     "metadata": {},
     "output_type": "execute_result"
    }
   ],
   "source": [
    "data.head()"
   ]
  },
  {
   "cell_type": "code",
   "execution_count": 4,
   "metadata": {},
   "outputs": [
    {
     "name": "stdout",
     "output_type": "stream",
     "text": [
      "<class 'pandas.core.frame.DataFrame'>\n",
      "RangeIndex: 14675 entries, 0 to 14674\n",
      "Data columns (total 2 columns):\n",
      " #   Column     Non-Null Count  Dtype \n",
      "---  ------     --------------  ----- \n",
      " 0   sentiment  14675 non-null  int64 \n",
      " 1   review     14675 non-null  object\n",
      "dtypes: int64(1), object(1)\n",
      "memory usage: 229.4+ KB\n"
     ]
    }
   ],
   "source": [
    "data.info()"
   ]
  },
  {
   "cell_type": "markdown",
   "metadata": {},
   "source": [
    "#### 2. Normalizing the casing to lower"
   ]
  },
  {
   "cell_type": "code",
   "execution_count": 5,
   "metadata": {},
   "outputs": [],
   "source": [
    "data['review_cleaned'] = data['review'].apply(lambda review: review.lower())"
   ]
  },
  {
   "cell_type": "code",
   "execution_count": 6,
   "metadata": {},
   "outputs": [
    {
     "data": {
      "text/html": [
       "<div>\n",
       "<style scoped>\n",
       "    .dataframe tbody tr th:only-of-type {\n",
       "        vertical-align: middle;\n",
       "    }\n",
       "\n",
       "    .dataframe tbody tr th {\n",
       "        vertical-align: top;\n",
       "    }\n",
       "\n",
       "    .dataframe thead th {\n",
       "        text-align: right;\n",
       "    }\n",
       "</style>\n",
       "<table border=\"1\" class=\"dataframe\">\n",
       "  <thead>\n",
       "    <tr style=\"text-align: right;\">\n",
       "      <th></th>\n",
       "      <th>sentiment</th>\n",
       "      <th>review</th>\n",
       "      <th>review_cleaned</th>\n",
       "    </tr>\n",
       "  </thead>\n",
       "  <tbody>\n",
       "    <tr>\n",
       "      <th>0</th>\n",
       "      <td>1</td>\n",
       "      <td>Good but need updates and improvements</td>\n",
       "      <td>good but need updates and improvements</td>\n",
       "    </tr>\n",
       "    <tr>\n",
       "      <th>1</th>\n",
       "      <td>0</td>\n",
       "      <td>Worst mobile i have bought ever, Battery is dr...</td>\n",
       "      <td>worst mobile i have bought ever, battery is dr...</td>\n",
       "    </tr>\n",
       "    <tr>\n",
       "      <th>2</th>\n",
       "      <td>1</td>\n",
       "      <td>when I will get my 10% cash back.... its alrea...</td>\n",
       "      <td>when i will get my 10% cash back.... its alrea...</td>\n",
       "    </tr>\n",
       "    <tr>\n",
       "      <th>3</th>\n",
       "      <td>1</td>\n",
       "      <td>Good</td>\n",
       "      <td>good</td>\n",
       "    </tr>\n",
       "    <tr>\n",
       "      <th>4</th>\n",
       "      <td>0</td>\n",
       "      <td>The worst phone everThey have changed the last...</td>\n",
       "      <td>the worst phone everthey have changed the last...</td>\n",
       "    </tr>\n",
       "  </tbody>\n",
       "</table>\n",
       "</div>"
      ],
      "text/plain": [
       "   sentiment                                             review  \\\n",
       "0          1             Good but need updates and improvements   \n",
       "1          0  Worst mobile i have bought ever, Battery is dr...   \n",
       "2          1  when I will get my 10% cash back.... its alrea...   \n",
       "3          1                                               Good   \n",
       "4          0  The worst phone everThey have changed the last...   \n",
       "\n",
       "                                      review_cleaned  \n",
       "0             good but need updates and improvements  \n",
       "1  worst mobile i have bought ever, battery is dr...  \n",
       "2  when i will get my 10% cash back.... its alrea...  \n",
       "3                                               good  \n",
       "4  the worst phone everthey have changed the last...  "
      ]
     },
     "execution_count": 6,
     "metadata": {},
     "output_type": "execute_result"
    }
   ],
   "source": [
    "data.head()"
   ]
  },
  {
   "cell_type": "markdown",
   "metadata": {},
   "source": [
    "#### 3. Tokenize the reviews using NLTKs word_tokenize function."
   ]
  },
  {
   "cell_type": "code",
   "execution_count": 7,
   "metadata": {},
   "outputs": [],
   "source": [
    "reviews = data['review_cleaned']\n",
    "reviews = [nltk.word_tokenize(review) for review in reviews]"
   ]
  },
  {
   "cell_type": "code",
   "execution_count": 8,
   "metadata": {},
   "outputs": [
    {
     "data": {
      "text/plain": [
       "14675"
      ]
     },
     "execution_count": 8,
     "metadata": {},
     "output_type": "execute_result"
    }
   ],
   "source": [
    "len(reviews)"
   ]
  },
  {
   "cell_type": "code",
   "execution_count": 9,
   "metadata": {},
   "outputs": [
    {
     "name": "stdout",
     "output_type": "stream",
     "text": [
      "[['good', 'but', 'need', 'updates', 'and', 'improvements'],\n",
      " ['worst', 'mobile', 'i', 'have', 'bought', 'ever', ',', 'battery', 'is',\n",
      "  'draining', 'like', 'hell', ',', 'backup', 'is', 'only', '6', 'to', '7',\n",
      "  'hours', 'with', 'internet', 'uses', ',', 'even', 'if', 'i', 'put', 'mobile',\n",
      "  'idle', 'its', 'getting', 'discharged.this', 'is', 'biggest', 'lie', 'from',\n",
      "  'amazon', '&', 'lenove', 'which', 'is', 'not', 'at', 'all', 'expected', ',',\n",
      "  'they', 'are', 'making', 'full', 'by', 'saying', 'that', 'battery', 'is',\n",
      "  '4000mah', '&', 'booster', 'charger', 'is', 'fake', ',', 'it', 'takes', 'at',\n",
      "  'least', '4', 'to', '5', 'hours', 'to', 'be', 'fully', 'charged.do', \"n't\",\n",
      "  'know', 'how', 'lenovo', 'will', 'survive', 'by', 'making', 'full', 'of',\n",
      "  'us.please', 'don', ';', 't', 'go', 'for', 'this', 'else', 'you', 'will',\n",
      "  'regret', 'like', 'me', '.'],\n",
      " ['when', 'i', 'will', 'get', 'my', '10', '%', 'cash', 'back', '...', '.',\n",
      "  'its', 'already', '15', 'january..'],\n",
      " ['good'],\n",
      " ['the', 'worst', 'phone', 'everthey', 'have', 'changed', 'the', 'last',\n",
      "  'phone', 'but', 'the', 'problem', 'is', 'still', 'same', 'and', 'the',\n",
      "  'amazon', 'is', 'not', 'returning', 'the', 'phone', '.highly',\n",
      "  'disappointing', 'of', 'amazon']]\n"
     ]
    }
   ],
   "source": [
    "pprint(reviews[:5], compact=True)"
   ]
  },
  {
   "cell_type": "markdown",
   "metadata": {},
   "source": [
    "#### 4. Perform parts-of-speech tagging on each document using the NLTK POS tagger"
   ]
  },
  {
   "cell_type": "code",
   "execution_count": 10,
   "metadata": {},
   "outputs": [
    {
     "name": "stdout",
     "output_type": "stream",
     "text": [
      "[[('good', 'JJ'), ('but', 'CC'), ('need', 'VBP'), ('updates', 'NNS'),\n",
      "  ('and', 'CC'), ('improvements', 'NNS')],\n",
      " [('worst', 'JJS'), ('mobile', 'NN'), ('i', 'NN'), ('have', 'VBP'),\n",
      "  ('bought', 'VBN'), ('ever', 'RB'), (',', ','), ('battery', 'NN'),\n",
      "  ('is', 'VBZ'), ('draining', 'VBG'), ('like', 'IN'), ('hell', 'NN'),\n",
      "  (',', ','), ('backup', 'NN'), ('is', 'VBZ'), ('only', 'RB'), ('6', 'CD'),\n",
      "  ('to', 'TO'), ('7', 'CD'), ('hours', 'NNS'), ('with', 'IN'),\n",
      "  ('internet', 'JJ'), ('uses', 'NNS'), (',', ','), ('even', 'RB'), ('if', 'IN'),\n",
      "  ('i', 'JJ'), ('put', 'VBP'), ('mobile', 'JJ'), ('idle', 'NN'),\n",
      "  ('its', 'PRP$'), ('getting', 'VBG'), ('discharged.this', 'NN'), ('is', 'VBZ'),\n",
      "  ('biggest', 'JJS'), ('lie', 'NN'), ('from', 'IN'), ('amazon', 'NN'),\n",
      "  ('&', 'CC'), ('lenove', 'NN'), ('which', 'WDT'), ('is', 'VBZ'), ('not', 'RB'),\n",
      "  ('at', 'IN'), ('all', 'DT'), ('expected', 'VBN'), (',', ','), ('they', 'PRP'),\n",
      "  ('are', 'VBP'), ('making', 'VBG'), ('full', 'JJ'), ('by', 'IN'),\n",
      "  ('saying', 'VBG'), ('that', 'DT'), ('battery', 'NN'), ('is', 'VBZ'),\n",
      "  ('4000mah', 'CD'), ('&', 'CC'), ('booster', 'JJR'), ('charger', 'NN'),\n",
      "  ('is', 'VBZ'), ('fake', 'JJ'), (',', ','), ('it', 'PRP'), ('takes', 'VBZ'),\n",
      "  ('at', 'IN'), ('least', 'JJS'), ('4', 'CD'), ('to', 'TO'), ('5', 'CD'),\n",
      "  ('hours', 'NNS'), ('to', 'TO'), ('be', 'VB'), ('fully', 'RB'),\n",
      "  ('charged.do', 'VBP'), (\"n't\", 'RB'), ('know', 'VB'), ('how', 'WRB'),\n",
      "  ('lenovo', 'JJ'), ('will', 'MD'), ('survive', 'VB'), ('by', 'IN'),\n",
      "  ('making', 'VBG'), ('full', 'JJ'), ('of', 'IN'), ('us.please', 'JJ'),\n",
      "  ('don', 'NN'), (';', ':'), ('t', 'CC'), ('go', 'VB'), ('for', 'IN'),\n",
      "  ('this', 'DT'), ('else', 'JJ'), ('you', 'PRP'), ('will', 'MD'),\n",
      "  ('regret', 'VB'), ('like', 'IN'), ('me', 'PRP'), ('.', '.')],\n",
      " [('when', 'WRB'), ('i', 'NN'), ('will', 'MD'), ('get', 'VB'), ('my', 'PRP$'),\n",
      "  ('10', 'CD'), ('%', 'NN'), ('cash', 'NN'), ('back', 'RB'), ('...', ':'),\n",
      "  ('.', '.'), ('its', 'PRP$'), ('already', 'RB'), ('15', 'CD'),\n",
      "  ('january..', 'NN')],\n",
      " [('good', 'JJ')],\n",
      " [('the', 'DT'), ('worst', 'JJS'), ('phone', 'NN'), ('everthey', 'NN'),\n",
      "  ('have', 'VBP'), ('changed', 'VBN'), ('the', 'DT'), ('last', 'JJ'),\n",
      "  ('phone', 'NN'), ('but', 'CC'), ('the', 'DT'), ('problem', 'NN'),\n",
      "  ('is', 'VBZ'), ('still', 'RB'), ('same', 'JJ'), ('and', 'CC'), ('the', 'DT'),\n",
      "  ('amazon', 'NN'), ('is', 'VBZ'), ('not', 'RB'), ('returning', 'VBG'),\n",
      "  ('the', 'DT'), ('phone', 'NN'), ('.highly', 'RB'), ('disappointing', 'JJ'),\n",
      "  ('of', 'IN'), ('amazon', 'NN')]]\n",
      "Wall time: 15 s\n"
     ]
    }
   ],
   "source": [
    "%%time\n",
    "review_pos_tags = [nltk.pos_tag(doc) for doc in reviews]\n",
    "pprint(review_pos_tags[:5], compact=True)"
   ]
  },
  {
   "cell_type": "markdown",
   "metadata": {},
   "source": [
    "#### 5. Including only nouns for building the Topic Model"
   ]
  },
  {
   "cell_type": "code",
   "execution_count": 11,
   "metadata": {},
   "outputs": [
    {
     "name": "stdout",
     "output_type": "stream",
     "text": [
      "[['updates', 'improvements'],\n",
      " ['mobile', 'i', 'battery', 'hell', 'backup', 'hours', 'uses', 'idle',\n",
      "  'discharged.this', 'lie', 'amazon', 'lenove', 'battery', 'charger', 'hours',\n",
      "  'don'],\n",
      " ['i', '%', 'cash', 'january..'], [],\n",
      " ['phone', 'everthey', 'phone', 'problem', 'amazon', 'phone', 'amazon']]\n"
     ]
    }
   ],
   "source": [
    "review_nouns = [[token for token, pos in doc if pos.startswith('NN')] for doc in review_pos_tags]\n",
    "pprint(review_nouns[:5], compact=True)"
   ]
  },
  {
   "cell_type": "markdown",
   "metadata": {},
   "source": [
    "#### 6. Lemmatize"
   ]
  },
  {
   "cell_type": "code",
   "execution_count": 12,
   "metadata": {},
   "outputs": [
    {
     "name": "stdout",
     "output_type": "stream",
     "text": [
      "[['update', 'improvement'],\n",
      " ['mobile',\n",
      "  'i',\n",
      "  'battery',\n",
      "  'hell',\n",
      "  'backup',\n",
      "  'hour',\n",
      "  'us',\n",
      "  'idle',\n",
      "  'discharged.this',\n",
      "  'lie',\n",
      "  'amazon',\n",
      "  'lenove',\n",
      "  'battery',\n",
      "  'charger',\n",
      "  'hour',\n",
      "  'don'],\n",
      " ['i', '%', 'cash', 'january..'],\n",
      " [],\n",
      " ['phone', 'everthey', 'phone', 'problem', 'amazon', 'phone', 'amazon']]\n",
      "Wall time: 1.8 s\n"
     ]
    }
   ],
   "source": [
    "%%time\n",
    "review_lemmatized = [[nltk.stem.WordNetLemmatizer().lemmatize(token) for token in doc] for doc in review_nouns]\n",
    "pprint(review_lemmatized[:5])"
   ]
  },
  {
   "cell_type": "markdown",
   "metadata": {},
   "source": [
    "#### 7. Remove stopwords and punctuation (if there are any)."
   ]
  },
  {
   "cell_type": "code",
   "execution_count": 13,
   "metadata": {},
   "outputs": [
    {
     "name": "stdout",
     "output_type": "stream",
     "text": [
      "[['update', 'improvement'],\n",
      " ['mobile',\n",
      "  'battery',\n",
      "  'hell',\n",
      "  'backup',\n",
      "  'hour',\n",
      "  'us',\n",
      "  'idle',\n",
      "  'lie',\n",
      "  'amazon',\n",
      "  'lenove',\n",
      "  'battery',\n",
      "  'charger',\n",
      "  'hour'],\n",
      " ['cash'],\n",
      " [],\n",
      " ['phone', 'everthey', 'phone', 'problem', 'amazon', 'phone', 'amazon']]\n",
      "Wall time: 16.2 s\n"
     ]
    }
   ],
   "source": [
    "%%time\n",
    "review_no_sw = [[token for token in doc if token not in nltk.corpus.stopwords.words('english') \n",
    "                 and token.isalpha()] \n",
    "                for doc in review_lemmatized]\n",
    "pprint(review_no_sw[:5])"
   ]
  },
  {
   "cell_type": "markdown",
   "metadata": {},
   "source": [
    "#### 8. Create a topic model using LDA on the cleaned up data with 12 topics."
   ]
  },
  {
   "cell_type": "code",
   "execution_count": 15,
   "metadata": {},
   "outputs": [],
   "source": [
    "# Build a Dictionary - association word to numeric id\n",
    "dictionary = gensim.corpora.Dictionary(review_no_sw)\n",
    "# Transform the collection of texts to a numerical form\n",
    "corpus = [dictionary.doc2bow(text) for text in review_no_sw]"
   ]
  },
  {
   "cell_type": "code",
   "execution_count": 21,
   "metadata": {},
   "outputs": [],
   "source": [
    "NUM_TOPICS = 12\n",
    "lda_model = gensim.models.LdaModel(corpus=corpus, num_topics=NUM_TOPICS, id2word=dictionary)"
   ]
  },
  {
   "cell_type": "code",
   "execution_count": 22,
   "metadata": {},
   "outputs": [
    {
     "name": "stdout",
     "output_type": "stream",
     "text": [
      "LDA Model:\n",
      "('Topic #0: 0.141*\"battery\" + 0.076*\"problem\" + 0.066*\"phone\" + 0.063*\"camera\" '\n",
      " '+ 0.059*\"performance\" + 0.046*\"heating\" + 0.041*\"backup\" + 0.025*\"life\" + '\n",
      " '0.022*\"issue\" + 0.019*\"h\"')\n",
      "('Topic #1: 0.055*\"screen\" + 0.038*\"call\" + 0.035*\"superb\" + 0.032*\"app\" + '\n",
      " '0.027*\"camera\" + 0.023*\"android\" + 0.022*\"photo\" + 0.021*\"battery\" + '\n",
      " '0.020*\"stock\" + 0.019*\"apps\"')\n",
      "('Topic #2: 0.328*\"product\" + 0.049*\"amazon\" + 0.030*\"delivery\" + '\n",
      " '0.024*\"glass\" + 0.023*\"return\" + 0.018*\"service\" + 0.018*\"replacement\" + '\n",
      " '0.017*\"experience\" + 0.016*\"condition\" + 0.016*\"issue\"')\n",
      "('Topic #3: 0.459*\"phone\" + 0.038*\"problem\" + 0.023*\"handset\" + 0.019*\"box\" + '\n",
      " '0.019*\"piece\" + 0.012*\"gallery\" + 0.012*\"smartphone\" + 0.011*\"r\" + '\n",
      " '0.010*\"cable\" + 0.009*\"feature\"')\n",
      "('Topic #4: 0.051*\"time\" + 0.050*\"phone\" + 0.025*\"work\" + 0.022*\"video\" + '\n",
      " '0.020*\"earphone\" + 0.020*\"super\" + 0.019*\"data\" + 0.018*\"call\" + '\n",
      " '0.018*\"headphone\" + 0.017*\"day\"')\n",
      "('Topic #5: 0.300*\"mobile\" + 0.052*\"hai\" + 0.022*\"ho\" + 0.020*\"speaker\" + '\n",
      " '0.019*\"specification\" + 0.018*\"class\" + 0.016*\"phone\" + 0.014*\"buy\" + '\n",
      " '0.013*\"bill\" + 0.013*\"till\"')\n",
      "('Topic #6: 0.106*\"phone\" + 0.075*\"note\" + 0.043*\"service\" + 0.034*\"day\" + '\n",
      " '0.032*\"lenovo\" + 0.022*\"month\" + 0.016*\"amazon\" + 0.016*\"center\" + '\n",
      " '0.014*\"please\" + 0.014*\"model\"')\n",
      "('Topic #7: 0.092*\"charger\" + 0.083*\"battery\" + 0.069*\"hour\" + 0.053*\"device\" '\n",
      " '+ 0.046*\"charging\" + 0.038*\"charge\" + 0.037*\"heat\" + 0.033*\"turbo\" + '\n",
      " '0.027*\"day\" + 0.027*\"problem\"')\n",
      "('Topic #8: 0.085*\"phone\" + 0.076*\"issue\" + 0.063*\"lenovo\" + 0.062*\"network\" + '\n",
      " '0.053*\"feature\" + 0.028*\"update\" + 0.024*\"software\" + 0.024*\"volta\" + '\n",
      " '0.022*\"cast\" + 0.021*\"option\"')\n",
      "('Topic #9: 0.093*\"battery\" + 0.044*\"issue\" + 0.038*\"time\" + 0.038*\"phone\" + '\n",
      " '0.032*\"sim\" + 0.028*\"drain\" + 0.017*\"day\" + 0.017*\"network\" + 0.016*\"camera\" '\n",
      " '+ 0.015*\"problem\"')\n",
      "('Topic #10: 0.107*\"phone\" + 0.078*\"camera\" + 0.061*\"price\" + 0.044*\"quality\" '\n",
      " '+ 0.029*\"battery\" + 0.025*\"range\" + 0.022*\"mode\" + 0.020*\"feature\" + '\n",
      " '0.018*\"sound\" + 0.016*\"budget\"')\n",
      "('Topic #11: 0.189*\"camera\" + 0.081*\"quality\" + 0.076*\"money\" + 0.040*\"phone\" '\n",
      " '+ 0.032*\"value\" + 0.029*\"waste\" + 0.018*\"ram\" + 0.017*\"expectation\" + '\n",
      " '0.016*\"battery\" + 0.013*\"clarity\"')\n"
     ]
    }
   ],
   "source": [
    "print(\"LDA Model:\")\n",
    " \n",
    "for idx in range(NUM_TOPICS):\n",
    "    # Print the first 10 most representative topics\n",
    "    pprint(\"Topic #{}: {}\".format(idx, lda_model.print_topic(idx, 10)), compact=True)"
   ]
  },
  {
   "cell_type": "code",
   "execution_count": 23,
   "metadata": {},
   "outputs": [
    {
     "data": {
      "text/html": [
       "\n",
       "<link rel=\"stylesheet\" type=\"text/css\" href=\"https://cdn.rawgit.com/bmabey/pyLDAvis/files/ldavis.v1.0.0.css\">\n",
       "\n",
       "\n",
       "<div id=\"ldavis_el1552021999080172808844508275\"></div>\n",
       "<script type=\"text/javascript\">\n",
       "\n",
       "var ldavis_el1552021999080172808844508275_data = {\"mdsDat\": {\"x\": [0.13228002879238804, 0.11308180324813635, -0.009638501914985505, 0.025956273934778742, 0.10495088016991298, 0.03442464029253514, -0.20325699990468452, 0.05123178108513178, 0.027724675491040764, 0.08133987729658543, -0.05284237674838678, -0.3052520817424526], \"y\": [0.026600850022756473, -0.09664033860762361, 0.11845941436518971, -0.05771142810116078, -0.04007821104798845, 0.1218458139233728, 0.09467062116287805, 0.18998793671332379, 0.017959234251515924, -0.1135577908424277, -0.20413453581264754, -0.05740156602718873], \"topics\": [1, 2, 3, 4, 5, 6, 7, 8, 9, 10, 11, 12], \"cluster\": [1, 1, 1, 1, 1, 1, 1, 1, 1, 1, 1, 1], \"Freq\": [14.185735702514648, 12.0341215133667, 11.760621070861816, 8.920109748840332, 8.632637023925781, 7.471905708312988, 7.348303318023682, 6.867156028747559, 5.922179698944092, 5.871168613433838, 5.595561981201172, 5.390503883361816]}, \"tinfo\": {\"Term\": [\"product\", \"phone\", \"mobile\", \"camera\", \"battery\", \"charger\", \"money\", \"quality\", \"network\", \"problem\", \"hour\", \"issue\", \"heating\", \"lenovo\", \"price\", \"service\", \"performance\", \"screen\", \"amazon\", \"note\", \"backup\", \"hai\", \"device\", \"time\", \"call\", \"charging\", \"feature\", \"value\", \"charge\", \"heat\", \"nice\", \"drainage\", \"budget\", \"category\", \"access\", \"ui\", \"visit\", \"guess\", \"htc\", \"talk\", \"movie\", \"bhai\", \"size\", \"excellent\", \"launch\", \"disaster\", \"generation\", \"smartphones\", \"weight\", \"comapre\", \"theme\", \"pixel\", \"stop\", \"indicator\", \"chrome\", \"design\", \"brother\", \"band\", \"mp\", \"amazing\", \"segment\", \"thanks\", \"provider\", \"operating\", \"range\", \"price\", \"fingerprint\", \"average\", \"everything\", \"image\", \"mode\", \"edge\", \"body\", \"sound\", \"bit\", \"power\", \"depth\", \"sensor\", \"thing\", \"quality\", \"dolby\", \"camera\", \"display\", \"music\", \"phone\", \"star\", \"picture\", \"feature\", \"battery\", \"front\", \"system\", \"option\", \"note\", \"performance\", \"backup\", \"processing\", \"bekar\", \"pin\", \"effort\", \"clearity\", \"h\", \"bokeh\", \"ad\", \"diya\", \"jyada\", \"rock\", \"lag\", \"fake\", \"optimization\", \"ok\", \"difference\", \"yr\", \"camra\", \"right\", \"efficient\", \"recharge\", \"ease\", \"beast\", \"manner\", \"bhej\", \"powerfull\", \"hanging\", \"ha\", \"sensing\", \"field\", \"hr\", \"heating\", \"life\", \"backup\", \"performance\", \"build\", \"resolution\", \"problem\", \"battery\", \"gaming\", \"hang\", \"killer\", \"camera\", \"raha\", \"mah\", \"usage\", \"phone\", \"issue\", \"effect\", \"day\", \"speed\", \"time\", \"quality\", \"game\", \"charge\", \"heat\", \"note\", \"network\", \"month\", \"mode\", \"lot\", \"processor\", \"top\", \"centre\", \"mind\", \"series\", \"phon\", \"batter\", \"center\", \"bank\", \"loss\", \"doesnt\", \"repair\", \"id\", \"g\", \"minus\", \"water\", \"standard\", \"okay\", \"overheating\", \"rupee\", \"bottom\", \"fraud\", \"september\", \"isme\", \"sm\", \"car\", \"persist\", \"west\", \"discount\", \"motherboard\", \"degree\", \"brand\", \"hd\", \"sale\", \"exchange\", \"vibe\", \"model\", \"service\", \"version\", \"deal\", \"functionality\", \"note\", \"purchase\", \"please\", \"care\", \"defect\", \"customer\", \"month\", \"lenovo\", \"day\", \"number\", \"phone\", \"volume\", \"amazon\", \"nothing\", \"device\", \"speaker\", \"week\", \"replacement\", \"issue\", \"time\", \"problem\", \"screen\", \"feature\", \"battery\", \"call\", \"camera\", \"concern\", \"half\", \"strength\", \"percent\", \"sims\", \"lenova\", \"warm\", \"mast\", \"capture\", \"phn\", \"technician\", \"dust\", \"world\", \"paper\", \"ear\", \"vodafone\", \"wife\", \"stand\", \"aug\", \"ti\", \"msg\", \"scanner\", \"reception\", \"reboot\", \"drain\", \"shutter\", \"unlock\", \"socket\", \"photograph\", \"status\", \"connectivity\", \"airtel\", \"amount\", \"sim\", \"lte\", \"refund\", \"name\", \"jio\", \"signal\", \"min\", \"plz\", \"bar\", \"team\", \"battery\", \"time\", \"slot\", \"issue\", \"morning\", \"show\", \"site\", \"network\", \"support\", \"bug\", \"lot\", \"hour\", \"day\", \"phone\", \"use\", \"amazon\", \"problem\", \"call\", \"mobile\", \"camera\", \"card\", \"note\", \"return\", \"update\", \"tray\", \"zoom\", \"protection\", \"value\", \"cool\", \"space\", \"processer\", \"browsing\", \"group\", \"wrost\", \"reset\", \"go\", \"storage\", \"sort\", \"cash\", \"purpose\", \"folder\", \"motion\", \"suck\", \"curve\", \"cell\", \"expectation\", \"cpu\", \"duel\", \"variant\", \"money\", \"surfing\", \"combination\", \"feeling\", \"prise\", \"priority\", \"split\", \"gb\", \"waste\", \"photography\", \"deca\", \"camera\", \"ram\", \"quality\", \"clarity\", \"core\", \"mark\", \"cost\", \"management\", \"flash\", \"worth\", \"phone\", \"front\", \"card\", \"processor\", \"memory\", \"battery\", \"feature\", \"display\", \"product\", \"performance\", \"work\", \"video\", \"place\", \"volta\", \"detail\", \"awesome\", \"navigation\", \"smart\", \"manufacturing\", \"reality\", \"oct\", \"micromax\", \"cast\", \"trust\", \"bada\", \"vibration\", \"copy\", \"stuff\", \"technology\", \"future\", \"playing\", \"fan\", \"tv\", \"screenshot\", \"gesture\", \"bakwaas\", \"cheater\", \"connection\", \"packaging\", \"laptop\", \"gud\", \"earth\", \"seller\", \"network\", \"setting\", \"hotspot\", \"wifi\", \"end\", \"lenovo\", \"feature\", \"issue\", \"update\", \"software\", \"user\", \"option\", \"market\", \"screen\", \"phone\", \"rest\", \"call\", \"warranty\", \"lot\", \"problem\", \"note\", \"processor\", \"need\", \"system\", \"speed\", \"jio\", \"product\", \"camera\", \"data\", \"result\", \"complaint\", \"condition\", \"china\", \"fall\", \"bed\", \"bhut\", \"paisa\", \"pad\", \"bettry\", \"others\", \"koi\", \"aap\", \"thank\", \"step\", \"product\", \"trouble\", \"lena\", \"mat\", \"aspect\", \"trap\", \"page\", \"osm\", \"kharab\", \"miracast\", \"bilkul\", \"crack\", \"agent\", \"sabse\", \"glass\", \"share\", \"gorilla\", \"ye\", \"bhi\", \"return\", \"delivery\", \"dont\", \"ke\", \"amazon\", \"policy\", \"replacement\", \"experience\", \"application\", \"customer\", \"service\", \"date\", \"support\", \"heat\", \"rate\", \"price\", \"issue\", \"waste\", \"day\", \"time\", \"display\", \"quality\", \"phone\", \"lenovo\", \"icon\", \"adapter\", \"alarm\", \"yesterday\", \"battry\", \"usb\", \"round\", \"cable\", \"casting\", \"manager\", \"buying\", \"penny\", \"chromecast\", \"view\", \"october\", \"gamer\", \"menu\", \"book\", \"irritating\", \"awsome\", \"piece\", \"wireless\", \"fuction\", \"headset\", \"line\", \"camara\", \"head\", \"increase\", \"functioning\", \"bluetooth\", \"lack\", \"r\", \"box\", \"information\", \"brightness\", \"handset\", \"phone\", \"level\", \"gallery\", \"smartphone\", \"hell\", \"accessory\", \"problem\", \"delivery\", \"charger\", \"feature\", \"option\", \"photo\", \"month\", \"hardware\", \"speaker\", \"turbo\", \"everything\", \"software\", \"camera\", \"super\", \"pc\", \"v\", \"kiya\", \"office\", \"toh\", \"perfect\", \"limit\", \"ph\", \"messenger\", \"control\", \"tag\", \"download\", \"test\", \"mobail\", \"multimedia\", \"india\", \"window\", \"mila\", \"whatsapp\", \"whats\", \"visibility\", \"last\", \"gift\", \"thats\", \"zone\", \"colour\", \"adaptor\", \"shape\", \"earphone\", \"face\", \"offer\", \"tone\", \"second\", \"record\", \"notification\", \"function\", \"mail\", \"headphone\", \"key\", \"jack\", \"work\", \"suggestion\", \"data\", \"video\", \"time\", \"review\", \"night\", \"music\", \"worth\", \"light\", \"usage\", \"con\", \"call\", \"phone\", \"cam\", \"day\", \"issue\", \"card\", \"note\", \"internet\", \"speaker\", \"star\", \"battery\", \"jata\", \"someone\", \"graphic\", \"facility\", \"rom\", \"capacity\", \"recording\", \"discharge\", \"flashlight\", \"helio\", \"batery\", \"ghatiya\", \"asphalt\", \"nougat\", \"recorder\", \"joke\", \"guard\", \"style\", \"us\", \"gold\", \"idle\", \"auto\", \"lie\", \"sep\", \"lock\", \"net\", \"custom\", \"come\", \"dad\", \"object\", \"background\", \"shot\", \"superb\", \"item\", \"focus\", \"app\", \"medium\", \"android\", \"default\", \"file\", \"stock\", \"message\", \"screen\", \"photo\", \"apps\", \"call\", \"side\", \"touch\", \"voice\", \"wise\", \"processor\", \"today\", \"camera\", \"clarity\", \"battery\", \"performance\", \"time\", \"phone\", \"standby\", \"job\", \"mob\", \"draining\", \"patch\", \"fast\", \"pack\", \"fact\", \"position\", \"mobil\", \"news\", \"oreo\", \"suggest\", \"ota\", \"mention\", \"electronics\", \"charging\", \"charger\", \"family\", \"think\", \"heater\", \"ideal\", \"pls\", \"perfomance\", \"bcz\", \"prblm\", \"improvement\", \"november\", \"turbo\", \"camerabattery\", \"hour\", \"device\", \"charge\", \"heat\", \"drop\", \"use\", \"word\", \"system\", \"battery\", \"month\", \"update\", \"heating\", \"day\", \"problem\", \"mobile\", \"backup\", \"phone\", \"issue\", \"camera\", \"speed\", \"note\", \"comparison\", \"rha\", \"class\", \"hai\", \"kar\", \"ko\", \"gaya\", \"nhi\", \"hota\", \"ek\", \"packing\", \"mera\", \"ki\", \"thik\", \"hone\", \"bill\", \"department\", \"b\", \"pr\", \"hu\", \"idea\", \"example\", \"nahi\", \"mean\", \"bahut\", \"comment\", \"baad\", \"kr\", \"wow\", \"liye\", \"se\", \"mobile\", \"ho\", \"ka\", \"specification\", \"fine\", \"invoice\", \"par\", \"love\", \"till\", \"help\", \"sir\", \"buy\", \"speaker\", \"hi\", \"set\", \"order\", \"price\", \"phone\", \"feature\", \"company\", \"heat\", \"lenovo\"], \"Freq\": [2158.0, 6938.0, 1635.0, 3257.0, 3076.0, 485.0, 602.0, 1399.0, 581.0, 1489.0, 479.0, 1422.0, 584.0, 890.0, 924.0, 537.0, 842.0, 578.0, 560.0, 1196.0, 550.0, 233.0, 472.0, 962.0, 520.0, 234.0, 861.0, 230.0, 326.0, 382.0, 47.980926513671875, 41.28535079956055, 183.9619140625, 21.8436279296875, 19.752731323242188, 33.824790954589844, 18.36592674255371, 19.976173400878906, 17.150495529174805, 15.690898895263672, 16.135807037353516, 14.001677513122559, 31.204723358154297, 81.76651000976562, 10.600320816040039, 10.757044792175293, 9.657464027404785, 9.526634216308594, 43.59038162231445, 8.71689224243164, 8.174826622009277, 11.696167945861816, 23.962167739868164, 7.735274791717529, 8.11698055267334, 62.61063766479492, 6.9065470695495605, 6.890556335449219, 94.45873260498047, 6.80078649520874, 35.51464080810547, 94.25826263427734, 13.253743171691895, 12.747997283935547, 287.8307189941406, 692.0396118164062, 64.76103973388672, 57.71817398071289, 179.79013061523438, 101.92143249511719, 252.5494842529297, 33.37752914428711, 37.083553314208984, 204.92697143554688, 124.85256958007812, 91.30406951904297, 110.75300598144531, 99.08057403564453, 122.93616485595703, 506.2794494628906, 94.17823791503906, 888.4775390625, 164.40072631835938, 123.56439971923828, 1220.1029052734375, 84.23733520507812, 89.52388000488281, 223.98121643066406, 334.9970703125, 71.3887939453125, 76.93978118896484, 92.9532241821289, 122.90641784667969, 93.34701538085938, 78.51974487304688, 39.733882904052734, 24.352657318115234, 22.801673889160156, 19.960546493530273, 18.27373695373535, 186.81570434570312, 26.30101203918457, 16.118759155273438, 16.829532623291016, 14.678030967712402, 14.5322904586792, 95.00601196289062, 13.88298225402832, 12.294187545776367, 80.61508178710938, 25.071895599365234, 9.81709098815918, 9.322373390197754, 25.650733947753906, 8.697171211242676, 8.215787887573242, 8.387382507324219, 20.122173309326172, 8.882052421569824, 8.098012924194336, 7.712658405303955, 33.80056381225586, 6.301493167877197, 9.320338249206543, 5.350588321685791, 169.6780242919922, 441.8384094238281, 243.505615234375, 392.7447814941406, 572.0021362304688, 32.14168167114258, 45.68258285522461, 732.0638427734375, 1362.0533447265625, 43.31251907348633, 77.99817657470703, 60.15728759765625, 612.4334716796875, 25.357698440551758, 55.242027282714844, 80.6365966796875, 640.423583984375, 212.43817138671875, 48.120052337646484, 145.33370971679688, 71.12762451171875, 110.15506744384766, 123.2770004272461, 55.365699768066406, 65.06114959716797, 64.32002258300781, 78.19001007080078, 59.35926055908203, 55.85053634643555, 53.28910446166992, 49.068382263183594, 48.125160217285156, 44.28477478027344, 86.32891845703125, 38.894676208496094, 24.584884643554688, 22.685691833496094, 23.12348747253418, 150.16329956054688, 21.650089263916016, 21.225339889526367, 26.401081085205078, 19.00331687927246, 18.970905303955078, 18.58884048461914, 18.36907196044922, 18.109525680541992, 21.909496307373047, 15.61771011352539, 14.643925666809082, 16.781911849975586, 26.075544357299805, 13.827388763427734, 12.148447036743164, 11.771267890930176, 21.501941680908203, 11.596784591674805, 11.553912162780762, 11.23338508605957, 14.716907501220703, 12.020661354064941, 11.704605102539062, 83.75473022460938, 38.213233947753906, 77.79232788085938, 39.12128829956055, 32.65104675292969, 128.2828826904297, 406.9146728515625, 79.3119888305664, 34.69279861450195, 34.8609504699707, 705.4855346679688, 107.21601867675781, 135.00914001464844, 72.69258117675781, 34.59962844848633, 123.73529052734375, 210.14663696289062, 301.8236999511719, 318.5985107421875, 50.82666778564453, 1005.4178466796875, 56.490943908691406, 151.52984619140625, 53.8680419921875, 100.29975128173828, 89.49195098876953, 53.09489059448242, 61.41707992553711, 112.39058685302734, 95.27928161621094, 99.56367492675781, 68.76197814941406, 71.6785659790039, 87.75093078613281, 63.90471267700195, 59.10304641723633, 44.9237060546875, 35.83938980102539, 44.632484436035156, 38.55464172363281, 23.671159744262695, 30.741621017456055, 18.874610900878906, 17.928016662597656, 15.18761920928955, 38.118492126464844, 14.04454517364502, 13.951108932495117, 14.48672866821289, 31.519969940185547, 14.455945014953613, 11.697745323181152, 11.914497375488281, 16.08076286315918, 11.209193229675293, 10.997848510742188, 13.50079345703125, 14.480751037597656, 39.49073028564453, 11.369807243347168, 198.76536560058594, 10.120772361755371, 10.564178466796875, 9.78756046295166, 9.89464282989502, 15.76822566986084, 73.61561584472656, 16.43245506286621, 36.443458557128906, 226.83975219726562, 40.5560417175293, 90.95623016357422, 37.4647216796875, 107.77488708496094, 69.18160247802734, 81.06698608398438, 42.481510162353516, 33.77550506591797, 41.79399871826172, 664.641845703125, 273.65899658203125, 53.36330795288086, 316.5067138671875, 24.43454933166504, 22.052309036254883, 23.860462188720703, 118.5450210571289, 59.26864242553711, 42.35199737548828, 73.2874755859375, 89.5439224243164, 120.45857238769531, 271.3731689453125, 69.0839614868164, 80.10604858398438, 109.13604736328125, 77.61776733398438, 99.94874572753906, 113.2356948852539, 52.57223129272461, 55.971561431884766, 43.34739685058594, 43.752777099609375, 28.563072204589844, 28.383907318115234, 26.286529541015625, 221.93875122070312, 22.009143829345703, 38.87160873413086, 23.3438663482666, 24.959758758544922, 15.358576774597168, 18.17702865600586, 13.16161060333252, 13.056615829467773, 49.467830657958984, 11.334878921508789, 30.561721801757812, 10.597796440124512, 9.657796859741211, 19.6048526763916, 22.47732925415039, 8.862991333007812, 61.41509246826172, 119.19435119628906, 7.347874164581299, 9.041718482971191, 10.871817588806152, 525.5617065429688, 6.517661094665527, 6.255456447601318, 10.75716781616211, 6.01413631439209, 12.742610931396484, 14.134589195251465, 88.22488403320312, 200.96299743652344, 19.24978256225586, 47.19287872314453, 1311.436279296875, 124.1208724975586, 558.999755859375, 90.47178649902344, 62.23041534423828, 74.90674591064453, 40.357810974121094, 29.380508422851562, 42.416629791259766, 41.15320587158203, 275.39947509765625, 42.84040832519531, 45.011268615722656, 59.01137161254883, 37.729888916015625, 109.5054931640625, 70.05165100097656, 51.22675704956055, 69.41636657714844, 53.76776123046875, 38.94901657104492, 37.36384963989258, 29.557279586791992, 143.19827270507812, 27.339946746826172, 72.10615539550781, 16.286880493164062, 21.51836585998535, 13.14549446105957, 16.891616821289062, 12.509988784790039, 11.01122760772705, 134.3815155029297, 12.0399751663208, 10.561802864074707, 9.177908897399902, 16.6690673828125, 8.339666366577148, 14.661370277404785, 39.3631477355957, 8.938562393188477, 9.3300199508667, 50.833961486816406, 9.594754219055176, 15.495853424072266, 5.894289493560791, 5.877481460571289, 61.587703704833984, 8.449100494384766, 5.657763481140137, 44.9669189453125, 5.016205310821533, 28.336393356323242, 369.9379577636719, 29.471223831176758, 27.122392654418945, 51.76866149902344, 26.882375717163086, 375.46221923828125, 318.6403503417969, 457.9683532714844, 170.51231384277344, 144.2142333984375, 69.2314224243164, 125.53121948242188, 28.057788848876953, 123.01323699951172, 507.7120666503906, 28.33766746520996, 104.16974639892578, 32.49260330200195, 61.921539306640625, 118.33567810058594, 102.6728286743164, 55.33123779296875, 37.18913269042969, 42.49467086791992, 41.10033416748047, 35.68171310424805, 42.4657096862793, 44.014915466308594, 32.83439636230469, 48.30210876464844, 64.1406021118164, 94.12971496582031, 28.626365661621094, 30.4532527923584, 24.249752044677734, 21.393842697143555, 15.21047592163086, 13.307194709777832, 13.1815824508667, 30.517908096313477, 17.520355224609375, 14.974004745483398, 26.40862464904785, 8.718730926513672, 1936.189697265625, 15.972566604614258, 7.702139377593994, 10.24101448059082, 6.9588446617126465, 6.9580206871032715, 6.321900844573975, 5.847775936126709, 5.681125640869141, 4.574235439300537, 4.457586765289307, 13.598562240600586, 4.138573169708252, 4.596424579620361, 142.383544921875, 14.133223533630371, 73.58911895751953, 32.16017532348633, 41.52349090576172, 138.14695739746094, 178.65719604492188, 38.5533447265625, 17.377511978149414, 288.80767822265625, 63.817901611328125, 108.12702178955078, 98.71722412109375, 45.498626708984375, 70.87232971191406, 108.67938232421875, 33.256717681884766, 54.927032470703125, 71.73790740966797, 24.904800415039062, 84.24515533447266, 91.83352661132812, 41.00737762451172, 51.71476364135742, 51.10173034667969, 37.855716705322266, 44.063201904296875, 52.15627670288086, 31.503713607788086, 23.487333297729492, 19.448760986328125, 17.62645721435547, 31.323715209960938, 17.053611755371094, 16.611650466918945, 14.947668075561523, 56.38124084472656, 16.21814727783203, 19.27127456665039, 38.671966552734375, 12.550851821899414, 11.687625885009766, 14.198321342468262, 10.752534866333008, 13.062705039978027, 10.548657417297363, 11.796188354492188, 8.665183067321777, 9.805161476135254, 104.36763763427734, 9.264708518981934, 7.919945240020752, 43.83230209350586, 17.328990936279297, 7.417656898498535, 32.805660247802734, 6.635010719299316, 5.3243889808654785, 26.126731872558594, 18.63465690612793, 60.18059158325195, 104.41944122314453, 22.90199089050293, 44.852569580078125, 128.4390106201172, 2529.13427734375, 30.880781173706055, 63.96442794799805, 63.799964904785156, 22.502399444580078, 25.657567977905273, 208.07247924804688, 38.53462219238281, 43.78165817260742, 47.0465087890625, 35.7670783996582, 29.457218170166016, 36.01236343383789, 21.561630249023438, 30.415903091430664, 25.472509384155273, 25.783170700073242, 25.132585525512695, 24.92970085144043, 95.93641662597656, 30.23050308227539, 30.364627838134766, 23.93354034423828, 25.73787498474121, 22.79817771911621, 22.03155517578125, 18.77276039123535, 19.958309173583984, 16.457983016967773, 20.748950958251953, 14.76889419555664, 16.020429611206055, 21.369609832763672, 14.90778636932373, 12.800161361694336, 12.420137405395508, 15.286145210266113, 11.429254531860352, 39.364013671875, 13.263712882995605, 9.718061447143555, 9.575514793395996, 10.544060707092285, 9.250752449035645, 10.874411582946777, 23.029817581176758, 8.701180458068848, 9.015270233154297, 96.20006561279297, 28.31262969970703, 44.838680267333984, 18.68712043762207, 19.55492401123047, 20.87111473083496, 80.95478057861328, 75.76492309570312, 29.911359786987305, 83.5618896484375, 78.84452056884766, 30.141460418701172, 118.4062728881836, 35.44938278198242, 90.21099090576172, 103.52973175048828, 241.0095672607422, 75.34697723388672, 36.7777099609375, 82.09858703613281, 49.456539154052734, 56.3183479309082, 63.04814147949219, 37.209373474121094, 87.4438247680664, 238.97537231445312, 34.28300476074219, 82.57806396484375, 61.52548599243164, 37.94528579711914, 46.37831497192383, 33.708290100097656, 35.586822509765625, 32.63713836669922, 34.257354736328125, 41.45469284057617, 53.56412124633789, 39.281307220458984, 57.76833724975586, 26.457839965820312, 43.868228912353516, 65.43013763427734, 30.371917724609375, 19.09709930419922, 15.333364486694336, 12.286551475524902, 13.14872932434082, 12.896194458007812, 10.212890625, 56.2100944519043, 8.878792762756348, 20.00849723815918, 7.770638942718506, 7.952305793762207, 20.8818302154541, 8.998485565185547, 56.395469665527344, 6.6742634773254395, 6.740481376647949, 37.094154357910156, 30.161489486694336, 7.197757244110107, 5.196664810180664, 5.104654312133789, 5.096441745758057, 13.95004653930664, 42.901084899902344, 163.64195251464844, 58.35232925415039, 29.86473846435547, 152.88748168945312, 32.306495666503906, 109.2385025024414, 28.25786590576172, 24.900985717773438, 95.47249603271484, 63.499534606933594, 257.0204772949219, 102.5528335571289, 90.74375915527344, 179.9551544189453, 52.48793411254883, 52.894195556640625, 49.45682144165039, 31.180789947509766, 83.32269287109375, 34.15083694458008, 128.24783325195312, 45.44802474975586, 99.4055404663086, 65.58719635009766, 60.385005950927734, 46.603515625, 39.539764404296875, 24.050626754760742, 26.96108627319336, 44.1330451965332, 14.936959266662598, 69.28985595703125, 16.021949768066406, 12.58715534210205, 11.87232780456543, 12.433693885803223, 11.251785278320312, 55.94987869262695, 8.984110832214355, 8.612406730651855, 7.400770664215088, 7.468478679656982, 206.3426971435547, 413.63232421875, 5.335480690002441, 15.955657958984375, 4.473128318786621, 4.083064556121826, 63.46256637573242, 5.418903827667236, 4.291971683502197, 3.6153059005737305, 37.62525939941406, 2.6292054653167725, 147.3611297607422, 2.0318446159362793, 309.5242614746094, 238.89712524414062, 169.15721130371094, 166.1234588623047, 19.30768394470215, 101.05675506591797, 18.919437408447266, 57.421958923339844, 371.7105712890625, 110.38111877441406, 92.58928680419922, 98.9053726196289, 122.5958480834961, 121.1170425415039, 95.73008728027344, 57.61403274536133, 83.70125579833984, 46.516170501708984, 50.87744903564453, 22.105175018310547, 24.312240600585938, 30.009336471557617, 28.8154296875, 77.15441131591797, 224.58349609375, 22.579038619995117, 41.35535430908203, 19.661075592041016, 20.476850509643555, 29.084915161132812, 19.296295166015625, 19.45207405090332, 20.9332332611084, 32.22886276245117, 18.115982055664062, 17.837295532226562, 57.69451141357422, 16.15528106689453, 14.989494323730469, 16.31862449645996, 13.849955558776855, 25.385507583618164, 12.892067909240723, 28.92537498474121, 12.812575340270996, 29.3695125579834, 12.022162437438965, 11.185508728027344, 11.207479476928711, 13.117620468139648, 10.270466804504395, 31.93843650817871, 1298.3016357421875, 93.96996307373047, 26.208803176879883, 83.17729187011719, 33.59444808959961, 25.954360961914062, 26.061838150024414, 22.548494338989258, 55.1662483215332, 35.04460906982422, 27.178083419799805, 61.1873779296875, 87.0574951171875, 33.099876403808594, 35.61366271972656, 26.39625358581543, 46.608638763427734, 67.7502212524414, 42.824275970458984, 30.57144546508789, 32.81599807739258, 34.49686050415039], \"Total\": [2158.0, 6938.0, 1635.0, 3257.0, 3076.0, 485.0, 602.0, 1399.0, 581.0, 1489.0, 479.0, 1422.0, 584.0, 890.0, 924.0, 537.0, 842.0, 578.0, 560.0, 1196.0, 550.0, 233.0, 472.0, 962.0, 520.0, 234.0, 861.0, 230.0, 326.0, 382.0, 48.94895553588867, 42.31330871582031, 190.8634490966797, 22.805400848388672, 20.714540481567383, 35.548980712890625, 19.34358787536621, 21.15540885925293, 18.16351890563965, 16.65412712097168, 17.14657211303711, 14.963651657104492, 33.44443130493164, 88.38201904296875, 11.56210708618164, 11.747955322265625, 10.6192626953125, 10.488409042358398, 48.072635650634766, 9.67898941040039, 9.165102005004883, 13.133435249328613, 26.940725326538086, 8.697056770324707, 9.199088096618652, 71.2115249633789, 7.868312835693359, 7.852329730987549, 107.66387176513672, 7.7625508308410645, 40.57014083862305, 109.77373504638672, 15.137242317199707, 14.578773498535156, 357.3480224609375, 924.6630249023438, 80.63262939453125, 71.5935287475586, 251.63516235351562, 138.1002655029297, 377.570068359375, 41.666263580322266, 47.145729064941406, 322.82891845703125, 185.5342559814453, 135.23822021484375, 175.44395446777344, 167.2864532470703, 221.4779815673828, 1399.3477783203125, 161.53919982910156, 3257.384521484375, 356.7319030761719, 251.96493530273438, 6938.75, 157.1957244873047, 175.73020935058594, 861.412353515625, 3076.432861328125, 135.4884033203125, 187.2971649169922, 342.3286437988281, 1196.68310546875, 842.8007202148438, 550.7378540039062, 40.697418212890625, 25.316198348999023, 23.765274047851562, 20.924196243286133, 19.237274169921875, 197.0790252685547, 27.82526206970215, 17.082340240478516, 17.83912467956543, 15.641630172729492, 15.49590015411377, 101.5958023071289, 14.846570014953613, 13.25843334197998, 87.47174835205078, 27.321287155151367, 10.829544067382812, 10.285900115966797, 28.360275268554688, 9.678946495056152, 9.179374694824219, 9.372244834899902, 22.496673583984375, 9.930641174316406, 9.076282501220703, 8.676177024841309, 38.31692123413086, 7.265273094177246, 10.818320274353027, 6.314189434051514, 202.2633819580078, 584.28564453125, 331.3895568847656, 550.7378540039062, 842.8007202148438, 39.992454528808594, 62.35923385620117, 1489.9091796875, 3076.432861328125, 63.9213981628418, 135.32151794433594, 102.426025390625, 3257.384521484375, 35.33832931518555, 120.28507232666016, 219.58395385742188, 6938.75, 1422.45166015625, 114.53599548339844, 962.450439453125, 273.3955383300781, 962.3926391601562, 1399.3477783203125, 192.88824462890625, 326.85101318359375, 382.6670227050781, 1196.68310546875, 581.560546875, 519.31689453125, 377.570068359375, 287.98406982421875, 325.69525146484375, 45.28388595581055, 88.36919403076172, 39.928829193115234, 25.600109100341797, 23.639820098876953, 24.100669860839844, 156.63983154296875, 22.605512619018555, 22.179471969604492, 27.66493797302246, 19.962753295898438, 19.939891815185547, 19.542978286743164, 19.323535919189453, 19.111448287963867, 23.157360076904297, 16.571847915649414, 15.598055839538574, 17.890439987182617, 27.89542007446289, 14.79599666595459, 13.102580070495605, 12.72648811340332, 23.253278732299805, 12.550918579101562, 12.508122444152832, 12.18754768371582, 15.97050952911377, 13.07423210144043, 12.76739501953125, 91.65227508544922, 41.838905334472656, 87.11315155029297, 43.56023025512695, 36.266544342041016, 152.49591064453125, 537.0709838867188, 94.94924926757812, 39.60219192504883, 39.92778015136719, 1196.68310546875, 150.46609497070312, 203.63047790527344, 108.03260040283203, 42.946903228759766, 220.92713928222656, 519.31689453125, 890.9632568359375, 962.450439453125, 78.3989486694336, 6938.75, 99.43601989746094, 560.315673828125, 117.29088592529297, 472.8967590332031, 372.5913391113281, 125.7215805053711, 207.8306884765625, 1422.45166015625, 962.3926391601562, 1489.9091796875, 578.5184936523438, 861.412353515625, 3076.432861328125, 520.200927734375, 3257.384521484375, 45.883399963378906, 36.799068450927734, 45.9635009765625, 39.718048095703125, 24.630830764770508, 32.08921432495117, 19.872758865356445, 18.887678146362305, 16.14731788635254, 40.674560546875, 15.004261016845703, 14.910823822021484, 15.509952545166016, 33.86062240600586, 15.591951370239258, 12.65742301940918, 12.893890380859375, 17.451404571533203, 12.168895721435547, 11.957514762878418, 14.722118377685547, 15.796982765197754, 43.082176208496094, 12.406840324401855, 217.18038940429688, 11.097596168518066, 11.596405982971191, 10.74722957611084, 10.884407997131348, 17.453493118286133, 81.93424224853516, 18.303268432617188, 42.18109130859375, 291.32977294921875, 48.442420959472656, 116.30314636230469, 45.798004150390625, 153.70323181152344, 107.7406005859375, 131.11605834960938, 59.981719970703125, 46.34020233154297, 63.14471435546875, 3076.432861328125, 962.3926391601562, 99.90443420410156, 1422.45166015625, 32.83559799194336, 28.877717971801758, 32.91526794433594, 581.560546875, 172.4523162841797, 93.13471221923828, 287.98406982421875, 479.70928955078125, 962.450439453125, 6938.75, 299.35516357421875, 560.315673828125, 1489.9091796875, 520.200927734375, 1635.5267333984375, 3257.384521484375, 157.06166076660156, 1196.68310546875, 196.0842742919922, 424.9125061035156, 29.521507263183594, 29.37863540649414, 27.244964599609375, 230.4356689453125, 22.98952865600586, 40.62333297729492, 24.547853469848633, 26.335132598876953, 16.317096710205078, 19.40424919128418, 14.12002944946289, 14.015030860900879, 53.62604522705078, 12.31779956817627, 33.46141052246094, 11.615596771240234, 10.616211891174316, 21.634931564331055, 24.812347412109375, 9.821681022644043, 68.52100372314453, 134.45945739746094, 8.306355476379395, 10.22920036315918, 12.42520809173584, 602.7817993164062, 7.476105690002441, 7.213860511779785, 12.481207847595215, 6.994431972503662, 14.976432800292969, 16.690887451171875, 112.78758239746094, 278.28338623046875, 23.211885452270508, 64.87715148925781, 3257.384521484375, 214.314208984375, 1399.3477783203125, 174.58999633789062, 112.16989135742188, 171.64569091796875, 88.27468872070312, 56.85417938232422, 112.28868865966797, 112.13648986816406, 6938.75, 135.4884033203125, 157.06166076660156, 325.69525146484375, 118.87085723876953, 3076.432861328125, 861.412353515625, 356.7319030761719, 2158.5361328125, 842.8007202148438, 218.06056213378906, 240.29623413085938, 30.516929626464844, 149.00350952148438, 28.58597183227539, 76.02137756347656, 17.374889373779297, 23.008363723754883, 14.10513973236084, 18.15806007385254, 13.512371063232422, 11.970918655395508, 146.63258361816406, 13.144247055053711, 11.591399192810059, 10.137563705444336, 18.57063865661621, 9.299306869506836, 16.356353759765625, 44.254844665527344, 10.087294578552246, 10.736116409301758, 58.51093292236328, 11.127954483032227, 17.99285316467285, 6.853944778442383, 6.837120056152344, 71.85040283203125, 9.889104843139648, 6.625831604003906, 52.728206634521484, 5.9758453369140625, 36.916908264160156, 581.560546875, 39.58385467529297, 36.3771858215332, 78.49630737304688, 37.84825134277344, 890.9632568359375, 861.412353515625, 1422.45166015625, 424.9125061035156, 350.3856506347656, 141.17039489746094, 342.3286437988281, 44.53963851928711, 578.5184936523438, 6938.75, 51.356910705566406, 520.200927734375, 68.87879180908203, 287.98406982421875, 1489.9091796875, 1196.68310546875, 325.69525146484375, 114.49622344970703, 187.2971649169922, 273.3955383300781, 153.70323181152344, 2158.5361328125, 3257.384521484375, 193.34661865234375, 49.55126953125, 66.35945892333984, 97.4001693725586, 29.62164878845215, 31.561845779418945, 25.21370506286621, 22.394023895263672, 16.186540603637695, 14.294116020202637, 14.211997985839844, 33.077083587646484, 19.12232208251953, 16.388378143310547, 29.04523277282715, 9.682679176330566, 2158.5361328125, 17.817081451416016, 8.666143417358398, 11.649658203125, 7.922792911529541, 7.922069549560547, 7.2858757972717285, 6.811707019805908, 6.6451544761657715, 5.538326740264893, 5.4216227531433105, 16.54353904724121, 5.105216979980469, 5.691685676574707, 177.1345977783203, 17.602489471435547, 94.03215789794922, 40.73990249633789, 53.86919403076172, 196.0842742919922, 259.00347900390625, 53.24660873413086, 22.38521957397461, 560.315673828125, 105.59303283691406, 207.8306884765625, 242.42185974121094, 105.76148223876953, 220.92713928222656, 537.0709838867188, 70.55541229248047, 172.4523162841797, 382.6670227050781, 49.05985641479492, 924.6630249023438, 1422.45166015625, 278.28338623046875, 962.450439453125, 962.3926391601562, 356.7319030761719, 1399.3477783203125, 6938.75, 890.9632568359375, 24.45446014404297, 20.415884017944336, 18.593582153320312, 33.0543212890625, 18.020729064941406, 17.578805923461914, 15.915139198303223, 60.09049987792969, 17.298397064208984, 20.620586395263672, 41.6051025390625, 13.577452659606934, 12.654745101928711, 15.419050216674805, 11.730240821838379, 14.257412910461426, 11.515776634216309, 13.038445472717285, 9.634325981140137, 10.905189514160156, 116.09212493896484, 10.335134506225586, 8.910751342773438, 49.73310470581055, 19.66327667236328, 8.436767578125, 37.456146240234375, 7.663501739501953, 6.291522026062012, 30.935550689697266, 22.06706428527832, 75.76945495605469, 139.4896697998047, 28.30105209350586, 62.221290588378906, 213.55694580078125, 6938.75, 43.81825256347656, 112.21703338623047, 126.20555114746094, 30.98191261291504, 37.535804748535156, 1489.9091796875, 259.00347900390625, 485.9827575683594, 861.412353515625, 342.3286437988281, 189.5417938232422, 519.31689453125, 54.504119873046875, 372.5913391113281, 216.2725067138672, 251.63516235351562, 350.3856506347656, 3257.384521484375, 97.70800018310547, 31.256128311157227, 31.52815055847168, 24.950841903686523, 26.83746910095215, 23.876115798950195, 23.08911895751953, 19.732507705688477, 21.000896453857422, 17.45145606994629, 22.03876495361328, 15.728189468383789, 17.071088790893555, 22.782957077026367, 15.967181205749512, 13.75997257232666, 13.379417419433594, 16.538387298583984, 12.38857364654541, 42.73352813720703, 14.557989120483398, 10.678726196289062, 10.534791946411133, 11.630698204040527, 10.210039138793945, 12.0262451171875, 25.516462326049805, 9.660613059997559, 10.041184425354004, 107.20536041259766, 32.232513427734375, 53.04706573486328, 21.57686424255371, 23.18557357788086, 25.359966278076172, 118.6736831665039, 111.16786193847656, 38.51988983154297, 129.65328979492188, 123.03579711914062, 39.51863098144531, 218.06056213378906, 49.680809020996094, 193.34661865234375, 240.29623413085938, 962.3926391601562, 189.50759887695312, 64.9015121459961, 251.96493530273438, 112.13648986816406, 169.54591369628906, 219.58395385742188, 76.40454864501953, 520.200927734375, 6938.75, 76.36100006103516, 962.450439453125, 1422.45166015625, 157.06166076660156, 1196.68310546875, 107.1946029663086, 372.5913391113281, 157.1957244873047, 3076.432861328125, 42.41114807128906, 55.19780349731445, 40.501380920410156, 59.82477569580078, 27.834630966186523, 46.182804107666016, 68.95270538330078, 32.073402404785156, 20.193628311157227, 16.504642486572266, 13.257369041442871, 14.263750076293945, 14.10149097442627, 11.181520462036133, 62.18678283691406, 9.901629447937012, 22.381240844726562, 8.727021217346191, 9.010520935058594, 23.769004821777344, 10.259180068969727, 64.31292724609375, 7.630626201629639, 7.708686351776123, 42.492313385009766, 35.01581954956055, 8.440711975097656, 6.153055191040039, 6.061002254486084, 6.087578773498535, 16.781892776489258, 54.217124938964844, 218.35472106933594, 74.95083618164062, 37.48183822631836, 228.23036193847656, 42.397621154785156, 179.1888885498047, 39.06501770019531, 33.777828216552734, 168.68817138671875, 104.06861877441406, 578.5184936523438, 189.5417938232422, 190.50216674804688, 520.200927734375, 106.71798706054688, 109.8444595336914, 102.18706512451172, 50.603328704833984, 325.69525146484375, 65.9110107421875, 3257.384521484375, 174.58999633789062, 3076.432861328125, 842.8007202148438, 962.3926391601562, 6938.75, 40.88102340698242, 25.004058837890625, 28.457637786865234, 46.80636215209961, 15.901103019714355, 74.29558563232422, 17.184972763061523, 13.547253608703613, 12.836294174194336, 13.451053619384766, 12.226082801818848, 60.8346061706543, 9.943564414978027, 9.594045639038086, 8.354208946228027, 8.440478324890137, 234.96717834472656, 485.9827575683594, 6.303955554962158, 19.34522247314453, 5.426629066467285, 5.036686897277832, 79.27718353271484, 6.8960676193237305, 5.5896897315979, 4.7259345054626465, 51.067691802978516, 3.586974620819092, 216.2725067138672, 2.985339403152466, 479.70928955078125, 472.8967590332031, 326.85101318359375, 382.6670227050781, 32.00944519042969, 299.35516357421875, 37.20536804199219, 187.2971649169922, 3076.432861328125, 519.31689453125, 424.9125061035156, 584.28564453125, 962.450439453125, 1489.9091796875, 1635.5267333984375, 550.7378540039062, 6938.75, 1422.45166015625, 3257.384521484375, 273.3955383300781, 1196.68310546875, 30.96955680847168, 29.88735580444336, 80.0904312133789, 233.3933868408203, 23.549785614013672, 43.15609359741211, 20.632341384887695, 21.492202758789062, 30.531230926513672, 20.256505966186523, 20.422475814819336, 21.99599266052246, 33.90492248535156, 19.101163864135742, 18.80876922607422, 61.121742248535156, 17.11549186706543, 15.949694633483887, 17.376760482788086, 14.810155868530273, 27.257970809936523, 13.853403091430664, 31.085960388183594, 13.83102035522461, 31.7203311920166, 13.04367446899414, 12.152019500732422, 12.196976661682129, 14.294087409973145, 11.234170913696289, 35.7783203125, 1635.5267333984375, 109.96932983398438, 29.850627899169922, 109.75737762451172, 41.232059478759766, 31.726806640625, 32.137325286865234, 26.944067001342773, 103.44904327392578, 54.57231140136719, 37.940345764160156, 151.5615234375, 372.5913391113281, 59.8282470703125, 96.61433410644531, 46.44980239868164, 924.6630249023438, 6938.75, 861.412353515625, 134.74583435058594, 382.6670227050781, 890.9632568359375], \"Category\": [\"Default\", \"Default\", \"Default\", \"Default\", \"Default\", \"Default\", \"Default\", \"Default\", \"Default\", \"Default\", \"Default\", \"Default\", \"Default\", \"Default\", \"Default\", \"Default\", \"Default\", \"Default\", \"Default\", \"Default\", \"Default\", \"Default\", \"Default\", \"Default\", \"Default\", \"Default\", \"Default\", \"Default\", \"Default\", \"Default\", \"Topic1\", \"Topic1\", \"Topic1\", \"Topic1\", \"Topic1\", \"Topic1\", \"Topic1\", \"Topic1\", \"Topic1\", \"Topic1\", \"Topic1\", \"Topic1\", \"Topic1\", \"Topic1\", \"Topic1\", \"Topic1\", \"Topic1\", \"Topic1\", \"Topic1\", \"Topic1\", \"Topic1\", \"Topic1\", \"Topic1\", \"Topic1\", \"Topic1\", \"Topic1\", \"Topic1\", \"Topic1\", \"Topic1\", \"Topic1\", \"Topic1\", \"Topic1\", \"Topic1\", \"Topic1\", \"Topic1\", \"Topic1\", \"Topic1\", \"Topic1\", \"Topic1\", \"Topic1\", \"Topic1\", \"Topic1\", \"Topic1\", \"Topic1\", \"Topic1\", \"Topic1\", \"Topic1\", \"Topic1\", \"Topic1\", \"Topic1\", \"Topic1\", \"Topic1\", \"Topic1\", \"Topic1\", \"Topic1\", \"Topic1\", \"Topic1\", \"Topic1\", \"Topic1\", \"Topic1\", \"Topic1\", \"Topic1\", \"Topic1\", \"Topic1\", \"Topic1\", \"Topic2\", \"Topic2\", \"Topic2\", \"Topic2\", \"Topic2\", \"Topic2\", \"Topic2\", \"Topic2\", \"Topic2\", \"Topic2\", \"Topic2\", \"Topic2\", \"Topic2\", \"Topic2\", \"Topic2\", \"Topic2\", \"Topic2\", \"Topic2\", \"Topic2\", \"Topic2\", \"Topic2\", \"Topic2\", \"Topic2\", \"Topic2\", \"Topic2\", \"Topic2\", \"Topic2\", \"Topic2\", \"Topic2\", \"Topic2\", \"Topic2\", \"Topic2\", \"Topic2\", \"Topic2\", \"Topic2\", \"Topic2\", \"Topic2\", \"Topic2\", \"Topic2\", \"Topic2\", \"Topic2\", \"Topic2\", \"Topic2\", \"Topic2\", \"Topic2\", \"Topic2\", \"Topic2\", \"Topic2\", \"Topic2\", \"Topic2\", \"Topic2\", \"Topic2\", \"Topic2\", \"Topic2\", \"Topic2\", \"Topic2\", \"Topic2\", \"Topic2\", \"Topic2\", \"Topic2\", \"Topic2\", \"Topic2\", \"Topic3\", \"Topic3\", \"Topic3\", \"Topic3\", \"Topic3\", \"Topic3\", \"Topic3\", \"Topic3\", \"Topic3\", \"Topic3\", \"Topic3\", \"Topic3\", \"Topic3\", \"Topic3\", \"Topic3\", \"Topic3\", \"Topic3\", \"Topic3\", \"Topic3\", \"Topic3\", \"Topic3\", \"Topic3\", \"Topic3\", \"Topic3\", \"Topic3\", \"Topic3\", \"Topic3\", \"Topic3\", \"Topic3\", \"Topic3\", \"Topic3\", \"Topic3\", \"Topic3\", \"Topic3\", \"Topic3\", \"Topic3\", \"Topic3\", \"Topic3\", \"Topic3\", \"Topic3\", \"Topic3\", \"Topic3\", \"Topic3\", \"Topic3\", \"Topic3\", \"Topic3\", \"Topic3\", \"Topic3\", \"Topic3\", \"Topic3\", \"Topic3\", \"Topic3\", \"Topic3\", \"Topic3\", \"Topic3\", \"Topic3\", \"Topic3\", \"Topic3\", \"Topic3\", \"Topic3\", \"Topic3\", \"Topic3\", \"Topic3\", \"Topic3\", \"Topic3\", \"Topic3\", \"Topic4\", \"Topic4\", \"Topic4\", \"Topic4\", \"Topic4\", \"Topic4\", \"Topic4\", \"Topic4\", \"Topic4\", \"Topic4\", \"Topic4\", \"Topic4\", \"Topic4\", \"Topic4\", \"Topic4\", \"Topic4\", \"Topic4\", \"Topic4\", \"Topic4\", \"Topic4\", \"Topic4\", \"Topic4\", \"Topic4\", \"Topic4\", \"Topic4\", \"Topic4\", \"Topic4\", \"Topic4\", \"Topic4\", \"Topic4\", \"Topic4\", \"Topic4\", \"Topic4\", \"Topic4\", \"Topic4\", \"Topic4\", \"Topic4\", \"Topic4\", \"Topic4\", \"Topic4\", \"Topic4\", \"Topic4\", \"Topic4\", \"Topic4\", \"Topic4\", \"Topic4\", \"Topic4\", \"Topic4\", \"Topic4\", \"Topic4\", \"Topic4\", \"Topic4\", \"Topic4\", \"Topic4\", \"Topic4\", \"Topic4\", \"Topic4\", \"Topic4\", \"Topic4\", \"Topic4\", \"Topic4\", \"Topic4\", \"Topic4\", \"Topic4\", \"Topic4\", \"Topic4\", \"Topic4\", \"Topic5\", \"Topic5\", \"Topic5\", \"Topic5\", \"Topic5\", \"Topic5\", \"Topic5\", \"Topic5\", \"Topic5\", \"Topic5\", \"Topic5\", \"Topic5\", \"Topic5\", \"Topic5\", \"Topic5\", \"Topic5\", \"Topic5\", \"Topic5\", \"Topic5\", \"Topic5\", \"Topic5\", \"Topic5\", \"Topic5\", \"Topic5\", \"Topic5\", \"Topic5\", \"Topic5\", \"Topic5\", \"Topic5\", \"Topic5\", \"Topic5\", \"Topic5\", \"Topic5\", \"Topic5\", \"Topic5\", \"Topic5\", \"Topic5\", \"Topic5\", \"Topic5\", \"Topic5\", \"Topic5\", \"Topic5\", \"Topic5\", \"Topic5\", \"Topic5\", \"Topic5\", \"Topic5\", \"Topic5\", \"Topic5\", \"Topic5\", \"Topic5\", \"Topic5\", \"Topic5\", \"Topic5\", \"Topic5\", \"Topic5\", \"Topic5\", \"Topic5\", \"Topic6\", \"Topic6\", \"Topic6\", \"Topic6\", \"Topic6\", \"Topic6\", \"Topic6\", \"Topic6\", \"Topic6\", \"Topic6\", \"Topic6\", \"Topic6\", \"Topic6\", \"Topic6\", \"Topic6\", \"Topic6\", \"Topic6\", \"Topic6\", \"Topic6\", \"Topic6\", \"Topic6\", \"Topic6\", \"Topic6\", \"Topic6\", \"Topic6\", \"Topic6\", \"Topic6\", \"Topic6\", \"Topic6\", \"Topic6\", \"Topic6\", \"Topic6\", \"Topic6\", \"Topic6\", \"Topic6\", \"Topic6\", \"Topic6\", \"Topic6\", \"Topic6\", \"Topic6\", \"Topic6\", \"Topic6\", \"Topic6\", \"Topic6\", \"Topic6\", \"Topic6\", \"Topic6\", \"Topic6\", \"Topic6\", \"Topic6\", \"Topic6\", \"Topic6\", \"Topic6\", \"Topic6\", \"Topic6\", \"Topic6\", \"Topic6\", \"Topic6\", \"Topic6\", \"Topic6\", \"Topic7\", \"Topic7\", \"Topic7\", \"Topic7\", \"Topic7\", \"Topic7\", \"Topic7\", \"Topic7\", \"Topic7\", \"Topic7\", \"Topic7\", \"Topic7\", \"Topic7\", \"Topic7\", \"Topic7\", \"Topic7\", \"Topic7\", \"Topic7\", \"Topic7\", \"Topic7\", \"Topic7\", \"Topic7\", \"Topic7\", \"Topic7\", \"Topic7\", \"Topic7\", \"Topic7\", \"Topic7\", \"Topic7\", \"Topic7\", \"Topic7\", \"Topic7\", \"Topic7\", \"Topic7\", \"Topic7\", \"Topic7\", \"Topic7\", \"Topic7\", \"Topic7\", \"Topic7\", \"Topic7\", \"Topic7\", \"Topic7\", \"Topic7\", \"Topic7\", \"Topic7\", \"Topic7\", \"Topic7\", \"Topic7\", \"Topic7\", \"Topic7\", \"Topic7\", \"Topic7\", \"Topic7\", \"Topic7\", \"Topic7\", \"Topic7\", \"Topic7\", \"Topic8\", \"Topic8\", \"Topic8\", \"Topic8\", \"Topic8\", \"Topic8\", \"Topic8\", \"Topic8\", \"Topic8\", \"Topic8\", \"Topic8\", \"Topic8\", \"Topic8\", \"Topic8\", \"Topic8\", \"Topic8\", \"Topic8\", \"Topic8\", \"Topic8\", \"Topic8\", \"Topic8\", \"Topic8\", \"Topic8\", \"Topic8\", \"Topic8\", \"Topic8\", \"Topic8\", \"Topic8\", \"Topic8\", \"Topic8\", \"Topic8\", \"Topic8\", \"Topic8\", \"Topic8\", \"Topic8\", \"Topic8\", \"Topic8\", \"Topic8\", \"Topic8\", \"Topic8\", \"Topic8\", \"Topic8\", \"Topic8\", \"Topic8\", \"Topic8\", \"Topic8\", \"Topic8\", \"Topic8\", \"Topic8\", \"Topic8\", \"Topic8\", \"Topic8\", \"Topic8\", \"Topic8\", \"Topic8\", \"Topic9\", \"Topic9\", \"Topic9\", \"Topic9\", \"Topic9\", \"Topic9\", \"Topic9\", \"Topic9\", \"Topic9\", \"Topic9\", \"Topic9\", \"Topic9\", \"Topic9\", \"Topic9\", \"Topic9\", \"Topic9\", \"Topic9\", \"Topic9\", \"Topic9\", \"Topic9\", \"Topic9\", \"Topic9\", \"Topic9\", \"Topic9\", \"Topic9\", \"Topic9\", \"Topic9\", \"Topic9\", \"Topic9\", \"Topic9\", \"Topic9\", \"Topic9\", \"Topic9\", \"Topic9\", \"Topic9\", \"Topic9\", \"Topic9\", \"Topic9\", \"Topic9\", \"Topic9\", \"Topic9\", \"Topic9\", \"Topic9\", \"Topic9\", \"Topic9\", \"Topic9\", \"Topic9\", \"Topic9\", \"Topic9\", \"Topic9\", \"Topic9\", \"Topic9\", \"Topic9\", \"Topic9\", \"Topic9\", \"Topic9\", \"Topic9\", \"Topic9\", \"Topic9\", \"Topic9\", \"Topic9\", \"Topic9\", \"Topic9\", \"Topic9\", \"Topic10\", \"Topic10\", \"Topic10\", \"Topic10\", \"Topic10\", \"Topic10\", \"Topic10\", \"Topic10\", \"Topic10\", \"Topic10\", \"Topic10\", \"Topic10\", \"Topic10\", \"Topic10\", \"Topic10\", \"Topic10\", \"Topic10\", \"Topic10\", \"Topic10\", \"Topic10\", \"Topic10\", \"Topic10\", \"Topic10\", \"Topic10\", \"Topic10\", \"Topic10\", \"Topic10\", \"Topic10\", \"Topic10\", \"Topic10\", \"Topic10\", \"Topic10\", \"Topic10\", \"Topic10\", \"Topic10\", \"Topic10\", \"Topic10\", \"Topic10\", \"Topic10\", \"Topic10\", \"Topic10\", \"Topic10\", \"Topic10\", \"Topic10\", \"Topic10\", \"Topic10\", \"Topic10\", \"Topic10\", \"Topic10\", \"Topic10\", \"Topic10\", \"Topic10\", \"Topic10\", \"Topic10\", \"Topic10\", \"Topic10\", \"Topic10\", \"Topic10\", \"Topic11\", \"Topic11\", \"Topic11\", \"Topic11\", \"Topic11\", \"Topic11\", \"Topic11\", \"Topic11\", \"Topic11\", \"Topic11\", \"Topic11\", \"Topic11\", \"Topic11\", \"Topic11\", \"Topic11\", \"Topic11\", \"Topic11\", \"Topic11\", \"Topic11\", \"Topic11\", \"Topic11\", \"Topic11\", \"Topic11\", \"Topic11\", \"Topic11\", \"Topic11\", \"Topic11\", \"Topic11\", \"Topic11\", \"Topic11\", \"Topic11\", \"Topic11\", \"Topic11\", \"Topic11\", \"Topic11\", \"Topic11\", \"Topic11\", \"Topic11\", \"Topic11\", \"Topic11\", \"Topic11\", \"Topic11\", \"Topic11\", \"Topic11\", \"Topic11\", \"Topic11\", \"Topic11\", \"Topic11\", \"Topic11\", \"Topic11\", \"Topic11\", \"Topic12\", \"Topic12\", \"Topic12\", \"Topic12\", \"Topic12\", \"Topic12\", \"Topic12\", \"Topic12\", \"Topic12\", \"Topic12\", \"Topic12\", \"Topic12\", \"Topic12\", \"Topic12\", \"Topic12\", \"Topic12\", \"Topic12\", \"Topic12\", \"Topic12\", \"Topic12\", \"Topic12\", \"Topic12\", \"Topic12\", \"Topic12\", \"Topic12\", \"Topic12\", \"Topic12\", \"Topic12\", \"Topic12\", \"Topic12\", \"Topic12\", \"Topic12\", \"Topic12\", \"Topic12\", \"Topic12\", \"Topic12\", \"Topic12\", \"Topic12\", \"Topic12\", \"Topic12\", \"Topic12\", \"Topic12\", \"Topic12\", \"Topic12\", \"Topic12\", \"Topic12\", \"Topic12\", \"Topic12\", \"Topic12\", \"Topic12\", \"Topic12\", \"Topic12\", \"Topic12\"], \"logprob\": [30.0, 29.0, 28.0, 27.0, 26.0, 25.0, 24.0, 23.0, 22.0, 21.0, 20.0, 19.0, 18.0, 17.0, 16.0, 15.0, 14.0, 13.0, 12.0, 11.0, 10.0, 9.0, 8.0, 7.0, 6.0, 5.0, 4.0, 3.0, 2.0, 1.0, -5.469799995422363, -5.620100021362305, -4.125899791717529, -6.256700038909912, -6.3572998046875, -5.819399833679199, -6.430099964141846, -6.346099853515625, -6.498600006103516, -6.587500095367432, -6.559599876403809, -6.701399803161621, -5.900100231170654, -4.936800003051758, -6.979700088500977, -6.965099811553955, -7.07289981842041, -7.08650016784668, -5.565800189971924, -7.1753997802734375, -7.23960018157959, -6.881400108337402, -6.164100170135498, -7.2947998046875, -7.246699810028076, -5.203700065612793, -7.408199787139893, -7.4105000495910645, -4.792500019073486, -7.423600196838379, -5.770699977874756, -4.794600009918213, -6.75629997253418, -6.795300006866455, -3.678299903869629, -2.8010001182556152, -5.169899940490723, -5.285099983215332, -4.148799896240234, -4.716400146484375, -3.809000015258789, -5.832699775695801, -5.727499961853027, -4.01800012588501, -4.513500213623047, -4.826399803161621, -4.633299827575684, -4.744699954986572, -4.5289998054504395, -3.1135001182556152, -4.795400142669678, -2.551100015640259, -4.23829984664917, -4.523900032043457, -2.2339000701904297, -4.9070000648498535, -4.846099853515625, -3.9291000366210938, -3.5264999866485596, -5.072500228881836, -4.997600078582764, -4.808499813079834, -4.529200077056885, -4.804299831390381, -4.97730016708374, -5.493899822235107, -5.983500003814697, -6.049300193786621, -6.182400226593018, -6.270699977874756, -3.946000099182129, -5.906499862670898, -6.396200180053711, -6.353000164031982, -6.489799976348877, -6.499800205230713, -4.622200012207031, -6.545499801635742, -6.666999816894531, -4.786399841308594, -5.954400062561035, -6.892000198364258, -6.943699836730957, -5.931600093841553, -7.0131001472473145, -7.070099830627441, -7.0493998527526855, -6.174300193786621, -6.992099761962891, -7.084499835968018, -7.133299827575684, -5.655700206756592, -7.335299968719482, -6.943900108337402, -7.498899936676025, -4.042200088500977, -3.085200071334839, -3.680999994277954, -3.203000068664551, -2.8269999027252197, -5.705999851226807, -5.354400157928467, -2.5803000926971436, -1.9594000577926636, -5.407700061798096, -4.819399833679199, -5.07919979095459, -2.758699893951416, -5.9430999755859375, -5.164400100708008, -4.786200046539307, -2.7139999866485596, -3.817500114440918, -5.3024001121521, -4.1971001625061035, -4.9116997718811035, -4.4741997718811035, -4.361700057983398, -5.162199974060059, -5.000800132751465, -5.01230001449585, -4.816999912261963, -5.09250020980835, -5.153500080108643, -5.200399875640869, -5.282899856567383, -5.302299976348877, -5.362500190734863, -4.695000171661377, -5.492300033569336, -5.951000213623047, -6.031400203704834, -6.01230001449585, -4.14139986038208, -6.078100204467773, -6.097899913787842, -5.879700183868408, -6.208499908447266, -6.21019983291626, -6.230599880218506, -6.242499828338623, -6.256700038909912, -6.066199779510498, -6.404699802398682, -6.469099998474121, -6.332799911499023, -5.892099857330322, -6.526500225067139, -6.655900001525879, -6.6875, -6.085000038146973, -6.702400207519531, -6.706099987030029, -6.734300136566162, -6.464099884033203, -6.666500091552734, -6.69320011138916, -4.725299835205078, -5.510000228881836, -4.799099922180176, -5.486499786376953, -5.667300224304199, -4.298900127410889, -3.1445000171661377, -4.779799938201904, -5.606599807739258, -5.601799964904785, -2.5943000316619873, -4.478300094604492, -4.247799873352051, -4.8668999671936035, -5.609300136566162, -4.335000038146973, -3.805299997329712, -3.4433000087738037, -3.38919997215271, -5.224699974060059, -2.240000009536743, -5.119100093841553, -4.132400035858154, -5.166600227355957, -4.545000076293945, -4.658999919891357, -5.181099891662598, -5.0355000495910645, -4.43120002746582, -4.59630012512207, -4.552299976348877, -4.922500133514404, -4.88100004196167, -4.678599834442139, -4.995800018310547, -5.07390022277832, -5.071700096130371, -5.297599792480469, -5.078199863433838, -5.224599838256836, -5.712399959564209, -5.451099872589111, -5.938899993896484, -5.990300178527832, -6.156199932098389, -5.236000061035156, -6.234499931335449, -6.241099834442139, -6.203499794006348, -5.42609977722168, -6.205599784851074, -6.417300224304199, -6.398900032043457, -6.099100112915039, -6.460000038146973, -6.479000091552734, -6.273900032043457, -6.20389986038208, -5.2006001472473145, -6.445700168609619, -3.5845999717712402, -6.562099933624268, -6.519199848175049, -6.595600128173828, -6.584700107574463, -6.11870002746582, -4.5777997970581055, -6.077400207519531, -5.280900001525879, -3.452500104904175, -5.173999786376953, -4.366300106048584, -5.253300189971924, -4.196700096130371, -4.639999866485596, -4.481400012969971, -5.127600193023682, -5.35699987411499, -5.143899917602539, -2.3773999214172363, -3.2648000717163086, -4.899600028991699, -3.1194000244140625, -5.680699825286865, -5.783299922943115, -5.704500198364258, -4.101399898529053, -4.794600009918213, -5.13070011138916, -4.582300186157227, -4.381999969482422, -4.085400104522705, -3.273200035095215, -4.64139986038208, -4.493299961090088, -4.184100151062012, -4.524899959564209, -4.271999835968018, -4.147200107574463, -4.9145002365112305, -4.851900100708008, -5.107399940490723, -5.098100185394287, -5.491799831390381, -5.4980998039245605, -5.574900150299072, -3.441499948501587, -5.752500057220459, -5.183700084686279, -5.693600177764893, -5.626699924468994, -6.112299919128418, -5.94379997253418, -6.266600131988525, -6.274600028991699, -4.942599773406982, -6.416100025177002, -5.424200057983398, -6.48330020904541, -6.576200008392334, -5.868199825286865, -5.731400012969971, -6.662099838256836, -4.72629976272583, -4.063199996948242, -6.8495001792907715, -6.642099857330322, -6.457799911499023, -2.5794999599456787, -6.969399929046631, -7.010499954223633, -6.468400001525879, -7.049799919128418, -6.298999786376953, -6.195300102233887, -4.363999843597412, -3.540800094604492, -5.88640022277832, -4.989699840545654, -1.6650999784469604, -4.02269983291626, -2.5178000926971436, -4.338900089263916, -4.713099956512451, -4.527699947357178, -5.146200180053711, -5.463600158691406, -5.096399784088135, -5.1265997886657715, -3.2256999015808105, -5.08650016784668, -5.0370001792907715, -4.766200065612793, -5.213500022888184, -4.1479997634887695, -4.594699859619141, -4.907700061798096, -4.603799819946289, -4.859300136566162, -5.181700229644775, -5.223199844360352, -5.313199996948242, -3.735300064086914, -5.391200065612793, -4.42140007019043, -5.909200191497803, -5.6305999755859375, -6.123499870300293, -5.872700214385986, -6.172999858856201, -6.300600051879883, -3.7988998889923096, -6.211299896240234, -6.342299938201904, -6.482699871063232, -5.886000156402588, -6.578499794006348, -6.0142998695373535, -5.026700019836426, -6.509200096130371, -6.466300010681152, -4.770999908447266, -6.438300132751465, -5.959000110626221, -6.925600051879883, -6.928400039672852, -4.579100131988525, -6.565499782562256, -6.9664998054504395, -4.893599987030029, -7.086900234222412, -5.355400085449219, -2.7862000465393066, -5.316100120544434, -5.399199962615967, -4.752799987792969, -5.408100128173828, -2.771399974822998, -2.935499906539917, -2.572700023651123, -3.560699939727783, -3.7281999588012695, -4.462100028991699, -3.867000102996826, -5.365300178527832, -3.887200117111206, -2.469599962234497, -5.355299949645996, -4.053500175476074, -5.218500137329102, -4.573699951171875, -3.9260001182556152, -4.067999839782715, -4.686200141906738, -5.083499908447266, -4.950200080871582, -4.983500003814697, -5.124899864196777, -4.950799942016602, -4.914999961853027, -5.208099842071533, -4.8053998947143555, -4.5218000411987305, -4.138199806213379, -5.328499794006348, -5.26669979095459, -5.494500160217285, -5.619800090789795, -5.960899829864502, -6.094600200653076, -6.104000091552734, -5.264500141143799, -5.819499969482422, -5.976500034332275, -5.409200191497803, -6.517399787902832, -1.114400029182434, -5.9120001792907715, -6.64139986038208, -6.356500148773193, -6.742800235748291, -6.743000030517578, -6.838799953460693, -6.916800022125244, -6.945700168609619, -7.162399768829346, -7.188199996948242, -6.07289981842041, -7.262499809265137, -7.157599925994873, -3.724299907684326, -6.034299850463867, -4.384399890899658, -5.212100028991699, -4.956600189208984, -3.754499912261963, -3.4974000453948975, -5.030799865722656, -5.827700138092041, -3.0171000957489014, -4.526800155639648, -3.9995999336242676, -4.09060001373291, -4.865200042724609, -4.421999931335449, -3.994499921798706, -5.178599834442139, -4.6768999099731445, -4.409800052642822, -5.467800140380859, -4.249100208282471, -4.162899971008301, -4.969099998474121, -4.737100124359131, -4.749000072479248, -5.049099922180176, -4.897200107574463, -4.728600025177002, -5.232800006866455, -5.458700180053711, -5.64739990234375, -5.745699882507324, -5.17080020904541, -5.778800010681152, -5.804999828338623, -5.910600185394287, -4.583000183105469, -5.828999996185303, -5.656499862670898, -4.960000038146973, -6.085299968719482, -6.156599998474121, -5.961999893188477, -6.239999771118164, -6.045400142669678, -6.259099960327148, -6.14739990234375, -6.4558000564575195, -6.332200050354004, -3.9672000408172607, -6.388899803161621, -6.54580020904541, -4.834799766540527, -5.762800216674805, -6.611299991607666, -5.124499797821045, -6.722799777984619, -6.942800045013428, -5.352200031280518, -5.690100193023682, -4.5177998542785645, -3.9667000770568848, -5.48390007019043, -4.811800003051758, -3.759700059890747, -0.7795000076293945, -5.184999942779541, -4.4567999839782715, -4.459400177001953, -5.501500129699707, -5.370299816131592, -3.2772998809814453, -4.963600158691406, -4.835899829864502, -4.763999938964844, -5.038099765777588, -5.2322001457214355, -5.031300067901611, -5.5441999435424805, -5.200200080871582, -5.377500057220459, -5.3653998374938965, -5.390999794006348, -5.399099826812744, -3.90339994430542, -5.058199882507324, -5.053800106048584, -5.291800022125244, -5.219099998474121, -5.340400218963623, -5.374599933624268, -5.5346999168396, -5.473400115966797, -5.666299819946289, -5.434599876403809, -5.774600028991699, -5.69320011138916, -5.405099868774414, -5.765200138092041, -5.917600154876709, -5.947800159454346, -5.740099906921387, -6.030900001525879, -4.7941999435424805, -5.8821001052856445, -6.1930999755859375, -6.207900047302246, -6.111499786376953, -6.242400169372559, -6.080699920654297, -5.3302998542785645, -6.303599834442139, -6.268199920654297, -3.900700092315674, -5.123799800872803, -4.664000034332275, -5.539299964904785, -5.493899822235107, -5.428699970245361, -4.073200225830078, -4.139500141143799, -5.068900108337402, -4.041500091552734, -4.099599838256836, -5.061200141906738, -3.693000078201294, -4.89900016784668, -3.964900016784668, -3.827199935913086, -2.982300043106079, -4.144999980926514, -4.862199783325195, -4.059199810028076, -4.565999984741211, -4.436100006103516, -4.323200225830078, -4.850500106811523, -3.9960999488830566, -2.9907000064849854, -4.932400226593018, -4.053299903869629, -4.347599983215332, -4.830900192260742, -4.630300045013428, -4.9492998123168945, -4.895100116729736, -4.981599807739258, -4.933199882507324, -4.733799934387207, -4.47760009765625, -4.787700176239014, -4.4019999504089355, -5.1828999519348145, -4.677299976348877, -4.277500152587891, -5.044899940490723, -5.508900165557861, -5.728400230407715, -5.949900150299072, -5.8821001052856445, -5.901500225067139, -6.134799957275391, -4.429299831390381, -6.274799823760986, -5.462299823760986, -6.408100128173828, -6.385000228881836, -5.419600009918213, -6.26140022277832, -4.42609977722168, -6.560200214385986, -6.550300121307373, -4.84499979019165, -5.0518999099731445, -6.4847002029418945, -6.810400009155273, -6.8282999992370605, -6.829899787902832, -5.822999954223633, -4.69950008392334, -3.36080002784729, -4.391900062561035, -5.061800003051758, -3.4286999702453613, -4.9832000732421875, -3.764899969100952, -5.117099761962891, -5.243500232696533, -3.899600028991699, -4.307400226593018, -2.9093000888824463, -3.8280999660491943, -3.9504001140594482, -3.265700101852417, -4.497900009155273, -4.490099906921387, -4.557300090789795, -5.018599987030029, -4.035699844360352, -4.927700042724609, -3.6045000553131104, -4.641900062561035, -3.8592000007629395, -4.275100231170654, -4.357699871063232, -4.616799831390381, -4.733099937438965, -5.230199813842773, -5.116000175476074, -4.623199939727783, -5.706500053405762, -4.172100067138672, -5.63640022277832, -5.877699851989746, -5.936200141906738, -5.889999866485596, -5.989799976348877, -4.385900020599365, -6.214900016784668, -6.257199764251709, -6.40880012512207, -6.399700164794922, -3.0808000564575195, -2.3854000568389893, -6.736000061035156, -5.640500068664551, -6.912300109863281, -7.003499984741211, -4.259900093078613, -6.7204999923706055, -6.95359992980957, -7.125199794769287, -4.782700061798096, -7.443699836730957, -3.4175000190734863, -7.701399803161621, -2.675299882888794, -2.934299945831299, -3.2795000076293945, -3.297600030899048, -5.449900150299072, -3.7946999073028564, -5.470200061798096, -4.359899997711182, -2.4921998977661133, -3.706399917602539, -3.882200002670288, -3.816200017929077, -3.6015000343322754, -3.613600015640259, -3.84879994392395, -4.356599807739258, -3.983099937438965, -4.5706000328063965, -4.480899810791016, -5.314599990844727, -5.219399929046631, -4.971499919891357, -5.0121002197265625, -4.027200222015381, -2.9588000774383545, -5.25600004196167, -4.6508002281188965, -5.394400119781494, -5.353700160980225, -5.002799987792969, -5.413099765777588, -5.405099868774414, -5.331699848175049, -4.900199890136719, -5.476200103759766, -5.491700172424316, -4.31790018081665, -5.590799808502197, -5.6656999588012695, -5.580699920654297, -5.744699954986572, -5.138800144195557, -5.816400051116943, -5.008299827575684, -5.8225998878479, -4.993100166320801, -5.886300086975098, -5.958399772644043, -5.956399917602539, -5.799099922180176, -6.043799877166748, -4.909200191497803, -1.204200029373169, -3.8301000595092773, -5.106900215148926, -3.9521000385284424, -4.858699798583984, -5.116700172424316, -5.112599849700928, -5.257400035858154, -4.36269998550415, -4.816400051116943, -5.0706000328063965, -4.259099960327148, -3.9065001010894775, -4.873499870300293, -4.800300121307373, -5.099800109863281, -4.531199932098389, -4.157199859619141, -4.615900039672852, -4.953000068664551, -4.8821001052856445, -4.832200050354004], \"loglift\": [30.0, 29.0, 28.0, 27.0, 26.0, 25.0, 24.0, 23.0, 22.0, 21.0, 20.0, 19.0, 18.0, 17.0, 16.0, 15.0, 14.0, 13.0, 12.0, 11.0, 10.0, 9.0, 8.0, 7.0, 6.0, 5.0, 4.0, 3.0, 2.0, 1.0, 1.9329999685287476, 1.9283000230789185, 1.916100025177002, 1.9098000526428223, 1.905400037765503, 1.9032000303268433, 1.9011000394821167, 1.8955999612808228, 1.8954999446868896, 1.893399953842163, 1.892199993133545, 1.8865000009536743, 1.8835999965667725, 1.875100016593933, 1.8660999536514282, 1.864799976348877, 1.8580000400543213, 1.8567999601364136, 1.8551000356674194, 1.8481999635696411, 1.8386000394821167, 1.8370000123977661, 1.835800051689148, 1.8357000350952148, 1.8278000354766846, 1.8242000341415405, 1.82260000705719, 1.8222999572753906, 1.822100043296814, 1.8207000494003296, 1.8198000192642212, 1.8006000518798828, 1.820099949836731, 1.8186999559402466, 1.7366000413894653, 1.663100004196167, 1.7337000370025635, 1.7374999523162842, 1.6167000532150269, 1.6491999626159668, 1.5507999658584595, 1.7310999631881714, 1.7129000425338745, 1.4984999895095825, 1.5568000078201294, 1.5600999593734741, 1.492900013923645, 1.4292000532150269, 1.364300012588501, 0.9362999796867371, 1.4134000539779663, 0.6538000106811523, 1.1783000230789185, 1.240399956703186, 0.21469999849796295, 1.3291000127792358, 1.278499960899353, 0.60589998960495, -0.2644999921321869, 1.3121999502182007, 1.0633000135421753, 0.6492999792098999, -0.3230000138282776, -0.2475000023841858, 0.004999999888241291, 2.0934998989105225, 2.0785999298095703, 2.0759999752044678, 2.0703001022338867, 2.065999984741211, 2.0638999938964844, 2.0611000061035156, 2.0594000816345215, 2.0592000484466553, 2.053800106048584, 2.0532000064849854, 2.0504000186920166, 2.050299882888794, 2.0418999195098877, 2.035799980163574, 2.0315001010894775, 2.0192999839782715, 2.0190999507904053, 2.0169999599456787, 2.010499954223633, 2.006500005722046, 2.0064001083374023, 2.0058999061584473, 2.0058000087738037, 2.0034000873565674, 1.9996999502182007, 1.9919999837875366, 1.975100040435791, 1.968400001525879, 1.951799988746643, 1.9417999982833862, 1.8380000591278076, 1.8092999458312988, 1.7792999744415283, 1.7297999858856201, 1.898900032043457, 1.8062000274658203, 1.4068000316619873, 1.3026000261306763, 1.7281999588012695, 1.566499948501587, 1.5851999521255493, 0.44620001316070557, 1.7855000495910645, 1.3393000364303589, 1.1155999898910522, -0.2653000056743622, 0.2159000039100647, 1.2502000331878662, 0.22699999809265137, 0.7710000276565552, -0.05009999871253967, -0.31189998984336853, 0.8693000078201294, 0.5031999945640564, 0.33410000801086426, -0.6107000112533569, -0.1647000014781952, -0.11240000277757645, 0.15940000116825104, 0.34769999980926514, 0.2053000032901764, 2.1180999279022217, 2.1171000003814697, 2.1142001152038574, 2.099900007247925, 2.0992000102996826, 2.0989999771118164, 2.0982000827789307, 2.0971999168395996, 2.096400022506714, 2.0936999320983887, 2.091200113296509, 2.09060001373291, 2.090399980545044, 2.0897998809814453, 2.0866000652313232, 2.0850000381469727, 2.0810999870300293, 2.0773000717163086, 2.0764000415802, 2.0729000568389893, 2.072700023651123, 2.0648000240325928, 2.0624001026153564, 2.0620999336242676, 2.061300039291382, 2.0611000061035156, 2.0589001178741455, 2.0587000846862793, 2.0564000606536865, 2.053499937057495, 2.050299882888794, 2.049799919128418, 2.0271999835968018, 2.032900094985962, 2.035399913787842, 1.9674999713897705, 1.8629000186920166, 1.9605000019073486, 2.0081000328063965, 2.004699945449829, 1.6119999885559082, 1.8014999628067017, 1.7294000387191772, 1.7441999912261963, 1.924299955368042, 1.5607000589370728, 1.235700011253357, 1.0579999685287476, 1.0348999500274658, 1.7070000171661377, 0.2087000012397766, 1.5750000476837158, 0.8327000141143799, 1.3623000383377075, 0.5896999835968018, 0.7141000032424927, 1.27839994430542, 0.9214000105857849, -0.3977000117301941, -0.17219999432563782, -0.5652999877929688, 0.010599999688565731, -0.34599998593330383, -1.416599988937378, 0.04360000044107437, -1.86899995803833, 2.395699977874756, 2.390399932861328, 2.387500047683716, 2.3870999813079834, 2.3770999908447266, 2.374000072479248, 2.365299940109253, 2.3647000789642334, 2.355600118637085, 2.3519999980926514, 2.350800037384033, 2.3503000736236572, 2.348599910736084, 2.3452000617980957, 2.341200113296509, 2.3380000591278076, 2.337899923324585, 2.335099935531616, 2.334700107574463, 2.333199977874756, 2.3303000926971436, 2.329900026321411, 2.3297998905181885, 2.3296000957489014, 2.3282999992370605, 2.324700117111206, 2.3236000537872314, 2.3232998847961426, 2.321500062942505, 2.3152999877929688, 2.309799909591675, 2.309000015258789, 2.270699977874756, 2.166599988937378, 2.2392001152038574, 2.1710000038146973, 2.2160000801086426, 2.0618999004364014, 1.9738999605178833, 1.9361000061035156, 2.071899890899658, 2.100600004196167, 2.004199981689453, 0.8845999836921692, 1.1592999696731567, 1.7898000478744507, 0.9140999913215637, 2.121299982070923, 2.147200107574463, 2.095099925994873, 0.8263999819755554, 1.3487999439239502, 1.6288000345230103, 1.04830002784729, 0.7383999824523926, 0.33869999647140503, -0.8245000243186951, 0.9506000280380249, 0.4717000126838684, -0.19699999690055847, 0.5144000053405762, -0.3781999945640564, -0.942300021648407, 1.3223999738693237, -0.6456000208854675, 0.9075999855995178, 0.14350000023841858, 2.416599988937378, 2.4151999950408936, 2.413800001144409, 2.4119999408721924, 2.4059998989105225, 2.4054999351501465, 2.3993000984191895, 2.3959999084472656, 2.3891000747680664, 2.3842999935150146, 2.379300117492676, 2.3787999153137207, 2.3689000606536865, 2.366499900817871, 2.3589999675750732, 2.3578999042510986, 2.3550000190734863, 2.351099967956543, 2.350800037384033, 2.34689998626709, 2.340100049972534, 2.3290998935699463, 2.3269999027252197, 2.326200008392334, 2.3160998821258545, 2.3125, 2.3124001026153564, 2.3071000576019287, 2.3010001182556152, 2.2985999584198, 2.288100004196167, 2.283400058746338, 2.2039999961853027, 2.1240999698638916, 2.262500047683716, 2.1314001083374023, 1.5398000478744507, 1.90339994430542, 1.531999945640564, 1.792199969291687, 1.8603999614715576, 1.6203999519348145, 1.6670000553131104, 1.7894999980926514, 1.476099967956543, 1.4471999406814575, -0.7770000100135803, 1.298200011253357, 1.1999000310897827, 0.7414000034332275, 1.3020000457763672, -0.8859000205993652, -0.059700001031160355, 0.508899986743927, -0.9873999953269958, -0.30239999294281006, 0.7271000146865845, 0.5885000228881836, 2.5620999336242676, 2.55430006980896, 2.549499988555908, 2.541100025177002, 2.529400110244751, 2.527100086212158, 2.5236001014709473, 2.521699905395508, 2.516900062561035, 2.510499954223633, 2.5067999362945557, 2.5062999725341797, 2.500999927520752, 2.4946000576019287, 2.4860000610351562, 2.485100030899048, 2.484600067138672, 2.476900100708008, 2.473099946975708, 2.4535999298095703, 2.453399896621704, 2.4458000659942627, 2.4446001052856445, 2.44320011138916, 2.4428000450134277, 2.4398999214172363, 2.4365999698638916, 2.4361000061035156, 2.434799909591675, 2.4189999103546143, 2.3294999599456787, 2.1415998935699463, 2.2990000247955322, 2.3004000186920166, 2.177799940109253, 2.2518999576568604, 1.7299000024795532, 1.5994999408721924, 1.4607000350952148, 1.680899977684021, 1.7063000202178955, 1.881500005722046, 1.5908000469207764, 2.1319000720977783, 1.045799970626831, -0.020899999886751175, 1.999400019645691, 0.98580002784729, 1.8427000045776367, 1.0570000410079956, 0.06109999865293503, 0.13830000162124634, 0.821399986743927, 1.469499945640564, 1.110700011253357, 0.6991000175476074, 1.1335999965667725, -1.3344999551773071, -1.7101000547409058, 0.8209999799728394, 2.585200071334839, 2.57669997215271, 2.5764999389648438, 2.5764999389648438, 2.574899911880493, 2.571700096130371, 2.565000057220459, 2.5485000610351562, 2.5392000675201416, 2.535399913787842, 2.5302000045776367, 2.523200035095215, 2.520400047302246, 2.515500068664551, 2.5058000087738037, 2.502000093460083, 2.5013999938964844, 2.492799997329712, 2.481800079345703, 2.4809999465942383, 2.4809000492095947, 2.4688000679016113, 2.4581000804901123, 2.4539999961853027, 2.4193999767303467, 2.414900064468384, 2.4147000312805176, 2.4007999897003174, 2.3970000743865967, 2.3922998905181885, 2.391200065612793, 2.365600109100342, 2.3742001056671143, 2.350399971008301, 2.260499954223633, 2.239300012588501, 2.2878000736236572, 2.3575000762939453, 1.9479999542236328, 2.107100009918213, 1.9572999477386475, 1.7122999429702759, 1.767199993133545, 1.4737000465393066, 1.0130000114440918, 1.8586000204086304, 1.466599941253662, 0.9366000294685364, 1.9327000379562378, 0.2150000035762787, -0.12950000166893005, 0.6958000063896179, -0.31299999356269836, -0.3249000012874603, 0.3675000071525574, -0.8474000096321106, -2.279900074005127, -0.7315000295639038, 2.6380999088287354, 2.6298999786376953, 2.625, 2.6245999336242676, 2.623300075531006, 2.621799945831299, 2.6157000064849854, 2.6147000789642334, 2.6138999462127686, 2.6106998920440674, 2.605299949645996, 2.5998001098632812, 2.598900079727173, 2.595900058746338, 2.591399908065796, 2.59089994430542, 2.5906999111175537, 2.5782999992370605, 2.5724000930786133, 2.5720999240875244, 2.572000026702881, 2.5690999031066895, 2.560499906539917, 2.5520999431610107, 2.552000045776367, 2.5497000217437744, 2.5459001064300537, 2.5343000888824463, 2.5114998817443848, 2.509500026702881, 2.509399890899658, 2.4481000900268555, 2.3887999057769775, 2.4667000770568848, 2.351099967956543, 2.1700000762939453, 1.6691999435424805, 2.3285000324249268, 2.116300106048584, 1.9962999820709229, 2.358599901199341, 2.2980000972747803, 0.7098000049591064, 0.7731000185012817, 0.27149999141693115, -0.2290000021457672, 0.4196999967098236, 0.8166999816894531, 0.009800000116229057, 1.751099944114685, 0.1729000061750412, 0.5394999980926514, 0.4002000093460083, 0.04360000044107437, -2.194200038909912, 2.808199882507324, 2.793100118637085, 2.7888998985290527, 2.7848000526428223, 2.784600019454956, 2.7802999019622803, 2.779599905014038, 2.776599884033203, 2.7755000591278076, 2.767899990081787, 2.766200065612793, 2.7634999752044678, 2.7629001140594482, 2.762399911880493, 2.7578001022338867, 2.754199981689453, 2.7520999908447266, 2.7476999759674072, 2.7458999156951904, 2.74429988861084, 2.7334001064300537, 2.7321999073028564, 2.7309999465942383, 2.7283999919891357, 2.727799892425537, 2.725800037384033, 2.723900079727173, 2.72189998626709, 2.7186999320983887, 2.718100070953369, 2.6967999935150146, 2.658400058746338, 2.6826999187469482, 2.6561999320983887, 2.631700038909912, 2.444000005722046, 2.4430999755859375, 2.573499917984009, 2.387200117111206, 2.381500005722046, 2.5555999279022217, 2.2158000469207764, 2.489000082015991, 2.0641000270843506, 1.9845000505447388, 1.4419000148773193, 1.904099941253662, 2.258500099182129, 1.7051000595092773, 2.0078001022338867, 1.7244000434875488, 1.5786000490188599, 2.1070001125335693, 1.0432000160217285, -0.5421000123023987, 2.025599956512451, 0.37070000171661377, -0.3142000138759613, 1.406000018119812, -0.42399999499320984, 1.669600009918213, 0.4779999852180481, 1.2544000148773193, -1.6712000370025635, 2.812299966812134, 2.8050999641418457, 2.804500102996826, 2.800100088119507, 2.78439998626709, 2.7836999893188477, 2.7827000617980957, 2.780600070953369, 2.7792999744415283, 2.7614998817443848, 2.7590999603271484, 2.753700017929077, 2.745800018310547, 2.744499921798706, 2.734100103378296, 2.726099967956543, 2.723099946975708, 2.7190001010894775, 2.710200071334839, 2.7056000232696533, 2.7039999961853027, 2.703700065612793, 2.701200008392334, 2.700900077819824, 2.6993000507354736, 2.6858999729156494, 2.675800085067749, 2.6661999225616455, 2.6633999347686768, 2.657399892807007, 2.6503000259399414, 2.6010000705718994, 2.5467000007629395, 2.5848000049591064, 2.6078999042510986, 2.434499979019165, 2.5632998943328857, 2.3401999473571777, 2.5113000869750977, 2.5302000045776367, 2.265899896621704, 2.341099977493286, 2.0237998962402344, 2.220900058746338, 2.0934998989105225, 1.7735999822616577, 2.125499963760376, 2.104300022125244, 2.1094000339508057, 2.3508999347686768, 1.4718999862670898, 2.1775999069213867, -0.39959999918937683, 1.4891999959945679, -0.5971999764442444, 0.2818000018596649, 0.06639999896287918, -2.168100118637085, 2.8498001098632812, 2.8443000316619873, 2.829200029373169, 2.824399948120117, 2.8206000328063965, 2.8134000301361084, 2.8131000995635986, 2.8097000122070312, 2.8050999641418457, 2.804500102996826, 2.8001999855041504, 2.799499988555908, 2.7816998958587646, 2.7753000259399414, 2.76200008392334, 2.7607998847961426, 2.7532999515533447, 2.7219998836517334, 2.716399908065796, 2.6905999183654785, 2.690000057220459, 2.67330002784729, 2.6607000827789307, 2.6421000957489014, 2.61899995803833, 2.615299940109253, 2.577699899673462, 2.5725998878479004, 2.499500036239624, 2.4983999729156494, 2.4451000690460205, 2.2004001140594482, 2.2244999408721924, 2.048799991607666, 2.377700090408325, 1.7971999645233154, 2.206899881362915, 1.7008999586105347, 0.7698000073432922, 1.3345999717712402, 1.3595000505447388, 1.1069999933242798, 0.8226000070571899, 0.3734999895095825, 0.04500000178813934, 0.6256999969482422, -1.5343999862670898, -0.5371000170707703, -1.2761000394821167, 0.36809998750686646, -1.013100028038025, 2.8889999389648438, 2.884000062942505, 2.88319993019104, 2.8821001052856445, 2.8784000873565674, 2.8778998851776123, 2.872299909591675, 2.8721001148223877, 2.871999979019165, 2.871999979019165, 2.871799945831299, 2.871000051498413, 2.869800090789795, 2.8675999641418457, 2.867500066757202, 2.862799882888794, 2.862799882888794, 2.8584001064300537, 2.8577001094818115, 2.8534998893737793, 2.849400043487549, 2.848599910736084, 2.8485000133514404, 2.8440001010894775, 2.8434998989105225, 2.8389999866485596, 2.8376998901367188, 2.835900068283081, 2.8345999717712402, 2.8308000564575195, 2.806999921798706, 2.6895999908447266, 2.7632999420166016, 2.7904000282287598, 2.643199920654297, 2.7156999111175537, 2.7197000980377197, 2.7109999656677246, 2.7423999309539795, 2.291800022125244, 2.47760009765625, 2.586899995803833, 2.0134999752044678, 1.466599941253662, 2.3285999298095703, 1.9225000143051147, 2.3554000854492188, -0.06710000336170197, -1.7085000276565552, -0.08089999854564667, 1.4371999502182007, 0.4643000066280365, -0.33090001344680786]}, \"token.table\": {\"Topic\": [3, 7, 1, 8, 9, 2, 8, 9, 7, 2, 4, 8, 1, 1, 2, 3, 4, 5, 6, 7, 8, 10, 11, 12, 3, 4, 1, 3, 4, 5, 6, 9, 10, 12, 1, 2, 3, 4, 5, 6, 7, 9, 10, 1, 2, 3, 4, 6, 7, 8, 9, 1, 2, 3, 4, 7, 8, 9, 10, 12, 7, 10, 4, 3, 10, 1, 2, 3, 12, 2, 5, 6, 8, 12, 12, 1, 5, 10, 1, 2, 3, 4, 5, 7, 8, 9, 10, 11, 6, 2, 12, 6, 1, 3, 4, 9, 10, 3, 1, 2, 3, 4, 5, 6, 7, 8, 9, 10, 11, 12, 8, 11, 2, 6, 7, 2, 7, 1, 2, 2, 7, 7, 7, 3, 6, 12, 1, 2, 3, 4, 8, 10, 1, 3, 8, 1, 3, 7, 8, 9, 2, 10, 8, 3, 1, 3, 7, 8, 9, 10, 11, 12, 1, 2, 3, 5, 9, 1, 5, 7, 8, 9, 1, 5, 1, 3, 12, 1, 2, 3, 4, 5, 2, 4, 5, 7, 10, 1, 2, 3, 5, 7, 8, 12, 8, 10, 3, 8, 9, 1, 2, 3, 4, 5, 6, 7, 9, 10, 12, 1, 5, 9, 8, 1, 2, 3, 4, 5, 6, 7, 8, 9, 10, 11, 12, 11, 2, 3, 8, 10, 4, 3, 1, 2, 4, 5, 6, 8, 9, 12, 1, 3, 4, 6, 7, 9, 5, 8, 4, 6, 8, 9, 8, 1, 1, 5, 9, 1, 3, 6, 1, 3, 1, 2, 3, 4, 5, 7, 8, 9, 10, 11, 12, 1, 3, 4, 5, 8, 9, 10, 11, 12, 1, 2, 3, 4, 5, 6, 8, 9, 10, 11, 6, 7, 1, 8, 1, 2, 3, 4, 5, 8, 9, 10, 2, 11, 12, 2, 3, 4, 9, 1, 5, 10, 12, 1, 2, 3, 4, 5, 10, 11, 12, 12, 1, 7, 1, 2, 3, 4, 7, 9, 4, 1, 2, 7, 9, 2, 4, 6, 8, 4, 5, 9, 5, 6, 7, 1, 3, 4, 5, 6, 7, 10, 12, 3, 5, 7, 5, 3, 7, 5, 10, 1, 3, 4, 5, 6, 7, 8, 9, 11, 10, 1, 2, 3, 4, 6, 8, 9, 10, 3, 4, 7, 9, 11, 12, 1, 2, 3, 4, 5, 6, 7, 8, 9, 10, 11, 3, 7, 9, 4, 5, 10, 12, 3, 5, 8, 10, 3, 4, 6, 3, 1, 2, 3, 5, 6, 7, 8, 9, 10, 11, 12, 1, 2, 3, 5, 7, 10, 1, 2, 5, 6, 9, 6, 1, 2, 3, 4, 5, 6, 7, 8, 9, 10, 11, 12, 2, 3, 1, 10, 3, 1, 2, 3, 4, 5, 6, 7, 9, 10, 2, 3, 1, 2, 3, 4, 10, 12, 1, 2, 3, 4, 6, 7, 9, 10, 9, 1, 2, 3, 4, 5, 6, 9, 1, 4, 11, 7, 9, 11, 5, 4, 4, 1, 3, 5, 8, 9, 10, 12, 6, 2, 1, 5, 10, 1, 2, 3, 4, 5, 8, 10, 11, 2, 2, 12, 11, 2, 6, 1, 6, 7, 8, 9, 11, 12, 12, 1, 2, 12, 3, 4, 2, 3, 4, 5, 6, 7, 8, 9, 12, 1, 2, 3, 4, 5, 6, 7, 8, 9, 10, 11, 12, 2, 9, 7, 10, 11, 2, 7, 11, 6, 2, 4, 10, 11, 1, 2, 3, 4, 5, 6, 7, 8, 9, 10, 11, 12, 3, 5, 2, 4, 7, 9, 10, 3, 4, 8, 12, 1, 4, 5, 6, 9, 1, 2, 4, 5, 9, 10, 10, 1, 10, 5, 3, 1, 2, 3, 4, 5, 9, 10, 8, 1, 2, 3, 4, 9, 1, 3, 9, 8, 3, 6, 3, 1, 2, 3, 4, 6, 8, 1, 2, 3, 4, 5, 6, 7, 8, 9, 10, 11, 8, 1, 2, 3, 4, 5, 6, 12, 4, 5, 7, 10, 1, 1, 6, 10, 9, 1, 4, 5, 7, 12, 5, 7, 10, 1, 4, 5, 7, 12, 10, 5, 1, 10, 4, 6, 9, 1, 2, 6, 2, 2, 7, 9, 12, 4, 1, 2, 3, 4, 5, 7, 8, 9, 10, 12, 1, 2, 3, 4, 6, 7, 9, 12, 2, 3, 1, 2, 3, 6, 8, 10, 2, 3, 7, 1, 8, 9, 1, 4, 8, 9, 3, 8, 1, 2, 3, 4, 5, 6, 7, 8, 9, 11, 12, 11, 1, 2, 3, 4, 5, 6, 7, 9, 10, 11, 10, 3, 5, 7, 8, 4, 11, 12, 2, 4, 7, 9, 10, 12, 2, 7, 10, 12, 12, 7, 12, 6, 10, 12, 1, 2, 3, 4, 5, 6, 7, 9, 10, 11, 12, 1, 2, 3, 4, 5, 6, 9, 10, 1, 12, 8, 3, 2, 12, 11, 10, 1, 2, 4, 6, 8, 9, 2, 3, 11, 8, 9, 1, 1, 8, 1, 2, 3, 4, 5, 8, 9, 11, 4, 6, 12, 8, 3, 1, 2, 3, 4, 5, 6, 7, 8, 9, 10, 11, 12, 2, 4, 6, 7, 9, 10, 11, 1, 3, 5, 6, 8, 9, 10, 10, 1, 2, 4, 6, 9, 11, 10, 2, 9, 12, 12, 2, 4, 7, 9, 1, 3, 4, 6, 9, 7, 2, 12, 1, 2, 3, 6, 8, 9, 9, 12, 3, 7, 12, 1, 5, 7, 8, 1, 2, 3, 5, 6, 6, 9, 1, 7, 4, 1, 2, 3, 4, 5, 6, 7, 8, 9, 10, 11, 12, 1, 3, 4, 8, 10, 1, 2, 3, 4, 5, 6, 8, 9, 10, 12, 1, 2, 3, 4, 5, 8, 9, 10, 11, 9, 4, 8, 12, 1, 5, 9, 10, 3, 1, 2, 4, 5, 6, 7, 8, 9, 10, 6, 12, 4, 7, 9, 1, 2, 3, 4, 5, 6, 8, 9, 10, 6, 9, 1, 3, 4, 5, 9, 10, 8, 2, 6, 1, 2, 3, 4, 5, 7, 8, 10, 1, 4, 6, 8, 10, 4, 7, 12, 1, 8, 10, 1, 2, 3, 4, 5, 6, 8, 9, 11, 8, 12, 1, 4, 5, 10, 9, 6, 9, 2, 3, 4, 9, 10, 3, 3, 7, 11, 9, 11, 1, 2, 3, 4, 5, 6, 7, 8, 9, 10, 11, 12, 1, 2, 3, 4, 5, 7, 9, 10, 11, 12, 1, 3, 4, 5, 7, 8, 1, 2, 3, 4, 5, 6, 7, 8, 9, 11, 12, 1, 2, 3, 4, 5, 6, 7, 8, 9, 11, 12, 2, 3, 4, 11, 3, 1, 5, 1, 1, 2, 3, 4, 6, 11, 4, 9, 1, 3, 4, 5, 6, 8, 9, 10, 4, 12, 1, 3, 4, 5, 6, 1, 2, 3, 4, 5, 6, 7, 9, 10, 12, 5, 10, 1, 2, 3, 4, 5, 6, 7, 8, 9, 11, 12, 1, 1, 3, 4, 9, 1, 2, 3, 4, 5, 6, 7, 8, 9, 10, 11, 12, 1, 2, 3, 4, 5, 6, 7, 1, 2, 3, 4, 6, 7, 8, 9, 10, 10, 11, 3, 4, 6, 9, 10, 6, 8, 2, 3, 9, 9, 1, 2, 3, 11, 3, 1, 3, 2, 1, 3, 4, 5, 6, 8, 9, 10, 7, 8, 12, 2, 3, 4, 11, 7, 11, 1, 4, 7, 3, 11, 2, 6, 12, 7, 7, 7, 4, 10, 2, 12, 11, 9, 8, 4, 9, 11, 1, 2, 3, 4, 5, 6, 7, 8, 9, 10, 11, 3, 9, 1, 4, 3, 1, 2, 3, 4, 5, 6, 7, 8, 9, 10, 11, 12, 1, 3, 4, 5, 7, 8, 9, 10, 4, 2, 5, 8, 1, 2, 5, 8, 9, 10, 3, 7, 8, 9, 10, 11, 2, 1, 8, 6, 6, 1, 2, 3, 4, 5, 6, 7, 12, 2, 3, 4, 5, 6, 11, 2, 4, 5, 6, 10, 3, 4, 6, 7, 8, 12, 11, 1, 2, 3, 4, 9, 10, 2, 12, 11, 1, 2, 3, 4, 5, 6, 7, 9, 10, 11, 12, 3, 4, 5, 5, 1, 2, 3, 4, 5, 6, 7, 8, 9, 10, 11, 12, 5, 2, 1, 2, 3, 4, 5, 6, 8, 9, 10, 12, 1, 2, 3, 4, 5, 6, 7, 8, 9, 10, 11, 12, 5, 1, 2, 1, 3, 4, 6, 7, 8, 9, 11, 12, 5, 1, 2, 3, 4, 5, 6, 7, 8, 9, 10, 11, 12, 3, 4, 8, 9, 2, 10, 1, 2, 3, 4, 5, 6, 7, 10, 12, 1, 2, 3, 4, 5, 6, 7, 8, 10, 12, 2, 3, 7, 6, 4, 3, 4, 6, 2, 8, 9, 3, 4, 6, 10, 3, 10, 4, 6, 9, 12, 3, 1, 3, 4, 5, 7, 8, 9, 12, 5, 1, 2, 4, 4, 5, 6, 10, 7, 3, 4, 7, 8, 12, 2, 3, 4, 5, 6, 7, 8, 9, 11, 12, 12, 2, 6, 2, 10, 8, 3, 7, 3, 4, 6, 10, 4, 1, 2, 3, 4, 5, 6, 7, 8, 9, 10, 3, 6, 2, 7, 12, 4, 9, 1, 3, 5, 2, 6, 7, 11, 2, 3, 1, 3, 4, 5, 6, 9, 10, 12, 10, 3, 3, 1, 3, 4, 5, 6, 7, 8, 9, 11, 12, 2, 3, 4, 7, 12, 1, 2, 5, 6, 9, 3, 7, 1, 3, 5, 6, 10, 3, 4, 5, 6, 4, 1, 2, 3, 6, 7, 9, 10, 2, 4, 6, 7, 9, 1, 2, 3, 4, 5, 6, 7, 12, 4, 7, 11, 12, 1, 4, 1, 6, 2, 3, 4, 5, 6, 9, 3, 9, 6, 1, 2, 4, 5, 6, 7, 8, 10, 11, 1, 4, 1, 2, 3, 4, 5, 6, 7, 8, 9, 10, 3, 10, 5, 1, 2, 3, 4, 5, 6, 8, 9, 10, 1, 5, 1, 2, 3, 4, 5, 7, 8, 9, 10, 12, 1, 2, 3, 4, 5, 9, 12, 1, 2, 3, 4, 5, 6, 9, 10, 11, 2, 5, 4, 3, 11, 1, 2, 5, 7, 8, 9, 11, 4, 9, 7, 1, 2, 3, 4, 5, 6, 10, 12, 1, 3, 3, 5, 9, 4, 6, 10, 2, 5, 11, 1, 9, 10, 1, 9, 1, 2, 6, 10, 12, 1, 3, 4, 5, 7, 5, 1, 4, 6, 9, 10, 11, 9, 1, 3, 4, 6, 7, 9, 4, 2, 6, 9, 3, 7, 1, 2, 3, 6, 8, 9, 10, 9, 1, 12, 1, 2, 3, 4, 5, 6, 7, 9, 10, 10, 11, 4, 1, 2, 3, 7, 8, 9, 12, 1, 2, 3, 4, 5, 6, 7, 8, 9, 10, 11, 12, 1, 3, 7, 9, 10, 9, 1, 9, 3, 1, 5, 7, 9, 10, 11, 7, 5, 2, 7, 6, 1, 2, 3, 4, 5, 7, 8, 9, 10, 11, 6, 8, 9, 10, 1, 3, 4, 1, 2, 3, 4, 5, 6, 7, 8, 9, 10, 11, 12, 10, 1, 2, 3, 4, 5, 7, 9, 11, 8, 1, 2, 3, 4, 5, 6, 7, 9, 10, 11, 12, 1, 2, 3, 6, 7, 9, 10, 12, 9, 1, 3, 5, 7, 8, 5, 8, 1, 2, 3, 4, 8, 9, 12, 3, 7, 6, 1, 3, 4, 5, 7, 8, 9, 10, 8, 9, 1, 4, 3, 4, 6, 8, 9, 10, 2, 5, 6, 9, 1, 3, 4, 5, 9, 4, 3, 6, 9, 1, 4, 5, 6, 7, 9, 10, 11, 3, 1, 2, 3, 4, 6, 7, 9, 12, 1, 3, 3, 9, 1, 4, 5, 9, 4, 1, 3, 4, 5, 6, 9, 10, 9, 8, 3, 4, 5, 10, 4, 11, 1, 2, 3, 4, 5, 6, 9, 10, 4, 1, 5, 6, 9, 10, 11, 12, 5, 2, 7, 4, 8, 2, 9, 5], \"Freq\": [0.06101885065436363, 0.9152827858924866, 0.9655053615570068, 0.6926719546318054, 0.293053537607193, 0.9366397857666016, 0.9306479096412659, 0.9316179156303406, 0.7835122346878052, 0.054635051637887955, 0.8741608262062073, 0.9680759906768799, 0.9017654061317444, 0.005354124587029219, 0.017847081646323204, 0.2712756395339966, 0.14277665317058563, 0.005354124587029219, 0.021416498348116875, 0.5157806873321533, 0.003569416468963027, 0.0017847082344815135, 0.008923540823161602, 0.003569416468963027, 0.09482921659946442, 0.8534629940986633, 0.234389528632164, 0.027903515845537186, 0.01674211025238037, 0.07254914194345474, 0.02232281304895878, 0.005580703262239695, 0.6082966327667236, 0.005580703262239695, 0.008763075806200504, 0.004381537903100252, 0.0876307561993599, 0.14459075033664703, 0.004381537903100252, 0.01752615161240101, 0.01752615161240101, 0.04381537809967995, 0.6703752875328064, 0.018910476937890053, 0.04727619141340256, 0.009455238468945026, 0.07564190775156021, 0.15128381550312042, 0.4254857301712036, 0.20801523327827454, 0.04727619141340256, 0.04724355787038803, 0.031495705246925354, 0.14697995781898499, 0.12598282098770142, 0.005249284207820892, 0.015747852623462677, 0.1364813894033432, 0.4776848554611206, 0.015747852623462677, 0.8835268020629883, 0.9218883514404297, 0.9039439558982849, 0.09329383820295334, 0.8707424998283386, 0.8101291060447693, 0.0977742001414299, 0.04190322756767273, 0.04190322756767273, 0.026308389380574226, 0.013154194690287113, 0.9471020102500916, 0.9169946312904358, 0.9404568672180176, 0.9051993489265442, 0.05958803370594978, 0.05958803370594978, 0.8342324495315552, 0.14344392716884613, 0.7135881185531616, 0.005447237752377987, 0.010894475504755974, 0.012710221111774445, 0.0018157459562644362, 0.0018157459562644362, 0.0036314919125288725, 0.005447237752377987, 0.1053132638335228, 0.9489794969558716, 0.03152552247047424, 0.9142401218414307, 0.8754082918167114, 0.8914551734924316, 0.9732139110565186, 0.733704149723053, 0.25895440578460693, 0.9051569700241089, 0.954330325126648, 0.10889235138893127, 0.44272053241729736, 0.028604557737708092, 0.21615943312644958, 0.0357556976377964, 0.000325051776599139, 0.0009751553880050778, 0.0022753626108169556, 0.011051760986447334, 0.03218012675642967, 0.12091926485300064, 0.000650103553198278, 0.9433580636978149, 0.715603232383728, 0.8890203237533569, 0.044451016932725906, 0.9518632888793945, 0.9480096101760864, 0.9147200584411621, 0.9356005191802979, 0.8814181089401245, 0.20419834554195404, 0.7796663641929626, 0.9377501606941223, 0.7377864718437195, 0.01636078953742981, 0.03272157907485962, 0.9489258527755737, 0.6737300157546997, 0.1886444091796875, 0.01616952009499073, 0.04850856214761734, 0.06467808037996292, 0.005389840342104435, 0.03232526779174805, 0.09697581082582474, 0.840457022190094, 0.78480064868927, 0.04242165759205818, 0.06363248825073242, 0.02121082879602909, 0.08484331518411636, 0.9344027042388916, 0.0359385646879673, 0.9203551411628723, 0.9320526719093323, 0.0071689896285533905, 0.014337979257106781, 0.02150696888566017, 0.745574951171875, 0.12904182076454163, 0.0071689896285533905, 0.057351917028427124, 0.014337979257106781, 0.021821606904268265, 0.010910803452134132, 0.9165075421333313, 0.021821606904268265, 0.021821606904268265, 0.1607166975736618, 0.0803583487868309, 0.01607166975736618, 0.7232251167297363, 0.01607166975736618, 0.8896443247795105, 0.9493021965026855, 0.9640399813652039, 0.02095739170908928, 0.00523934792727232, 0.09663421660661697, 0.3113769292831421, 0.06442280858755112, 0.4509596824645996, 0.06442280858755112, 0.8001509308815002, 0.025004716590046883, 0.025004716590046883, 0.12502358853816986, 0.025004716590046883, 0.006597980856895447, 0.2243313491344452, 0.0989697128534317, 0.03958788514137268, 0.09237173199653625, 0.1253616362810135, 0.40247681736946106, 0.9373850226402283, 0.04807102680206299, 0.016641566529870033, 0.9319276809692383, 0.016641566529870033, 0.0019223340786993504, 0.0038446681573987007, 0.12302938103675842, 0.1499420553445816, 0.0038446681573987007, 0.19992275536060333, 0.0038446681573987007, 0.16724306344985962, 0.3460201323032379, 0.0019223340786993504, 0.4321577847003937, 0.10476551949977875, 0.44525346159935, 0.8297016620635986, 0.2726113498210907, 0.18788079917430878, 0.01811269111931324, 0.034690409898757935, 0.4024701416492462, 0.01350776944309473, 0.004911916330456734, 0.007674869149923325, 0.0009209843119606376, 0.03929533064365387, 0.015656733885407448, 0.0015349738532677293, 0.6699405908584595, 0.8749842047691345, 0.021653080359101295, 0.021653080359101295, 0.9527355432510376, 0.928946852684021, 0.9561052918434143, 0.012733852490782738, 0.019100777804851532, 0.33744707703590393, 0.28651168942451477, 0.038201555609703064, 0.019100777804851532, 0.24194319546222687, 0.038201555609703064, 0.00925646536052227, 0.6757219433784485, 0.03702586144208908, 0.01851293072104454, 0.24992455542087555, 0.00925646536052227, 0.9264402985572815, 0.05977034196257591, 0.013639532960951328, 0.9138486981391907, 0.05455813184380531, 0.006819766480475664, 0.9249411821365356, 0.9646837711334229, 0.0291881300508976, 0.8902379870414734, 0.07297032326459885, 0.006384072359651327, 0.9576108455657959, 0.02553628943860531, 0.011316160671412945, 0.9731898307800293, 0.009178494103252888, 0.19886736571788788, 0.04895196855068207, 0.0030594980344176292, 0.0061189960688352585, 0.0030594980344176292, 0.009178494103252888, 0.09178493916988373, 0.09790393710136414, 0.5170551538467407, 0.018356988206505775, 0.012346116825938225, 0.01028843130916357, 0.004115372430533171, 0.004115372430533171, 0.09053818881511688, 0.008230744861066341, 0.012346116825938225, 0.8518821001052856, 0.008230744861066341, 0.029791394248604774, 0.017023654654622078, 0.012767740525305271, 0.008511827327311039, 0.02127956785261631, 0.0042559136636555195, 0.0042559136636555195, 0.008511827327311039, 0.008511827327311039, 0.8767181634902954, 0.8775624632835388, 0.9790136814117432, 0.8696514368057251, 0.9482609033584595, 0.022910820320248604, 0.01718311570584774, 0.005727705080062151, 0.07446016371250153, 0.5154934525489807, 0.022910820320248604, 0.07446016371250153, 0.25774672627449036, 0.012485885992646217, 0.012485885992646217, 0.9614132046699524, 0.9356834888458252, 0.0391903854906559, 0.0391903854906559, 0.901378870010376, 0.9298491477966309, 0.8317322134971619, 0.8126044273376465, 0.9199861884117126, 0.31911933422088623, 0.029685519635677338, 0.31911933422088623, 0.03710689768195152, 0.044528279453516006, 0.007421379908919334, 0.007421379908919334, 0.23006276786327362, 0.9686932563781738, 0.015069441869854927, 0.9644442796707153, 0.2748527526855469, 0.17014694213867188, 0.02617645263671875, 0.013088226318359375, 0.013088226318359375, 0.4842643737792969, 0.980746865272522, 0.010266922414302826, 0.010266922414302826, 0.9650907516479492, 0.010266922414302826, 0.013917806558310986, 0.013917806558310986, 0.8629040122032166, 0.09742464870214462, 0.9031633138656616, 0.08543436229228973, 0.9528664350509644, 0.9569573998451233, 0.915423572063446, 0.053848445415496826, 0.11589562892913818, 0.017830096185207367, 0.02674514427781105, 0.5527330040931702, 0.09806553274393082, 0.008915048092603683, 0.02674514427781105, 0.14264076948165894, 0.498444139957428, 0.4531310200691223, 0.022656550630927086, 0.8427281975746155, 0.12089311331510544, 0.8462518453598022, 0.9163400530815125, 0.8293139338493347, 0.009052758105099201, 0.5612710118293762, 0.05884293094277382, 0.004526379052549601, 0.022631896659731865, 0.321372926235199, 0.004526379052549601, 0.009052758105099201, 0.004526379052549601, 0.8249460458755493, 0.015516174957156181, 0.010344116948544979, 0.18619410693645477, 0.12930145859718323, 0.17067793011665344, 0.010344116948544979, 0.46548524498939514, 0.010344116948544979, 0.12755931913852692, 0.028346514329314232, 0.4677174985408783, 0.028346514329314232, 0.014173257164657116, 0.325984925031662, 0.044677626341581345, 0.15065710246562958, 0.3314456343650818, 0.1246817409992218, 0.01246817409992218, 0.013507189229130745, 0.05402875691652298, 0.017663247883319855, 0.08623820543289185, 0.03740452229976654, 0.12779879570007324, 0.8837894797325134, 0.025251127779483795, 0.07575338333845139, 0.015413747169077396, 0.7244461178779602, 0.046241242438554764, 0.20037871599197388, 0.10239340364933014, 0.10239340364933014, 0.05119670182466507, 0.7167537808418274, 0.8149598240852356, 0.023284565657377243, 0.13970740139484406, 0.9398941397666931, 0.011582856066524982, 0.04247047379612923, 0.05019237473607063, 0.04247047379612923, 0.0038609520997852087, 0.6911104321479797, 0.1505771279335022, 0.0038609520997852087, 0.007721904199570417, 0.0038609520997852087, 0.934825599193573, 0.6326806545257568, 0.2222932130098343, 0.011399651877582073, 0.05129843205213547, 0.005699825938791037, 0.06839790940284729, 0.8846882581710815, 0.05617068335413933, 0.028085341677069664, 0.014042670838534832, 0.014042670838534832, 0.9445192217826843, 0.06766804307699203, 0.014802385121583939, 0.21146264672279358, 0.08458505570888519, 0.004229252692312002, 0.038063276559114456, 0.012687758542597294, 0.023260891437530518, 0.008458505384624004, 0.025375517085194588, 0.5053957104682922, 0.002114626346156001, 0.9150373935699463, 0.03660149499773979, 0.9363331198692322, 0.935354471206665, 0.9392311573028564, 0.45972898602485657, 0.12334192544221878, 0.07008063793182373, 0.03644193336367607, 0.14296451210975647, 0.047654833644628525, 0.1065225750207901, 0.00840967707335949, 0.0028032255358994007, 0.9529615640640259, 0.9398177862167358, 0.5819020867347717, 0.06190447881817818, 0.22285611927509308, 0.018571343272924423, 0.006190448068082333, 0.10523761063814163, 0.0375610776245594, 0.0187805388122797, 0.0187805388122797, 0.0187805388122797, 0.0375610776245594, 0.7324410080909729, 0.13146376609802246, 0.0187805388122797, 0.9372571706771851, 0.01841786876320839, 0.0414402075111866, 0.004604467190802097, 0.9162889719009399, 0.009208934381604195, 0.004604467190802097, 0.004604467190802097, 0.9689622521400452, 0.04272923246026039, 0.9400431513786316, 0.3436485826969147, 0.031240778043866158, 0.5935748219490051, 0.8798341751098633, 0.9389152526855469, 0.8978991508483887, 0.02798367477953434, 0.01865578442811966, 0.00932789221405983, 0.00932789221405983, 0.8954775929450989, 0.01865578442811966, 0.00932789221405983, 0.8367016911506653, 0.8535841703414917, 0.7920076847076416, 0.04800046607851982, 0.1200011596083641, 0.32304254174232483, 0.4190822243690491, 0.06984703987836838, 0.008730879984796047, 0.09603967517614365, 0.03492351993918419, 0.03492351993918419, 0.008730879984796047, 0.9298532605171204, 0.9558312296867371, 0.9379702806472778, 0.8293368816375732, 0.2642129957675934, 0.7133750915527344, 0.7153213620185852, 0.10332418978214264, 0.011922022327780724, 0.10332418978214264, 0.0039740074425935745, 0.015896029770374298, 0.04371408000588417, 0.9383975863456726, 0.9277905225753784, 0.011314518749713898, 0.04525807499885559, 0.8953120708465576, 0.09182687848806381, 0.007437185849994421, 0.014874371699988842, 0.04462311789393425, 0.885025143623352, 0.007437185849994421, 0.007437185849994421, 0.014874371699988842, 0.007437185849994421, 0.007437185849994421, 0.053625527769327164, 0.0247502438724041, 0.1237512156367302, 0.04537544772028923, 0.10725105553865433, 0.008250080980360508, 0.4083790183067322, 0.0247502438724041, 0.0618756078183651, 0.0247502438724041, 0.0866258516907692, 0.03300032392144203, 0.09307372570037842, 0.8686880469322205, 0.016715481877326965, 0.9694979786872864, 0.9596040844917297, 0.9429787397384644, 0.9505147337913513, 0.7931528091430664, 0.8382919430732727, 0.026919499039649963, 0.013459749519824982, 0.013459749519824982, 0.9287227392196655, 0.2600380778312683, 0.034826524555683136, 0.08358366042375565, 0.02205679938197136, 0.08126189559698105, 0.370322048664093, 0.010447957552969456, 0.0545615591108799, 0.004643536638468504, 0.0278612207621336, 0.002321768319234252, 0.04991802200675011, 0.08012045174837112, 0.8813249468803406, 0.7918672561645508, 0.08881565928459167, 0.059210438281297684, 0.08881565928459167, 0.7401304841041565, 0.02425297163426876, 0.14551784098148346, 0.02425297163426876, 0.8246010541915894, 0.806125283241272, 0.09921541810035706, 0.037205781787633896, 0.024803854525089264, 0.024803854525089264, 0.2849797308444977, 0.08905616402626038, 0.008905616588890553, 0.37403589487075806, 0.1603011041879654, 0.07124493271112442, 0.9408908486366272, 0.1600775271654129, 0.8003876209259033, 0.94195556640625, 0.9462018609046936, 0.5240300893783569, 0.059045642614364624, 0.014761410653591156, 0.0664263516664505, 0.31737032532691956, 0.007380705326795578, 0.007380705326795578, 0.897791862487793, 0.22488513588905334, 0.03598162159323692, 0.04497702792286873, 0.00899540539830923, 0.68365079164505, 0.10018087923526764, 0.876582682132721, 0.02504521980881691, 0.7947202324867249, 0.09038558602333069, 0.8812594413757324, 0.9722161889076233, 0.2406051903963089, 0.02673390880227089, 0.0891130343079567, 0.04455651715397835, 0.01782260648906231, 0.5703234076499939, 0.00518434913828969, 0.28513920307159424, 0.02073739655315876, 0.13479307293891907, 0.16589917242527008, 0.13479307293891907, 0.015553046949207783, 0.06739653646945953, 0.04147479310631752, 0.12442437559366226, 0.01036869827657938, 0.9118064045906067, 0.21901899576187134, 0.6727011799812317, 0.031288426369428635, 0.015644213184714317, 0.015644213184714317, 0.031288426369428635, 0.9693519473075867, 0.14185959100723267, 0.7802277207374573, 0.035464897751808167, 0.035464897751808167, 0.9416849613189697, 0.11115524172782898, 0.8336643576622009, 0.9114012718200684, 0.9457729458808899, 0.08468136936426163, 0.03387254849076271, 0.05645424500107765, 0.8016502857208252, 0.011290849186480045, 0.9275755286216736, 0.08414319157600403, 0.8835035562515259, 0.08507727831602097, 0.01063465978950262, 0.10634659975767136, 0.7869648337364197, 0.01063465978950262, 0.9629301428794861, 0.9192811846733093, 0.04468027502298355, 0.8936055302619934, 0.05689554288983345, 0.8534331321716309, 0.05689554288983345, 0.945384681224823, 0.9488579630851746, 0.04566695913672447, 0.8258464336395264, 0.01285383477807045, 0.004284611437469721, 0.01285383477807045, 0.9640375971794128, 0.9782856106758118, 0.0280955508351326, 0.0421433262526989, 0.08896924555301666, 0.06555628776550293, 0.05150850862264633, 0.004682591650635004, 0.5993717312812805, 0.004682591650635004, 0.0421433262526989, 0.0702388733625412, 0.007389807607978582, 0.5764049887657166, 0.02216942235827446, 0.08867768943309784, 0.11823692172765732, 0.06650827080011368, 0.06650827080011368, 0.05911846086382866, 0.8873364329338074, 0.07829438894987106, 0.1467778980731964, 0.01834723725914955, 0.09173618257045746, 0.20181959867477417, 0.40363919734954834, 0.12843066453933716, 0.0478023961186409, 0.9082455635070801, 0.02390119805932045, 0.02669788897037506, 0.8810303211212158, 0.08009366691112518, 0.2622378468513489, 0.007712877821177244, 0.06941590458154678, 0.6478817462921143, 0.10053665190935135, 0.8847225904464722, 0.013066190294921398, 0.1672472357749939, 0.015679428353905678, 0.04965152218937874, 0.010452952235937119, 0.020905904471874237, 0.18815313279628754, 0.0026132380589842796, 0.010452952235937119, 0.4337975084781647, 0.0862368568778038, 0.7371058464050293, 0.013691932894289494, 0.7564793229103088, 0.0034229832235723734, 0.03594132512807846, 0.0017114916117861867, 0.0017114916117861867, 0.013691932894289494, 0.0017114916117861867, 0.0017114916117861867, 0.16943767666816711, 0.9088351726531982, 0.03227689862251282, 0.03227689862251282, 0.1936613768339157, 0.7423686385154724, 0.12827017903327942, 0.20156742632389069, 0.6413508653640747, 0.16714513301849365, 0.18385964632034302, 0.016714513301849365, 0.03342902660369873, 0.03342902660369873, 0.551578938961029, 0.018186889588832855, 0.04546722397208214, 0.07274755835533142, 0.8547837734222412, 0.9570004343986511, 0.0327533483505249, 0.9498470425605774, 0.7422234416007996, 0.1649385392665863, 0.08246926963329315, 0.006253787782043219, 0.022930555045604706, 0.03543812781572342, 0.1876136213541031, 0.010422979481518269, 0.00416919169947505, 0.006253787782043219, 0.05003030225634575, 0.0333535335958004, 0.6462247371673584, 0.002084595849737525, 0.009888097643852234, 0.8404882550239563, 0.03460834175348282, 0.024720244109630585, 0.009888097643852234, 0.004944048821926117, 0.014832145534455776, 0.059328582137823105, 0.9359419941902161, 0.9452973008155823, 0.9405237436294556, 0.9528637528419495, 0.03668651729822159, 0.9171628952026367, 0.7941728234291077, 0.877263069152832, 0.7385938167572021, 0.007241115905344486, 0.021723346784710884, 0.007241115905344486, 0.05792892724275589, 0.16654565930366516, 0.19581852853298187, 0.05874555557966232, 0.7441104054450989, 0.913420557975769, 0.8969000577926636, 0.9198514223098755, 0.14133749902248383, 0.8126906156539917, 0.12127476185560226, 0.2518783509731293, 0.07463062554597855, 0.08395945280790329, 0.02798648364841938, 0.0653017982840538, 0.31718015670776367, 0.05597296729683876, 0.0315190888941288, 0.1260763555765152, 0.8194962739944458, 0.9341598153114319, 0.9429152607917786, 0.048507798463106155, 0.14903846383094788, 0.0787372961640358, 0.22285467386245728, 0.02530841715633869, 0.3219793140888214, 0.06467706710100174, 0.0021090346854180098, 0.043586719781160355, 0.0035150579642504454, 0.03304154425859451, 0.0077331275679171085, 0.02668415941298008, 0.01334207970649004, 0.01334207970649004, 0.08005247265100479, 0.040026236325502396, 0.773840606212616, 0.040026236325502396, 0.0253045205026865, 0.0253045205026865, 0.050609041005373, 0.07591356337070465, 0.050609041005373, 0.7591356039047241, 0.0253045205026865, 0.9667269587516785, 0.006506043951958418, 0.05204835161566734, 0.7026527523994446, 0.2342175841331482, 0.006506043951958418, 0.959844172000885, 0.9089413285255432, 0.9589793086051941, 0.06700026243925095, 0.8710034489631653, 0.9766543507575989, 0.1340170055627823, 0.04467233270406723, 0.7594296932220459, 0.04467233270406723, 0.268214613199234, 0.01625543087720871, 0.03251086175441742, 0.03251086175441742, 0.6420895457267761, 0.9029135704040527, 0.02949424274265766, 0.9438157677650452, 0.009763143956661224, 0.5857886075973511, 0.2733680307865143, 0.10739458352327347, 0.009763143956661224, 0.9618914127349854, 0.023171698674559593, 0.9500396251678467, 0.05229490250349045, 0.9413082599639893, 0.9018628597259521, 0.04531640559434891, 0.04531640559434891, 0.04531640559434891, 0.8610116839408875, 0.009842926636338234, 0.9350780248641968, 0.029528779909014702, 0.009842926636338234, 0.009842926636338234, 0.9055467247962952, 0.9492356181144714, 0.9513837099075317, 0.9231326580047607, 0.9660567045211792, 0.04265046864748001, 0.0448952279984951, 0.3389589786529541, 0.028059517964720726, 0.019080473110079765, 0.42089277505874634, 0.03591618314385414, 0.001122380723245442, 0.005611903499811888, 0.01459094975143671, 0.010101426392793655, 0.03816094622015953, 0.022821540012955666, 0.04564308002591133, 0.22821539640426636, 0.7074677348136902, 0.9173558950424194, 0.09354549646377563, 0.7362935543060303, 0.02112317644059658, 0.07845751196146011, 0.02715837024152279, 0.0030175966676324606, 0.012070386670529842, 0.009052789770066738, 0.015087982639670372, 0.0030175966676324606, 0.3479883372783661, 0.0707772895693779, 0.03538864478468895, 0.09436971694231033, 0.023592429235577583, 0.005898107308894396, 0.33029401302337646, 0.08847161382436752, 0.005898107308894396, 0.9628781080245972, 0.050856225192546844, 0.8645557761192322, 0.8901413679122925, 0.04706733673810959, 0.023533668369054794, 0.04706733673810959, 0.8707457184791565, 0.9468214511871338, 0.0833379402756691, 0.17014829814434052, 0.2534862458705902, 0.04514138400554657, 0.21528968214988708, 0.05555862933397293, 0.05208621546626091, 0.017362071201205254, 0.10764484107494354, 0.1484556943178177, 0.8536202311515808, 0.8463656306266785, 0.12385838478803635, 0.020643064752221107, 0.09976300597190857, 0.4572471082210541, 0.15795809030532837, 0.09144941717386246, 0.0581950843334198, 0.008313583210110664, 0.049881502985954285, 0.024940751492977142, 0.0581950843334198, 0.18172429502010345, 0.7788184285163879, 0.10553313791751862, 0.01758885569870472, 0.26383283734321594, 0.5100768208503723, 0.07035542279481888, 0.03517771139740944, 0.9214093089103699, 0.9062858819961548, 0.9216498732566833, 0.14564886689186096, 0.18643054366111755, 0.06408549845218658, 0.058259546756744385, 0.4369466006755829, 0.011651908978819847, 0.011651908978819847, 0.08738932013511658, 0.17961528897285461, 0.044903822243213654, 0.6286535263061523, 0.11225955188274384, 0.022451911121606827, 0.9530022740364075, 0.8583942651748657, 0.93991619348526, 0.09434491395950317, 0.11793114244937897, 0.7547593116760254, 0.17666231095790863, 0.03364996239542961, 0.03364996239542961, 0.3112621605396271, 0.31967464089393616, 0.025237472727894783, 0.025237472727894783, 0.0757124200463295, 0.8379009962081909, 0.9552112817764282, 0.9547193646430969, 0.038436178117990494, 0.3363165557384491, 0.019218089058995247, 0.6053698062896729, 0.9168289303779602, 0.918893575668335, 0.8879149556159973, 0.007626831065863371, 0.05338781699538231, 0.6177732944488525, 0.21355126798152924, 0.0915219709277153, 0.9767378568649292, 0.9315065145492554, 0.9027997255325317, 0.9487786889076233, 0.9394268989562988, 0.8921234011650085, 0.011005628854036331, 0.0036685429513454437, 0.02262268215417862, 0.06114238128066063, 0.01589701883494854, 0.00794850941747427, 0.008559933863580227, 0.000611423805821687, 0.002445695223286748, 0.013451323844492435, 0.0586966872215271, 0.7936280965805054, 0.6700742840766907, 0.14037129282951355, 0.031782180070877075, 0.07945545017719269, 0.018539605662226677, 0.007945545017719269, 0.007945545017719269, 0.042376238852739334, 0.0026485149282962084, 0.0026485149282962084, 0.06557553261518478, 0.8393667936325073, 0.03934531658887863, 0.0065575530752539635, 0.0065575530752539635, 0.03934531658887863, 0.018248725682497025, 0.0016589751467108727, 0.011612826026976109, 0.008294875733554363, 0.8726208806037903, 0.0033179502934217453, 0.039815403521060944, 0.0016589751467108727, 0.031520526856184006, 0.008294875733554363, 0.0016589751467108727, 0.015404852107167244, 0.10783396661281586, 0.40437737107276917, 0.025032885372638702, 0.025032885372638702, 0.02310727909207344, 0.05199137702584267, 0.06932183355093002, 0.04814016446471214, 0.2118167132139206, 0.017330458387732506, 0.03045475296676159, 0.06090950593352318, 0.7309140563011169, 0.12181901186704636, 0.9178359508514404, 0.046221546828746796, 0.9244309067726135, 0.9331310987472534, 0.8730877041816711, 0.009288166649639606, 0.027864500880241394, 0.037152666598558426, 0.009288166649639606, 0.037152666598558426, 0.9509500861167908, 0.9447693228721619, 0.4921319782733917, 0.011906418949365616, 0.003968806006014347, 0.03571925684809685, 0.04762567579746246, 0.05556328594684601, 0.3254421055316925, 0.02381283789873123, 0.03216886147856712, 0.9328970313072205, 0.02183501236140728, 0.08734004944562912, 0.8078954815864563, 0.04367002472281456, 0.9208691716194153, 0.09607303887605667, 0.33188867568969727, 0.04366956278681755, 0.06987129896879196, 0.02620173804461956, 0.3231547772884369, 0.01746782474219799, 0.01746782474219799, 0.03493564948439598, 0.03493564948439598, 0.1142340824007988, 0.8567556142807007, 0.005158534273505211, 0.10145117342472076, 0.0017195114633068442, 0.20462185144424438, 0.010317068547010422, 0.6362192034721375, 0.017195114865899086, 0.0034390229266136885, 0.01891462504863739, 0.899715781211853, 0.9305700659751892, 0.9806133508682251, 0.1386716514825821, 0.24652738869190216, 0.03081592358648777, 0.5700945854187012, 0.10278410464525223, 0.06518016010522842, 0.5891283750534058, 0.04679601639509201, 0.005013858899474144, 0.08607123792171478, 0.012534646317362785, 0.012534646317362785, 0.03843958303332329, 0.008356431499123573, 0.020055435597896576, 0.011699004098773003, 0.40071314573287964, 0.01705162413418293, 0.4603938162326813, 0.09378392994403839, 0.008525812067091465, 0.008525812067091465, 0.008525812067091465, 0.02527940459549427, 0.016852935776114464, 0.008426467888057232, 0.22751463949680328, 0.008426467888057232, 0.008426467888057232, 0.008426467888057232, 0.682543933391571, 0.02527940459549427, 0.894332766532898, 0.836359441280365, 0.6505189538002014, 0.2678607404232025, 0.012755272909998894, 0.06377636641263962, 0.8213446140289307, 0.9620813131332397, 0.9377471804618835, 0.03770236670970917, 0.1131071075797081, 0.8483032584190369, 0.9687947630882263, 0.011432263068854809, 0.9260132908821106, 0.045729052275419235, 0.011432263068854809, 0.9654927849769592, 0.8917073607444763, 0.06859287619590759, 0.9050843119621277, 0.27166876196861267, 0.12268912047147751, 0.10516209900379181, 0.011684678494930267, 0.36806735396385193, 0.10516209900379181, 0.002921169623732567, 0.011684678494930267, 0.21528616547584534, 0.1937575489282608, 0.5597440600395203, 0.03287602588534355, 0.016438012942671776, 0.016438012942671776, 0.9205287098884583, 0.8808364868164062, 0.9380818605422974, 0.03023241087794304, 0.03023241087794304, 0.9372047781944275, 0.9616582989692688, 0.9310460090637207, 0.10112138837575912, 0.808971107006073, 0.9303475618362427, 0.9094651341438293, 0.8235111832618713, 0.9266958236694336, 0.9450505375862122, 0.02953282929956913, 0.15558233857154846, 0.809028148651123, 0.9433307647705078, 0.9598117470741272, 0.9574697613716125, 0.981921374797821, 0.9528297781944275, 0.7250508666038513, 0.11034636944532394, 0.6786894798278809, 0.01779780164361, 0.008305640891194344, 0.06407208740711212, 0.015424760989844799, 0.0035595602821558714, 0.018984321504831314, 0.0023730401881039143, 0.07831032574176788, 0.0011865200940519571, 0.9593765735626221, 0.952340304851532, 0.024585392326116562, 0.9342448711395264, 0.9729346632957458, 0.17582418024539948, 0.09223563224077225, 0.14483876526355743, 0.03905602544546127, 0.03963249921798706, 0.07321203500032425, 0.007494145072996616, 0.3644748628139496, 0.03444424271583557, 0.006773554254323244, 0.012105926871299744, 0.009800036437809467, 0.021103525534272194, 0.015827644616365433, 0.06331057846546173, 0.08441410213708878, 0.0052758813835680485, 0.15300056338310242, 0.11079350858926773, 0.5434157848358154, 0.9187453985214233, 0.1292441338300705, 0.8185461759567261, 0.0430813767015934, 0.5121487379074097, 0.16502569615840912, 0.20485948026180267, 0.005690541118383408, 0.06259595602750778, 0.05121487006545067, 0.025841545313596725, 0.04306924343109131, 0.8958402872085571, 0.008613849058747292, 0.008613849058747292, 0.008613849058747292, 0.96779865026474, 0.9136984944343567, 0.07614154368638992, 0.983060896396637, 0.8922114968299866, 0.009821712039411068, 0.04419770464301109, 0.6629655957221985, 0.004910856019705534, 0.08839540928602219, 0.0687519907951355, 0.03928684815764427, 0.07366283982992172, 0.01261396985501051, 0.02522793971002102, 0.01261396985501051, 0.12613970041275024, 0.01261396985501051, 0.794680118560791, 0.06668698042631149, 0.7002133131027222, 0.08335872739553452, 0.05001523718237877, 0.06668698042631149, 0.037881288677453995, 0.25569868087768555, 0.04735160991549492, 0.6061006188392639, 0.018940644338726997, 0.037881288677453995, 0.9348492622375488, 0.6728867292404175, 0.014788718894124031, 0.28098565340042114, 0.0073943594470620155, 0.0073943594470620155, 0.0073943594470620155, 0.9220650792121887, 0.920769989490509, 0.8463934659957886, 0.748380720615387, 0.01838507689535618, 0.030281301587820053, 0.003244425170123577, 0.025955401360988617, 0.004325900226831436, 0.09084390848875046, 0.006488850340247154, 0.019466551020741463, 0.002162950113415718, 0.05082932859659195, 0.06677157431840897, 0.06677157431840897, 0.8680304884910583, 0.8578252196311951, 0.0026847273111343384, 0.4913051128387451, 0.06711818277835846, 0.07315882295370102, 0.014094819314777851, 0.07919945567846298, 0.013423636555671692, 0.1396058201789856, 0.019464273005723953, 0.016779545694589615, 0.08121300488710403, 0.0013423636555671692, 0.9369454383850098, 0.9828633069992065, 0.14737702906131744, 0.14737702906131744, 0.01842212863266468, 0.04912567883729935, 0.18115094304084778, 0.1688695102930069, 0.00921106431633234, 0.00921106431633234, 0.2548394501209259, 0.012281419709324837, 0.003242938546463847, 0.019457630813121796, 0.014824861660599709, 0.0013898308388888836, 0.031966108828783035, 0.019457630813121796, 0.8969041705131531, 0.0018531077075749636, 0.007412430830299854, 0.0013898308388888836, 0.0009265538537874818, 0.0004632769268937409, 0.9543047547340393, 0.8588089942932129, 0.06606223434209824, 0.019938046112656593, 0.7111236453056335, 0.026584062725305557, 0.013292031362652779, 0.019938046112656593, 0.053168125450611115, 0.013292031362652779, 0.03323007747530937, 0.09969023615121841, 0.9470025897026062, 0.3615970313549042, 0.08789809048175812, 0.03716016933321953, 0.021438559517264366, 0.39947181940078735, 0.017150847241282463, 0.031443219631910324, 0.010004661045968533, 0.022153178229928017, 0.005716949235647917, 0.002143855905160308, 0.002143855905160308, 0.1451772302389145, 0.03959378972649574, 0.7918758392333984, 0.01319793052971363, 0.7074471116065979, 0.25468096137046814, 0.06532464921474457, 0.05599255487322807, 0.07932278513908386, 0.09798697382211685, 0.5785897374153137, 0.004666046239435673, 0.01866418495774269, 0.08398883044719696, 0.02333023026585579, 0.8059369921684265, 0.04477427899837494, 0.0027983924373984337, 0.0027983924373984337, 0.05037106201052666, 0.0027983924373984337, 0.011193569749593735, 0.008395177312195301, 0.0027983924373984337, 0.06995981186628342, 0.326132208108902, 0.14268285036087036, 0.5095816254615784, 0.9362233877182007, 0.8866077065467834, 0.02321145497262478, 0.9052467346191406, 0.04642290994524956, 0.8715190887451172, 0.11829669028520584, 0.8280768394470215, 0.032161176204681396, 0.016080588102340698, 0.032161176204681396, 0.9005128741264343, 0.0290053877979517, 0.9426751136779785, 0.7824379801750183, 0.06878575682640076, 0.05158931761980057, 0.09458041936159134, 0.9517725110054016, 0.004811609163880348, 0.2935081422328949, 0.08179735392332077, 0.004811609163880348, 0.5196537375450134, 0.07698574662208557, 0.004811609163880348, 0.01443482656031847, 0.9206779599189758, 0.20846952497959137, 0.7376614212989807, 0.03207223489880562, 0.33101680874824524, 0.058414727449417114, 0.5452041625976562, 0.058414727449417114, 0.9686936736106873, 0.015299543738365173, 0.21929346024990082, 0.7037790417671204, 0.025499239563941956, 0.025499239563941956, 0.15830500423908234, 0.2057964950799942, 0.04749149829149246, 0.06859882920980453, 0.042214665561914444, 0.010553666390478611, 0.010553666390478611, 0.39576250314712524, 0.03166100010275841, 0.02638416551053524, 0.9703099727630615, 0.9167752861976624, 0.07052117586135864, 0.9679979681968689, 0.9340881705284119, 0.9424988031387329, 0.9502281546592712, 0.8784743547439575, 0.8953871726989746, 0.045917291194200516, 0.03443796932697296, 0.011479322798550129, 0.8862451910972595, 0.10717029869556427, 0.008642765693366528, 0.11927016824483871, 0.027656851336359978, 0.012099872343242168, 0.21261204779148102, 0.03111395798623562, 0.03284250944852829, 0.003457106417044997, 0.44423818588256836, 0.08986377716064453, 0.8986377716064453, 0.02794988639652729, 0.05589977279305458, 0.8943963646888733, 0.12939080595970154, 0.8626053333282471, 0.8873521089553833, 0.04929734021425247, 0.07394600659608841, 0.027087857946753502, 0.7584600448608398, 0.054175715893507004, 0.13543929159641266, 0.8319221138954163, 0.0924357920885086, 0.591799259185791, 0.011955540627241135, 0.005977770313620567, 0.11357763409614563, 0.06575547158718109, 0.1016220971941948, 0.09564432501792908, 0.005977770313620567, 0.9080665111541748, 0.9158501625061035, 0.9765583276748657, 0.009309756569564342, 0.7578141689300537, 0.011171707883477211, 0.0018619513139128685, 0.011171707883477211, 0.20295268297195435, 0.0018619513139128685, 0.0018619513139128685, 0.0018619513139128685, 0.0018619513139128685, 0.30016249418258667, 0.051752153784036636, 0.06210258603096008, 0.20700861513614655, 0.3726155161857605, 0.1515769511461258, 0.025262825191020966, 0.05052565038204193, 0.7326219081878662, 0.8963086009025574, 0.11362028867006302, 0.7953420281410217, 0.09222178161144257, 0.07377742975950241, 0.018444357439875603, 0.018444357439875603, 0.7931073307991028, 0.03462877497076988, 0.7618330717086792, 0.13851509988307953, 0.03462877497076988, 0.9010960459709167, 0.28111475706100464, 0.009370491839945316, 0.009370491839945316, 0.018740983679890633, 0.009370491839945316, 0.18740983307361603, 0.48726555705070496, 0.009281552396714687, 0.6404271125793457, 0.2691650092601776, 0.04640775918960571, 0.018563104793429375, 0.0034325362648814917, 0.06521818786859512, 0.020595217123627663, 0.7791857123374939, 0.0720832571387291, 0.05148804187774658, 0.0034325362648814917, 0.0034325362648814917, 0.974388599395752, 0.026357166469097137, 0.2108573317527771, 0.7116435170173645, 0.243048295378685, 0.7291449308395386, 0.9269106388092041, 0.02990034408867359, 0.08007652312517166, 0.060057394206523895, 0.53050696849823, 0.1701626181602478, 0.020019130781292915, 0.12011478841304779, 0.9461031556129456, 0.04300468787550926, 0.9561740159988403, 0.33279043436050415, 0.02377074584364891, 0.015847163274884224, 0.007923581637442112, 0.07131223380565643, 0.03169432654976845, 0.5071092247962952, 0.015847163274884224, 0.007923581637442112, 0.9534334540367126, 0.9304723739624023, 0.11701392382383347, 0.06564195454120636, 0.13413791358470917, 0.042809970676898956, 0.07420395314693451, 0.41097572445869446, 0.011415992863476276, 0.07134995609521866, 0.008561994880437851, 0.06564195454120636, 0.0181166622787714, 0.9782997965812683, 0.8930166363716125, 0.6350112557411194, 0.05885470286011696, 0.12390463799238205, 0.030976159498095512, 0.02478092722594738, 0.006195231806486845, 0.04956185445189476, 0.04336662217974663, 0.02478092722594738, 0.024616394191980362, 0.9600393772125244, 0.15298262238502502, 0.008051716722548008, 0.2388675957918167, 0.04562639445066452, 0.07514935731887817, 0.050994206219911575, 0.08051717281341553, 0.0966206043958664, 0.013419528491795063, 0.23349979519844055, 0.009111004881560802, 0.054666027426719666, 0.04555502533912659, 0.06377703696489334, 0.027333013713359833, 0.03644401952624321, 0.7562134265899658, 0.14630816876888275, 0.25969699025154114, 0.021946225315332413, 0.0585232675075531, 0.09875801205635071, 0.14996586740016937, 0.08412719517946243, 0.09875801205635071, 0.08046948909759521, 0.11982586234807968, 0.8387810587882996, 0.9168316721916199, 0.9500219225883484, 0.9784491062164307, 0.5343656539916992, 0.006361496169120073, 0.012722992338240147, 0.14631441235542297, 0.0445304736495018, 0.20992937684059143, 0.0445304736495018, 0.9167219400405884, 0.057295121252536774, 0.9294947981834412, 0.17191484570503235, 0.0059280977584421635, 0.07706527411937714, 0.035568587481975555, 0.13041815161705017, 0.0059280977584421635, 0.5631693005561829, 0.0059280977584421635, 0.8908445835113525, 0.07423704862594604, 0.018647655844688416, 0.9137350916862488, 0.03729531168937683, 0.9790377020835876, 0.8602791428565979, 0.9166930913925171, 0.04030251502990723, 0.886655330657959, 0.9051080346107483, 0.02012849599123001, 0.7044973969459534, 0.24154196679592133, 0.010234576649963856, 0.9825193285942078, 0.1373911201953888, 0.009159408509731293, 0.004579704254865646, 0.7510714530944824, 0.09617378562688828, 0.0173961129039526, 0.23774687945842743, 0.3421235680580139, 0.08118186146020889, 0.3189287483692169, 0.9363163709640503, 0.41111141443252563, 0.02669554576277733, 0.22424258291721344, 0.016017327085137367, 0.005339109338819981, 0.3043292164802551, 0.9537016153335571, 0.960722804069519, 0.19003966450691223, 0.6651387810707092, 0.01583663746714592, 0.09501983225345612, 0.01583663746714592, 0.9330682754516602, 0.061138320714235306, 0.9170747995376587, 0.9217416048049927, 0.03442905843257904, 0.8951554894447327, 0.8563068509101868, 0.03643858805298805, 0.009109647013247013, 0.03643858805298805, 0.018219294026494026, 0.027328941971063614, 0.018219294026494026, 0.8814853429794312, 0.8728762865066528, 0.9423509836196899, 0.555359959602356, 0.022575607523322105, 0.15351413190364838, 0.11739315837621689, 0.022575607523322105, 0.009030243381857872, 0.004515121690928936, 0.018060486763715744, 0.09481754899024963, 0.10338469594717026, 0.8270775675773621, 0.9199236035346985, 0.019333189353346825, 0.1546655148267746, 0.2223316878080368, 0.019333189353346825, 0.019333189353346825, 0.019333189353346825, 0.5316627025604248, 0.062344618141651154, 0.11429846286773682, 0.09871231019496918, 0.28470706939697266, 0.014547077007591724, 0.019742462784051895, 0.05299292504787445, 0.011429846286773682, 0.2504175305366516, 0.062344618141651154, 0.0031172307208180428, 0.023898769170045853, 0.28826746344566345, 0.03034394420683384, 0.10620380192995071, 0.03034394420683384, 0.5158470273017883, 0.9633057713508606, 0.09269187599420547, 0.8805727958679199, 0.9716480374336243, 0.37325504422187805, 0.091037817299366, 0.009103781543672085, 0.009103781543672085, 0.48250043392181396, 0.01820756308734417, 0.8836075067520142, 0.9823346734046936, 0.05612591654062271, 0.8980146646499634, 0.9129469394683838, 0.06473314762115479, 0.009247592650353909, 0.013871388509869576, 0.009247592650353909, 0.02774277701973915, 0.004623796325176954, 0.11559490859508514, 0.004623796325176954, 0.06473314762115479, 0.6796980500221252, 0.8716319799423218, 0.08545411378145218, 0.017090823501348495, 0.017090823501348495, 0.9564268589019775, 0.028130201622843742, 0.9485697746276855, 0.12002471089363098, 0.056482214480638504, 0.011767128482460976, 0.1035507321357727, 0.05177536606788635, 0.4024357795715332, 0.004706851206719875, 0.007060276810079813, 0.016473980620503426, 0.011767128482460976, 0.21886858344078064, 0.0023534256033599377, 0.8878509998321533, 0.02732440084218979, 0.36887940764427185, 0.0865272730588913, 0.1867167353630066, 0.009108133614063263, 0.02732440084218979, 0.2869062125682831, 0.0045540668070316315, 0.9670736789703369, 0.013362054713070393, 0.14364208281040192, 0.06012924388051033, 0.23049543797969818, 0.003340513678267598, 0.026724109426140785, 0.0801723301410675, 0.020043082535266876, 0.08351284265518188, 0.3373918831348419, 0.003340513678267598, 0.2833455204963684, 0.04250182956457138, 0.03541819006204605, 0.4887710213661194, 0.007083638105541468, 0.007083638105541468, 0.13458912074565887, 0.007083638105541468, 0.9515305757522583, 0.01735842414200306, 0.00867921207100153, 0.9633924961090088, 0.004339606035500765, 0.004339606035500765, 0.8852970600128174, 0.08048155158758163, 0.07372359186410904, 0.01053194236010313, 0.8320234417915344, 0.01053194236010313, 0.01053194236010313, 0.05265970900654793, 0.01053194236010313, 0.9099295139312744, 0.05514724552631378, 0.8877872824668884, 0.18726885318756104, 0.08323059976100922, 0.04993836209177971, 0.15397661924362183, 0.004161530174314976, 0.012484590522944927, 0.4327991306781769, 0.08323059976100922, 0.907967746257782, 0.9364413022994995, 0.930540919303894, 0.9480602741241455, 0.009785974398255348, 0.25443533062934875, 0.03914389759302139, 0.009785974398255348, 0.20550546050071716, 0.4795127511024475, 0.006711251102387905, 0.006711251102387905, 0.9597089290618896, 0.02013375423848629, 0.08045374602079391, 0.5631762146949768, 0.04022687301039696, 0.01005671825259924, 0.291644811630249, 0.9560826420783997, 0.5081390142440796, 0.46458423137664795, 0.014518257230520248, 0.0035934592597186565, 0.0035934592597186565, 0.7222853302955627, 0.07186918705701828, 0.1473318338394165, 0.032341133803129196, 0.0035934592597186565, 0.014373837038874626, 0.9418438673019409, 0.07158675789833069, 0.24657660722732544, 0.4215664565563202, 0.10340309143066406, 0.007954084314405918, 0.08749492466449738, 0.039770420640707016, 0.03181633725762367, 0.9152815937995911, 0.06240556389093399, 0.9025605916976929, 0.8929804563522339, 0.02340083010494709, 0.02340083010494709, 0.02340083010494709, 0.9126323461532593, 0.930673360824585, 0.0127394525334239, 0.0509578101336956, 0.14013397693634033, 0.0127394525334239, 0.6624515652656555, 0.1019156202673912, 0.0254789050668478, 0.9069808125495911, 0.8708159327507019, 0.15809236466884613, 0.019761545583605766, 0.17785391211509705, 0.6126078963279724, 0.45692330598831177, 0.5106790065765381, 0.004585882183164358, 0.03210117295384407, 0.05503058433532715, 0.050444699823856354, 0.17884939908981323, 0.1054752841591835, 0.5411340594291687, 0.036687057465314865, 0.9026462435722351, 0.05350622162222862, 0.36562585830688477, 0.008917704224586487, 0.43696749210357666, 0.08917703479528427, 0.02675311081111431, 0.9094669222831726, 0.9276318550109863, 0.19636768102645874, 0.785470724105835, 0.030253229662775993, 0.9378501176834106, 0.9233999252319336, 0.9146662354469299, 0.9530735611915588], \"Term\": [\"aap\", \"aap\", \"access\", \"accessory\", \"accessory\", \"ad\", \"adapter\", \"adaptor\", \"agent\", \"airtel\", \"airtel\", \"alarm\", \"amazing\", \"amazon\", \"amazon\", \"amazon\", \"amazon\", \"amazon\", \"amazon\", \"amazon\", \"amazon\", \"amazon\", \"amazon\", \"amazon\", \"amount\", \"amount\", \"android\", \"android\", \"android\", \"android\", \"android\", \"android\", \"android\", \"android\", \"app\", \"app\", \"app\", \"app\", \"app\", \"app\", \"app\", \"app\", \"app\", \"application\", \"application\", \"application\", \"application\", \"application\", \"application\", \"application\", \"application\", \"apps\", \"apps\", \"apps\", \"apps\", \"apps\", \"apps\", \"apps\", \"apps\", \"apps\", \"aspect\", \"asphalt\", \"aug\", \"auto\", \"auto\", \"average\", \"average\", \"average\", \"average\", \"awesome\", \"awesome\", \"awesome\", \"awsome\", \"b\", \"baad\", \"background\", \"background\", \"background\", \"backup\", \"backup\", \"backup\", \"backup\", \"backup\", \"backup\", \"backup\", \"backup\", \"backup\", \"backup\", \"bada\", \"bahut\", \"bahut\", \"bakwaas\", \"band\", \"bank\", \"bar\", \"bar\", \"batery\", \"batter\", \"battery\", \"battery\", \"battery\", \"battery\", \"battery\", \"battery\", \"battery\", \"battery\", \"battery\", \"battery\", \"battery\", \"battery\", \"battry\", \"bcz\", \"beast\", \"beast\", \"bed\", \"bekar\", \"bettry\", \"bhai\", \"bhej\", \"bhi\", \"bhi\", \"bhut\", \"bilkul\", \"bill\", \"bill\", \"bill\", \"bit\", \"bit\", \"bit\", \"bit\", \"bit\", \"bit\", \"bluetooth\", \"bluetooth\", \"bluetooth\", \"body\", \"body\", \"body\", \"body\", \"body\", \"bokeh\", \"bokeh\", \"book\", \"bottom\", \"box\", \"box\", \"box\", \"box\", \"box\", \"box\", \"box\", \"box\", \"brand\", \"brand\", \"brand\", \"brand\", \"brand\", \"brightness\", \"brightness\", \"brightness\", \"brightness\", \"brightness\", \"brother\", \"browsing\", \"budget\", \"budget\", \"budget\", \"bug\", \"bug\", \"bug\", \"bug\", \"bug\", \"build\", \"build\", \"build\", \"build\", \"build\", \"buy\", \"buy\", \"buy\", \"buy\", \"buy\", \"buy\", \"buy\", \"buying\", \"buying\", \"cable\", \"cable\", \"cable\", \"call\", \"call\", \"call\", \"call\", \"call\", \"call\", \"call\", \"call\", \"call\", \"call\", \"cam\", \"cam\", \"cam\", \"camara\", \"camera\", \"camera\", \"camera\", \"camera\", \"camera\", \"camera\", \"camera\", \"camera\", \"camera\", \"camera\", \"camera\", \"camera\", \"camerabattery\", \"camra\", \"capacity\", \"capacity\", \"capacity\", \"capture\", \"car\", \"card\", \"card\", \"card\", \"card\", \"card\", \"card\", \"card\", \"card\", \"care\", \"care\", \"care\", \"care\", \"care\", \"care\", \"cash\", \"cash\", \"cast\", \"cast\", \"cast\", \"cast\", \"casting\", \"category\", \"cell\", \"cell\", \"cell\", \"center\", \"center\", \"center\", \"centre\", \"centre\", \"charge\", \"charge\", \"charge\", \"charge\", \"charge\", \"charge\", \"charge\", \"charge\", \"charge\", \"charge\", \"charge\", \"charger\", \"charger\", \"charger\", \"charger\", \"charger\", \"charger\", \"charger\", \"charger\", \"charger\", \"charging\", \"charging\", \"charging\", \"charging\", \"charging\", \"charging\", \"charging\", \"charging\", \"charging\", \"charging\", \"cheater\", \"china\", \"chrome\", \"chromecast\", \"clarity\", \"clarity\", \"clarity\", \"clarity\", \"clarity\", \"clarity\", \"clarity\", \"clarity\", \"class\", \"class\", \"class\", \"clearity\", \"colour\", \"colour\", \"colour\", \"comapre\", \"combination\", \"come\", \"comment\", \"company\", \"company\", \"company\", \"company\", \"company\", \"company\", \"company\", \"company\", \"comparison\", \"complaint\", \"complaint\", \"con\", \"con\", \"con\", \"con\", \"con\", \"con\", \"concern\", \"condition\", \"condition\", \"condition\", \"condition\", \"connection\", \"connection\", \"connection\", \"connection\", \"connectivity\", \"connectivity\", \"control\", \"cool\", \"copy\", \"copy\", \"core\", \"core\", \"core\", \"core\", \"core\", \"core\", \"core\", \"core\", \"cost\", \"cost\", \"cost\", \"cpu\", \"crack\", \"crack\", \"curve\", \"custom\", \"customer\", \"customer\", \"customer\", \"customer\", \"customer\", \"customer\", \"customer\", \"customer\", \"customer\", \"dad\", \"data\", \"data\", \"data\", \"data\", \"data\", \"data\", \"data\", \"data\", \"date\", \"date\", \"date\", \"date\", \"date\", \"date\", \"day\", \"day\", \"day\", \"day\", \"day\", \"day\", \"day\", \"day\", \"day\", \"day\", \"day\", \"deal\", \"deal\", \"deal\", \"deca\", \"deca\", \"deca\", \"deca\", \"default\", \"default\", \"default\", \"default\", \"defect\", \"defect\", \"defect\", \"degree\", \"delivery\", \"delivery\", \"delivery\", \"delivery\", \"delivery\", \"delivery\", \"delivery\", \"delivery\", \"delivery\", \"delivery\", \"department\", \"depth\", \"depth\", \"depth\", \"depth\", \"depth\", \"depth\", \"design\", \"design\", \"design\", \"design\", \"design\", \"detail\", \"device\", \"device\", \"device\", \"device\", \"device\", \"device\", \"device\", \"device\", \"device\", \"device\", \"device\", \"device\", \"difference\", \"difference\", \"disaster\", \"discharge\", \"discount\", \"display\", \"display\", \"display\", \"display\", \"display\", \"display\", \"display\", \"display\", \"display\", \"diya\", \"doesnt\", \"dolby\", \"dolby\", \"dolby\", \"dolby\", \"dolby\", \"dolby\", \"dont\", \"dont\", \"dont\", \"dont\", \"dont\", \"dont\", \"dont\", \"dont\", \"download\", \"drain\", \"drain\", \"drain\", \"drain\", \"drain\", \"drain\", \"drain\", \"drainage\", \"draining\", \"draining\", \"drop\", \"drop\", \"drop\", \"duel\", \"dust\", \"ear\", \"earphone\", \"earphone\", \"earphone\", \"earphone\", \"earphone\", \"earphone\", \"earphone\", \"earth\", \"ease\", \"edge\", \"edge\", \"edge\", \"effect\", \"effect\", \"effect\", \"effect\", \"effect\", \"effect\", \"effect\", \"effect\", \"efficient\", \"effort\", \"ek\", \"electronics\", \"end\", \"end\", \"everything\", \"everything\", \"everything\", \"everything\", \"everything\", \"everything\", \"everything\", \"example\", \"excellent\", \"excellent\", \"excellent\", \"exchange\", \"exchange\", \"expectation\", \"expectation\", \"expectation\", \"expectation\", \"expectation\", \"expectation\", \"expectation\", \"expectation\", \"expectation\", \"experience\", \"experience\", \"experience\", \"experience\", \"experience\", \"experience\", \"experience\", \"experience\", \"experience\", \"experience\", \"experience\", \"experience\", \"face\", \"face\", \"facility\", \"facility\", \"fact\", \"fake\", \"fall\", \"family\", \"fan\", \"fast\", \"fast\", \"fast\", \"fast\", \"feature\", \"feature\", \"feature\", \"feature\", \"feature\", \"feature\", \"feature\", \"feature\", \"feature\", \"feature\", \"feature\", \"feature\", \"feeling\", \"feeling\", \"field\", \"file\", \"file\", \"file\", \"file\", \"fine\", \"fine\", \"fine\", \"fine\", \"fingerprint\", \"fingerprint\", \"fingerprint\", \"fingerprint\", \"fingerprint\", \"flash\", \"flash\", \"flash\", \"flash\", \"flash\", \"flash\", \"flashlight\", \"focus\", \"focus\", \"folder\", \"fraud\", \"front\", \"front\", \"front\", \"front\", \"front\", \"front\", \"front\", \"fuction\", \"function\", \"function\", \"function\", \"function\", \"function\", \"functionality\", \"functionality\", \"functionality\", \"functioning\", \"future\", \"future\", \"g\", \"gallery\", \"gallery\", \"gallery\", \"gallery\", \"gallery\", \"gallery\", \"game\", \"game\", \"game\", \"game\", \"game\", \"game\", \"game\", \"game\", \"game\", \"game\", \"game\", \"gamer\", \"gaming\", \"gaming\", \"gaming\", \"gaming\", \"gaming\", \"gaming\", \"gaya\", \"gb\", \"gb\", \"gb\", \"gb\", \"generation\", \"gesture\", \"gesture\", \"ghatiya\", \"gift\", \"glass\", \"glass\", \"glass\", \"glass\", \"glass\", \"go\", \"gold\", \"gold\", \"gorilla\", \"gorilla\", \"gorilla\", \"gorilla\", \"gorilla\", \"graphic\", \"group\", \"guard\", \"guard\", \"gud\", \"gud\", \"gud\", \"guess\", \"h\", \"h\", \"ha\", \"hai\", \"hai\", \"hai\", \"hai\", \"half\", \"handset\", \"handset\", \"handset\", \"handset\", \"handset\", \"handset\", \"handset\", \"handset\", \"handset\", \"handset\", \"hang\", \"hang\", \"hang\", \"hang\", \"hang\", \"hang\", \"hang\", \"hang\", \"hanging\", \"hanging\", \"hardware\", \"hardware\", \"hardware\", \"hardware\", \"hardware\", \"hardware\", \"hd\", \"hd\", \"hd\", \"head\", \"head\", \"head\", \"headphone\", \"headphone\", \"headphone\", \"headphone\", \"headset\", \"headset\", \"heat\", \"heat\", \"heat\", \"heat\", \"heat\", \"heat\", \"heat\", \"heat\", \"heat\", \"heat\", \"heat\", \"heater\", \"heating\", \"heating\", \"heating\", \"heating\", \"heating\", \"heating\", \"heating\", \"heating\", \"heating\", \"heating\", \"helio\", \"hell\", \"hell\", \"hell\", \"hell\", \"help\", \"help\", \"help\", \"hi\", \"hi\", \"hi\", \"hi\", \"hi\", \"hi\", \"ho\", \"ho\", \"ho\", \"ho\", \"hone\", \"hota\", \"hota\", \"hotspot\", \"hotspot\", \"hotspot\", \"hour\", \"hour\", \"hour\", \"hour\", \"hour\", \"hour\", \"hour\", \"hour\", \"hour\", \"hour\", \"hour\", \"hr\", \"hr\", \"hr\", \"hr\", \"hr\", \"hr\", \"hr\", \"hr\", \"htc\", \"hu\", \"icon\", \"id\", \"idea\", \"idea\", \"ideal\", \"idle\", \"image\", \"image\", \"image\", \"image\", \"image\", \"image\", \"improvement\", \"improvement\", \"improvement\", \"increase\", \"india\", \"indicator\", \"information\", \"information\", \"internet\", \"internet\", \"internet\", \"internet\", \"internet\", \"internet\", \"internet\", \"internet\", \"invoice\", \"invoice\", \"invoice\", \"irritating\", \"isme\", \"issue\", \"issue\", \"issue\", \"issue\", \"issue\", \"issue\", \"issue\", \"issue\", \"issue\", \"issue\", \"issue\", \"issue\", \"item\", \"item\", \"item\", \"item\", \"item\", \"item\", \"item\", \"jack\", \"jack\", \"jack\", \"jack\", \"jack\", \"jack\", \"jack\", \"jata\", \"jio\", \"jio\", \"jio\", \"jio\", \"jio\", \"job\", \"joke\", \"jyada\", \"ka\", \"ka\", \"kar\", \"ke\", \"ke\", \"ke\", \"ke\", \"key\", \"key\", \"key\", \"key\", \"key\", \"kharab\", \"ki\", \"ki\", \"killer\", \"killer\", \"killer\", \"killer\", \"killer\", \"kiya\", \"ko\", \"ko\", \"koi\", \"koi\", \"kr\", \"lack\", \"lack\", \"lack\", \"lack\", \"lag\", \"lag\", \"lag\", \"lag\", \"lag\", \"laptop\", \"last\", \"launch\", \"lena\", \"lenova\", \"lenovo\", \"lenovo\", \"lenovo\", \"lenovo\", \"lenovo\", \"lenovo\", \"lenovo\", \"lenovo\", \"lenovo\", \"lenovo\", \"lenovo\", \"lenovo\", \"level\", \"level\", \"level\", \"level\", \"lie\", \"life\", \"life\", \"life\", \"life\", \"life\", \"life\", \"life\", \"life\", \"life\", \"life\", \"light\", \"light\", \"light\", \"light\", \"light\", \"light\", \"light\", \"light\", \"light\", \"limit\", \"line\", \"line\", \"liye\", \"lock\", \"lock\", \"lock\", \"lock\", \"loss\", \"lot\", \"lot\", \"lot\", \"lot\", \"lot\", \"lot\", \"lot\", \"lot\", \"lot\", \"love\", \"love\", \"lte\", \"lte\", \"lte\", \"mah\", \"mah\", \"mah\", \"mah\", \"mah\", \"mah\", \"mah\", \"mah\", \"mah\", \"mail\", \"mail\", \"management\", \"management\", \"management\", \"management\", \"management\", \"management\", \"manager\", \"manner\", \"manufacturing\", \"mark\", \"mark\", \"mark\", \"mark\", \"mark\", \"mark\", \"mark\", \"mark\", \"market\", \"market\", \"market\", \"market\", \"market\", \"mast\", \"mat\", \"mean\", \"medium\", \"medium\", \"medium\", \"memory\", \"memory\", \"memory\", \"memory\", \"memory\", \"memory\", \"memory\", \"memory\", \"mention\", \"menu\", \"mera\", \"message\", \"message\", \"message\", \"message\", \"messenger\", \"micromax\", \"mila\", \"min\", \"min\", \"min\", \"min\", \"min\", \"mind\", \"minus\", \"miracast\", \"mob\", \"mobail\", \"mobil\", \"mobile\", \"mobile\", \"mobile\", \"mobile\", \"mobile\", \"mobile\", \"mobile\", \"mobile\", \"mobile\", \"mobile\", \"mobile\", \"mobile\", \"mode\", \"mode\", \"mode\", \"mode\", \"mode\", \"mode\", \"mode\", \"mode\", \"mode\", \"mode\", \"model\", \"model\", \"model\", \"model\", \"model\", \"model\", \"money\", \"money\", \"money\", \"money\", \"money\", \"money\", \"money\", \"money\", \"money\", \"money\", \"money\", \"month\", \"month\", \"month\", \"month\", \"month\", \"month\", \"month\", \"month\", \"month\", \"month\", \"month\", \"morning\", \"morning\", \"morning\", \"morning\", \"motherboard\", \"motion\", \"motion\", \"movie\", \"mp\", \"mp\", \"mp\", \"mp\", \"mp\", \"mp\", \"msg\", \"multimedia\", \"music\", \"music\", \"music\", \"music\", \"music\", \"music\", \"music\", \"music\", \"nahi\", \"nahi\", \"name\", \"name\", \"name\", \"name\", \"navigation\", \"need\", \"need\", \"need\", \"need\", \"need\", \"need\", \"need\", \"need\", \"need\", \"need\", \"net\", \"net\", \"network\", \"network\", \"network\", \"network\", \"network\", \"network\", \"network\", \"network\", \"network\", \"news\", \"nhi\", \"nice\", \"night\", \"night\", \"night\", \"night\", \"note\", \"note\", \"note\", \"note\", \"note\", \"note\", \"note\", \"note\", \"note\", \"note\", \"note\", \"note\", \"nothing\", \"nothing\", \"nothing\", \"nothing\", \"nothing\", \"nothing\", \"nothing\", \"notification\", \"notification\", \"notification\", \"notification\", \"notification\", \"notification\", \"notification\", \"notification\", \"notification\", \"nougat\", \"november\", \"number\", \"number\", \"number\", \"number\", \"object\", \"oct\", \"october\", \"offer\", \"offer\", \"offer\", \"office\", \"ok\", \"ok\", \"ok\", \"ok\", \"okay\", \"operating\", \"operating\", \"optimization\", \"option\", \"option\", \"option\", \"option\", \"option\", \"option\", \"option\", \"option\", \"order\", \"order\", \"order\", \"oreo\", \"oreo\", \"oreo\", \"oreo\", \"osm\", \"ota\", \"others\", \"others\", \"others\", \"overheating\", \"pack\", \"packaging\", \"packaging\", \"packing\", \"pad\", \"page\", \"paisa\", \"paper\", \"paper\", \"par\", \"par\", \"patch\", \"pc\", \"penny\", \"percent\", \"perfect\", \"perfomance\", \"performance\", \"performance\", \"performance\", \"performance\", \"performance\", \"performance\", \"performance\", \"performance\", \"performance\", \"performance\", \"performance\", \"persist\", \"ph\", \"phn\", \"phn\", \"phon\", \"phone\", \"phone\", \"phone\", \"phone\", \"phone\", \"phone\", \"phone\", \"phone\", \"phone\", \"phone\", \"phone\", \"phone\", \"photo\", \"photo\", \"photo\", \"photo\", \"photo\", \"photo\", \"photo\", \"photo\", \"photograph\", \"photography\", \"photography\", \"photography\", \"picture\", \"picture\", \"picture\", \"picture\", \"picture\", \"picture\", \"piece\", \"piece\", \"piece\", \"piece\", \"piece\", \"piece\", \"pin\", \"pixel\", \"pixel\", \"place\", \"playing\", \"please\", \"please\", \"please\", \"please\", \"please\", \"please\", \"please\", \"please\", \"pls\", \"pls\", \"pls\", \"pls\", \"pls\", \"pls\", \"plz\", \"plz\", \"plz\", \"plz\", \"plz\", \"policy\", \"policy\", \"policy\", \"policy\", \"policy\", \"policy\", \"position\", \"power\", \"power\", \"power\", \"power\", \"power\", \"power\", \"powerfull\", \"pr\", \"prblm\", \"price\", \"price\", \"price\", \"price\", \"price\", \"price\", \"price\", \"price\", \"price\", \"price\", \"price\", \"priority\", \"priority\", \"priority\", \"prise\", \"problem\", \"problem\", \"problem\", \"problem\", \"problem\", \"problem\", \"problem\", \"problem\", \"problem\", \"problem\", \"problem\", \"problem\", \"processer\", \"processing\", \"processor\", \"processor\", \"processor\", \"processor\", \"processor\", \"processor\", \"processor\", \"processor\", \"processor\", \"processor\", \"product\", \"product\", \"product\", \"product\", \"product\", \"product\", \"product\", \"product\", \"product\", \"product\", \"product\", \"product\", \"protection\", \"provider\", \"provider\", \"purchase\", \"purchase\", \"purchase\", \"purchase\", \"purchase\", \"purchase\", \"purchase\", \"purchase\", \"purchase\", \"purpose\", \"quality\", \"quality\", \"quality\", \"quality\", \"quality\", \"quality\", \"quality\", \"quality\", \"quality\", \"quality\", \"quality\", \"quality\", \"r\", \"r\", \"r\", \"r\", \"raha\", \"raha\", \"ram\", \"ram\", \"ram\", \"ram\", \"ram\", \"ram\", \"ram\", \"ram\", \"ram\", \"range\", \"range\", \"range\", \"range\", \"range\", \"range\", \"range\", \"range\", \"range\", \"range\", \"rate\", \"rate\", \"rate\", \"reality\", \"reboot\", \"reception\", \"reception\", \"reception\", \"recharge\", \"record\", \"record\", \"recorder\", \"recorder\", \"recorder\", \"recorder\", \"recording\", \"recording\", \"refund\", \"refund\", \"refund\", \"refund\", \"repair\", \"replacement\", \"replacement\", \"replacement\", \"replacement\", \"replacement\", \"replacement\", \"replacement\", \"replacement\", \"reset\", \"resolution\", \"resolution\", \"resolution\", \"rest\", \"rest\", \"rest\", \"rest\", \"result\", \"return\", \"return\", \"return\", \"return\", \"return\", \"review\", \"review\", \"review\", \"review\", \"review\", \"review\", \"review\", \"review\", \"review\", \"review\", \"rha\", \"right\", \"right\", \"rock\", \"rom\", \"round\", \"rupee\", \"sabse\", \"sale\", \"sale\", \"sale\", \"sale\", \"scanner\", \"screen\", \"screen\", \"screen\", \"screen\", \"screen\", \"screen\", \"screen\", \"screen\", \"screen\", \"screen\", \"screenshot\", \"screenshot\", \"se\", \"se\", \"se\", \"second\", \"second\", \"segment\", \"segment\", \"segment\", \"seller\", \"seller\", \"seller\", \"seller\", \"sensing\", \"sensing\", \"sensor\", \"sensor\", \"sensor\", \"sensor\", \"sensor\", \"sensor\", \"sensor\", \"sensor\", \"sep\", \"september\", \"series\", \"service\", \"service\", \"service\", \"service\", \"service\", \"service\", \"service\", \"service\", \"service\", \"service\", \"set\", \"set\", \"set\", \"set\", \"set\", \"setting\", \"setting\", \"setting\", \"setting\", \"shape\", \"share\", \"share\", \"shot\", \"shot\", \"shot\", \"shot\", \"shot\", \"show\", \"show\", \"show\", \"show\", \"shutter\", \"side\", \"side\", \"side\", \"side\", \"side\", \"side\", \"side\", \"signal\", \"signal\", \"signal\", \"signal\", \"signal\", \"sim\", \"sim\", \"sim\", \"sim\", \"sim\", \"sim\", \"sim\", \"sim\", \"sims\", \"sir\", \"sir\", \"sir\", \"site\", \"site\", \"size\", \"size\", \"slot\", \"slot\", \"slot\", \"slot\", \"slot\", \"slot\", \"sm\", \"sm\", \"smart\", \"smartphone\", \"smartphone\", \"smartphone\", \"smartphone\", \"smartphone\", \"smartphone\", \"smartphone\", \"smartphone\", \"smartphone\", \"smartphones\", \"socket\", \"software\", \"software\", \"software\", \"software\", \"software\", \"software\", \"software\", \"software\", \"software\", \"software\", \"someone\", \"someone\", \"sort\", \"sound\", \"sound\", \"sound\", \"sound\", \"sound\", \"sound\", \"sound\", \"sound\", \"sound\", \"space\", \"space\", \"speaker\", \"speaker\", \"speaker\", \"speaker\", \"speaker\", \"speaker\", \"speaker\", \"speaker\", \"speaker\", \"speaker\", \"specification\", \"specification\", \"specification\", \"specification\", \"specification\", \"specification\", \"specification\", \"speed\", \"speed\", \"speed\", \"speed\", \"speed\", \"speed\", \"speed\", \"speed\", \"speed\", \"split\", \"split\", \"stand\", \"standard\", \"standby\", \"star\", \"star\", \"star\", \"star\", \"star\", \"star\", \"star\", \"status\", \"status\", \"step\", \"stock\", \"stock\", \"stock\", \"stock\", \"stock\", \"stock\", \"stock\", \"stock\", \"stop\", \"stop\", \"storage\", \"storage\", \"storage\", \"strength\", \"stuff\", \"style\", \"suck\", \"suck\", \"suggest\", \"suggestion\", \"suggestion\", \"suggestion\", \"super\", \"super\", \"superb\", \"superb\", \"superb\", \"superb\", \"superb\", \"support\", \"support\", \"support\", \"support\", \"support\", \"surfing\", \"system\", \"system\", \"system\", \"system\", \"system\", \"system\", \"tag\", \"talk\", \"team\", \"team\", \"team\", \"team\", \"team\", \"technician\", \"technology\", \"technology\", \"test\", \"thank\", \"thank\", \"thanks\", \"thanks\", \"thanks\", \"thanks\", \"thanks\", \"thanks\", \"thanks\", \"thats\", \"theme\", \"thik\", \"thing\", \"thing\", \"thing\", \"thing\", \"thing\", \"thing\", \"thing\", \"thing\", \"thing\", \"think\", \"think\", \"ti\", \"till\", \"till\", \"till\", \"till\", \"till\", \"till\", \"till\", \"time\", \"time\", \"time\", \"time\", \"time\", \"time\", \"time\", \"time\", \"time\", \"time\", \"time\", \"time\", \"today\", \"today\", \"today\", \"today\", \"today\", \"toh\", \"tone\", \"tone\", \"top\", \"touch\", \"touch\", \"touch\", \"touch\", \"touch\", \"touch\", \"trap\", \"tray\", \"trouble\", \"trouble\", \"trust\", \"turbo\", \"turbo\", \"turbo\", \"turbo\", \"turbo\", \"turbo\", \"turbo\", \"turbo\", \"turbo\", \"turbo\", \"tv\", \"tv\", \"tv\", \"tv\", \"ui\", \"ui\", \"unlock\", \"update\", \"update\", \"update\", \"update\", \"update\", \"update\", \"update\", \"update\", \"update\", \"update\", \"update\", \"update\", \"us\", \"usage\", \"usage\", \"usage\", \"usage\", \"usage\", \"usage\", \"usage\", \"usage\", \"usb\", \"use\", \"use\", \"use\", \"use\", \"use\", \"use\", \"use\", \"use\", \"use\", \"use\", \"use\", \"user\", \"user\", \"user\", \"user\", \"user\", \"user\", \"user\", \"user\", \"v\", \"value\", \"value\", \"value\", \"value\", \"value\", \"variant\", \"variant\", \"version\", \"version\", \"version\", \"version\", \"version\", \"version\", \"version\", \"vibe\", \"vibe\", \"vibration\", \"video\", \"video\", \"video\", \"video\", \"video\", \"video\", \"video\", \"video\", \"view\", \"visibility\", \"visit\", \"vodafone\", \"voice\", \"voice\", \"voice\", \"voice\", \"voice\", \"voice\", \"volta\", \"volta\", \"volta\", \"volta\", \"volume\", \"volume\", \"volume\", \"volume\", \"volume\", \"warm\", \"warranty\", \"warranty\", \"warranty\", \"waste\", \"waste\", \"waste\", \"waste\", \"waste\", \"waste\", \"waste\", \"waste\", \"water\", \"week\", \"week\", \"week\", \"week\", \"week\", \"week\", \"week\", \"week\", \"weight\", \"weight\", \"west\", \"whats\", \"whatsapp\", \"whatsapp\", \"whatsapp\", \"whatsapp\", \"wife\", \"wifi\", \"wifi\", \"wifi\", \"wifi\", \"wifi\", \"wifi\", \"wifi\", \"window\", \"wireless\", \"wise\", \"wise\", \"wise\", \"wise\", \"word\", \"word\", \"work\", \"work\", \"work\", \"work\", \"work\", \"work\", \"work\", \"work\", \"world\", \"worth\", \"worth\", \"worth\", \"worth\", \"worth\", \"worth\", \"wow\", \"wrost\", \"ye\", \"ye\", \"yesterday\", \"yesterday\", \"yr\", \"zone\", \"zoom\"]}, \"R\": 30, \"lambda.step\": 0.01, \"plot.opts\": {\"xlab\": \"PC1\", \"ylab\": \"PC2\"}, \"topic.order\": [11, 1, 7, 10, 12, 9, 3, 4, 5, 2, 8, 6]};\n",
       "\n",
       "function LDAvis_load_lib(url, callback){\n",
       "  var s = document.createElement('script');\n",
       "  s.src = url;\n",
       "  s.async = true;\n",
       "  s.onreadystatechange = s.onload = callback;\n",
       "  s.onerror = function(){console.warn(\"failed to load library \" + url);};\n",
       "  document.getElementsByTagName(\"head\")[0].appendChild(s);\n",
       "}\n",
       "\n",
       "if(typeof(LDAvis) !== \"undefined\"){\n",
       "   // already loaded: just create the visualization\n",
       "   !function(LDAvis){\n",
       "       new LDAvis(\"#\" + \"ldavis_el1552021999080172808844508275\", ldavis_el1552021999080172808844508275_data);\n",
       "   }(LDAvis);\n",
       "}else if(typeof define === \"function\" && define.amd){\n",
       "   // require.js is available: use it to load d3/LDAvis\n",
       "   require.config({paths: {d3: \"https://cdnjs.cloudflare.com/ajax/libs/d3/3.5.5/d3.min\"}});\n",
       "   require([\"d3\"], function(d3){\n",
       "      window.d3 = d3;\n",
       "      LDAvis_load_lib(\"https://cdn.rawgit.com/bmabey/pyLDAvis/files/ldavis.v1.0.0.js\", function(){\n",
       "        new LDAvis(\"#\" + \"ldavis_el1552021999080172808844508275\", ldavis_el1552021999080172808844508275_data);\n",
       "      });\n",
       "    });\n",
       "}else{\n",
       "    // require.js not available: dynamically load d3 & LDAvis\n",
       "    LDAvis_load_lib(\"https://cdnjs.cloudflare.com/ajax/libs/d3/3.5.5/d3.min.js\", function(){\n",
       "         LDAvis_load_lib(\"https://cdn.rawgit.com/bmabey/pyLDAvis/files/ldavis.v1.0.0.js\", function(){\n",
       "                 new LDAvis(\"#\" + \"ldavis_el1552021999080172808844508275\", ldavis_el1552021999080172808844508275_data);\n",
       "            })\n",
       "         });\n",
       "}\n",
       "</script>"
      ],
      "text/plain": [
       "PreparedData(topic_coordinates=              x         y  topics  cluster       Freq\n",
       "topic                                                \n",
       "10     0.132280  0.026601       1        1  14.185736\n",
       "0      0.113082 -0.096640       2        1  12.034122\n",
       "6     -0.009639  0.118459       3        1  11.760621\n",
       "9      0.025956 -0.057711       4        1   8.920110\n",
       "11     0.104951 -0.040078       5        1   8.632637\n",
       "8      0.034425  0.121846       6        1   7.471906\n",
       "2     -0.203257  0.094671       7        1   7.348303\n",
       "3      0.051232  0.189988       8        1   6.867156\n",
       "4      0.027725  0.017959       9        1   5.922180\n",
       "1      0.081340 -0.113558      10        1   5.871169\n",
       "7     -0.052842 -0.204135      11        1   5.595562\n",
       "5     -0.305252 -0.057402      12        1   5.390504, topic_info=        Term         Freq        Total Category  logprob  loglift\n",
       "47   product  2158.000000  2158.000000  Default  30.0000  30.0000\n",
       "15     phone  6938.000000  6938.000000  Default  29.0000  29.0000\n",
       "11    mobile  1635.000000  1635.000000  Default  28.0000  28.0000\n",
       "55    camera  3257.000000  3257.000000  Default  27.0000  27.0000\n",
       "4    battery  3076.000000  3076.000000  Default  26.0000  26.0000\n",
       "..       ...          ...          ...      ...      ...      ...\n",
       "15     phone    67.750221  6938.750000  Topic12  -4.1572  -1.7085\n",
       "92   feature    42.824276   861.412354  Topic12  -4.6159  -0.0809\n",
       "490  company    30.571445   134.745834  Topic12  -4.9530   1.4372\n",
       "782     heat    32.815998   382.667023  Topic12  -4.8821   0.4643\n",
       "23    lenovo    34.496861   890.963257  Topic12  -4.8322  -0.3309\n",
       "\n",
       "[747 rows x 6 columns], token_table=      Topic      Freq       Term\n",
       "term                            \n",
       "1367      3  0.061019        aap\n",
       "1367      7  0.915283        aap\n",
       "1328      1  0.965505     access\n",
       "332       8  0.692672  accessory\n",
       "332       9  0.293054  accessory\n",
       "...     ...       ...        ...\n",
       "1024      4  0.030253  yesterday\n",
       "1024      8  0.937850  yesterday\n",
       "1464      2  0.923400         yr\n",
       "1210      9  0.914666       zone\n",
       "1770      5  0.953074       zoom\n",
       "\n",
       "[1945 rows x 3 columns], R=30, lambda_step=0.01, plot_opts={'xlab': 'PC1', 'ylab': 'PC2'}, topic_order=[11, 1, 7, 10, 12, 9, 3, 4, 5, 2, 8, 6])"
      ]
     },
     "execution_count": 23,
     "metadata": {},
     "output_type": "execute_result"
    }
   ],
   "source": [
    "pyLDAvis.enable_notebook()\n",
    "\n",
    "vis = pyLDAvis.gensim.prepare(lda_model, corpus, dictionary)\n",
    "vis"
   ]
  },
  {
   "cell_type": "code",
   "execution_count": 24,
   "metadata": {},
   "outputs": [
    {
     "name": "stdout",
     "output_type": "stream",
     "text": [
      "Coherence Score:  0.5423933187777923\n"
     ]
    }
   ],
   "source": [
    "# Compute Coherence Score\n",
    "coherence_model_lda = gensim.models.CoherenceModel(model=lda_model, texts=review_no_sw, dictionary=dictionary, coherence='c_v')\n",
    "\n",
    "coherence_lda = coherence_model_lda.get_coherence()\n",
    "print('Coherence Score: ', coherence_lda)"
   ]
  },
  {
   "cell_type": "markdown",
   "metadata": {},
   "source": [
    "#### 8.1 Print out the top terms for each topic."
   ]
  },
  {
   "cell_type": "code",
   "execution_count": null,
   "metadata": {},
   "outputs": [],
   "source": []
  },
  {
   "cell_type": "markdown",
   "metadata": {},
   "source": [
    "#### 8.2 coherence of the model with the c_v metric"
   ]
  },
  {
   "cell_type": "code",
   "execution_count": null,
   "metadata": {},
   "outputs": [],
   "source": []
  },
  {
   "cell_type": "markdown",
   "metadata": {},
   "source": [
    "#### 9. Analyze the topics through the business lens - Determine which of the topics can be combined"
   ]
  },
  {
   "cell_type": "code",
   "execution_count": null,
   "metadata": {},
   "outputs": [],
   "source": [
    "custom_stop_words = ['phone', 'problem', 'issue', 'product', 'mobile']"
   ]
  },
  {
   "cell_type": "code",
   "execution_count": null,
   "metadata": {},
   "outputs": [],
   "source": []
  },
  {
   "cell_type": "markdown",
   "metadata": {},
   "source": [
    "#### 10. Create topic model using LDA with what you think is the optimal number of topics"
   ]
  },
  {
   "cell_type": "code",
   "execution_count": null,
   "metadata": {},
   "outputs": [],
   "source": []
  },
  {
   "cell_type": "markdown",
   "metadata": {},
   "source": [
    "#### 10.1 Coherence of the optimal model"
   ]
  },
  {
   "cell_type": "code",
   "execution_count": null,
   "metadata": {},
   "outputs": [],
   "source": []
  },
  {
   "cell_type": "markdown",
   "metadata": {},
   "source": [
    "#### 11. Business interpretation of the identified topics"
   ]
  },
  {
   "cell_type": "code",
   "execution_count": null,
   "metadata": {},
   "outputs": [],
   "source": []
  },
  {
   "cell_type": "markdown",
   "metadata": {},
   "source": [
    "#### 11.1. Table with the topic names and the top 10 terms in each to present to the business"
   ]
  },
  {
   "cell_type": "code",
   "execution_count": null,
   "metadata": {},
   "outputs": [],
   "source": []
  }
 ],
 "metadata": {
  "kernelspec": {
   "display_name": "Python 3",
   "language": "python",
   "name": "python3"
  },
  "language_info": {
   "codemirror_mode": {
    "name": "ipython",
    "version": 3
   },
   "file_extension": ".py",
   "mimetype": "text/x-python",
   "name": "python",
   "nbconvert_exporter": "python",
   "pygments_lexer": "ipython3",
   "version": "3.7.3"
  }
 },
 "nbformat": 4,
 "nbformat_minor": 4
}
