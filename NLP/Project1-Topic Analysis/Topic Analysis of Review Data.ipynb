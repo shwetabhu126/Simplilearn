{
 "cells": [
  {
   "cell_type": "markdown",
   "metadata": {},
   "source": [
    "## Topic Analysis of Review Data"
   ]
  },
  {
   "cell_type": "markdown",
   "metadata": {},
   "source": [
    "#### DESCRIPTION\n",
    "\n",
    "Help a leading mobile brand understand the voice of the customer by analyzing the reviews of their product on Amazon and the topics that customers are talking about. You will perform topic modeling on specific parts of speech. You’ll finally interpret the emerging topics."
   ]
  },
  {
   "cell_type": "markdown",
   "metadata": {},
   "source": [
    "#### Problem Statement: \n",
    "\n",
    "A popular mobile phone brand, Lenovo has launched their budget smartphone in the Indian market. The client wants to understand the VOC (voice of the customer) on the product. This will be useful to not just evaluate the current product, but to also get some direction for developing the product pipeline. The client is particularly interested in the different aspects that customers care about. Product reviews by customers on a leading e-commerce site should provide a good view."
   ]
  },
  {
   "cell_type": "markdown",
   "metadata": {},
   "source": [
    "**Domain:** Amazon reviews for a leading phone brand"
   ]
  },
  {
   "cell_type": "markdown",
   "metadata": {},
   "source": [
    "#### Analysis to be done: \n",
    "POS tagging, topic modeling using LDA, and topic interpretation\n",
    "\n",
    "**Dataset:** ‘K8 Reviews v0.2.csv’\n",
    "\n",
    "**Sentiment:** The sentiment against the review (4,5 star reviews are positive, 1,2 are negative)\n",
    "\n",
    "**Reviews:** The main text of the review"
   ]
  },
  {
   "cell_type": "markdown",
   "metadata": {},
   "source": [
    "#### Steps to perform:\n",
    "\n",
    "Discover the topics in the reviews and present it to business in a consumable format. Employ techniques in syntactic processing and topic modeling.\n",
    "\n",
    "Perform specific cleanup, POS tagging, and restricting to relevant POS tags, then, perform topic modeling using LDA. Finally, give business-friendly names to the topics and make a table for business."
   ]
  },
  {
   "cell_type": "markdown",
   "metadata": {},
   "source": [
    "#### Tasks: \n",
    "\n",
    "1. Read the .csv file using Pandas. Take a look at the top few records.\n",
    "\n",
    "2. Normalize casings for the review text and extract the text into a list for easier manipulation.\n",
    "\n",
    "3. Tokenize the reviews using NLTKs word_tokenize function.\n",
    "\n",
    "4. Perform parts-of-speech tagging on each sentence using the NLTK POS tagger.\n",
    "\n",
    "5. For the topic model, we should  want to include only nouns.\n",
    "\n",
    "  - Find out all the POS tags that correspond to nouns.\n",
    "\n",
    "  - Limit the data to only terms with these tags.\n",
    "\n",
    "6. Lemmatize. \n",
    "\n",
    "  - Different forms of the terms need to be treated as one.\n",
    "\n",
    "  - No need to provide POS tag to lemmatizer for now.\n",
    "\n",
    "7. Remove stopwords and punctuation (if there are any). \n",
    "\n",
    "8. Create a topic model using LDA on the cleaned up data with 12 topics.\n",
    "\n",
    "  - Print out the top terms for each topic.\n",
    "\n",
    "  - What is the coherence of the model with the c_v metric?\n",
    "\n",
    "9. Analyze the topics through the business lens.\n",
    "\n",
    "  - Determine which of the topics can be combined.\n",
    "\n",
    "10. Create topic model using LDA with what you think is the optimal number of topics\n",
    "\n",
    "  - What is the coherence of the model?\n",
    "\n",
    "11. The business should  be able to interpret the topics.\n",
    "\n",
    "  - Name each of the identified topics.\n",
    "\n",
    "  - Create a table with the topic name and the top 10 terms in each to present to the  business."
   ]
  },
  {
   "cell_type": "code",
   "execution_count": 1,
   "metadata": {},
   "outputs": [],
   "source": [
    "import numpy as np\n",
    "import pandas as pd\n",
    "import re\n",
    "import nltk\n",
    "import gensim\n",
    "\n",
    "# Sklearn\n",
    "from sklearn.decomposition import LatentDirichletAllocation\n",
    "from sklearn.feature_extraction.text import CountVectorizer, TfidfVectorizer\n",
    "from sklearn.model_selection import GridSearchCV\n",
    "from pprint import pprint\n",
    "\n",
    "# Plotting tools\n",
    "import pyLDAvis\n",
    "import pyLDAvis.sklearn\n",
    "import pyLDAvis.gensim\n",
    "import matplotlib.pyplot as plt\n",
    "%matplotlib inline"
   ]
  },
  {
   "cell_type": "markdown",
   "metadata": {},
   "source": [
    "#### 1. Read the data"
   ]
  },
  {
   "cell_type": "code",
   "execution_count": 2,
   "metadata": {},
   "outputs": [],
   "source": [
    "data = pd.read_csv('K8 Reviews v0.2.csv')"
   ]
  },
  {
   "cell_type": "code",
   "execution_count": 3,
   "metadata": {},
   "outputs": [
    {
     "data": {
      "text/html": [
       "<div>\n",
       "<style scoped>\n",
       "    .dataframe tbody tr th:only-of-type {\n",
       "        vertical-align: middle;\n",
       "    }\n",
       "\n",
       "    .dataframe tbody tr th {\n",
       "        vertical-align: top;\n",
       "    }\n",
       "\n",
       "    .dataframe thead th {\n",
       "        text-align: right;\n",
       "    }\n",
       "</style>\n",
       "<table border=\"1\" class=\"dataframe\">\n",
       "  <thead>\n",
       "    <tr style=\"text-align: right;\">\n",
       "      <th></th>\n",
       "      <th>sentiment</th>\n",
       "      <th>review</th>\n",
       "    </tr>\n",
       "  </thead>\n",
       "  <tbody>\n",
       "    <tr>\n",
       "      <th>0</th>\n",
       "      <td>1</td>\n",
       "      <td>Good but need updates and improvements</td>\n",
       "    </tr>\n",
       "    <tr>\n",
       "      <th>1</th>\n",
       "      <td>0</td>\n",
       "      <td>Worst mobile i have bought ever, Battery is dr...</td>\n",
       "    </tr>\n",
       "    <tr>\n",
       "      <th>2</th>\n",
       "      <td>1</td>\n",
       "      <td>when I will get my 10% cash back.... its alrea...</td>\n",
       "    </tr>\n",
       "    <tr>\n",
       "      <th>3</th>\n",
       "      <td>1</td>\n",
       "      <td>Good</td>\n",
       "    </tr>\n",
       "    <tr>\n",
       "      <th>4</th>\n",
       "      <td>0</td>\n",
       "      <td>The worst phone everThey have changed the last...</td>\n",
       "    </tr>\n",
       "  </tbody>\n",
       "</table>\n",
       "</div>"
      ],
      "text/plain": [
       "   sentiment                                             review\n",
       "0          1             Good but need updates and improvements\n",
       "1          0  Worst mobile i have bought ever, Battery is dr...\n",
       "2          1  when I will get my 10% cash back.... its alrea...\n",
       "3          1                                               Good\n",
       "4          0  The worst phone everThey have changed the last..."
      ]
     },
     "execution_count": 3,
     "metadata": {},
     "output_type": "execute_result"
    }
   ],
   "source": [
    "data.head()"
   ]
  },
  {
   "cell_type": "code",
   "execution_count": 4,
   "metadata": {},
   "outputs": [
    {
     "name": "stdout",
     "output_type": "stream",
     "text": [
      "<class 'pandas.core.frame.DataFrame'>\n",
      "RangeIndex: 14675 entries, 0 to 14674\n",
      "Data columns (total 2 columns):\n",
      " #   Column     Non-Null Count  Dtype \n",
      "---  ------     --------------  ----- \n",
      " 0   sentiment  14675 non-null  int64 \n",
      " 1   review     14675 non-null  object\n",
      "dtypes: int64(1), object(1)\n",
      "memory usage: 229.4+ KB\n"
     ]
    }
   ],
   "source": [
    "data.info()"
   ]
  },
  {
   "cell_type": "markdown",
   "metadata": {},
   "source": [
    "#### 2. Normalizing the casing to lower"
   ]
  },
  {
   "cell_type": "code",
   "execution_count": 5,
   "metadata": {},
   "outputs": [],
   "source": [
    "data['review_cleaned'] = data['review'].apply(lambda review: review.lower())"
   ]
  },
  {
   "cell_type": "code",
   "execution_count": 6,
   "metadata": {},
   "outputs": [
    {
     "data": {
      "text/html": [
       "<div>\n",
       "<style scoped>\n",
       "    .dataframe tbody tr th:only-of-type {\n",
       "        vertical-align: middle;\n",
       "    }\n",
       "\n",
       "    .dataframe tbody tr th {\n",
       "        vertical-align: top;\n",
       "    }\n",
       "\n",
       "    .dataframe thead th {\n",
       "        text-align: right;\n",
       "    }\n",
       "</style>\n",
       "<table border=\"1\" class=\"dataframe\">\n",
       "  <thead>\n",
       "    <tr style=\"text-align: right;\">\n",
       "      <th></th>\n",
       "      <th>sentiment</th>\n",
       "      <th>review</th>\n",
       "      <th>review_cleaned</th>\n",
       "    </tr>\n",
       "  </thead>\n",
       "  <tbody>\n",
       "    <tr>\n",
       "      <th>0</th>\n",
       "      <td>1</td>\n",
       "      <td>Good but need updates and improvements</td>\n",
       "      <td>good but need updates and improvements</td>\n",
       "    </tr>\n",
       "    <tr>\n",
       "      <th>1</th>\n",
       "      <td>0</td>\n",
       "      <td>Worst mobile i have bought ever, Battery is dr...</td>\n",
       "      <td>worst mobile i have bought ever, battery is dr...</td>\n",
       "    </tr>\n",
       "    <tr>\n",
       "      <th>2</th>\n",
       "      <td>1</td>\n",
       "      <td>when I will get my 10% cash back.... its alrea...</td>\n",
       "      <td>when i will get my 10% cash back.... its alrea...</td>\n",
       "    </tr>\n",
       "    <tr>\n",
       "      <th>3</th>\n",
       "      <td>1</td>\n",
       "      <td>Good</td>\n",
       "      <td>good</td>\n",
       "    </tr>\n",
       "    <tr>\n",
       "      <th>4</th>\n",
       "      <td>0</td>\n",
       "      <td>The worst phone everThey have changed the last...</td>\n",
       "      <td>the worst phone everthey have changed the last...</td>\n",
       "    </tr>\n",
       "  </tbody>\n",
       "</table>\n",
       "</div>"
      ],
      "text/plain": [
       "   sentiment                                             review  \\\n",
       "0          1             Good but need updates and improvements   \n",
       "1          0  Worst mobile i have bought ever, Battery is dr...   \n",
       "2          1  when I will get my 10% cash back.... its alrea...   \n",
       "3          1                                               Good   \n",
       "4          0  The worst phone everThey have changed the last...   \n",
       "\n",
       "                                      review_cleaned  \n",
       "0             good but need updates and improvements  \n",
       "1  worst mobile i have bought ever, battery is dr...  \n",
       "2  when i will get my 10% cash back.... its alrea...  \n",
       "3                                               good  \n",
       "4  the worst phone everthey have changed the last...  "
      ]
     },
     "execution_count": 6,
     "metadata": {},
     "output_type": "execute_result"
    }
   ],
   "source": [
    "data.head()"
   ]
  },
  {
   "cell_type": "markdown",
   "metadata": {},
   "source": [
    "#### 3. Tokenize the reviews using NLTKs word_tokenize function."
   ]
  },
  {
   "cell_type": "code",
   "execution_count": 7,
   "metadata": {},
   "outputs": [],
   "source": [
    "reviews = data['review_cleaned']\n",
    "reviews = [nltk.word_tokenize(review) for review in reviews]"
   ]
  },
  {
   "cell_type": "code",
   "execution_count": 8,
   "metadata": {},
   "outputs": [
    {
     "data": {
      "text/plain": [
       "14675"
      ]
     },
     "execution_count": 8,
     "metadata": {},
     "output_type": "execute_result"
    }
   ],
   "source": [
    "len(reviews)"
   ]
  },
  {
   "cell_type": "code",
   "execution_count": 9,
   "metadata": {},
   "outputs": [
    {
     "name": "stdout",
     "output_type": "stream",
     "text": [
      "[['good', 'but', 'need', 'updates', 'and', 'improvements'],\n",
      " ['worst', 'mobile', 'i', 'have', 'bought', 'ever', ',', 'battery', 'is',\n",
      "  'draining', 'like', 'hell', ',', 'backup', 'is', 'only', '6', 'to', '7',\n",
      "  'hours', 'with', 'internet', 'uses', ',', 'even', 'if', 'i', 'put', 'mobile',\n",
      "  'idle', 'its', 'getting', 'discharged.this', 'is', 'biggest', 'lie', 'from',\n",
      "  'amazon', '&', 'lenove', 'which', 'is', 'not', 'at', 'all', 'expected', ',',\n",
      "  'they', 'are', 'making', 'full', 'by', 'saying', 'that', 'battery', 'is',\n",
      "  '4000mah', '&', 'booster', 'charger', 'is', 'fake', ',', 'it', 'takes', 'at',\n",
      "  'least', '4', 'to', '5', 'hours', 'to', 'be', 'fully', 'charged.do', \"n't\",\n",
      "  'know', 'how', 'lenovo', 'will', 'survive', 'by', 'making', 'full', 'of',\n",
      "  'us.please', 'don', ';', 't', 'go', 'for', 'this', 'else', 'you', 'will',\n",
      "  'regret', 'like', 'me', '.'],\n",
      " ['when', 'i', 'will', 'get', 'my', '10', '%', 'cash', 'back', '...', '.',\n",
      "  'its', 'already', '15', 'january..'],\n",
      " ['good'],\n",
      " ['the', 'worst', 'phone', 'everthey', 'have', 'changed', 'the', 'last',\n",
      "  'phone', 'but', 'the', 'problem', 'is', 'still', 'same', 'and', 'the',\n",
      "  'amazon', 'is', 'not', 'returning', 'the', 'phone', '.highly',\n",
      "  'disappointing', 'of', 'amazon']]\n"
     ]
    }
   ],
   "source": [
    "pprint(reviews[:5], compact=True)"
   ]
  },
  {
   "cell_type": "markdown",
   "metadata": {},
   "source": [
    "#### 4. Perform parts-of-speech tagging on each document using the NLTK POS tagger"
   ]
  },
  {
   "cell_type": "code",
   "execution_count": 10,
   "metadata": {},
   "outputs": [
    {
     "name": "stdout",
     "output_type": "stream",
     "text": [
      "[[('good', 'JJ'), ('but', 'CC'), ('need', 'VBP'), ('updates', 'NNS'),\n",
      "  ('and', 'CC'), ('improvements', 'NNS')],\n",
      " [('worst', 'JJS'), ('mobile', 'NN'), ('i', 'NN'), ('have', 'VBP'),\n",
      "  ('bought', 'VBN'), ('ever', 'RB'), (',', ','), ('battery', 'NN'),\n",
      "  ('is', 'VBZ'), ('draining', 'VBG'), ('like', 'IN'), ('hell', 'NN'),\n",
      "  (',', ','), ('backup', 'NN'), ('is', 'VBZ'), ('only', 'RB'), ('6', 'CD'),\n",
      "  ('to', 'TO'), ('7', 'CD'), ('hours', 'NNS'), ('with', 'IN'),\n",
      "  ('internet', 'JJ'), ('uses', 'NNS'), (',', ','), ('even', 'RB'), ('if', 'IN'),\n",
      "  ('i', 'JJ'), ('put', 'VBP'), ('mobile', 'JJ'), ('idle', 'NN'),\n",
      "  ('its', 'PRP$'), ('getting', 'VBG'), ('discharged.this', 'NN'), ('is', 'VBZ'),\n",
      "  ('biggest', 'JJS'), ('lie', 'NN'), ('from', 'IN'), ('amazon', 'NN'),\n",
      "  ('&', 'CC'), ('lenove', 'NN'), ('which', 'WDT'), ('is', 'VBZ'), ('not', 'RB'),\n",
      "  ('at', 'IN'), ('all', 'DT'), ('expected', 'VBN'), (',', ','), ('they', 'PRP'),\n",
      "  ('are', 'VBP'), ('making', 'VBG'), ('full', 'JJ'), ('by', 'IN'),\n",
      "  ('saying', 'VBG'), ('that', 'DT'), ('battery', 'NN'), ('is', 'VBZ'),\n",
      "  ('4000mah', 'CD'), ('&', 'CC'), ('booster', 'JJR'), ('charger', 'NN'),\n",
      "  ('is', 'VBZ'), ('fake', 'JJ'), (',', ','), ('it', 'PRP'), ('takes', 'VBZ'),\n",
      "  ('at', 'IN'), ('least', 'JJS'), ('4', 'CD'), ('to', 'TO'), ('5', 'CD'),\n",
      "  ('hours', 'NNS'), ('to', 'TO'), ('be', 'VB'), ('fully', 'RB'),\n",
      "  ('charged.do', 'VBP'), (\"n't\", 'RB'), ('know', 'VB'), ('how', 'WRB'),\n",
      "  ('lenovo', 'JJ'), ('will', 'MD'), ('survive', 'VB'), ('by', 'IN'),\n",
      "  ('making', 'VBG'), ('full', 'JJ'), ('of', 'IN'), ('us.please', 'JJ'),\n",
      "  ('don', 'NN'), (';', ':'), ('t', 'CC'), ('go', 'VB'), ('for', 'IN'),\n",
      "  ('this', 'DT'), ('else', 'JJ'), ('you', 'PRP'), ('will', 'MD'),\n",
      "  ('regret', 'VB'), ('like', 'IN'), ('me', 'PRP'), ('.', '.')],\n",
      " [('when', 'WRB'), ('i', 'NN'), ('will', 'MD'), ('get', 'VB'), ('my', 'PRP$'),\n",
      "  ('10', 'CD'), ('%', 'NN'), ('cash', 'NN'), ('back', 'RB'), ('...', ':'),\n",
      "  ('.', '.'), ('its', 'PRP$'), ('already', 'RB'), ('15', 'CD'),\n",
      "  ('january..', 'NN')],\n",
      " [('good', 'JJ')],\n",
      " [('the', 'DT'), ('worst', 'JJS'), ('phone', 'NN'), ('everthey', 'NN'),\n",
      "  ('have', 'VBP'), ('changed', 'VBN'), ('the', 'DT'), ('last', 'JJ'),\n",
      "  ('phone', 'NN'), ('but', 'CC'), ('the', 'DT'), ('problem', 'NN'),\n",
      "  ('is', 'VBZ'), ('still', 'RB'), ('same', 'JJ'), ('and', 'CC'), ('the', 'DT'),\n",
      "  ('amazon', 'NN'), ('is', 'VBZ'), ('not', 'RB'), ('returning', 'VBG'),\n",
      "  ('the', 'DT'), ('phone', 'NN'), ('.highly', 'RB'), ('disappointing', 'JJ'),\n",
      "  ('of', 'IN'), ('amazon', 'NN')]]\n",
      "Wall time: 15.2 s\n"
     ]
    }
   ],
   "source": [
    "%%time\n",
    "review_pos_tags = [nltk.pos_tag(doc) for doc in reviews]\n",
    "pprint(review_pos_tags[:5], compact=True)"
   ]
  },
  {
   "cell_type": "markdown",
   "metadata": {},
   "source": [
    "#### 5. Including only nouns for building the Topic Model"
   ]
  },
  {
   "cell_type": "code",
   "execution_count": 11,
   "metadata": {},
   "outputs": [
    {
     "name": "stdout",
     "output_type": "stream",
     "text": [
      "[['updates', 'improvements'],\n",
      " ['mobile', 'i', 'battery', 'hell', 'backup', 'hours', 'uses', 'idle',\n",
      "  'discharged.this', 'lie', 'amazon', 'lenove', 'battery', 'charger', 'hours',\n",
      "  'don'],\n",
      " ['i', '%', 'cash', 'january..'], [],\n",
      " ['phone', 'everthey', 'phone', 'problem', 'amazon', 'phone', 'amazon']]\n"
     ]
    }
   ],
   "source": [
    "review_nouns = [[token for token, pos in doc if pos.startswith('NN')] for doc in review_pos_tags]\n",
    "pprint(review_nouns[:5], compact=True)"
   ]
  },
  {
   "cell_type": "markdown",
   "metadata": {},
   "source": [
    "#### 6. Lemmatize"
   ]
  },
  {
   "cell_type": "code",
   "execution_count": 12,
   "metadata": {},
   "outputs": [
    {
     "name": "stdout",
     "output_type": "stream",
     "text": [
      "[['update', 'improvement'],\n",
      " ['mobile',\n",
      "  'i',\n",
      "  'battery',\n",
      "  'hell',\n",
      "  'backup',\n",
      "  'hour',\n",
      "  'us',\n",
      "  'idle',\n",
      "  'discharged.this',\n",
      "  'lie',\n",
      "  'amazon',\n",
      "  'lenove',\n",
      "  'battery',\n",
      "  'charger',\n",
      "  'hour',\n",
      "  'don'],\n",
      " ['i', '%', 'cash', 'january..'],\n",
      " [],\n",
      " ['phone', 'everthey', 'phone', 'problem', 'amazon', 'phone', 'amazon']]\n",
      "Wall time: 1.79 s\n"
     ]
    }
   ],
   "source": [
    "%%time\n",
    "review_lemmatized = [[nltk.stem.WordNetLemmatizer().lemmatize(token) for token in doc] for doc in review_nouns]\n",
    "pprint(review_lemmatized[:5])"
   ]
  },
  {
   "cell_type": "markdown",
   "metadata": {},
   "source": [
    "#### 7. Remove stopwords and punctuation (if there are any)."
   ]
  },
  {
   "cell_type": "code",
   "execution_count": 13,
   "metadata": {},
   "outputs": [
    {
     "name": "stdout",
     "output_type": "stream",
     "text": [
      "[['update', 'improvement'],\n",
      " ['mobile',\n",
      "  'battery',\n",
      "  'hell',\n",
      "  'backup',\n",
      "  'hour',\n",
      "  'us',\n",
      "  'idle',\n",
      "  'lie',\n",
      "  'amazon',\n",
      "  'lenove',\n",
      "  'battery',\n",
      "  'charger',\n",
      "  'hour'],\n",
      " ['cash'],\n",
      " [],\n",
      " ['phone', 'everthey', 'phone', 'problem', 'amazon', 'phone', 'amazon']]\n",
      "Wall time: 16.5 s\n"
     ]
    }
   ],
   "source": [
    "%%time\n",
    "review_no_sw = [[token for token in doc if token not in nltk.corpus.stopwords.words('english') \n",
    "                 and token.isalpha()] \n",
    "                for doc in review_lemmatized]\n",
    "pprint(review_no_sw[:5])"
   ]
  },
  {
   "cell_type": "markdown",
   "metadata": {},
   "source": [
    "#### 8. Create a topic model using LDA on the cleaned up data with 12 topics."
   ]
  },
  {
   "cell_type": "code",
   "execution_count": 14,
   "metadata": {},
   "outputs": [],
   "source": [
    "# Build a Dictionary - association word to numeric id\n",
    "dictionary = gensim.corpora.Dictionary(review_no_sw)\n",
    "# Transform the collection of texts to a numerical form\n",
    "corpus = [dictionary.doc2bow(text) for text in review_no_sw]"
   ]
  },
  {
   "cell_type": "code",
   "execution_count": 15,
   "metadata": {},
   "outputs": [],
   "source": [
    "NUM_TOPICS = 12\n",
    "lda_model = gensim.models.LdaModel(corpus=corpus, num_topics=NUM_TOPICS, id2word=dictionary)"
   ]
  },
  {
   "cell_type": "markdown",
   "metadata": {},
   "source": [
    "#### 8.1 Print out the top terms for each topic."
   ]
  },
  {
   "cell_type": "code",
   "execution_count": 16,
   "metadata": {},
   "outputs": [
    {
     "name": "stdout",
     "output_type": "stream",
     "text": [
      "LDA Model:\n",
      "('Topic #0: 0.356*\"phone\" + 0.082*\"price\" + 0.050*\"feature\" + 0.036*\"battery\" '\n",
      " '+ 0.029*\"range\" + 0.022*\"backup\" + 0.019*\"camera\" + 0.018*\"processor\" + '\n",
      " '0.017*\"performance\" + 0.011*\"note\"')\n",
      "('Topic #1: 0.122*\"phone\" + 0.049*\"note\" + 0.033*\"lenovo\" + 0.027*\"battery\" + '\n",
      " '0.026*\"month\" + 0.025*\"hr\" + 0.024*\"budget\" + 0.023*\"data\" + 0.017*\"call\" + '\n",
      " '0.016*\"day\"')\n",
      "('Topic #2: 0.060*\"note\" + 0.047*\"screen\" + 0.033*\"display\" + 0.031*\"hai\" + '\n",
      " '0.031*\"ram\" + 0.029*\"glass\" + 0.029*\"quality\" + 0.022*\"phone\" + '\n",
      " '0.021*\"smartphone\" + 0.020*\"gb\"')\n",
      "('Topic #3: 0.048*\"phone\" + 0.048*\"time\" + 0.033*\"system\" + '\n",
      " '0.030*\"replacement\" + 0.024*\"day\" + 0.024*\"sensor\" + 0.022*\"piece\" + '\n",
      " '0.021*\"notification\" + 0.020*\"box\" + 0.019*\"super\"')\n",
      "('Topic #4: 0.047*\"feature\" + 0.034*\"product\" + 0.030*\"sim\" + 0.030*\"cast\" + '\n",
      " '0.030*\"screen\" + 0.030*\"thanks\" + 0.029*\"quality\" + 0.028*\"phone\" + '\n",
      " '0.027*\"card\" + 0.026*\"everything\"')\n",
      "('Topic #5: 0.058*\"phone\" + 0.030*\"day\" + 0.026*\"delivery\" + 0.026*\"h\" + '\n",
      " '0.025*\"service\" + 0.023*\"time\" + 0.023*\"product\" + 0.021*\"lenovo\" + '\n",
      " '0.020*\"camera\" + 0.019*\"issue\"')\n",
      "('Topic #6: 0.285*\"product\" + 0.084*\"money\" + 0.038*\"waste\" + 0.036*\"device\" + '\n",
      " '0.034*\"value\" + 0.030*\"performance\" + 0.022*\"amazon\" + 0.021*\"return\" + '\n",
      " '0.014*\"lenovo\" + 0.014*\"set\"')\n",
      "('Topic #7: 0.101*\"issue\" + 0.076*\"phone\" + 0.070*\"network\" + 0.033*\"heat\" + '\n",
      " '0.022*\"battery\" + 0.019*\"sim\" + 0.018*\"call\" + 0.018*\"jio\" + 0.015*\"support\" '\n",
      " '+ 0.013*\"signal\"')\n",
      "('Topic #8: 0.182*\"camera\" + 0.075*\"phone\" + 0.065*\"quality\" + 0.030*\"battery\" '\n",
      " '+ 0.019*\"mode\" + 0.018*\"performance\" + 0.016*\"issue\" + 0.012*\"note\" + '\n",
      " '0.012*\"update\" + 0.012*\"depth\"')\n",
      "('Topic #9: 0.203*\"battery\" + 0.122*\"problem\" + 0.066*\"phone\" + '\n",
      " '0.062*\"heating\" + 0.036*\"hour\" + 0.032*\"life\" + 0.031*\"charger\" + '\n",
      " '0.031*\"backup\" + 0.027*\"day\" + 0.022*\"time\"')\n",
      "('Topic #10: 0.381*\"mobile\" + 0.025*\"buy\" + 0.020*\"feature\" + 0.017*\"star\" + '\n",
      " '0.015*\"price\" + 0.014*\"expectation\" + 0.014*\"speaker\" + 0.013*\"r\" + '\n",
      " '0.012*\"side\" + 0.012*\"result\"')\n",
      "('Topic #11: 0.063*\"superb\" + 0.060*\"handset\" + 0.045*\"call\" + 0.044*\"phone\" + '\n",
      " '0.042*\"please\" + 0.036*\"headphone\" + 0.025*\"excellent\" + 0.023*\"problem\" + '\n",
      " '0.023*\"dolby\" + 0.021*\"volta\"')\n"
     ]
    }
   ],
   "source": [
    "print(\"LDA Model:\")\n",
    " \n",
    "for idx in range(NUM_TOPICS):\n",
    "    # Print the first 10 most representative topics\n",
    "    pprint(\"Topic #{}: {}\".format(idx, lda_model.print_topic(idx, 10)), compact=True)"
   ]
  },
  {
   "cell_type": "code",
   "execution_count": 17,
   "metadata": {},
   "outputs": [
    {
     "data": {
      "text/html": [
       "\n",
       "<link rel=\"stylesheet\" type=\"text/css\" href=\"https://cdn.rawgit.com/bmabey/pyLDAvis/files/ldavis.v1.0.0.css\">\n",
       "\n",
       "\n",
       "<div id=\"ldavis_el1485627893088367449004823085\"></div>\n",
       "<script type=\"text/javascript\">\n",
       "\n",
       "var ldavis_el1485627893088367449004823085_data = {\"mdsDat\": {\"x\": [-0.03339096968241025, -0.1896071934845173, -0.04121377195643469, -0.08808195516523633, -0.07664347802697447, -0.09508490336143283, 0.1670040040015735, 0.0872695524849221, -0.06910770477642834, 0.20115363663086153, 0.14362192750667777, -0.005919144170600497], \"y\": [0.10354737692414245, 0.0723390125401811, 0.06713011644101667, 0.05654371460954157, -0.007183069975557866, -0.015505318172998621, 0.09867074580494745, -0.008064145051448183, -0.032581066208738525, 0.01155765484517202, 0.0033035341869984964, -0.34975855594325606], \"topics\": [1, 2, 3, 4, 5, 6, 7, 8, 9, 10, 11, 12], \"cluster\": [1, 1, 1, 1, 1, 1, 1, 1, 1, 1, 1, 1], \"Freq\": [17.578353881835938, 11.113485336303711, 9.879890441894531, 9.723360061645508, 9.34048843383789, 8.475407600402832, 7.3662824630737305, 6.856510162353516, 6.247313499450684, 4.654374122619629, 4.423646926879883, 4.340886116027832]}, \"tinfo\": {\"Term\": [\"mobile\", \"product\", \"phone\", \"camera\", \"battery\", \"problem\", \"issue\", \"money\", \"price\", \"network\", \"heating\", \"feature\", \"quality\", \"note\", \"superb\", \"screen\", \"handset\", \"call\", \"time\", \"waste\", \"sim\", \"value\", \"backup\", \"hai\", \"please\", \"heat\", \"hour\", \"life\", \"h\", \"replacement\", \"facility\", \"concern\", \"pic\", \"place\", \"yesterday\", \"zoom\", \"lenevo\", \"blur\", \"mp\", \"rear\", \"access\", \"front\", \"limit\", \"g\", \"thank\", \"lack\", \"usb\", \"htc\", \"selfie\", \"tag\", \"standard\", \"depth\", \"go\", \"pixel\", \"multimedia\", \"setup\", \"fix\", \"bokeh\", \"half\", \"view\", \"camera\", \"photo\", \"hd\", \"design\", \"flash\", \"picture\", \"effect\", \"quality\", \"stock\", \"mode\", \"graphic\", \"clarity\", \"image\", \"android\", \"touch\", \"video\", \"bug\", \"update\", \"sound\", \"phone\", \"performance\", \"mark\", \"music\", \"battery\", \"issue\", \"software\", \"note\", \"speaker\", \"thing\", \"lenovo\", \"time\", \"everything\", \"day\", \"phon\", \"menu\", \"aug\", \"isme\", \"mila\", \"net\", \"position\", \"aur\", \"suggest\", \"fact\", \"heating\", \"prob\", \"stand\", \"heatup\", \"functioning\", \"pick\", \"satisfactory\", \"pm\", \"divice\", \"browsing\", \"faster\", \"miracast\", \"problembattery\", \"buying\", \"assistant\", \"respect\", \"pice\", \"faltu\", \"balance\", \"life\", \"drain\", \"item\", \"pls\", \"problem\", \"hour\", \"rest\", \"someone\", \"battery\", \"mah\", \"charge\", \"charger\", \"morning\", \"backup\", \"capacity\", \"choice\", \"turbo\", \"day\", \"charging\", \"time\", \"phone\", \"performance\", \"minute\", \"service\", \"month\", \"issue\", \"heat\", \"center\", \"mark\", \"lot\", \"hang\", \"price\", \"h\", \"motorola\", \"ho\", \"raha\", \"tha\", \"right\", \"bed\", \"ko\", \"bahut\", \"toh\", \"job\", \"kar\", \"cool\", \"loss\", \"ki\", \"thik\", \"navigation\", \"flashlight\", \"gaya\", \"jyada\", \"hone\", \"talk\", \"bhai\", \"pr\", \"repair\", \"package\", \"hu\", \"hype\", \"optimization\", \"water\", \"nahi\", \"hota\", \"condition\", \"site\", \"delivery\", \"nhi\", \"policy\", \"information\", \"location\", \"sale\", \"care\", \"customer\", \"restart\", \"hi\", \"service\", \"refund\", \"center\", \"game\", \"hang\", \"day\", \"lag\", \"amazon\", \"bit\", \"sound\", \"time\", \"lenovo\", \"phone\", \"lot\", \"product\", \"issue\", \"hai\", \"camera\", \"hour\", \"battery\", \"charge\", \"replacement\", \"update\", \"charger\", \"nice\", \"segment\", \"battry\", \"fall\", \"department\", \"technician\", \"bettery\", \"degree\", \"multi\", \"decacore\", \"playing\", \"increase\", \"whereas\", \"gamer\", \"executive\", \"gud\", \"gift\", \"snapdragon\", \"slim\", \"yes\", \"tasking\", \"xiaomi\", \"packup\", \"lasting\", \"deca\", \"trade\", \"disadvantage\", \"hate\", \"split\", \"superbbb\", \"price\", \"interface\", \"killer\", \"range\", \"core\", \"gaming\", \"phone\", \"feature\", \"scanner\", \"processor\", \"weight\", \"memory\", \"specification\", \"backup\", \"experience\", \"work\", \"performance\", \"battery\", \"look\", \"resolution\", \"camera\", \"everything\", \"note\", \"amazon\", \"delivery\", \"display\", \"speed\", \"lenovo\", \"lot\", \"bar\", \"future\", \"strength\", \"mind\", \"cash\", \"signal\", \"alarm\", \"clearity\", \"office\", \"reality\", \"saver\", \"rock\", \"panel\", \"status\", \"minus\", \"network\", \"pad\", \"mobail\", \"provider\", \"penny\", \"plz\", \"oct\", \"batery\", \"vodafone\", \"suggestion\", \"ti\", \"awsome\", \"photography\", \"camra\", \"error\", \"jio\", \"world\", \"connectivity\", \"heat\", \"issue\", \"support\", \"connection\", \"discharge\", \"sim\", \"wifi\", \"voice\", \"auto\", \"app\", \"call\", \"reception\", \"phone\", \"volta\", \"user\", \"amazon\", \"software\", \"battery\", \"work\", \"time\", \"month\", \"option\", \"problem\", \"lenovo\", \"day\", \"speed\", \"device\", \"quality\", \"jata\", \"standby\", \"batter\", \"functionality\", \"series\", \"head\", \"moment\", \"wastage\", \"fone\", \"processing\", \"manufacturing\", \"book\", \"reset\", \"example\", \"hv\", \"decision\", \"reboot\", \"shutter\", \"mean\", \"trouble\", \"warm\", \"factory\", \"grip\", \"band\", \"manner\", \"gps\", \"mic\", \"tap\", \"september\", \"driver\", \"detail\", \"others\", \"budget\", \"data\", \"hr\", \"cover\", \"volume\", \"function\", \"defect\", \"percentage\", \"year\", \"min\", \"purchase\", \"charging\", \"note\", \"month\", \"party\", \"u\", \"lenovo\", \"phone\", \"power\", \"internet\", \"use\", \"usage\", \"call\", \"option\", \"mi\", \"battery\", \"day\", \"time\", \"speaker\", \"feature\", \"device\", \"quality\", \"lenova\", \"manager\", \"ad\", \"seller\", \"crack\", \"capture\", \"value\", \"fake\", \"patch\", \"comment\", \"bettry\", \"west\", \"smartphones\", \"goog\", \"ok\", \"money\", \"manufacturer\", \"style\", \"page\", \"set\", \"waste\", \"complaint\", \"verry\", \"flipkart\", \"dad\", \"kept\", \"myth\", \"leta\", \"bluetooth\", \"product\", \"return\", \"worth\", \"earphone\", \"device\", \"word\", \"draining\", \"rate\", \"amazon\", \"performance\", \"speaker\", \"moto\", \"service\", \"oreo\", \"lenovo\", \"response\", \"centre\", \"experience\", \"note\", \"update\", \"battery\", \"phone\", \"camera\", \"quality\", \"problem\", \"company\", \"wise\", \"china\", \"pc\", \"protection\", \"bekar\", \"bhut\", \"ye\", \"adapter\", \"gb\", \"v\", \"mast\", \"diya\", \"gold\", \"movie\", \"storage\", \"bhi\", \"aap\", \"paisa\", \"processer\", \"scratch\", \"koi\", \"okay\", \"lover\", \"camara\", \"launch\", \"connects\", \"socket\", \"bada\", \"news\", \"mera\", \"gorilla\", \"smartphone\", \"glass\", \"ram\", \"hai\", \"space\", \"display\", \"screen\", \"note\", \"model\", \"option\", \"color\", \"management\", \"quality\", \"speed\", \"key\", \"phone\", \"accessory\", \"camera\", \"lenovo\", \"performance\", \"battery\", \"problem\", \"music\", \"day\", \"mobile\", \"processor\", \"complain\", \"lte\", \"icon\", \"awesome\", \"super\", \"control\", \"tone\", \"perfect\", \"second\", \"messenger\", \"copy\", \"dust\", \"download\", \"faulty\", \"colour\", \"drop\", \"unlock\", \"description\", \"break\", \"everytime\", \"headset\", \"notification\", \"system\", \"ear\", \"premium\", \"warranty\", \"finger\", \"board\", \"sharpness\", \"piece\", \"facebook\", \"class\", \"print\", \"lock\", \"hardware\", \"replacement\", \"sensor\", \"message\", \"box\", \"date\", \"whatsapp\", \"version\", \"time\", \"average\", \"application\", \"configuration\", \"day\", \"software\", \"button\", \"video\", \"phone\", \"service\", \"amazon\", \"problem\", \"apps\", \"charger\", \"comparison\", \"fine\", \"record\", \"kiya\", \"caller\", \"ph\", \"id\", \"round\", \"beast\", \"result\", \"iron\", \"amazone\", \"mobile\", \"car\", \"list\", \"discount\", \"generation\", \"trust\", \"comapre\", \"powerfull\", \"microphone\", \"cpu\", \"corner\", \"surfing\", \"deal\", \"lena\", \"competition\", \"good\", \"kharab\", \"sensing\", \"ringtone\", \"buy\", \"r\", \"phn\", \"drainage\", \"star\", \"side\", \"expectation\", \"speaker\", \"feature\", \"way\", \"price\", \"charger\", \"range\", \"camera\", \"battery\", \"performance\", \"lenovo\", \"issue\", \"pin\", \"effort\", \"improvement\", \"build\", \"casting\", \"group\", \"wrost\", \"rupee\", \"market\", \"whats\", \"smart\", \"visit\", \"chromecast\", \"working\", \"micromax\", \"mobil\", \"step\", \"bakwas\", \"thanks\", \"dot\", \"disappointment\", \"airtel\", \"slot\", \"cheater\", \"player\", \"combination\", \"claim\", \"perfomance\", \"sorry\", \"setting\", \"face\", \"hence\", \"cast\", \"team\", \"cost\", \"card\", \"sim\", \"everything\", \"one\", \"feature\", \"feel\", \"screen\", \"tv\", \"shot\", \"quality\", \"product\", \"option\", \"need\", \"till\", \"price\", \"phone\", \"camera\", \"lenovo\", \"month\", \"usage\", \"superb\", \"bill\", \"tray\", \"percent\", \"category\", \"atom\", \"packing\", \"iam\", \"hanging\", \"recording\", \"order\", \"india\", \"invoice\", \"mob\", \"headphone\", \"idea\", \"excellent\", \"history\", \"want\", \"handset\", \"c\", \"doesnt\", \"number\", \"port\", \"indicator\", \"form\", \"nano\", \"sm\", \"recorder\", \"helio\", \"sir\", \"cell\", \"offer\", \"mail\", \"please\", \"name\", \"think\", \"jack\", \"contact\", \"dolby\", \"volta\", \"call\", \"atmos\", \"fast\", \"phone\", \"problem\", \"compare\", \"note\", \"apps\"], \"Freq\": [1556.0, 2151.0, 6974.0, 3213.0, 3182.0, 1590.0, 1401.0, 562.0, 889.0, 564.0, 628.0, 839.0, 1396.0, 1173.0, 224.0, 580.0, 235.0, 519.0, 976.0, 262.0, 292.0, 213.0, 565.0, 239.0, 203.0, 371.0, 475.0, 357.0, 204.0, 214.0, 55.606746673583984, 43.96834945678711, 71.1010513305664, 28.92229652404785, 34.08665084838867, 27.727394104003906, 26.903709411621094, 27.478307723999023, 102.826416015625, 54.05531311035156, 19.815340042114258, 127.18295288085938, 18.236997604370117, 17.104793548583984, 28.103256225585938, 22.11043930053711, 17.695680618286133, 17.176834106445312, 62.81694793701172, 14.384642601013184, 20.036109924316406, 164.02780151367188, 12.598785400390625, 12.242264747619629, 12.446722030639648, 16.894611358642578, 26.11189079284668, 26.186866760253906, 33.04224395751953, 15.069936752319336, 2564.259521484375, 158.6202392578125, 35.12921142578125, 62.91890335083008, 95.64773559570312, 148.8079376220703, 95.7948989868164, 919.7078247070312, 127.88182067871094, 273.521484375, 33.79665756225586, 124.7763900756836, 99.82728576660156, 118.2220687866211, 78.48136901855469, 135.80445861816406, 60.37403106689453, 165.19403076171875, 139.51119995117188, 1054.7188720703125, 257.3184509277344, 82.32744598388672, 102.77530670166016, 418.23858642578125, 227.6105194091797, 114.35948944091797, 168.76564025878906, 105.38262939453125, 86.62236022949219, 118.19306945800781, 109.84912109375, 87.95995330810547, 101.85853576660156, 22.622800827026367, 12.226916313171387, 11.882136344909668, 11.74480152130127, 12.002802848815918, 32.794776916503906, 10.43791675567627, 8.731149673461914, 8.758167266845703, 9.143890380859375, 555.2678833007812, 6.475882530212402, 15.961392402648926, 6.398760795593262, 6.173748970031738, 6.637081623077393, 6.140990734100342, 6.5104146003723145, 6.077926158905029, 23.22859001159668, 5.482450485229492, 5.118982315063477, 4.83800745010376, 39.36304473876953, 5.856812477111816, 4.923635959625244, 4.2352705001831055, 4.025045871734619, 3.6416807174682617, 282.6084899902344, 177.8678436279297, 58.98466110229492, 59.62980270385742, 1085.743896484375, 320.4984130859375, 39.416141510009766, 41.45006561279297, 1815.671875, 85.63371276855469, 199.15736389160156, 277.8624572753906, 24.20677375793457, 276.09765625, 30.158388137817383, 31.01911163330078, 87.16968536376953, 241.3997039794922, 82.92206573486328, 199.31300354003906, 587.1638793945312, 143.14317321777344, 39.774112701416016, 101.45339965820312, 101.05659484863281, 152.55911254882812, 71.61397552490234, 42.03460693359375, 39.49930191040039, 42.65044021606445, 33.45616912841797, 34.01224136352539, 203.19241333007812, 42.06914520263672, 107.59229278564453, 35.05610656738281, 35.96397018432617, 28.483121871948242, 25.372541427612305, 41.440101623535156, 30.52362060546875, 22.70791244506836, 22.343412399291992, 22.355716705322266, 21.6155948638916, 19.867443084716797, 32.188777923583984, 17.975975036621094, 16.345136642456055, 18.239728927612305, 16.298240661621094, 15.295011520385742, 16.595684051513672, 15.920727729797363, 14.319550514221191, 16.284486770629883, 13.990340232849121, 35.34341049194336, 13.833362579345703, 12.942693710327148, 12.801756858825684, 16.67936134338379, 28.92584228515625, 28.112600326538086, 89.94786071777344, 29.545015335083008, 204.2108917236328, 19.713430404663086, 83.00581359863281, 25.87799072265625, 17.47288703918457, 55.28075408935547, 65.41081237792969, 111.05467987060547, 27.308874130249023, 41.899627685546875, 195.7930908203125, 64.92072296142578, 78.70530700683594, 87.8433609008789, 70.36775207519531, 236.9678192138672, 55.319149017333984, 146.8746795654297, 77.97624969482422, 103.82817077636719, 181.72787475585938, 166.5043487548828, 459.1600646972656, 78.32061767578125, 178.90460205078125, 148.54898071289062, 66.90673065185547, 157.2635955810547, 79.15618896484375, 113.03074645996094, 62.97207260131836, 55.281494140625, 61.589412689208984, 56.52324295043945, 45.362911224365234, 36.3817024230957, 17.16028594970703, 28.932533264160156, 14.954038619995117, 12.919925689697266, 15.89183235168457, 10.162615776062012, 14.450765609741211, 10.248452186584473, 8.309746742248535, 6.728318214416504, 7.227321624755859, 12.383776664733887, 5.91477108001709, 42.15855407714844, 9.060566902160645, 6.780266284942627, 4.18339729309082, 4.141478061676025, 4.030858039855957, 3.500601053237915, 3.492534637451172, 3.2869536876678467, 46.58696746826172, 3.192809581756592, 5.643534183502197, 3.341193199157715, 11.853533744812012, 3.083554744720459, 640.6778564453125, 34.16145324707031, 68.11972045898438, 227.7790985107422, 70.36893463134766, 42.16289520263672, 2781.783447265625, 389.2525634765625, 10.545516967773438, 143.84957885742188, 26.984220504760742, 54.34061813354492, 50.89273452758789, 169.58740234375, 68.49855041503906, 59.3712043762207, 129.544921875, 281.3838806152344, 42.94237518310547, 23.642724990844727, 149.8551483154297, 45.81819534301758, 86.20790100097656, 60.98818588256836, 42.12122344970703, 46.53630065917969, 38.03514862060547, 51.31368637084961, 35.92625045776367, 43.490474700927734, 41.31962585449219, 43.06377029418945, 35.2169189453125, 30.8287410736084, 100.19677734375, 18.543766021728516, 18.397314071655273, 24.409542083740234, 16.509572982788086, 30.144580841064453, 14.640959739685059, 15.133952140808105, 15.783665657043457, 16.51621437072754, 527.1730346679688, 13.497171401977539, 14.313517570495605, 13.931840896606445, 13.197105407714844, 53.489253997802734, 12.024240493774414, 11.391654968261719, 11.250712394714355, 43.52653121948242, 10.579819679260254, 10.435276985168457, 20.401796340942383, 9.386550903320312, 13.967541694641113, 133.9664306640625, 13.56141185760498, 65.35826873779297, 247.9784698486328, 758.3074340820312, 110.38191223144531, 50.976322174072266, 24.31814193725586, 144.11480712890625, 49.62906265258789, 59.52515411376953, 40.453426361083984, 83.88236999511719, 134.40513610839844, 27.81698226928711, 570.5299682617188, 57.939781188964844, 52.45869064331055, 99.46379852294922, 73.94831848144531, 165.51109313964844, 53.96315002441406, 99.39337158203125, 76.57711791992188, 65.88553619384766, 76.13691711425781, 62.525691986083984, 60.95133972167969, 48.94888687133789, 49.3316764831543, 46.89012145996094, 42.2952880859375, 39.08750915527344, 26.745771408081055, 38.69198989868164, 24.459232330322266, 40.830589294433594, 19.365999221801758, 17.496217727661133, 33.67778396606445, 42.14094543457031, 13.922271728515625, 13.948409080505371, 13.749695777893066, 13.380648612976074, 13.326761245727539, 14.231915473937988, 12.063811302185059, 10.76518440246582, 10.769683837890625, 17.889245986938477, 18.887325286865234, 8.386752128601074, 7.638453006744385, 7.480529308319092, 9.814275741577148, 6.603898048400879, 6.237364768981934, 6.51790189743042, 11.241647720336914, 5.632189750671387, 25.4683837890625, 30.36812400817871, 164.446044921875, 159.25022888183594, 170.3400115966797, 52.138938903808594, 76.37834167480469, 81.45124816894531, 33.149967193603516, 21.532203674316406, 44.19877624511719, 72.87269592285156, 76.26126098632812, 104.1800308227539, 330.94549560546875, 174.99867248535156, 33.388389587402344, 51.58748245239258, 225.80149841308594, 831.86572265625, 63.35015869140625, 54.026763916015625, 95.92512512207031, 77.92728424072266, 114.82930755615234, 86.20558166503906, 40.761878967285156, 180.88360595703125, 106.4066162109375, 96.6181411743164, 63.98563766479492, 68.67506408691406, 51.48077392578125, 52.9517822265625, 29.245630264282227, 19.953500747680664, 15.833401679992676, 32.508445739746094, 15.116954803466797, 14.2551908493042, 199.9787139892578, 13.644171714782715, 12.734806060791016, 12.950145721435547, 12.939149856567383, 9.929756164550781, 9.165955543518066, 9.153692245483398, 76.71500396728516, 499.7768859863281, 8.5677490234375, 7.031085968017578, 6.201523780822754, 80.23648834228516, 225.79544067382812, 55.5548210144043, 5.022147178649902, 14.326338768005371, 4.616217136383057, 4.417621612548828, 4.115660190582275, 3.7266433238983154, 24.94338607788086, 1687.433837890625, 122.49259948730469, 67.12982177734375, 60.405555725097656, 212.63412475585938, 22.65489387512207, 26.171791076660156, 25.370107650756836, 132.57928466796875, 175.32383728027344, 74.44943237304688, 29.693090438842773, 72.31822967529297, 24.321067810058594, 81.50598907470703, 25.332197189331055, 27.03287696838379, 39.5302619934082, 64.89655303955078, 40.3327751159668, 67.97701263427734, 61.39900207519531, 49.10878372192383, 40.11374282836914, 40.29737854003906, 26.605356216430664, 48.8022575378418, 30.941455841064453, 30.86432456970215, 26.6167049407959, 26.16924285888672, 23.14426612854004, 41.984195709228516, 21.83483123779297, 109.50108337402344, 30.792844772338867, 18.41205596923828, 18.352386474609375, 22.44460678100586, 17.030439376831055, 51.033287048339844, 54.42046356201172, 16.516904830932617, 14.370756149291992, 23.187725067138672, 32.745906829833984, 19.023441314697266, 14.909660339355469, 37.19416809082031, 12.831108093261719, 11.156258583068848, 10.78226089477539, 10.052542686462402, 10.839689254760742, 10.035492897033691, 20.58501625061035, 90.59249114990234, 118.3169174194336, 160.34466552734375, 169.73707580566406, 170.17941284179688, 31.05963134765625, 182.16648864746094, 258.0980529785156, 330.995849609375, 65.31744384765625, 104.30464172363281, 38.88219451904297, 33.047061920166016, 157.51353454589844, 62.78780746459961, 40.14958953857422, 121.27854919433594, 26.911718368530273, 84.5955581665039, 57.6197509765625, 51.47029113769531, 61.46262741088867, 47.641029357910156, 37.940860748291016, 39.8353385925293, 35.83774948120117, 33.42860794067383, 47.24941635131836, 48.567813873291016, 26.26930046081543, 74.655517578125, 95.3524398803711, 21.40671730041504, 20.992534637451172, 22.398578643798828, 22.374439239501953, 16.64784812927246, 17.857589721679688, 14.283246994018555, 16.261356353759766, 26.580860137939453, 23.98708724975586, 29.47003746032715, 10.813958168029785, 22.355722427368164, 15.021343231201172, 7.221493244171143, 48.32319641113281, 105.6349868774414, 165.17018127441406, 13.892945289611816, 6.422168731689453, 59.01121139526367, 43.951812744140625, 6.345797061920166, 5.762145042419434, 109.53031921386719, 9.260330200195312, 65.08574676513672, 38.82646560668945, 33.99643325805664, 44.71181869506836, 150.5728759765625, 119.25685119628906, 73.78485107421875, 102.39064025878906, 51.88038635253906, 33.513336181640625, 59.210208892822266, 240.2745819091797, 44.89313888549805, 47.46358108520508, 30.51996421813965, 122.43704223632812, 76.36974334716797, 47.60043716430664, 63.325740814208984, 243.28634643554688, 62.88762664794922, 58.937625885009766, 68.6238784790039, 45.423622131347656, 45.79029846191406, 28.616926193237305, 37.8687858581543, 23.318471908569336, 22.62721061706543, 27.67648696899414, 18.843944549560547, 16.922849655151367, 15.52603816986084, 20.909324645996094, 45.37319564819336, 16.814197540283203, 10.781378746032715, 1422.988525390625, 10.333941459655762, 22.96602439880371, 13.151020050048828, 9.38620376586914, 11.323054313659668, 8.512039184570312, 7.818164348602295, 7.637117862701416, 6.867178440093994, 6.7210259437561035, 6.083139896392822, 30.991958618164062, 7.376610279083252, 5.568767070770264, 25.047143936157227, 5.49224853515625, 8.835448265075684, 25.179222106933594, 94.3675308227539, 49.68128204345703, 24.016605377197266, 24.71261978149414, 63.39332580566406, 46.54893493652344, 51.19491958618164, 51.16887664794922, 73.0036849975586, 21.122339248657227, 56.01681900024414, 42.54451370239258, 31.881519317626953, 43.60860061645508, 40.75212860107422, 31.377031326293945, 28.072528839111328, 19.987218856811523, 25.050691604614258, 21.929325103759766, 48.866188049316406, 41.71442794799805, 18.566831588745117, 15.908798217773438, 18.853330612182617, 16.63217544555664, 44.313167572021484, 14.213005065917969, 22.48560333251953, 19.36712646484375, 13.408750534057617, 30.76333999633789, 11.550636291503906, 12.167932510375977, 9.621461868286133, 14.69969367980957, 105.04434204101562, 9.738213539123535, 21.829601287841797, 16.86012840270996, 90.48023986816406, 6.164850234985352, 49.46405029296875, 6.307701587677002, 20.214994430541992, 5.551576614379883, 4.075491905212402, 33.4704704284668, 26.43965721130371, 14.200528144836426, 107.48604583740234, 43.945289611816406, 55.97416687011719, 94.6312255859375, 107.5093002319336, 91.32305145263672, 32.718505859375, 168.32827758789062, 30.011919021606445, 107.19493103027344, 30.723276138305664, 27.98621368408203, 102.74903869628906, 119.22513580322266, 58.31764221191406, 34.41040802001953, 32.581382751464844, 59.15690994262695, 99.78228759765625, 70.54671478271484, 36.51692581176758, 33.52433395385742, 28.186199188232422, 220.7051544189453, 63.0316276550293, 29.6962890625, 40.37226486206055, 23.604909896850586, 21.20507049560547, 20.717300415039062, 17.54410743713379, 39.55532455444336, 65.69434356689453, 46.96119689941406, 13.0396089553833, 31.167953491210938, 25.991531372070312, 126.97212982177734, 26.481992721557617, 86.30464172363281, 8.356913566589355, 8.649871826171875, 208.45547485351562, 7.182932376861572, 24.041908264160156, 68.56884002685547, 7.52170991897583, 8.075581550598145, 6.629703044891357, 6.8594136238098145, 19.545223236083984, 53.392520904541016, 13.991593360900879, 33.19113540649414, 58.42374038696289, 45.37712478637695, 33.7063102722168, 145.5445098876953, 36.28632736206055, 15.90970230102539, 28.926597595214844, 64.56615447998047, 78.52884674072266, 71.94928741455078, 155.5111846923828, 41.701873779296875, 34.87751007080078, 154.836181640625, 81.50003051757812, 32.58383560180664, 37.480560302734375, 29.218427658081055], \"Total\": [1556.0, 2151.0, 6974.0, 3213.0, 3182.0, 1590.0, 1401.0, 562.0, 889.0, 564.0, 628.0, 839.0, 1396.0, 1173.0, 224.0, 580.0, 235.0, 519.0, 976.0, 262.0, 292.0, 213.0, 565.0, 239.0, 203.0, 371.0, 475.0, 357.0, 204.0, 214.0, 56.571258544921875, 44.9328727722168, 73.38143920898438, 29.886789321899414, 35.234867095947266, 28.70610809326172, 27.940601348876953, 28.5489559173584, 107.35745239257812, 56.51669692993164, 20.779842376708984, 134.0623779296875, 19.232723236083984, 18.069303512573242, 29.715002059936523, 23.381181716918945, 18.721635818481445, 18.215909957885742, 66.62704467773438, 15.349156379699707, 21.435142517089844, 175.85997009277344, 13.563275337219238, 13.206730842590332, 13.44581127166748, 18.26044464111328, 28.345504760742188, 28.474224090576172, 35.960052490234375, 16.414766311645508, 3213.05712890625, 183.83753967285156, 38.939666748046875, 71.49480438232422, 110.64137268066406, 175.4273681640625, 115.20698547363281, 1396.881591796875, 161.80201721191406, 378.7387390136719, 38.316001892089844, 167.96038818359375, 140.41786193847656, 172.48829650878906, 107.27886199951172, 237.50436401367188, 91.56904602050781, 416.6813659667969, 322.6685485839844, 6974.265625, 848.205078125, 171.7513427734375, 254.7264404296875, 3182.458251953125, 1401.5147705078125, 349.50531005859375, 1173.8848876953125, 365.3909606933594, 218.00497436523438, 876.2880859375, 976.9226684570312, 257.1702880859375, 961.4278564453125, 23.580156326293945, 13.184282302856445, 12.83954906463623, 12.702984809875488, 13.016371726989746, 35.78220748901367, 11.410883903503418, 9.688520431518555, 9.719949722290039, 10.156607627868652, 628.2637939453125, 7.433230876922607, 18.330650329589844, 7.356121063232422, 7.131109237670898, 7.669983863830566, 7.098353385925293, 7.542514324188232, 7.097512245178223, 27.134153366088867, 6.4397993087768555, 6.076394557952881, 5.795352458953857, 47.35783767700195, 7.142943859100342, 6.019392490386963, 5.192627906799316, 4.982391357421875, 4.599157333374023, 357.6114807128906, 226.66712951660156, 75.59817504882812, 78.19393157958984, 1590.6126708984375, 475.95257568359375, 52.81737518310547, 56.13551712036133, 3182.458251953125, 126.9062728881836, 327.8446044921875, 475.68231201171875, 33.71672821044922, 565.9968872070312, 45.30032730102539, 47.76652908325195, 212.81777954101562, 961.4278564453125, 229.86648559570312, 976.9226684570312, 6974.265625, 848.205078125, 99.57623291015625, 519.7044067382812, 517.41748046875, 1401.5147705078125, 371.04150390625, 150.45779418945312, 171.7513427734375, 288.69805908203125, 142.00230407714844, 889.5253295898438, 204.74827575683594, 43.032203674316406, 110.06961059570312, 36.02302169799805, 36.98457336425781, 29.457582473754883, 26.335622787475586, 43.20010757446289, 31.824661254882812, 23.679100036621094, 23.30644989013672, 23.324655532836914, 22.578628540039062, 20.830482482910156, 33.94127655029297, 18.960844039916992, 17.30817985534668, 19.364131927490234, 17.309091567993164, 16.258060455322266, 17.65941619873047, 16.971128463745117, 15.28258991241455, 17.394996643066406, 14.975443840026855, 37.84188461303711, 14.835267066955566, 13.922772407531738, 13.776712417602539, 17.971431732177734, 31.17021369934082, 30.524084091186523, 102.1091537475586, 32.905921936035156, 267.6357116699219, 21.562511444091797, 107.58709716796875, 30.341684341430664, 18.972515106201172, 80.5179443359375, 106.05379486083984, 214.83287048339844, 34.202247619628906, 60.99797821044922, 519.7044067382812, 114.08616638183594, 150.45779418945312, 194.81741333007812, 142.00230407714844, 961.4278564453125, 103.4916000366211, 549.8545532226562, 188.41246032714844, 322.6685485839844, 976.9226684570312, 876.2880859375, 6974.265625, 288.69805908203125, 2151.666259765625, 1401.5147705078125, 239.1699676513672, 3213.05712890625, 475.95257568359375, 3182.458251953125, 327.8446044921875, 214.3036651611328, 416.6813659667969, 475.68231201171875, 46.33742141723633, 38.209136962890625, 18.12986946105957, 30.624401092529297, 15.92365837097168, 13.889580726623535, 17.329219818115234, 11.211344718933105, 16.064781188964844, 11.465944290161133, 9.373318672180176, 7.697907447814941, 8.315277099609375, 14.361282348632812, 6.884361743927002, 49.204776763916016, 10.788223266601562, 8.09798526763916, 5.153007507324219, 5.111053943634033, 5.064663410186768, 4.4702372550964355, 4.462113857269287, 4.256566047668457, 60.4836311340332, 4.162395000457764, 7.380114555358887, 4.375034332275391, 15.544523239135742, 4.053132057189941, 889.5253295898438, 46.774173736572266, 96.91888427734375, 343.3843688964844, 106.34259796142578, 62.45011520385742, 6974.265625, 839.0287475585938, 14.871060371398926, 311.6651611328125, 47.714744567871094, 114.92186737060547, 106.02720642089844, 565.9968872070312, 236.19357299804688, 210.83578491210938, 848.205078125, 3182.458251953125, 149.60169982910156, 62.11579513549805, 3213.05712890625, 257.1702880859375, 1173.8848876953125, 549.8545532226562, 267.6357116699219, 362.68182373046875, 269.484130859375, 876.2880859375, 288.69805908203125, 44.6043586730957, 42.39775085449219, 44.26331329345703, 36.260074615478516, 32.022396087646484, 104.08612060546875, 19.509693145751953, 19.363243103027344, 25.748769760131836, 17.519567489624023, 32.00786590576172, 15.606925964355469, 16.1459903717041, 16.84298324584961, 17.627731323242188, 564.8256225585938, 14.463157653808594, 15.341773986816406, 14.974591255187988, 14.22741413116455, 57.8514289855957, 13.039762496948242, 12.357621192932129, 12.224215507507324, 47.360626220703125, 11.54575252532959, 11.4011869430542, 22.300817489624023, 10.352460861206055, 15.431833267211914, 149.0038604736328, 14.987123489379883, 79.70330810546875, 371.04150390625, 1401.5147705078125, 167.46145629882812, 70.38200378417969, 30.02274513244629, 292.7159423828125, 77.22883605957031, 98.68276977539062, 60.679561614990234, 220.06871032714844, 519.6389770507812, 42.494895935058594, 6974.265625, 150.28607177734375, 136.58465576171875, 549.8545532226562, 349.50531005859375, 3182.458251953125, 210.83578491210938, 976.9226684570312, 517.41748046875, 351.91229248046875, 1590.6126708984375, 876.2880859375, 961.4278564453125, 269.484130859375, 438.9705505371094, 1396.881591796875, 43.25286865234375, 40.429203033447266, 27.70931625366211, 40.10233688354492, 25.507936477661133, 42.80016326904297, 20.33942985534668, 18.47957420349121, 35.58666229248047, 44.851661682128906, 14.879715919494629, 14.916626930236816, 14.707135200500488, 14.339835166931152, 14.32086181640625, 15.321425437927246, 13.085026741027832, 11.722884178161621, 11.812366485595703, 19.650394439697266, 20.88658905029297, 9.344188690185547, 8.599631309509277, 8.437968254089355, 11.192249298095703, 7.5619330406188965, 7.1948065757751465, 7.529088973999023, 12.99319076538086, 6.5898003578186035, 30.01124382019043, 36.17060470581055, 203.51303100585938, 200.46302795410156, 219.0804443359375, 65.34679412841797, 100.18319702148438, 115.05091094970703, 42.972293853759766, 27.066694259643555, 67.73623657226562, 132.54759216308594, 148.0403594970703, 229.86648559570312, 1173.8848876953125, 517.41748046875, 50.487342834472656, 94.85957336425781, 876.2880859375, 6974.265625, 138.59848022460938, 109.77656555175781, 295.98699951171875, 225.19622802734375, 519.6389770507812, 351.91229248046875, 77.0882568359375, 3182.458251953125, 961.4278564453125, 976.9226684570312, 365.3909606933594, 839.0287475585938, 438.9705505371094, 1396.881591796875, 30.213703155517578, 21.09833335876465, 16.801410675048828, 34.575965881347656, 16.10019302368164, 15.223200798034668, 213.9973907470703, 14.612174987792969, 13.71267318725586, 13.954687118530273, 14.044638633728027, 10.897729873657227, 10.133925437927246, 10.121684074401855, 85.8442611694336, 562.9743041992188, 9.682241439819336, 7.9990715980529785, 7.209044456481934, 93.29806518554688, 262.6645812988281, 66.06827545166016, 5.990118503570557, 17.31088638305664, 5.584184646606445, 5.385745525360107, 5.083746910095215, 4.694735050201416, 31.517295837402344, 2151.666259765625, 194.64405822753906, 104.86148071289062, 103.30247497558594, 438.9705505371094, 34.068206787109375, 41.85563659667969, 48.73145294189453, 549.8545532226562, 848.205078125, 365.3909606933594, 75.2917709350586, 519.7044067382812, 55.1279296875, 876.2880859375, 64.73246002197266, 81.65879821777344, 236.19357299804688, 1173.8848876953125, 416.6813659667969, 3182.458251953125, 6974.265625, 3213.05712890625, 1396.881591796875, 1590.6126708984375, 129.92149353027344, 50.11601257324219, 31.9017276763916, 31.93712615966797, 27.576980590820312, 27.129514694213867, 24.104581832885742, 43.7962646484375, 22.795106887817383, 114.37702178955078, 32.211952209472656, 19.37232208251953, 19.312732696533203, 23.694705963134766, 17.990713119506836, 54.15754318237305, 57.83298873901367, 17.567731857299805, 15.342477798461914, 24.84388542175293, 35.11306381225586, 20.470487594604492, 16.050493240356445, 40.04641342163086, 13.825572967529297, 12.11654281616211, 11.743377685546875, 11.01281452178955, 11.87561321258545, 11.002342224121094, 22.621173858642578, 99.83308410644531, 136.4485321044922, 187.41905212402344, 215.26815795898438, 239.1699676513672, 40.71656799316406, 362.68182373046875, 580.416015625, 1173.8848876953125, 149.14620971679688, 351.91229248046875, 69.36674499511719, 56.87327194213867, 1396.881591796875, 269.484130859375, 123.74597930908203, 6974.265625, 41.19083023071289, 3213.05712890625, 876.2880859375, 848.205078125, 3182.458251953125, 1590.6126708984375, 254.7264404296875, 961.4278564453125, 1556.0887451171875, 311.6651611328125, 48.40237045288086, 49.85853576660156, 27.229921340942383, 77.64891052246094, 99.49304962158203, 22.392057418823242, 22.01615333557129, 23.496463775634766, 23.606504440307617, 17.64568519592285, 19.00074577331543, 15.243873596191406, 17.367509841918945, 28.613191604614258, 25.93027114868164, 31.8851318359375, 11.836846351623535, 24.854209899902344, 16.715635299682617, 8.18211841583252, 54.82200622558594, 120.47451782226562, 188.5604248046875, 15.916064262390137, 7.382791996002197, 68.05464172363281, 51.10724639892578, 7.419486999511719, 6.749965190887451, 128.82440185546875, 10.931488990783691, 81.78207397460938, 48.060272216796875, 42.027069091796875, 56.86920166015625, 214.3036651611328, 170.61631774902344, 102.42980194091797, 151.88734436035156, 72.22016906738281, 43.421451568603516, 92.29853820800781, 976.9226684570312, 73.62538146972656, 111.4830322265625, 46.024742126464844, 961.4278564453125, 349.50531005859375, 122.56939697265625, 237.50436401367188, 6974.265625, 519.7044067382812, 549.8545532226562, 1590.6126708984375, 189.38616943359375, 475.68231201171875, 29.584142684936523, 39.39909362792969, 24.295520782470703, 23.610157012939453, 29.071609497070312, 19.883329391479492, 17.903705596923828, 16.493488311767578, 22.33402442932129, 48.545814514160156, 18.065460205078125, 11.762801170349121, 1556.0887451171875, 11.30115032196045, 25.12062644958496, 14.391570091247559, 10.353410720825195, 12.53071403503418, 9.479397773742676, 8.78534984588623, 8.604324340820312, 7.834434986114502, 7.688248634338379, 7.0503997802734375, 35.94057083129883, 8.627229690551758, 6.535963535308838, 29.985759735107422, 6.620666027069092, 10.725976943969727, 33.12084197998047, 148.71876525878906, 77.55559539794922, 39.017791748046875, 41.636253356933594, 154.89581298828125, 104.35004425048828, 126.93101501464844, 365.3909606933594, 839.0287475585938, 71.71642303466797, 889.5253295898438, 475.68231201171875, 343.3843688964844, 3213.05712890625, 3182.458251953125, 848.205078125, 876.2880859375, 1401.5147705078125, 26.00901985168457, 22.887704849243164, 51.03564453125, 43.620384216308594, 19.66844940185547, 16.867158889770508, 20.016185760498047, 17.671405792236328, 47.19352722167969, 15.17140007019043, 24.074460983276367, 20.738048553466797, 14.367067337036133, 33.09547805786133, 12.509021759033203, 13.196391105651855, 10.579782485961914, 16.362703323364258, 117.36027526855469, 11.0311279296875, 24.73003578186035, 19.120107650756836, 103.40242004394531, 7.1231770515441895, 57.811187744140625, 7.409801006317139, 24.66604995727539, 6.813087463378906, 5.033813953399658, 41.6353759765625, 33.64529800415039, 17.87603759765625, 153.67332458496094, 65.49803924560547, 86.84715270996094, 161.26678466796875, 292.7159423828125, 257.1702880859375, 60.148677825927734, 839.0287475585938, 56.80660629272461, 580.416015625, 60.897708892822266, 53.7203483581543, 1396.881591796875, 2151.666259765625, 351.91229248046875, 116.74131774902344, 104.29949188232422, 889.5253295898438, 6974.265625, 3213.05712890625, 876.2880859375, 517.41748046875, 225.19622802734375, 224.66493225097656, 64.69200897216797, 30.65416717529297, 41.78070831298828, 24.562776565551758, 22.18924331665039, 21.71049690246582, 18.505775451660156, 41.744140625, 69.8117446899414, 50.33917999267578, 13.997475624084473, 33.469242095947266, 28.035776138305664, 137.23199462890625, 28.846906661987305, 95.01171112060547, 9.316983222961426, 9.744220733642578, 235.60751342773438, 8.140812873840332, 27.39000129699707, 78.71678161621094, 8.651557922363281, 9.296476364135742, 7.651577949523926, 7.992964267730713, 22.90777015686035, 63.114784240722656, 16.620622634887695, 39.5137939453125, 69.95471954345703, 54.484092712402344, 40.37743377685547, 203.26527404785156, 47.43097686767578, 19.162368774414062, 40.403076171875, 122.9630355834961, 164.50750732421875, 150.28607177734375, 519.6389770507812, 93.90167236328125, 71.71318054199219, 6974.265625, 1590.6126708984375, 77.72872924804688, 1173.8848876953125, 189.38616943359375], \"Category\": [\"Default\", \"Default\", \"Default\", \"Default\", \"Default\", \"Default\", \"Default\", \"Default\", \"Default\", \"Default\", \"Default\", \"Default\", \"Default\", \"Default\", \"Default\", \"Default\", \"Default\", \"Default\", \"Default\", \"Default\", \"Default\", \"Default\", \"Default\", \"Default\", \"Default\", \"Default\", \"Default\", \"Default\", \"Default\", \"Default\", \"Topic1\", \"Topic1\", \"Topic1\", \"Topic1\", \"Topic1\", \"Topic1\", \"Topic1\", \"Topic1\", \"Topic1\", \"Topic1\", \"Topic1\", \"Topic1\", \"Topic1\", \"Topic1\", \"Topic1\", \"Topic1\", \"Topic1\", \"Topic1\", \"Topic1\", \"Topic1\", \"Topic1\", \"Topic1\", \"Topic1\", \"Topic1\", \"Topic1\", \"Topic1\", \"Topic1\", \"Topic1\", \"Topic1\", \"Topic1\", \"Topic1\", \"Topic1\", \"Topic1\", \"Topic1\", \"Topic1\", \"Topic1\", \"Topic1\", \"Topic1\", \"Topic1\", \"Topic1\", \"Topic1\", \"Topic1\", \"Topic1\", \"Topic1\", \"Topic1\", \"Topic1\", \"Topic1\", \"Topic1\", \"Topic1\", \"Topic1\", \"Topic1\", \"Topic1\", \"Topic1\", \"Topic1\", \"Topic1\", \"Topic1\", \"Topic1\", \"Topic1\", \"Topic1\", \"Topic1\", \"Topic1\", \"Topic1\", \"Topic1\", \"Topic2\", \"Topic2\", \"Topic2\", \"Topic2\", \"Topic2\", \"Topic2\", \"Topic2\", \"Topic2\", \"Topic2\", \"Topic2\", \"Topic2\", \"Topic2\", \"Topic2\", \"Topic2\", \"Topic2\", \"Topic2\", \"Topic2\", \"Topic2\", \"Topic2\", \"Topic2\", \"Topic2\", \"Topic2\", \"Topic2\", \"Topic2\", \"Topic2\", \"Topic2\", \"Topic2\", \"Topic2\", \"Topic2\", \"Topic2\", \"Topic2\", \"Topic2\", \"Topic2\", \"Topic2\", \"Topic2\", \"Topic2\", \"Topic2\", \"Topic2\", \"Topic2\", \"Topic2\", \"Topic2\", \"Topic2\", \"Topic2\", \"Topic2\", \"Topic2\", \"Topic2\", \"Topic2\", \"Topic2\", \"Topic2\", \"Topic2\", \"Topic2\", \"Topic2\", \"Topic2\", \"Topic2\", \"Topic2\", \"Topic2\", \"Topic2\", \"Topic2\", \"Topic2\", \"Topic2\", \"Topic2\", \"Topic3\", \"Topic3\", \"Topic3\", \"Topic3\", \"Topic3\", \"Topic3\", \"Topic3\", \"Topic3\", \"Topic3\", \"Topic3\", \"Topic3\", \"Topic3\", \"Topic3\", \"Topic3\", \"Topic3\", \"Topic3\", \"Topic3\", \"Topic3\", \"Topic3\", \"Topic3\", \"Topic3\", \"Topic3\", \"Topic3\", \"Topic3\", \"Topic3\", \"Topic3\", \"Topic3\", \"Topic3\", \"Topic3\", \"Topic3\", \"Topic3\", \"Topic3\", \"Topic3\", \"Topic3\", \"Topic3\", \"Topic3\", \"Topic3\", \"Topic3\", \"Topic3\", \"Topic3\", \"Topic3\", \"Topic3\", \"Topic3\", \"Topic3\", \"Topic3\", \"Topic3\", \"Topic3\", \"Topic3\", \"Topic3\", \"Topic3\", \"Topic3\", \"Topic3\", \"Topic3\", \"Topic3\", \"Topic3\", \"Topic3\", \"Topic3\", \"Topic3\", \"Topic3\", \"Topic3\", \"Topic3\", \"Topic3\", \"Topic3\", \"Topic3\", \"Topic3\", \"Topic3\", \"Topic3\", \"Topic3\", \"Topic4\", \"Topic4\", \"Topic4\", \"Topic4\", \"Topic4\", \"Topic4\", \"Topic4\", \"Topic4\", \"Topic4\", \"Topic4\", \"Topic4\", \"Topic4\", \"Topic4\", \"Topic4\", \"Topic4\", \"Topic4\", \"Topic4\", \"Topic4\", \"Topic4\", \"Topic4\", \"Topic4\", \"Topic4\", \"Topic4\", \"Topic4\", \"Topic4\", \"Topic4\", \"Topic4\", \"Topic4\", \"Topic4\", \"Topic4\", \"Topic4\", \"Topic4\", \"Topic4\", \"Topic4\", \"Topic4\", \"Topic4\", \"Topic4\", \"Topic4\", \"Topic4\", \"Topic4\", \"Topic4\", \"Topic4\", \"Topic4\", \"Topic4\", \"Topic4\", \"Topic4\", \"Topic4\", \"Topic4\", \"Topic4\", \"Topic4\", \"Topic4\", \"Topic4\", \"Topic4\", \"Topic4\", \"Topic4\", \"Topic4\", \"Topic4\", \"Topic4\", \"Topic4\", \"Topic5\", \"Topic5\", \"Topic5\", \"Topic5\", \"Topic5\", \"Topic5\", \"Topic5\", \"Topic5\", \"Topic5\", \"Topic5\", \"Topic5\", \"Topic5\", \"Topic5\", \"Topic5\", \"Topic5\", \"Topic5\", \"Topic5\", \"Topic5\", \"Topic5\", \"Topic5\", \"Topic5\", \"Topic5\", \"Topic5\", \"Topic5\", \"Topic5\", \"Topic5\", \"Topic5\", \"Topic5\", \"Topic5\", \"Topic5\", \"Topic5\", \"Topic5\", \"Topic5\", \"Topic5\", \"Topic5\", \"Topic5\", \"Topic5\", \"Topic5\", \"Topic5\", \"Topic5\", \"Topic5\", \"Topic5\", \"Topic5\", \"Topic5\", \"Topic5\", \"Topic5\", \"Topic5\", \"Topic5\", \"Topic5\", \"Topic5\", \"Topic5\", \"Topic5\", \"Topic5\", \"Topic5\", \"Topic5\", \"Topic5\", \"Topic5\", \"Topic5\", \"Topic5\", \"Topic5\", \"Topic5\", \"Topic6\", \"Topic6\", \"Topic6\", \"Topic6\", \"Topic6\", \"Topic6\", \"Topic6\", \"Topic6\", \"Topic6\", \"Topic6\", \"Topic6\", \"Topic6\", \"Topic6\", \"Topic6\", \"Topic6\", \"Topic6\", \"Topic6\", \"Topic6\", \"Topic6\", \"Topic6\", \"Topic6\", \"Topic6\", \"Topic6\", \"Topic6\", \"Topic6\", \"Topic6\", \"Topic6\", \"Topic6\", \"Topic6\", \"Topic6\", \"Topic6\", \"Topic6\", \"Topic6\", \"Topic6\", \"Topic6\", \"Topic6\", \"Topic6\", \"Topic6\", \"Topic6\", \"Topic6\", \"Topic6\", \"Topic6\", \"Topic6\", \"Topic6\", \"Topic6\", \"Topic6\", \"Topic6\", \"Topic6\", \"Topic6\", \"Topic6\", \"Topic6\", \"Topic6\", \"Topic6\", \"Topic6\", \"Topic6\", \"Topic6\", \"Topic6\", \"Topic6\", \"Topic6\", \"Topic6\", \"Topic6\", \"Topic6\", \"Topic6\", \"Topic6\", \"Topic7\", \"Topic7\", \"Topic7\", \"Topic7\", \"Topic7\", \"Topic7\", \"Topic7\", \"Topic7\", \"Topic7\", \"Topic7\", \"Topic7\", \"Topic7\", \"Topic7\", \"Topic7\", \"Topic7\", \"Topic7\", \"Topic7\", \"Topic7\", \"Topic7\", \"Topic7\", \"Topic7\", \"Topic7\", \"Topic7\", \"Topic7\", \"Topic7\", \"Topic7\", \"Topic7\", \"Topic7\", \"Topic7\", \"Topic7\", \"Topic7\", \"Topic7\", \"Topic7\", \"Topic7\", \"Topic7\", \"Topic7\", \"Topic7\", \"Topic7\", \"Topic7\", \"Topic7\", \"Topic7\", \"Topic7\", \"Topic7\", \"Topic7\", \"Topic7\", \"Topic7\", \"Topic7\", \"Topic7\", \"Topic7\", \"Topic7\", \"Topic7\", \"Topic7\", \"Topic7\", \"Topic7\", \"Topic7\", \"Topic8\", \"Topic8\", \"Topic8\", \"Topic8\", \"Topic8\", \"Topic8\", \"Topic8\", \"Topic8\", \"Topic8\", \"Topic8\", \"Topic8\", \"Topic8\", \"Topic8\", \"Topic8\", \"Topic8\", \"Topic8\", \"Topic8\", \"Topic8\", \"Topic8\", \"Topic8\", \"Topic8\", \"Topic8\", \"Topic8\", \"Topic8\", \"Topic8\", \"Topic8\", \"Topic8\", \"Topic8\", \"Topic8\", \"Topic8\", \"Topic8\", \"Topic8\", \"Topic8\", \"Topic8\", \"Topic8\", \"Topic8\", \"Topic8\", \"Topic8\", \"Topic8\", \"Topic8\", \"Topic8\", \"Topic8\", \"Topic8\", \"Topic8\", \"Topic8\", \"Topic8\", \"Topic8\", \"Topic8\", \"Topic8\", \"Topic8\", \"Topic8\", \"Topic8\", \"Topic8\", \"Topic8\", \"Topic8\", \"Topic8\", \"Topic8\", \"Topic9\", \"Topic9\", \"Topic9\", \"Topic9\", \"Topic9\", \"Topic9\", \"Topic9\", \"Topic9\", \"Topic9\", \"Topic9\", \"Topic9\", \"Topic9\", \"Topic9\", \"Topic9\", \"Topic9\", \"Topic9\", \"Topic9\", \"Topic9\", \"Topic9\", \"Topic9\", \"Topic9\", \"Topic9\", \"Topic9\", \"Topic9\", \"Topic9\", \"Topic9\", \"Topic9\", \"Topic9\", \"Topic9\", \"Topic9\", \"Topic9\", \"Topic9\", \"Topic9\", \"Topic9\", \"Topic9\", \"Topic9\", \"Topic9\", \"Topic9\", \"Topic9\", \"Topic9\", \"Topic9\", \"Topic9\", \"Topic9\", \"Topic9\", \"Topic9\", \"Topic9\", \"Topic9\", \"Topic9\", \"Topic9\", \"Topic9\", \"Topic9\", \"Topic9\", \"Topic9\", \"Topic9\", \"Topic9\", \"Topic9\", \"Topic10\", \"Topic10\", \"Topic10\", \"Topic10\", \"Topic10\", \"Topic10\", \"Topic10\", \"Topic10\", \"Topic10\", \"Topic10\", \"Topic10\", \"Topic10\", \"Topic10\", \"Topic10\", \"Topic10\", \"Topic10\", \"Topic10\", \"Topic10\", \"Topic10\", \"Topic10\", \"Topic10\", \"Topic10\", \"Topic10\", \"Topic10\", \"Topic10\", \"Topic10\", \"Topic10\", \"Topic10\", \"Topic10\", \"Topic10\", \"Topic10\", \"Topic10\", \"Topic10\", \"Topic10\", \"Topic10\", \"Topic10\", \"Topic10\", \"Topic10\", \"Topic10\", \"Topic10\", \"Topic10\", \"Topic10\", \"Topic10\", \"Topic10\", \"Topic10\", \"Topic10\", \"Topic10\", \"Topic10\", \"Topic10\", \"Topic11\", \"Topic11\", \"Topic11\", \"Topic11\", \"Topic11\", \"Topic11\", \"Topic11\", \"Topic11\", \"Topic11\", \"Topic11\", \"Topic11\", \"Topic11\", \"Topic11\", \"Topic11\", \"Topic11\", \"Topic11\", \"Topic11\", \"Topic11\", \"Topic11\", \"Topic11\", \"Topic11\", \"Topic11\", \"Topic11\", \"Topic11\", \"Topic11\", \"Topic11\", \"Topic11\", \"Topic11\", \"Topic11\", \"Topic11\", \"Topic11\", \"Topic11\", \"Topic11\", \"Topic11\", \"Topic11\", \"Topic11\", \"Topic11\", \"Topic11\", \"Topic11\", \"Topic11\", \"Topic11\", \"Topic11\", \"Topic11\", \"Topic11\", \"Topic11\", \"Topic11\", \"Topic11\", \"Topic11\", \"Topic11\", \"Topic11\", \"Topic11\", \"Topic11\", \"Topic11\", \"Topic11\", \"Topic11\", \"Topic12\", \"Topic12\", \"Topic12\", \"Topic12\", \"Topic12\", \"Topic12\", \"Topic12\", \"Topic12\", \"Topic12\", \"Topic12\", \"Topic12\", \"Topic12\", \"Topic12\", \"Topic12\", \"Topic12\", \"Topic12\", \"Topic12\", \"Topic12\", \"Topic12\", \"Topic12\", \"Topic12\", \"Topic12\", \"Topic12\", \"Topic12\", \"Topic12\", \"Topic12\", \"Topic12\", \"Topic12\", \"Topic12\", \"Topic12\", \"Topic12\", \"Topic12\", \"Topic12\", \"Topic12\", \"Topic12\", \"Topic12\", \"Topic12\", \"Topic12\", \"Topic12\", \"Topic12\", \"Topic12\", \"Topic12\", \"Topic12\", \"Topic12\", \"Topic12\", \"Topic12\", \"Topic12\", \"Topic12\", \"Topic12\"], \"logprob\": [30.0, 29.0, 28.0, 27.0, 26.0, 25.0, 24.0, 23.0, 22.0, 21.0, 20.0, 19.0, 18.0, 17.0, 16.0, 15.0, 14.0, 13.0, 12.0, 11.0, 10.0, 9.0, 8.0, 7.0, 6.0, 5.0, 4.0, 3.0, 2.0, 1.0, -5.536799907684326, -5.771599769592285, -5.290999889373779, -6.190400123596191, -6.026100158691406, -6.232600212097168, -6.262800216674805, -6.241700172424316, -4.921999931335449, -5.565000057220459, -6.568600177764893, -4.709400177001953, -6.651599884033203, -6.715700149536133, -6.219200134277344, -6.459000110626221, -6.681700229644775, -6.71150016784668, -5.41480016708374, -6.888899803161621, -6.557499885559082, -4.454999923706055, -7.021500110626221, -7.05019998550415, -7.033599853515625, -6.728099822998047, -6.292699813842773, -6.28980016708374, -6.057300090789795, -6.842400074005127, -1.7056000232696533, -4.488500118255615, -5.995999813079834, -5.4131999015808105, -4.9944000244140625, -4.5524001121521, -4.992800235748291, -2.7309999465942383, -4.70389986038208, -3.943700075149536, -6.0346999168396, -4.728499889373779, -4.951600074768066, -4.78249979019165, -5.192200183868408, -4.643799781799316, -5.454500198364258, -4.44789981842041, -4.6168999671936035, -2.5940001010894775, -4.004700183868408, -5.144400119781494, -4.922500133514404, -3.5190000534057617, -4.127399921417236, -4.815700054168701, -4.426499843597412, -4.897500038146973, -5.093500137329102, -4.782700061798096, -4.855899810791016, -5.078199863433838, -4.93149995803833, -5.97760009765625, -6.592899799346924, -6.621500015258789, -6.6331000328063965, -6.611400127410889, -5.606299877166748, -6.751100063323975, -6.929599761962891, -6.926599979400635, -6.883500099182129, -2.777100086212158, -7.228499889373779, -6.326399803161621, -7.2403998374938965, -7.276199817657471, -7.20389986038208, -7.281599998474121, -7.223100185394287, -7.291900157928467, -5.951200008392334, -7.394999980926514, -7.463600158691406, -7.519999980926514, -5.423699855804443, -7.32889986038208, -7.502500057220459, -7.65310001373291, -7.703999996185303, -7.804100036621094, -3.452500104904175, -3.9154999256134033, -5.0192999839782715, -5.008399963378906, -2.1064999103546143, -3.32669997215271, -5.422399997711182, -5.372099876403809, -1.5923000574111938, -4.646500110626221, -3.802500009536743, -3.469399929046631, -5.909900188446045, -3.475800037384033, -5.690100193023682, -5.661900043487549, -4.628699779510498, -3.610100030899048, -4.678599834442139, -3.8017001152038574, -2.7211999893188477, -4.132699966430664, -5.413300037384033, -4.476900100708008, -4.480899810791016, -4.068999767303467, -4.825300216674805, -5.358099937438965, -5.420300006866455, -5.343500137329102, -5.586299896240234, -5.569799900054932, -3.6647000312805176, -5.23960018157959, -4.30049991607666, -5.421899795532227, -5.396399974822998, -5.6296000480651855, -5.745200157165527, -5.2546000480651855, -5.560400009155273, -5.856200218200684, -5.872399806976318, -5.871799945831299, -5.9054999351501465, -5.989799976348877, -5.507299900054932, -6.089900016784668, -6.184999942779541, -6.075300216674805, -6.18779993057251, -6.251399993896484, -6.1697001457214355, -6.211299896240234, -6.317299842834473, -6.188700199127197, -6.3404998779296875, -5.41379976272583, -6.351799964904785, -6.418399810791016, -6.429299831390381, -6.164700031280518, -5.614200115203857, -5.6427001953125, -4.479700088500977, -5.5929999351501465, -3.6596999168395996, -5.997600078582764, -4.559999942779541, -5.725500106811523, -6.118199825286865, -4.9664998054504395, -4.7982001304626465, -4.268899917602539, -5.6717000007629395, -5.243599891662598, -3.7018001079559326, -4.805699825286865, -4.6132001876831055, -4.503300189971924, -4.725200176239014, -3.510999917984009, -4.965799808502197, -3.989300012588501, -4.622499942779541, -4.33620023727417, -3.776400089263916, -3.8638999462127686, -2.8494999408721924, -4.618100166320801, -3.7920000553131104, -3.9779999256134033, -4.775599956512451, -3.9210000038146973, -4.607500076293945, -4.251200199127197, -4.83620023727417, -4.9664998054504395, -4.858399868011475, -4.944200038909912, -5.148200035095215, -5.368899822235107, -6.120299816131592, -5.5980000495910645, -6.257900238037109, -6.404099941253662, -6.1971001625061035, -6.644199848175049, -6.292200088500977, -6.635799884796143, -6.8454999923706055, -7.056600093841553, -6.985000133514404, -6.446499824523926, -7.185500144958496, -5.221499919891357, -6.758999824523926, -7.048900127410889, -7.531799793243408, -7.541900157928467, -7.568900108337402, -7.710000038146973, -7.712299823760986, -7.7729997634887695, -5.121600151062012, -7.802000045776367, -7.232399940490723, -7.7565999031066895, -6.490300178527832, -7.8368000984191895, -2.5004000663757324, -5.43179988861084, -4.741700172424316, -3.5344998836517334, -4.709199905395508, -5.221399784088135, -1.032099962234497, -2.998699903488159, -6.6072001457214355, -3.9941999912261963, -5.667699813842773, -4.967599868774414, -5.033199787139893, -3.8296000957489014, -4.736100196838379, -4.8790998458862305, -4.098899841308594, -3.323199987411499, -5.203100204467773, -5.799900054931641, -3.953200101852417, -5.138199806213379, -4.506199836730957, -4.852200031280518, -5.222400188446045, -5.122700214385986, -5.324399948120117, -5.025000095367432, -5.381400108337402, -5.150199890136719, -5.201399803161621, -5.160099983215332, -5.361199855804443, -5.49429988861084, -4.3155999183654785, -6.002600193023682, -6.010499954223633, -5.727799892425537, -6.118800163269043, -5.51669979095459, -6.238900184631348, -6.2058000564575195, -6.16379976272583, -6.1184000968933105, -2.6552000045776367, -6.320300102233887, -6.261499881744385, -6.288599967956543, -6.342700004577637, -4.943299770355225, -6.435800075531006, -6.4899001121521, -6.502299785614014, -5.149400234222412, -6.563799858093262, -6.577600002288818, -5.907100200653076, -6.683499813079834, -6.285999774932861, -4.025199890136719, -6.315499782562256, -4.7428998947143555, -3.40939998626709, -2.2916998863220215, -4.218800067901611, -4.991399765014648, -5.731500148773193, -3.9521000385284424, -5.018199920654297, -4.836299896240234, -5.222599983215332, -4.493299961090088, -4.021900177001953, -5.597099781036377, -2.576200008392334, -4.86329984664917, -4.962699890136719, -4.322999954223633, -4.6194000244140625, -3.813699960708618, -4.9344000816345215, -4.323699951171875, -4.584400177001953, -4.734799861907959, -4.590199947357178, -4.787199974060059, -4.812699794769287, -5.0320000648498535, -5.024199962615967, -5.074900150299072, -5.080900192260742, -5.159800052642822, -5.5391998291015625, -5.169899940490723, -5.628499984741211, -5.116099834442139, -5.861999988555908, -5.963600158691406, -5.308700084686279, -5.084499835968018, -6.1921000480651855, -6.190199851989746, -6.204500198364258, -6.2316999435424805, -6.235799789428711, -6.170100212097168, -6.335299968719482, -6.44920015335083, -6.448800086975098, -5.941400051116943, -5.8871002197265625, -6.69890022277832, -6.792399883270264, -6.813300132751465, -6.5416998863220215, -6.937900066375732, -6.994999885559082, -6.951000213623047, -6.405900001525879, -7.097099781036377, -5.588099956512451, -5.412199974060059, -3.7230000495910645, -3.7551000118255615, -3.6877999305725098, -4.871600151062012, -4.4899001121521, -4.425600051879883, -5.32450008392334, -5.75600004196167, -5.036900043487549, -4.536799907684326, -4.491399765014648, -4.1793999671936035, -3.0236001014709473, -3.660799980163574, -5.317299842834473, -4.882299900054932, -3.405900001525879, -2.101900100708008, -4.6768999099731445, -4.836100101470947, -4.26200008392334, -4.469799995422363, -4.082099914550781, -4.368800163269043, -5.117800235748291, -3.627700090408325, -4.158299922943115, -4.254799842834473, -4.666900157928467, -4.596199989318848, -4.884300231933594, -4.856200218200684, -5.309599876403809, -5.69189977645874, -5.9232001304626465, -5.203800201416016, -5.9695000648498535, -6.028200149536133, -3.3870999813079834, -6.072000026702881, -6.140999794006348, -6.124199867248535, -6.125, -6.389800071716309, -6.469799995422363, -6.471099853515625, -4.345200061798096, -2.471100091934204, -6.537300109863281, -6.735000133514404, -6.860499858856201, -4.300300121307373, -3.265700101852417, -4.667900085449219, -7.071400165557861, -6.023200035095215, -7.155700206756592, -7.199699878692627, -7.270500183105469, -7.369800090789795, -5.468699932098389, -1.2542999982833862, -3.87719988822937, -4.478700160980225, -4.584199905395508, -3.325700044631958, -5.564899921417236, -5.420599937438965, -5.451700210571289, -3.798099994659424, -3.518699884414673, -4.375199794769287, -5.294400215148926, -4.404200077056885, -5.49399995803833, -4.284599781036377, -5.453199863433838, -5.388199806213379, -5.008200168609619, -4.512499809265137, -4.988100051879883, -4.466100215911865, -4.56790018081665, -4.791299819946289, -4.993599891662598, -4.988999843597412, -5.404200077056885, -4.725800037384033, -5.18149995803833, -5.184000015258789, -5.331999778747559, -5.348999977111816, -5.471799850463867, -4.876299858093262, -5.530099868774414, -3.9177000522613525, -5.186299800872803, -5.7006001472473145, -5.703800201416016, -5.502500057220459, -5.778600215911865, -4.681099891662598, -4.616799831390381, -5.809199810028076, -5.948400020599365, -5.46999979019165, -5.124800205230713, -5.667900085449219, -5.911600112915039, -4.997399806976318, -6.061699867248535, -6.201600074768066, -6.2357001304626465, -6.305799961090088, -6.230400085449219, -6.307499885559082, -5.589000225067139, -4.1072001457214355, -3.8401999473571777, -3.53629994392395, -3.479300022125244, -3.4767000675201416, -5.177700042724609, -3.4086999893188477, -3.0601999759674072, -2.811500072479248, -4.434299945831299, -3.9663000106811523, -4.953000068664551, -5.115699768066406, -3.5541000366210938, -4.473800182342529, -4.921000003814697, -3.815500020980835, -5.321000099182129, -4.1757001876831055, -4.559700012207031, -4.672599792480469, -4.495200157165527, -4.749899864196777, -4.97760009765625, -4.928800106048584, -5.034599781036377, -5.1041998863220215, -4.66510009765625, -4.637599945068359, -5.252099990844727, -4.207699775695801, -3.9630000591278076, -5.4567999839782715, -5.476399898529053, -5.411499977111816, -5.412600040435791, -5.7083001136779785, -5.6381001472473145, -5.861499786376953, -5.7316999435424805, -5.240300178527832, -5.3429999351501465, -5.137199878692627, -6.139699935913086, -5.41349983215332, -5.811100006103516, -6.543499946594238, -4.642600059509277, -3.8605000972747803, -3.413599967956543, -5.889200210571289, -6.660799980163574, -4.442800045013428, -4.737400054931641, -6.672699928283691, -6.769199848175049, -3.8243000507354736, -6.2947998046875, -4.344799995422363, -4.861400127410889, -4.99429988861084, -4.720300197601318, -3.5060999393463135, -3.739300012588501, -4.219399929046631, -3.891700029373169, -4.571599960327148, -5.008600234985352, -4.4394001960754395, -3.038800001144409, -4.716300010681152, -4.660600185394287, -5.102200031280518, -3.712899923324585, -4.184999942779541, -4.657700061798096, -4.372200012207031, -3.0262999534606934, -4.379199981689453, -4.4440999031066895, -4.291900157928467, -4.704500198364258, -4.696499824523926, -4.872200012207031, -4.592100143432617, -5.076900005340576, -5.10699987411499, -4.905600070953369, -5.289999961853027, -5.397500038146973, -5.483699798583984, -5.185999870300293, -4.411300182342529, -5.4039998054504395, -5.848400115966797, -0.9656999707221985, -5.8907999992370605, -5.092199802398682, -5.649700164794922, -5.986999988555908, -5.7993998527526855, -6.084700107574463, -6.1697001457214355, -6.19320011138916, -6.2993998527526855, -6.321000099182129, -6.4207000732421875, -4.792500019073486, -6.22790002822876, -6.508999824523926, -5.00540018081665, -6.522900104522705, -6.047399997711182, -5.000199794769287, -3.678999900817871, -4.3206000328063965, -5.047399997711182, -5.018899917602539, -4.0767998695373535, -4.385700225830078, -4.290599822998047, -4.291100025177002, -3.935699939727783, -5.175899982452393, -4.200500011444092, -4.475599765777588, -4.764200210571289, -4.450900077819824, -4.518700122833252, -4.780099868774414, -4.89139986038208, -5.231100082397461, -4.954400062561035, -5.087500095367432, -4.286300182342529, -4.444499969482422, -5.254000186920166, -5.4085001945495605, -5.238699913024902, -5.363999843597412, -4.384099960327148, -5.521200180053711, -5.0625, -5.2118000984191895, -5.579400062561035, -4.749000072479248, -5.728600025177002, -5.676499843597412, -5.911399841308594, -5.487500190734863, -3.5209999084472656, -5.8993000984191895, -5.092100143432617, -5.350399971008301, -3.6702001094818115, -6.356500148773193, -4.274099826812744, -6.333600044250488, -5.168900012969971, -6.461299896240234, -6.770400047302246, -4.664700031280518, -4.9004998207092285, -5.52209997177124, -3.497999906539917, -4.392399787902832, -4.1504998207092285, -3.6254000663757324, -3.49780011177063, -3.660900115966797, -4.687399864196777, -3.0494000911712646, -4.773799896240234, -3.500699996948242, -4.75029993057251, -4.843599796295166, -3.543100118637085, -3.3942999839782715, -4.109399795532227, -4.63700008392334, -4.6915998458862305, -4.095200061798096, -3.5724000930786133, -3.919100046157837, -4.577600002288818, -4.663099765777588, -4.83650016784668, -2.7595999240875244, -4.012800216674805, -4.765399932861328, -4.4583001136779785, -4.994999885559082, -5.102200031280518, -5.125500202178955, -5.2916998863220215, -4.478799819946289, -3.9714999198913574, -4.30709981918335, -5.588500022888184, -4.717100143432617, -4.89870023727417, -3.3125, -4.880000114440918, -3.6986000537872314, -6.033400058746338, -5.998899936676025, -2.816699981689453, -6.184800148010254, -4.9766998291015625, -3.9286000728607178, -6.138700008392334, -6.067599773406982, -6.264900207519531, -6.230800151824951, -5.183700084686279, -4.178800106048584, -5.51800012588501, -4.654200077056885, -4.088699817657471, -4.3414998054504395, -4.638800144195557, -3.1760001182556152, -4.565000057220459, -5.389500141143799, -4.7916998863220215, -3.988800048828125, -3.7929999828338623, -3.880500078201294, -3.1096999645233154, -4.425899982452393, -4.604599952697754, -3.1140999794006348, -3.7558999061584473, -4.672599792480469, -4.532599925994873, -4.781700134277344], \"loglift\": [30.0, 29.0, 28.0, 27.0, 26.0, 25.0, 24.0, 23.0, 22.0, 21.0, 20.0, 19.0, 18.0, 17.0, 16.0, 15.0, 14.0, 13.0, 12.0, 11.0, 10.0, 9.0, 8.0, 7.0, 6.0, 5.0, 4.0, 3.0, 2.0, 1.0, 1.7213000059127808, 1.7167999744415283, 1.7069000005722046, 1.7057000398635864, 1.705399990081787, 1.7037999629974365, 1.700700044631958, 1.7002999782562256, 1.6953999996185303, 1.694000005722046, 1.690999984741211, 1.6857999563217163, 1.6852999925613403, 1.6835999488830566, 1.6827000379562378, 1.6826000213623047, 1.6821000576019287, 1.679800033569336, 1.6796000003814697, 1.6735999584197998, 1.6710000038146973, 1.6687999963760376, 1.6647000312805176, 1.6627000570297241, 1.6612999439239502, 1.6607999801635742, 1.6563999652862549, 1.6548000574111938, 1.6539000272750854, 1.652999997138977, 1.5128999948501587, 1.590999960899353, 1.6354999542236328, 1.610700011253357, 1.592900037765503, 1.5738999843597412, 1.5540000200271606, 1.3206000328063965, 1.5032000541687012, 1.4129999876022339, 1.6130000352859497, 1.4413000345230103, 1.3973000049591064, 1.360700011253357, 1.4258999824523926, 1.1794999837875366, 1.3220000267028809, 0.8133000135421753, 0.8999999761581421, -0.15049999952316284, 0.5457000136375427, 1.0032000541687012, 0.8309000134468079, -0.29089999198913574, -0.07919999957084656, 0.6212999820709229, -0.20110000669956207, 0.4950999915599823, 0.815500020980835, -0.26489999890327454, -0.44679999351501465, 0.6656000018119812, -0.5062999725341797, 2.155600070953369, 2.1215999126434326, 2.119499921798706, 2.1185998916625977, 2.1159000396728516, 2.109800100326538, 2.1078999042510986, 2.0929999351501465, 2.0927999019622803, 2.0920000076293945, 2.073499917984009, 2.0590999126434326, 2.0585999488830566, 2.0576000213623047, 2.0529000759124756, 2.0524001121520996, 2.0520999431610107, 2.0499000549316406, 2.0418999195098877, 2.041599988937378, 2.036099910736084, 2.025599956512451, 2.0164999961853027, 2.0120999813079834, 1.9984999895095825, 1.9960999488830566, 1.9931999444961548, 1.9836000204086304, 1.9636000394821167, 1.9615999460220337, 1.9545999765396118, 1.9488999843597412, 1.9259999990463257, 1.8151999711990356, 1.8015999794006348, 1.9042999744415283, 1.8937000036239624, 1.6358000040054321, 1.8035999536514282, 1.6986000537872314, 1.6593999862670898, 1.8655999898910522, 1.479200005531311, 1.7901999950408936, 1.7653000354766846, 1.3043999671936035, 0.8149999976158142, 1.17739999294281, 0.6075000166893005, -0.2777000069618225, 0.41769999265670776, 1.2792999744415283, 0.5633999705314636, 0.5637999773025513, -0.02070000022649765, 0.5519999861717224, 0.9218000173568726, 0.7271999716758728, 0.2847000062465668, 0.7513999938964844, -1.0670000314712524, 2.306999921798706, 2.2920000553131104, 2.2918999195098877, 2.2874999046325684, 2.2867000102996826, 2.2809998989105225, 2.277400016784668, 2.273099899291992, 2.272900104522705, 2.2727999687194824, 2.2725000381469727, 2.272200107574463, 2.2711000442504883, 2.2672998905181885, 2.261699914932251, 2.2613000869750977, 2.2574000358581543, 2.2548000812530518, 2.254499912261963, 2.2535998821258545, 2.252500057220459, 2.2507998943328857, 2.2495999336242676, 2.248699903488159, 2.2465999126434326, 2.2464001178741455, 2.2446999549865723, 2.2416999340057373, 2.241300106048584, 2.2400999069213867, 2.2399001121520996, 2.2323999404907227, 2.1879000663757324, 2.206899881362915, 2.0441999435424805, 2.2249999046325684, 2.055299997329712, 2.1554999351501465, 2.232300043106079, 1.938599944114685, 1.8314000368118286, 1.6548000574111938, 2.089600086212158, 1.9391000270843506, 1.3385000228881836, 1.7509000301361084, 1.666700005531311, 1.5182000398635864, 1.6125999689102173, 0.9142000079154968, 1.6883000135421753, 0.9945999979972839, 1.4323999881744385, 1.180799961090088, 0.6327999830245972, 0.6539999842643738, -0.4059000015258789, 1.01010000705719, -0.17249999940395355, 0.07029999792575836, 1.0407999753952026, -0.7024000287055969, 0.520799994468689, -1.0231000185012817, 0.6647999882698059, 0.9596999883651733, 0.4027999937534332, 0.18459999561309814, 2.3094000816345215, 2.281599998474121, 2.275700092315674, 2.2737998962402344, 2.2678000926971436, 2.2583000659942627, 2.2441000938415527, 2.2323999404907227, 2.2248001098632812, 2.218400001525879, 2.210200071334839, 2.196000099182129, 2.1903998851776123, 2.182499885559082, 2.178800106048584, 2.176100015640259, 2.156100034713745, 2.1530001163482666, 2.1222000122070312, 2.120300054550171, 2.102299928665161, 2.0861001014709473, 2.085599899291992, 2.0720999240875244, 2.0696001052856445, 2.0653998851776123, 2.0624001026153564, 2.0611000061035156, 2.0596001148223877, 2.0571999549865723, 2.002500057220459, 2.016400098800659, 1.9780000448226929, 1.920199990272522, 1.9177000522613525, 1.9378000497817993, 1.4114999771118164, 1.562600016593933, 1.986899971961975, 1.5575000047683716, 1.760699987411499, 1.5816999673843384, 1.5966999530792236, 1.1253999471664429, 1.0928000211715698, 1.0634000301361084, 0.4514999985694885, -0.09510000050067902, 1.0824999809265137, 1.3646999597549438, -0.7347000241279602, 0.6055999994277954, -0.2806999981403351, 0.13169999420642853, 0.48159998655319214, 0.27730000019073486, 0.3725999891757965, -0.507099986076355, 0.2467000037431717, 2.3454999923706055, 2.345099925994873, 2.3433001041412354, 2.341599941253662, 2.3327999114990234, 2.33270001411438, 2.319999933242798, 2.3196001052856445, 2.3173999786376953, 2.3113999366760254, 2.310800075531006, 2.3069000244140625, 2.3060998916625977, 2.3059000968933105, 2.3057000637054443, 2.301800012588501, 2.3017001152038574, 2.3013999462127686, 2.2985999584198, 2.295599937438965, 2.2923998832702637, 2.2897000312805176, 2.289400100708008, 2.2878000736236572, 2.286400079727173, 2.283400058746338, 2.2822999954223633, 2.2818000316619873, 2.272900104522705, 2.2711000442504883, 2.264400005340576, 2.2708001136779785, 2.1723999977111816, 1.9678000211715698, 1.756600022315979, 1.9539999961853027, 2.0481998920440674, 2.160099983215332, 1.6621999740600586, 1.9285999536514282, 1.8653000593185425, 1.965399980545044, 1.4062999486923218, 1.0184999704360962, 1.947100043296814, -0.13259999454021454, 1.4177000522613525, 1.4139000177383423, 0.6610000133514404, 0.8177000284194946, -0.5856000185012817, 1.0080000162124634, 0.08550000190734863, 0.4602999985218048, 0.6952999830245972, -0.6685000061988831, -0.26930001378059387, -0.38749998807907104, 0.6650999784469604, 0.18490000069141388, -1.0233999490737915, 2.4456000328063965, 2.434299945831299, 2.4326000213623047, 2.4321999549865723, 2.4260001182556152, 2.4209001064300537, 2.4189999103546143, 2.413300037384033, 2.412899971008301, 2.4056999683380127, 2.4014999866485596, 2.400899887084961, 2.400700092315674, 2.3987998962402344, 2.3961000442504883, 2.394200086593628, 2.386699914932251, 2.3828001022338867, 2.3756000995635986, 2.3740999698638916, 2.3673999309539795, 2.3598999977111816, 2.3494999408721924, 2.347599983215332, 2.3366000652313232, 2.3324999809265137, 2.325200080871582, 2.3238000869750977, 2.323199987411499, 2.311000108718872, 2.3039000034332275, 2.293100118637085, 2.2548999786376953, 2.237799882888794, 2.216399908065796, 2.2421998977661133, 2.196700096130371, 2.1226000785827637, 2.2084999084472656, 2.2392001152038574, 2.041100025177002, 1.8697999715805054, 1.8047000169754028, 1.6765999794006348, 1.2019000053405762, 1.3839000463485718, 2.054500102996826, 1.8588999509811401, 1.1119999885559082, 0.3416999876499176, 1.6850999593734741, 1.7589999437332153, 1.3413000106811523, 1.4068000316619873, 0.958299994468689, 1.061400055885315, 1.8308000564575195, -0.39959999918937683, 0.2667999863624573, 0.15440000593662262, 0.7257000207901001, -0.0348999984562397, 0.3248000144958496, -0.8046000003814697, 2.575700044631958, 2.552500009536743, 2.5488998889923096, 2.546600103378296, 2.5452001094818115, 2.54259991645813, 2.5404999256134033, 2.5397000312805176, 2.5343000888824463, 2.5334999561309814, 2.5262999534606934, 2.515199899673462, 2.5078999996185303, 2.507699966430664, 2.495800018310547, 2.4892001152038574, 2.4860000610351562, 2.479300022125244, 2.45770001411438, 2.45740008354187, 2.4570000171661377, 2.4349000453948975, 2.431999921798706, 2.4189999103546143, 2.4179000854492188, 2.410099983215332, 2.3970000743865967, 2.3773000240325928, 2.374300003051758, 2.3652000427246094, 2.1451001167297363, 2.1621999740600586, 2.071700096130371, 1.8833999633789062, 2.2002999782562256, 2.138700008392334, 1.9555000066757202, 1.1857999563217163, 1.0318000316619873, 1.0174000263214111, 1.6778000593185425, 0.6360999941825867, 1.7898999452590942, 0.23319999873638153, 1.6700999736785889, 1.5027999877929688, 0.8206999897956848, -0.28700000047683716, 0.27309998869895935, -1.2380000352859497, -2.124300003051758, -1.572700023651123, -0.9419999718666077, -1.0672999620437622, 1.0224000215530396, 2.65339994430542, 2.649399995803833, 2.6458001136779785, 2.6445000171661377, 2.643899917602539, 2.6393001079559326, 2.637700080871582, 2.636899948120117, 2.636399984359741, 2.6349000930786133, 2.6291000843048096, 2.628999948501587, 2.6257998943328857, 2.6250998973846436, 2.6205999851226807, 2.6191999912261963, 2.618299961090088, 2.614500045776367, 2.6110000610351562, 2.6101999282836914, 2.6066999435424805, 2.6061999797821045, 2.606100082397461, 2.605299949645996, 2.597399950027466, 2.594599962234497, 2.58870005607605, 2.58870005607605, 2.5880000591278076, 2.585599899291992, 2.5827999114990234, 2.537400007247925, 2.5239999294281006, 2.4423000812530518, 2.3396999835968018, 2.4091999530792236, 1.9914000034332275, 1.8696000576019287, 1.4140000343322754, 1.8543000221252441, 1.4638999700546265, 2.101099967956543, 2.1370999813079834, 0.4975000023841858, 1.2231999635696411, 1.5543999671936035, -1.371899962425232, 2.254300117492676, -0.957099974155426, -0.04190000146627426, -0.12210000306367874, -1.2669999599456787, -0.8281999826431274, 0.7757999897003174, -0.5037000179290771, -1.090999960899353, 0.44749999046325684, 2.7488999366760254, 2.746799945831299, 2.7370998859405518, 2.7337000370025635, 2.7304999828338623, 2.7279999256134033, 2.725399971008301, 2.7251999378204346, 2.719399929046631, 2.7147998809814453, 2.7109999656677246, 2.707900047302246, 2.707200050354004, 2.6993000507354736, 2.6951000690460205, 2.6942999362945557, 2.6826000213623047, 2.667099952697754, 2.666100025177002, 2.648099899291992, 2.6468000411987305, 2.6415998935699463, 2.6405999660491943, 2.6370999813079834, 2.6335999965667725, 2.6303999423980713, 2.6222000122070312, 2.6166999340057373, 2.614799976348877, 2.61080002784729, 2.607100009918213, 2.5446999073028564, 2.5597000122070312, 2.561000108718872, 2.5325000286102295, 2.420099973678589, 2.414900064468384, 2.444999933242798, 2.378700017929077, 2.442199945449829, 2.5139999389648438, 2.3290998935699463, 1.3703999519348145, 2.2783000469207764, 1.919100046157837, 2.3622000217437744, 0.7121999859809875, 1.2520999908447266, 1.8272000551223755, 1.4510999917984009, -0.5827000141143799, 0.6610999703407288, 0.5397999882698059, -0.3702000081539154, 1.3452999591827393, 0.43230000138282776, 3.03410005569458, 3.0276999473571777, 3.0262999534606934, 3.0248000621795654, 3.018199920654297, 3.013700008392334, 3.010999917984009, 3.0069000720977783, 3.0013999938964844, 2.999799966812134, 2.9955999851226807, 2.9802000522613525, 2.9779000282287598, 2.9779000282287598, 2.9776999950408936, 2.9772000312805176, 2.9693000316619873, 2.9660000801086426, 2.959700107574463, 2.950700044631958, 2.9481000900268555, 2.9356000423431396, 2.9328999519348145, 2.919800043106079, 2.9191999435424805, 2.910799980163574, 2.9072000980377197, 2.887399911880493, 2.880500078201294, 2.873500108718872, 2.7932000160217285, 2.612499952316284, 2.621999979019165, 2.5820999145507812, 2.5457000732421875, 2.1740000247955322, 2.2600998878479004, 2.15939998626709, 1.1015000343322754, 0.6255999803543091, 1.8450000286102295, 0.30230000615119934, 0.6531999707221985, 0.690500020980835, -1.2323999404907227, -1.2905000448226929, -0.2296999990940094, -0.3734999895095825, -1.1828999519348145, 3.080699920654297, 3.0754001140594482, 3.0748000144958496, 3.073499917984009, 3.0606000423431396, 3.0597000122070312, 3.0583999156951904, 3.0576000213623047, 3.0552000999450684, 3.052999973297119, 3.0499000549316406, 3.049799919128418, 3.0492000579833984, 3.045099973678589, 3.0385000705718994, 3.037100076675415, 3.0232999324798584, 3.010999917984009, 3.0072999000549316, 2.993499994277954, 2.993499994277954, 2.9923999309539795, 2.9846999645233154, 2.9737000465393066, 2.9623000621795654, 2.957200050354004, 2.9191999435424805, 2.9133999347686768, 2.9070000648498535, 2.899899959564209, 2.87719988822937, 2.888000011444092, 2.760699987411499, 2.719099998474121, 2.6789000034332275, 2.585099935531616, 2.1166000366210938, 2.082900047302246, 2.5092999935150146, 1.5118999481201172, 2.48009991645813, 1.4291000366210938, 2.434000015258789, 2.466099977493286, 0.5084999799728394, 0.22519999742507935, 1.3207000494003296, 1.8966000080108643, 1.954699993133545, 0.4077000021934509, -1.1288000345230103, -0.7005000114440918, -0.059700001031160355, 0.3815999925136566, 1.0400999784469604, 3.11929988861084, 3.1110999584198, 3.105299949645996, 3.102799892425537, 3.0973000526428223, 3.0917000770568848, 3.0903000831604004, 3.083699941635132, 3.083199977874756, 3.0762999057769775, 3.0676000118255615, 3.066200017929077, 3.0659000873565674, 3.0613999366760254, 3.0594000816345215, 3.0515999794006348, 3.0409998893737793, 3.0283000469207764, 3.0179998874664307, 3.014699935913086, 3.011899948120117, 3.006700038909912, 2.9990999698638916, 2.9971001148223877, 2.996299982070923, 2.9937000274658203, 2.9842000007629395, 2.978300094604492, 2.9697999954223633, 2.964900016784668, 2.9626998901367188, 2.9570000171661377, 2.954200029373169, 2.9565000534057617, 2.803100109100342, 2.86929988861084, 2.9511001110076904, 2.8029000759124756, 2.4928998947143555, 2.397599935531616, 2.4005000591278076, 1.9306999444961548, 2.3254001140594482, 2.416300058364868, -0.6704999804496765, 0.16580000519752502, 2.267699956893921, -0.30720001459121704, 1.2681000232696533]}, \"token.table\": {\"Topic\": [8, 1, 8, 11, 7, 8, 5, 11, 5, 1, 2, 3, 4, 5, 6, 7, 8, 9, 10, 11, 12, 10, 1, 3, 4, 5, 6, 7, 8, 9, 11, 1, 2, 3, 4, 5, 6, 7, 8, 9, 10, 11, 12, 1, 2, 3, 4, 5, 9, 10, 11, 12, 1, 3, 5, 6, 7, 8, 9, 10, 11, 12, 2, 1, 3, 5, 8, 12, 12, 2, 2, 1, 5, 9, 11, 1, 3, 5, 6, 7, 9, 4, 7, 9, 5, 1, 2, 3, 4, 5, 6, 7, 8, 9, 10, 11, 8, 3, 5, 11, 2, 6, 5, 5, 6, 1, 2, 3, 4, 5, 6, 7, 8, 9, 10, 11, 12, 4, 6, 10, 3, 8, 1, 4, 7, 3, 8, 10, 8, 12, 1, 2, 3, 4, 7, 11, 1, 6, 7, 1, 9, 1, 3, 6, 1, 3, 6, 7, 8, 9, 10, 9, 2, 3, 4, 5, 1, 3, 4, 5, 6, 7, 8, 10, 11, 1, 3, 4, 5, 8, 11, 11, 1, 2, 3, 4, 5, 6, 9, 11, 1, 3, 4, 5, 6, 8, 10, 11, 1, 2, 6, 11, 12, 1, 2, 3, 4, 5, 6, 7, 8, 9, 10, 11, 12, 10, 8, 1, 2, 3, 4, 5, 6, 7, 8, 9, 10, 11, 5, 2, 3, 4, 7, 10, 1, 3, 4, 5, 6, 8, 9, 10, 11, 12, 1, 3, 4, 6, 7, 9, 11, 5, 2, 3, 5, 6, 8, 11, 11, 12, 4, 5, 6, 12, 1, 2, 3, 5, 6, 9, 11, 1, 3, 6, 7, 8, 9, 1, 2, 3, 4, 5, 6, 7, 9, 10, 12, 1, 2, 3, 5, 6, 7, 8, 9, 10, 1, 2, 3, 4, 5, 6, 7, 8, 9, 10, 11, 11, 8, 1, 2, 6, 7, 9, 11, 3, 11, 1, 3, 4, 6, 7, 8, 11, 12, 1, 3, 4, 9, 5, 1, 7, 8, 3, 9, 10, 11, 7, 1, 3, 5, 6, 7, 8, 10, 1, 3, 5, 7, 8, 11, 12, 10, 10, 9, 3, 5, 6, 7, 1, 1, 2, 3, 6, 1, 2, 3, 4, 6, 7, 9, 1, 3, 5, 6, 7, 2, 3, 5, 8, 2, 3, 6, 8, 9, 12, 9, 3, 9, 3, 4, 5, 8, 11, 10, 1, 3, 7, 11, 12, 1, 2, 3, 6, 10, 7, 1, 2, 3, 4, 5, 6, 7, 8, 9, 10, 11, 7, 1, 2, 3, 5, 6, 7, 8, 9, 1, 3, 5, 7, 8, 9, 11, 1, 2, 3, 4, 5, 6, 7, 8, 9, 10, 11, 12, 2, 3, 5, 6, 10, 4, 8, 4, 6, 3, 6, 10, 12, 4, 1, 2, 3, 4, 6, 8, 10, 11, 4, 1, 2, 3, 4, 5, 8, 9, 11, 5, 6, 9, 1, 3, 5, 8, 3, 6, 1, 2, 3, 4, 5, 6, 7, 8, 9, 10, 11, 12, 4, 12, 1, 4, 7, 11, 3, 5, 10, 1, 3, 4, 5, 6, 7, 8, 11, 2, 8, 8, 12, 1, 3, 4, 5, 6, 8, 9, 12, 11, 9, 1, 2, 3, 5, 7, 8, 10, 11, 1, 10, 1, 7, 6, 5, 9, 9, 6, 9, 1, 3, 5, 6, 7, 8, 10, 12, 1, 2, 3, 5, 6, 7, 8, 11, 11, 4, 5, 1, 2, 4, 5, 7, 9, 11, 12, 9, 6, 1, 2, 12, 4, 1, 4, 5, 6, 7, 10, 1, 2, 3, 4, 5, 6, 7, 8, 10, 11, 12, 8, 11, 9, 1, 2, 6, 7, 3, 4, 2, 1, 4, 6, 12, 2, 2, 9, 1, 2, 3, 4, 5, 6, 7, 8, 9, 10, 11, 12, 1, 4, 7, 8, 9, 11, 2, 10, 1, 3, 4, 9, 1, 11, 1, 3, 4, 6, 8, 11, 3, 2, 7, 6, 10, 12, 1, 3, 5, 8, 1, 3, 4, 5, 6, 9, 6, 2, 5, 1, 1, 2, 3, 4, 5, 8, 9, 10, 1, 4, 3, 4, 3, 1, 3, 8, 10, 10, 3, 4, 1, 2, 3, 4, 7, 8, 9, 1, 8, 6, 8, 10, 11, 7, 1, 3, 4, 7, 8, 9, 6, 1, 3, 6, 11, 4, 8, 3, 5, 2, 3, 8, 1, 7, 1, 2, 4, 5, 6, 8, 9, 10, 11, 12, 1, 2, 3, 6, 9, 11, 3, 12, 1, 3, 5, 6, 7, 9, 10, 4, 1, 3, 6, 11, 3, 4, 5, 10, 12, 1, 6, 9, 1, 2, 3, 4, 5, 6, 9, 10, 1, 2, 3, 4, 5, 7, 8, 9, 10, 11, 2, 5, 12, 1, 7, 11, 2, 3, 6, 8, 11, 12, 3, 10, 3, 3, 10, 1, 2, 3, 4, 5, 6, 7, 8, 9, 10, 11, 12, 1, 2, 3, 4, 5, 6, 8, 9, 10, 11, 1, 3, 6, 3, 12, 9, 10, 5, 11, 12, 1, 5, 6, 8, 11, 4, 11, 4, 12, 12, 1, 3, 1, 4, 5, 6, 1, 3, 4, 5, 6, 8, 9, 10, 11, 4, 11, 12, 10, 2, 1, 2, 3, 4, 5, 6, 7, 8, 9, 10, 11, 12, 1, 2, 3, 4, 5, 7, 10, 3, 4, 6, 7, 8, 12, 6, 1, 5, 6, 3, 3, 3, 7, 1, 5, 6, 8, 10, 3, 1, 3, 4, 7, 10, 1, 3, 8, 1, 1, 2, 3, 4, 7, 10, 11, 4, 8, 10, 1, 7, 1, 2, 3, 4, 5, 6, 7, 8, 9, 10, 11, 12, 7, 1, 2, 3, 4, 5, 6, 7, 8, 9, 10, 11, 1, 1, 8, 10, 3, 1, 5, 8, 9, 1, 2, 3, 4, 5, 6, 7, 8, 9, 10, 3, 1, 2, 3, 4, 5, 6, 7, 8, 9, 10, 12, 1, 3, 8, 9, 1, 2, 3, 4, 5, 6, 8, 9, 1, 6, 12, 1, 5, 6, 8, 10, 7, 6, 7, 7, 6, 1, 2, 3, 4, 6, 9, 10, 1, 11, 8, 6, 1, 3, 4, 6, 7, 8, 9, 2, 5, 8, 5, 9, 9, 1, 2, 5, 6, 7, 8, 6, 11, 10, 2, 1, 3, 5, 6, 8, 10, 5, 5, 1, 2, 3, 4, 5, 8, 2, 9, 12, 5, 11, 1, 2, 3, 4, 5, 6, 7, 8, 9, 10, 11, 12, 1, 2, 3, 4, 5, 6, 8, 11, 1, 2, 3, 4, 6, 7, 8, 6, 1, 2, 3, 4, 5, 6, 7, 8, 9, 10, 11, 12, 1, 2, 3, 4, 5, 6, 7, 8, 10, 11, 12, 2, 5, 9, 11, 1, 2, 3, 6, 7, 8, 11, 3, 8, 1, 3, 3, 4, 1, 1, 2, 3, 4, 5, 6, 7, 8, 9, 10, 11, 7, 3, 8, 3, 5, 6, 8, 12, 12, 3, 1, 3, 4, 5, 6, 7, 9, 11, 2, 8, 1, 2, 3, 5, 6, 7, 8, 9, 10, 11, 12, 8, 3, 11, 4, 1, 2, 3, 4, 5, 6, 7, 8, 9, 10, 11, 12, 1, 5, 6, 9, 11, 3, 5, 6, 10, 11, 12, 5, 3, 7, 12, 5, 1, 7, 8, 1, 4, 6, 11, 12, 3, 1, 3, 5, 6, 8, 9, 10, 11, 1, 5, 12, 3, 4, 7, 5, 6, 1, 3, 12, 4, 5, 7, 8, 5, 2, 6, 7, 8, 5, 12, 1, 6, 9, 11, 1, 2, 3, 4, 5, 6, 7, 8, 9, 10, 11, 10, 1, 4, 10, 2, 1, 2, 3, 4, 5, 6, 7, 8, 9, 10, 11, 12, 1, 2, 4, 5, 6, 10, 3, 5, 1, 10, 2, 2, 1, 2, 3, 5, 7, 9, 11, 1, 2, 9, 12, 11, 1, 1, 1, 7, 8, 11, 12, 4, 1, 3, 5, 6, 8, 10, 12, 1, 2, 3, 5, 6, 8, 1, 5, 8, 2, 1, 3, 4, 5, 7, 8, 12, 2, 2, 3, 4, 5, 6, 8, 9, 10, 11, 10, 3, 9, 1, 2, 3, 4, 5, 6, 7, 8, 9, 10, 11, 3, 4, 6, 9, 2, 1, 2, 3, 4, 5, 6, 7, 8, 9, 10, 11, 12, 2, 6, 8, 1, 6, 1, 3, 4, 5, 6, 8, 10, 11, 1, 2, 3, 4, 5, 6, 7, 8, 9, 10, 11, 12, 8, 5, 1, 3, 4, 5, 6, 8, 9, 1, 2, 3, 4, 5, 6, 7, 8, 9, 10, 11, 3, 5, 8, 10, 3, 1, 3, 4, 5, 6, 7, 8, 10, 1, 2, 3, 4, 5, 6, 7, 8, 10, 11, 1, 3, 7, 5, 1, 5, 8, 6, 3, 5, 6, 10, 5, 6, 8, 12, 1, 6, 10, 12, 1, 3, 5, 7, 10, 11, 3, 1, 3, 8, 9, 6, 1, 4, 8, 11, 2, 1, 4, 5, 6, 7, 1, 2, 7, 3, 10, 5, 10, 1, 3, 4, 5, 7, 9, 11, 12, 3, 1, 5, 10, 5, 10, 11, 3, 4, 5, 10, 2, 5, 10, 3, 4, 1, 8, 1, 2, 3, 4, 5, 6, 7, 8, 9, 10, 11, 12, 9, 4, 1, 3, 5, 10, 7, 10, 3, 10, 1, 3, 5, 6, 7, 8, 9, 1, 6, 6, 1, 2, 3, 4, 5, 6, 7, 8, 9, 10, 11, 12, 1, 5, 7, 1, 6, 11, 1, 9, 1, 4, 6, 8, 11, 6, 1, 2, 3, 4, 5, 6, 7, 8, 10, 12, 3, 5, 7, 12, 1, 2, 3, 4, 5, 6, 11, 12, 8, 11, 12, 3, 5, 4, 1, 3, 4, 5, 6, 8, 11, 12, 5, 12, 8, 11, 1, 4, 6, 8, 11, 7, 4, 8, 1, 2, 3, 4, 5, 6, 8, 9, 10, 11, 12, 2, 6, 8, 11, 1, 2, 3, 4, 5, 6, 7, 8, 9, 10, 12, 1, 8, 1, 2, 3, 4, 5, 6, 7, 8, 9, 10, 11, 1, 4, 5, 6, 7, 10, 1, 2, 3, 4, 5, 6, 8, 10, 12, 3, 4, 1, 2, 1, 6, 1, 3, 6, 7, 10, 5, 11, 1, 3, 4, 5, 8, 9, 3, 5, 8, 5, 7, 2, 1, 5, 8, 9, 10, 1, 12, 4, 1, 3, 4, 5, 7, 8, 12, 10, 1, 2, 3, 4, 5, 7, 8, 9, 12, 1, 3, 6, 4, 1, 11, 12, 4, 3, 1, 5, 1, 2, 3, 4, 8, 11, 3, 1, 2, 3, 4, 5, 6, 7, 8, 9, 10, 11, 6, 12, 5, 1, 5, 6, 7, 9, 10, 11, 1, 2, 3, 4, 5, 6, 7, 8, 9, 10, 11, 12, 3, 9, 1, 2, 5, 7, 8, 9, 4, 12, 6, 10, 1, 2, 3, 4, 5, 6, 7, 8, 9, 10, 11, 1, 5, 8, 11, 1, 3, 4, 5, 6, 9, 10, 9, 1, 2, 3, 4, 5, 6, 7, 8, 9, 10, 11, 1, 3, 4, 5, 6, 7, 8, 10, 11, 1, 1, 2, 3, 4, 5, 6, 7, 8, 9, 10, 11, 12, 1, 3, 4, 5, 6, 8, 9, 10, 8, 9, 1, 2, 3, 4, 7, 8, 9, 7, 1, 3, 4, 6, 9, 11, 1, 3, 5, 6, 7, 8, 9, 10, 1, 11, 5, 1, 2, 5, 6, 8, 10, 1, 3, 5, 9, 11, 12, 1, 2, 5, 6, 10, 11, 12, 5, 6, 1, 3, 5, 9, 6, 1, 2, 3, 5, 7, 10, 11, 3, 1, 3, 4, 5, 6, 8, 10, 4, 6, 7, 11, 3, 5, 6, 9, 4, 1, 5, 6, 8, 9, 8, 5, 7, 1, 2, 3, 4, 5, 6, 8, 11, 12, 1, 11, 3, 5, 1, 4, 5, 6, 7, 9, 10, 11, 4, 8, 10, 2, 6, 7, 8, 12, 4, 1, 1], \"Freq\": [0.9676832556724548, 0.9624711871147156, 0.6554856896400452, 0.31560420989990234, 0.9523009657859802, 0.9651194214820862, 0.05230095982551575, 0.8891163468360901, 0.9738748669624329, 0.012730639427900314, 0.00181866274215281, 0.2673434317111969, 0.1109384298324585, 0.18004761636257172, 0.010911976918578148, 0.24188214540481567, 0.00363732548430562, 0.10730110108852386, 0.027279941365122795, 0.016367964446544647, 0.021823953837156296, 0.9351513981819153, 0.6841043829917908, 0.023189978674054146, 0.0057974946685135365, 0.14493736624717712, 0.0057974946685135365, 0.028987474739551544, 0.028987474739551544, 0.06377243995666504, 0.017392484471201897, 0.17267334461212158, 0.004544035531580448, 0.004544035531580448, 0.009088071063160896, 0.38169896602630615, 0.04544035345315933, 0.009088071063160896, 0.07724860310554504, 0.10905684530735016, 0.036352284252643585, 0.05907246097922325, 0.08633667230606079, 0.05381985008716583, 0.08969975262880325, 0.08969975262880325, 0.026909925043582916, 0.1614595502614975, 0.42158880829811096, 0.01793994940817356, 0.12557965517044067, 0.00896997470408678, 0.200648233294487, 0.09504389762878418, 0.026401083916425705, 0.20592844486236572, 0.03168129920959473, 0.021120866760611534, 0.23760974407196045, 0.015840649604797363, 0.010560433380305767, 0.1531262844800949, 0.8399897813796997, 0.46857526898384094, 0.05324718728661537, 0.010649438016116619, 0.021298876032233238, 0.44727638363838196, 0.9464045166969299, 0.9346122741699219, 0.9289343953132629, 0.049440041184425354, 0.6592005491256714, 0.24720020592212677, 0.016480013728141785, 0.09507590532302856, 0.02716454491019249, 0.013582272455096245, 0.09507590532302856, 0.16298727691173553, 0.6112022399902344, 0.0128784803673625, 0.0128784803673625, 0.9658860564231873, 0.8771016597747803, 0.1342763602733612, 0.48763519525527954, 0.008833970874547958, 0.3003550171852112, 0.008833970874547958, 0.024735119193792343, 0.01943473517894745, 0.001766794128343463, 0.003533588256686926, 0.0053003826178610325, 0.003533588256686926, 0.9262679815292358, 0.9740873575210571, 0.0611145943403244, 0.9167189598083496, 0.8697245121002197, 0.8295835852622986, 0.9640313386917114, 0.8901389241218567, 0.9744015336036682, 0.1313450038433075, 0.5706280469894409, 0.035507142543792725, 0.08829652518033981, 0.05216093733906746, 0.05687427148222923, 0.021367130801081657, 0.019167572259902954, 0.007541340310126543, 0.012883123010396957, 0.0031422250904142857, 0.0009426675387658179, 0.93767911195755, 0.04477473348379135, 0.940269410610199, 0.949284553527832, 0.9583658576011658, 0.05770600214600563, 0.9232960343360901, 0.9256201386451721, 0.9160751104354858, 0.9337231516838074, 0.034582339227199554, 0.9541754126548767, 0.9738451838493347, 0.39275532960891724, 0.07961256802082062, 0.41398537158966064, 0.09553508460521698, 0.005307504441589117, 0.010615008883178234, 0.15864305198192596, 0.03172861039638519, 0.793215274810791, 0.9457438588142395, 0.8086812496185303, 0.9131065607070923, 0.03511948138475418, 0.9385499954223633, 0.006583827082067728, 0.013167654164135456, 0.2106824666261673, 0.046086788177490234, 0.006583827082067728, 0.6715503334999084, 0.046086788177490234, 0.8973634243011475, 0.8476402163505554, 0.03685392439365387, 0.07370784878730774, 0.03685392439365387, 0.14741070568561554, 0.004913690499961376, 0.004913690499961376, 0.004913690499961376, 0.8058452010154724, 0.004913690499961376, 0.009827380999922752, 0.014741070568561554, 0.004913690499961376, 0.6552432775497437, 0.04368288442492485, 0.10920721292495728, 0.15289008617401123, 0.021841442212462425, 0.010920721106231213, 0.9628525972366333, 0.1142210066318512, 0.01631728745996952, 0.024475930258631706, 0.15501421689987183, 0.04079321771860123, 0.25291794538497925, 0.3916148841381073, 0.00815864372998476, 0.020172303542494774, 0.1075856164097786, 0.07396510988473892, 0.08741331100463867, 0.006724101025611162, 0.006724101025611162, 0.63206547498703, 0.06724101305007935, 0.10557914525270462, 0.8235173225402832, 0.04223165661096573, 0.021115828305482864, 0.8598650097846985, 0.015395304188132286, 0.015395304188132286, 0.04811032488942146, 0.005773238837718964, 0.2578713297843933, 0.22130750119686127, 0.0019244130235165358, 0.030790608376264572, 0.084674172103405, 0.015395304188132286, 0.0038488260470330715, 0.3002084195613861, 0.963138997554779, 0.9402865171432495, 0.7979938983917236, 0.005913371220231056, 0.04886312037706375, 0.04668451100587845, 0.011826742440462112, 0.010581822134554386, 0.015250273048877716, 0.026454556733369827, 0.0009336902294307947, 0.01369412336498499, 0.022097334265708923, 0.8693585395812988, 0.6622468829154968, 0.044149789959192276, 0.26489874720573425, 0.9196488857269287, 0.8848657011985779, 0.031004523858428, 0.05580814555287361, 0.08681266754865646, 0.02480361983180046, 0.11781719326972961, 0.01860271394252777, 0.01240180991590023, 0.006200904957950115, 0.5890859961509705, 0.04960723966360092, 0.009429177269339561, 0.6128965020179749, 0.037716709077358246, 0.2451585978269577, 0.009429177269339561, 0.06600423902273178, 0.009429177269339561, 0.9680724740028381, 0.006507310084998608, 0.013014620169997215, 0.013014620169997215, 0.06507310271263123, 0.20172661542892456, 0.6962822079658508, 0.9660141468048096, 0.977088212966919, 0.11435969173908234, 0.028589922934770584, 0.014294961467385292, 0.8291077613830566, 0.0066463821567595005, 0.27914804220199585, 0.5250641703605652, 0.033231910318136215, 0.04652467370033264, 0.053171057254076004, 0.053171057254076004, 0.30615195631980896, 0.024492155760526657, 0.024492155760526657, 0.3306441009044647, 0.012246077880263329, 0.2939058542251587, 0.02440180443227291, 0.6069948673248291, 0.19216421246528625, 0.027452031150460243, 0.039652932435274124, 0.08235608786344528, 0.003050225554034114, 0.012200902216136456, 0.003050225554034114, 0.003050225554034114, 0.06096505746245384, 0.5844236612319946, 0.11982787400484085, 0.018920190632343292, 0.012613460421562195, 0.006306730210781097, 0.012613460421562195, 0.0967031940817833, 0.0903964638710022, 0.004350351635366678, 0.3610791563987732, 0.017401406541466713, 0.05655456706881523, 0.017401406541466713, 0.45243653655052185, 0.05655456706881523, 0.004350351635366678, 0.021751757711172104, 0.004350351635366678, 0.004350351635366678, 0.8423207998275757, 0.9717342257499695, 0.08374064415693283, 0.6489900350570679, 0.10467580705881119, 0.08374064415693283, 0.041870322078466415, 0.9048471450805664, 0.16216622292995453, 0.8108310699462891, 0.7442231178283691, 0.011907569132745266, 0.1488446146249771, 0.005953784566372633, 0.005953784566372633, 0.005953784566372633, 0.07144542038440704, 0.005953784566372633, 0.012227618135511875, 0.1589590460062027, 0.02445523627102375, 0.7947952151298523, 0.9295963644981384, 0.3027387261390686, 0.12974517047405243, 0.5622290372848511, 0.03856496512889862, 0.9255591630935669, 0.9494274258613586, 0.8097383379936218, 0.9315866231918335, 0.20781780779361725, 0.17702998220920563, 0.292484313249588, 0.04618173465132713, 0.20781780779361725, 0.05387869104743004, 0.015393911860883236, 0.06432627886533737, 0.01286525558680296, 0.3087661564350128, 0.05146102234721184, 0.11578730493783951, 0.01286525558680296, 0.42455345392227173, 0.9802548885345459, 0.9179977774620056, 0.9710268378257751, 0.01513585727661848, 0.07567928731441498, 0.06054342910647392, 0.8476080298423767, 0.9792385101318359, 0.03917376324534416, 0.00979344081133604, 0.8814097046852112, 0.05876064673066139, 0.06518232822418213, 0.043454889208078384, 0.021727444604039192, 0.021727444604039192, 0.10863722115755081, 0.06518232822418213, 0.6735507845878601, 0.14208176732063293, 0.05683270841836929, 0.724617063999176, 0.04262453317642212, 0.028416354209184647, 0.10037224739789963, 0.06273265182971954, 0.8155245184898376, 0.9366981387138367, 0.008132525719702244, 0.040662627667188644, 0.22771070897579193, 0.11385535448789597, 0.08945778012275696, 0.5286141633987427, 0.9378325343132019, 0.9743727445602417, 0.9473312497138977, 0.028210708871483803, 0.6582498550415039, 0.009403569623827934, 0.2538963854312897, 0.03761427849531174, 0.9104804396629333, 0.17271722853183746, 0.04605792835354805, 0.11514481902122498, 0.6448110342025757, 0.011514482088387012, 0.061211876571178436, 0.061211876571178436, 0.0765148475766182, 0.7957544326782227, 0.8934913873672485, 0.93166583776474, 0.013964343816041946, 0.013964343816041946, 0.5166807174682617, 0.023273905739188194, 0.18619124591350555, 0.06516693532466888, 0.060512155294418335, 0.009309561923146248, 0.018619123846292496, 0.04654781147837639, 0.04654781147837639, 0.8953858613967896, 0.014965353533625603, 0.05487295985221863, 0.04489605873823166, 0.009976902045309544, 0.7931637167930603, 0.014965353533625603, 0.04988450929522514, 0.004988451022654772, 0.013846547342836857, 0.013846547342836857, 0.05538618937134743, 0.1523120254278183, 0.013846547342836857, 0.7200204730033875, 0.027693094685673714, 0.10609220713376999, 0.25066882371902466, 0.24650835990905762, 0.014561674557626247, 0.06344729661941528, 0.11025268584489822, 0.004160478711128235, 0.04160478711128235, 0.12689459323883057, 0.019762273877859116, 0.014561674557626247, 0.0010401196777820587, 0.027823708951473236, 0.027823708951473236, 0.027823708951473236, 0.05564741790294647, 0.8625349998474121, 0.7770697474479675, 0.19840078055858612, 0.8721479773521423, 0.913753092288971, 0.06981242448091507, 0.767936646938324, 0.023270808160305023, 0.11635404080152512, 0.8919536471366882, 0.0037364221643656492, 0.01868211105465889, 0.7622300982475281, 0.15692973136901855, 0.03362780064344406, 0.011209266260266304, 0.0037364221643656492, 0.011209266260266304, 0.9419946074485779, 0.93256014585495, 0.011372684501111507, 0.011372684501111507, 0.005686342250555754, 0.017059026286005974, 0.005686342250555754, 0.005686342250555754, 0.011372684501111507, 0.040234632790088654, 0.040234632790088654, 0.8851619362831116, 0.8811829090118408, 0.013987029902637005, 0.04196109250187874, 0.04196109250187874, 0.13328337669372559, 0.8330211043357849, 0.07289782911539078, 0.013668342493474483, 0.025058628991246223, 0.056951429694890976, 0.11162479966878891, 0.1161809116601944, 0.48522618412971497, 0.02278057113289833, 0.06606365740299225, 0.002278057159855962, 0.02278057113289833, 0.004556114319711924, 0.8129954934120178, 0.1354992538690567, 0.04043665900826454, 0.04043665900826454, 0.04043665900826454, 0.8896064758300781, 0.13323232531547546, 0.7993939518928528, 0.9033066034317017, 0.14613360166549683, 0.08547437191009521, 0.12959016859531403, 0.04411580413579941, 0.011028951033949852, 0.005514475516974926, 0.5018172860145569, 0.07168818265199661, 0.8453666567802429, 0.9320275783538818, 0.0730193480849266, 0.8762321472167969, 0.2857012450695038, 0.09118124842643738, 0.0486299991607666, 0.042551249265670776, 0.018236249685287476, 0.01215749979019165, 0.018236249685287476, 0.4802212417125702, 0.9065256118774414, 0.9212604761123657, 0.044117558747529984, 0.7852925062179565, 0.03088228963315487, 0.06617633253335953, 0.03529404476284981, 0.008823511190712452, 0.004411755595356226, 0.022058779373764992, 0.3842805027961731, 0.6004382967948914, 0.358374685049057, 0.6211827397346497, 0.9104979634284973, 0.03136257827281952, 0.909514844417572, 0.9184017181396484, 0.06282960623502731, 0.8796144723892212, 0.04840154945850372, 0.04840154945850372, 0.04840154945850372, 0.04840154945850372, 0.5808185935020447, 0.1936061978340149, 0.009680310264229774, 0.009680310264229774, 0.8332828283309937, 0.008680028840899467, 0.03472011536359787, 0.04340014606714249, 0.017360057681798935, 0.008680028840899467, 0.017360057681798935, 0.03472011536359787, 0.9612147808074951, 0.06480111181735992, 0.9072155952453613, 0.34218570590019226, 0.015553896315395832, 0.1788698136806488, 0.031107792630791664, 0.003888474078848958, 0.06610406190156937, 0.3538511395454407, 0.003888474078848958, 0.8555241823196411, 0.9065654873847961, 0.05262508988380432, 0.03157505393028259, 0.9051515460014343, 0.8715404868125916, 0.315131813287735, 0.05514806509017944, 0.00787829514592886, 0.00787829514592886, 0.19695737957954407, 0.40179306268692017, 0.14818353950977325, 0.055039599537849426, 0.1820540577173233, 0.2878994643688202, 0.04233815521001816, 0.008467630483210087, 0.16935262084007263, 0.004233815241605043, 0.0381043404340744, 0.016935260966420174, 0.05080578476190567, 0.17833101749420166, 0.7727677226066589, 0.823309600353241, 0.9899019598960876, 0.8861226439476013, 0.8561471104621887, 0.9581051468849182, 0.032653700560331345, 0.9469572901725769, 0.8028273582458496, 0.11155550181865692, 0.12549994885921478, 0.2788887619972229, 0.4880553185939789, 0.7764217257499695, 0.034948915243148804, 0.9436206817626953, 0.09892390668392181, 0.008342979475855827, 0.01191854290664196, 0.4636313021183014, 0.026220794767141342, 0.08223794400691986, 0.003575562732294202, 0.01072668842971325, 0.004767416976392269, 0.0870053619146347, 0.20023152232170105, 0.0023837084881961346, 0.2816573679447174, 0.035207170993089676, 0.035207170993089676, 0.017603585496544838, 0.07041434198617935, 0.5281075835227966, 0.025381295010447502, 0.964489221572876, 0.019566696137189865, 0.09783348441123962, 0.019566696137189865, 0.8609346747398376, 0.9172530174255371, 0.035278961062431335, 0.8676682114601135, 0.027114631608128548, 0.018076419830322266, 0.027114631608128548, 0.027114631608128548, 0.027114631608128548, 0.9295536875724792, 0.1155342310667038, 0.8087396621704102, 0.9554141163825989, 0.02810041606426239, 0.9148439764976501, 0.9473202228546143, 0.014918428845703602, 0.014918428845703602, 0.007459214422851801, 0.10430165380239487, 0.008691804483532906, 0.008691804483532906, 0.1390688717365265, 0.7040361762046814, 0.03476721793413162, 0.972511887550354, 0.8413838148117065, 0.9670324325561523, 0.9408221244812012, 0.11292625218629837, 0.11292625218629837, 0.4517050087451935, 0.030798068270087242, 0.10266023129224777, 0.16425636410713196, 0.010266022756695747, 0.015399034135043621, 0.0696316659450531, 0.8355799913406372, 0.3042428195476532, 0.6725367903709412, 0.9243696928024292, 0.008743015117943287, 0.008743015117943287, 0.9617316126823425, 0.008743015117943287, 0.8692787289619446, 0.09269367158412933, 0.8342429995536804, 0.026678184047341347, 0.005335636902600527, 0.005335636902600527, 0.053356368094682693, 0.048020731657743454, 0.8537018895149231, 0.005335636902600527, 0.9584705233573914, 0.9284774661064148, 0.033349163830280304, 0.06669832766056061, 0.833729088306427, 0.033349163830280304, 0.8891801238059998, 0.020033439621329308, 0.010016719810664654, 0.020033439621329308, 0.030050158500671387, 0.9115214943885803, 0.010016719810664654, 0.9256892204284668, 0.8873577117919922, 0.10439502447843552, 0.9302724599838257, 0.9485889077186584, 0.8535756468772888, 0.12193938344717026, 0.9914613366127014, 0.004884046036750078, 0.004181127063930035, 0.28013551235198975, 0.7107915878295898, 0.9176849722862244, 0.05561727285385132, 0.012733040377497673, 0.021221734583377838, 0.00848869327455759, 0.012733040377497673, 0.00848869327455759, 0.01697738654911518, 0.00848869327455759, 0.00848869327455759, 0.021221734583377838, 0.8828241229057312, 0.0774635300040245, 0.2323905974626541, 0.4929497539997101, 0.1760534793138504, 0.0070421393029391766, 0.0070421393029391766, 0.023955456912517548, 0.9582183361053467, 0.017584210261702538, 0.035168420523405075, 0.035168420523405075, 0.017584210261702538, 0.07033684104681015, 0.7912894487380981, 0.017584210261702538, 0.6857088804244995, 0.8988263607025146, 0.07704225927591324, 0.9579402804374695, 0.023364396765828133, 0.021860791370272636, 0.0072869304567575455, 0.021860791370272636, 0.0072869304567575455, 0.9254401922225952, 0.018240850418806076, 0.0729634016752243, 0.8755608201026917, 0.008085348643362522, 0.19404837489128113, 0.04851209372282028, 0.05120721086859703, 0.668388843536377, 0.005390232428908348, 0.016170697286725044, 0.005390232428908348, 0.04775064438581467, 0.8833869099617004, 0.023875322192907333, 0.006366752553731203, 0.011141817085444927, 0.014325193129479885, 0.0015916881384328008, 0.0015916881384328008, 0.004775064066052437, 0.004775064066052437, 0.8156472444534302, 0.060166217386722565, 0.8423270583152771, 0.05594080686569214, 0.11188161373138428, 0.7831712961196899, 0.016393985599279404, 0.6885474324226379, 0.04918195679783821, 0.09836391359567642, 0.13115188479423523, 0.8586470484733582, 0.9811972379684448, 0.009085159748792648, 0.9626592397689819, 0.9173084497451782, 0.06552202999591827, 0.025212595239281654, 0.6723359227180481, 0.1659829169511795, 0.021010497584939003, 0.029414694756269455, 0.05252624303102493, 0.004202099516987801, 0.004202099516987801, 0.006303148809820414, 0.0021010497584939003, 0.008404199033975601, 0.006303148809820414, 0.0045645334757864475, 0.0912906676530838, 0.01825813390314579, 0.0045645334757864475, 0.05020986869931221, 0.7759706974029541, 0.0045645334757864475, 0.0045645334757864475, 0.03651626780629158, 0.009129066951572895, 0.9332501292228699, 0.9436972141265869, 0.907766580581665, 0.9337220788002014, 0.9726693034172058, 0.9548320174217224, 0.9495241045951843, 0.03466576337814331, 0.03466576337814331, 0.9013097882270813, 0.7121601104736328, 0.028486404567956924, 0.09970241785049438, 0.14955362677574158, 0.007121601141989231, 0.01959414780139923, 0.9601132869720459, 0.9093380570411682, 0.9287388920783997, 0.8605411052703857, 0.1318318396806717, 0.8569069504737854, 0.021379319950938225, 0.7268968820571899, 0.021379319950938225, 0.21379318833351135, 0.03643764927983284, 0.13664118945598602, 0.09109412133693695, 0.17307883501052856, 0.4919082522392273, 0.00910941231995821, 0.03643764927983284, 0.00910941231995821, 0.00910941231995821, 0.029878178611397743, 0.029878178611397743, 0.9262235164642334, 0.9410222768783569, 0.9446598887443542, 0.16268113255500793, 0.10916759818792343, 0.1063135415315628, 0.00998919177800417, 0.5408433675765991, 0.009275678545236588, 0.0021405410952866077, 0.00998919177800417, 0.027827033773064613, 0.014270273968577385, 0.006421623285859823, 0.0014270273968577385, 0.02645566500723362, 0.7804421186447144, 0.02645566500723362, 0.06613916158676147, 0.06613916158676147, 0.02645566500723362, 0.01322783250361681, 0.024750590324401855, 0.09900236129760742, 0.024750590324401855, 0.12375295162200928, 0.024750590324401855, 0.7177671194076538, 0.9710338711738586, 0.05368988588452339, 0.8993055820465088, 0.04026741161942482, 0.9439446926116943, 0.9226192831993103, 0.9432079195976257, 0.7427012920379639, 0.4202156662940979, 0.10505391657352448, 0.13737820088863373, 0.32324281334877014, 0.7552110552787781, 0.9428048729896545, 0.19604022800922394, 0.010317906737327576, 0.7016176581382751, 0.07222534716129303, 0.9741570353507996, 0.02314808964729309, 0.9490717053413391, 0.9281654953956604, 0.9409276247024536, 0.2705533504486084, 0.009662619791924953, 0.5314440727233887, 0.16426454484462738, 0.009662619791924953, 0.009662619791924953, 0.009662619791924953, 0.7047934532165527, 0.9078497290611267, 0.8113844394683838, 0.966335654258728, 0.9598293900489807, 0.13465891778469086, 0.0011411772575229406, 0.19057659804821014, 0.058200038969516754, 0.07189416140317917, 0.257906049489975, 0.09357653558254242, 0.0661882758140564, 0.04678826779127121, 0.03195296227931976, 0.04222355782985687, 0.00798824056982994, 0.8520182371139526, 0.10905690491199493, 0.7913616299629211, 0.02796330861747265, 0.02516697719693184, 0.00838899239897728, 0.011185322888195515, 0.005592661444097757, 0.013981654308736324, 0.0027963307220488787, 0.0027963307220488787, 0.0027963307220488787, 0.9359049201011658, 0.03980792313814163, 0.03980792313814163, 0.9155822396278381, 0.8960330486297607, 0.02379418909549713, 0.02379418909549713, 0.11897094547748566, 0.8090023994445801, 0.3342207968235016, 0.006684415973722935, 0.02673766389489174, 0.28742989897727966, 0.02005324885249138, 0.08689741045236588, 0.10695065557956696, 0.02673766389489174, 0.09358182549476624, 0.006684415973722935, 0.9601314067840576, 0.17319132387638092, 0.14894454181194305, 0.2701784670352936, 0.12469775229692459, 0.11777010560035706, 0.062348876148462296, 0.051957398653030396, 0.003463826607912779, 0.0207829587161541, 0.003463826607912779, 0.024246785789728165, 0.024971025064587593, 0.024971025064587593, 0.9239279627799988, 0.9827805757522583, 0.0315193235874176, 0.6776654720306396, 0.0157596617937088, 0.10243780165910721, 0.0078798308968544, 0.1339571326971054, 0.023639492690563202, 0.0078798308968544, 0.024766309186816216, 0.12383154779672623, 0.8420544862747192, 0.07033180445432663, 0.2461613267660141, 0.07033180445432663, 0.5802373886108398, 0.017582951113581657, 0.9479421973228455, 0.8934754729270935, 0.08934754878282547, 0.9295368194580078, 0.94087815284729, 0.4774343967437744, 0.22707246243953705, 0.023289483040571213, 0.11062504351139069, 0.11644741892814636, 0.023289483040571213, 0.005822370760142803, 0.04237869381904602, 0.9323312640190125, 0.9291606545448303, 0.931227445602417, 0.17403128743171692, 0.026104692369699478, 0.46988445520401, 0.08701564371585846, 0.017403127625584602, 0.2001359760761261, 0.008701563812792301, 0.9101746678352356, 0.044206369668245316, 0.9283337593078613, 0.2635951638221741, 0.7224459648132324, 0.963408350944519, 0.3632200360298157, 0.012972144410014153, 0.05188857764005661, 0.5318579077720642, 0.012972144410014153, 0.025944288820028305, 0.8339348435401917, 0.9593076109886169, 0.9297650456428528, 0.9219158887863159, 0.2338782548904419, 0.007544459775090218, 0.1886114925146103, 0.5507455468177795, 0.007544459775090218, 0.007544459775090218, 0.9652490019798279, 0.9643895626068115, 0.010042557492852211, 0.40170228481292725, 0.19080857932567596, 0.11046812683343887, 0.25106391310691833, 0.040170229971408844, 0.8228563666343689, 0.035668712109327316, 0.927386462688446, 0.9125411510467529, 0.9093395471572876, 0.017351195216178894, 0.0019279106054455042, 0.008354279212653637, 0.0006426368490792811, 0.019279105588793755, 0.0044984580017626286, 0.007069005630910397, 0.023134928196668625, 0.0025705473963171244, 0.9144722819328308, 0.0006426368490792811, 0.0012852736981585622, 0.7234538793563843, 0.044885821640491486, 0.10561370104551315, 0.0026403425727039576, 0.09769267588853836, 0.013201712630689144, 0.0026403425727039576, 0.007921027950942516, 0.006704830098897219, 0.04022898152470589, 0.22796422243118286, 0.013409660197794437, 0.24137388169765472, 0.033524151891469955, 0.4358139634132385, 0.9341461658477783, 0.0088814003393054, 0.015986520797014236, 0.0177628006786108, 0.005328840110450983, 0.03197304159402847, 0.001776279998011887, 0.8881400227546692, 0.001776279998011887, 0.010657680220901966, 0.010657680220901966, 0.005328840110450983, 0.001776279998011887, 0.0850377157330513, 0.19520020484924316, 0.05411490797996521, 0.02512477897107601, 0.14881600439548492, 0.33821818232536316, 0.02319210395216942, 0.02319210395216942, 0.03478815779089928, 0.06571096181869507, 0.009663376957178116, 0.7118128538131714, 0.1482943445444107, 0.08897660672664642, 0.02965886890888214, 0.09297164529561996, 0.026563327759504318, 0.22578828036785126, 0.09297164529561996, 0.39844992756843567, 0.11953497678041458, 0.03984499350190163, 0.9760132431983948, 0.9449319839477539, 0.9594117403030396, 0.027944032102823257, 0.06224796921014786, 0.8714715838432312, 0.8924712538719177, 0.40435534715652466, 0.003925780300050974, 0.07851560413837433, 0.03140624240040779, 0.06673826277256012, 0.019628901034593582, 0.015703121200203896, 0.14917965233325958, 0.12169918417930603, 0.003925780300050974, 0.10599606484174728, 0.7868212461471558, 0.9303753972053528, 0.032081909477710724, 0.042166534811258316, 0.08433306962251663, 0.042166534811258316, 0.06324980407953262, 0.7589976787567139, 0.8757702112197876, 0.9244183897972107, 0.21414868533611298, 0.008565947413444519, 0.09422542154788971, 0.008565947413444519, 0.008565947413444519, 0.042829737067222595, 0.3255060017108917, 0.29124221205711365, 0.9222460389137268, 0.05589370056986809, 0.01947503723204136, 0.005311373621225357, 0.0035409159027040005, 0.9330313205718994, 0.010622747242450714, 0.0017704579513520002, 0.0017704579513520002, 0.0035409159027040005, 0.0035409159027040005, 0.008852289989590645, 0.007081831805408001, 0.9088973999023438, 0.9275357127189636, 0.0463767871260643, 0.9711373448371887, 0.1439664214849472, 0.004259361419826746, 0.04600110277533531, 0.07326101511716843, 0.04003799706697464, 0.28196972608566284, 0.05537169799208641, 0.28196972608566284, 0.03322301805019379, 0.005963106174021959, 0.0025556168984621763, 0.03151927515864372, 0.05810357257723808, 0.03320204094052315, 0.008300510235130787, 0.8798540830612183, 0.008300510235130787, 0.025407543405890465, 0.07622262835502625, 0.012703771702945232, 0.012703771702945232, 0.012703771702945232, 0.8765602111816406, 0.9202621579170227, 0.018353980034589767, 0.12847787141799927, 0.8259291648864746, 0.9320833683013916, 0.08154301345348358, 0.896973192691803, 0.9345507025718689, 0.29925844073295593, 0.03325093910098076, 0.08312734961509705, 0.5486404895782471, 0.03325093910098076, 0.9436213374137878, 0.031257789582014084, 0.011366468854248524, 0.1875467300415039, 0.24437907338142395, 0.2955281734466553, 0.017049701884388924, 0.045465875416994095, 0.1648137867450714, 0.039730485528707504, 0.019865242764353752, 0.9336664080619812, 0.4716302752494812, 0.07255849987268448, 0.43535101413726807, 0.13823379576206207, 0.8294028043746948, 0.026425745338201523, 0.9249010682106018, 0.967274010181427, 0.6723271012306213, 0.8988355398178101, 0.8322878479957581, 0.9124993085861206, 0.9290232062339783, 0.31691110134124756, 0.6536291837692261, 0.9480281472206116, 0.9706571698188782, 0.9137289524078369, 0.9573796391487122, 0.147783100605011, 0.812807023525238, 0.9363111257553101, 0.8806580305099487, 0.3029927611351013, 0.16859130561351776, 0.02475816383957863, 0.1532648205757141, 0.03301088511943817, 0.011789601296186447, 0.20631803572177887, 0.06012696772813797, 0.0011789601994678378, 0.036547765135765076, 0.0011789601994678378, 0.9555743932723999, 0.3075520098209381, 0.051258668303489685, 0.6151040196418762, 0.9753963947296143, 0.15127040445804596, 0.08416656404733658, 0.06581337749958038, 0.3988950550556183, 0.08187241852283478, 0.11929571628570557, 0.008746440522372723, 0.017349496483802795, 0.03484237939119339, 0.0011470741592347622, 0.014338427223265171, 0.022224562242627144, 0.8648940920829773, 0.021758342161774635, 0.054395854473114014, 0.03807709738612175, 0.010879171080887318, 0.010879171080887318, 0.044841405004262924, 0.8968281149864197, 0.9675471186637878, 0.013627423904836178, 0.770322859287262, 0.912648618221283, 0.8493543863296509, 0.011400729417800903, 0.011400729417800903, 0.03990255296230316, 0.005700364708900452, 0.05700364708900452, 0.022801458835601807, 0.04657502844929695, 0.08538755029439926, 0.8538755178451538, 0.007762504275888205, 0.961205005645752, 0.9086275696754456, 0.9703283905982971, 0.06919076293706894, 0.017297690734267235, 0.03459538146853447, 0.8475868105888367, 0.017297690734267235, 0.8534864187240601, 0.019678717479109764, 0.10331326723098755, 0.10823294520378113, 0.03935743495821953, 0.004919679369777441, 0.004919679369777441, 0.7182732224464417, 0.012788715772330761, 0.7673229575157166, 0.025577431544661522, 0.07673230022192001, 0.025577431544661522, 0.07673230022192001, 0.034571316093206406, 0.9161398410797119, 0.017285658046603203, 0.9280725121498108, 0.10224274545907974, 0.7714679837226868, 0.027884384617209435, 0.05576876923441887, 0.027884384617209435, 0.009294794872403145, 0.9246889352798462, 0.876356303691864, 0.2092375010251999, 0.03607543185353279, 0.11544138193130493, 0.12265646457672119, 0.45455044507980347, 0.021645259112119675, 0.028860345482826233, 0.007215086370706558, 0.007215086370706558, 0.910606861114502, 0.9198046922683716, 0.8127006888389587, 0.06520331650972366, 0.03822263330221176, 0.004496780224144459, 0.7206090688705444, 0.003372585168108344, 0.013490340672433376, 0.012366145849227905, 0.010117755271494389, 0.0022483901120722294, 0.06295492500066757, 0.06632751226425171, 0.10403603315353394, 0.06242161989212036, 0.020807206630706787, 0.8114810585975647, 0.8071860074996948, 0.05469590425491333, 0.6827557682991028, 0.023890165612101555, 0.004400820005685091, 0.04778033122420311, 0.01948934607207775, 0.025147542357444763, 0.030177051201462746, 0.043379511684179306, 0.011945082806050777, 0.005658197216689587, 0.051552463322877884, 0.8627603054046631, 0.04025135189294815, 0.9257811307907104, 0.04459143429994583, 0.9364201426506042, 0.243851438164711, 0.14117714762687683, 0.46203431487083435, 0.01925143040716648, 0.0032085715793073177, 0.10588286072015762, 0.0064171431586146355, 0.016042858362197876, 0.015336951240897179, 0.013013170100748539, 0.08319134265184402, 0.0023237804416567087, 0.02184353582561016, 0.0018590243998914957, 0.784043550491333, 0.0018590243998914957, 0.016266463324427605, 0.0027885364834219217, 0.055305976420640945, 0.0018590243998914957, 0.9790774583816528, 0.9349170327186584, 0.01350982952862978, 0.2431769222021103, 0.04728440195322037, 0.08105897903442383, 0.5133734941482544, 0.01350982952862978, 0.08105897903442383, 0.6586098670959473, 0.012885845266282558, 0.027203451842069626, 0.005011162254959345, 0.03364637494087219, 0.03794165700674057, 0.028635211288928986, 0.11310908943414688, 0.002863521222025156, 0.006442922633141279, 0.07373566925525665, 0.20630362629890442, 0.12893976271152496, 0.012893976643681526, 0.6446987986564636, 0.9716008901596069, 0.14400643110275269, 0.01393610704690218, 0.00929073803126812, 0.00929073803126812, 0.00929073803126812, 0.00464536901563406, 0.7897127270698547, 0.023226844146847725, 0.07571689784526825, 0.0232975073158741, 0.005824376828968525, 0.6639789938926697, 0.020385319367051125, 0.0029121884144842625, 0.055331580340862274, 0.005824376828968525, 0.0931900292634964, 0.05241939425468445, 0.18468564748764038, 0.2872887849807739, 0.5130156874656677, 0.9703435897827148, 0.9554698467254639, 0.017693886533379555, 0.017693886533379555, 0.9170787334442139, 0.07059671729803085, 0.658902645111084, 0.23532238602638245, 0.9466765522956848, 0.01584414765238762, 0.09506489336490631, 0.03168829530477524, 0.8397398591041565, 0.01432423759251833, 0.01432423759251833, 0.01432423759251833, 0.9453996419906616, 0.00876530446112156, 0.5697448253631592, 0.31555095314979553, 0.07888773828744888, 0.00876530446112156, 0.01753060892224312, 0.934863805770874, 0.018665103241801262, 0.25664517283439636, 0.013998826965689659, 0.7046076655387878, 0.95191890001297, 0.5473648309707642, 0.38637515902519226, 0.03219792991876602, 0.01609896495938301, 0.8306486010551453, 0.04634460061788559, 0.13903379440307617, 0.20082660019397736, 0.20082660019397736, 0.3862050175666809, 0.05679949000477791, 0.7383933663368225, 0.17039847373962402, 0.789421796798706, 0.17542706429958344, 0.04119819775223732, 0.9269593954086304, 0.061650995165109634, 0.22091606259346008, 0.015412748791277409, 0.05137582868337631, 0.6267850995063782, 0.005137582775205374, 0.010275165550410748, 0.005137582775205374, 0.9505192637443542, 0.06038493663072586, 0.18115481734275818, 0.754811704158783, 0.9611117839813232, 0.9700798392295837, 0.9620060920715332, 0.6830775737762451, 0.21113306283950806, 0.08693714439868927, 0.012419591657817364, 0.8452664613723755, 0.9372696280479431, 0.03124232031404972, 0.20173409581184387, 0.7396917343139648, 0.028479428961873055, 0.9398211240768433, 0.12921765446662903, 0.01206031534820795, 0.058578673750162125, 0.015506119467318058, 0.013783217407763004, 0.053409967571496964, 0.020674826577305794, 0.44450876116752625, 0.03273513913154602, 0.01206031534820795, 0.18435053527355194, 0.022397728636860847, 0.9319465160369873, 0.9421830177307129, 0.9455620050430298, 0.01500891987234354, 0.01500891987234354, 0.01500891987234354, 0.9544202089309692, 0.02892182394862175, 0.09323160350322723, 0.8390843868255615, 0.22272194921970367, 0.023444416001439095, 0.005861104000359774, 0.005861104000359774, 0.005861104000359774, 0.035166624933481216, 0.6974713802337646, 0.0769633874297142, 0.8465972542762756, 0.9408836364746094, 0.03848341479897499, 0.194341242313385, 0.3771374523639679, 0.001924170763231814, 0.05772512033581734, 0.02886256016790867, 0.13854029774665833, 0.001924170763231814, 0.12122275680303574, 0.011545023880898952, 0.02501421980559826, 0.003848341526463628, 0.07502835243940353, 0.05359167978167534, 0.8574668765068054, 0.02401803620159626, 0.16812625527381897, 0.7925952076911926, 0.9309740662574768, 0.8888934850692749, 0.27922379970550537, 0.03722983971238136, 0.11168952286243439, 0.03722983971238136, 0.5212177634239197, 0.938335657119751, 0.06708190590143204, 0.028749389573931694, 0.06708190590143204, 0.009583129547536373, 0.019166259095072746, 0.11499755829572678, 0.009583129547536373, 0.10541442781686783, 0.45040708780288696, 0.13416381180286407, 0.009607428684830666, 0.9607428908348083, 0.009607428684830666, 0.009607428684830666, 0.01024884358048439, 0.0034162811934947968, 0.0068325623869895935, 0.0034162811934947968, 0.4919445216655731, 0.1024884358048439, 0.36895838379859924, 0.013665124773979187, 0.10123047232627869, 0.02530761808156967, 0.8351513743400574, 0.9116899967193604, 0.06077933311462402, 0.7762457132339478, 0.009670953266322613, 0.009670953266322613, 0.058025721460580826, 0.019341906532645226, 0.009670953266322613, 0.009670953266322613, 0.8703858256340027, 0.009670953266322613, 0.08730661869049072, 0.8730661869049072, 0.04153779521584511, 0.9138314723968506, 0.007328770589083433, 0.036643851548433304, 0.007328770589083433, 0.864794909954071, 0.06595893949270248, 0.8881059885025024, 0.8644125461578369, 0.9080330729484558, 0.3261753022670746, 0.054362550377845764, 0.054362550377845764, 0.008583560585975647, 0.2117278277873993, 0.06866848468780518, 0.020028308033943176, 0.21745020151138306, 0.020028308033943176, 0.005722373723983765, 0.014305934309959412, 0.7303754091262817, 0.1425122767686844, 0.10688420385122299, 0.7946261167526245, 0.4338817596435547, 0.015495777130126953, 0.3223121762275696, 0.03409070894122124, 0.0712805762887001, 0.009297466836869717, 0.030991554260253906, 0.06508226692676544, 0.009297466836869717, 0.003099155379459262, 0.006198310758918524, 0.22104023396968842, 0.7613608241081238, 0.2873634397983551, 0.0027367945294827223, 0.03557832911610603, 0.016420766711235046, 0.07115665823221207, 0.17515484988689423, 0.20252279937267303, 0.03284153342247009, 0.008210383355617523, 0.1395765244960785, 0.0301047395914793, 0.22635699808597565, 0.4810086190700531, 0.01886308379471302, 0.19806237518787384, 0.05658924952149391, 0.00943154189735651, 0.31170666217803955, 0.007421587128192186, 0.022264761850237846, 0.14101016521453857, 0.18182888627052307, 0.011132380925118923, 0.23377999663352966, 0.037107937037944794, 0.05195111036300659, 0.19299401342868805, 0.7719760537147522, 0.05455343797802925, 0.872855007648468, 0.9330472350120544, 0.9646492600440979, 0.16139881312847137, 0.2582381069660187, 0.012911904603242874, 0.1549428552389145, 0.4067249894142151, 0.9499504566192627, 0.9451990127563477, 0.7910902500152588, 0.043262749910354614, 0.006180392578244209, 0.08652549982070923, 0.05562353506684303, 0.012360785156488419, 0.018464649096131325, 0.018464649096131325, 0.9416970610618591, 0.971459150314331, 0.8751015663146973, 0.9259307384490967, 0.06334375590085983, 0.9290417432785034, 0.02010190673172474, 0.9548405408859253, 0.01005095336586237, 0.00890214554965496, 0.9836871027946472, 0.7401683330535889, 0.07165828347206116, 0.13734503090381622, 0.011943046934902668, 0.6568675637245178, 0.07165828347206116, 0.011943046934902668, 0.03582914173603058, 0.851015567779541, 0.02651669830083847, 0.015910020098090172, 0.005303339567035437, 0.031820040196180344, 0.010606679134070873, 0.005303339567035437, 0.015910020098090172, 0.8750510811805725, 0.010606679134070873, 0.912102222442627, 0.9427776336669922, 0.9297273755073547, 0.7897859215736389, 0.07633816450834274, 0.6717758178710938, 0.24428212642669678, 0.9359533786773682, 0.9733788371086121, 0.9422850012779236, 0.03365303575992584, 0.008520770817995071, 0.008520770817995071, 0.034083083271980286, 0.008520770817995071, 0.04260385408997536, 0.894680917263031, 0.9493248462677002, 0.39907345175743103, 0.03210935741662979, 0.0366964116692543, 0.11926333606243134, 0.0688057690858841, 0.1055021807551384, 0.1055021807551384, 0.055044613778591156, 0.05963166803121567, 0.004587051458656788, 0.013761153444647789, 0.10437122732400894, 0.8349698185920715, 0.9527313113212585, 0.39309874176979065, 0.01917554810643196, 0.01917554810643196, 0.03835109621286392, 0.20134326815605164, 0.00958777405321598, 0.316396564245224, 0.1125984713435173, 0.20370087027549744, 0.18629929423332214, 0.0020472449250519276, 0.10133862495422363, 0.0992913767695427, 0.0153543371707201, 0.012283469550311565, 0.2456693947315216, 0.01740158163011074, 0.0020472449250519276, 0.0020472449250519276, 0.9713206887245178, 0.9538450837135315, 0.727077066898346, 0.018643001094460487, 0.037286002188920975, 0.027964502573013306, 0.09321501106023788, 0.08389350771903992, 0.7207388877868652, 0.9786597490310669, 0.916012167930603, 0.8778430223464966, 0.18795421719551086, 0.4088004231452942, 0.05168741196393967, 0.009397710673511028, 0.01409656647592783, 0.06578397750854492, 0.03289198875427246, 0.018795421347022057, 0.15036337077617645, 0.05638626590371132, 0.004698855336755514, 0.01642097905278206, 0.049262937158346176, 0.42694544792175293, 0.5090503692626953, 0.13704468309879303, 0.01054189819842577, 0.15812848508358002, 0.10541898757219315, 0.5481787323951721, 0.02108379639685154, 0.01054189819842577, 0.9293015599250793, 0.39598602056503296, 0.06719762831926346, 0.1487947553396225, 0.014399492181837559, 0.057597968727350235, 0.014399492181837559, 0.09599661082029343, 0.04559839144349098, 0.10559627413749695, 0.009599661454558372, 0.04079855978488922, 0.13765771687030792, 0.1909445822238922, 0.07548972219228745, 0.062168002128601074, 0.3463645875453949, 0.0044405716471374035, 0.0488462895154953, 0.0044405716471374035, 0.12433600425720215, 0.961454451084137, 0.13851960003376007, 0.027028214186429977, 0.1114913821220398, 0.09797727316617966, 0.006757053546607494, 0.32433855533599854, 0.033785268664360046, 0.05067790299654007, 0.12162696570158005, 0.06419201195240021, 0.013514107093214989, 0.010135579854249954, 0.27089425921440125, 0.02196439914405346, 0.2050010710954666, 0.3807162642478943, 0.029285866767168045, 0.07321466505527496, 0.007321466691792011, 0.007321466691792011, 0.9623757004737854, 0.031044377014040947, 0.014018862508237362, 0.009345908649265766, 0.009345908649265766, 0.023364771157503128, 0.9345908164978027, 0.004672954324632883, 0.004672954324632883, 0.834708034992218, 0.09750966727733612, 0.021668815985322, 0.021668815985322, 0.05417203903198242, 0.6392300724983215, 0.14084729552268982, 0.5726210474967957, 0.03368359059095383, 0.029473142698407173, 0.03789404034614563, 0.004210448823869228, 0.04210449010133743, 0.2652582824230194, 0.012631346471607685, 0.9138113856315613, 0.9161903262138367, 0.8998532295227051, 0.16213570535182953, 0.030400443822145462, 0.608008861541748, 0.17226918041706085, 0.02026696316897869, 0.02026696316897869, 0.09315567463636398, 0.006653976626694202, 0.3859306275844574, 0.02661590650677681, 0.013307953253388405, 0.479086309671402, 0.03992685675621033, 0.009981714189052582, 0.1097988486289978, 0.7586102485656738, 0.009981714189052582, 0.05989028140902519, 0.9236243963241577, 0.047877613455057144, 0.9096746444702148, 0.04408222436904907, 0.07347037643194199, 0.014694075100123882, 0.8669503927230835, 0.9199346303939819, 0.0038071367889642715, 0.0532999150454998, 0.019035683944821358, 0.015228547155857086, 0.8604128956794739, 0.038071367889642715, 0.007614273577928543, 0.9459457993507385, 0.1673256903886795, 0.13943807780742645, 0.0278876144438982, 0.08366284519433975, 0.08366284519433975, 0.19521330296993256, 0.29281994700431824, 0.5658628344535828, 0.41915765404701233, 0.9176223278045654, 0.9227889180183411, 0.02303009107708931, 0.09212036430835724, 0.09212036430835724, 0.7830231189727783, 0.8418239951133728, 0.012948531657457352, 0.6474265456199646, 0.16833090782165527, 0.06474265456199646, 0.09063971787691116, 0.9777314066886902, 0.29352879524230957, 0.675116240978241, 0.09960358589887619, 0.03794422373175621, 0.12806175649166107, 0.2798386514186859, 0.25612351298332214, 0.009486055932939053, 0.028458166867494583, 0.06165936216711998, 0.09486055374145508, 0.030215607956051826, 0.9366838335990906, 0.06672394275665283, 0.9341351985931396, 0.1049002930521965, 0.07629112154245377, 0.00953639019280672, 0.00953639019280672, 0.6389381289482117, 0.00953639019280672, 0.14304585754871368, 0.9492318034172058, 0.8948071002960205, 0.9589858651161194, 0.022832997143268585, 0.10334202647209167, 0.6495784521102905, 0.16239461302757263, 0.05905258655548096, 0.01476314663887024, 0.782617449760437, 0.9649532437324524, 0.9754021763801575], \"Term\": [\"aap\", \"access\", \"accessory\", \"accessory\", \"ad\", \"adapter\", \"airtel\", \"airtel\", \"alarm\", \"amazon\", \"amazon\", \"amazon\", \"amazon\", \"amazon\", \"amazon\", \"amazon\", \"amazon\", \"amazon\", \"amazon\", \"amazon\", \"amazon\", \"amazone\", \"android\", \"android\", \"android\", \"android\", \"android\", \"android\", \"android\", \"android\", \"android\", \"app\", \"app\", \"app\", \"app\", \"app\", \"app\", \"app\", \"app\", \"app\", \"app\", \"app\", \"app\", \"application\", \"application\", \"application\", \"application\", \"application\", \"application\", \"application\", \"application\", \"application\", \"apps\", \"apps\", \"apps\", \"apps\", \"apps\", \"apps\", \"apps\", \"apps\", \"apps\", \"apps\", \"assistant\", \"atmos\", \"atmos\", \"atmos\", \"atmos\", \"atmos\", \"atom\", \"aug\", \"aur\", \"auto\", \"auto\", \"auto\", \"auto\", \"average\", \"average\", \"average\", \"average\", \"average\", \"average\", \"awesome\", \"awesome\", \"awesome\", \"awsome\", \"backup\", \"backup\", \"backup\", \"backup\", \"backup\", \"backup\", \"backup\", \"backup\", \"backup\", \"backup\", \"backup\", \"bada\", \"bahut\", \"bakwas\", \"bakwas\", \"balance\", \"band\", \"bar\", \"batery\", \"batter\", \"battery\", \"battery\", \"battery\", \"battery\", \"battery\", \"battery\", \"battery\", \"battery\", \"battery\", \"battery\", \"battery\", \"battery\", \"battry\", \"beast\", \"beast\", \"bed\", \"bekar\", \"bettery\", \"bettery\", \"bettry\", \"bhai\", \"bhi\", \"bhi\", \"bhut\", \"bill\", \"bit\", \"bit\", \"bit\", \"bit\", \"bit\", \"bit\", \"bluetooth\", \"bluetooth\", \"bluetooth\", \"blur\", \"board\", \"bokeh\", \"bokeh\", \"book\", \"box\", \"box\", \"box\", \"box\", \"box\", \"box\", \"box\", \"break\", \"browsing\", \"browsing\", \"browsing\", \"browsing\", \"budget\", \"budget\", \"budget\", \"budget\", \"budget\", \"budget\", \"budget\", \"budget\", \"budget\", \"bug\", \"bug\", \"bug\", \"bug\", \"bug\", \"bug\", \"build\", \"button\", \"button\", \"button\", \"button\", \"button\", \"button\", \"button\", \"button\", \"buy\", \"buy\", \"buy\", \"buy\", \"buy\", \"buy\", \"buy\", \"buy\", \"buying\", \"buying\", \"buying\", \"buying\", \"c\", \"call\", \"call\", \"call\", \"call\", \"call\", \"call\", \"call\", \"call\", \"call\", \"call\", \"call\", \"call\", \"caller\", \"camara\", \"camera\", \"camera\", \"camera\", \"camera\", \"camera\", \"camera\", \"camera\", \"camera\", \"camera\", \"camera\", \"camera\", \"camra\", \"capacity\", \"capacity\", \"capacity\", \"capture\", \"car\", \"card\", \"card\", \"card\", \"card\", \"card\", \"card\", \"card\", \"card\", \"card\", \"card\", \"care\", \"care\", \"care\", \"care\", \"care\", \"care\", \"care\", \"cash\", \"cast\", \"cast\", \"cast\", \"cast\", \"cast\", \"cast\", \"casting\", \"category\", \"cell\", \"cell\", \"cell\", \"cell\", \"center\", \"center\", \"center\", \"center\", \"center\", \"center\", \"center\", \"centre\", \"centre\", \"centre\", \"centre\", \"centre\", \"centre\", \"charge\", \"charge\", \"charge\", \"charge\", \"charge\", \"charge\", \"charge\", \"charge\", \"charge\", \"charge\", \"charger\", \"charger\", \"charger\", \"charger\", \"charger\", \"charger\", \"charger\", \"charger\", \"charger\", \"charging\", \"charging\", \"charging\", \"charging\", \"charging\", \"charging\", \"charging\", \"charging\", \"charging\", \"charging\", \"charging\", \"cheater\", \"china\", \"choice\", \"choice\", \"choice\", \"choice\", \"choice\", \"chromecast\", \"claim\", \"claim\", \"clarity\", \"clarity\", \"clarity\", \"clarity\", \"clarity\", \"clarity\", \"clarity\", \"clarity\", \"class\", \"class\", \"class\", \"class\", \"clearity\", \"color\", \"color\", \"color\", \"colour\", \"colour\", \"comapre\", \"combination\", \"comment\", \"company\", \"company\", \"company\", \"company\", \"company\", \"company\", \"company\", \"compare\", \"compare\", \"compare\", \"compare\", \"compare\", \"compare\", \"compare\", \"comparison\", \"competition\", \"complain\", \"complaint\", \"complaint\", \"complaint\", \"complaint\", \"concern\", \"condition\", \"condition\", \"condition\", \"condition\", \"configuration\", \"configuration\", \"configuration\", \"configuration\", \"configuration\", \"configuration\", \"configuration\", \"connection\", \"connection\", \"connection\", \"connection\", \"connection\", \"connectivity\", \"connectivity\", \"connectivity\", \"connects\", \"contact\", \"contact\", \"contact\", \"contact\", \"contact\", \"contact\", \"control\", \"cool\", \"copy\", \"core\", \"core\", \"core\", \"core\", \"core\", \"corner\", \"cost\", \"cost\", \"cost\", \"cost\", \"cost\", \"cover\", \"cover\", \"cover\", \"cover\", \"cpu\", \"crack\", \"customer\", \"customer\", \"customer\", \"customer\", \"customer\", \"customer\", \"customer\", \"customer\", \"customer\", \"customer\", \"customer\", \"dad\", \"data\", \"data\", \"data\", \"data\", \"data\", \"data\", \"data\", \"data\", \"date\", \"date\", \"date\", \"date\", \"date\", \"date\", \"date\", \"day\", \"day\", \"day\", \"day\", \"day\", \"day\", \"day\", \"day\", \"day\", \"day\", \"day\", \"day\", \"deal\", \"deal\", \"deal\", \"deal\", \"deal\", \"deca\", \"deca\", \"decacore\", \"decision\", \"defect\", \"defect\", \"defect\", \"defect\", \"degree\", \"delivery\", \"delivery\", \"delivery\", \"delivery\", \"delivery\", \"delivery\", \"delivery\", \"delivery\", \"department\", \"depth\", \"depth\", \"depth\", \"depth\", \"depth\", \"depth\", \"depth\", \"depth\", \"description\", \"description\", \"description\", \"design\", \"design\", \"design\", \"design\", \"detail\", \"detail\", \"device\", \"device\", \"device\", \"device\", \"device\", \"device\", \"device\", \"device\", \"device\", \"device\", \"device\", \"device\", \"disadvantage\", \"disadvantage\", \"disappointment\", \"disappointment\", \"disappointment\", \"disappointment\", \"discharge\", \"discharge\", \"discount\", \"display\", \"display\", \"display\", \"display\", \"display\", \"display\", \"display\", \"display\", \"divice\", \"diya\", \"doesnt\", \"doesnt\", \"dolby\", \"dolby\", \"dolby\", \"dolby\", \"dolby\", \"dolby\", \"dolby\", \"dolby\", \"dot\", \"download\", \"drain\", \"drain\", \"drain\", \"drain\", \"drain\", \"drain\", \"drain\", \"drain\", \"drainage\", \"drainage\", \"draining\", \"draining\", \"driver\", \"drop\", \"drop\", \"dust\", \"ear\", \"ear\", \"earphone\", \"earphone\", \"earphone\", \"earphone\", \"earphone\", \"earphone\", \"earphone\", \"earphone\", \"effect\", \"effect\", \"effect\", \"effect\", \"effect\", \"effect\", \"effect\", \"effect\", \"effort\", \"error\", \"error\", \"everything\", \"everything\", \"everything\", \"everything\", \"everything\", \"everything\", \"everything\", \"everything\", \"everytime\", \"example\", \"excellent\", \"excellent\", \"excellent\", \"executive\", \"expectation\", \"expectation\", \"expectation\", \"expectation\", \"expectation\", \"expectation\", \"experience\", \"experience\", \"experience\", \"experience\", \"experience\", \"experience\", \"experience\", \"experience\", \"experience\", \"experience\", \"experience\", \"face\", \"face\", \"facebook\", \"facility\", \"fact\", \"factory\", \"fake\", \"fall\", \"fall\", \"faltu\", \"fast\", \"fast\", \"fast\", \"fast\", \"faster\", \"faulty\", \"faulty\", \"feature\", \"feature\", \"feature\", \"feature\", \"feature\", \"feature\", \"feature\", \"feature\", \"feature\", \"feature\", \"feature\", \"feature\", \"feel\", \"feel\", \"feel\", \"feel\", \"feel\", \"feel\", \"fine\", \"fine\", \"finger\", \"finger\", \"finger\", \"finger\", \"fix\", \"fix\", \"flash\", \"flash\", \"flash\", \"flash\", \"flash\", \"flash\", \"flashlight\", \"flipkart\", \"flipkart\", \"fone\", \"fone\", \"form\", \"front\", \"front\", \"front\", \"front\", \"function\", \"function\", \"function\", \"function\", \"function\", \"function\", \"functionality\", \"functioning\", \"future\", \"g\", \"game\", \"game\", \"game\", \"game\", \"game\", \"game\", \"game\", \"game\", \"gamer\", \"gamer\", \"gaming\", \"gaming\", \"gaya\", \"gb\", \"gb\", \"gb\", \"gb\", \"generation\", \"gift\", \"gift\", \"glass\", \"glass\", \"glass\", \"glass\", \"glass\", \"glass\", \"glass\", \"go\", \"gold\", \"good\", \"good\", \"good\", \"good\", \"goog\", \"gorilla\", \"gorilla\", \"gorilla\", \"gorilla\", \"gorilla\", \"gorilla\", \"gps\", \"graphic\", \"graphic\", \"grip\", \"group\", \"gud\", \"gud\", \"h\", \"h\", \"hai\", \"hai\", \"hai\", \"half\", \"half\", \"handset\", \"handset\", \"handset\", \"handset\", \"handset\", \"handset\", \"handset\", \"handset\", \"handset\", \"handset\", \"hang\", \"hang\", \"hang\", \"hang\", \"hang\", \"hang\", \"hanging\", \"hanging\", \"hardware\", \"hardware\", \"hardware\", \"hardware\", \"hardware\", \"hardware\", \"hardware\", \"hate\", \"hd\", \"hd\", \"head\", \"head\", \"headphone\", \"headphone\", \"headphone\", \"headphone\", \"headphone\", \"headset\", \"headset\", \"headset\", \"heat\", \"heat\", \"heat\", \"heat\", \"heat\", \"heat\", \"heat\", \"heat\", \"heating\", \"heating\", \"heating\", \"heating\", \"heating\", \"heating\", \"heating\", \"heating\", \"heating\", \"heating\", \"heatup\", \"helio\", \"helio\", \"hence\", \"hence\", \"hence\", \"hi\", \"hi\", \"hi\", \"hi\", \"hi\", \"history\", \"ho\", \"ho\", \"hone\", \"hota\", \"hota\", \"hour\", \"hour\", \"hour\", \"hour\", \"hour\", \"hour\", \"hour\", \"hour\", \"hour\", \"hour\", \"hour\", \"hour\", \"hr\", \"hr\", \"hr\", \"hr\", \"hr\", \"hr\", \"hr\", \"hr\", \"hr\", \"hr\", \"htc\", \"hu\", \"hv\", \"hype\", \"iam\", \"icon\", \"id\", \"idea\", \"idea\", \"idea\", \"image\", \"image\", \"image\", \"image\", \"image\", \"improvement\", \"improvement\", \"increase\", \"india\", \"indicator\", \"information\", \"information\", \"interface\", \"interface\", \"interface\", \"interface\", \"internet\", \"internet\", \"internet\", \"internet\", \"internet\", \"internet\", \"internet\", \"internet\", \"internet\", \"invoice\", \"invoice\", \"invoice\", \"iron\", \"isme\", \"issue\", \"issue\", \"issue\", \"issue\", \"issue\", \"issue\", \"issue\", \"issue\", \"issue\", \"issue\", \"issue\", \"issue\", \"item\", \"item\", \"item\", \"item\", \"item\", \"item\", \"item\", \"jack\", \"jack\", \"jack\", \"jack\", \"jack\", \"jack\", \"jata\", \"jio\", \"jio\", \"jio\", \"job\", \"jyada\", \"kar\", \"kept\", \"key\", \"key\", \"key\", \"key\", \"kharab\", \"ki\", \"killer\", \"killer\", \"killer\", \"killer\", \"kiya\", \"ko\", \"ko\", \"koi\", \"lack\", \"lag\", \"lag\", \"lag\", \"lag\", \"lag\", \"lag\", \"lag\", \"lasting\", \"launch\", \"lena\", \"lenevo\", \"lenova\", \"lenovo\", \"lenovo\", \"lenovo\", \"lenovo\", \"lenovo\", \"lenovo\", \"lenovo\", \"lenovo\", \"lenovo\", \"lenovo\", \"lenovo\", \"lenovo\", \"leta\", \"life\", \"life\", \"life\", \"life\", \"life\", \"life\", \"life\", \"life\", \"life\", \"life\", \"life\", \"limit\", \"list\", \"list\", \"list\", \"location\", \"lock\", \"lock\", \"lock\", \"lock\", \"look\", \"look\", \"look\", \"look\", \"look\", \"look\", \"look\", \"look\", \"look\", \"look\", \"loss\", \"lot\", \"lot\", \"lot\", \"lot\", \"lot\", \"lot\", \"lot\", \"lot\", \"lot\", \"lot\", \"lot\", \"lover\", \"lover\", \"lover\", \"lte\", \"mah\", \"mah\", \"mah\", \"mah\", \"mah\", \"mah\", \"mah\", \"mah\", \"mail\", \"mail\", \"mail\", \"management\", \"management\", \"management\", \"management\", \"management\", \"manager\", \"manner\", \"manner\", \"manufacturer\", \"manufacturing\", \"mark\", \"mark\", \"mark\", \"mark\", \"mark\", \"mark\", \"mark\", \"market\", \"market\", \"mast\", \"mean\", \"memory\", \"memory\", \"memory\", \"memory\", \"memory\", \"memory\", \"memory\", \"menu\", \"mera\", \"mera\", \"message\", \"message\", \"messenger\", \"mi\", \"mi\", \"mi\", \"mi\", \"mi\", \"mi\", \"mic\", \"micromax\", \"microphone\", \"mila\", \"min\", \"min\", \"min\", \"min\", \"min\", \"min\", \"mind\", \"minus\", \"minute\", \"minute\", \"minute\", \"minute\", \"minute\", \"minute\", \"miracast\", \"mob\", \"mob\", \"mobail\", \"mobil\", \"mobile\", \"mobile\", \"mobile\", \"mobile\", \"mobile\", \"mobile\", \"mobile\", \"mobile\", \"mobile\", \"mobile\", \"mobile\", \"mobile\", \"mode\", \"mode\", \"mode\", \"mode\", \"mode\", \"mode\", \"mode\", \"mode\", \"model\", \"model\", \"model\", \"model\", \"model\", \"model\", \"model\", \"moment\", \"money\", \"money\", \"money\", \"money\", \"money\", \"money\", \"money\", \"money\", \"money\", \"money\", \"money\", \"money\", \"month\", \"month\", \"month\", \"month\", \"month\", \"month\", \"month\", \"month\", \"month\", \"month\", \"month\", \"morning\", \"morning\", \"morning\", \"morning\", \"moto\", \"moto\", \"moto\", \"moto\", \"moto\", \"moto\", \"moto\", \"motorola\", \"movie\", \"mp\", \"mp\", \"multi\", \"multi\", \"multimedia\", \"music\", \"music\", \"music\", \"music\", \"music\", \"music\", \"music\", \"music\", \"music\", \"music\", \"music\", \"myth\", \"nahi\", \"nahi\", \"name\", \"name\", \"name\", \"name\", \"name\", \"nano\", \"navigation\", \"need\", \"need\", \"need\", \"need\", \"need\", \"need\", \"need\", \"need\", \"net\", \"net\", \"network\", \"network\", \"network\", \"network\", \"network\", \"network\", \"network\", \"network\", \"network\", \"network\", \"network\", \"news\", \"nhi\", \"nhi\", \"nice\", \"note\", \"note\", \"note\", \"note\", \"note\", \"note\", \"note\", \"note\", \"note\", \"note\", \"note\", \"note\", \"notification\", \"notification\", \"notification\", \"notification\", \"notification\", \"number\", \"number\", \"number\", \"number\", \"number\", \"number\", \"oct\", \"offer\", \"offer\", \"offer\", \"office\", \"ok\", \"ok\", \"okay\", \"one\", \"one\", \"one\", \"one\", \"one\", \"optimization\", \"option\", \"option\", \"option\", \"option\", \"option\", \"option\", \"option\", \"option\", \"order\", \"order\", \"order\", \"oreo\", \"oreo\", \"oreo\", \"others\", \"others\", \"package\", \"package\", \"packing\", \"packup\", \"pad\", \"page\", \"paisa\", \"panel\", \"party\", \"party\", \"patch\", \"pc\", \"penny\", \"percent\", \"percentage\", \"percentage\", \"perfect\", \"perfomance\", \"performance\", \"performance\", \"performance\", \"performance\", \"performance\", \"performance\", \"performance\", \"performance\", \"performance\", \"performance\", \"performance\", \"ph\", \"phn\", \"phn\", \"phn\", \"phon\", \"phone\", \"phone\", \"phone\", \"phone\", \"phone\", \"phone\", \"phone\", \"phone\", \"phone\", \"phone\", \"phone\", \"phone\", \"photo\", \"photo\", \"photo\", \"photo\", \"photo\", \"photo\", \"photography\", \"photography\", \"pic\", \"pic\", \"pice\", \"pick\", \"picture\", \"picture\", \"picture\", \"picture\", \"picture\", \"picture\", \"picture\", \"piece\", \"piece\", \"piece\", \"piece\", \"pin\", \"pixel\", \"place\", \"player\", \"player\", \"player\", \"player\", \"player\", \"playing\", \"please\", \"please\", \"please\", \"please\", \"please\", \"please\", \"please\", \"pls\", \"pls\", \"pls\", \"pls\", \"pls\", \"pls\", \"plz\", \"plz\", \"plz\", \"pm\", \"policy\", \"policy\", \"policy\", \"policy\", \"policy\", \"policy\", \"port\", \"position\", \"power\", \"power\", \"power\", \"power\", \"power\", \"power\", \"power\", \"power\", \"power\", \"powerfull\", \"pr\", \"premium\", \"price\", \"price\", \"price\", \"price\", \"price\", \"price\", \"price\", \"price\", \"price\", \"price\", \"price\", \"print\", \"print\", \"print\", \"print\", \"prob\", \"problem\", \"problem\", \"problem\", \"problem\", \"problem\", \"problem\", \"problem\", \"problem\", \"problem\", \"problem\", \"problem\", \"problem\", \"problembattery\", \"processer\", \"processer\", \"processing\", \"processing\", \"processor\", \"processor\", \"processor\", \"processor\", \"processor\", \"processor\", \"processor\", \"processor\", \"product\", \"product\", \"product\", \"product\", \"product\", \"product\", \"product\", \"product\", \"product\", \"product\", \"product\", \"product\", \"protection\", \"provider\", \"purchase\", \"purchase\", \"purchase\", \"purchase\", \"purchase\", \"purchase\", \"purchase\", \"quality\", \"quality\", \"quality\", \"quality\", \"quality\", \"quality\", \"quality\", \"quality\", \"quality\", \"quality\", \"quality\", \"r\", \"r\", \"r\", \"r\", \"raha\", \"ram\", \"ram\", \"ram\", \"ram\", \"ram\", \"ram\", \"ram\", \"ram\", \"range\", \"range\", \"range\", \"range\", \"range\", \"range\", \"range\", \"range\", \"range\", \"range\", \"rate\", \"rate\", \"rate\", \"reality\", \"rear\", \"rear\", \"rear\", \"reboot\", \"reception\", \"reception\", \"reception\", \"record\", \"recorder\", \"recorder\", \"recorder\", \"recorder\", \"recording\", \"recording\", \"recording\", \"recording\", \"refund\", \"refund\", \"refund\", \"refund\", \"refund\", \"refund\", \"repair\", \"replacement\", \"replacement\", \"replacement\", \"replacement\", \"reset\", \"resolution\", \"resolution\", \"resolution\", \"resolution\", \"respect\", \"response\", \"response\", \"response\", \"response\", \"response\", \"rest\", \"rest\", \"rest\", \"restart\", \"restart\", \"result\", \"result\", \"return\", \"return\", \"return\", \"return\", \"return\", \"return\", \"return\", \"return\", \"right\", \"ringtone\", \"ringtone\", \"ringtone\", \"rock\", \"round\", \"rupee\", \"sale\", \"sale\", \"sale\", \"sale\", \"satisfactory\", \"saver\", \"saver\", \"scanner\", \"scanner\", \"scratch\", \"scratch\", \"screen\", \"screen\", \"screen\", \"screen\", \"screen\", \"screen\", \"screen\", \"screen\", \"screen\", \"screen\", \"screen\", \"screen\", \"second\", \"segment\", \"selfie\", \"selfie\", \"selfie\", \"selfie\", \"seller\", \"seller\", \"sensing\", \"sensing\", \"sensor\", \"sensor\", \"sensor\", \"sensor\", \"sensor\", \"sensor\", \"sensor\", \"september\", \"september\", \"series\", \"service\", \"service\", \"service\", \"service\", \"service\", \"service\", \"service\", \"service\", \"service\", \"service\", \"service\", \"service\", \"set\", \"set\", \"set\", \"setting\", \"setting\", \"setting\", \"setup\", \"sharpness\", \"shot\", \"shot\", \"shot\", \"shot\", \"shot\", \"shutter\", \"side\", \"side\", \"side\", \"side\", \"side\", \"side\", \"side\", \"side\", \"side\", \"side\", \"signal\", \"signal\", \"signal\", \"signal\", \"sim\", \"sim\", \"sim\", \"sim\", \"sim\", \"sim\", \"sim\", \"sim\", \"sir\", \"sir\", \"sir\", \"site\", \"site\", \"slim\", \"slot\", \"slot\", \"slot\", \"slot\", \"slot\", \"slot\", \"slot\", \"slot\", \"sm\", \"sm\", \"smart\", \"smart\", \"smartphone\", \"smartphone\", \"smartphone\", \"smartphone\", \"smartphone\", \"smartphones\", \"snapdragon\", \"socket\", \"software\", \"software\", \"software\", \"software\", \"software\", \"software\", \"software\", \"software\", \"software\", \"software\", \"software\", \"someone\", \"someone\", \"someone\", \"sorry\", \"sound\", \"sound\", \"sound\", \"sound\", \"sound\", \"sound\", \"sound\", \"sound\", \"sound\", \"sound\", \"sound\", \"space\", \"space\", \"speaker\", \"speaker\", \"speaker\", \"speaker\", \"speaker\", \"speaker\", \"speaker\", \"speaker\", \"speaker\", \"speaker\", \"speaker\", \"specification\", \"specification\", \"specification\", \"specification\", \"specification\", \"specification\", \"speed\", \"speed\", \"speed\", \"speed\", \"speed\", \"speed\", \"speed\", \"speed\", \"speed\", \"split\", \"split\", \"stand\", \"stand\", \"standard\", \"standby\", \"star\", \"star\", \"star\", \"star\", \"star\", \"status\", \"step\", \"stock\", \"stock\", \"stock\", \"stock\", \"stock\", \"stock\", \"storage\", \"storage\", \"storage\", \"strength\", \"style\", \"suggest\", \"suggestion\", \"suggestion\", \"super\", \"super\", \"super\", \"superb\", \"superb\", \"superbbb\", \"support\", \"support\", \"support\", \"support\", \"support\", \"support\", \"support\", \"surfing\", \"system\", \"system\", \"system\", \"system\", \"system\", \"system\", \"system\", \"system\", \"system\", \"tag\", \"talk\", \"tap\", \"tasking\", \"team\", \"team\", \"team\", \"technician\", \"tha\", \"thank\", \"thank\", \"thanks\", \"thanks\", \"thanks\", \"thanks\", \"thanks\", \"thanks\", \"thik\", \"thing\", \"thing\", \"thing\", \"thing\", \"thing\", \"thing\", \"thing\", \"thing\", \"thing\", \"thing\", \"thing\", \"think\", \"think\", \"ti\", \"till\", \"till\", \"till\", \"till\", \"till\", \"till\", \"till\", \"time\", \"time\", \"time\", \"time\", \"time\", \"time\", \"time\", \"time\", \"time\", \"time\", \"time\", \"time\", \"toh\", \"tone\", \"touch\", \"touch\", \"touch\", \"touch\", \"touch\", \"touch\", \"trade\", \"tray\", \"trouble\", \"trust\", \"turbo\", \"turbo\", \"turbo\", \"turbo\", \"turbo\", \"turbo\", \"turbo\", \"turbo\", \"turbo\", \"turbo\", \"turbo\", \"tv\", \"tv\", \"tv\", \"tv\", \"u\", \"u\", \"u\", \"u\", \"u\", \"u\", \"u\", \"unlock\", \"update\", \"update\", \"update\", \"update\", \"update\", \"update\", \"update\", \"update\", \"update\", \"update\", \"update\", \"usage\", \"usage\", \"usage\", \"usage\", \"usage\", \"usage\", \"usage\", \"usage\", \"usage\", \"usb\", \"use\", \"use\", \"use\", \"use\", \"use\", \"use\", \"use\", \"use\", \"use\", \"use\", \"use\", \"use\", \"user\", \"user\", \"user\", \"user\", \"user\", \"user\", \"user\", \"user\", \"v\", \"v\", \"value\", \"value\", \"value\", \"value\", \"value\", \"value\", \"value\", \"verry\", \"version\", \"version\", \"version\", \"version\", \"version\", \"version\", \"video\", \"video\", \"video\", \"video\", \"video\", \"video\", \"video\", \"video\", \"view\", \"visit\", \"vodafone\", \"voice\", \"voice\", \"voice\", \"voice\", \"voice\", \"voice\", \"volta\", \"volta\", \"volta\", \"volta\", \"volta\", \"volta\", \"volume\", \"volume\", \"volume\", \"volume\", \"volume\", \"volume\", \"want\", \"warm\", \"warm\", \"warranty\", \"warranty\", \"warranty\", \"warranty\", \"wastage\", \"waste\", \"waste\", \"waste\", \"waste\", \"waste\", \"waste\", \"waste\", \"water\", \"way\", \"way\", \"way\", \"way\", \"way\", \"way\", \"way\", \"weight\", \"weight\", \"west\", \"whats\", \"whatsapp\", \"whatsapp\", \"whatsapp\", \"whatsapp\", \"whereas\", \"wifi\", \"wifi\", \"wifi\", \"wifi\", \"wifi\", \"wise\", \"word\", \"word\", \"work\", \"work\", \"work\", \"work\", \"work\", \"work\", \"work\", \"work\", \"work\", \"working\", \"working\", \"world\", \"world\", \"worth\", \"worth\", \"worth\", \"worth\", \"worth\", \"worth\", \"worth\", \"wrost\", \"xiaomi\", \"ye\", \"ye\", \"year\", \"year\", \"year\", \"year\", \"year\", \"yes\", \"yesterday\", \"zoom\"]}, \"R\": 30, \"lambda.step\": 0.01, \"plot.opts\": {\"xlab\": \"PC1\", \"ylab\": \"PC2\"}, \"topic.order\": [9, 10, 6, 1, 8, 2, 7, 3, 4, 11, 5, 12]};\n",
       "\n",
       "function LDAvis_load_lib(url, callback){\n",
       "  var s = document.createElement('script');\n",
       "  s.src = url;\n",
       "  s.async = true;\n",
       "  s.onreadystatechange = s.onload = callback;\n",
       "  s.onerror = function(){console.warn(\"failed to load library \" + url);};\n",
       "  document.getElementsByTagName(\"head\")[0].appendChild(s);\n",
       "}\n",
       "\n",
       "if(typeof(LDAvis) !== \"undefined\"){\n",
       "   // already loaded: just create the visualization\n",
       "   !function(LDAvis){\n",
       "       new LDAvis(\"#\" + \"ldavis_el1485627893088367449004823085\", ldavis_el1485627893088367449004823085_data);\n",
       "   }(LDAvis);\n",
       "}else if(typeof define === \"function\" && define.amd){\n",
       "   // require.js is available: use it to load d3/LDAvis\n",
       "   require.config({paths: {d3: \"https://cdnjs.cloudflare.com/ajax/libs/d3/3.5.5/d3.min\"}});\n",
       "   require([\"d3\"], function(d3){\n",
       "      window.d3 = d3;\n",
       "      LDAvis_load_lib(\"https://cdn.rawgit.com/bmabey/pyLDAvis/files/ldavis.v1.0.0.js\", function(){\n",
       "        new LDAvis(\"#\" + \"ldavis_el1485627893088367449004823085\", ldavis_el1485627893088367449004823085_data);\n",
       "      });\n",
       "    });\n",
       "}else{\n",
       "    // require.js not available: dynamically load d3 & LDAvis\n",
       "    LDAvis_load_lib(\"https://cdnjs.cloudflare.com/ajax/libs/d3/3.5.5/d3.min.js\", function(){\n",
       "         LDAvis_load_lib(\"https://cdn.rawgit.com/bmabey/pyLDAvis/files/ldavis.v1.0.0.js\", function(){\n",
       "                 new LDAvis(\"#\" + \"ldavis_el1485627893088367449004823085\", ldavis_el1485627893088367449004823085_data);\n",
       "            })\n",
       "         });\n",
       "}\n",
       "</script>"
      ],
      "text/plain": [
       "PreparedData(topic_coordinates=              x         y  topics  cluster       Freq\n",
       "topic                                                \n",
       "8     -0.033391  0.103547       1        1  17.578354\n",
       "9     -0.189607  0.072339       2        1  11.113485\n",
       "5     -0.041214  0.067130       3        1   9.879890\n",
       "0     -0.088082  0.056544       4        1   9.723360\n",
       "7     -0.076643 -0.007183       5        1   9.340488\n",
       "1     -0.095085 -0.015505       6        1   8.475408\n",
       "6      0.167004  0.098671       7        1   7.366282\n",
       "2      0.087270 -0.008064       8        1   6.856510\n",
       "3     -0.069108 -0.032581       9        1   6.247313\n",
       "10     0.201154  0.011558      10        1   4.654374\n",
       "4      0.143622  0.003304      11        1   4.423647\n",
       "11    -0.005919 -0.349759      12        1   4.340886, topic_info=        Term         Freq        Total Category  logprob  loglift\n",
       "11    mobile  1556.000000  1556.000000  Default  30.0000  30.0000\n",
       "47   product  2151.000000  2151.000000  Default  29.0000  29.0000\n",
       "15     phone  6974.000000  6974.000000  Default  28.0000  28.0000\n",
       "55    camera  3213.000000  3213.000000  Default  27.0000  27.0000\n",
       "4    battery  3182.000000  3182.000000  Default  26.0000  26.0000\n",
       "..       ...          ...          ...      ...      ...      ...\n",
       "15     phone   154.836182  6974.265625  Topic12  -3.1141  -0.6705\n",
       "16   problem    81.500031  1590.612671  Topic12  -3.7559   0.1658\n",
       "310  compare    32.583836    77.728729  Topic12  -4.6726   2.2677\n",
       "24      note    37.480560  1173.884888  Topic12  -4.5326  -0.3072\n",
       "177     apps    29.218428   189.386169  Topic12  -4.7817   1.2681\n",
       "\n",
       "[727 rows x 6 columns], token_table=      Topic      Freq       Term\n",
       "term                            \n",
       "1367      8  0.967683        aap\n",
       "1328      1  0.962471     access\n",
       "332       8  0.655486  accessory\n",
       "332      11  0.315604  accessory\n",
       "1151      7  0.952301         ad\n",
       "...     ...       ...        ...\n",
       "26        8  0.059053       year\n",
       "26       12  0.014763       year\n",
       "902       4  0.782617        yes\n",
       "1024      1  0.964953  yesterday\n",
       "1770      1  0.975402       zoom\n",
       "\n",
       "[1945 rows x 3 columns], R=30, lambda_step=0.01, plot_opts={'xlab': 'PC1', 'ylab': 'PC2'}, topic_order=[9, 10, 6, 1, 8, 2, 7, 3, 4, 11, 5, 12])"
      ]
     },
     "execution_count": 17,
     "metadata": {},
     "output_type": "execute_result"
    }
   ],
   "source": [
    "pyLDAvis.enable_notebook()\n",
    "\n",
    "vis = pyLDAvis.gensim.prepare(lda_model, corpus, dictionary)\n",
    "vis"
   ]
  },
  {
   "cell_type": "markdown",
   "metadata": {},
   "source": [
    "#### 8.2 coherence of the model with the c_v metric"
   ]
  },
  {
   "cell_type": "code",
   "execution_count": 18,
   "metadata": {},
   "outputs": [
    {
     "name": "stdout",
     "output_type": "stream",
     "text": [
      "Coherence Score:  0.5350791947861054\n"
     ]
    }
   ],
   "source": [
    "# Compute Coherence Score\n",
    "coherence_model_lda = gensim.models.CoherenceModel(model=lda_model, texts=review_no_sw, dictionary=dictionary, coherence='c_v')\n",
    "\n",
    "coherence_lda = coherence_model_lda.get_coherence()\n",
    "print('Coherence Score: ', coherence_lda)"
   ]
  },
  {
   "cell_type": "markdown",
   "metadata": {},
   "source": [
    "#### 9. Analyze the topics through the business lens - Determine which of the topics can be combined"
   ]
  },
  {
   "cell_type": "markdown",
   "metadata": {},
   "source": [
    "Now since the problem at hand demands identifying the diffrent aspects of the budget smartphone launched in the market, it is imperative that the tokens (words in the customer reviews) like 'phone', 'mobile' etc. or sentimental keys like 'problem', 'issue' may be removed from the topic model. That way topic model focuses on the variety of aspects like 'camera', 'battery'."
   ]
  },
  {
   "cell_type": "code",
   "execution_count": 19,
   "metadata": {},
   "outputs": [
    {
     "name": "stdout",
     "output_type": "stream",
     "text": [
      "[['update', 'improvement'],\n",
      " ['battery',\n",
      "  'hell',\n",
      "  'backup',\n",
      "  'hour',\n",
      "  'us',\n",
      "  'idle',\n",
      "  'lie',\n",
      "  'amazon',\n",
      "  'lenove',\n",
      "  'battery',\n",
      "  'charger',\n",
      "  'hour'],\n",
      " ['cash'],\n",
      " [],\n",
      " ['everthey', 'amazon', 'amazon']]\n"
     ]
    }
   ],
   "source": [
    "custom_stop_words = ['phone', 'problem', 'issue', 'product', 'mobile']\n",
    "\n",
    "review_no_custom_sw = [[token for token in doc if token not in custom_stop_words] for doc in review_no_sw]\n",
    "\n",
    "pprint(review_no_custom_sw[:5])"
   ]
  },
  {
   "cell_type": "code",
   "execution_count": 20,
   "metadata": {},
   "outputs": [
    {
     "name": "stdout",
     "output_type": "stream",
     "text": [
      "Coherence Score after removing custom stop words:  0.5087590858784453\n",
      "Wall time: 7.42 s\n"
     ]
    }
   ],
   "source": [
    "%%time\n",
    "# Build a Dictionary - association word to numeric id\n",
    "dictionary = gensim.corpora.Dictionary(review_no_custom_sw)\n",
    "\n",
    "# Transform the collection of texts to a numerical form\n",
    "corpus = [dictionary.doc2bow(text) for text in review_no_custom_sw]\n",
    "\n",
    "#Creating the LDA model\n",
    "lda_model = gensim.models.LdaModel(corpus=corpus, num_topics=NUM_TOPICS, id2word=dictionary)\n",
    "\n",
    "#Calculating the cohenrence score\n",
    "coherence_model_lda = gensim.models.CoherenceModel(model=lda_model, texts=review_no_custom_sw, dictionary=dictionary, coherence='c_v')\n",
    "\n",
    "#Collecting the score in tuple\n",
    "coherence_lda = coherence_model_lda.get_coherence()\n",
    "\n",
    "print('Coherence Score after removing custom stop words: ', coherence_lda)"
   ]
  },
  {
   "cell_type": "markdown",
   "metadata": {},
   "source": [
    "There is only a marginal improvement in the cv score, hence we need to search the parameter space for number of topics for the optimal cv score."
   ]
  },
  {
   "cell_type": "markdown",
   "metadata": {},
   "source": [
    "#### 10. Create topic model using LDA with what you think is the optimal number of topics"
   ]
  },
  {
   "cell_type": "markdown",
   "metadata": {},
   "source": [
    "For finding the optimal we would use two approaches:\n",
    "    1. Compare the CV score in gensim model tweaking the number of topics\n",
    "    2. Using sklearn LDA model and using GRidSearch over n_components parameter space"
   ]
  },
  {
   "cell_type": "markdown",
   "metadata": {},
   "source": [
    "#### Gensim Model for finding the optimal number of topics"
   ]
  },
  {
   "cell_type": "code",
   "execution_count": 21,
   "metadata": {},
   "outputs": [
    {
     "name": "stdout",
     "output_type": "stream",
     "text": [
      "[(5, 0.5039360015415292), (6, 0.5618133003400824), (7, 0.5294094524446005),\n",
      " (8, 0.5204884837150641), (9, 0.5231670369769739), (10, 0.4944845894788906),\n",
      " (11, 0.5144337822645004), (12, 0.5201486658598949)]\n",
      "Wall time: 1min\n"
     ]
    }
   ],
   "source": [
    "%%time\n",
    "NUM_TOPICS = range(5,13)\n",
    "coherence_lda_scores = []\n",
    "\n",
    "for topic in NUM_TOPICS:\n",
    "    # Build a Dictionary - association word to numeric id\n",
    "    dictionary = gensim.corpora.Dictionary(review_no_sw)\n",
    "    \n",
    "    # Transform the collection of texts to a numerical form\n",
    "    corpus = [dictionary.doc2bow(text) for text in review_no_sw]\n",
    "    \n",
    "    #Creating the LDA model\n",
    "    lda_model = gensim.models.LdaModel(corpus=corpus, num_topics=topic, id2word=dictionary)\n",
    "    \n",
    "    #Calculating the cohenrence score\n",
    "    coherence_model_lda = gensim.models.CoherenceModel(model=lda_model, texts=review_no_sw, dictionary=dictionary, coherence='c_v')\n",
    "    \n",
    "    #Collecting the score in tuple\n",
    "    coherence_lda_scores.append((topic, coherence_model_lda.get_coherence()))\n",
    "\n",
    "pprint(coherence_lda_scores, compact=True)"
   ]
  },
  {
   "cell_type": "code",
   "execution_count": 22,
   "metadata": {},
   "outputs": [
    {
     "data": {
      "text/plain": [
       "<matplotlib.axes._subplots.AxesSubplot at 0x28963a81908>"
      ]
     },
     "execution_count": 22,
     "metadata": {},
     "output_type": "execute_result"
    },
    {
     "data": {
      "image/png": "[encoded data removed]",
      "text/plain": [
       "<Figure size 432x288 with 1 Axes>"
      ]
     },
     "metadata": {
      "needs_background": "light"
     },
     "output_type": "display_data"
    }
   ],
   "source": [
    "cv_df = pd.DataFrame(coherence_lda_scores, columns=['num_topics', 'cv_score'])\n",
    "cv_df.plot(x='num_topics')"
   ]
  },
  {
   "cell_type": "markdown",
   "metadata": {},
   "source": [
    "#### Sklearn LDA Model for finding the optimal number of topics"
   ]
  },
  {
   "cell_type": "markdown",
   "metadata": {},
   "source": [
    "We perform a GridSearch over the parameter space of NUM_TOPICS and get the best cv score"
   ]
  },
  {
   "cell_type": "code",
   "execution_count": 23,
   "metadata": {},
   "outputs": [
    {
     "data": {
      "text/plain": [
       "['update improvement',\n",
       " 'mobile battery hell backup hour us idle lie amazon lenove battery charger hour',\n",
       " 'cash',\n",
       " '',\n",
       " 'phone everthey phone problem amazon phone amazon']"
      ]
     },
     "execution_count": 23,
     "metadata": {},
     "output_type": "execute_result"
    }
   ],
   "source": [
    "review_optimised = []\n",
    "for doc in review_no_sw:\n",
    "    tokens = \"\"\n",
    "    for token in doc:\n",
    "        tokens = tokens + \" \" + token\n",
    "    review_optimised.append(tokens[1:])\n",
    "\n",
    "review_optimised[:5]"
   ]
  },
  {
   "cell_type": "code",
   "execution_count": 24,
   "metadata": {},
   "outputs": [],
   "source": [
    "vectorizer = CountVectorizer(analyzer='word',       \n",
    "                             min_df=10,                        # minimum reqd occurences of a word \n",
    "                             stop_words='english',             # remove stop words\n",
    "                             lowercase=False,                   # convert all words to lowercase\n",
    "                             token_pattern='[a-zA-Z0-9]{3,}',  # num chars > 3\n",
    "                             # max_features=50000,             # max number of uniq words\n",
    "                            )\n",
    "\n",
    "data_vectorized = vectorizer.fit_transform(review_optimised)"
   ]
  },
  {
   "cell_type": "code",
   "execution_count": 25,
   "metadata": {},
   "outputs": [
    {
     "name": "stdout",
     "output_type": "stream",
     "text": [
      "Sparsicity:  0.646227472428943 %\n"
     ]
    }
   ],
   "source": [
    "# Materialize the sparse data\n",
    "data_dense = data_vectorized.todense()\n",
    "\n",
    "# Compute Sparsicity = Percentage of Non-Zero cells\n",
    "print(\"Sparsicity: \", ((data_dense > 0).sum()/data_dense.size)*100, \"%\")"
   ]
  },
  {
   "cell_type": "code",
   "execution_count": 26,
   "metadata": {},
   "outputs": [
    {
     "name": "stdout",
     "output_type": "stream",
     "text": [
      "LatentDirichletAllocation(batch_size=128, doc_topic_prior=None,\n",
      "                          evaluate_every=-1, learning_decay=0.7,\n",
      "                          learning_method='online', learning_offset=10.0,\n",
      "                          max_doc_update_iter=100, max_iter=10,\n",
      "                          mean_change_tol=0.001, n_components=12, n_jobs=-1,\n",
      "                          perp_tol=0.1, random_state=100, topic_word_prior=None,\n",
      "                          total_samples=1000000.0, verbose=0)\n"
     ]
    }
   ],
   "source": [
    "# Build LDA Model\n",
    "lda_model = LatentDirichletAllocation(n_components=12,           # Number of topics\n",
    "                                      max_iter=10,               # Max learning iterations\n",
    "                                      learning_method='online',   \n",
    "                                      random_state=100,          # Random state\n",
    "                                      batch_size=128,            # n docs in each learning iter\n",
    "                                      evaluate_every = -1,       # compute perplexity every n iters, default: Don't\n",
    "                                      n_jobs = -1,               # Use all available CPUs\n",
    "                                     )\n",
    "lda_output = lda_model.fit_transform(data_vectorized)\n",
    "\n",
    "print(lda_model)  # Model attributes"
   ]
  },
  {
   "cell_type": "code",
   "execution_count": 27,
   "metadata": {},
   "outputs": [
    {
     "name": "stdout",
     "output_type": "stream",
     "text": [
      "Log Likelihood:  -359601.51317704853\n",
      "Perplexity:  223.00993129887593\n",
      "{'batch_size': 128,\n",
      " 'doc_topic_prior': None,\n",
      " 'evaluate_every': -1,\n",
      " 'learning_decay': 0.7,\n",
      " 'learning_method': 'online',\n",
      " 'learning_offset': 10.0,\n",
      " 'max_doc_update_iter': 100,\n",
      " 'max_iter': 10,\n",
      " 'mean_change_tol': 0.001,\n",
      " 'n_components': 12,\n",
      " 'n_jobs': -1,\n",
      " 'perp_tol': 0.1,\n",
      " 'random_state': 100,\n",
      " 'topic_word_prior': None,\n",
      " 'total_samples': 1000000.0,\n",
      " 'verbose': 0}\n"
     ]
    }
   ],
   "source": [
    "# Log Likelyhood: Higher the better\n",
    "print(\"Log Likelihood: \", lda_model.score(data_vectorized))\n",
    "\n",
    "# Perplexity: Lower the better. Perplexity = exp(-1. * log-likelihood per word)\n",
    "print(\"Perplexity: \", lda_model.perplexity(data_vectorized))\n",
    "\n",
    "# See model parameters\n",
    "pprint(lda_model.get_params())"
   ]
  },
  {
   "cell_type": "code",
   "execution_count": null,
   "metadata": {},
   "outputs": [],
   "source": [
    "# Define Search Param\n",
    "search_params = {'n_components': range(5,13)}\n",
    "\n",
    "# Init the Model\n",
    "lda = LatentDirichletAllocation()\n",
    "\n",
    "# Init Grid Search Class\n",
    "model = GridSearchCV(lda, param_grid=search_params)\n",
    "\n",
    "# Do the Grid Search\n",
    "model.fit(data_vectorized)"
   ]
  },
  {
   "cell_type": "markdown",
   "metadata": {},
   "source": [
    "#### 10.1 Coherence of the optimal model"
   ]
  },
  {
   "cell_type": "code",
   "execution_count": null,
   "metadata": {},
   "outputs": [],
   "source": [
    "# Best Model\n",
    "best_lda_model = model.best_estimator_\n",
    "\n",
    "# Model Parameters\n",
    "print(\"Best Model's Params: \", model.best_params_)\n",
    "\n",
    "# Log Likelihood Score\n",
    "print(\"Best Log Likelihood Score: \", model.best_score_)\n",
    "\n",
    "# Perplexity\n",
    "print(\"Model Perplexity: \", best_lda_model.perplexity(data_vectorized))"
   ]
  },
  {
   "cell_type": "markdown",
   "metadata": {},
   "source": [
    "#### 11. Business interpretation of the identified topics"
   ]
  },
  {
   "cell_type": "code",
   "execution_count": null,
   "metadata": {},
   "outputs": [],
   "source": []
  },
  {
   "cell_type": "markdown",
   "metadata": {},
   "source": [
    "#### 11.1. Table with the topic names and the top 10 terms in each to present to the business"
   ]
  },
  {
   "cell_type": "code",
   "execution_count": null,
   "metadata": {},
   "outputs": [],
   "source": []
  }
 ],
 "metadata": {
  "kernelspec": {
   "display_name": "Python 3",
   "language": "python",
   "name": "python3"
  },
  "language_info": {
   "codemirror_mode": {
    "name": "ipython",
    "version": 3
   },
   "file_extension": ".py",
   "mimetype": "text/x-python",
   "name": "python",
   "nbconvert_exporter": "python",
   "pygments_lexer": "ipython3",
   "version": "3.7.3"
  }
 },
 "nbformat": 4,
 "nbformat_minor": 4
}
