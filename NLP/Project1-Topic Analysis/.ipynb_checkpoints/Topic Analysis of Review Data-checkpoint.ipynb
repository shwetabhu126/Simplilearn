{
 "cells": [
  {
   "cell_type": "markdown",
   "metadata": {},
   "source": [
    "# PGP AI - Natural Language Processing"
   ]
  },
  {
   "cell_type": "markdown",
   "metadata": {},
   "source": [
    "## Project 1: Topic Analysis of Review Data"
   ]
  },
  {
   "cell_type": "markdown",
   "metadata": {},
   "source": [
    "> ***Author***\n",
    ">\n",
    "> ***Saikat Narayan Bhattacharjya***\n",
    ">\n",
    "> ***Email: <snbhattacharjya@gmail.com>***"
   ]
  },
  {
   "cell_type": "markdown",
   "metadata": {},
   "source": [
    "#### DESCRIPTION\n",
    "\n",
    "Help a leading mobile brand understand the voice of the customer by analyzing the reviews of their product on Amazon and the topics that customers are talking about. You will perform topic modeling on specific parts of speech. You’ll finally interpret the emerging topics."
   ]
  },
  {
   "cell_type": "markdown",
   "metadata": {},
   "source": [
    "#### Problem Statement: \n",
    "\n",
    "A popular mobile phone brand, Lenovo has launched their budget smartphone in the Indian market. The client wants to understand the VOC (voice of the customer) on the product. This will be useful to not just evaluate the current product, but to also get some direction for developing the product pipeline. The client is particularly interested in the different aspects that customers care about. Product reviews by customers on a leading e-commerce site should provide a good view."
   ]
  },
  {
   "cell_type": "markdown",
   "metadata": {},
   "source": [
    "**Domain:** Amazon reviews for a leading phone brand"
   ]
  },
  {
   "cell_type": "markdown",
   "metadata": {},
   "source": [
    "#### Analysis to be done: \n",
    "POS tagging, topic modeling using LDA, and topic interpretation\n",
    "\n",
    "**Dataset:** ‘K8 Reviews v0.2.csv’\n",
    "\n",
    "**Sentiment:** The sentiment against the review (4,5 star reviews are positive, 1,2 are negative)\n",
    "\n",
    "**Reviews:** The main text of the review"
   ]
  },
  {
   "cell_type": "markdown",
   "metadata": {},
   "source": [
    "#### Steps to perform:\n",
    "\n",
    "Discover the topics in the reviews and present it to business in a consumable format. Employ techniques in syntactic processing and topic modeling.\n",
    "\n",
    "Perform specific cleanup, POS tagging, and restricting to relevant POS tags, then, perform topic modeling using LDA. Finally, give business-friendly names to the topics and make a table for business."
   ]
  },
  {
   "cell_type": "markdown",
   "metadata": {},
   "source": [
    "#### Tasks: \n",
    "\n",
    "1. Read the .csv file using Pandas. Take a look at the top few records.\n",
    "\n",
    "2. Normalize casings for the review text and extract the text into a list for easier manipulation.\n",
    "\n",
    "3. Tokenize the reviews using NLTKs word_tokenize function.\n",
    "\n",
    "4. Perform parts-of-speech tagging on each sentence using the NLTK POS tagger.\n",
    "\n",
    "5. For the topic model, we should  want to include only nouns.\n",
    "\n",
    "  - Find out all the POS tags that correspond to nouns.\n",
    "\n",
    "  - Limit the data to only terms with these tags.\n",
    "\n",
    "6. Lemmatize. \n",
    "\n",
    "  - Different forms of the terms need to be treated as one.\n",
    "\n",
    "  - No need to provide POS tag to lemmatizer for now.\n",
    "\n",
    "7. Remove stopwords and punctuation (if there are any). \n",
    "\n",
    "8. Create a topic model using LDA on the cleaned up data with 12 topics.\n",
    "\n",
    "  - Print out the top terms for each topic.\n",
    "\n",
    "  - What is the coherence of the model with the c_v metric?\n",
    "\n",
    "9. Analyze the topics through the business lens.\n",
    "\n",
    "  - Determine which of the topics can be combined.\n",
    "\n",
    "10. Create topic model using LDA with what you think is the optimal number of topics\n",
    "\n",
    "  - What is the coherence of the model?\n",
    "\n",
    "11. The business should  be able to interpret the topics.\n",
    "\n",
    "  - Name each of the identified topics.\n",
    "\n",
    "  - Create a table with the topic name and the top 10 terms in each to present to the  business."
   ]
  },
  {
   "cell_type": "code",
   "execution_count": 1,
   "metadata": {},
   "outputs": [],
   "source": [
    "import numpy as np\n",
    "import pandas as pd\n",
    "import re\n",
    "import nltk\n",
    "import gensim\n",
    "from pprint import pprint\n",
    "\n",
    "# Plotting tools\n",
    "import pyLDAvis\n",
    "import pyLDAvis.gensim\n",
    "import matplotlib.pyplot as plt\n",
    "%matplotlib inline"
   ]
  },
  {
   "cell_type": "markdown",
   "metadata": {},
   "source": [
    "#### 1. Read the data"
   ]
  },
  {
   "cell_type": "code",
   "execution_count": 2,
   "metadata": {},
   "outputs": [],
   "source": [
    "data = pd.read_csv('K8 Reviews v0.2.csv')"
   ]
  },
  {
   "cell_type": "code",
   "execution_count": 3,
   "metadata": {},
   "outputs": [
    {
     "data": {
      "text/html": [
       "<div>\n",
       "<style scoped>\n",
       "    .dataframe tbody tr th:only-of-type {\n",
       "        vertical-align: middle;\n",
       "    }\n",
       "\n",
       "    .dataframe tbody tr th {\n",
       "        vertical-align: top;\n",
       "    }\n",
       "\n",
       "    .dataframe thead th {\n",
       "        text-align: right;\n",
       "    }\n",
       "</style>\n",
       "<table border=\"1\" class=\"dataframe\">\n",
       "  <thead>\n",
       "    <tr style=\"text-align: right;\">\n",
       "      <th></th>\n",
       "      <th>sentiment</th>\n",
       "      <th>review</th>\n",
       "    </tr>\n",
       "  </thead>\n",
       "  <tbody>\n",
       "    <tr>\n",
       "      <th>0</th>\n",
       "      <td>1</td>\n",
       "      <td>Good but need updates and improvements</td>\n",
       "    </tr>\n",
       "    <tr>\n",
       "      <th>1</th>\n",
       "      <td>0</td>\n",
       "      <td>Worst mobile i have bought ever, Battery is dr...</td>\n",
       "    </tr>\n",
       "    <tr>\n",
       "      <th>2</th>\n",
       "      <td>1</td>\n",
       "      <td>when I will get my 10% cash back.... its alrea...</td>\n",
       "    </tr>\n",
       "    <tr>\n",
       "      <th>3</th>\n",
       "      <td>1</td>\n",
       "      <td>Good</td>\n",
       "    </tr>\n",
       "    <tr>\n",
       "      <th>4</th>\n",
       "      <td>0</td>\n",
       "      <td>The worst phone everThey have changed the last...</td>\n",
       "    </tr>\n",
       "  </tbody>\n",
       "</table>\n",
       "</div>"
      ],
      "text/plain": [
       "   sentiment                                             review\n",
       "0          1             Good but need updates and improvements\n",
       "1          0  Worst mobile i have bought ever, Battery is dr...\n",
       "2          1  when I will get my 10% cash back.... its alrea...\n",
       "3          1                                               Good\n",
       "4          0  The worst phone everThey have changed the last..."
      ]
     },
     "execution_count": 3,
     "metadata": {},
     "output_type": "execute_result"
    }
   ],
   "source": [
    "data.head()"
   ]
  },
  {
   "cell_type": "code",
   "execution_count": 4,
   "metadata": {},
   "outputs": [
    {
     "name": "stdout",
     "output_type": "stream",
     "text": [
      "<class 'pandas.core.frame.DataFrame'>\n",
      "RangeIndex: 14675 entries, 0 to 14674\n",
      "Data columns (total 2 columns):\n",
      " #   Column     Non-Null Count  Dtype \n",
      "---  ------     --------------  ----- \n",
      " 0   sentiment  14675 non-null  int64 \n",
      " 1   review     14675 non-null  object\n",
      "dtypes: int64(1), object(1)\n",
      "memory usage: 229.4+ KB\n"
     ]
    }
   ],
   "source": [
    "data.info()"
   ]
  },
  {
   "cell_type": "markdown",
   "metadata": {},
   "source": [
    "#### 2. Normalizing the casing to lower"
   ]
  },
  {
   "cell_type": "code",
   "execution_count": 5,
   "metadata": {},
   "outputs": [],
   "source": [
    "data['review_cleaned'] = data['review'].apply(lambda review: review.lower())"
   ]
  },
  {
   "cell_type": "code",
   "execution_count": 6,
   "metadata": {},
   "outputs": [
    {
     "data": {
      "text/html": [
       "<div>\n",
       "<style scoped>\n",
       "    .dataframe tbody tr th:only-of-type {\n",
       "        vertical-align: middle;\n",
       "    }\n",
       "\n",
       "    .dataframe tbody tr th {\n",
       "        vertical-align: top;\n",
       "    }\n",
       "\n",
       "    .dataframe thead th {\n",
       "        text-align: right;\n",
       "    }\n",
       "</style>\n",
       "<table border=\"1\" class=\"dataframe\">\n",
       "  <thead>\n",
       "    <tr style=\"text-align: right;\">\n",
       "      <th></th>\n",
       "      <th>sentiment</th>\n",
       "      <th>review</th>\n",
       "      <th>review_cleaned</th>\n",
       "    </tr>\n",
       "  </thead>\n",
       "  <tbody>\n",
       "    <tr>\n",
       "      <th>0</th>\n",
       "      <td>1</td>\n",
       "      <td>Good but need updates and improvements</td>\n",
       "      <td>good but need updates and improvements</td>\n",
       "    </tr>\n",
       "    <tr>\n",
       "      <th>1</th>\n",
       "      <td>0</td>\n",
       "      <td>Worst mobile i have bought ever, Battery is dr...</td>\n",
       "      <td>worst mobile i have bought ever, battery is dr...</td>\n",
       "    </tr>\n",
       "    <tr>\n",
       "      <th>2</th>\n",
       "      <td>1</td>\n",
       "      <td>when I will get my 10% cash back.... its alrea...</td>\n",
       "      <td>when i will get my 10% cash back.... its alrea...</td>\n",
       "    </tr>\n",
       "    <tr>\n",
       "      <th>3</th>\n",
       "      <td>1</td>\n",
       "      <td>Good</td>\n",
       "      <td>good</td>\n",
       "    </tr>\n",
       "    <tr>\n",
       "      <th>4</th>\n",
       "      <td>0</td>\n",
       "      <td>The worst phone everThey have changed the last...</td>\n",
       "      <td>the worst phone everthey have changed the last...</td>\n",
       "    </tr>\n",
       "  </tbody>\n",
       "</table>\n",
       "</div>"
      ],
      "text/plain": [
       "   sentiment                                             review  \\\n",
       "0          1             Good but need updates and improvements   \n",
       "1          0  Worst mobile i have bought ever, Battery is dr...   \n",
       "2          1  when I will get my 10% cash back.... its alrea...   \n",
       "3          1                                               Good   \n",
       "4          0  The worst phone everThey have changed the last...   \n",
       "\n",
       "                                      review_cleaned  \n",
       "0             good but need updates and improvements  \n",
       "1  worst mobile i have bought ever, battery is dr...  \n",
       "2  when i will get my 10% cash back.... its alrea...  \n",
       "3                                               good  \n",
       "4  the worst phone everthey have changed the last...  "
      ]
     },
     "execution_count": 6,
     "metadata": {},
     "output_type": "execute_result"
    }
   ],
   "source": [
    "data.head()"
   ]
  },
  {
   "cell_type": "markdown",
   "metadata": {},
   "source": [
    "#### 3. Tokenize the reviews using NLTKs word_tokenize function."
   ]
  },
  {
   "cell_type": "code",
   "execution_count": 7,
   "metadata": {},
   "outputs": [],
   "source": [
    "reviews = data['review_cleaned']\n",
    "reviews = [nltk.word_tokenize(review) for review in reviews]"
   ]
  },
  {
   "cell_type": "code",
   "execution_count": 8,
   "metadata": {},
   "outputs": [
    {
     "data": {
      "text/plain": [
       "14675"
      ]
     },
     "execution_count": 8,
     "metadata": {},
     "output_type": "execute_result"
    }
   ],
   "source": [
    "len(reviews)"
   ]
  },
  {
   "cell_type": "code",
   "execution_count": 9,
   "metadata": {},
   "outputs": [
    {
     "name": "stdout",
     "output_type": "stream",
     "text": [
      "[['good', 'but', 'need', 'updates', 'and', 'improvements'],\n",
      " ['worst', 'mobile', 'i', 'have', 'bought', 'ever', ',', 'battery', 'is',\n",
      "  'draining', 'like', 'hell', ',', 'backup', 'is', 'only', '6', 'to', '7',\n",
      "  'hours', 'with', 'internet', 'uses', ',', 'even', 'if', 'i', 'put', 'mobile',\n",
      "  'idle', 'its', 'getting', 'discharged.this', 'is', 'biggest', 'lie', 'from',\n",
      "  'amazon', '&', 'lenove', 'which', 'is', 'not', 'at', 'all', 'expected', ',',\n",
      "  'they', 'are', 'making', 'full', 'by', 'saying', 'that', 'battery', 'is',\n",
      "  '4000mah', '&', 'booster', 'charger', 'is', 'fake', ',', 'it', 'takes', 'at',\n",
      "  'least', '4', 'to', '5', 'hours', 'to', 'be', 'fully', 'charged.do', \"n't\",\n",
      "  'know', 'how', 'lenovo', 'will', 'survive', 'by', 'making', 'full', 'of',\n",
      "  'us.please', 'don', ';', 't', 'go', 'for', 'this', 'else', 'you', 'will',\n",
      "  'regret', 'like', 'me', '.'],\n",
      " ['when', 'i', 'will', 'get', 'my', '10', '%', 'cash', 'back', '...', '.',\n",
      "  'its', 'already', '15', 'january..'],\n",
      " ['good'],\n",
      " ['the', 'worst', 'phone', 'everthey', 'have', 'changed', 'the', 'last',\n",
      "  'phone', 'but', 'the', 'problem', 'is', 'still', 'same', 'and', 'the',\n",
      "  'amazon', 'is', 'not', 'returning', 'the', 'phone', '.highly',\n",
      "  'disappointing', 'of', 'amazon']]\n"
     ]
    }
   ],
   "source": [
    "pprint(reviews[:5], compact=True)"
   ]
  },
  {
   "cell_type": "markdown",
   "metadata": {},
   "source": [
    "#### 4. Perform parts-of-speech tagging on each document using the NLTK POS tagger"
   ]
  },
  {
   "cell_type": "code",
   "execution_count": 10,
   "metadata": {},
   "outputs": [
    {
     "name": "stdout",
     "output_type": "stream",
     "text": [
      "[[('good', 'JJ'), ('but', 'CC'), ('need', 'VBP'), ('updates', 'NNS'),\n",
      "  ('and', 'CC'), ('improvements', 'NNS')],\n",
      " [('worst', 'JJS'), ('mobile', 'NN'), ('i', 'NN'), ('have', 'VBP'),\n",
      "  ('bought', 'VBN'), ('ever', 'RB'), (',', ','), ('battery', 'NN'),\n",
      "  ('is', 'VBZ'), ('draining', 'VBG'), ('like', 'IN'), ('hell', 'NN'),\n",
      "  (',', ','), ('backup', 'NN'), ('is', 'VBZ'), ('only', 'RB'), ('6', 'CD'),\n",
      "  ('to', 'TO'), ('7', 'CD'), ('hours', 'NNS'), ('with', 'IN'),\n",
      "  ('internet', 'JJ'), ('uses', 'NNS'), (',', ','), ('even', 'RB'), ('if', 'IN'),\n",
      "  ('i', 'JJ'), ('put', 'VBP'), ('mobile', 'JJ'), ('idle', 'NN'),\n",
      "  ('its', 'PRP$'), ('getting', 'VBG'), ('discharged.this', 'NN'), ('is', 'VBZ'),\n",
      "  ('biggest', 'JJS'), ('lie', 'NN'), ('from', 'IN'), ('amazon', 'NN'),\n",
      "  ('&', 'CC'), ('lenove', 'NN'), ('which', 'WDT'), ('is', 'VBZ'), ('not', 'RB'),\n",
      "  ('at', 'IN'), ('all', 'DT'), ('expected', 'VBN'), (',', ','), ('they', 'PRP'),\n",
      "  ('are', 'VBP'), ('making', 'VBG'), ('full', 'JJ'), ('by', 'IN'),\n",
      "  ('saying', 'VBG'), ('that', 'DT'), ('battery', 'NN'), ('is', 'VBZ'),\n",
      "  ('4000mah', 'CD'), ('&', 'CC'), ('booster', 'JJR'), ('charger', 'NN'),\n",
      "  ('is', 'VBZ'), ('fake', 'JJ'), (',', ','), ('it', 'PRP'), ('takes', 'VBZ'),\n",
      "  ('at', 'IN'), ('least', 'JJS'), ('4', 'CD'), ('to', 'TO'), ('5', 'CD'),\n",
      "  ('hours', 'NNS'), ('to', 'TO'), ('be', 'VB'), ('fully', 'RB'),\n",
      "  ('charged.do', 'VBP'), (\"n't\", 'RB'), ('know', 'VB'), ('how', 'WRB'),\n",
      "  ('lenovo', 'JJ'), ('will', 'MD'), ('survive', 'VB'), ('by', 'IN'),\n",
      "  ('making', 'VBG'), ('full', 'JJ'), ('of', 'IN'), ('us.please', 'JJ'),\n",
      "  ('don', 'NN'), (';', ':'), ('t', 'CC'), ('go', 'VB'), ('for', 'IN'),\n",
      "  ('this', 'DT'), ('else', 'JJ'), ('you', 'PRP'), ('will', 'MD'),\n",
      "  ('regret', 'VB'), ('like', 'IN'), ('me', 'PRP'), ('.', '.')],\n",
      " [('when', 'WRB'), ('i', 'NN'), ('will', 'MD'), ('get', 'VB'), ('my', 'PRP$'),\n",
      "  ('10', 'CD'), ('%', 'NN'), ('cash', 'NN'), ('back', 'RB'), ('...', ':'),\n",
      "  ('.', '.'), ('its', 'PRP$'), ('already', 'RB'), ('15', 'CD'),\n",
      "  ('january..', 'NN')],\n",
      " [('good', 'JJ')],\n",
      " [('the', 'DT'), ('worst', 'JJS'), ('phone', 'NN'), ('everthey', 'NN'),\n",
      "  ('have', 'VBP'), ('changed', 'VBN'), ('the', 'DT'), ('last', 'JJ'),\n",
      "  ('phone', 'NN'), ('but', 'CC'), ('the', 'DT'), ('problem', 'NN'),\n",
      "  ('is', 'VBZ'), ('still', 'RB'), ('same', 'JJ'), ('and', 'CC'), ('the', 'DT'),\n",
      "  ('amazon', 'NN'), ('is', 'VBZ'), ('not', 'RB'), ('returning', 'VBG'),\n",
      "  ('the', 'DT'), ('phone', 'NN'), ('.highly', 'RB'), ('disappointing', 'JJ'),\n",
      "  ('of', 'IN'), ('amazon', 'NN')]]\n",
      "Wall time: 25.4 s\n"
     ]
    }
   ],
   "source": [
    "%%time\n",
    "review_pos_tags = [nltk.pos_tag(doc) for doc in reviews]\n",
    "pprint(review_pos_tags[:5], compact=True)"
   ]
  },
  {
   "cell_type": "markdown",
   "metadata": {},
   "source": [
    "#### 5. Including only nouns for building the Topic Model"
   ]
  },
  {
   "cell_type": "code",
   "execution_count": 11,
   "metadata": {},
   "outputs": [
    {
     "name": "stdout",
     "output_type": "stream",
     "text": [
      "[['updates', 'improvements'],\n",
      " ['mobile', 'i', 'battery', 'hell', 'backup', 'hours', 'uses', 'idle',\n",
      "  'discharged.this', 'lie', 'amazon', 'lenove', 'battery', 'charger', 'hours',\n",
      "  'don'],\n",
      " ['i', '%', 'cash', 'january..'], [],\n",
      " ['phone', 'everthey', 'phone', 'problem', 'amazon', 'phone', 'amazon']]\n"
     ]
    }
   ],
   "source": [
    "review_nouns = [[token for token, pos in doc if pos.startswith('NN')] for doc in review_pos_tags]\n",
    "pprint(review_nouns[:5], compact=True)"
   ]
  },
  {
   "cell_type": "markdown",
   "metadata": {},
   "source": [
    "#### 6. Lemmatize"
   ]
  },
  {
   "cell_type": "code",
   "execution_count": 12,
   "metadata": {},
   "outputs": [
    {
     "name": "stdout",
     "output_type": "stream",
     "text": [
      "[['update', 'improvement'],\n",
      " ['mobile', 'i', 'battery', 'hell', 'backup', 'hour', 'us', 'idle',\n",
      "  'discharged.this', 'lie', 'amazon', 'lenove', 'battery', 'charger', 'hour',\n",
      "  'don'],\n",
      " ['i', '%', 'cash', 'january..'], [],\n",
      " ['phone', 'everthey', 'phone', 'problem', 'amazon', 'phone', 'amazon']]\n",
      "Wall time: 2.51 s\n"
     ]
    }
   ],
   "source": [
    "%%time\n",
    "review_lemmatized = [[nltk.stem.WordNetLemmatizer().lemmatize(token) for token in doc] for doc in review_nouns]\n",
    "pprint(review_lemmatized[:5],compact=True)"
   ]
  },
  {
   "cell_type": "markdown",
   "metadata": {},
   "source": [
    "#### 7. Remove stopwords and punctuation (if there are any)."
   ]
  },
  {
   "cell_type": "code",
   "execution_count": 13,
   "metadata": {},
   "outputs": [
    {
     "name": "stdout",
     "output_type": "stream",
     "text": [
      "[['update', 'improvement'],\n",
      " ['mobile', 'battery', 'hell', 'backup', 'hour', 'us', 'idle', 'lie', 'amazon',\n",
      "  'lenove', 'battery', 'charger', 'hour'],\n",
      " ['cash'], [],\n",
      " ['phone', 'everthey', 'phone', 'problem', 'amazon', 'phone', 'amazon']]\n",
      "Wall time: 25.8 s\n"
     ]
    }
   ],
   "source": [
    "%%time\n",
    "review_no_sw = [[token for token in doc if token not in nltk.corpus.stopwords.words('english') \n",
    "                 and token.isalpha()] \n",
    "                for doc in review_lemmatized]\n",
    "pprint(review_no_sw[:5], compact=True)"
   ]
  },
  {
   "cell_type": "markdown",
   "metadata": {},
   "source": [
    "#### 8. Create a topic model using LDA on the cleaned up data with 12 topics."
   ]
  },
  {
   "cell_type": "code",
   "execution_count": 14,
   "metadata": {},
   "outputs": [],
   "source": [
    "# Build a Dictionary - association word to numeric id\n",
    "dictionary = gensim.corpora.Dictionary(review_no_sw)\n",
    "# Transform the collection of texts to a numerical form\n",
    "corpus = [dictionary.doc2bow(text) for text in review_no_sw]"
   ]
  },
  {
   "cell_type": "code",
   "execution_count": 15,
   "metadata": {},
   "outputs": [],
   "source": [
    "NUM_TOPICS = 12\n",
    "lda_model = gensim.models.LdaModel(corpus=corpus, num_topics=NUM_TOPICS, id2word=dictionary, random_state=1)"
   ]
  },
  {
   "cell_type": "markdown",
   "metadata": {},
   "source": [
    "#### 8.1 Print out the top terms for each topic."
   ]
  },
  {
   "cell_type": "code",
   "execution_count": 16,
   "metadata": {},
   "outputs": [
    {
     "name": "stdout",
     "output_type": "stream",
     "text": [
      "LDA Model:\n",
      "('Topic #0: 0.070*\"battery\" + 0.043*\"phone\" + 0.042*\"screen\" + 0.037*\"day\" + '\n",
      " '0.023*\"camera\" + 0.019*\"ram\" + 0.016*\"note\" + 0.015*\"hr\" + 0.014*\"time\" + '\n",
      " '0.014*\"app\"')\n",
      "('Topic #1: 0.371*\"mobile\" + 0.046*\"glass\" + 0.040*\"buy\" + 0.032*\"phone\" + '\n",
      " '0.025*\"gorilla\" + 0.017*\"purchase\" + 0.016*\"star\" + 0.013*\"mi\" + '\n",
      " '0.012*\"jata\" + 0.011*\"rating\"')\n",
      "('Topic #2: 0.087*\"issue\" + 0.083*\"phone\" + 0.056*\"network\" + 0.025*\"sim\" + '\n",
      " '0.024*\"note\" + 0.024*\"call\" + 0.023*\"time\" + 0.023*\"battery\" + '\n",
      " '0.017*\"problem\" + 0.015*\"jio\"')\n",
      "('Topic #3: 0.210*\"product\" + 0.095*\"phone\" + 0.053*\"service\" + 0.042*\"lenovo\" '\n",
      " '+ 0.025*\"amazon\" + 0.018*\"customer\" + 0.017*\"time\" + 0.016*\"please\" + '\n",
      " '0.015*\"center\" + 0.015*\"day\"')\n",
      "('Topic #4: 0.081*\"battery\" + 0.046*\"device\" + 0.039*\"hour\" + 0.028*\"charging\" '\n",
      " '+ 0.025*\"drain\" + 0.025*\"camera\" + 0.025*\"day\" + 0.024*\"amazon\" + '\n",
      " '0.023*\"speaker\" + 0.022*\"problem\"')\n",
      "('Topic #5: 0.144*\"camera\" + 0.050*\"phone\" + 0.027*\"mode\" + 0.025*\"hai\" + '\n",
      " '0.019*\"quality\" + 0.017*\"depth\" + 0.017*\"battery\" + 0.017*\"charger\" + '\n",
      " '0.015*\"photo\" + 0.015*\"feature\"')\n",
      "('Topic #6: 0.167*\"battery\" + 0.088*\"phone\" + 0.071*\"backup\" + 0.062*\"heating\" '\n",
      " '+ 0.060*\"heat\" + 0.058*\"problem\" + 0.048*\"issue\" + 0.046*\"time\" + '\n",
      " '0.028*\"delivery\" + 0.017*\"thanks\"')\n",
      "('Topic #7: 0.074*\"phone\" + 0.062*\"superb\" + 0.029*\"work\" + 0.025*\"earphone\" + '\n",
      " '0.024*\"smartphone\" + 0.023*\"user\" + 0.022*\"awesome\" + 0.020*\"contact\" + '\n",
      " '0.016*\"option\" + 0.016*\"feature\"')\n",
      "('Topic #8: 0.128*\"camera\" + 0.123*\"quality\" + 0.062*\"phone\" + 0.040*\"display\" '\n",
      " '+ 0.034*\"battery\" + 0.028*\"h\" + 0.023*\"problem\" + 0.018*\"budget\" + '\n",
      " '0.016*\"performance\" + 0.016*\"picture\"')\n",
      "('Topic #9: 0.176*\"price\" + 0.121*\"phone\" + 0.066*\"range\" + 0.051*\"feature\" + '\n",
      " '0.020*\"excellent\" + 0.019*\"set\" + 0.019*\"camera\" + 0.017*\"system\" + '\n",
      " '0.015*\"function\" + 0.014*\"option\"')\n",
      "('Topic #10: 0.113*\"money\" + 0.079*\"note\" + 0.052*\"waste\" + 0.048*\"phone\" + '\n",
      " '0.047*\"value\" + 0.024*\"product\" + 0.019*\"dolby\" + 0.017*\"speed\" + '\n",
      " '0.016*\"atmos\" + 0.015*\"everything\"')\n",
      "('Topic #11: 0.293*\"phone\" + 0.054*\"problem\" + 0.046*\"performance\" + '\n",
      " '0.034*\"battery\" + 0.030*\"camera\" + 0.026*\"month\" + 0.018*\"day\" + '\n",
      " '0.012*\"look\" + 0.012*\"bit\" + 0.011*\"super\"')\n"
     ]
    }
   ],
   "source": [
    "print(\"LDA Model:\")\n",
    " \n",
    "for idx in range(NUM_TOPICS):\n",
    "    # Print the first 10 most representative topics\n",
    "    pprint(\"Topic #{}: {}\".format(idx, lda_model.print_topic(idx, 10)), compact=True)"
   ]
  },
  {
   "cell_type": "code",
   "execution_count": 17,
   "metadata": {},
   "outputs": [
    {
     "data": {
      "text/html": [
       "\n",
       "<link rel=\"stylesheet\" type=\"text/css\" href=\"https://cdn.rawgit.com/bmabey/pyLDAvis/files/ldavis.v1.0.0.css\">\n",
       "\n",
       "\n",
       "<div id=\"ldavis_el1102027455724128961795015686\"></div>\n",
       "<script type=\"text/javascript\">\n",
       "\n",
       "var ldavis_el1102027455724128961795015686_data = {\"mdsDat\": {\"x\": [0.06266855553997136, 0.09611576274985323, 0.053151297441543253, -0.013537984011874206, 0.0412867139461959, 0.08260315826242674, 0.13381345429425667, 0.15754111314094701, -0.08252742956220123, -0.13787584661636496, -0.11325177571472127, -0.27998701947003274], \"y\": [-0.08511629912491975, 0.026157906514506297, 0.19022860668795866, -0.16645466964830632, 0.002237996581015709, 0.1408301658459176, -0.09094555869546135, -0.06128719066296583, -0.06538648051417065, 0.1052357379995134, 0.06554292615703919, -0.06104314114012732], \"topics\": [1, 2, 3, 4, 5, 6, 7, 8, 9, 10, 11, 12], \"cluster\": [1, 1, 1, 1, 1, 1, 1, 1, 1, 1, 1, 1], \"Freq\": [11.862483024597168, 11.853811264038086, 10.86954402923584, 10.68000316619873, 9.842620849609375, 9.113232612609863, 8.402766227722168, 7.17101526260376, 6.00213623046875, 5.4328155517578125, 4.400358200073242, 4.369218826293945]}, \"tinfo\": {\"Term\": [\"mobile\", \"product\", \"price\", \"battery\", \"phone\", \"camera\", \"money\", \"quality\", \"issue\", \"network\", \"backup\", \"service\", \"heat\", \"note\", \"heating\", \"range\", \"problem\", \"waste\", \"superb\", \"value\", \"display\", \"device\", \"hour\", \"glass\", \"feature\", \"screen\", \"h\", \"time\", \"performance\", \"hai\", \"lte\", \"place\", \"coverage\", \"jio\", \"caller\", \"idea\", \"id\", \"temperature\", \"movie\", \"reality\", \"volta\", \"round\", \"okay\", \"pad\", \"multi\", \"india\", \"book\", \"deca\", \"network\", \"aug\", \"reboot\", \"crash\", \"ear\", \"smartphones\", \"disaster\", \"gamer\", \"folder\", \"reset\", \"adaptor\", \"curve\", \"number\", \"spec\", \"sim\", \"deal\", \"difference\", \"core\", \"issue\", \"record\", \"data\", \"person\", \"min\", \"killer\", \"choice\", \"call\", \"connection\", \"lot\", \"charge\", \"connectivity\", \"brightness\", \"wifi\", \"strength\", \"update\", \"phone\", \"time\", \"note\", \"processor\", \"use\", \"hour\", \"lenovo\", \"battery\", \"problem\", \"mobile\", \"day\", \"month\", \"charger\", \"camera\", \"feature\", \"top\", \"mind\", \"file\", \"lock\", \"accessory\", \"control\", \"colour\", \"manager\", \"rom\", \"storage\", \"moment\", \"messenger\", \"gb\", \"fall\", \"matter\", \"overheating\", \"phn\", \"vodafone\", \"batter\", \"msg\", \"wow\", \"persist\", \"dot\", \"last\", \"message\", \"phoneall\", \"nougat\", \"efficient\", \"resolution\", \"rounder\", \"setting\", \"ram\", \"whatsapp\", \"item\", \"notification\", \"medium\", \"screen\", \"management\", \"sims\", \"mah\", \"hr\", \"app\", \"memory\", \"cost\", \"android\", \"video\", \"day\", \"battery\", \"condition\", \"stock\", \"life\", \"handset\", \"cast\", \"usage\", \"option\", \"phone\", \"software\", \"game\", \"note\", \"time\", \"camera\", \"sound\", \"problem\", \"call\", \"quality\", \"processor\", \"performance\", \"hai\", \"bhi\", \"raha\", \"tray\", \"right\", \"zoom\", \"rha\", \"detail\", \"yesterday\", \"flash\", \"kar\", \"improvement\", \"toh\", \"bhut\", \"cool\", \"hota\", \"se\", \"loss\", \"ye\", \"alarm\", \"tha\", \"thik\", \"usb\", \"diya\", \"gaya\", \"blur\", \"hone\", \"capture\", \"group\", \"mobail\", \"mp\", \"headphone\", \"depth\", \"bokeh\", \"front\", \"ko\", \"ka\", \"photo\", \"rear\", \"mode\", \"ho\", \"effect\", \"camera\", \"card\", \"piece\", \"need\", \"key\", \"clarity\", \"music\", \"charger\", \"cable\", \"light\", \"turbo\", \"phone\", \"quality\", \"feature\", \"image\", \"battery\", \"performance\", \"sound\", \"note\", \"sensor\", \"speaker\", \"lenovo\", \"warranty\", \"china\", \"seller\", \"icon\", \"effort\", \"bank\", \"one\", \"repair\", \"beast\", \"center\", \"technician\", \"manufacturing\", \"navigation\", \"hence\", \"centre\", \"service\", \"wife\", \"purpose\", \"go\", \"procedure\", \"visibility\", \"mera\", \"sell\", \"location\", \"osm\", \"house\", \"cheater\", \"inspite\", \"product\", \"minus\", \"defect\", \"please\", \"customer\", \"model\", \"bakwas\", \"complaint\", \"care\", \"support\", \"year\", \"lenovo\", \"amazon\", \"return\", \"lover\", \"phone\", \"charger\", \"delivery\", \"request\", \"time\", \"month\", \"day\", \"replacement\", \"note\", \"feature\", \"call\", \"problem\", \"issue\", \"software\", \"device\", \"battery\", \"super\", \"concern\", \"graphic\", \"job\", \"n\", \"phon\", \"access\", \"photography\", \"clearity\", \"standard\", \"flipkart\", \"department\", \"tag\", \"bhai\", \"smart\", \"oct\", \"batery\", \"menu\", \"ti\", \"asphalt\", \"shutter\", \"thats\", \"task\", \"pubg\", \"god\", \"september\", \"fuction\", \"perfect\", \"powerfull\", \"microphone\", \"bill\", \"weight\", \"look\", \"gaming\", \"mail\", \"phone\", \"performance\", \"month\", \"bit\", \"problem\", \"back\", \"oreo\", \"specification\", \"game\", \"day\", \"battery\", \"camera\", \"market\", \"way\", \"feature\", \"update\", \"life\", \"price\", \"amazon\", \"use\", \"heating\", \"review\", \"mark\", \"mobile\", \"lenovo\", \"quality\", \"h\", \"processing\", \"hd\", \"cell\", \"processer\", \"ad\", \"flashlight\", \"comment\", \"jyada\", \"fake\", \"series\", \"wrost\", \"penny\", \"micromax\", \"socket\", \"size\", \"step\", \"color\", \"manner\", \"factory\", \"stop\", \"result\", \"dslr\", \"mention\", \"advantage\", \"lie\", \"prise\", \"invoice\", \"functioning\", \"left\", \"pic\", \"display\", \"quality\", \"budget\", \"picture\", \"friend\", \"hotspot\", \"expectation\", \"camera\", \"mark\", \"drainage\", \"sound\", \"design\", \"k\", \"phone\", \"image\", \"battery\", \"problem\", \"performance\", \"heating\", \"video\", \"everything\", \"work\", \"note\", \"product\", \"charge\", \"mode\", \"lot\", \"mobile\", \"speaker\", \"draining\", \"lenova\", \"level\", \"bed\", \"bekar\", \"cash\", \"adapter\", \"couple\", \"g\", \"copy\", \"max\", \"provider\", \"whats\", \"world\", \"patch\", \"im\", \"style\", \"whereas\", \"plz\", \"chrome\", \"fast\", \"shopping\", \"ha\", \"none\", \"cheating\", \"heatup\", \"form\", \"turbocharger\", \"account\", \"prblm\", \"help\", \"charging\", \"good\", \"site\", \"doesnt\", \"drain\", \"worth\", \"night\", \"device\", \"stand\", \"minute\", \"refund\", \"hour\", \"replacement\", \"policy\", \"usage\", \"return\", \"speaker\", \"battery\", \"amazon\", \"date\", \"charge\", \"day\", \"turbo\", \"problem\", \"camera\", \"time\", \"charger\", \"performance\", \"experience\", \"phone\", \"issue\", \"note\", \"quality\", \"lenovo\", \"nice\", \"ok\", \"pin\", \"atom\", \"pr\", \"nhi\", \"ek\", \"gya\", \"headset\", \"optimization\", \"sir\", \"camra\", \"discharge\", \"hu\", \"aspect\", \"cpu\", \"heat\", \"brother\", \"risk\", \"pick\", \"payment\", \"wise\", \"warm\", \"others\", \"b\", \"thanks\", \"dad\", \"yes\", \"iska\", \"tooo\", \"backup\", \"heating\", \"delivery\", \"gesture\", \"hang\", \"battery\", \"get\", \"word\", \"side\", \"time\", \"problem\", \"issue\", \"phone\", \"life\", \"speed\", \"speaker\", \"clarity\", \"camera\", \"till\", \"hour\", \"processor\", \"future\", \"facility\", \"working\", \"mob\", \"wastage\", \"value\", \"browsing\", \"rupee\", \"recorder\", \"pack\", \"generation\", \"news\", \"degree\", \"manufacturer\", \"recharge\", \"electronics\", \"corner\", \"money\", \"waste\", \"premium\", \"section\", \"screenshot\", \"nano\", \"competition\", \"verry\", \"station\", \"family\", \"coz\", \"atmos\", \"tap\", \"pls\", \"motorola\", \"exchange\", \"buying\", \"version\", \"dolby\", \"store\", \"note\", \"view\", \"tv\", \"cast\", \"signal\", \"speed\", \"everything\", \"anything\", \"drop\", \"experience\", \"call\", \"phone\", \"product\", \"feature\", \"sound\", \"lenovo\", \"quality\", \"mobile\", \"camera\", \"amazon\", \"problem\", \"excellent\", \"complain\", \"pc\", \"category\", \"battry\", \"mast\", \"example\", \"isme\", \"car\", \"ph\", \"goog\", \"love\", \"feeling\", \"sensing\", \"fone\", \"vr\", \"lena\", \"everytime\", \"kharab\", \"set\", \"assistant\", \"percentage\", \"head\", \"bulky\", \"bilkul\", \"disadvantage\", \"slim\", \"respect\", \"price\", \"networking\", \"range\", \"net\", \"fine\", \"function\", \"cam\", \"r\", \"shot\", \"anyone\", \"type\", \"system\", \"feature\", \"nothing\", \"phone\", \"offer\", \"etc\", \"box\", \"option\", \"gallery\", \"everything\", \"camera\", \"recording\", \"screen\", \"quality\", \"apps\", \"time\", \"experience\", \"superb\", \"awesome\", \"half\", \"functionality\", \"ringtone\", \"switch\", \"kiya\", \"limit\", \"damage\", \"order\", \"camara\", \"rock\", \"office\", \"multimedia\", \"gud\", \"mobil\", \"launch\", \"operation\", \"hv\", \"vibration\", \"operating\", \"gift\", \"variant\", \"shortcut\", \"technology\", \"thank\", \"combination\", \"inbuilt\", \"line\", \"nokia\", \"earphone\", \"interface\", \"smartphone\", \"contact\", \"class\", \"user\", \"work\", \"jack\", \"team\", \"specification\", \"touch\", \"week\", \"hi\", \"phone\", \"option\", \"review\", \"auto\", \"feature\", \"power\", \"lenovo\", \"camera\", \"music\", \"company\", \"software\", \"jata\", \"comparison\", \"protection\", \"lenevo\", \"talk\", \"crack\", \"chromecast\", \"awsome\", \"mean\", \"comapre\", \"scratch\", \"buy\", \"executive\", \"gorilla\", \"glass\", \"think\", \"mine\", \"information\", \"resistant\", \"timing\", \"fon\", \"mobile\", \"backlight\", \"mother\", \"run\", \"simple\", \"mistake\", \"board\", \"rating\", \"prize\", \"mi\", \"segment\", \"water\", \"purchase\", \"restart\", \"iron\", \"star\", \"u\", \"date\", \"part\", \"phone\", \"hand\", \"price\", \"feature\", \"camera\", \"cost\", \"product\", \"range\", \"day\"], \"Freq\": [1666.0, 2176.0, 940.0, 3159.0, 6989.0, 3218.0, 620.0, 1411.0, 1430.0, 578.0, 582.0, 496.0, 393.0, 1172.0, 612.0, 365.0, 1517.0, 287.0, 222.0, 237.0, 364.0, 465.0, 471.0, 188.0, 857.0, 571.0, 207.0, 970.0, 843.0, 223.0, 47.06150817871094, 29.209667205810547, 22.82432746887207, 145.15966796875, 28.757225036621094, 25.772117614746094, 17.592269897460938, 18.44322395324707, 16.395572662353516, 16.9672908782959, 138.96768188476562, 16.004016876220703, 14.524243354797363, 13.776388168334961, 15.907946586608887, 12.224495887756348, 12.94633674621582, 58.46431350708008, 533.2619018554688, 11.082518577575684, 11.283388137817383, 10.992039680480957, 14.034423828125, 9.65182876586914, 10.814922332763672, 13.855306625366211, 9.411693572998047, 12.421643257141113, 8.58031177520752, 8.483553886413574, 66.497314453125, 43.39048767089844, 235.91233825683594, 31.982269287109375, 23.960588455200195, 83.69364929199219, 833.374267578125, 21.326318740844727, 120.88909149169922, 43.90679931640625, 87.54010009765625, 66.8797836303711, 33.614891052246094, 230.33030700683594, 47.84788513183594, 139.58096313476562, 139.88841247558594, 49.99528503417969, 43.14543533325195, 47.86636734008789, 32.81026077270508, 141.44842529296875, 792.1616821289062, 218.2650909423828, 231.55384826660156, 106.5826644897461, 86.45893096923828, 105.6872787475586, 129.53317260742188, 217.40890502929688, 158.4099884033203, 121.84345245361328, 97.45598602294922, 80.99310302734375, 75.4664306640625, 103.51287078857422, 72.0855484008789, 42.071990966796875, 36.987571716308594, 32.02725601196289, 39.918907165527344, 38.59830093383789, 21.160247802734375, 24.48874855041504, 21.57337188720703, 25.835420608520508, 50.80879592895508, 16.867403030395508, 16.24489974975586, 105.42314910888672, 31.187057495117188, 18.9724178314209, 13.839611053466797, 38.01605224609375, 11.795685768127441, 17.22286033630371, 13.662040710449219, 13.320273399353027, 10.930831909179688, 9.69117259979248, 9.623970031738281, 93.36943054199219, 9.496308326721191, 9.379218101501465, 9.215903282165527, 58.809322357177734, 8.436619758605957, 35.98670196533203, 185.12362670898438, 38.33165740966797, 63.24467086791992, 101.3049087524414, 36.97773742675781, 403.4080810546875, 45.54999542236328, 21.560184478759766, 87.77471160888672, 139.0820770263672, 136.4219970703125, 76.46040344238281, 57.84410095214844, 101.26568603515625, 126.83427429199219, 350.41168212890625, 667.484130859375, 60.788047790527344, 82.9283218383789, 132.49034118652344, 94.6050033569336, 75.6980209350586, 92.4147720336914, 109.83546447753906, 404.6275634765625, 101.53372955322266, 76.8059310913086, 156.59950256347656, 137.9709014892578, 218.63218688964844, 85.62855529785156, 120.79812622070312, 84.23941040039062, 91.57691192626953, 68.50762939453125, 71.75927734375, 219.68276977539062, 52.59157943725586, 33.27329635620117, 26.716266632080078, 27.166784286499023, 27.03924560546875, 26.623075485229492, 26.141231536865234, 32.75636291503906, 102.51642608642578, 21.39581298828125, 44.361167907714844, 21.613338470458984, 21.355205535888672, 20.604774475097656, 27.928932189941406, 32.75733184814453, 18.92987060546875, 38.63437271118164, 18.2807559967041, 33.55363845825195, 17.48680305480957, 17.234601974487305, 16.95306968688965, 17.4698543548584, 26.208784103393555, 15.983402252197266, 14.415217399597168, 14.361175537109375, 14.181427955627441, 94.81285858154297, 111.49010467529297, 148.6737518310547, 25.405132293701172, 110.4469985961914, 37.134979248046875, 26.147066116333008, 133.84298706054688, 46.039703369140625, 239.5554656982422, 81.13884735107422, 83.77870178222656, 1255.4984130859375, 88.77615356445312, 75.65925598144531, 69.49519348144531, 71.50621795654297, 85.36497497558594, 109.95292663574219, 144.0979766845703, 43.61896514892578, 72.08719635009766, 76.7455062866211, 438.6659240722656, 166.47116088867188, 129.5535888671875, 58.21309280395508, 144.16094970703125, 81.49120330810547, 64.35421752929688, 76.44831085205078, 54.440792083740234, 58.713504791259766, 56.83473587036133, 62.72944641113281, 28.707380294799805, 33.850582122802734, 24.502973556518555, 19.94049835205078, 19.364845275878906, 53.522491455078125, 17.071311950683594, 21.107032775878906, 132.51524353027344, 13.41446304321289, 12.542916297912598, 15.366911888122559, 15.322507858276367, 73.49697875976562, 456.97259521484375, 11.317791938781738, 10.018445014953613, 12.085341453552246, 8.557561874389648, 8.262189865112305, 18.879436492919922, 6.550298690795898, 15.778854370117188, 5.868380069732666, 6.357900619506836, 5.610037326812744, 5.324944496154785, 1804.369384765625, 14.402867317199707, 31.19007110595703, 141.15748596191406, 153.97406005859375, 97.95221710205078, 12.282430648803711, 47.656253814697266, 68.68504333496094, 104.8433837890625, 42.623321533203125, 363.10845947265625, 214.9127655029297, 90.59452819824219, 25.97372055053711, 814.4343872070312, 118.19396209716797, 82.6296157836914, 36.2346076965332, 142.70785522460938, 94.74673461914062, 125.77759552001953, 54.62251281738281, 110.84149932861328, 94.71142578125, 71.85842895507812, 99.28518676757812, 68.17688751220703, 49.695064544677734, 51.56153869628906, 51.38395309448242, 89.86573791503906, 41.95332336425781, 35.36442565917969, 20.964262008666992, 45.92949676513672, 19.9245548248291, 18.905120849609375, 20.56349754333496, 17.85489273071289, 19.429622650146484, 16.043712615966797, 15.17589282989502, 13.732466697692871, 13.420930862426758, 20.03582191467285, 11.647597312927246, 11.043936729431152, 10.769233703613281, 10.268190383911133, 11.670666694641113, 9.373573303222656, 8.601333618164062, 9.040616989135742, 8.364275932312012, 9.908738136291504, 10.411931991577148, 8.100309371948242, 19.23689079284668, 7.570716381072998, 7.523437023162842, 50.75155258178711, 39.26311111450195, 95.57345581054688, 44.239376068115234, 27.259794235229492, 2319.02734375, 367.3659973144531, 206.9990234375, 93.49886322021484, 422.93511962890625, 21.230714797973633, 31.161855697631836, 47.40843200683594, 68.04389953613281, 145.72103881835938, 265.07843017578125, 240.6011505126953, 24.477821350097656, 29.685367584228516, 79.68260955810547, 57.76055908203125, 52.892215728759766, 72.07112121582031, 57.24348831176758, 44.128883361816406, 54.15009307861328, 35.40080642700195, 33.898990631103516, 56.27256393432617, 44.47419738769531, 38.470218658447266, 205.7459716796875, 41.88615798950195, 38.651084899902344, 65.0665054321289, 23.11672019958496, 16.99220848083496, 18.521379470825195, 15.95322322845459, 15.474359512329102, 14.63654613494873, 22.768672943115234, 18.06965446472168, 13.82496166229248, 11.092916488647461, 9.859745979309082, 31.13555335998535, 9.234150886535645, 63.051231384277344, 9.456671714782715, 7.973435401916504, 24.68402099609375, 45.040061950683594, 8.200119972229004, 6.957884788513184, 6.829695224761963, 6.476889610290527, 5.996765613555908, 27.4393253326416, 5.869399547576904, 5.645425319671631, 63.35868835449219, 294.037841796875, 896.813232421875, 133.96974182128906, 114.79302215576172, 29.622934341430664, 26.582883834838867, 77.1775894165039, 938.79931640625, 86.24407958984375, 28.891338348388672, 97.29634094238281, 36.19999313354492, 37.22156524658203, 453.5307922363281, 50.22589111328125, 248.80738830566406, 169.24099731445312, 116.77764892578125, 80.45115661621094, 54.635215759277344, 56.312255859375, 48.69777297973633, 76.16852569580078, 74.69184112548828, 47.56435775756836, 46.918731689453125, 43.76713180541992, 49.15937423706055, 39.31146240234375, 45.0605583190918, 32.81508255004883, 47.33469009399414, 26.861745834350586, 26.844829559326172, 33.520870208740234, 22.3986759185791, 30.779455184936523, 18.412256240844727, 18.288516998291016, 25.25955581665039, 15.162084579467773, 14.080012321472168, 14.955574035644531, 10.945679664611816, 14.971633911132812, 7.8930816650390625, 8.28240966796875, 55.65773391723633, 8.27427864074707, 64.64696502685547, 7.329038143157959, 6.985833644866943, 8.543706893920898, 6.56671142578125, 6.360424995422363, 6.625275135040283, 9.483440399169922, 8.824905395507812, 5.788171291351318, 47.65382766723633, 187.7198028564453, 27.269344329833984, 28.688505172729492, 22.703933715820312, 171.4775390625, 89.8746109008789, 51.475120544433594, 307.8322448730469, 15.241642951965332, 71.79056549072266, 79.00566101074219, 263.8912353515625, 124.19916534423828, 67.97445678710938, 115.55900573730469, 98.11555480957031, 153.49002075195312, 547.3870239257812, 159.8577423095703, 42.23218536376953, 95.58883666992188, 165.908935546875, 72.77986145019531, 151.74563598632812, 169.82586669921875, 102.52606964111328, 73.4348373413086, 88.544677734375, 58.059207916259766, 126.88721466064453, 85.76033782958984, 72.11862182617188, 53.3851203918457, 52.21897506713867, 54.009952545166016, 92.75386810302734, 24.912511825561523, 21.95223045349121, 17.23247718811035, 21.33022117614746, 19.95433235168457, 14.979377746582031, 52.030975341796875, 13.061949729919434, 35.953086853027344, 10.185826301574707, 29.409103393554688, 14.072683334350586, 7.640469074249268, 7.576226234436035, 348.1784362792969, 7.389437198638916, 6.900468826293945, 6.570419788360596, 6.05086088180542, 42.97135925292969, 17.457630157470703, 30.458906173706055, 14.096036911010742, 98.08584594726562, 5.134917736053467, 4.697226524353027, 4.367447376251221, 4.350212097167969, 409.6346130371094, 355.0914001464844, 161.8300018310547, 13.913461685180664, 77.99412536621094, 964.1422119140625, 28.10343360900879, 23.93297576904297, 55.0658073425293, 262.0629577636719, 334.3560791015625, 275.3226013183594, 506.7878112792969, 53.39398193359375, 46.10096740722656, 47.38158416748047, 33.39009094238281, 69.19347381591797, 26.661027908325195, 32.64105987548828, 25.673721313476562, 45.13496780395508, 59.15131759643555, 31.9515323638916, 26.840559005737305, 18.159164428710938, 225.54090881347656, 25.74897003173828, 16.704301834106445, 58.404945373535156, 15.707976341247559, 10.382092475891113, 10.297954559326172, 11.488360404968262, 9.721898078918457, 9.020180702209473, 7.334975719451904, 7.4142842292785645, 545.1893310546875, 251.48367309570312, 6.582014560699463, 6.5084404945373535, 10.071603775024414, 6.924912929534912, 6.147007942199707, 5.609243869781494, 7.450814723968506, 5.235891819000244, 4.742260456085205, 77.90999603271484, 6.028900623321533, 53.001220703125, 31.857812881469727, 29.79004669189453, 32.44059371948242, 59.02042770385742, 93.87745666503906, 17.791940689086914, 381.6058349609375, 12.739839553833008, 33.491512298583984, 63.24622344970703, 49.56072235107422, 79.6596450805664, 73.09902954101562, 24.60457420349121, 19.19232177734375, 56.77949142456055, 67.1669921875, 230.37738037109375, 114.15843200683594, 70.83965301513672, 48.761314392089844, 64.56172943115234, 54.21659851074219, 51.56294631958008, 43.55295944213867, 36.08726119995117, 32.9225959777832, 89.23863220214844, 45.78903579711914, 30.10477638244629, 22.403079986572266, 18.65812110900879, 17.943069458007812, 12.833983421325684, 11.206332206726074, 10.913552284240723, 19.08650016784668, 9.732382774353027, 24.523231506347656, 11.163091659545898, 10.161331176757812, 30.590227127075195, 9.761968612670898, 8.102967262268066, 6.943395614624023, 5.9754509925842285, 84.74755096435547, 5.803269863128662, 21.89040756225586, 33.949100494384766, 5.111326217651367, 4.6917033195495605, 6.490983486175537, 4.549571514129639, 4.731880187988281, 768.7252197265625, 3.79649019241333, 286.9516296386719, 24.856307983398438, 29.511962890625, 64.3813705444336, 44.94680404663086, 45.158966064453125, 31.758983612060547, 20.504858016967773, 23.43819808959961, 72.85392761230469, 224.49908447265625, 43.663631439208984, 529.2612915039062, 25.906763076782227, 33.4156608581543, 41.13422775268555, 62.9005012512207, 35.07111740112305, 45.519710540771484, 84.44679260253906, 26.09316635131836, 38.14267349243164, 39.36625289916992, 28.141836166381836, 27.293813705444336, 24.945255279541016, 218.287841796875, 77.57091522216797, 37.39287567138672, 38.40022277832031, 35.07371139526367, 33.05353927612305, 24.92351531982422, 19.476449966430664, 22.772300720214844, 47.23257827758789, 17.624208450317383, 15.874129295349121, 26.221954345703125, 13.29328727722168, 50.80859375, 12.108007431030273, 11.337112426757812, 11.270263671875, 10.261077880859375, 9.572896957397461, 13.989775657653809, 10.894449234008789, 11.173675537109375, 9.909210205078125, 14.784470558166504, 26.902915954589844, 6.215854644775391, 7.01364278793335, 18.102888107299805, 4.515620708465576, 87.29546356201172, 35.2929801940918, 83.60308837890625, 72.02059936523438, 50.99505615234375, 81.0096664428711, 103.74676513671875, 24.83875274658203, 31.066295623779297, 41.90201187133789, 41.01569747924805, 43.283321380615234, 29.212486267089844, 262.28961181640625, 57.77363204956055, 41.41734313964844, 26.424510955810547, 57.674800872802734, 32.50731658935547, 50.51858901977539, 43.71126937866211, 29.570985794067383, 27.648622512817383, 28.35136604309082, 40.97589874267578, 30.968740463256836, 26.58202362060547, 28.178930282592773, 16.49721908569336, 16.618282318115234, 13.07003116607666, 11.059782028198242, 11.152848243713379, 9.203818321228027, 31.51657485961914, 140.13648986816406, 6.593203544616699, 86.39679718017578, 160.94235229492188, 15.747934341430664, 14.30197525024414, 25.843591690063477, 4.443802356719971, 4.049154281616211, 3.636580228805542, 1300.0238037109375, 3.3186914920806885, 3.080615520477295, 4.169711112976074, 2.633939266204834, 14.160735130310059, 5.1489787101745605, 36.97336196899414, 6.1851301193237305, 46.67695617675781, 24.26858901977539, 10.923070907592773, 61.380714416503906, 18.820144653320312, 11.08515739440918, 56.34521484375, 26.60341453552246, 21.2398738861084, 17.529638290405273, 111.13184356689453, 18.034500122070312, 34.72601318359375, 28.86673355102539, 32.057769775390625, 15.8721284866333, 19.431062698364258, 16.93808364868164, 16.587636947631836], \"Total\": [1666.0, 2176.0, 940.0, 3159.0, 6989.0, 3218.0, 620.0, 1411.0, 1430.0, 578.0, 582.0, 496.0, 393.0, 1172.0, 612.0, 365.0, 1517.0, 287.0, 222.0, 237.0, 364.0, 465.0, 471.0, 188.0, 857.0, 571.0, 207.0, 970.0, 843.0, 223.0, 48.24252700805664, 30.176950454711914, 23.791584014892578, 152.41220092773438, 30.219968795776367, 27.1852970123291, 18.602052688598633, 19.50971031188965, 17.362838745117188, 17.97503089904785, 147.32200622558594, 16.972043991088867, 15.491494178771973, 14.744102478027344, 17.122085571289062, 13.191753387451172, 13.988871574401855, 63.254451751708984, 578.5235595703125, 12.04980754852295, 12.287212371826172, 12.079627990722656, 15.42814826965332, 10.619087219238281, 11.904075622558594, 15.278517723083496, 10.378961563110352, 13.807409286499023, 9.547621726989746, 9.451521873474121, 74.31855010986328, 48.388362884521484, 287.83062744140625, 37.11876678466797, 27.997344970703125, 110.23713684082031, 1430.96484375, 25.40323829650879, 187.67369079589844, 58.61790466308594, 131.12069702148438, 102.29422760009766, 45.1261100769043, 506.05126953125, 70.58181762695312, 289.351318359375, 319.5672302246094, 80.87820434570312, 66.24630737304688, 77.01288604736328, 45.71516036987305, 415.50384521484375, 6989.1826171875, 970.818359375, 1172.0838623046875, 321.5555114746094, 290.5869445800781, 471.0475769042969, 859.7579956054688, 3159.970947265625, 1517.5313720703125, 1666.02978515625, 940.7279663085938, 489.1838684082031, 451.84478759765625, 3218.90283203125, 857.7127685546875, 43.056068420410156, 37.97351837158203, 33.23970413208008, 41.53559112548828, 40.24142074584961, 22.133174896240234, 25.62656021118164, 22.599035263061523, 27.136377334594727, 53.372074127197266, 17.857784271240234, 17.217151641845703, 112.40045166015625, 33.33071517944336, 20.282777786254883, 14.864401817321777, 41.03801727294922, 12.76118278503418, 18.661354064941406, 14.864947319030762, 14.502323150634766, 11.913616180419922, 10.656614303588867, 10.589409828186035, 102.86211395263672, 10.461819648742676, 10.36042308807373, 10.201136589050293, 65.36737060546875, 9.402505874633789, 40.125370025634766, 212.87286376953125, 43.0726203918457, 73.37557983398438, 119.43499755859375, 42.25975799560547, 571.2094116210938, 56.704193115234375, 24.83652687072754, 122.48330688476562, 210.56683349609375, 224.14187622070312, 118.06208801269531, 85.7403564453125, 174.54518127441406, 240.2257080078125, 940.7279663085938, 3159.970947265625, 101.2646255493164, 162.37911987304688, 343.772216796875, 224.2564239501953, 150.68887329101562, 228.79376220703125, 348.1353454589844, 6989.1826171875, 346.6604919433594, 190.80322265625, 1172.0838623046875, 970.818359375, 3218.90283203125, 328.1698303222656, 1517.5313720703125, 506.05126953125, 1411.033447265625, 321.5555114746094, 843.849609375, 223.16387939453125, 53.68626403808594, 34.397186279296875, 27.687026977539062, 28.163753509521484, 28.033445358276367, 27.622873306274414, 27.20650291442871, 34.17214584350586, 107.08244323730469, 22.371244430541992, 46.42411804199219, 22.624513626098633, 22.359100341796875, 21.575515747070312, 29.25560760498047, 34.366661071777344, 19.900653839111328, 40.6722297668457, 19.251510620117188, 35.37800979614258, 18.46273422241211, 18.205360412597656, 17.923908233642578, 18.496191024780273, 27.7557373046875, 16.968530654907227, 15.385974884033203, 15.332062721252441, 15.152176856994629, 104.52584838867188, 125.14666748046875, 171.42626953125, 27.600637435913086, 130.8983612060547, 41.54562759399414, 28.644351959228516, 181.37823486328125, 54.92904281616211, 373.1397705078125, 107.14847564697266, 111.58670043945312, 3218.90283203125, 151.62413024902344, 122.53471374511719, 112.5403823852539, 120.4832992553711, 169.15884399414062, 252.14340209960938, 451.84478759765625, 62.152008056640625, 167.92135620117188, 207.8247528076172, 6989.1826171875, 1411.033447265625, 857.7127685546875, 138.92617797851562, 3159.970947265625, 843.849609375, 328.1698303222656, 1172.0838623046875, 166.83609008789062, 378.1769104003906, 859.7579956054688, 63.84490203857422, 29.729202270507812, 35.14204025268555, 25.473249435424805, 20.91082191467285, 20.335601806640625, 56.22079086303711, 18.046916961669922, 22.427331924438477, 141.1482391357422, 14.3847074508667, 13.513163566589355, 16.65519905090332, 16.618852615356445, 79.87547302246094, 496.658203125, 12.338443756103516, 11.000009536743164, 13.270910263061523, 9.527812957763672, 9.237604141235352, 21.131607055664062, 7.588440418243408, 18.382049560546875, 6.838615894317627, 7.440135955810547, 6.58027458190918, 6.352294445037842, 2176.538330078125, 17.545085906982422, 39.2805061340332, 190.86502075195312, 210.14617919921875, 140.02139282226562, 15.029995918273926, 67.32894897460938, 102.50462341308594, 167.97259521484375, 63.27705764770508, 859.7579956054688, 562.2974243164062, 204.113037109375, 37.91264724731445, 6989.1826171875, 451.84478759765625, 273.0318603515625, 69.37010955810547, 970.818359375, 489.1838684082031, 940.7279663085938, 213.92530822753906, 1172.0838623046875, 857.7127685546875, 506.05126953125, 1517.5313720703125, 1430.96484375, 346.6604919433594, 465.1034851074219, 3159.970947265625, 90.97518920898438, 42.92540740966797, 36.54499816894531, 21.936309814453125, 48.11294174194336, 20.896596908569336, 19.877185821533203, 21.660734176635742, 18.82694435119629, 20.493621826171875, 17.015764236450195, 16.147960662841797, 14.704522132873535, 14.39303970336914, 21.62158966064453, 12.680155754089355, 12.03665828704834, 11.741281509399414, 11.240243911743164, 12.81420612335205, 10.346370697021484, 9.573382377624512, 10.07495403289795, 9.336477279663086, 11.09075927734375, 11.655832290649414, 9.07241153717041, 21.653228759765625, 8.542747497558594, 8.495495796203613, 57.78672409057617, 46.23992919921875, 146.78440856933594, 63.24679183959961, 36.450103759765625, 6989.1826171875, 843.849609375, 489.1838684082031, 183.6695098876953, 1517.5313720703125, 30.826805114746094, 53.916507720947266, 108.51525115966797, 190.80322265625, 940.7279663085938, 3159.970947265625, 3218.90283203125, 44.28596115112305, 71.60633087158203, 857.7127685546875, 415.50384521484375, 343.772216796875, 940.393798828125, 562.2974243164062, 290.5869445800781, 612.7186889648438, 185.75108337402344, 170.61048889160156, 1666.02978515625, 859.7579956054688, 1411.033447265625, 207.2488555908203, 42.851776123046875, 39.99946212768555, 68.13175201416016, 24.381877899169922, 17.957857131958008, 19.616973876953125, 16.938047409057617, 16.44000816345215, 15.602194786071777, 24.27655792236328, 19.282575607299805, 14.84992790222168, 12.05856990814209, 10.825369834899902, 34.35724639892578, 10.19978141784668, 69.82878112792969, 10.484230995178223, 8.939050674438477, 27.69916534423828, 50.60526657104492, 9.2620267868042, 7.9235124588012695, 7.795314311981201, 7.442512512207031, 6.962372303009033, 31.9274845123291, 6.835014820098877, 6.675587177276611, 75.72891235351562, 364.60333251953125, 1411.033447265625, 193.1029510498047, 177.78565979003906, 40.08439254760742, 36.39714050292969, 133.105712890625, 3218.90283203125, 170.61048889160156, 43.39899444580078, 328.1698303222656, 73.22328186035156, 78.76979064941406, 6989.1826171875, 138.92617797851562, 3159.970947265625, 1517.5313720703125, 843.849609375, 612.7186889648438, 240.2257080078125, 260.3343200683594, 221.1074676513672, 1172.0838623046875, 2176.538330078125, 319.5672302246094, 373.1397705078125, 289.351318359375, 1666.02978515625, 378.1769104003906, 46.171512603759766, 33.791534423828125, 49.01274490356445, 27.82335090637207, 27.806428909301758, 34.88880920410156, 23.360273361206055, 32.118431091308594, 19.373865127563477, 19.53253936767578, 27.026426315307617, 16.270620346069336, 15.226983070373535, 16.251976013183594, 12.02607536315918, 16.62950325012207, 8.854667663574219, 9.31276798248291, 62.618873596191406, 9.314624786376953, 73.06433868408203, 8.290630340576172, 7.947564125061035, 9.722779273986816, 7.543264865875244, 7.322897911071777, 7.646188259124756, 11.042325973510742, 10.283219337463379, 6.757111072540283, 56.631080627441406, 230.70529174804688, 32.46910095214844, 34.262413024902344, 27.09990692138672, 225.64572143554688, 115.33341217041016, 66.69586944580078, 465.1034851074219, 18.181514739990234, 102.46793365478516, 118.23821258544922, 471.0475769042969, 213.92530822753906, 110.45333099365234, 228.79376220703125, 204.113037109375, 378.1769104003906, 3159.970947265625, 562.2974243164062, 74.02548217773438, 319.5672302246094, 940.7279663085938, 207.8247528076172, 1517.5313720703125, 3218.90283203125, 970.818359375, 451.84478759765625, 843.849609375, 248.53883361816406, 6989.1826171875, 1430.96484375, 1172.0838623046875, 1411.033447265625, 859.7579956054688, 54.97636413574219, 94.84284973144531, 25.874982833862305, 22.92255973815918, 18.194913864135742, 22.52218246459961, 21.18688201904297, 15.941808700561523, 55.72663879394531, 14.11408805847168, 39.0800666809082, 11.148234367370605, 32.210426330566406, 15.477741241455078, 8.602890014648438, 8.538656234741211, 393.03582763671875, 8.351847648620605, 7.8628973960876465, 7.570143222808838, 7.013266563415527, 50.672542572021484, 20.58759880065918, 36.0698356628418, 16.720226287841797, 116.43315887451172, 6.097324371337891, 5.659636497497559, 5.329881191253662, 5.31312894821167, 582.773193359375, 612.7186889648438, 273.0318603515625, 18.65067481994629, 142.85165405273438, 3159.970947265625, 43.84218215942383, 37.265926361083984, 109.13294219970703, 970.818359375, 1517.5313720703125, 1430.96484375, 6989.1826171875, 343.772216796875, 278.0696105957031, 378.1769104003906, 169.15884399414062, 3218.90283203125, 102.26384735107422, 471.0475769042969, 321.5555114746094, 46.09700393676758, 60.529605865478516, 33.1608772277832, 27.911027908325195, 19.13426971435547, 237.8036651611328, 27.171789169311523, 17.666345596313477, 62.615234375, 16.84799575805664, 11.344141006469727, 11.266793251037598, 12.595030784606934, 10.683938980102539, 9.9823579788208, 8.297019004821777, 8.394935607910156, 620.9595947265625, 287.6585388183594, 7.544058322906494, 7.470485210418701, 11.565016746520996, 7.9630818367004395, 7.1235527992248535, 6.571279048919678, 8.790348052978516, 6.1979289054870605, 5.764702796936035, 95.92322540283203, 7.451693058013916, 78.1821517944336, 45.12150955200195, 41.96630096435547, 46.74418640136719, 92.31158447265625, 167.01417541503906, 24.82721710205078, 1172.0838623046875, 17.128013610839844, 60.44479751586914, 150.68887329101562, 109.41053771972656, 278.0696105957031, 260.3343200683594, 48.36048126220703, 32.7138557434082, 248.53883361816406, 506.05126953125, 6989.1826171875, 2176.538330078125, 857.7127685546875, 328.1698303222656, 859.7579956054688, 1411.033447265625, 1666.02978515625, 3218.90283203125, 562.2974243164062, 1517.5313720703125, 90.57095336914062, 47.3806266784668, 31.154590606689453, 23.369279861450195, 19.62432289123535, 18.909265518188477, 13.80173110961914, 12.17312240600586, 11.879759788513184, 20.972726821899414, 10.698686599731445, 27.00176429748535, 12.305411338806152, 11.229310989379883, 33.81032943725586, 10.795575141906738, 9.06918716430664, 8.033525466918945, 6.941683769226074, 98.80992126464844, 6.828974723815918, 25.840576171875, 40.288612365722656, 6.077574729919434, 5.657927989959717, 7.831296443939209, 5.5157976150512695, 5.756507396697998, 940.393798828125, 4.762693881988525, 365.1439208984375, 33.70208740234375, 40.81144714355469, 111.13883972167969, 77.47312927246094, 78.89684295654297, 52.6605224609375, 31.166316986083984, 36.70709991455078, 183.35311889648438, 857.7127685546875, 114.55722045898438, 6989.1826171875, 52.397064208984375, 82.47103118896484, 146.57345581054688, 348.1353454589844, 118.8890151977539, 260.3343200683594, 3218.90283203125, 65.74038696289062, 571.2094116210938, 1411.033447265625, 184.98512268066406, 970.818359375, 248.53883361816406, 222.35614013671875, 79.2600326538086, 38.355369567871094, 39.5567741394043, 36.201637268066406, 34.27994918823242, 25.89058494567871, 20.4495792388916, 23.960826873779297, 49.8321647644043, 18.61390495300293, 16.836654663085938, 27.816009521484375, 14.259403228759766, 54.797698974609375, 13.129829406738281, 12.299599647521973, 12.35283374786377, 11.288812637329102, 10.535442352294922, 15.437396049499512, 12.0281343460083, 12.779502868652344, 11.340463638305664, 17.005264282226562, 31.60112953186035, 7.379944324493408, 8.460885047912598, 22.022686004638672, 5.5379638671875, 110.27106475830078, 50.699371337890625, 135.857177734375, 120.78875732421875, 81.06941986083984, 144.8125457763672, 221.1074676513672, 40.0984992980957, 63.7017822265625, 108.51525115966797, 106.99760437011719, 125.80264282226562, 60.9666748046875, 6989.1826171875, 348.1353454589844, 185.75108337402344, 61.7121467590332, 857.7127685546875, 135.15122985839844, 859.7579956054688, 3218.90283203125, 252.14340209960938, 133.3677215576172, 346.6604919433594, 41.93995666503906, 31.932790756225586, 27.546058654785156, 29.229442596435547, 17.461275100708008, 17.706661224365234, 14.06544303894043, 12.086332321166992, 12.259502410888672, 10.16804313659668, 35.05195236206055, 158.92593383789062, 7.557233810424805, 100.13761901855469, 188.92831420898438, 18.553945541381836, 16.922561645507812, 30.95465087890625, 5.411387920379639, 5.01961612701416, 4.600609302520752, 1666.02978515625, 4.282805442810059, 4.080231666564941, 5.666661739349365, 3.5980935096740723, 19.56318473815918, 7.417797565460205, 53.97027587890625, 9.060784339904785, 77.19269561767578, 40.85016632080078, 18.003116607666016, 144.5795440673828, 35.681419372558594, 19.19027328491211, 161.2362060546875, 93.24574279785156, 74.02548217773438, 56.237098693847656, 6989.1826171875, 90.93926239013672, 940.393798828125, 857.7127685546875, 3218.90283203125, 85.7403564453125, 2176.538330078125, 365.1439208984375, 940.7279663085938], \"Category\": [\"Default\", \"Default\", \"Default\", \"Default\", \"Default\", \"Default\", \"Default\", \"Default\", \"Default\", \"Default\", \"Default\", \"Default\", \"Default\", \"Default\", \"Default\", \"Default\", \"Default\", \"Default\", \"Default\", \"Default\", \"Default\", \"Default\", \"Default\", \"Default\", \"Default\", \"Default\", \"Default\", \"Default\", \"Default\", \"Default\", \"Topic1\", \"Topic1\", \"Topic1\", \"Topic1\", \"Topic1\", \"Topic1\", \"Topic1\", \"Topic1\", \"Topic1\", \"Topic1\", \"Topic1\", \"Topic1\", \"Topic1\", \"Topic1\", \"Topic1\", \"Topic1\", \"Topic1\", \"Topic1\", \"Topic1\", \"Topic1\", \"Topic1\", \"Topic1\", \"Topic1\", \"Topic1\", \"Topic1\", \"Topic1\", \"Topic1\", \"Topic1\", \"Topic1\", \"Topic1\", \"Topic1\", \"Topic1\", \"Topic1\", \"Topic1\", \"Topic1\", \"Topic1\", \"Topic1\", \"Topic1\", \"Topic1\", \"Topic1\", \"Topic1\", \"Topic1\", \"Topic1\", \"Topic1\", \"Topic1\", \"Topic1\", \"Topic1\", \"Topic1\", \"Topic1\", \"Topic1\", \"Topic1\", \"Topic1\", \"Topic1\", \"Topic1\", \"Topic1\", \"Topic1\", \"Topic1\", \"Topic1\", \"Topic1\", \"Topic1\", \"Topic1\", \"Topic1\", \"Topic1\", \"Topic1\", \"Topic1\", \"Topic1\", \"Topic1\", \"Topic2\", \"Topic2\", \"Topic2\", \"Topic2\", \"Topic2\", \"Topic2\", \"Topic2\", \"Topic2\", \"Topic2\", \"Topic2\", \"Topic2\", \"Topic2\", \"Topic2\", \"Topic2\", \"Topic2\", \"Topic2\", \"Topic2\", \"Topic2\", \"Topic2\", \"Topic2\", \"Topic2\", \"Topic2\", \"Topic2\", \"Topic2\", \"Topic2\", \"Topic2\", \"Topic2\", \"Topic2\", \"Topic2\", \"Topic2\", \"Topic2\", \"Topic2\", \"Topic2\", \"Topic2\", \"Topic2\", \"Topic2\", \"Topic2\", \"Topic2\", \"Topic2\", \"Topic2\", \"Topic2\", \"Topic2\", \"Topic2\", \"Topic2\", \"Topic2\", \"Topic2\", \"Topic2\", \"Topic2\", \"Topic2\", \"Topic2\", \"Topic2\", \"Topic2\", \"Topic2\", \"Topic2\", \"Topic2\", \"Topic2\", \"Topic2\", \"Topic2\", \"Topic2\", \"Topic2\", \"Topic2\", \"Topic2\", \"Topic2\", \"Topic2\", \"Topic2\", \"Topic2\", \"Topic2\", \"Topic3\", \"Topic3\", \"Topic3\", \"Topic3\", \"Topic3\", \"Topic3\", \"Topic3\", \"Topic3\", \"Topic3\", \"Topic3\", \"Topic3\", \"Topic3\", \"Topic3\", \"Topic3\", \"Topic3\", \"Topic3\", \"Topic3\", \"Topic3\", \"Topic3\", \"Topic3\", \"Topic3\", \"Topic3\", \"Topic3\", \"Topic3\", \"Topic3\", \"Topic3\", \"Topic3\", \"Topic3\", \"Topic3\", \"Topic3\", \"Topic3\", \"Topic3\", \"Topic3\", \"Topic3\", \"Topic3\", \"Topic3\", \"Topic3\", \"Topic3\", \"Topic3\", \"Topic3\", \"Topic3\", \"Topic3\", \"Topic3\", \"Topic3\", \"Topic3\", \"Topic3\", \"Topic3\", \"Topic3\", \"Topic3\", \"Topic3\", \"Topic3\", \"Topic3\", \"Topic3\", \"Topic3\", \"Topic3\", \"Topic3\", \"Topic3\", \"Topic3\", \"Topic3\", \"Topic3\", \"Topic3\", \"Topic3\", \"Topic3\", \"Topic3\", \"Topic4\", \"Topic4\", \"Topic4\", \"Topic4\", \"Topic4\", \"Topic4\", \"Topic4\", \"Topic4\", \"Topic4\", \"Topic4\", \"Topic4\", \"Topic4\", \"Topic4\", \"Topic4\", \"Topic4\", \"Topic4\", \"Topic4\", \"Topic4\", \"Topic4\", \"Topic4\", \"Topic4\", \"Topic4\", \"Topic4\", \"Topic4\", \"Topic4\", \"Topic4\", \"Topic4\", \"Topic4\", \"Topic4\", \"Topic4\", \"Topic4\", \"Topic4\", \"Topic4\", \"Topic4\", \"Topic4\", \"Topic4\", \"Topic4\", \"Topic4\", \"Topic4\", \"Topic4\", \"Topic4\", \"Topic4\", \"Topic4\", \"Topic4\", \"Topic4\", \"Topic4\", \"Topic4\", \"Topic4\", \"Topic4\", \"Topic4\", \"Topic4\", \"Topic4\", \"Topic4\", \"Topic4\", \"Topic4\", \"Topic4\", \"Topic4\", \"Topic4\", \"Topic4\", \"Topic5\", \"Topic5\", \"Topic5\", \"Topic5\", \"Topic5\", \"Topic5\", \"Topic5\", \"Topic5\", \"Topic5\", \"Topic5\", \"Topic5\", \"Topic5\", \"Topic5\", \"Topic5\", \"Topic5\", \"Topic5\", \"Topic5\", \"Topic5\", \"Topic5\", \"Topic5\", \"Topic5\", \"Topic5\", \"Topic5\", \"Topic5\", \"Topic5\", \"Topic5\", \"Topic5\", \"Topic5\", \"Topic5\", \"Topic5\", \"Topic5\", \"Topic5\", \"Topic5\", \"Topic5\", \"Topic5\", \"Topic5\", \"Topic5\", \"Topic5\", \"Topic5\", \"Topic5\", \"Topic5\", \"Topic5\", \"Topic5\", \"Topic5\", \"Topic5\", \"Topic5\", \"Topic5\", \"Topic5\", \"Topic5\", \"Topic5\", \"Topic5\", \"Topic5\", \"Topic5\", \"Topic5\", \"Topic5\", \"Topic5\", \"Topic5\", \"Topic5\", \"Topic5\", \"Topic5\", \"Topic5\", \"Topic6\", \"Topic6\", \"Topic6\", \"Topic6\", \"Topic6\", \"Topic6\", \"Topic6\", \"Topic6\", \"Topic6\", \"Topic6\", \"Topic6\", \"Topic6\", \"Topic6\", \"Topic6\", \"Topic6\", \"Topic6\", \"Topic6\", \"Topic6\", \"Topic6\", \"Topic6\", \"Topic6\", \"Topic6\", \"Topic6\", \"Topic6\", \"Topic6\", \"Topic6\", \"Topic6\", \"Topic6\", \"Topic6\", \"Topic6\", \"Topic6\", \"Topic6\", \"Topic6\", \"Topic6\", \"Topic6\", \"Topic6\", \"Topic6\", \"Topic6\", \"Topic6\", \"Topic6\", \"Topic6\", \"Topic6\", \"Topic6\", \"Topic6\", \"Topic6\", \"Topic6\", \"Topic6\", \"Topic6\", \"Topic6\", \"Topic6\", \"Topic6\", \"Topic6\", \"Topic6\", \"Topic6\", \"Topic6\", \"Topic6\", \"Topic6\", \"Topic6\", \"Topic6\", \"Topic6\", \"Topic7\", \"Topic7\", \"Topic7\", \"Topic7\", \"Topic7\", \"Topic7\", \"Topic7\", \"Topic7\", \"Topic7\", \"Topic7\", \"Topic7\", \"Topic7\", \"Topic7\", \"Topic7\", \"Topic7\", \"Topic7\", \"Topic7\", \"Topic7\", \"Topic7\", \"Topic7\", \"Topic7\", \"Topic7\", \"Topic7\", \"Topic7\", \"Topic7\", \"Topic7\", \"Topic7\", \"Topic7\", \"Topic7\", \"Topic7\", \"Topic7\", \"Topic7\", \"Topic7\", \"Topic7\", \"Topic7\", \"Topic7\", \"Topic7\", \"Topic7\", \"Topic7\", \"Topic7\", \"Topic7\", \"Topic7\", \"Topic7\", \"Topic7\", \"Topic7\", \"Topic7\", \"Topic7\", \"Topic7\", \"Topic7\", \"Topic7\", \"Topic7\", \"Topic7\", \"Topic7\", \"Topic7\", \"Topic7\", \"Topic7\", \"Topic7\", \"Topic7\", \"Topic7\", \"Topic7\", \"Topic7\", \"Topic7\", \"Topic7\", \"Topic7\", \"Topic7\", \"Topic8\", \"Topic8\", \"Topic8\", \"Topic8\", \"Topic8\", \"Topic8\", \"Topic8\", \"Topic8\", \"Topic8\", \"Topic8\", \"Topic8\", \"Topic8\", \"Topic8\", \"Topic8\", \"Topic8\", \"Topic8\", \"Topic8\", \"Topic8\", \"Topic8\", \"Topic8\", \"Topic8\", \"Topic8\", \"Topic8\", \"Topic8\", \"Topic8\", \"Topic8\", \"Topic8\", \"Topic8\", \"Topic8\", \"Topic8\", \"Topic8\", \"Topic8\", \"Topic8\", \"Topic8\", \"Topic8\", \"Topic8\", \"Topic8\", \"Topic8\", \"Topic8\", \"Topic8\", \"Topic8\", \"Topic8\", \"Topic8\", \"Topic8\", \"Topic8\", \"Topic8\", \"Topic8\", \"Topic8\", \"Topic8\", \"Topic8\", \"Topic8\", \"Topic9\", \"Topic9\", \"Topic9\", \"Topic9\", \"Topic9\", \"Topic9\", \"Topic9\", \"Topic9\", \"Topic9\", \"Topic9\", \"Topic9\", \"Topic9\", \"Topic9\", \"Topic9\", \"Topic9\", \"Topic9\", \"Topic9\", \"Topic9\", \"Topic9\", \"Topic9\", \"Topic9\", \"Topic9\", \"Topic9\", \"Topic9\", \"Topic9\", \"Topic9\", \"Topic9\", \"Topic9\", \"Topic9\", \"Topic9\", \"Topic9\", \"Topic9\", \"Topic9\", \"Topic9\", \"Topic9\", \"Topic9\", \"Topic9\", \"Topic9\", \"Topic9\", \"Topic9\", \"Topic9\", \"Topic9\", \"Topic9\", \"Topic9\", \"Topic9\", \"Topic9\", \"Topic9\", \"Topic9\", \"Topic9\", \"Topic9\", \"Topic9\", \"Topic9\", \"Topic9\", \"Topic9\", \"Topic9\", \"Topic9\", \"Topic9\", \"Topic9\", \"Topic10\", \"Topic10\", \"Topic10\", \"Topic10\", \"Topic10\", \"Topic10\", \"Topic10\", \"Topic10\", \"Topic10\", \"Topic10\", \"Topic10\", \"Topic10\", \"Topic10\", \"Topic10\", \"Topic10\", \"Topic10\", \"Topic10\", \"Topic10\", \"Topic10\", \"Topic10\", \"Topic10\", \"Topic10\", \"Topic10\", \"Topic10\", \"Topic10\", \"Topic10\", \"Topic10\", \"Topic10\", \"Topic10\", \"Topic10\", \"Topic10\", \"Topic10\", \"Topic10\", \"Topic10\", \"Topic10\", \"Topic10\", \"Topic10\", \"Topic10\", \"Topic10\", \"Topic10\", \"Topic10\", \"Topic10\", \"Topic10\", \"Topic10\", \"Topic10\", \"Topic10\", \"Topic10\", \"Topic10\", \"Topic10\", \"Topic10\", \"Topic10\", \"Topic10\", \"Topic10\", \"Topic10\", \"Topic10\", \"Topic10\", \"Topic11\", \"Topic11\", \"Topic11\", \"Topic11\", \"Topic11\", \"Topic11\", \"Topic11\", \"Topic11\", \"Topic11\", \"Topic11\", \"Topic11\", \"Topic11\", \"Topic11\", \"Topic11\", \"Topic11\", \"Topic11\", \"Topic11\", \"Topic11\", \"Topic11\", \"Topic11\", \"Topic11\", \"Topic11\", \"Topic11\", \"Topic11\", \"Topic11\", \"Topic11\", \"Topic11\", \"Topic11\", \"Topic11\", \"Topic11\", \"Topic11\", \"Topic11\", \"Topic11\", \"Topic11\", \"Topic11\", \"Topic11\", \"Topic11\", \"Topic11\", \"Topic11\", \"Topic11\", \"Topic11\", \"Topic11\", \"Topic11\", \"Topic11\", \"Topic11\", \"Topic11\", \"Topic11\", \"Topic11\", \"Topic11\", \"Topic11\", \"Topic11\", \"Topic11\", \"Topic11\", \"Topic11\", \"Topic12\", \"Topic12\", \"Topic12\", \"Topic12\", \"Topic12\", \"Topic12\", \"Topic12\", \"Topic12\", \"Topic12\", \"Topic12\", \"Topic12\", \"Topic12\", \"Topic12\", \"Topic12\", \"Topic12\", \"Topic12\", \"Topic12\", \"Topic12\", \"Topic12\", \"Topic12\", \"Topic12\", \"Topic12\", \"Topic12\", \"Topic12\", \"Topic12\", \"Topic12\", \"Topic12\", \"Topic12\", \"Topic12\", \"Topic12\", \"Topic12\", \"Topic12\", \"Topic12\", \"Topic12\", \"Topic12\", \"Topic12\", \"Topic12\", \"Topic12\", \"Topic12\", \"Topic12\", \"Topic12\", \"Topic12\", \"Topic12\", \"Topic12\", \"Topic12\", \"Topic12\", \"Topic12\", \"Topic12\", \"Topic12\"], \"logprob\": [30.0, 29.0, 28.0, 27.0, 26.0, 25.0, 24.0, 23.0, 22.0, 21.0, 20.0, 19.0, 18.0, 17.0, 16.0, 15.0, 14.0, 13.0, 12.0, 11.0, 10.0, 9.0, 8.0, 7.0, 6.0, 5.0, 4.0, 3.0, 2.0, 1.0, -5.310299873352051, -5.787300109863281, -6.033899784088135, -4.183899879455566, -5.8028998374938965, -5.912499904632568, -6.294300079345703, -6.247099876403809, -6.364799976348877, -6.33050012588501, -4.227499961853027, -6.388899803161621, -6.485899925231934, -6.53879976272583, -6.394899845123291, -6.658299922943115, -6.60099983215332, -5.093400001525879, -2.8828001022338867, -6.756400108337402, -6.738399982452393, -6.764599800109863, -6.520299911499023, -6.894599914550781, -6.780799865722656, -6.533100128173828, -6.9197998046875, -6.642300128936768, -7.01230001449585, -7.023600101470947, -4.964600086212158, -5.391499996185303, -3.6982998847961426, -5.696599960327148, -5.985400199890137, -4.734600067138672, -2.436300039291382, -6.101799964904785, -4.3668999671936035, -5.379700183868408, -4.689700126647949, -4.958899974822998, -5.6468000411987305, -3.7223000526428223, -5.293700218200684, -4.223100185394287, -4.220900058746338, -5.249800205230713, -5.397200107574463, -5.293399810791016, -5.671000003814697, -4.209799766540527, -2.486999988555908, -3.776099920272827, -3.7170000076293945, -4.492800235748291, -4.702099800109863, -4.501299858093262, -4.297800064086914, -3.7799999713897705, -4.09660005569458, -4.359000205993652, -4.582399845123291, -4.767399787902832, -4.838099956512451, -4.52209997177124, -4.883900165557861, -5.4217000007629395, -5.55049991607666, -5.694399833679199, -5.4741997718811035, -5.507800102233887, -6.10890007019043, -5.962800025939941, -6.089600086212158, -5.909299850463867, -5.232999801635742, -6.335700035095215, -6.373300075531006, -4.5030999183654785, -5.7210001945495605, -6.2179999351501465, -6.5335001945495605, -5.5229997634887695, -6.693299770355225, -6.314799785614014, -6.54640007019043, -6.571700096130371, -6.769400119781494, -6.889800071716309, -6.8968000411987305, -4.624499797821045, -6.910099983215332, -6.922500133514404, -6.940100193023682, -5.086699962615967, -7.028500080108643, -5.577899932861328, -3.940000057220459, -5.514800071716309, -5.013999938964844, -4.542900085449219, -5.5507001876831055, -3.161099910736084, -5.342199802398682, -6.090199947357178, -4.686299800872803, -4.22599983215332, -4.245299816131592, -4.8242998123168945, -5.103300094604492, -4.543300151824951, -4.31820011138916, -3.3018999099731445, -2.6575000286102295, -5.053599834442139, -4.743100166320801, -4.274499893188477, -4.611299991607666, -4.8343000411987305, -4.634699821472168, -4.462100028991699, -3.158099889755249, -4.540599822998047, -4.819799900054932, -4.1072998046875, -4.234000205993652, -3.7736001014709473, -4.710999965667725, -4.3668999671936035, -4.727399826049805, -4.643899917602539, -4.934100151062012, -4.887700080871582, -3.6821999549865723, -5.111800193786621, -5.5696001052856445, -5.789100170135498, -5.77239990234375, -5.777100086212158, -5.792600154876709, -5.810800075531006, -5.585299968719482, -4.444300174713135, -6.011199951171875, -5.2820000648498535, -6.000999927520752, -6.0131001472473145, -6.048799991607666, -5.744699954986572, -5.58519983291626, -6.133600234985352, -5.420199871063232, -6.168499946594238, -5.561200141906738, -6.212900161743164, -6.227399826049805, -6.243899822235107, -6.213900089263916, -5.808300018310547, -6.302800178527832, -6.406099796295166, -6.409800052642822, -6.422399997711182, -4.52239990234375, -4.360400199890137, -4.0725998878479, -5.839399814605713, -4.369800090789795, -5.459799766540527, -5.8105998039245605, -4.177700042724609, -5.244800090789795, -3.595599889755249, -4.678199768066406, -4.646200180053711, -1.9391000270843506, -4.588200092315674, -4.7480998039245605, -4.833099842071533, -4.804599761962891, -4.627399921417236, -4.374300003051758, -4.103899955749512, -5.298900127410889, -4.796500205993652, -4.73390007019043, -2.990600109100342, -3.9595000743865967, -4.210299968719482, -5.010200023651123, -4.103400230407715, -4.673900127410889, -4.909900188446045, -4.73769998550415, -5.077199935913086, -5.001699924468994, -5.034200191497803, -4.917900085449219, -5.6996002197265625, -5.534800052642822, -5.857999801635742, -6.064000129699707, -6.093299865722656, -5.076700210571289, -6.219399929046631, -6.007199764251709, -4.170100212097168, -6.460400104522705, -6.527599811553955, -6.32450008392334, -6.327400207519531, -4.759500026702881, -2.9321000576019287, -6.63040018081665, -6.752299785614014, -6.564799785614014, -6.909900188446045, -6.945099830627441, -6.11870002746582, -7.177199840545654, -6.298099994659424, -7.287199974060059, -7.207099914550781, -7.332200050354004, -7.384399890899658, -1.5587999820709229, -6.3892998695373535, -5.616700172424316, -4.106900215148926, -4.019999980926514, -4.472300052642822, -6.548600196838379, -5.192699909210205, -4.827199935913086, -4.404300212860107, -5.3043999671936035, -3.162100076675415, -3.686500072479248, -4.5503997802734375, -5.799699783325195, -2.354300022125244, -4.28439998626709, -4.642399787902832, -5.466700077056885, -4.0960001945495605, -4.5055999755859375, -4.2221999168396, -5.056300163269043, -4.348700046539307, -4.505899906158447, -4.782100200653076, -4.458799839019775, -4.834700107574463, -5.150899887084961, -5.113999843597412, -5.117400169372559, -4.476799964904785, -5.23859977722168, -5.40939998626709, -5.932300090789795, -5.1479997634887695, -5.9832000732421875, -6.035699844360352, -5.951600074768066, -6.092800140380859, -6.008299827575684, -6.19980001449585, -6.25540018081665, -6.355299949645996, -6.378300189971924, -5.97760009765625, -6.519999980926514, -6.573200225830078, -6.598400115966797, -6.646100044250488, -6.51800012588501, -6.737199783325195, -6.823200225830078, -6.773399829864502, -6.851099967956543, -6.681700229644775, -6.632199764251709, -6.883200168609619, -6.0183000564575195, -6.950799942016602, -6.957099914550781, -5.0482001304626465, -5.304800033569336, -4.415200233459473, -5.185500144958496, -5.6697001457214355, -1.226199984550476, -3.0687999725341797, -3.642400026321411, -4.43720006942749, -2.9279000759124756, -5.9197001457214355, -5.535900115966797, -5.116300106048584, -4.755000114440918, -3.9934000968933105, -3.3951001167297363, -3.492000102996826, -5.777299880981445, -5.584499835968018, -4.597099781036377, -4.918799877166748, -5.006899833679199, -4.697500228881836, -4.927800178527832, -5.188000202178955, -4.98330020904541, -5.408400058746338, -5.451700210571289, -4.944900035858154, -5.180200099945068, -5.325200080871582, -3.571500062942505, -5.1631999015808105, -5.243500232696533, -4.722700119018555, -5.757599830627441, -6.065400123596191, -5.9791998863220215, -6.128499984741211, -6.158899784088135, -6.214600086212158, -5.77269983291626, -6.003900051116943, -6.271599769592285, -6.491799831390381, -6.6097002029418945, -5.459799766540527, -6.67519998550415, -4.754199981689453, -6.651400089263916, -6.822000026702881, -5.691999912261963, -5.09060001373291, -6.794000148773193, -6.958199977874756, -6.976799964904785, -7.029900074005127, -7.106900215148926, -5.586100101470947, -7.128399848937988, -7.167300224304199, -4.749300003051758, -3.214400053024292, -2.099299907684326, -4.000500202178955, -4.15500020980835, -5.5096001625061035, -5.617800235748291, -4.552000045776367, -2.053499937057495, -4.440899848937988, -5.534599781036377, -4.320400238037109, -5.309100151062012, -5.281199932098389, -2.781100034713745, -4.981599807739258, -3.3814001083374023, -3.7667999267578125, -4.137800216674805, -4.510499954223633, -4.89739990234375, -4.867199897766113, -5.012499809265137, -4.565199851989746, -4.584700107574463, -5.035999774932861, -5.049699783325195, -5.119200229644775, -5.002999782562256, -5.226600170135498, -5.008900165557861, -5.326099872589111, -4.959700107574463, -5.526199817657471, -5.526899814605713, -5.304800033569336, -5.707900047302246, -5.390100002288818, -5.903900146484375, -5.910699844360352, -5.587699890136719, -6.098100185394287, -6.1722002029418945, -6.1118998527526855, -6.423999786376953, -6.110799789428711, -6.750999927520752, -6.7027997970581055, -4.797699928283691, -6.703800201416016, -4.6479997634887695, -6.825099945068359, -6.8730998039245605, -6.671800136566162, -6.934899806976318, -6.966899871826172, -6.92609977722168, -6.567399978637695, -6.639400005340576, -7.061100006103516, -4.953000068664551, -3.5820000171661377, -5.511199951171875, -5.4604997634887695, -5.694399833679199, -3.672499895095825, -4.31850004196167, -4.875800132751465, -3.087399959564209, -6.092899799346924, -4.5432000160217285, -4.447400093078613, -3.2414000034332275, -3.9951000213623047, -4.597799777984619, -4.067200183868408, -4.230800151824951, -3.7832999229431152, -2.5118000507354736, -3.7427000999450684, -5.073800086975098, -4.256899833679199, -3.7054998874664307, -4.5295000076293945, -3.7946999073028564, -3.6821999549865723, -4.186800003051758, -4.520500183105469, -4.333399772644043, -4.755499839782715, -3.973599910736084, -4.3653998374938965, -4.538599967956543, -4.839399814605713, -4.861499786376953, -4.669300079345703, -4.128499984741211, -5.4430999755859375, -5.5696001052856445, -5.811600208282471, -5.598299980163574, -5.664999961853027, -5.9517998695373535, -4.706600189208984, -6.088699817657471, -5.076200008392334, -6.337399959564209, -5.277100086212158, -6.014200210571289, -6.625, -6.633399963378906, -2.8057000637054443, -6.658400058746338, -6.726799964904785, -6.775899887084961, -6.8582000732421875, -4.897900104522705, -5.798699855804443, -5.242099761962891, -6.012499809265137, -4.0725998878479, -7.02239990234375, -7.111499786376953, -7.184299945831299, -7.188199996948242, -2.643199920654297, -2.786099910736084, -3.571899890899658, -6.025599956512451, -4.301799774169922, -1.7871999740600586, -5.322500228881836, -5.4832000732421875, -4.649899959564209, -3.0897998809814453, -2.8461999893188477, -3.0404999256134033, -2.430299997329712, -4.680699825286865, -4.827600002288818, -4.80019998550415, -5.150199890136719, -4.421500205993652, -5.375199794769287, -5.172900199890137, -5.413000106811523, -4.67080020904541, -4.400400161743164, -5.016300201416016, -5.1905999183654785, -5.581299781799316, -3.062000036239624, -5.232100009918213, -5.66480016708374, -4.413099765777588, -5.72629976272583, -6.140399932861328, -6.148600101470947, -6.0391998291015625, -6.206099987030029, -6.281000137329102, -6.487800121307373, -6.477099895477295, -2.1793999671936035, -2.9530999660491943, -6.596199989318848, -6.607399940490723, -6.17080020904541, -6.545400142669678, -6.6645002365112305, -6.756100177764893, -6.4721999168396, -6.824999809265137, -6.923999786376953, -4.124899864196777, -6.683899879455566, -4.510200023651123, -5.019199848175049, -5.086299896240234, -5.001100063323975, -4.402599811553955, -3.938499927520752, -5.601799964904785, -2.536099910736084, -5.935800075531006, -4.969200134277344, -4.333499908447266, -4.577300071716309, -4.102700233459473, -4.188700199127197, -5.277599811553955, -5.526000022888184, -4.441299915313721, -4.2733001708984375, -3.040800094604492, -3.7428998947143555, -4.220099925994873, -4.593599796295166, -4.312900066375732, -4.487500190734863, -4.537700176239014, -4.706500053405762, -4.894599914550781, -4.986299991607666, -3.8894999027252197, -4.55679988861084, -4.976200103759766, -5.271599769592285, -5.454599857330322, -5.493599891662598, -5.828700065612793, -5.964399814605713, -5.990799903869629, -5.4319000244140625, -6.105400085449219, -5.18120002746582, -5.968200206756592, -6.062300205230713, -4.96019983291626, -6.102399826049805, -6.288599967956543, -6.4430999755859375, -6.593200206756592, -3.941200017929077, -6.622399806976318, -5.2947998046875, -4.855999946594238, -6.7494001388549805, -6.835000038146973, -6.51039981842041, -6.865799903869629, -6.826499938964844, -1.7360999584197998, -7.046800136566162, -2.7214999198913574, -5.167699813842773, -4.995999813079834, -4.216000080108643, -4.575399875640869, -4.570700168609619, -4.922699928283691, -5.360199928283691, -5.226500034332275, -4.092400074005127, -2.9670000076293945, -4.604300022125244, -2.1094000339508057, -5.126299858093262, -4.871799945831299, -4.664000034332275, -4.239299774169922, -4.823500156402588, -4.562699794769287, -3.944700002670288, -5.119200229644775, -4.739500045776367, -4.707900047302246, -5.043600082397461, -5.07420015335083, -5.1641998291015625, -2.7843000888824463, -3.8189001083374023, -4.548600196838379, -4.521999835968018, -4.612599849700928, -4.671899795532227, -4.9542999267578125, -5.200900077819824, -5.04449987411499, -4.315000057220459, -5.30079984664917, -5.405399799346924, -4.903500080108643, -5.582799911499023, -4.242000102996826, -5.676199913024902, -5.742000102996826, -5.747900009155273, -5.841700077056885, -5.911099910736084, -5.531700134277344, -5.781799793243408, -5.756499767303467, -5.8765997886657715, -5.476500034332275, -4.877799987792969, -6.3429999351501465, -6.2221999168396, -5.27400016784668, -6.662499904632568, -3.7007999420166016, -4.606400012969971, -3.74399995803833, -3.8931000232696533, -4.23829984664917, -3.7755000591278076, -3.52810001373291, -4.957699775695801, -4.73390007019043, -4.434700012207031, -4.456099987030029, -4.402299880981445, -4.795499801635742, -2.600600004196167, -4.113500118255615, -4.446400165557861, -4.8958001136779785, -4.115300178527832, -4.688600063323975, -4.247700214385986, -4.392499923706055, -4.783299922943115, -4.850500106811523, -4.825399875640869, -4.449999809265137, -4.730000019073486, -4.882699966430664, -4.824399948120117, -5.359799861907959, -5.352499961853027, -5.592599868774414, -5.759699821472168, -5.751299858093262, -5.943399906158447, -4.712500095367432, -3.220400094985962, -6.276899814605713, -3.7039999961853027, -3.081899881362915, -5.406300067901611, -5.502600193023682, -4.910900115966797, -6.671500205993652, -6.764500141143799, -6.8719000816345215, -0.9927999973297119, -6.963399887084961, -7.037799835205078, -6.735099792480469, -7.194499969482422, -5.512499809265137, -6.524199962615967, -4.552800178527832, -6.340799808502197, -4.319699764251709, -4.973800182342529, -5.77209997177124, -4.045899868011475, -5.228000164031982, -5.757400035858154, -4.131499767303467, -4.881899833679199, -5.107100009918213, -5.299099922180176, -3.4523000717163086, -5.270699977874756, -4.615499973297119, -4.800300121307373, -4.695400238037109, -5.398399829864502, -5.196100234985352, -5.333399772644043, -5.354300022125244], \"loglift\": [30.0, 29.0, 28.0, 27.0, 26.0, 25.0, 24.0, 23.0, 22.0, 21.0, 20.0, 19.0, 18.0, 17.0, 16.0, 15.0, 14.0, 13.0, 12.0, 11.0, 10.0, 9.0, 8.0, 7.0, 6.0, 5.0, 4.0, 3.0, 2.0, 1.0, 2.1070001125335693, 2.0992000102996826, 2.0903000831604004, 2.0829999446868896, 2.082200050354004, 2.078399896621704, 2.0759999752044678, 2.0755999088287354, 2.07450008392334, 2.0741000175476074, 2.0734000205993652, 2.0731000900268555, 2.0673000812530518, 2.0638999938964844, 2.058199882507324, 2.0555999279022217, 2.05430006980896, 2.052999973297119, 2.050299882888794, 2.048099994659424, 2.046600103378296, 2.037400007247925, 2.037100076675415, 2.03629994392395, 2.035799980163574, 2.0339999198913574, 2.0339999198913574, 2.0260000228881836, 2.0250000953674316, 2.023699998855591, 2.0206000804901123, 2.0227999687194824, 1.9328999519348145, 1.982800006866455, 1.976099967956543, 1.8562999963760376, 1.5911999940872192, 1.9569000005722046, 1.6920000314712524, 1.8428000211715698, 1.7278000116348267, 1.7067999839782715, 1.8372999429702759, 1.3446999788284302, 1.7430000305175781, 1.4027999639511108, 1.3056999444961548, 1.6507999897003174, 1.7029999494552612, 1.6562000513076782, 1.8000999689102173, 1.0542000532150269, -0.04560000076889992, 0.6394000053405762, 0.5101000070571899, 1.027500033378601, 0.9196000099182129, 0.6373000144958496, 0.23909999430179596, -0.544700026512146, -0.12790000438690186, -0.4837000072002411, -0.1354999989271164, 0.33340001106262207, 0.34209999442100525, -1.305299997329712, -0.34459999203681946, 2.1094000339508057, 2.1061999797821045, 2.095400094985962, 2.0927999019622803, 2.0908000469207764, 2.087599992752075, 2.087100028991699, 2.0861001014709473, 2.083400011062622, 2.0833001136779785, 2.075500011444092, 2.074399948120117, 2.0683999061584473, 2.065999984741211, 2.065700054168701, 2.0611000061035156, 2.055999994277954, 2.053800106048584, 2.052299976348877, 2.048099994659424, 2.047499895095825, 2.0464000701904297, 2.037600040435791, 2.036900043487549, 2.0357000827789307, 2.0357000827789307, 2.0329999923706055, 2.0309998989105225, 2.0267999172210693, 2.0241000652313232, 2.023699998855591, 1.992799997329712, 2.015899896621704, 1.9838999509811401, 1.967900037765503, 1.9989999532699585, 1.7847000360488892, 1.9134999513626099, 1.9910999536514282, 1.799299955368042, 1.7178000211715698, 1.6360000371932983, 1.698099970817566, 1.7388999462127686, 1.5880999565124512, 1.4938000440597534, 1.1449999809265137, 0.5777000188827515, 1.6222000122070312, 1.4606000185012817, 1.1791000366210938, 1.2694000005722046, 1.444100022315979, 1.2259999513626099, 0.9789000153541565, -0.7166000008583069, 0.9046000242233276, 1.222599983215332, 0.11969999969005585, 0.18140000104904175, -0.5569000244140625, 0.7889999747276306, -0.39820000529289246, 0.3395000100135803, -0.602400004863739, 0.5863000154495239, -0.3321000039577484, 2.2035000324249268, 2.1986000537872314, 2.186000108718872, 2.183500051498413, 2.183199882507324, 2.1830999851226807, 2.182300090789795, 2.17930006980896, 2.1768999099731445, 2.175600051879883, 2.1745998859405518, 2.173799991607666, 2.1735000610351562, 2.17330002784729, 2.1731998920440674, 2.172800064086914, 2.1712000370025635, 2.1691999435424805, 2.167799949645996, 2.1675000190734863, 2.166300058364868, 2.164900064468384, 2.164400100708008, 2.1635000705718994, 2.162100076675415, 2.161900043487549, 2.15939998626709, 2.1540000438690186, 2.1538000106811523, 2.1530001163482666, 2.1217000484466553, 2.1036999225616455, 2.0768001079559326, 2.1363000869750977, 2.049299955368042, 2.1070001125335693, 2.128000020980835, 1.9153000116348267, 2.0427000522613525, 1.7760000228881836, 1.9412000179290771, 1.9326000213623047, 1.2776999473571777, 1.683899998664856, 1.7371000051498413, 1.7372000217437744, 1.6974999904632568, 1.5353000164031982, 1.389299988746643, 1.0764000415802002, 1.8651000261306763, 1.3736000061035156, 1.2230000495910645, -0.5491999983787537, 0.08190000057220459, 0.32899999618530273, 1.3494000434875488, -0.8682000041007996, -0.11829999834299088, 0.5900999903678894, -0.510699987411499, 1.0993000268936157, 0.3564999997615814, -0.49729999899864197, 2.2191998958587646, 2.2018001079559326, 2.199399948120117, 2.197999954223633, 2.189300060272217, 2.1879000663757324, 2.1875998973846436, 2.1812000274658203, 2.176100015640259, 2.1737000942230225, 2.1670000553131104, 2.1623001098632812, 2.1563000679016113, 2.155600070953369, 2.153599977493286, 2.1535000801086426, 2.1505000591278076, 2.1433000564575195, 2.143199920654297, 2.1294000148773193, 2.125200033187866, 2.1240999698638916, 2.0896999835968018, 2.0841000080108643, 2.0838000774383545, 2.0796000957489014, 2.0773000717163086, 2.0604000091552734, 2.049299955368042, 2.0394999980926514, 2.006200075149536, 1.9350999593734741, 1.9257999658584595, 1.8795000314712524, 2.034899950027466, 1.8911999464035034, 1.836400032043457, 1.7654999494552612, 1.8416999578475952, 1.3747999668121338, 1.274999976158142, 1.4244999885559082, 1.8586000204086304, 0.08720000088214874, 0.895799994468689, 1.041599988937378, 1.587399959564209, 0.31949999928474426, 0.595300018787384, 0.22470000386238098, 0.8715999722480774, -0.12160000205039978, 0.033399999141693115, 0.2849000096321106, -0.49000000953674316, -0.807200014591217, 0.29440000653266907, 0.037300001829862595, -1.882200002670288, 2.3062000274658203, 2.2955000400543213, 2.285599946975708, 2.273099899291992, 2.2720000743865967, 2.2708001136779785, 2.2683000564575195, 2.2664999961853027, 2.265399932861328, 2.2651000022888184, 2.2595999240875244, 2.2564001083374023, 2.2500998973846436, 2.248500108718872, 2.242300033569336, 2.2335000038146973, 2.2323999404907227, 2.2320001125335693, 2.2279999256134033, 2.2249999046325684, 2.2197000980377197, 2.211400032043457, 2.210099935531616, 2.2084999084472656, 2.2058000564575195, 2.2056000232696533, 2.2051000595092773, 2.2000999450683594, 2.197700023651123, 2.196899890899658, 2.1886000633239746, 2.154900074005127, 1.8894000053405762, 1.9609999656677246, 2.027899980545044, 1.2151999473571777, 1.486799955368042, 1.458400011062622, 1.6433000564575195, 1.0407999753952026, 1.9455000162124634, 1.7702000141143799, 1.490399956703186, 1.2874000072479248, 0.45350000262260437, -0.1597999930381775, -0.2752000093460083, 1.7254999876022339, 1.4378999471664429, -0.05779999867081642, 0.34529998898506165, 0.44670000672340393, -0.2502000033855438, 0.03370000049471855, 0.43369999527931213, -0.10769999772310257, 0.6607999801635742, 0.7024999856948853, -1.0694999694824219, -0.6432999968528748, -1.2836999893188477, 2.388200044631958, 2.3726999759674072, 2.3612000942230225, 2.349400043487549, 2.3422000408172607, 2.3401999473571777, 2.3380000591278076, 2.3355000019073486, 2.33489990234375, 2.3315999507904053, 2.3313000202178955, 2.3304998874664307, 2.323899984359741, 2.312000036239624, 2.302000045776367, 2.296999931335449, 2.2960000038146973, 2.293299913406372, 2.29229998588562, 2.281100034713745, 2.2802000045776367, 2.278899908065796, 2.273699998855591, 2.265500068664551, 2.263200044631958, 2.256500005722046, 2.2460999488830566, 2.24399995803833, 2.2430999279022217, 2.227799892425537, 2.217099905014038, 2.180299997329712, 1.942199945449829, 2.0297999382019043, 1.9579999446868896, 2.0929999351501465, 2.081199884414673, 1.8503999710083008, 1.1632000207901, 1.7131999731063843, 1.9884999990463257, 1.1797000169754028, 1.690999984741211, 1.645799994468689, -0.33959999680519104, 1.378000020980835, -0.1462000012397766, 0.20190000534057617, 0.41769999265670776, 0.365200012922287, 0.9144999980926514, 0.8644000291824341, 0.8823999762535095, -0.33809998631477356, -0.9767000079154968, 0.49059998989105225, 0.32190001010894775, 0.5066999793052673, -1.1276999711990356, 0.1316000074148178, 2.4523000717163086, 2.4472999572753906, 2.441800117492676, 2.4414000511169434, 2.4414000511169434, 2.4365999698638916, 2.4346001148223877, 2.434000015258789, 2.4256999492645264, 2.410799980163574, 2.4089999198913574, 2.4059998989105225, 2.3982999324798584, 2.3935000896453857, 2.382499933242798, 2.3715999126434326, 2.3617000579833984, 2.3594000339508057, 2.358799934387207, 2.3582000732421875, 2.3541998863220215, 2.353300094604492, 2.347599983215332, 2.3473000526428223, 2.3380000591278076, 2.335700035095215, 2.3333001136779785, 2.324399948120117, 2.323699951171875, 2.3217999935150146, 2.303999900817871, 2.270400047302246, 2.3020999431610107, 2.299099922180176, 2.2995998859405518, 2.2021000385284424, 2.2272000312805176, 2.217600107192993, 2.0638999938964844, 2.3001999855041504, 2.120800018310547, 2.0734000205993652, 1.8971999883651733, 1.9328999519348145, 1.9910999536514282, 1.7935999631881714, 1.7440999746322632, 1.5749000310897827, 0.7233999967575073, 1.2188999652862549, 1.9154000282287598, 1.269700050354004, 0.7414000034332275, 1.42739999294281, 0.17399999499320984, -0.46540001034736633, 0.22859999537467957, 0.6596999764442444, 0.22210000455379486, 1.0225000381469727, -1.5321999788284302, -0.3379000127315521, -0.311599999666214, -0.7979000210762024, -0.3246000111103058, 2.6173999309539795, 2.6129000186920166, 2.5971999168395996, 2.591900110244751, 2.5808000564575195, 2.580699920654297, 2.575200080871582, 2.5729000568389893, 2.566499948501587, 2.5576999187469482, 2.5517001152038574, 2.544800043106079, 2.544100046157837, 2.5399999618530273, 2.5164999961853027, 2.515500068664551, 2.5139000415802, 2.512700080871582, 2.5046000480651855, 2.493499994277954, 2.487499952316284, 2.4702999591827393, 2.4702000617980957, 2.4660000801086426, 2.464400053024292, 2.463599920272827, 2.4632999897003174, 2.448699951171875, 2.436000108718872, 2.4351999759674072, 2.282599925994873, 2.089600086212158, 2.1120998859405518, 2.342099905014038, 2.029900074005127, 1.4479999542236328, 2.1903998851776123, 2.1923000812530518, 1.9510999917984009, 1.325600028038025, 1.122499942779541, 0.9869999885559082, 0.011099999770522118, 0.7728000283241272, 0.838100016117096, 0.5580000281333923, 1.0125000476837158, -1.204800009727478, 1.2907999753952026, -0.034299999475479126, 0.10740000009536743, 2.7920000553131104, 2.7899999618530273, 2.775899887084961, 2.773900032043457, 2.760699987411499, 2.7600998878479004, 2.7592999935150146, 2.7571001052856445, 2.7434000968933105, 2.743000030517578, 2.724400043487549, 2.723099946975708, 2.721100091934204, 2.7186999320983887, 2.711699962615967, 2.6898000240325928, 2.688800096511841, 2.6828999519348145, 2.6786999702453613, 2.6765999794006348, 2.6751999855041504, 2.674799919128418, 2.6733999252319336, 2.665600061416626, 2.6547999382019043, 2.647700071334839, 2.644399881362915, 2.617799997329712, 2.60509991645813, 2.6012001037597656, 2.424299955368042, 2.4649999141693115, 2.470400094985962, 2.4477999210357666, 2.365799903869629, 2.236999988555908, 2.4798998832702637, 1.6908999681472778, 2.5171000957489014, 2.222599983215332, 1.9449000358581543, 2.0211000442504883, 1.5628999471664429, 1.5428999662399292, 2.1373000144958496, 2.2797999382019043, 1.3365999460220337, 0.7936000227928162, -0.5993000268936157, -0.1348000019788742, 0.3192000091075897, 0.906499981880188, 0.2240000069141388, -0.44600000977516174, -0.6622999906539917, -1.489799976348877, 0.06700000166893005, -1.0176000595092773, 2.897900104522705, 2.878499984741211, 2.8784000873565674, 2.870500087738037, 2.8622000217437744, 2.860300064086914, 2.8399999141693115, 2.8299999237060547, 2.827899932861328, 2.81850004196167, 2.8180999755859375, 2.8164000511169434, 2.8152999877929688, 2.8127999305725098, 2.8125998973846436, 2.8120999336242676, 2.800100088119507, 2.766900062561035, 2.7627999782562256, 2.759200096130371, 2.75, 2.746799945831299, 2.741499900817871, 2.7395999431610107, 2.7255001068115234, 2.7249999046325684, 2.720099925994873, 2.7167000770568848, 2.7111001014709473, 2.686000108718872, 2.6717000007629395, 2.608299970626831, 2.5885000228881836, 2.36680006980896, 2.368299961090088, 2.35479998588562, 2.4070000648498535, 2.49399995803833, 2.464099884033203, 1.989799976348877, 1.5722999572753906, 1.948199987411499, 0.3321000039577484, 2.208400011062622, 2.0092999935150146, 1.6419999599456787, 1.20169997215271, 1.6919000148773193, 1.1689000129699707, -0.7279999852180481, 1.988700032234192, 0.20630000531673431, -0.6664999723434448, 1.0297000408172607, -0.6588000059127808, 0.6137999892234802, 3.1050000190734863, 3.101900100708008, 3.098099946975708, 3.0938000679016113, 3.0917999744415283, 3.087100028991699, 3.085400104522705, 3.074700117111206, 3.0725998878479004, 3.0699000358581543, 3.0687999725341797, 3.0645999908447266, 3.064500093460083, 3.053299903869629, 3.0478999614715576, 3.0425000190734863, 3.0420000553131104, 3.0318000316619873, 3.0280001163482666, 3.0276999473571777, 3.0250000953674316, 3.0244998931884766, 2.9892001152038574, 2.988600015640259, 2.9835000038146973, 2.9625000953674316, 2.9518001079559326, 2.9358999729156494, 2.927500009536743, 2.9193999767303467, 2.8898000717163086, 2.7613000869750977, 2.638000011444092, 2.6064000129699707, 2.659899950027466, 2.54259991645813, 2.36680006980896, 2.6445999145507812, 2.405400037765503, 2.1719000339508057, 2.164599895477295, 2.05649995803833, 2.3877999782562256, -0.15919999778270721, 1.3273999691009521, 1.6227999925613403, 2.2753000259399414, 0.42399999499320984, 1.6986000537872314, 0.2892000079154968, -1.1756999492645264, 0.9803000092506409, 1.5499999523162842, 0.6197999715805054, 3.107300043106079, 3.099900007247925, 3.0950000286102295, 3.0940001010894775, 3.0738000869750977, 3.0671000480651855, 3.0571999549865723, 3.041800022125244, 3.0360000133514404, 3.0309998989105225, 3.0243000984191895, 3.0048000812530518, 2.9941000938415527, 2.9830000400543213, 2.9702999591827393, 2.966599941253662, 2.9623000621795654, 2.9500999450683594, 2.9335999488830566, 2.9156999588012695, 2.895400047302246, 2.882499933242798, 2.875499963760376, 2.849600076675415, 2.8238000869750977, 2.818700075149536, 2.8073999881744385, 2.765500068664551, 2.7523999214172363, 2.748800039291382, 2.627500057220459, 2.6098999977111816, 2.6308999061584473, 2.273900032043457, 2.4909000396728516, 2.5817999839782715, 2.079200029373169, 1.8763999938964844, 1.882099986076355, 1.964900016784668, -1.0108000040054321, 1.5126999616622925, -0.16820000112056732, -0.26100000739097595, -1.478700041770935, 1.4437999725341797, -1.5880000591278076, 0.05990000069141388, -0.9074000120162964]}, \"token.table\": {\"Topic\": [5, 2, 10, 2, 7, 6, 7, 1, 6, 3, 1, 2, 3, 4, 5, 6, 7, 9, 10, 11, 12, 1, 2, 3, 5, 6, 9, 10, 11, 12, 1, 2, 6, 10, 12, 1, 2, 4, 9, 11, 1, 2, 3, 4, 5, 6, 7, 8, 9, 1, 2, 3, 4, 5, 6, 7, 9, 10, 12, 8, 5, 10, 2, 3, 4, 5, 6, 9, 8, 1, 1, 3, 4, 11, 11, 12, 7, 8, 3, 4, 5, 7, 12, 2, 3, 5, 6, 7, 8, 9, 10, 3, 4, 4, 5, 2, 1, 2, 3, 4, 5, 6, 7, 8, 9, 10, 11, 12, 10, 4, 7, 7, 5, 3, 3, 10, 4, 5, 7, 8, 10, 1, 2, 3, 5, 6, 3, 7, 2, 12, 3, 5, 1, 1, 2, 3, 4, 5, 7, 8, 9, 10, 11, 1, 2, 4, 9, 8, 9, 1, 3, 4, 5, 6, 11, 12, 10, 1, 3, 6, 7, 10, 12, 2, 9, 1, 2, 3, 5, 7, 1, 2, 3, 4, 5, 6, 7, 9, 10, 11, 12, 1, 5, 5, 6, 7, 10, 11, 1, 2, 3, 4, 5, 6, 7, 8, 9, 10, 11, 12, 8, 3, 10, 1, 2, 3, 5, 7, 8, 9, 10, 11, 2, 4, 5, 6, 7, 9, 12, 7, 1, 2, 3, 4, 5, 6, 9, 10, 10, 4, 6, 9, 2, 3, 4, 5, 10, 4, 5, 7, 12, 1, 2, 3, 4, 5, 6, 7, 8, 9, 1, 2, 3, 4, 5, 6, 7, 8, 9, 10, 11, 1, 2, 3, 5, 6, 7, 8, 9, 10, 11, 4, 7, 4, 1, 3, 6, 7, 12, 2, 3, 4, 5, 6, 7, 8, 9, 11, 12, 1, 4, 5, 11, 5, 2, 3, 6, 8, 2, 12, 11, 6, 1, 2, 3, 4, 5, 6, 7, 9, 10, 11, 12, 9, 6, 10, 3, 4, 7, 9, 5, 2, 3, 4, 6, 1, 5, 10, 1, 2, 5, 9, 10, 12, 1, 2, 3, 4, 7, 11, 2, 3, 7, 1, 2, 5, 6, 9, 2, 4, 11, 12, 7, 1, 9, 8, 12, 1, 1, 1, 2, 4, 5, 6, 7, 9, 10, 11, 12, 8, 11, 1, 3, 4, 5, 6, 7, 9, 11, 3, 4, 5, 7, 9, 12, 1, 2, 3, 4, 5, 6, 7, 8, 9, 10, 11, 12, 1, 3, 9, 1, 5, 1, 4, 5, 9, 1, 2, 3, 4, 5, 8, 9, 10, 5, 2, 3, 5, 6, 1, 2, 3, 6, 8, 10, 11, 3, 1, 2, 3, 4, 5, 6, 7, 8, 9, 10, 12, 1, 3, 10, 1, 2, 8, 1, 2, 3, 4, 5, 6, 7, 10, 11, 3, 4, 7, 2, 4, 5, 6, 8, 9, 10, 11, 2, 1, 2, 4, 5, 7, 1, 6, 7, 4, 7, 9, 11, 6, 1, 1, 2, 3, 4, 6, 7, 9, 11, 1, 2, 3, 4, 5, 6, 9, 2, 4, 8, 9, 1, 2, 3, 4, 9, 10, 11, 2, 3, 4, 5, 6, 7, 9, 10, 11, 10, 10, 10, 1, 2, 4, 5, 9, 12, 4, 5, 6, 7, 10, 1, 2, 3, 4, 5, 6, 7, 9, 10, 11, 7, 9, 6, 6, 2, 5, 9, 6, 7, 1, 2, 3, 4, 5, 6, 7, 8, 9, 10, 11, 12, 10, 2, 5, 8, 10, 3, 6, 7, 10, 6, 5, 1, 12, 1, 10, 12, 7, 1, 5, 6, 12, 1, 2, 3, 5, 6, 8, 10, 5, 1, 2, 3, 4, 5, 6, 8, 10, 11, 6, 9, 7, 2, 3, 4, 6, 7, 8, 10, 11, 1, 2, 3, 5, 7, 1, 1, 5, 12, 3, 1, 2, 3, 6, 9, 6, 8, 1, 3, 5, 8, 9, 11, 2, 3, 5, 11, 12, 4, 5, 3, 5, 7, 9, 12, 10, 2, 11, 12, 5, 3, 6, 11, 8, 1, 6, 7, 3, 8, 12, 11, 1, 2, 3, 4, 5, 9, 10, 11, 12, 1, 2, 3, 4, 5, 7, 9, 10, 1, 2, 5, 6, 7, 8, 9, 12, 6, 5, 9, 10, 3, 4, 5, 6, 9, 5, 8, 9, 1, 3, 4, 5, 6, 7, 8, 9, 10, 1, 2, 4, 5, 6, 7, 8, 9, 11, 7, 5, 7, 8, 10, 4, 3, 8, 10, 11, 12, 3, 6, 8, 12, 3, 3, 6, 10, 1, 2, 3, 4, 5, 6, 7, 8, 9, 10, 12, 4, 1, 2, 3, 4, 5, 6, 7, 8, 1, 8, 11, 4, 1, 1, 7, 1, 2, 3, 6, 7, 9, 10, 3, 4, 11, 1, 3, 12, 4, 1, 6, 9, 11, 1, 5, 6, 1, 12, 8, 10, 1, 2, 3, 4, 5, 6, 7, 8, 9, 10, 11, 12, 1, 2, 5, 7, 9, 2, 3, 5, 6, 7, 9, 11, 12, 1, 2, 3, 5, 6, 9, 12, 5, 6, 1, 3, 4, 5, 6, 8, 10, 3, 8, 3, 1, 3, 4, 5, 6, 9, 11, 10, 1, 4, 5, 6, 8, 11, 3, 8, 2, 11, 6, 10, 12, 7, 1, 2, 3, 4, 5, 6, 7, 9, 10, 11, 12, 7, 6, 1, 2, 3, 4, 5, 6, 7, 8, 9, 10, 11, 1, 2, 3, 5, 7, 9, 10, 11, 11, 1, 5, 11, 12, 4, 11, 2, 6, 1, 2, 3, 4, 5, 6, 7, 8, 9, 3, 1, 2, 3, 4, 6, 7, 8, 9, 10, 5, 10, 1, 2, 4, 5, 1, 1, 2, 3, 4, 5, 7, 10, 11, 3, 5, 6, 2, 3, 4, 7, 2, 6, 9, 4, 1, 2, 4, 5, 6, 7, 8, 9, 5, 9, 10, 2, 6, 7, 12, 2, 7, 1, 2, 3, 6, 7, 9, 6, 5, 4, 5, 2, 4, 5, 8, 9, 2, 1, 2, 4, 7, 12, 6, 5, 1, 2, 5, 7, 2, 1, 12, 1, 4, 1, 2, 5, 7, 9, 10, 1, 5, 12, 9, 3, 11, 1, 2, 3, 4, 5, 6, 7, 8, 9, 10, 11, 12, 1, 2, 3, 4, 5, 6, 7, 10, 11, 3, 4, 5, 6, 7, 9, 12, 2, 1, 2, 3, 4, 5, 6, 7, 8, 9, 10, 11, 12, 1, 2, 3, 4, 5, 7, 8, 9, 11, 12, 3, 5, 7, 9, 1, 1, 3, 5, 8, 9, 10, 2, 1, 11, 2, 3, 4, 6, 7, 9, 10, 11, 1, 5, 9, 4, 1, 2, 3, 4, 5, 6, 9, 12, 5, 10, 12, 1, 2, 3, 4, 5, 6, 7, 8, 9, 10, 9, 8, 8, 1, 6, 7, 11, 7, 1, 2, 3, 4, 5, 6, 7, 8, 9, 10, 11, 12, 1, 2, 3, 4, 6, 7, 8, 10, 11, 12, 2, 3, 4, 9, 11, 2, 1, 4, 5, 11, 5, 1, 6, 10, 2, 11, 8, 1, 4, 10, 11, 11, 8, 1, 2, 3, 4, 5, 6, 7, 9, 10, 11, 12, 3, 5, 11, 3, 4, 5, 4, 8, 12, 2, 9, 1, 1, 3, 4, 5, 12, 7, 8, 10, 6, 4, 10, 2, 5, 1, 2, 3, 4, 5, 6, 7, 8, 9, 11, 2, 1, 2, 6, 9, 8, 10, 2, 3, 8, 5, 1, 2, 3, 4, 5, 6, 7, 8, 9, 10, 11, 12, 2, 1, 2, 3, 9, 11, 5, 2, 6, 7, 8, 2, 3, 5, 6, 9, 10, 2, 3, 4, 7, 9, 8, 1, 1, 2, 4, 5, 7, 5, 7, 9, 10, 1, 2, 5, 7, 1, 3, 4, 5, 7, 2, 3, 4, 5, 6, 7, 11, 5, 8, 7, 9, 1, 2, 3, 4, 5, 6, 7, 8, 9, 10, 11, 12, 6, 5, 10, 12, 1, 2, 3, 4, 5, 6, 7, 8, 9, 10, 11, 12, 4, 6, 6, 1, 2, 3, 5, 6, 7, 8, 9, 1, 2, 3, 4, 5, 6, 7, 8, 9, 10, 11, 12, 12, 7, 5, 1, 2, 4, 5, 6, 9, 11, 12, 4, 1, 2, 3, 4, 5, 6, 7, 8, 9, 10, 11, 12, 2, 3, 4, 5, 10, 3, 1, 2, 3, 7, 9, 11, 1, 2, 3, 4, 5, 6, 8, 10, 11, 12, 2, 5, 6, 9, 10, 12, 1, 3, 5, 9, 1, 9, 1, 12, 4, 9, 1, 2, 4, 6, 10, 3, 5, 7, 8, 4, 1, 3, 4, 5, 7, 12, 2, 4, 7, 10, 1, 2, 12, 2, 6, 10, 2, 3, 8, 12, 5, 6, 1, 3, 4, 5, 7, 9, 1, 2, 3, 4, 5, 6, 7, 8, 9, 10, 11, 12, 3, 3, 11, 8, 11, 2, 1, 2, 7, 12, 9, 2, 12, 1, 2, 3, 4, 5, 6, 7, 8, 9, 10, 11, 12, 9, 11, 3, 9, 4, 5, 12, 4, 4, 10, 1, 2, 3, 6, 8, 10, 5, 5, 6, 1, 2, 3, 4, 5, 6, 7, 9, 10, 5, 9, 10, 12, 2, 6, 9, 7, 11, 2, 3, 5, 10, 11, 5, 2, 3, 4, 6, 7, 8, 9, 10, 12, 1, 2, 4, 5, 7, 9, 1, 3, 4, 5, 6, 7, 8, 9, 10, 12, 12, 2, 10, 5, 8, 10, 5, 7, 3, 4, 6, 10, 5, 9, 1, 2, 3, 4, 5, 6, 10, 11, 1, 6, 1, 2, 3, 4, 5, 6, 7, 8, 9, 11, 12, 1, 2, 3, 4, 5, 6, 7, 8, 9, 10, 11, 1, 2, 3, 4, 5, 6, 7, 8, 9, 10, 11, 1, 2, 3, 7, 1, 2, 3, 4, 5, 7, 8, 9, 10, 11, 12, 1, 2, 3, 5, 7, 8, 9, 10, 11, 12, 2, 3, 7, 5, 2, 3, 4, 5, 6, 7, 8, 9, 12, 9, 6, 1, 2, 3, 4, 5, 6, 9, 10, 6, 9, 2, 11, 12, 5, 7, 8, 9, 1, 2, 9, 7, 5, 1, 4, 8, 11, 12, 1, 4, 5, 6, 7, 9, 11, 11, 1, 3, 4, 5, 6, 7, 8, 10, 11, 5, 12, 2, 9, 5, 1, 10, 11, 4, 6, 11, 1, 3, 8, 9, 11, 3, 4, 5, 7, 8, 9, 10, 12, 5, 3, 4, 12, 5, 2, 3, 4, 5, 6, 7, 8, 12, 1, 2, 3, 4, 5, 6, 7, 8, 9, 10, 11, 12, 12, 3, 8, 2, 1, 3, 4, 5, 7, 11, 12, 3, 1, 2, 3, 4, 5, 6, 7, 11, 5, 7, 1, 2, 5, 9, 10, 12, 2, 4, 6, 7, 10, 12, 3, 5, 6, 7, 11, 12, 1, 2, 3, 4, 5, 6, 7, 8, 9, 10, 11, 12, 1, 2, 3, 5, 6, 7, 11, 3, 1, 2, 3, 4, 5, 6, 7, 11, 12, 1, 2, 4, 5, 6, 7, 9, 11, 1, 5, 6, 9, 10, 11, 2, 11, 9, 3, 4, 5, 6, 9, 11, 11, 1, 2, 3, 5, 6, 7, 9, 4, 9, 4, 2, 1, 3, 4, 6, 10, 11, 10, 1, 8, 4, 9, 1, 2, 4, 5, 7, 9, 3, 12, 2, 3, 4, 5, 9, 10, 11, 1, 3, 4, 5, 7, 8, 9, 11, 12, 2, 5, 7, 2, 9, 7, 4, 1, 4, 5, 9, 10, 2, 5, 7, 8, 9, 4, 7, 8, 1, 2, 3, 4, 5, 6, 7, 11, 9, 7, 1, 5, 7, 10, 2, 6, 3, 10, 1, 2, 4, 5, 6, 9, 8, 3, 5, 3], \"Freq\": [0.955869734287262, 0.9691506624221802, 0.024850016459822655, 0.09724581241607666, 0.8752123117446899, 0.9466608166694641, 0.9417697787284851, 0.9426431059837341, 0.8979753255844116, 0.9349915385246277, 0.07469356805086136, 0.0071136727929115295, 0.008892090991139412, 0.38235992193222046, 0.10136984288692474, 0.02134101837873459, 0.2845469117164612, 0.06402305513620377, 0.019562600180506706, 0.033789947628974915, 0.0035568363964557648, 0.08020845800638199, 0.578646719455719, 0.14895856380462646, 0.08020845800638199, 0.040104229003190994, 0.005729175638407469, 0.01718752644956112, 0.03437505289912224, 0.011458351276814938, 0.25668737292289734, 0.03208592161536217, 0.03208592161536217, 0.6738043427467346, 0.03208592161536217, 0.020678041502833366, 0.14474628865718842, 0.2481364905834198, 0.5169510245323181, 0.06203412264585495, 0.09815211594104767, 0.6067585349082947, 0.022307299077510834, 0.017845839262008667, 0.004461459815502167, 0.08476773649454117, 0.1204594150185585, 0.031230218708515167, 0.008922919631004333, 0.23785696923732758, 0.22704528272151947, 0.08649343997240067, 0.11892848461866379, 0.021623359993100166, 0.032435040920972824, 0.09189928323030472, 0.005405839998275042, 0.1513635218143463, 0.02702920138835907, 0.9299200773239136, 0.9364606738090515, 0.8786091804504395, 0.05212501809000969, 0.03127501159906387, 0.05212501809000969, 0.010425004176795483, 0.04170001670718193, 0.8131502866744995, 0.9597532153129578, 0.9128776788711548, 0.17824691534042358, 0.25926825404167175, 0.11342985928058624, 0.4213109016418457, 0.9841025471687317, 0.9101189374923706, 0.11961560696363449, 0.8373092412948608, 0.0973179042339325, 0.032439298927783966, 0.6812252998352051, 0.16219650208950043, 0.7004754543304443, 0.048046134412288666, 0.07550106942653656, 0.03946647047996521, 0.05490987002849579, 0.07378513365983963, 0.7035326957702637, 0.0017159334383904934, 0.0017159334383904934, 0.13306723535060883, 0.7984033823013306, 0.9343219995498657, 0.9138749241828918, 0.9109735488891602, 0.06867151707410812, 0.21107788383960724, 0.04557003825902939, 0.01613938808441162, 0.08386152982711792, 0.07879818975925446, 0.17310285568237305, 0.3050661087036133, 0.005379796493798494, 0.0056962547823786736, 0.004746878985315561, 0.001265834434889257, 0.9681862592697144, 0.9363574981689453, 0.9704079031944275, 0.9709984660148621, 0.9032143354415894, 0.987217128276825, 0.9392148852348328, 0.8837157487869263, 0.06922005116939545, 0.8825556635856628, 0.01730501279234886, 0.01730501279234886, 0.01730501279234886, 0.16878141462802887, 0.07622386515140533, 0.08711298555135727, 0.5063442587852478, 0.15789228677749634, 0.9367432594299316, 0.03602858632802963, 0.1348109096288681, 0.6740545034408569, 0.9057762026786804, 0.03623104840517044, 0.929310142993927, 0.034112587571144104, 0.006822517607361078, 0.3343033790588379, 0.10233776271343231, 0.006822517607361078, 0.006822517607361078, 0.13645035028457642, 0.027290070429444313, 0.27972322702407837, 0.054580140858888626, 0.6490927934646606, 0.3019036054611206, 0.03019036166369915, 0.015095180831849575, 0.8381378650665283, 0.9568747878074646, 0.010357169434428215, 0.09839311242103577, 0.06214301660656929, 0.11392886191606522, 0.6939303874969482, 0.010357169434428215, 0.0051785847172141075, 0.8226965665817261, 0.012584478594362736, 0.006292239297181368, 0.03775343671441078, 0.056630153208971024, 0.006292239297181368, 0.880913496017456, 0.27810946106910706, 0.6845771074295044, 0.06435833871364594, 0.03217916935682297, 0.7079417109489441, 0.17698542773723602, 0.016089584678411484, 0.45449939370155334, 0.16599108278751373, 0.03754560276865959, 0.14227807521820068, 0.017784759402275085, 0.003952168859541416, 0.003952168859541416, 0.13239765167236328, 0.03161735087633133, 0.007904337719082832, 0.001976084429770708, 0.9596303701400757, 0.033090703189373016, 0.11616931110620499, 0.012907701544463634, 0.2839694321155548, 0.5808465480804443, 0.9670190215110779, 0.032309144735336304, 0.06803560256958008, 0.38988441228866577, 0.005902632139623165, 0.07487022876739502, 0.29171431064605713, 0.052813027054071426, 0.021435875445604324, 0.013669254258275032, 0.02609584853053093, 0.013669254258275032, 0.009941275231540203, 0.8970030546188354, 0.9099196195602417, 0.9259446263313293, 0.2308339774608612, 0.10552410036325455, 0.5869778394699097, 0.03297628089785576, 0.019785769283771515, 0.006595256272703409, 0.006595256272703409, 0.006595256272703409, 0.006595256272703409, 0.00975565705448389, 0.6731403470039368, 0.048778288066387177, 0.00975565705448389, 0.08780092000961304, 0.05853394418954849, 0.11706788837909698, 0.9745244979858398, 0.013272380456328392, 0.5043504238128662, 0.019908569753170013, 0.006636190228164196, 0.006636190228164196, 0.006636190228164196, 0.4180799722671509, 0.026544760912656784, 0.9414068460464478, 0.014677444472908974, 0.9540339112281799, 0.014677444472908974, 0.014169500209391117, 0.0070847501046955585, 0.9422717690467834, 0.028339000418782234, 0.0070847501046955585, 0.9139226078987122, 0.012519488111138344, 0.03755846247076988, 0.012519488111138344, 0.4380924701690674, 0.0031292319763451815, 0.015646159648895264, 0.03442155197262764, 0.02190462313592434, 0.150203138589859, 0.300406277179718, 0.012516927905380726, 0.02190462313592434, 0.16598619520664215, 0.02213149331510067, 0.31869351863861084, 0.26115161180496216, 0.008852597326040268, 0.039836689829826355, 0.16155990958213806, 0.004426298663020134, 0.004426298663020134, 0.006639447994530201, 0.004426298663020134, 0.017338138073682785, 0.0910252183675766, 0.008669069036841393, 0.0303417406976223, 0.008669069036841393, 0.8148924708366394, 0.004334534518420696, 0.008669069036841393, 0.004334534518420696, 0.008669069036841393, 0.9118160605430603, 0.9279801249504089, 0.9754718542098999, 0.7534440755844116, 0.1994410753250122, 0.0221601203083992, 0.858864426612854, 0.9242510199546814, 0.0650276392698288, 0.5024862885475159, 0.011823207139968872, 0.053204432129859924, 0.0650276392698288, 0.02955801784992218, 0.1950829178094864, 0.04138122498989105, 0.023646414279937744, 0.005911603569984436, 0.02467021532356739, 0.185026615858078, 0.16035640239715576, 0.6290904879570007, 0.9560765624046326, 0.05728296935558319, 0.014320742338895798, 0.9022067785263062, 0.014320742338895798, 0.9365283250808716, 0.8851260542869568, 0.8130142688751221, 0.9446189403533936, 0.12746712565422058, 0.014996131882071495, 0.09747485816478729, 0.1349651962518692, 0.0074980659410357475, 0.15745939314365387, 0.014996131882071495, 0.044988397508859634, 0.18745166063308716, 0.20994585752487183, 0.9707889556884766, 0.8422763347625732, 0.021105673164129257, 0.9708609580993652, 0.1336720734834671, 0.712917685508728, 0.014852452091872692, 0.1336720734834671, 0.9784414768218994, 0.6023821234703064, 0.05925070121884346, 0.2666281461715698, 0.05925070121884346, 0.6800618171691895, 0.2833591103553772, 0.02833591029047966, 0.6182135343551636, 0.08654989302158356, 0.13600698113441467, 0.04945708066225052, 0.04945708066225052, 0.04945708066225052, 0.05795241519808769, 0.25664639472961426, 0.008278916589915752, 0.016557833179831505, 0.049673497676849365, 0.5960819721221924, 0.9488019943237305, 0.9733254909515381, 0.9215391874313354, 0.7619936466217041, 0.09071353077888489, 0.06349947303533554, 0.07257082313299179, 0.8338360786437988, 0.6764609217643738, 0.10496807098388672, 0.011663119308650494, 0.1866099089384079, 0.9651778936386108, 0.9667283892631531, 0.8673474192619324, 0.9369155764579773, 0.9600906372070312, 0.910624086856842, 0.8464245200157166, 0.033310145139694214, 0.04282733052968979, 0.7328231930732727, 0.06186170130968094, 0.0047585922293365, 0.06662029027938843, 0.028551554307341576, 0.0047585922293365, 0.0047585922293365, 0.019034368917346, 0.8200318217277527, 0.9599000811576843, 0.644736111164093, 0.1864939033985138, 0.005328397266566753, 0.05328397452831268, 0.047955576330423355, 0.021313589066267014, 0.04262717813253403, 0.005328397266566753, 0.06754431128501892, 0.013508861884474754, 0.040526583790779114, 0.56737220287323, 0.013508861884474754, 0.283686101436615, 0.1031116396188736, 0.37205228209495544, 0.0042520263232290745, 0.13393883407115936, 0.15519896149635315, 0.021260131150484085, 0.17645908892154694, 0.0010630065808072686, 0.0042520263232290745, 0.0021260131616145372, 0.008504052646458149, 0.018071111291646957, 0.8620976209640503, 0.05388110131025314, 0.02694055065512657, 0.9169315099716187, 0.06323665380477905, 0.1527475267648697, 0.7891955375671387, 0.025457920506596565, 0.8733603358268738, 0.003662576200440526, 0.018312880769371986, 0.010987728834152222, 0.303993821144104, 0.062263794243335724, 0.59333735704422, 0.007325152400881052, 0.003662576200440526, 0.9289098381996155, 0.09333458542823792, 0.8691783547401428, 0.01166682317852974, 0.02333364635705948, 0.232166588306427, 0.1502254456281662, 0.0136568583548069, 0.4916469156742096, 0.0136568583548069, 0.0546274334192276, 0.0409705750644207, 0.9556539058685303, 0.03870106488466263, 0.008600236847996712, 0.0666518360376358, 0.1118030771613121, 0.017200473695993423, 0.019350532442331314, 0.6622182130813599, 0.002150059211999178, 0.05160142108798027, 0.019350532442331314, 0.002150059211999178, 0.85722416639328, 0.10715302079916, 0.7661566734313965, 0.9240532517433167, 0.06209169700741768, 0.90032958984375, 0.0329124815762043, 0.1042228564620018, 0.008228120394051075, 0.002742706798017025, 0.0191989466547966, 0.8063557744026184, 0.0109708271920681, 0.002742706798017025, 0.01371353305876255, 0.9484538435935974, 0.11070148646831512, 0.8487114310264587, 0.12573783099651337, 0.05388764292001724, 0.005987515673041344, 0.07185018807649612, 0.05388764292001724, 0.5628264546394348, 0.0958002507686615, 0.03592509403824806, 0.9383843541145325, 0.12852005660533905, 0.07090761512517929, 0.004431725945323706, 0.031022081151604652, 0.7578251361846924, 0.32258811593055725, 0.6682182550430298, 0.9746269583702087, 0.030568087473511696, 0.3362489640712738, 0.5807936787605286, 0.030568087473511696, 0.8637418150901794, 0.9074323177337646, 0.018137123435735703, 0.018137123435735703, 0.018137123435735703, 0.054411374032497406, 0.027205687016248703, 0.027205687016248703, 0.036274246871471405, 0.7889649271965027, 0.02688492462038994, 0.04480820894241333, 0.7527778744697571, 0.02688492462038994, 0.12546297907829285, 0.008961641229689121, 0.008961641229689121, 0.8822546601295471, 0.9564425349235535, 0.94398033618927, 0.8436765074729919, 0.31526222825050354, 0.036376409232616425, 0.12125469744205475, 0.012125469744205475, 0.02425093948841095, 0.4001404941082001, 0.07275281846523285, 0.10755401104688644, 0.16133101284503937, 0.015364858321845531, 0.007682429160922766, 0.2151080220937729, 0.011523643508553505, 0.28040868043899536, 0.17669586837291718, 0.02304728701710701, 0.8713484406471252, 0.9419108033180237, 0.9826549887657166, 0.023828642442822456, 0.023828642442822456, 0.023828642442822456, 0.21445778012275696, 0.7148593068122864, 0.9262648224830627, 0.06761542707681656, 0.06010260432958603, 0.5784875750541687, 0.09766673296689987, 0.18030782043933868, 0.08851735293865204, 0.004023516084998846, 0.11668197065591812, 0.06839977204799652, 0.02414109744131565, 0.02414109744131565, 0.23336394131183624, 0.22934041917324066, 0.10058790445327759, 0.10461141914129257, 0.016520841047167778, 0.974729597568512, 0.8949496150016785, 0.9614031910896301, 0.9300730228424072, 0.030002357438206673, 0.8067210912704468, 0.09580597281455994, 0.8896268606185913, 0.08394418656826019, 0.059460464864969254, 0.15156589448451996, 0.1107596904039383, 0.09327131509780884, 0.019820155575871468, 0.01282480638474226, 0.02331782877445221, 0.08277829736471176, 0.2611596882343292, 0.06762170791625977, 0.03381085395812988, 0.8939156532287598, 0.9627041220664978, 0.2450292855501175, 0.02450292930006981, 0.7350878715515137, 0.9618756771087646, 0.00933859869837761, 0.00933859869837761, 0.00933859869837761, 0.9685489535331726, 0.9403045177459717, 0.8671388030052185, 0.869450032711029, 0.029576759785413742, 0.9168795347213745, 0.059153519570827484, 0.9154888391494751, 0.04989473149180412, 0.02494736574590206, 0.7484209537506104, 0.14968419075012207, 0.007639515213668346, 0.022918544709682465, 0.84034663438797, 0.022918544709682465, 0.0687556341290474, 0.007639515213668346, 0.015279030427336693, 0.8817942142486572, 0.08997754752635956, 0.14396406710147858, 0.008997754193842411, 0.08097979426383972, 0.008997754193842411, 0.026993263512849808, 0.053986527025699615, 0.5758562684059143, 0.960644543170929, 0.8778327703475952, 0.9762022495269775, 0.9290866851806641, 0.36168184876441956, 0.15140171349048615, 0.008411206305027008, 0.008411206305027008, 0.15140171349048615, 0.008411206305027008, 0.2943921983242035, 0.016822412610054016, 0.15723004937171936, 0.4035571217536926, 0.03144600987434387, 0.356388121843338, 0.04716901481151581, 0.9163192510604858, 0.11067754775285721, 0.695687472820282, 0.1739218682050705, 0.9191081523895264, 0.008896761573851109, 0.9341599345207214, 0.035587046295404434, 0.008896761573851109, 0.8815123438835144, 0.21446944773197174, 0.7506430745124817, 0.06842724978923798, 0.22809083759784698, 0.045618169009685516, 0.638654351234436, 0.022809084504842758, 0.9145225286483765, 0.1270323097705841, 0.0052930130623281, 0.0052930130623281, 0.0052930130623281, 0.8521750569343567, 0.9042333960533142, 0.9016515016555786, 0.03079851157963276, 0.06159702315926552, 0.8315598368644714, 0.03079851157963276, 0.03079851157963276, 0.9346941709518433, 0.10984882712364197, 0.009986257180571556, 0.8588181138038635, 0.9577233791351318, 0.9131191372871399, 0.054746825248003006, 0.9306960105895996, 0.9409220814704895, 0.004825117066502571, 0.9939741492271423, 0.8807730078697205, 0.9858226180076599, 0.004481012001633644, 0.004481012001633644, 0.9646628499031067, 0.175941601395607, 0.4398540258407593, 0.010996350087225437, 0.021992700174450874, 0.021992700174450874, 0.04398540034890175, 0.021992700174450874, 0.07697445154190063, 0.1979343146085739, 0.25863251090049744, 0.423622190952301, 0.13823461532592773, 0.031214267015457153, 0.004459180869162083, 0.11147952824831009, 0.026755087077617645, 0.004459180869162083, 0.09100349992513657, 0.16100618243217468, 0.028001075610518456, 0.07700295746326447, 0.007000268902629614, 0.5460209846496582, 0.04900188371539116, 0.04200161248445511, 0.9750131368637085, 0.09928363561630249, 0.024820908904075623, 0.8439109325408936, 0.8869593143463135, 0.007990623824298382, 0.015981247648596764, 0.015981247648596764, 0.06392499059438705, 0.017944740131497383, 0.9331264495849609, 0.017944740131497383, 0.06360743194818497, 0.002544297371059656, 0.002544297371059656, 0.005088594742119312, 0.005088594742119312, 0.022898675873875618, 0.8854154944419861, 0.005088594742119312, 0.005088594742119312, 0.07833937555551529, 0.02121691405773163, 0.004896210972219706, 0.08813180029392242, 0.13056562840938568, 0.07344316691160202, 0.579384982585907, 0.019584843888878822, 0.003264140570536256, 0.8193477392196655, 0.01765814796090126, 0.8475911021232605, 0.088290736079216, 0.05297444388270378, 0.9025893807411194, 0.31164565682411194, 0.06560961157083511, 0.01640240289270878, 0.4756697118282318, 0.1148168221116066, 0.7559603452682495, 0.027998531237244606, 0.16799119114875793, 0.03733137622475624, 0.9429219365119934, 0.9570814967155457, 0.741816520690918, 0.24727217853069305, 0.2250303477048874, 0.07854832708835602, 0.006368783302605152, 0.03821270167827606, 0.00424585584551096, 0.010614639148116112, 0.560452938079834, 0.07005661725997925, 0.00424585584551096, 0.00212292792275548, 0.00212292792275548, 0.8064368963241577, 0.15671983361244202, 0.6601229310035706, 0.023745430633425713, 0.0189963448792696, 0.014247258193790913, 0.0094981724396348, 0.0047490862198174, 0.10922897607088089, 0.06460890918970108, 0.9045247435569763, 0.8858327269554138, 0.981421709060669, 0.9676351547241211, 0.9563993215560913, 0.9020113348960876, 0.007198067381978035, 0.05758453905582428, 0.4174879193305969, 0.35990336537361145, 0.02879226952791214, 0.01439613476395607, 0.10797101259231567, 0.9477832317352295, 0.021540528163313866, 0.8273366093635559, 0.909659206867218, 0.12922129034996033, 0.8399384021759033, 0.7871171832084656, 0.17751699686050415, 0.05917233228683472, 0.05917233228683472, 0.6903438568115234, 0.06264195591211319, 0.06264195591211319, 0.8456663489341736, 0.3647681176662445, 0.5732070803642273, 0.7504857778549194, 0.9036301374435425, 0.5821247100830078, 0.046821556985378265, 0.011181266978383064, 0.047520384192466736, 0.01816955953836441, 0.009084779769182205, 0.06009931117296219, 0.19217802584171295, 0.006289462558925152, 0.0020964876748621464, 0.01677190139889717, 0.006289462558925152, 0.013628512620925903, 0.8585962653160095, 0.08177107572555542, 0.027257025241851807, 0.013628512620925903, 0.024938588961958885, 0.22444729506969452, 0.024938588961958885, 0.04987717792391777, 0.024938588961958885, 0.024938588961958885, 0.6234647035598755, 0.9775880575180054, 0.9513673782348633, 0.0065611544996500015, 0.0065611544996500015, 0.0065611544996500015, 0.019683463498950005, 0.0065611544996500015, 0.0065611544996500015, 0.9573168754577637, 0.9124082922935486, 0.012695222161710262, 0.31738054752349854, 0.03808566555380821, 0.012695222161710262, 0.4697232246398926, 0.08886655420064926, 0.06347610801458359, 0.9076833128929138, 0.0349108949303627, 0.9387050271034241, 0.04149952903389931, 0.5975931882858276, 0.024899717420339584, 0.016599811613559723, 0.07469914853572845, 0.016599811613559723, 0.22409744560718536, 0.8643435835838318, 0.6549734473228455, 0.009775722399353981, 0.10753294825553894, 0.21506589651107788, 0.009775722399353981, 0.9656019806861877, 0.8905870914459229, 0.09627968817949295, 0.9443396925926208, 0.894338071346283, 0.898797333240509, 0.8821077346801758, 0.9579381942749023, 0.9765759706497192, 0.15120534598827362, 0.04419848322868347, 0.06629772484302521, 0.42221182584762573, 0.051177192479372025, 0.040709130465984344, 0.06048213690519333, 0.07560267299413681, 0.019773006439208984, 0.05931901931762695, 0.009304944425821304, 0.9589342474937439, 0.8061793446540833, 0.06690476834774017, 0.38397517800331116, 0.03781573846936226, 0.01163561176508665, 0.15417185425758362, 0.07272256910800934, 0.08726708590984344, 0.15417185425758362, 0.0029089029412716627, 0.0029089029412716627, 0.0232712235301733, 0.005955168511718512, 0.3632652759552002, 0.4287721514701843, 0.029775843024253845, 0.07741719484329224, 0.05359651893377304, 0.023820674046874046, 0.011910337023437023, 0.9291144609451294, 0.045407723635435104, 0.045407723635435104, 0.8173390030860901, 0.09081544727087021, 0.8704143762588501, 0.10880179703235626, 0.9630295038223267, 0.024075737223029137, 0.0068127126432955265, 0.0613144151866436, 0.14306697249412537, 0.040876276791095734, 0.6540204286575317, 0.034063562750816345, 0.040876276791095734, 0.013625425286591053, 0.0068127126432955265, 0.9547424912452698, 0.4838408827781677, 0.0760321393609047, 0.03456006199121475, 0.138240247964859, 0.1520642787218094, 0.05184009671211243, 0.0034560062922537327, 0.031104058027267456, 0.031104058027267456, 0.07406923174858093, 0.9258654117584229, 0.026376422494649887, 0.26376423239707947, 0.6857869625091553, 0.026376422494649887, 0.9742441773414612, 0.1387944221496582, 0.718465268611908, 0.016328755766153336, 0.008164377883076668, 0.06531502306461334, 0.04082188755273819, 0.016328755766153336, 0.008164377883076668, 0.027434764429926872, 0.7407386302947998, 0.19204334914684296, 0.8112275004386902, 0.0881768986582756, 0.03527076169848442, 0.05290614068508148, 0.9734928607940674, 0.8584320545196533, 0.9359843730926514, 0.9620249271392822, 0.01758391223847866, 0.11722608655691147, 0.04689043387770653, 0.19928434491157532, 0.5040721893310547, 0.023445216938853264, 0.07619695365428925, 0.011722608469426632, 0.5419324636459351, 0.4290298521518707, 0.9519143104553223, 0.9367552995681763, 0.03700082376599312, 0.9250205755233765, 0.8972631692886353, 0.8755374550819397, 0.0946526974439621, 0.016940239816904068, 0.6437290906906128, 0.28798407316207886, 0.008470119908452034, 0.025410357862710953, 0.008470119908452034, 0.8834465742111206, 0.9368653893470764, 0.8991270661354065, 0.04732247814536095, 0.9041229486465454, 0.009721752256155014, 0.019443504512310028, 0.038887009024620056, 0.029165256768465042, 0.9293058514595032, 0.10363674908876419, 0.025909187272191048, 0.051818374544382095, 0.20727349817752838, 0.6088659167289734, 0.9122142791748047, 0.9416754841804504, 0.6711373925209045, 0.007626560982316732, 0.007626560982316732, 0.3050624430179596, 0.9743632078170776, 0.11818541586399078, 0.8272979259490967, 0.11399203538894653, 0.7979442477226257, 0.06831405311822891, 0.03903660178184509, 0.06831405311822891, 0.7026588320732117, 0.03903660178184509, 0.06831405311822891, 0.20446568727493286, 0.051116421818733215, 0.7156298756599426, 0.9673595428466797, 0.9239596724510193, 0.9139494299888611, 0.07322797924280167, 0.01620619371533394, 0.004801834933459759, 0.006002293433994055, 0.03361284360289574, 0.02941123954951763, 0.004801834933459759, 0.0024009174667298794, 0.03121192753314972, 0.004801834933459759, 0.013805275782942772, 0.7802981734275818, 0.0428793728351593, 0.10451847314834595, 0.6431906223297119, 0.008039882406592369, 0.013399804942309856, 0.1259581595659256, 0.0428793728351593, 0.005359921604394913, 0.016079764813184738, 0.03570882976055145, 0.699893057346344, 0.14997708797454834, 0.007141765672713518, 0.049992360174655914, 0.057134125381708145, 0.007141765672713518, 0.9519658088684082, 0.017714519053697586, 0.0016104107489809394, 0.0032208214979618788, 0.033818624913692474, 0.009662464261054993, 0.0032208214979618788, 0.02737698331475258, 0.0016104107489809394, 0.877673864364624, 0.0032208214979618788, 0.012883285991847515, 0.004831232130527496, 0.16558191180229187, 0.11243215948343277, 0.008176884613931179, 0.1942010074853897, 0.4231537878513336, 0.06541507691144943, 0.006132663227617741, 0.010221106000244617, 0.01430954784154892, 0.7352523803710938, 0.022162379696965218, 0.022162379696965218, 0.24378617107868195, 0.709196150302887, 0.9215083122253418, 0.02870103530585766, 0.9088661074638367, 0.009567011147737503, 0.02870103530585766, 0.009567011147737503, 0.009567011147737503, 0.9418129324913025, 0.9344655871391296, 0.9116790890693665, 0.1864018589258194, 0.4362596869468689, 0.03965996950864792, 0.09518393129110336, 0.031727977097034454, 0.0753539428114891, 0.015863988548517227, 0.11897991597652435, 0.020784428343176842, 0.9560837149620056, 0.8790566325187683, 0.9006196856498718, 0.07108559459447861, 0.24879957735538483, 0.6131132245063782, 0.017771398648619652, 0.008885699324309826, 0.008885699324309826, 0.008885699324309826, 0.008885699324309826, 0.11868701130151749, 0.7417938113212585, 0.11868701130151749, 0.9213107824325562, 0.001728538074530661, 0.001728538074530661, 0.003457076149061322, 0.027656609192490578, 0.001728538074530661, 0.001728538074530661, 0.003457076149061322, 0.03629929944872856, 0.8398607969284058, 0.8875640034675598, 0.9324140548706055, 0.9822403192520142, 0.014993431977927685, 0.19491462409496307, 0.7646650671958923, 0.9028589129447937, 0.9256612658500671, 0.19793805480003357, 0.13394945859909058, 0.06484177708625793, 0.09470312297344208, 0.022182712331414223, 0.06484177708625793, 0.06142904981970787, 0.004265906289219856, 0.32591524720191956, 0.004265906289219856, 0.023035895079374313, 0.0025595438200980425, 0.01745852455496788, 0.00872926227748394, 0.06983409821987152, 0.1833145022392273, 0.2618778645992279, 0.00872926227748394, 0.00872926227748394, 0.38408753275871277, 0.03491704910993576, 0.02618778683245182, 0.8456482887268066, 0.02511826530098915, 0.033491019159555435, 0.033491019159555435, 0.0502365306019783, 0.8686903715133667, 0.8880689740180969, 0.0672779530286789, 0.013455591164529324, 0.013455591164529324, 0.9463605880737305, 0.40078580379486084, 0.07634015381336212, 0.4962109923362732, 0.035950519144535065, 0.9347135424613953, 0.9805694222450256, 0.9682732820510864, 0.9604987502098083, 0.017787013202905655, 0.9068887233734131, 0.8904839158058167, 0.9210655093193054, 0.014362229965627193, 0.3159690797328949, 0.020107122138142586, 0.03734179958701134, 0.08617338538169861, 0.002872446086257696, 0.04595913738012314, 0.08617338538169861, 0.18096409738063812, 0.16660186648368835, 0.04595913738012314, 0.020067360252141953, 0.020067360252141953, 0.9431659579277039, 0.018547195941209793, 0.38949111104011536, 0.5749630331993103, 0.8773705363273621, 0.8317198753356934, 0.13861998915672302, 0.9418475031852722, 0.9496678709983826, 0.9495322108268738, 0.3556371331214905, 0.17781856656074524, 0.12447299063205719, 0.017781855538487434, 0.3200734257698059, 0.9146791100502014, 0.8555214405059814, 0.962939977645874, 0.9427655339241028, 0.11609648168087006, 0.8513742089271545, 0.09236498177051544, 0.8774672746658325, 0.05806721746921539, 0.0853232592344284, 0.0959886685013771, 0.045031722635030746, 0.4349116086959839, 0.1386502981185913, 0.10546903312206268, 0.0011850452283397317, 0.01066540740430355, 0.02607099711894989, 0.9233132600784302, 0.750623881816864, 0.05117890238761902, 0.017059633508324623, 0.17059634625911713, 0.047680970281362534, 0.905938446521759, 0.9259706735610962, 0.024367649108171463, 0.024367649108171463, 0.9570936560630798, 0.11331797391176224, 0.057946689426898956, 0.06281135231256485, 0.11646569520235062, 0.3317984640598297, 0.06495752185583115, 0.01817093789577484, 0.07254067063331604, 0.03290799632668495, 0.07568839192390442, 0.03748650103807449, 0.01588168554008007, 0.8602709770202637, 0.011026681400835514, 0.2370736449956894, 0.7387876510620117, 0.005513340700417757, 0.005513340700417757, 0.9694962501525879, 0.07922998070716858, 0.8319147825241089, 0.06602498143911362, 0.9246852993965149, 0.08437126129865646, 0.09562075883150101, 0.09562075883150101, 0.6468462944030762, 0.04499800503253937, 0.028123753145337105, 0.17138001322746277, 0.6202324032783508, 0.04896571487188339, 0.14689715206623077, 0.008160952478647232, 0.9661841988563538, 0.9609983563423157, 0.05239304527640343, 0.047153741121292114, 0.738741934299469, 0.0104786092415452, 0.14670053124427795, 0.02558128535747528, 0.26860350370407104, 0.6779040694236755, 0.01279064267873764, 0.047908879816532135, 0.01596962660551071, 0.03193925321102142, 0.8942990899085999, 0.02716079168021679, 0.00905359722673893, 0.34403669834136963, 0.00905359722673893, 0.615644633769989, 0.4587453603744507, 0.022197356447577477, 0.15538150072097778, 0.10358766466379166, 0.014798237942159176, 0.007399118971079588, 0.2441709190607071, 0.9364668726921082, 0.9343270659446716, 0.8879534602165222, 0.9278825521469116, 0.01276061125099659, 0.00957045890390873, 0.00957045890390873, 0.01276061125099659, 0.07656367123126984, 0.008507074788212776, 0.002126768697053194, 0.002126768697053194, 0.002126768697053194, 0.8177425265312195, 0.010633843019604683, 0.037218451499938965, 0.8617752194404602, 0.11036571860313416, 0.11036571860313416, 0.6621943116188049, 0.10411646217107773, 0.07973475754261017, 0.010543439537286758, 0.06523752957582474, 0.2787421643733978, 0.11136507987976074, 0.10016267746686935, 0.22009429335594177, 0.021745843812823296, 0.005930684506893158, 0.0013179299421608448, 0.0006589649710804224, 0.944602906703949, 0.94332355260849, 0.9801227450370789, 0.33275747299194336, 0.2145819216966629, 0.16171391308307648, 0.08707672357559204, 0.09018660336732864, 0.009329648688435555, 0.08085695654153824, 0.02487906441092491, 0.005972787272185087, 0.016999470070004463, 0.019756142050027847, 0.8288390636444092, 0.009188903495669365, 0.03445838764309883, 0.019296696409583092, 0.0009188902913592756, 0.052376747131347656, 0.0009188902913592756, 0.0018377805827185512, 0.00872945785522461, 0.9801765084266663, 0.9219070672988892, 0.8568542003631592, 0.3043307363986969, 0.06916607916355133, 0.11066572368144989, 0.06916607916355133, 0.006916607730090618, 0.006916607730090618, 0.013833215460181236, 0.4219130873680115, 0.9090901017189026, 0.017008809372782707, 0.06520044058561325, 0.11764427274465561, 0.008504404686391354, 0.026930615305900574, 0.6357042789459229, 0.037561122328042984, 0.0077957045286893845, 0.03826982155442238, 0.027639316394925117, 0.01133920717984438, 0.006378303747624159, 0.025349557399749756, 0.19012168049812317, 0.012674778699874878, 0.19012168049812317, 0.5703650116920471, 0.9593808054924011, 0.014092918485403061, 0.8690633177757263, 0.08925515413284302, 0.014092918485403061, 0.004697639495134354, 0.004697639495134354, 0.03834104537963867, 0.019170522689819336, 0.019170522689819336, 0.005477292463183403, 0.035602401942014694, 0.019170522689819336, 0.0027386462315917015, 0.7859914302825928, 0.027386462315917015, 0.0465569831430912, 0.240873321890831, 0.018528718501329422, 0.018528718501329422, 0.018528718501329422, 0.018528718501329422, 0.6855625510215759, 0.9457563757896423, 0.8374440670013428, 0.09102652966976166, 0.0364106111228466, 0.8952396512031555, 0.9015905857086182, 0.8266662359237671, 0.11809518188238144, 0.03194110840559006, 0.9262921214103699, 0.3346496820449829, 0.07605674862861633, 0.16732484102249146, 0.015211349353194237, 0.39549508690834045, 0.22835257649421692, 0.08457502722740173, 0.6681427359580994, 0.008457502350211143, 0.9419891238212585, 0.05141981691122055, 0.014023586176335812, 0.25709909200668335, 0.06076887249946594, 0.579641580581665, 0.03272170200943947, 0.08649258315563202, 0.5189555287361145, 0.27389317750930786, 0.10090801119804382, 0.8690986037254333, 0.07242488116025925, 0.7391818761825562, 0.9025909900665283, 0.07649075984954834, 0.8685822486877441, 0.0280257910490036, 0.0280257910490036, 0.3923610746860504, 0.5324900150299072, 0.07904315739870071, 0.8892354965209961, 0.004899246152490377, 0.024496231228113174, 0.44583138823509216, 0.009798492304980755, 0.48012611269950867, 0.034294724464416504, 0.22610904276371002, 0.08613678067922592, 0.07536967843770981, 0.1022874265909195, 0.18842419981956482, 0.02691774256527424, 0.037684839218854904, 0.016150645911693573, 0.00538354879245162, 0.00538354879245162, 0.22072549164295197, 0.00538354879245162, 0.9774507880210876, 0.9586790204048157, 0.9668071269989014, 0.8902570605278015, 0.9503075480461121, 0.9581234455108643, 0.942726731300354, 0.850836992263794, 0.17647074162960052, 0.7058829665184021, 0.9622816443443298, 0.05705816298723221, 0.9129306077957153, 0.04376678541302681, 0.7055205702781677, 0.024509400129318237, 0.05076947063207626, 0.026260072365403175, 0.017506714910268784, 0.007002685684710741, 0.0017506714211776853, 0.03151208534836769, 0.06652551144361496, 0.005252014379948378, 0.019257385283708572, 0.8646766543388367, 0.0864676684141159, 0.9602329134941101, 0.9370207786560059, 0.024479703977704048, 0.36719557642936707, 0.5875129103660583, 0.9224556684494019, 0.9675021767616272, 0.8905265927314758, 0.029969533905386925, 0.3955978453159332, 0.32367098331451416, 0.17981721460819244, 0.041957348585128784, 0.017981721088290215, 0.857939600944519, 0.04119200259447098, 0.9474160075187683, 0.002013457240536809, 0.006040371488779783, 0.008053828962147236, 0.9201499223709106, 0.022148028016090393, 0.002013457240536809, 0.026174942031502724, 0.006040371488779783, 0.006040371488779783, 0.050602205097675323, 0.02024088241159916, 0.8602374792098999, 0.06072264909744263, 0.8971880078315735, 0.04984377697110176, 0.02492188848555088, 0.8443266153335571, 0.8817981481552124, 0.3228224813938141, 0.018989557400345802, 0.018989557400345802, 0.6076658368110657, 0.018989557400345802, 0.8698702454566956, 0.1191207692027092, 0.02748940885066986, 0.009163135662674904, 0.05497881770133972, 0.09163136035203934, 0.5039724707603455, 0.17409957945346832, 0.009163135662674904, 0.009163135662674904, 0.41129493713378906, 0.018279774114489555, 0.054839324206113815, 0.027419662103056908, 0.027419662103056908, 0.4569943845272064, 0.8199266195297241, 0.05906251072883606, 0.0034742653369903564, 0.024319857358932495, 0.06948530673980713, 0.006948530673980713, 0.0034742653369903564, 0.0034742653369903564, 0.0034742653369903564, 0.006948530673980713, 0.8337748646736145, 0.8857921361923218, 0.08052656054496765, 0.025588491931557655, 0.9211857318878174, 0.025588491931557655, 0.14593251049518585, 0.8464085459709167, 0.058211881667375565, 0.029105940833687782, 0.9022842049598694, 0.906487226486206, 0.9250013828277588, 0.04625006765127182, 0.007360671181231737, 0.0588853694498539, 0.0220820140093565, 0.007360671181231737, 0.1030493974685669, 0.16929543018341064, 0.007360671181231737, 0.6182963848114014, 0.9417005181312561, 0.923755943775177, 0.15000267326831818, 0.2942360043525696, 0.12981000542640686, 0.1442333310842514, 0.09230933338403702, 0.02884666807949543, 0.05480866879224777, 0.002884666668251157, 0.002884666668251157, 0.08077067136764526, 0.020192667841911316, 0.021330419927835464, 0.26205942034721375, 0.19502097368240356, 0.012188810855150223, 0.0030472027137875557, 0.29557865858078003, 0.0030472027137875557, 0.03351923078298569, 0.14931292831897736, 0.0030472027137875557, 0.018283216282725334, 0.007932795211672783, 0.07932795584201813, 0.1560116410255432, 0.005288530141115189, 0.07403942197561264, 0.10312633961439133, 0.4045725464820862, 0.12428046017885208, 0.015865590423345566, 0.005288530141115189, 0.021154120564460754, 0.8886434435844421, 0.020666126161813736, 0.04133225232362747, 0.020666126161813736, 0.018430588766932487, 0.036861177533864975, 0.009215294383466244, 0.05529176816344261, 0.4331188499927521, 0.009215294383466244, 0.018430588766932487, 0.009215294383466244, 0.009215294383466244, 0.387042373418808, 0.009215294383466244, 0.17261864244937897, 0.11148287355899811, 0.16182997822761536, 0.014384887181222439, 0.010788665153086185, 0.16542620956897736, 0.2876977324485779, 0.0035962217953056097, 0.06832821667194366, 0.0035962217953056097, 0.0550009161233902, 0.0550009161233902, 0.8250137567520142, 0.9271177053451538, 0.04961664602160454, 0.018606243655085564, 0.22947698831558228, 0.05581872910261154, 0.08062705397605896, 0.06202080845832825, 0.02480832301080227, 0.1364457756280899, 0.34731653332710266, 0.7963279485702515, 0.8823718428611755, 0.0862179845571518, 0.5111494660377502, 0.27712923288345337, 0.012316854670643806, 0.06774269789457321, 0.03079213574528694, 0.006158427335321903, 0.006158427335321903, 0.9025542736053467, 0.0722043439745903, 0.9555559158325195, 0.01873639039695263, 0.01873639039695263, 0.12083513289690018, 0.04027837514877319, 0.08055675029754639, 0.7250107526779175, 0.7218611836433411, 0.24062038958072662, 0.021874582394957542, 0.9034782648086548, 0.9892807006835938, 0.0044972896575927734, 0.0044972896575927734, 0.0044972896575927734, 0.9804092049598694, 0.0044972896575927734, 0.25599414110183716, 0.6251019835472107, 0.005953351967036724, 0.005953351967036724, 0.05358016863465309, 0.005953351967036724, 0.041673462837934494, 0.962661862373352, 0.0872633084654808, 0.12544101476669312, 0.19634245336055756, 0.00545395677909255, 0.038177698850631714, 0.016361869871616364, 0.00545395677909255, 0.3981388509273529, 0.1308949589729309, 0.9520880579948425, 0.9163133502006531, 0.13419769704341888, 0.8051861524581909, 0.8933043479919434, 0.47094443440437317, 0.01569814793765545, 0.48664259910583496, 0.9037375450134277, 0.05880532041192055, 0.8820797801017761, 0.922617495059967, 0.96104896068573, 0.028266146779060364, 0.09493331611156464, 0.8543998599052429, 0.008588618598878384, 0.034354474395513535, 0.008588618598878384, 0.034354474395513535, 0.8416846394538879, 0.008588618598878384, 0.05153171345591545, 0.008588618598878384, 0.9401066303253174, 0.9207736849784851, 0.10779378563165665, 0.8623502850532532, 0.8896604180335999, 0.04889313504099846, 0.029335880652070045, 0.2151297926902771, 0.26402291655540466, 0.029335880652070045, 0.11734352260828018, 0.26402291655540466, 0.03911450877785683, 0.22455282509326935, 0.14214812219142914, 0.021631235256791115, 0.1472984105348587, 0.011330646462738514, 0.028841646388173103, 0.1060960590839386, 0.2698754072189331, 0.012360705994069576, 0.02781158685684204, 0.004120235331356525, 0.004120235331356525, 0.7968736886978149, 0.9723966121673584, 0.7528520226478577, 0.9754722714424133, 0.018692007288336754, 0.31776413321495056, 0.028038010001182556, 0.20561207830905914, 0.009346003644168377, 0.3831861615180969, 0.028038010001182556, 0.9751859903335571, 0.16841112077236176, 0.06736444681882858, 0.3705044686794281, 0.009623493067920208, 0.004811746533960104, 0.014435239136219025, 0.35125747323036194, 0.014435239136219025, 0.09056062996387482, 0.8150456547737122, 0.14889618754386902, 0.24816031754016876, 0.016544021666049957, 0.5459526777267456, 0.016544021666049957, 0.016544021666049957, 0.08172805607318878, 0.027242686599493027, 0.05448537319898605, 0.1906988024711609, 0.6265817880630493, 0.027242686599493027, 0.10724350064992905, 0.28955745697021484, 0.10724350064992905, 0.1823139488697052, 0.02144869975745678, 0.28955745697021484, 0.3393470346927643, 0.12514926493167877, 0.10348881036043167, 0.06498134881258011, 0.1395895630121231, 0.01925373263657093, 0.08904851227998734, 0.0024067165795713663, 0.03610074892640114, 0.014440299943089485, 0.043320897966623306, 0.021660448983311653, 0.05681972950696945, 0.4021088778972626, 0.008741497062146664, 0.004370748531073332, 0.004370748531073332, 0.507006824016571, 0.008741497062146664, 0.933790922164917, 0.2959527373313904, 0.2305678278207779, 0.08947408199310303, 0.05161966383457184, 0.15141767263412476, 0.017206553369760513, 0.12044587731361389, 0.030971797183156013, 0.006882621441036463, 0.03452739492058754, 0.08977122604846954, 0.0069054788909852505, 0.08286574482917786, 0.1173931434750557, 0.06905478984117508, 0.03452739492058754, 0.5593438148498535, 0.008410299196839333, 0.004205149598419666, 0.012615448795258999, 0.95036381483078, 0.004205149598419666, 0.016820598393678665, 0.07825030386447906, 0.8607533574104309, 0.9130642414093018, 0.021665753796696663, 0.19499178230762482, 0.010832876898348331, 0.08666301518678665, 0.639139711856842, 0.021665753796696663, 0.9491770267486572, 0.1082315444946289, 0.5286694765090942, 0.05411577224731445, 0.004162751603871584, 0.2289513498544693, 0.062441278249025345, 0.012488255277276039, 0.17515166103839874, 0.7589905261993408, 0.866025447845459, 0.9403517246246338, 0.943511426448822, 0.006787852384150028, 0.006787852384150028, 0.02036355622112751, 0.006787852384150028, 0.013575704768300056, 0.9263054132461548, 0.09714586287736893, 0.8257398009300232, 0.9867663383483887, 0.9407204985618591, 0.0034763438161462545, 0.0034763438161462545, 0.09733762592077255, 0.0034763438161462545, 0.013905375264585018, 0.8725622892379761, 0.33327561616897583, 0.6110053062438965, 0.08379147201776505, 0.02793049067258835, 0.013965245336294174, 0.418957382440567, 0.19551344215869904, 0.1675829440355301, 0.09775672107934952, 0.1748770922422409, 0.01589791662991047, 0.08743854612112045, 0.12718333303928375, 0.07948958873748779, 0.06359166651964188, 0.06359166651964188, 0.34180521965026855, 0.03179583325982094, 0.12975798547267914, 0.8434268832206726, 0.9194204807281494, 0.8822309970855713, 0.06964981555938721, 0.8590356707572937, 0.8915224671363831, 0.6232722997665405, 0.09089387953281403, 0.11686355620622635, 0.09089387953281403, 0.05193936079740524, 0.07893821597099304, 0.01973455399274826, 0.01973455399274826, 0.8485857844352722, 0.01973455399274826, 0.08050249516963959, 0.24150748550891876, 0.6440199613571167, 0.022613437846302986, 0.1402033120393753, 0.004522687755525112, 0.004522687755525112, 0.058794938027858734, 0.22161169350147247, 0.07688568532466888, 0.4703595042228699, 0.9649925827980042, 0.9229646921157837, 0.008670514449477196, 0.026011543348431587, 0.7803462743759155, 0.17341028153896332, 0.8964080810546875, 0.9334852695465088, 0.9588851928710938, 0.02458680048584938, 0.06321406364440918, 0.03160703182220459, 0.6795511841773987, 0.06321406364440918, 0.12642812728881836, 0.047410547733306885, 0.8834489583969116, 0.965698778629303, 0.029263600707054138, 0.9631352424621582], \"Term\": [\"access\", \"accessory\", \"accessory\", \"account\", \"account\", \"ad\", \"adapter\", \"adaptor\", \"advantage\", \"alarm\", \"amazon\", \"amazon\", \"amazon\", \"amazon\", \"amazon\", \"amazon\", \"amazon\", \"amazon\", \"amazon\", \"amazon\", \"amazon\", \"android\", \"android\", \"android\", \"android\", \"android\", \"android\", \"android\", \"android\", \"android\", \"anyone\", \"anyone\", \"anyone\", \"anyone\", \"anyone\", \"anything\", \"anything\", \"anything\", \"anything\", \"anything\", \"app\", \"app\", \"app\", \"app\", \"app\", \"app\", \"app\", \"app\", \"app\", \"apps\", \"apps\", \"apps\", \"apps\", \"apps\", \"apps\", \"apps\", \"apps\", \"apps\", \"apps\", \"aspect\", \"asphalt\", \"assistant\", \"atmos\", \"atmos\", \"atmos\", \"atmos\", \"atmos\", \"atmos\", \"atom\", \"aug\", \"auto\", \"auto\", \"auto\", \"auto\", \"awesome\", \"awsome\", \"b\", \"b\", \"back\", \"back\", \"back\", \"back\", \"backlight\", \"backup\", \"backup\", \"backup\", \"backup\", \"backup\", \"backup\", \"backup\", \"backup\", \"bakwas\", \"bakwas\", \"bank\", \"batery\", \"batter\", \"battery\", \"battery\", \"battery\", \"battery\", \"battery\", \"battery\", \"battery\", \"battery\", \"battery\", \"battery\", \"battery\", \"battery\", \"battry\", \"beast\", \"bed\", \"bekar\", \"bhai\", \"bhi\", \"bhut\", \"bilkul\", \"bill\", \"bill\", \"bill\", \"bill\", \"bill\", \"bit\", \"bit\", \"bit\", \"bit\", \"bit\", \"blur\", \"blur\", \"board\", \"board\", \"bokeh\", \"bokeh\", \"book\", \"box\", \"box\", \"box\", \"box\", \"box\", \"box\", \"box\", \"box\", \"box\", \"box\", \"brightness\", \"brightness\", \"brightness\", \"brightness\", \"brother\", \"browsing\", \"budget\", \"budget\", \"budget\", \"budget\", \"budget\", \"budget\", \"budget\", \"bulky\", \"buy\", \"buy\", \"buy\", \"buy\", \"buy\", \"buy\", \"buying\", \"buying\", \"cable\", \"cable\", \"cable\", \"cable\", \"cable\", \"call\", \"call\", \"call\", \"call\", \"call\", \"call\", \"call\", \"call\", \"call\", \"call\", \"call\", \"caller\", \"caller\", \"cam\", \"cam\", \"cam\", \"cam\", \"camara\", \"camera\", \"camera\", \"camera\", \"camera\", \"camera\", \"camera\", \"camera\", \"camera\", \"camera\", \"camera\", \"camera\", \"camera\", \"camra\", \"capture\", \"car\", \"card\", \"card\", \"card\", \"card\", \"card\", \"card\", \"card\", \"card\", \"card\", \"care\", \"care\", \"care\", \"care\", \"care\", \"care\", \"care\", \"cash\", \"cast\", \"cast\", \"cast\", \"cast\", \"cast\", \"cast\", \"cast\", \"cast\", \"category\", \"cell\", \"cell\", \"cell\", \"center\", \"center\", \"center\", \"center\", \"center\", \"centre\", \"centre\", \"centre\", \"centre\", \"charge\", \"charge\", \"charge\", \"charge\", \"charge\", \"charge\", \"charge\", \"charge\", \"charge\", \"charger\", \"charger\", \"charger\", \"charger\", \"charger\", \"charger\", \"charger\", \"charger\", \"charger\", \"charger\", \"charger\", \"charging\", \"charging\", \"charging\", \"charging\", \"charging\", \"charging\", \"charging\", \"charging\", \"charging\", \"charging\", \"cheater\", \"cheating\", \"china\", \"choice\", \"choice\", \"choice\", \"chrome\", \"chromecast\", \"clarity\", \"clarity\", \"clarity\", \"clarity\", \"clarity\", \"clarity\", \"clarity\", \"clarity\", \"clarity\", \"clarity\", \"class\", \"class\", \"class\", \"class\", \"clearity\", \"color\", \"color\", \"color\", \"color\", \"colour\", \"comapre\", \"combination\", \"comment\", \"company\", \"company\", \"company\", \"company\", \"company\", \"company\", \"company\", \"company\", \"company\", \"company\", \"comparison\", \"competition\", \"complain\", \"complain\", \"complaint\", \"complaint\", \"complaint\", \"complaint\", \"concern\", \"condition\", \"condition\", \"condition\", \"condition\", \"connection\", \"connection\", \"connection\", \"connectivity\", \"connectivity\", \"connectivity\", \"connectivity\", \"connectivity\", \"connectivity\", \"contact\", \"contact\", \"contact\", \"contact\", \"contact\", \"contact\", \"control\", \"cool\", \"copy\", \"core\", \"core\", \"core\", \"core\", \"corner\", \"cost\", \"cost\", \"cost\", \"cost\", \"couple\", \"coverage\", \"coz\", \"cpu\", \"crack\", \"crash\", \"curve\", \"customer\", \"customer\", \"customer\", \"customer\", \"customer\", \"customer\", \"customer\", \"customer\", \"customer\", \"customer\", \"dad\", \"damage\", \"data\", \"data\", \"data\", \"data\", \"data\", \"data\", \"data\", \"data\", \"date\", \"date\", \"date\", \"date\", \"date\", \"date\", \"day\", \"day\", \"day\", \"day\", \"day\", \"day\", \"day\", \"day\", \"day\", \"day\", \"day\", \"day\", \"deal\", \"deal\", \"deal\", \"deca\", \"deca\", \"defect\", \"defect\", \"defect\", \"degree\", \"delivery\", \"delivery\", \"delivery\", \"delivery\", \"delivery\", \"delivery\", \"delivery\", \"delivery\", \"department\", \"depth\", \"depth\", \"depth\", \"depth\", \"design\", \"design\", \"design\", \"design\", \"design\", \"design\", \"design\", \"detail\", \"device\", \"device\", \"device\", \"device\", \"device\", \"device\", \"device\", \"device\", \"device\", \"device\", \"device\", \"difference\", \"difference\", \"disadvantage\", \"disaster\", \"discharge\", \"discharge\", \"display\", \"display\", \"display\", \"display\", \"display\", \"display\", \"display\", \"display\", \"display\", \"diya\", \"doesnt\", \"doesnt\", \"dolby\", \"dolby\", \"dolby\", \"dolby\", \"dolby\", \"dolby\", \"dolby\", \"dolby\", \"dot\", \"drain\", \"drain\", \"drain\", \"drain\", \"drain\", \"drainage\", \"drainage\", \"draining\", \"drop\", \"drop\", \"drop\", \"drop\", \"dslr\", \"ear\", \"earphone\", \"earphone\", \"earphone\", \"earphone\", \"earphone\", \"earphone\", \"earphone\", \"earphone\", \"effect\", \"effect\", \"effect\", \"effect\", \"effect\", \"effect\", \"effect\", \"efficient\", \"effort\", \"ek\", \"electronics\", \"etc\", \"etc\", \"etc\", \"etc\", \"etc\", \"etc\", \"etc\", \"everything\", \"everything\", \"everything\", \"everything\", \"everything\", \"everything\", \"everything\", \"everything\", \"everything\", \"everytime\", \"example\", \"excellent\", \"exchange\", \"exchange\", \"exchange\", \"exchange\", \"exchange\", \"executive\", \"expectation\", \"expectation\", \"expectation\", \"expectation\", \"expectation\", \"experience\", \"experience\", \"experience\", \"experience\", \"experience\", \"experience\", \"experience\", \"experience\", \"experience\", \"experience\", \"facility\", \"facility\", \"factory\", \"fake\", \"fall\", \"fall\", \"family\", \"fast\", \"fast\", \"feature\", \"feature\", \"feature\", \"feature\", \"feature\", \"feature\", \"feature\", \"feature\", \"feature\", \"feature\", \"feature\", \"feature\", \"feeling\", \"file\", \"fine\", \"fine\", \"fine\", \"flash\", \"flash\", \"flash\", \"flash\", \"flashlight\", \"flipkart\", \"folder\", \"fon\", \"fone\", \"fone\", \"fone\", \"form\", \"friend\", \"friend\", \"friend\", \"friend\", \"front\", \"front\", \"front\", \"front\", \"front\", \"front\", \"front\", \"fuction\", \"function\", \"function\", \"function\", \"function\", \"function\", \"function\", \"function\", \"function\", \"functionality\", \"functioning\", \"future\", \"g\", \"gallery\", \"gallery\", \"gallery\", \"gallery\", \"gallery\", \"gallery\", \"gallery\", \"gallery\", \"game\", \"game\", \"game\", \"game\", \"game\", \"gamer\", \"gaming\", \"gaming\", \"gaming\", \"gaya\", \"gb\", \"gb\", \"gb\", \"gb\", \"generation\", \"gesture\", \"gesture\", \"get\", \"get\", \"get\", \"get\", \"get\", \"gift\", \"glass\", \"glass\", \"glass\", \"glass\", \"glass\", \"go\", \"god\", \"good\", \"good\", \"good\", \"good\", \"good\", \"goog\", \"gorilla\", \"gorilla\", \"gorilla\", \"graphic\", \"group\", \"gud\", \"gud\", \"gya\", \"h\", \"h\", \"ha\", \"hai\", \"hai\", \"hai\", \"half\", \"hand\", \"hand\", \"hand\", \"hand\", \"hand\", \"hand\", \"hand\", \"hand\", \"hand\", \"handset\", \"handset\", \"handset\", \"handset\", \"handset\", \"handset\", \"handset\", \"handset\", \"hang\", \"hang\", \"hang\", \"hang\", \"hang\", \"hang\", \"hang\", \"hang\", \"hd\", \"head\", \"head\", \"head\", \"headphone\", \"headphone\", \"headphone\", \"headphone\", \"headphone\", \"headset\", \"headset\", \"headset\", \"heat\", \"heat\", \"heat\", \"heat\", \"heat\", \"heat\", \"heat\", \"heat\", \"heat\", \"heating\", \"heating\", \"heating\", \"heating\", \"heating\", \"heating\", \"heating\", \"heating\", \"heating\", \"heatup\", \"help\", \"help\", \"help\", \"help\", \"hence\", \"hi\", \"hi\", \"hi\", \"hi\", \"hi\", \"ho\", \"ho\", \"ho\", \"ho\", \"hone\", \"hota\", \"hotspot\", \"hotspot\", \"hour\", \"hour\", \"hour\", \"hour\", \"hour\", \"hour\", \"hour\", \"hour\", \"hour\", \"hour\", \"hour\", \"house\", \"hr\", \"hr\", \"hr\", \"hr\", \"hr\", \"hr\", \"hr\", \"hr\", \"hu\", \"hu\", \"hv\", \"icon\", \"id\", \"idea\", \"im\", \"image\", \"image\", \"image\", \"image\", \"image\", \"image\", \"image\", \"improvement\", \"improvement\", \"inbuilt\", \"india\", \"information\", \"information\", \"inspite\", \"interface\", \"interface\", \"interface\", \"interface\", \"invoice\", \"invoice\", \"invoice\", \"iron\", \"iron\", \"iska\", \"isme\", \"issue\", \"issue\", \"issue\", \"issue\", \"issue\", \"issue\", \"issue\", \"issue\", \"issue\", \"issue\", \"issue\", \"issue\", \"item\", \"item\", \"item\", \"item\", \"item\", \"jack\", \"jack\", \"jack\", \"jack\", \"jack\", \"jack\", \"jack\", \"jata\", \"jio\", \"jio\", \"jio\", \"jio\", \"jio\", \"jio\", \"jio\", \"job\", \"jyada\", \"k\", \"k\", \"k\", \"k\", \"k\", \"k\", \"k\", \"ka\", \"ka\", \"kar\", \"key\", \"key\", \"key\", \"key\", \"key\", \"key\", \"key\", \"kharab\", \"killer\", \"killer\", \"killer\", \"killer\", \"killer\", \"kiya\", \"ko\", \"ko\", \"last\", \"launch\", \"left\", \"lena\", \"lenevo\", \"lenova\", \"lenovo\", \"lenovo\", \"lenovo\", \"lenovo\", \"lenovo\", \"lenovo\", \"lenovo\", \"lenovo\", \"lenovo\", \"lenovo\", \"lenovo\", \"level\", \"lie\", \"life\", \"life\", \"life\", \"life\", \"life\", \"life\", \"life\", \"life\", \"life\", \"life\", \"life\", \"light\", \"light\", \"light\", \"light\", \"light\", \"light\", \"light\", \"light\", \"limit\", \"line\", \"line\", \"line\", \"line\", \"location\", \"location\", \"lock\", \"lock\", \"look\", \"look\", \"look\", \"look\", \"look\", \"look\", \"look\", \"look\", \"look\", \"loss\", \"lot\", \"lot\", \"lot\", \"lot\", \"lot\", \"lot\", \"lot\", \"lot\", \"lot\", \"love\", \"love\", \"lover\", \"lover\", \"lover\", \"lover\", \"lte\", \"mah\", \"mah\", \"mah\", \"mah\", \"mah\", \"mah\", \"mah\", \"mah\", \"mail\", \"mail\", \"mail\", \"management\", \"management\", \"management\", \"management\", \"manager\", \"manner\", \"manufacturer\", \"manufacturing\", \"mark\", \"mark\", \"mark\", \"mark\", \"mark\", \"mark\", \"mark\", \"mark\", \"market\", \"market\", \"mast\", \"matter\", \"max\", \"max\", \"mean\", \"medium\", \"medium\", \"memory\", \"memory\", \"memory\", \"memory\", \"memory\", \"memory\", \"mention\", \"menu\", \"mera\", \"mera\", \"message\", \"message\", \"message\", \"message\", \"message\", \"messenger\", \"mi\", \"mi\", \"mi\", \"mi\", \"mi\", \"micromax\", \"microphone\", \"min\", \"min\", \"min\", \"min\", \"mind\", \"mine\", \"mine\", \"minus\", \"minus\", \"minute\", \"minute\", \"minute\", \"minute\", \"minute\", \"minute\", \"mistake\", \"mistake\", \"mistake\", \"mob\", \"mobail\", \"mobil\", \"mobile\", \"mobile\", \"mobile\", \"mobile\", \"mobile\", \"mobile\", \"mobile\", \"mobile\", \"mobile\", \"mobile\", \"mobile\", \"mobile\", \"mode\", \"mode\", \"mode\", \"mode\", \"mode\", \"mode\", \"mode\", \"mode\", \"mode\", \"model\", \"model\", \"model\", \"model\", \"model\", \"model\", \"model\", \"moment\", \"money\", \"money\", \"money\", \"money\", \"money\", \"money\", \"money\", \"money\", \"money\", \"money\", \"money\", \"money\", \"month\", \"month\", \"month\", \"month\", \"month\", \"month\", \"month\", \"month\", \"month\", \"mother\", \"motorola\", \"motorola\", \"motorola\", \"motorola\", \"movie\", \"mp\", \"mp\", \"mp\", \"mp\", \"mp\", \"mp\", \"msg\", \"multi\", \"multimedia\", \"music\", \"music\", \"music\", \"music\", \"music\", \"music\", \"music\", \"music\", \"n\", \"n\", \"nano\", \"navigation\", \"need\", \"need\", \"need\", \"need\", \"need\", \"need\", \"need\", \"need\", \"net\", \"net\", \"net\", \"network\", \"network\", \"network\", \"network\", \"network\", \"network\", \"network\", \"network\", \"network\", \"networking\", \"news\", \"nhi\", \"nice\", \"night\", \"night\", \"night\", \"nokia\", \"none\", \"note\", \"note\", \"note\", \"note\", \"note\", \"note\", \"note\", \"note\", \"note\", \"note\", \"note\", \"note\", \"nothing\", \"nothing\", \"nothing\", \"nothing\", \"nothing\", \"nothing\", \"nothing\", \"nothing\", \"nothing\", \"nothing\", \"notification\", \"notification\", \"notification\", \"notification\", \"notification\", \"nougat\", \"number\", \"number\", \"number\", \"number\", \"oct\", \"offer\", \"offer\", \"offer\", \"office\", \"office\", \"ok\", \"okay\", \"one\", \"one\", \"operating\", \"operation\", \"optimization\", \"option\", \"option\", \"option\", \"option\", \"option\", \"option\", \"option\", \"option\", \"option\", \"option\", \"option\", \"order\", \"order\", \"order\", \"oreo\", \"oreo\", \"oreo\", \"osm\", \"others\", \"others\", \"overheating\", \"pack\", \"pad\", \"part\", \"part\", \"part\", \"part\", \"part\", \"patch\", \"payment\", \"pc\", \"penny\", \"percentage\", \"percentage\", \"perfect\", \"perfect\", \"performance\", \"performance\", \"performance\", \"performance\", \"performance\", \"performance\", \"performance\", \"performance\", \"performance\", \"performance\", \"persist\", \"person\", \"person\", \"person\", \"person\", \"ph\", \"ph\", \"phn\", \"phn\", \"phn\", \"phon\", \"phone\", \"phone\", \"phone\", \"phone\", \"phone\", \"phone\", \"phone\", \"phone\", \"phone\", \"phone\", \"phone\", \"phone\", \"phoneall\", \"photo\", \"photo\", \"photo\", \"photo\", \"photo\", \"photography\", \"pic\", \"pic\", \"pic\", \"pick\", \"picture\", \"picture\", \"picture\", \"picture\", \"picture\", \"picture\", \"piece\", \"piece\", \"piece\", \"piece\", \"piece\", \"pin\", \"place\", \"please\", \"please\", \"please\", \"please\", \"please\", \"pls\", \"pls\", \"pls\", \"pls\", \"plz\", \"plz\", \"plz\", \"plz\", \"policy\", \"policy\", \"policy\", \"policy\", \"policy\", \"power\", \"power\", \"power\", \"power\", \"power\", \"power\", \"power\", \"powerfull\", \"pr\", \"prblm\", \"premium\", \"price\", \"price\", \"price\", \"price\", \"price\", \"price\", \"price\", \"price\", \"price\", \"price\", \"price\", \"price\", \"prise\", \"prize\", \"prize\", \"prize\", \"problem\", \"problem\", \"problem\", \"problem\", \"problem\", \"problem\", \"problem\", \"problem\", \"problem\", \"problem\", \"problem\", \"problem\", \"procedure\", \"processer\", \"processing\", \"processor\", \"processor\", \"processor\", \"processor\", \"processor\", \"processor\", \"processor\", \"processor\", \"product\", \"product\", \"product\", \"product\", \"product\", \"product\", \"product\", \"product\", \"product\", \"product\", \"product\", \"product\", \"protection\", \"provider\", \"pubg\", \"purchase\", \"purchase\", \"purchase\", \"purchase\", \"purchase\", \"purchase\", \"purchase\", \"purchase\", \"purpose\", \"quality\", \"quality\", \"quality\", \"quality\", \"quality\", \"quality\", \"quality\", \"quality\", \"quality\", \"quality\", \"quality\", \"quality\", \"r\", \"r\", \"r\", \"r\", \"r\", \"raha\", \"ram\", \"ram\", \"ram\", \"ram\", \"ram\", \"ram\", \"range\", \"range\", \"range\", \"range\", \"range\", \"range\", \"range\", \"range\", \"range\", \"range\", \"rating\", \"rating\", \"rating\", \"rating\", \"rating\", \"rating\", \"reality\", \"rear\", \"rear\", \"rear\", \"reboot\", \"recharge\", \"record\", \"record\", \"recorder\", \"recorder\", \"recording\", \"recording\", \"recording\", \"recording\", \"recording\", \"refund\", \"refund\", \"refund\", \"refund\", \"repair\", \"replacement\", \"replacement\", \"replacement\", \"replacement\", \"replacement\", \"replacement\", \"request\", \"request\", \"request\", \"request\", \"reset\", \"reset\", \"resistant\", \"resolution\", \"resolution\", \"respect\", \"restart\", \"restart\", \"restart\", \"restart\", \"result\", \"result\", \"return\", \"return\", \"return\", \"return\", \"return\", \"return\", \"review\", \"review\", \"review\", \"review\", \"review\", \"review\", \"review\", \"review\", \"review\", \"review\", \"review\", \"review\", \"rha\", \"right\", \"ringtone\", \"risk\", \"rock\", \"rom\", \"round\", \"rounder\", \"run\", \"run\", \"rupee\", \"scratch\", \"scratch\", \"screen\", \"screen\", \"screen\", \"screen\", \"screen\", \"screen\", \"screen\", \"screen\", \"screen\", \"screen\", \"screen\", \"screen\", \"screenshot\", \"screenshot\", \"se\", \"section\", \"segment\", \"segment\", \"segment\", \"sell\", \"seller\", \"sensing\", \"sensor\", \"sensor\", \"sensor\", \"sensor\", \"sensor\", \"sensor\", \"september\", \"series\", \"series\", \"service\", \"service\", \"service\", \"service\", \"service\", \"service\", \"service\", \"service\", \"service\", \"set\", \"set\", \"set\", \"set\", \"setting\", \"setting\", \"setting\", \"shopping\", \"shortcut\", \"shot\", \"shot\", \"shot\", \"shot\", \"shot\", \"shutter\", \"side\", \"side\", \"side\", \"side\", \"side\", \"side\", \"side\", \"side\", \"side\", \"signal\", \"signal\", \"signal\", \"signal\", \"signal\", \"signal\", \"sim\", \"sim\", \"sim\", \"sim\", \"sim\", \"sim\", \"sim\", \"sim\", \"sim\", \"sim\", \"simple\", \"sims\", \"sims\", \"sir\", \"sir\", \"sir\", \"site\", \"site\", \"size\", \"size\", \"size\", \"slim\", \"smart\", \"smart\", \"smartphone\", \"smartphone\", \"smartphone\", \"smartphone\", \"smartphone\", \"smartphone\", \"smartphone\", \"smartphone\", \"smartphones\", \"socket\", \"software\", \"software\", \"software\", \"software\", \"software\", \"software\", \"software\", \"software\", \"software\", \"software\", \"software\", \"sound\", \"sound\", \"sound\", \"sound\", \"sound\", \"sound\", \"sound\", \"sound\", \"sound\", \"sound\", \"sound\", \"speaker\", \"speaker\", \"speaker\", \"speaker\", \"speaker\", \"speaker\", \"speaker\", \"speaker\", \"speaker\", \"speaker\", \"speaker\", \"spec\", \"spec\", \"spec\", \"spec\", \"specification\", \"specification\", \"specification\", \"specification\", \"specification\", \"specification\", \"specification\", \"specification\", \"specification\", \"specification\", \"specification\", \"speed\", \"speed\", \"speed\", \"speed\", \"speed\", \"speed\", \"speed\", \"speed\", \"speed\", \"speed\", \"stand\", \"stand\", \"stand\", \"standard\", \"star\", \"star\", \"star\", \"star\", \"star\", \"star\", \"star\", \"star\", \"star\", \"station\", \"step\", \"stock\", \"stock\", \"stock\", \"stock\", \"stock\", \"stock\", \"stock\", \"stock\", \"stop\", \"stop\", \"storage\", \"storage\", \"storage\", \"store\", \"store\", \"store\", \"store\", \"strength\", \"strength\", \"strength\", \"style\", \"super\", \"superb\", \"superb\", \"superb\", \"superb\", \"superb\", \"support\", \"support\", \"support\", \"support\", \"support\", \"support\", \"support\", \"switch\", \"system\", \"system\", \"system\", \"system\", \"system\", \"system\", \"system\", \"system\", \"system\", \"tag\", \"talk\", \"tap\", \"tap\", \"task\", \"team\", \"team\", \"team\", \"technician\", \"technology\", \"technology\", \"temperature\", \"tha\", \"tha\", \"thank\", \"thank\", \"thanks\", \"thanks\", \"thanks\", \"thanks\", \"thanks\", \"thanks\", \"thanks\", \"thanks\", \"thats\", \"thik\", \"think\", \"think\", \"ti\", \"till\", \"till\", \"till\", \"till\", \"till\", \"till\", \"till\", \"till\", \"time\", \"time\", \"time\", \"time\", \"time\", \"time\", \"time\", \"time\", \"time\", \"time\", \"time\", \"time\", \"timing\", \"toh\", \"tooo\", \"top\", \"touch\", \"touch\", \"touch\", \"touch\", \"touch\", \"touch\", \"touch\", \"tray\", \"turbo\", \"turbo\", \"turbo\", \"turbo\", \"turbo\", \"turbo\", \"turbo\", \"turbo\", \"turbocharger\", \"turbocharger\", \"tv\", \"tv\", \"tv\", \"tv\", \"tv\", \"tv\", \"type\", \"type\", \"type\", \"type\", \"type\", \"type\", \"u\", \"u\", \"u\", \"u\", \"u\", \"u\", \"update\", \"update\", \"update\", \"update\", \"update\", \"update\", \"update\", \"update\", \"update\", \"update\", \"update\", \"update\", \"usage\", \"usage\", \"usage\", \"usage\", \"usage\", \"usage\", \"usage\", \"usb\", \"use\", \"use\", \"use\", \"use\", \"use\", \"use\", \"use\", \"use\", \"use\", \"user\", \"user\", \"user\", \"user\", \"user\", \"user\", \"user\", \"user\", \"value\", \"value\", \"value\", \"value\", \"value\", \"value\", \"variant\", \"variant\", \"verry\", \"version\", \"version\", \"version\", \"version\", \"version\", \"version\", \"vibration\", \"video\", \"video\", \"video\", \"video\", \"video\", \"video\", \"video\", \"view\", \"view\", \"visibility\", \"vodafone\", \"volta\", \"volta\", \"volta\", \"volta\", \"volta\", \"volta\", \"vr\", \"warm\", \"warm\", \"warranty\", \"wastage\", \"waste\", \"waste\", \"waste\", \"waste\", \"waste\", \"waste\", \"water\", \"water\", \"way\", \"way\", \"way\", \"way\", \"way\", \"way\", \"way\", \"week\", \"week\", \"week\", \"week\", \"week\", \"week\", \"week\", \"week\", \"week\", \"weight\", \"weight\", \"whats\", \"whatsapp\", \"whatsapp\", \"whereas\", \"wife\", \"wifi\", \"wifi\", \"wifi\", \"wifi\", \"wifi\", \"wise\", \"wise\", \"wise\", \"wise\", \"wise\", \"word\", \"word\", \"word\", \"work\", \"work\", \"work\", \"work\", \"work\", \"work\", \"work\", \"work\", \"working\", \"world\", \"worth\", \"worth\", \"worth\", \"worth\", \"wow\", \"wrost\", \"ye\", \"ye\", \"year\", \"year\", \"year\", \"year\", \"year\", \"year\", \"yes\", \"yesterday\", \"yesterday\", \"zoom\"]}, \"R\": 30, \"lambda.step\": 0.01, \"plot.opts\": {\"xlab\": \"PC1\", \"ylab\": \"PC2\"}, \"topic.order\": [3, 1, 6, 4, 12, 9, 5, 7, 11, 10, 8, 2]};\n",
       "\n",
       "function LDAvis_load_lib(url, callback){\n",
       "  var s = document.createElement('script');\n",
       "  s.src = url;\n",
       "  s.async = true;\n",
       "  s.onreadystatechange = s.onload = callback;\n",
       "  s.onerror = function(){console.warn(\"failed to load library \" + url);};\n",
       "  document.getElementsByTagName(\"head\")[0].appendChild(s);\n",
       "}\n",
       "\n",
       "if(typeof(LDAvis) !== \"undefined\"){\n",
       "   // already loaded: just create the visualization\n",
       "   !function(LDAvis){\n",
       "       new LDAvis(\"#\" + \"ldavis_el1102027455724128961795015686\", ldavis_el1102027455724128961795015686_data);\n",
       "   }(LDAvis);\n",
       "}else if(typeof define === \"function\" && define.amd){\n",
       "   // require.js is available: use it to load d3/LDAvis\n",
       "   require.config({paths: {d3: \"https://cdnjs.cloudflare.com/ajax/libs/d3/3.5.5/d3.min\"}});\n",
       "   require([\"d3\"], function(d3){\n",
       "      window.d3 = d3;\n",
       "      LDAvis_load_lib(\"https://cdn.rawgit.com/bmabey/pyLDAvis/files/ldavis.v1.0.0.js\", function(){\n",
       "        new LDAvis(\"#\" + \"ldavis_el1102027455724128961795015686\", ldavis_el1102027455724128961795015686_data);\n",
       "      });\n",
       "    });\n",
       "}else{\n",
       "    // require.js not available: dynamically load d3 & LDAvis\n",
       "    LDAvis_load_lib(\"https://cdnjs.cloudflare.com/ajax/libs/d3/3.5.5/d3.min.js\", function(){\n",
       "         LDAvis_load_lib(\"https://cdn.rawgit.com/bmabey/pyLDAvis/files/ldavis.v1.0.0.js\", function(){\n",
       "                 new LDAvis(\"#\" + \"ldavis_el1102027455724128961795015686\", ldavis_el1102027455724128961795015686_data);\n",
       "            })\n",
       "         });\n",
       "}\n",
       "</script>"
      ],
      "text/plain": [
       "PreparedData(topic_coordinates=              x         y  topics  cluster       Freq\n",
       "topic                                                \n",
       "2      0.062669 -0.085116       1        1  11.862483\n",
       "0      0.096116  0.026158       2        1  11.853811\n",
       "5      0.053151  0.190229       3        1  10.869544\n",
       "3     -0.013538 -0.166455       4        1  10.680003\n",
       "11     0.041287  0.002238       5        1   9.842621\n",
       "8      0.082603  0.140830       6        1   9.113233\n",
       "4      0.133813 -0.090946       7        1   8.402766\n",
       "6      0.157541 -0.061287       8        1   7.171015\n",
       "10    -0.082527 -0.065386       9        1   6.002136\n",
       "9     -0.137876  0.105236      10        1   5.432816\n",
       "7     -0.113252  0.065543      11        1   4.400358\n",
       "1     -0.279987 -0.061043      12        1   4.369219, topic_info=        Term         Freq        Total Category  logprob  loglift\n",
       "11    mobile  1666.000000  1666.000000  Default  30.0000  30.0000\n",
       "47   product  2176.000000  2176.000000  Default  29.0000  29.0000\n",
       "63     price   940.000000   940.000000  Default  28.0000  28.0000\n",
       "4    battery  3159.000000  3159.000000  Default  27.0000  27.0000\n",
       "15     phone  6989.000000  6989.000000  Default  26.0000  26.0000\n",
       "..       ...          ...          ...      ...      ...      ...\n",
       "55    camera    32.057770  3218.902832  Topic12  -4.6954  -1.4787\n",
       "143     cost    15.872128    85.740356  Topic12  -5.3984   1.4438\n",
       "47   product    19.431063  2176.538330  Topic12  -5.1961  -1.5880\n",
       "48     range    16.938084   365.143921  Topic12  -5.3334   0.0599\n",
       "85       day    16.587637   940.727966  Topic12  -5.3543  -0.9074\n",
       "\n",
       "[741 rows x 6 columns], token_table=      Topic      Freq       Term\n",
       "term                            \n",
       "1328      5  0.955870     access\n",
       "332       2  0.969151  accessory\n",
       "332      10  0.024850  accessory\n",
       "912       2  0.097246    account\n",
       "912       7  0.875212    account\n",
       "...     ...       ...        ...\n",
       "26        9  0.047411       year\n",
       "902       8  0.883449        yes\n",
       "1024      3  0.965699  yesterday\n",
       "1024      5  0.029264  yesterday\n",
       "1770      3  0.963135       zoom\n",
       "\n",
       "[1904 rows x 3 columns], R=30, lambda_step=0.01, plot_opts={'xlab': 'PC1', 'ylab': 'PC2'}, topic_order=[3, 1, 6, 4, 12, 9, 5, 7, 11, 10, 8, 2])"
      ]
     },
     "execution_count": 17,
     "metadata": {},
     "output_type": "execute_result"
    }
   ],
   "source": [
    "pyLDAvis.enable_notebook()\n",
    "\n",
    "vis = pyLDAvis.gensim.prepare(lda_model, corpus, dictionary)\n",
    "vis"
   ]
  },
  {
   "cell_type": "markdown",
   "metadata": {},
   "source": [
    "#### 8.2 coherence of the model with the c_v metric"
   ]
  },
  {
   "cell_type": "code",
   "execution_count": 18,
   "metadata": {},
   "outputs": [
    {
     "name": "stdout",
     "output_type": "stream",
     "text": [
      "Coherence Score:  0.49850343048731377\n"
     ]
    }
   ],
   "source": [
    "# Compute Coherence Score\n",
    "coherence_model_lda = gensim.models.CoherenceModel(model=lda_model, texts=review_no_sw, \n",
    "                                                   dictionary=dictionary, coherence='c_v')\n",
    "\n",
    "coherence_lda = coherence_model_lda.get_coherence()\n",
    "print('Coherence Score: ', coherence_lda)"
   ]
  },
  {
   "cell_type": "markdown",
   "metadata": {},
   "source": [
    "#### 9. Analyze the topics through the business lens - Determine which of the topics can be combined"
   ]
  },
  {
   "cell_type": "markdown",
   "metadata": {},
   "source": [
    "Now since the problem at hand, demands identifying the different aspects of the budget smartphone launched in the market, it is imperative that the tokens (words in the customer reviews) with length less than 3 characters may be removed. That way topic model focuses on the variety of aspects like 'camera', 'battery'. Also removing tokens for length less than three would clean the dataset from low significant tokens."
   ]
  },
  {
   "cell_type": "code",
   "execution_count": 19,
   "metadata": {},
   "outputs": [
    {
     "name": "stdout",
     "output_type": "stream",
     "text": [
      "[['update', 'improvement'],\n",
      " ['mobile', 'battery', 'hell', 'backup', 'hour', 'idle', 'amazon', 'lenove',\n",
      "  'battery', 'charger', 'hour'],\n",
      " ['cash'], [],\n",
      " ['phone', 'everthey', 'phone', 'problem', 'amazon', 'phone', 'amazon']]\n"
     ]
    }
   ],
   "source": [
    "#custom_stop_words = ['problem', 'issue']\n",
    "\n",
    "review_no_custom_sw = [[token for token in doc if len(token) > 3] for doc in review_no_sw]\n",
    "\n",
    "pprint(review_no_custom_sw[:5], compact=True)"
   ]
  },
  {
   "cell_type": "code",
   "execution_count": 20,
   "metadata": {},
   "outputs": [
    {
     "name": "stdout",
     "output_type": "stream",
     "text": [
      "Coherence Score after removing custom stop words:  0.5031360323267438\n",
      "Wall time: 10.9 s\n"
     ]
    }
   ],
   "source": [
    "%%time\n",
    "NUM_TOPICS = 12\n",
    "# Build a Dictionary - association word to numeric id\n",
    "dictionary = gensim.corpora.Dictionary(review_no_custom_sw)\n",
    "\n",
    "# Transform the collection of texts to a numerical form\n",
    "corpus = [dictionary.doc2bow(text) for text in review_no_custom_sw]\n",
    "\n",
    "#Creating the LDA model\n",
    "lda_model = gensim.models.LdaModel(corpus=corpus, num_topics=NUM_TOPICS, id2word=dictionary, random_state=1)\n",
    "\n",
    "#Calculating the cohenrence score\n",
    "coherence_model_lda = gensim.models.CoherenceModel(model=lda_model, texts=review_no_custom_sw, \n",
    "                                                   dictionary=dictionary, coherence='c_v')\n",
    "\n",
    "#Collecting the score in tuple\n",
    "coherence_lda = coherence_model_lda.get_coherence()\n",
    "\n",
    "print('Coherence Score after removing custom stop words: ', coherence_lda)"
   ]
  },
  {
   "cell_type": "markdown",
   "metadata": {},
   "source": [
    "There is only a marginal change in the cv score, hence we need to search the parameter space for number of topics for the optimal cv score."
   ]
  },
  {
   "cell_type": "markdown",
   "metadata": {},
   "source": [
    "#### 10. Create topic model using LDA with the optimal number of topics"
   ]
  },
  {
   "cell_type": "markdown",
   "metadata": {},
   "source": [
    "#### Gensim Model for finding the optimal number of topics"
   ]
  },
  {
   "cell_type": "code",
   "execution_count": 21,
   "metadata": {},
   "outputs": [
    {
     "name": "stdout",
     "output_type": "stream",
     "text": [
      "[(3, 0.4808409861539009), (4, 0.47658927077528973), (5, 0.49770274426195626),\n",
      " (6, 0.5091871939495295), (7, 0.5101335633630214), (8, 0.5327501878460171),\n",
      " (9, 0.514572217631393), (10, 0.4954951459691387), (11, 0.49466269660317613),\n",
      " (12, 0.5031360323267438), (13, 0.47298989182999546), (14, 0.4734695313637629),\n",
      " (15, 0.4902114977648099), (16, 0.48648530584659017), (17, 0.48581874846503603),\n",
      " (18, 0.4643128110133583), (19, 0.47288850774759045), (20, 0.464743223947254)]\n",
      "Wall time: 3min 10s\n"
     ]
    }
   ],
   "source": [
    "%%time\n",
    "NUM_TOPICS = range(3,21)\n",
    "coherence_lda_scores = []\n",
    "best_coherence_score = 0\n",
    "best_lda_model = None\n",
    "\n",
    "for topic in NUM_TOPICS:\n",
    "    #Creating the LDA model\n",
    "    lda_model = gensim.models.LdaModel(corpus=corpus, num_topics=topic, id2word=dictionary, random_state=1)\n",
    "    \n",
    "    #Calculating the cohenrence score\n",
    "    coherence_model_lda = gensim.models.CoherenceModel(model=lda_model, texts=review_no_custom_sw, \n",
    "                                                       dictionary=dictionary, coherence='c_v')\n",
    "    \n",
    "    #Collecting the score in tuple\n",
    "    score = coherence_model_lda.get_coherence()\n",
    "    coherence_lda_scores.append((topic, score))\n",
    "    \n",
    "    if(score > best_coherence_score):\n",
    "        best_lda_model = lda_model\n",
    "        best_coherence_score = score\n",
    "\n",
    "pprint(coherence_lda_scores, compact=True)"
   ]
  },
  {
   "cell_type": "code",
   "execution_count": 22,
   "metadata": {},
   "outputs": [
    {
     "data": {
      "image/png": "[encoded data removed]",
      "text/plain": [
       "<Figure size 720x360 with 1 Axes>"
      ]
     },
     "metadata": {
      "needs_background": "light"
     },
     "output_type": "display_data"
    }
   ],
   "source": [
    "cv_df = pd.DataFrame(coherence_lda_scores, columns=['num_topics', 'cv_score'])\n",
    "cv_df.plot(x='num_topics',figsize=(10,5))\n",
    "plt.show()"
   ]
  },
  {
   "cell_type": "markdown",
   "metadata": {},
   "source": [
    "#### 10.1 Coherence of the Optimal Model"
   ]
  },
  {
   "cell_type": "code",
   "execution_count": 23,
   "metadata": {},
   "outputs": [
    {
     "name": "stdout",
     "output_type": "stream",
     "text": [
      "Optimal Number of Topics: 8, CV Score: 0.5327501878460171\n"
     ]
    }
   ],
   "source": [
    "best_num_topic, best_cv_score = int(cv_df.iloc[np.argmax(cv_df['cv_score'])][0]), cv_df.iloc[np.argmax(cv_df['cv_score'])][1]\n",
    "print(\"Optimal Number of Topics: {}, CV Score: {}\".format(best_num_topic, best_cv_score))"
   ]
  },
  {
   "cell_type": "code",
   "execution_count": 25,
   "metadata": {},
   "outputs": [
    {
     "data": {
      "text/html": [
       "\n",
       "<link rel=\"stylesheet\" type=\"text/css\" href=\"https://cdn.rawgit.com/bmabey/pyLDAvis/files/ldavis.v1.0.0.css\">\n",
       "\n",
       "\n",
       "<div id=\"ldavis_el110202745674754112736144784\"></div>\n",
       "<script type=\"text/javascript\">\n",
       "\n",
       "var ldavis_el110202745674754112736144784_data = {\"mdsDat\": {\"x\": [0.11779437880316143, 0.030935400293947864, 0.02915448248422669, -0.0175036640709146, 0.13453007912155868, -0.13344292033495622, -0.23333128342281262, 0.07186352712578818], \"y\": [-0.061911057602666277, 0.012480880491690426, 0.13925045459988236, 0.1108743206712973, -0.18278357579361895, 0.05976286953784313, -0.14067849310385294, 0.0630046011994252], \"topics\": [1, 2, 3, 4, 5, 6, 7, 8], \"cluster\": [1, 1, 1, 1, 1, 1, 1, 1], \"Freq\": [19.768936157226562, 19.133405685424805, 16.456514358520508, 10.136877059936523, 10.041986465454102, 9.105323791503906, 8.381579399108887, 6.975376605987549]}, \"tinfo\": {\"Term\": [\"product\", \"mobile\", \"camera\", \"phone\", \"price\", \"problem\", \"quality\", \"network\", \"feature\", \"heat\", \"charger\", \"battery\", \"money\", \"superb\", \"waste\", \"issue\", \"everything\", \"value\", \"range\", \"performance\", \"hour\", \"service\", \"device\", \"backup\", \"time\", \"processor\", \"note\", \"amazon\", \"turbo\", \"lenovo\", \"concern\", \"zoom\", \"comparison\", \"tray\", \"graphic\", \"hope\", \"right\", \"picture\", \"scratch\", \"effort\", \"access\", \"buget\", \"manager\", \"clearity\", \"player\", \"motion\", \"wireless\", \"round\", \"iron\", \"rear\", \"bhai\", \"bokeh\", \"room\", \"location\", \"percentage\", \"website\", \"download\", \"window\", \"india\", \"overheat\", \"image\", \"effect\", \"selfie\", \"depth\", \"quality\", \"camera\", \"front\", \"speaker\", \"brightness\", \"rest\", \"mode\", \"android\", \"music\", \"sound\", \"gallery\", \"display\", \"stock\", \"clarity\", \"performance\", \"option\", \"screen\", \"phone\", \"video\", \"battery\", \"life\", \"speed\", \"color\", \"note\", \"thing\", \"update\", \"game\", \"backup\", \"processor\", \"issue\", \"mobile\", \"feel\", \"space\", \"mind\", \"seller\", \"switch\", \"place\", \"caller\", \"morning\", \"icon\", \"office\", \"record\", \"moment\", \"atmos\", \"detail\", \"phon\", \"claim\", \"control\", \"fall\", \"charging\", \"standard\", \"limit\", \"mast\", \"coverage\", \"saver\", \"status\", \"movie\", \"edge\", \"bottom\", \"karo\", \"capture\", \"weight\", \"bill\", \"home\", \"person\", \"standby\", \"button\", \"glass\", \"dolby\", \"fingerprint\", \"time\", \"gorilla\", \"battery\", \"phone\", \"killer\", \"life\", \"note\", \"lenovo\", \"software\", \"issue\", \"design\", \"sensor\", \"company\", \"power\", \"feature\", \"volume\", \"price\", \"sound\", \"call\", \"backup\", \"update\", \"screen\", \"turbo\", \"camera\", \"performance\", \"quality\", \"hour\", \"problem\", \"range\", \"bekar\", \"accessory\", \"love\", \"wastage\", \"alarm\", \"restart\", \"amazone\", \"casting\", \"technician\", \"visit\", \"manufacturing\", \"book\", \"chromecast\", \"optimization\", \"vodafone\", \"menu\", \"bettery\", \"surprise\", \"persist\", \"exchange\", \"fault\", \"knowledge\", \"pickup\", \"generation\", \"motherboard\", \"face\", \"smartphones\", \"thats\", \"wife\", \"step\", \"imei\", \"motorola\", \"offer\", \"amount\", \"replacement\", \"device\", \"problem\", \"service\", \"amazon\", \"center\", \"phone\", \"heating\", \"month\", \"handset\", \"customer\", \"item\", \"strength\", \"care\", \"defect\", \"earphone\", \"budget\", \"issue\", \"week\", \"people\", \"time\", \"call\", \"product\", \"software\", \"battery\", \"option\", \"application\", \"lenovo\", \"update\", \"charge\", \"note\", \"return\", \"apps\", \"camera\", \"facility\", \"half\", \"fone\", \"category\", \"spent\", \"battry\", \"reality\", \"trouble\", \"penny\", \"example\", \"rotation\", \"bada\", \"camra\", \"spot\", \"panel\", \"volta\", \"language\", \"extent\", \"pixal\", \"notification\", \"advertising\", \"factory\", \"lena\", \"decacore\", \"want\", \"clock\", \"provider\", \"series\", \"moneycamera\", \"sunlight\", \"network\", \"waste\", \"message\", \"policy\", \"slot\", \"hanging\", \"team\", \"model\", \"deca\", \"expectation\", \"support\", \"level\", \"processor\", \"experience\", \"signal\", \"card\", \"thanks\", \"recorder\", \"drop\", \"issue\", \"call\", \"speed\", \"complaint\", \"problem\", \"cast\", \"money\", \"return\", \"amazon\", \"battery\", \"note\", \"delivery\", \"phone\", \"screen\", \"lenovo\", \"product\", \"smartphone\", \"china\", \"protection\", \"lenevo\", \"bhut\", \"cool\", \"loss\", \"provide\", \"split\", \"group\", \"flashlight\", \"difficulty\", \"processer\", \"batery\", \"cashback\", \"sort\", \"blur\", \"folder\", \"phoneall\", \"packaging\", \"curve\", \"sensitivity\", \"fair\", \"powerfull\", \"sensing\", \"capturing\", \"joke\", \"ghatiya\", \"approx\", \"otherwise\", \"product\", \"price\", \"date\", \"range\", \"beast\", \"mera\", \"suggestion\", \"package\", \"look\", \"condition\", \"good\", \"wise\", \"performance\", \"flash\", \"delivery\", \"touch\", \"feature\", \"mobile\", \"camera\", \"lenovo\", \"phone\", \"battery\", \"nothing\", \"display\", \"light\", \"till\", \"quality\", \"specification\", \"note\", \"budget\", \"thanks\", \"month\", \"screen\", \"money\", \"jata\", \"awesome\", \"cash\", \"thik\", \"test\", \"batter\", \"wire\", \"department\", \"excellent\", \"fire\", \"reset\", \"piece\", \"value\", \"launch\", \"basis\", \"crack\", \"socket\", \"last\", \"pack\", \"gift\", \"recharge\", \"patch\", \"peace\", \"corner\", \"history\", \"everytime\", \"rupee\", \"yesterday\", \"faulty\", \"number\", \"capacity\", \"handsfree\", \"charger\", \"help\", \"stand\", \"paper\", \"turbo\", \"money\", \"drain\", \"version\", \"hour\", \"star\", \"usage\", \"minute\", \"percent\", \"please\", \"note\", \"cable\", \"battery\", \"service\", \"return\", \"centre\", \"mobile\", \"device\", \"handset\", \"purchase\", \"screen\", \"issue\", \"phone\", \"power\", \"charge\", \"performance\", \"camera\", \"super\", \"nice\", \"superb\", \"working\", \"benefit\", \"bank\", \"stop\", \"hone\", \"heat\", \"camara\", \"discharge\", \"position\", \"wrost\", \"fine\", \"cemara\", \"goog\", \"karne\", \"adaptor\", \"zero\", \"material\", \"aspect\", \"trap\", \"brother\", \"mention\", \"risk\", \"vasool\", \"description\", \"class\", \"change\", \"resistant\", \"awsome\", \"everything\", \"recording\", \"mobile\", \"connectivity\", \"result\", \"others\", \"reception\", \"word\", \"work\", \"backup\", \"draining\", \"party\", \"battery\", \"mark\", \"charge\", \"data\", \"hour\", \"problem\", \"system\", \"feature\", \"time\", \"heating\", \"issue\", \"charger\", \"month\", \"camera\", \"call\", \"phone\", \"video\", \"drainage\", \"raha\", \"lenova\", \"hota\", \"invoice\", \"nahi\", \"kiya\", \"mail\", \"upgrade\", \"gaya\", \"paisa\", \"bahut\", \"gesture\", \"perfect\", \"jyada\", \"processing\", \"copy\", \"process\", \"requirement\", \"mobail\", \"packing\", \"baad\", \"mean\", \"suck\", \"mila\", \"mujhe\", \"isme\", \"liye\", \"mobil\", \"chalti\", \"apne\", \"cell\", \"headphone\", \"buying\", \"worth\", \"cost\", \"configuration\", \"feature\", \"resolution\", \"complain\", \"photo\", \"warranty\", \"hang\", \"head\", \"google\", \"phone\", \"lenovo\", \"refund\", \"response\", \"today\", \"update\", \"issue\", \"camera\", \"money\", \"heating\", \"review\", \"note\", \"battery\", \"software\", \"mobile\"], \"Freq\": [2041.0, 1552.0, 3074.0, 6934.0, 863.0, 1482.0, 1322.0, 562.0, 828.0, 361.0, 454.0, 3001.0, 581.0, 203.0, 267.0, 1385.0, 248.0, 224.0, 335.0, 810.0, 447.0, 505.0, 442.0, 541.0, 940.0, 310.0, 1124.0, 549.0, 205.0, 842.0, 42.04167556762695, 31.159889221191406, 28.273252487182617, 26.365922927856445, 35.31351852416992, 36.34724807739258, 26.68926239013672, 160.56661987304688, 30.71727752685547, 19.557424545288086, 18.969743728637695, 17.974102020263672, 19.98610496520996, 17.920166015625, 49.55073165893555, 19.05162239074707, 15.93972110748291, 15.34942626953125, 16.697391510009766, 50.687435150146484, 13.478302955627441, 25.425142288208008, 13.746891021728516, 16.69627571105957, 22.744352340698242, 12.230049133300781, 14.833181381225586, 14.33406925201416, 11.598503112792969, 11.995525360107422, 120.97306823730469, 99.26602172851562, 57.77537155151367, 146.83013916015625, 1079.27197265625, 2348.03662109375, 107.07779693603516, 269.42047119140625, 52.605045318603516, 41.43952560424805, 239.04315185546875, 119.43071746826172, 159.5843963623047, 179.87164306640625, 77.70124053955078, 187.418701171875, 98.60258483886719, 99.39299011230469, 324.9894104003906, 159.29922485351562, 223.2135772705078, 1255.953125, 112.74535369873047, 560.1016845703125, 134.52993774414062, 113.0575942993164, 48.2103157043457, 213.62835693359375, 88.88948059082031, 102.28456115722656, 76.84575653076172, 109.02494049072266, 90.02459716796875, 116.30492401123047, 89.45667266845703, 54.0878791809082, 38.64784240722656, 36.222599029541016, 35.215816497802734, 31.523653030395508, 29.19115447998047, 29.24453353881836, 30.988758087158203, 25.380189895629883, 25.433889389038086, 24.33455467224121, 23.504592895507812, 88.00189208984375, 27.12054443359375, 21.09408187866211, 22.430871963500977, 20.710460662841797, 31.227678298950195, 208.60031127929688, 20.538131713867188, 18.447519302368164, 17.732379913330078, 22.561750411987305, 31.173490524291992, 16.308805465698242, 16.38663673400879, 39.31857681274414, 24.550037384033203, 15.918634414672852, 15.037171363830566, 45.405155181884766, 55.974220275878906, 25.171369552612305, 51.66722106933594, 33.94209289550781, 95.70410919189453, 136.71058654785156, 120.2447280883789, 66.10298919677734, 548.8424682617188, 67.97454833984375, 995.3428344726562, 1730.7166748046875, 68.90162658691406, 152.2239227294922, 352.4981689453125, 283.82373046875, 141.81729125976562, 319.9993591308594, 49.267723083496094, 78.1391372680664, 66.11833190917969, 65.76685333251953, 153.09983825683594, 52.362457275390625, 148.9056396484375, 90.20359802246094, 108.06732177734375, 111.70458984375, 96.79462432861328, 103.56581115722656, 72.48709869384766, 156.0388641357422, 102.58016204833984, 102.0172119140625, 75.88809204101562, 82.75421142578125, 67.28231048583984, 24.900951385498047, 37.55451965332031, 25.32229232788086, 21.0120906829834, 18.844083786010742, 32.121665954589844, 14.146673202514648, 17.252948760986328, 13.756157875061035, 18.087278366088867, 12.865259170532227, 12.883737564086914, 12.508066177368164, 12.624190330505371, 11.44911003112793, 11.29338550567627, 16.920007705688477, 12.244071960449219, 10.668966293334961, 37.056941986083984, 25.40142822265625, 10.027848243713379, 10.476515769958496, 9.709712028503418, 11.029875755310059, 28.743507385253906, 9.546913146972656, 9.025727272033691, 11.450736999511719, 8.981013298034668, 9.73886489868164, 37.50222396850586, 45.27946090698242, 34.99948501586914, 159.93051147460938, 312.6461181640625, 901.5326538085938, 331.0118103027344, 331.53582763671875, 100.16374969482422, 2867.2890625, 321.2777099609375, 276.1107177734375, 138.3592071533203, 133.67684936523438, 52.60257339477539, 34.02622985839844, 65.79911041259766, 30.79210662841797, 59.3910026550293, 87.9701919555664, 281.3316345214844, 57.725738525390625, 47.28886032104492, 171.92356872558594, 115.71956634521484, 237.73519897460938, 91.82048797607422, 209.4589385986328, 79.11980438232422, 48.815147399902344, 97.43438720703125, 69.3968734741211, 63.90664291381836, 84.48795318603516, 54.57369613647461, 51.88799285888672, 68.99909210205078, 53.660789489746094, 34.06774139404297, 31.2149600982666, 21.552907943725586, 18.933691024780273, 17.95310401916504, 16.441762924194336, 16.851022720336914, 13.289543151855469, 12.635034561157227, 10.870538711547852, 10.196402549743652, 9.41737174987793, 10.866551399230957, 14.625690460205078, 129.6254425048828, 9.454137802124023, 8.332792282104492, 8.248812675476074, 102.32783508300781, 8.01371955871582, 7.64749002456665, 7.8020124435424805, 10.603657722473145, 7.9737229347229, 7.296412467956543, 13.290443420410156, 20.651277542114258, 7.868403434753418, 6.766646862030029, 486.07574462890625, 231.35108947753906, 84.57059478759766, 89.74737548828125, 77.5381088256836, 31.2507381439209, 47.515865325927734, 103.4966049194336, 47.63102722167969, 88.94171905517578, 109.6598892211914, 34.5041389465332, 174.87721252441406, 135.25608825683594, 67.46066284179688, 89.3193588256836, 64.65202331542969, 39.078983306884766, 23.567081451416016, 390.562744140625, 175.5532989501953, 100.6358413696289, 38.47578811645508, 240.13772583007812, 58.160118103027344, 127.25008392333984, 68.6302490234375, 107.65536499023438, 207.178466796875, 131.4259033203125, 68.53480529785156, 185.9794464111328, 78.3350601196289, 73.05717468261719, 81.4196548461914, 115.401611328125, 26.8508243560791, 23.115093231201172, 24.45944595336914, 20.078872680664062, 19.37687110900879, 17.807758331298828, 15.636699676513672, 13.941755294799805, 13.525269508361816, 16.2850399017334, 11.0646333694458, 20.009443283081055, 10.53368091583252, 10.089404106140137, 9.979883193969727, 23.922866821289062, 8.513714790344238, 8.370463371276855, 8.00894832611084, 7.841400146484375, 7.861577987670898, 7.402421951293945, 7.337228298187256, 8.971467971801758, 7.96279764175415, 7.651129245758057, 10.894669532775879, 7.982386589050293, 6.34865665435791, 1674.0115966796875, 594.1356201171875, 50.78147506713867, 197.91505432128906, 17.017663955688477, 16.05552101135254, 31.95770263671875, 24.76874351501465, 77.22875213623047, 52.27791213989258, 20.258281707763672, 28.822917938232422, 260.7511291503906, 54.45991516113281, 91.99193572998047, 47.57643508911133, 185.71826171875, 219.33175659179688, 272.2156677246094, 124.48116302490234, 247.897216796875, 158.24391174316406, 35.69182205200195, 53.141998291015625, 39.8403434753418, 32.70375442504883, 71.00741577148438, 30.71847152709961, 49.21830368041992, 33.8159065246582, 28.82402229309082, 31.719566345214844, 31.372947692871094, 29.528390884399414, 39.566680908203125, 72.73204040527344, 31.707862854003906, 21.765029907226562, 21.49700355529785, 26.305707931518555, 19.649002075195312, 16.1218318939209, 84.43025970458984, 19.49481964111328, 12.885554313659668, 116.19876861572266, 208.41371154785156, 10.79466438293457, 11.510064125061035, 17.11256217956543, 9.730521202087402, 9.477659225463867, 14.478865623474121, 10.357283592224121, 8.516112327575684, 13.568265914916992, 7.752305507659912, 7.057613372802734, 8.090913772583008, 7.02922248840332, 14.799727439880371, 31.5150089263916, 24.521015167236328, 65.95402526855469, 37.876258850097656, 9.976664543151855, 357.5516052246094, 43.59780502319336, 14.81391716003418, 26.510334014892578, 129.36643981933594, 315.67694091796875, 121.6353988647461, 57.38146209716797, 194.9946746826172, 83.96569061279297, 107.8909683227539, 55.862518310546875, 27.31783676147461, 79.26435852050781, 247.5498809814453, 37.148250579833984, 347.3398132324219, 107.05802917480469, 64.23023986816406, 39.26585388183594, 150.12905883789062, 82.11988830566406, 58.24895477294922, 46.85200500488281, 74.5263442993164, 92.94783782958984, 106.195556640625, 43.03556823730469, 48.671958923339844, 53.393863677978516, 56.38267517089844, 90.76303100585938, 50.14692306518555, 197.53762817382812, 29.255929946899414, 20.855072021484375, 19.49778938293457, 25.011913299560547, 19.473466873168945, 342.0917663574219, 17.6962947845459, 27.747358322143555, 13.273134231567383, 16.92441749572754, 36.595726013183594, 10.136630058288574, 9.305180549621582, 9.019579887390137, 8.30898380279541, 8.262353897094727, 7.508233070373535, 7.026980876922607, 7.024145126342773, 6.796566963195801, 6.636492729187012, 6.354110240936279, 7.32736873626709, 20.148096084594727, 66.54218292236328, 30.022890090942383, 5.573631763458252, 9.646141052246094, 192.65185546875, 49.33333206176758, 978.845703125, 59.276519775390625, 42.619449615478516, 26.425142288208008, 30.37090492248535, 24.6787166595459, 101.57493591308594, 207.5730743408203, 26.908077239990234, 27.20924186706543, 476.69775390625, 61.32180404663086, 89.33576965332031, 64.04243469238281, 103.72811889648438, 197.8643035888672, 58.7091178894043, 101.08818817138672, 96.19866943359375, 68.68045806884766, 84.6636962890625, 47.73611068725586, 45.887638092041016, 60.5004997253418, 44.16801834106445, 59.9754638671875, 36.062896728515625, 41.70550537109375, 34.68411636352539, 30.734106063842773, 29.284069061279297, 30.354570388793945, 29.642637252807617, 23.567317962646484, 36.29875564575195, 21.06377601623535, 21.250732421875, 18.231727600097656, 29.88387107849121, 16.849966049194336, 21.375680923461914, 15.179708480834961, 39.44065475463867, 17.222055435180664, 31.072641372680664, 14.637365341186523, 14.658977508544922, 19.948686599731445, 12.691142082214355, 14.691210746765137, 22.370954513549805, 11.255951881408691, 11.21298599243164, 11.141175270080566, 11.23613166809082, 11.4699068069458, 10.182140350341797, 14.994979858398438, 59.08399963378906, 110.48213195800781, 38.99771499633789, 90.23038482666016, 68.04409790039062, 36.80028533935547, 308.9685363769531, 42.73979949951172, 33.70757293701172, 83.27835845947266, 38.83552169799805, 63.55533218383789, 27.766786575317383, 33.47088623046875, 480.172119140625, 138.16453552246094, 45.314109802246094, 33.162620544433594, 32.40331268310547, 65.32054901123047, 87.6168212890625, 94.01714324951172, 57.73950958251953, 53.12493896484375, 40.31778335571289, 43.82179641723633, 46.728477478027344, 37.471778869628906, 37.699440002441406], \"Total\": [2041.0, 1552.0, 3074.0, 6934.0, 863.0, 1482.0, 1322.0, 562.0, 828.0, 361.0, 454.0, 3001.0, 581.0, 203.0, 267.0, 1385.0, 248.0, 224.0, 335.0, 810.0, 447.0, 505.0, 442.0, 541.0, 940.0, 310.0, 1124.0, 549.0, 205.0, 842.0, 42.9285888671875, 32.0595588684082, 29.158437728881836, 27.25210952758789, 36.571529388427734, 37.65725326538086, 27.730438232421875, 167.19830322265625, 32.08380889892578, 20.447612762451172, 19.854982376098633, 18.858274459838867, 20.9699649810791, 18.804492950439453, 52.0274772644043, 20.04673957824707, 16.836631774902344, 16.238845825195312, 17.777620315551758, 53.98392105102539, 14.365191459655762, 27.13996696472168, 14.694845199584961, 17.852195739746094, 24.337926864624023, 13.117098808288574, 15.936102867126465, 15.411184310913086, 12.483802795410156, 12.920697212219238, 132.7655029296875, 110.01079559326172, 63.53310775756836, 168.34506225585938, 1322.6494140625, 3074.86181640625, 128.6077880859375, 351.8898620605469, 62.660545349121094, 48.2136344909668, 365.6593017578125, 166.53700256347656, 243.0193328857422, 312.3108825683594, 112.09821319580078, 340.00091552734375, 156.875, 162.4204864501953, 810.19189453125, 329.73663330078125, 543.8027954101562, 6934.1787109375, 227.67379760742188, 3001.092041015625, 331.0644226074219, 261.0263671875, 64.13511657714844, 1124.874755859375, 211.64208984375, 407.3890686035156, 186.4778289794922, 541.7196044921875, 310.43194580078125, 1385.1590576171875, 1552.0333251953125, 55.16139602661133, 39.532840728759766, 37.10089874267578, 36.21929931640625, 32.451072692871094, 30.07027816772461, 30.140165328979492, 32.00676345825195, 26.257978439331055, 26.34528160095215, 25.2144718170166, 24.386526107788086, 91.3222885131836, 28.193988800048828, 21.971729278564453, 23.393117904663086, 21.600711822509766, 32.60511016845703, 218.0829620361328, 21.530017852783203, 19.34649085998535, 18.60985565185547, 23.68211555480957, 32.77104949951172, 17.193294525146484, 17.284988403320312, 41.554500579833984, 25.97433090209961, 16.84564208984375, 15.914800643920898, 48.17542266845703, 60.290828704833984, 26.986635208129883, 57.3992805480957, 37.663780212402344, 119.56230163574219, 178.57565307617188, 158.7398681640625, 80.65840911865234, 940.5081176757812, 94.20320892333984, 3001.092041015625, 6934.1787109375, 100.78875732421875, 331.0644226074219, 1124.874755859375, 842.85693359375, 342.2046813964844, 1385.1590576171875, 71.07077026367188, 162.11325073242188, 128.53244018554688, 132.0469207763672, 828.0841064453125, 92.76726531982422, 863.10009765625, 312.3108825683594, 493.37469482421875, 541.7196044921875, 407.3890686035156, 543.8027954101562, 205.98880004882812, 3074.86181640625, 810.19189453125, 1322.6494140625, 447.21246337890625, 1482.209716796875, 335.42181396484375, 25.78061294555664, 38.884395599365234, 26.406883239746094, 21.91762351989746, 19.723007202148438, 33.775901794433594, 15.025577545166016, 18.329113006591797, 14.634912490844727, 19.315364837646484, 13.744124412536621, 13.765120506286621, 13.38795280456543, 13.518560409545898, 12.329289436340332, 12.172484397888184, 18.238651275634766, 13.2232027053833, 11.548232078552246, 40.190223693847656, 27.57278060913086, 10.931490898132324, 11.422040939331055, 10.588232040405273, 12.049814224243164, 31.415061950683594, 10.445175170898438, 9.905137062072754, 12.571196556091309, 9.867497444152832, 10.704839706420898, 41.88185119628906, 51.27553176879883, 40.568084716796875, 206.11825561523438, 442.3084411621094, 1482.209716796875, 505.049560546875, 549.8570556640625, 143.9818572998047, 6934.1787109375, 581.9550170898438, 489.4771728515625, 219.2536163330078, 212.1540985107422, 71.41897583007812, 44.66598892211914, 102.89041900634766, 39.913787841796875, 102.98762512207031, 184.94039916992188, 1385.1590576171875, 120.56352996826172, 90.37319946289062, 940.5081176757812, 493.37469482421875, 2041.1583251953125, 342.2046813964844, 3001.092041015625, 329.73663330078125, 107.66901397705078, 842.85693359375, 407.3890686035156, 307.7235412597656, 1124.874755859375, 198.1615753173828, 179.3373260498047, 3074.86181640625, 55.54220962524414, 35.38072204589844, 32.442203521728516, 22.434127807617188, 19.85477066040039, 18.834651947021484, 17.454370498657227, 17.940908432006836, 14.170207023620605, 13.529627799987793, 11.810534477233887, 11.141578674316406, 10.297978401184082, 11.893876075744629, 16.08315086364746, 143.07034301757812, 10.471823692321777, 9.268572807312012, 9.185890197753906, 114.02339935302734, 8.931427001953125, 8.528569221496582, 8.704509735107422, 11.835477828979492, 8.936600685119629, 8.177717208862305, 14.917082786560059, 23.245681762695312, 8.876616477966309, 7.668140888214111, 562.5235595703125, 267.3109436035156, 98.1200942993164, 104.7270736694336, 96.04487609863281, 37.987430572509766, 60.51267623901367, 140.6397705078125, 61.59267044067383, 126.77532196044922, 166.4752197265625, 45.007362365722656, 310.43194580078125, 235.00460815429688, 104.13623046875, 149.75921630859375, 105.91532897949219, 57.92243957519531, 30.084636688232422, 1385.1590576171875, 493.37469482421875, 261.0263671875, 66.82638549804688, 1482.209716796875, 141.34194946289062, 581.8356323242188, 198.1615753173828, 549.8570556640625, 3001.092041015625, 1124.874755859375, 255.48434448242188, 6934.1787109375, 543.8027954101562, 842.85693359375, 2041.1583251953125, 119.05609893798828, 27.75905990600586, 24.00541877746582, 25.475542068481445, 20.99703598022461, 20.266674041748047, 18.69887351989746, 16.629581451416016, 14.833009719848633, 14.418128967285156, 17.44034767150879, 11.966269493103027, 21.659767150878906, 11.462925910949707, 10.987815856933594, 10.88721752166748, 26.12751579284668, 9.404372215270996, 9.26786994934082, 8.899019241333008, 8.736180305480957, 8.78515625, 8.298503875732422, 8.228432655334473, 10.076971054077148, 8.953751564025879, 8.609219551086426, 12.379596710205078, 9.13220500946045, 7.2779765129089355, 2041.1583251953125, 863.10009765625, 65.35662841796875, 335.42181396484375, 21.239110946655273, 20.074180603027344, 44.869136810302734, 34.73540496826172, 143.02642822265625, 95.22860717773438, 28.423847198486328, 44.9808349609375, 810.19189453125, 104.57725524902344, 255.48434448242188, 99.97480010986328, 828.0841064453125, 1552.0333251953125, 3074.86181640625, 842.85693359375, 6934.1787109375, 3001.092041015625, 109.14562225341797, 340.00091552734375, 162.5509033203125, 97.86663818359375, 1322.6494140625, 103.57412719726562, 1124.874755859375, 184.94039916992188, 105.91532897949219, 489.4771728515625, 543.8027954101562, 581.8356323242188, 40.448097229003906, 75.13200378417969, 32.831451416015625, 22.65057945251465, 22.43936538696289, 27.46743392944336, 20.549760818481445, 17.0001277923584, 89.47978973388672, 20.7320613861084, 13.76291275024414, 124.43102264404297, 224.369384765625, 11.672008514404297, 12.494026184082031, 18.606781005859375, 10.607522964477539, 10.354649543762207, 15.882251739501953, 11.429465293884277, 9.40662956237793, 15.109678268432617, 8.676458358764648, 7.936007499694824, 9.098527908325195, 7.906575679779053, 16.672887802124023, 35.55428695678711, 27.67167091369629, 74.45254516601562, 44.05706024169922, 11.31485366821289, 454.9150085449219, 52.89134979248047, 17.150793075561523, 33.37020492553711, 205.98880004882812, 581.8356323242188, 213.1611328125, 88.97013092041016, 447.21246337890625, 158.04188537597656, 218.0731201171875, 97.50450897216797, 39.14474868774414, 190.30816650390625, 1124.874755859375, 63.932498931884766, 3001.092041015625, 505.049560546875, 198.1615753173828, 81.88556671142578, 1552.0333251953125, 442.3084411621094, 219.2536163330078, 141.31997680664062, 543.8027954101562, 1385.1590576171875, 6934.1787109375, 132.0469207763672, 307.7235412597656, 810.19189453125, 3074.86181640625, 92.90306854248047, 51.49293518066406, 203.6558074951172, 30.255416870117188, 21.76100730895996, 20.39725685119629, 26.18982696533203, 20.442167282104492, 361.1701965332031, 18.768587112426758, 29.576139450073242, 14.156364440917969, 18.28074836730957, 39.65261459350586, 11.05885124206543, 10.194098472595215, 9.941934585571289, 9.196784973144531, 9.164496421813965, 8.402152061462402, 7.908903121948242, 7.909168243408203, 7.678258895874023, 7.5182271003723145, 7.235816478729248, 8.417928695678711, 23.27794647216797, 76.97904968261719, 34.79911422729492, 6.473056316375732, 11.228652954101562, 248.2496795654297, 63.54948806762695, 1552.0333251953125, 78.543701171875, 55.401126861572266, 33.2420539855957, 41.31025314331055, 34.162818908691406, 208.11549377441406, 541.7196044921875, 41.60251235961914, 45.934295654296875, 3001.092041015625, 163.8883056640625, 307.7235412597656, 185.17410278320312, 447.21246337890625, 1482.209716796875, 176.59613037109375, 828.0841064453125, 940.5081176757812, 581.9550170898438, 1385.1590576171875, 454.9150085449219, 489.4771728515625, 3074.86181640625, 493.37469482421875, 6934.1787109375, 227.67379760742188, 42.65434646606445, 35.60623550415039, 31.61263084411621, 30.240760803222656, 31.3643798828125, 30.76701545715332, 24.469356536865234, 37.77671813964844, 21.943180084228516, 22.19207763671875, 19.13155746459961, 31.39504623413086, 17.72907829284668, 22.601301193237305, 16.05723762512207, 41.780765533447266, 18.2901554107666, 33.0299186706543, 15.596963882446289, 15.63086223602295, 21.304502487182617, 13.583065032958984, 15.749505043029785, 24.108163833618164, 12.133646965026855, 12.090773582458496, 12.025413513183594, 12.133273124694824, 12.409391403198242, 11.068947792053223, 16.32985496520996, 66.46748352050781, 128.24932861328125, 44.19562530517578, 107.98194885253906, 83.62842559814453, 44.005706787109375, 828.0841064453125, 63.62238311767578, 46.660911560058594, 183.25143432617188, 64.00839233398438, 136.61061096191406, 39.74869918823242, 56.48413848876953, 6934.1787109375, 842.85693359375, 113.88699340820312, 65.47828674316406, 62.61376953125, 407.3890686035156, 1385.1590576171875, 3074.86181640625, 581.8356323242188, 581.9550170898438, 183.54898071289062, 1124.874755859375, 3001.092041015625, 342.2046813964844, 1552.0333251953125], \"Category\": [\"Default\", \"Default\", \"Default\", \"Default\", \"Default\", \"Default\", \"Default\", \"Default\", \"Default\", \"Default\", \"Default\", \"Default\", \"Default\", \"Default\", \"Default\", \"Default\", \"Default\", \"Default\", \"Default\", \"Default\", \"Default\", \"Default\", \"Default\", \"Default\", \"Default\", \"Default\", \"Default\", \"Default\", \"Default\", \"Default\", \"Topic1\", \"Topic1\", \"Topic1\", \"Topic1\", \"Topic1\", \"Topic1\", \"Topic1\", \"Topic1\", \"Topic1\", \"Topic1\", \"Topic1\", \"Topic1\", \"Topic1\", \"Topic1\", \"Topic1\", \"Topic1\", \"Topic1\", \"Topic1\", \"Topic1\", \"Topic1\", \"Topic1\", \"Topic1\", \"Topic1\", \"Topic1\", \"Topic1\", \"Topic1\", \"Topic1\", \"Topic1\", \"Topic1\", \"Topic1\", \"Topic1\", \"Topic1\", \"Topic1\", \"Topic1\", \"Topic1\", \"Topic1\", \"Topic1\", \"Topic1\", \"Topic1\", \"Topic1\", \"Topic1\", \"Topic1\", \"Topic1\", \"Topic1\", \"Topic1\", \"Topic1\", \"Topic1\", \"Topic1\", \"Topic1\", \"Topic1\", \"Topic1\", \"Topic1\", \"Topic1\", \"Topic1\", \"Topic1\", \"Topic1\", \"Topic1\", \"Topic1\", \"Topic1\", \"Topic1\", \"Topic1\", \"Topic1\", \"Topic1\", \"Topic1\", \"Topic1\", \"Topic2\", \"Topic2\", \"Topic2\", \"Topic2\", \"Topic2\", \"Topic2\", \"Topic2\", \"Topic2\", \"Topic2\", \"Topic2\", \"Topic2\", \"Topic2\", \"Topic2\", \"Topic2\", \"Topic2\", \"Topic2\", \"Topic2\", \"Topic2\", \"Topic2\", \"Topic2\", \"Topic2\", \"Topic2\", \"Topic2\", \"Topic2\", \"Topic2\", \"Topic2\", \"Topic2\", \"Topic2\", \"Topic2\", \"Topic2\", \"Topic2\", \"Topic2\", \"Topic2\", \"Topic2\", \"Topic2\", \"Topic2\", \"Topic2\", \"Topic2\", \"Topic2\", \"Topic2\", \"Topic2\", \"Topic2\", \"Topic2\", \"Topic2\", \"Topic2\", \"Topic2\", \"Topic2\", \"Topic2\", \"Topic2\", \"Topic2\", \"Topic2\", \"Topic2\", \"Topic2\", \"Topic2\", \"Topic2\", \"Topic2\", \"Topic2\", \"Topic2\", \"Topic2\", \"Topic2\", \"Topic2\", \"Topic2\", \"Topic2\", \"Topic2\", \"Topic2\", \"Topic2\", \"Topic2\", \"Topic2\", \"Topic3\", \"Topic3\", \"Topic3\", \"Topic3\", \"Topic3\", \"Topic3\", \"Topic3\", \"Topic3\", \"Topic3\", \"Topic3\", \"Topic3\", \"Topic3\", \"Topic3\", \"Topic3\", \"Topic3\", \"Topic3\", \"Topic3\", \"Topic3\", \"Topic3\", \"Topic3\", \"Topic3\", \"Topic3\", \"Topic3\", \"Topic3\", \"Topic3\", \"Topic3\", \"Topic3\", \"Topic3\", \"Topic3\", \"Topic3\", \"Topic3\", \"Topic3\", \"Topic3\", \"Topic3\", \"Topic3\", \"Topic3\", \"Topic3\", \"Topic3\", \"Topic3\", \"Topic3\", \"Topic3\", \"Topic3\", \"Topic3\", \"Topic3\", \"Topic3\", \"Topic3\", \"Topic3\", \"Topic3\", \"Topic3\", \"Topic3\", \"Topic3\", \"Topic3\", \"Topic3\", \"Topic3\", \"Topic3\", \"Topic3\", \"Topic3\", \"Topic3\", \"Topic3\", \"Topic3\", \"Topic3\", \"Topic3\", \"Topic3\", \"Topic3\", \"Topic3\", \"Topic3\", \"Topic3\", \"Topic3\", \"Topic4\", \"Topic4\", \"Topic4\", \"Topic4\", \"Topic4\", \"Topic4\", \"Topic4\", \"Topic4\", \"Topic4\", \"Topic4\", \"Topic4\", \"Topic4\", \"Topic4\", \"Topic4\", \"Topic4\", \"Topic4\", \"Topic4\", \"Topic4\", \"Topic4\", \"Topic4\", \"Topic4\", \"Topic4\", \"Topic4\", \"Topic4\", \"Topic4\", \"Topic4\", \"Topic4\", \"Topic4\", \"Topic4\", \"Topic4\", \"Topic4\", \"Topic4\", \"Topic4\", \"Topic4\", \"Topic4\", \"Topic4\", \"Topic4\", \"Topic4\", \"Topic4\", \"Topic4\", \"Topic4\", \"Topic4\", \"Topic4\", \"Topic4\", \"Topic4\", \"Topic4\", \"Topic4\", \"Topic4\", \"Topic4\", \"Topic4\", \"Topic4\", \"Topic4\", \"Topic4\", \"Topic4\", \"Topic4\", \"Topic4\", \"Topic4\", \"Topic4\", \"Topic4\", \"Topic4\", \"Topic4\", \"Topic4\", \"Topic4\", \"Topic4\", \"Topic4\", \"Topic5\", \"Topic5\", \"Topic5\", \"Topic5\", \"Topic5\", \"Topic5\", \"Topic5\", \"Topic5\", \"Topic5\", \"Topic5\", \"Topic5\", \"Topic5\", \"Topic5\", \"Topic5\", \"Topic5\", \"Topic5\", \"Topic5\", \"Topic5\", \"Topic5\", \"Topic5\", \"Topic5\", \"Topic5\", \"Topic5\", \"Topic5\", \"Topic5\", \"Topic5\", \"Topic5\", \"Topic5\", \"Topic5\", \"Topic5\", \"Topic5\", \"Topic5\", \"Topic5\", \"Topic5\", \"Topic5\", \"Topic5\", \"Topic5\", \"Topic5\", \"Topic5\", \"Topic5\", \"Topic5\", \"Topic5\", \"Topic5\", \"Topic5\", \"Topic5\", \"Topic5\", \"Topic5\", \"Topic5\", \"Topic5\", \"Topic5\", \"Topic5\", \"Topic5\", \"Topic5\", \"Topic5\", \"Topic5\", \"Topic5\", \"Topic5\", \"Topic5\", \"Topic5\", \"Topic5\", \"Topic5\", \"Topic5\", \"Topic5\", \"Topic5\", \"Topic6\", \"Topic6\", \"Topic6\", \"Topic6\", \"Topic6\", \"Topic6\", \"Topic6\", \"Topic6\", \"Topic6\", \"Topic6\", \"Topic6\", \"Topic6\", \"Topic6\", \"Topic6\", \"Topic6\", \"Topic6\", \"Topic6\", \"Topic6\", \"Topic6\", \"Topic6\", \"Topic6\", \"Topic6\", \"Topic6\", \"Topic6\", \"Topic6\", \"Topic6\", \"Topic6\", \"Topic6\", \"Topic6\", \"Topic6\", \"Topic6\", \"Topic6\", \"Topic6\", \"Topic6\", \"Topic6\", \"Topic6\", \"Topic6\", \"Topic6\", \"Topic6\", \"Topic6\", \"Topic6\", \"Topic6\", \"Topic6\", \"Topic6\", \"Topic6\", \"Topic6\", \"Topic6\", \"Topic6\", \"Topic6\", \"Topic6\", \"Topic6\", \"Topic6\", \"Topic6\", \"Topic6\", \"Topic6\", \"Topic6\", \"Topic6\", \"Topic6\", \"Topic6\", \"Topic6\", \"Topic6\", \"Topic6\", \"Topic6\", \"Topic7\", \"Topic7\", \"Topic7\", \"Topic7\", \"Topic7\", \"Topic7\", \"Topic7\", \"Topic7\", \"Topic7\", \"Topic7\", \"Topic7\", \"Topic7\", \"Topic7\", \"Topic7\", \"Topic7\", \"Topic7\", \"Topic7\", \"Topic7\", \"Topic7\", \"Topic7\", \"Topic7\", \"Topic7\", \"Topic7\", \"Topic7\", \"Topic7\", \"Topic7\", \"Topic7\", \"Topic7\", \"Topic7\", \"Topic7\", \"Topic7\", \"Topic7\", \"Topic7\", \"Topic7\", \"Topic7\", \"Topic7\", \"Topic7\", \"Topic7\", \"Topic7\", \"Topic7\", \"Topic7\", \"Topic7\", \"Topic7\", \"Topic7\", \"Topic7\", \"Topic7\", \"Topic7\", \"Topic7\", \"Topic7\", \"Topic7\", \"Topic7\", \"Topic7\", \"Topic7\", \"Topic7\", \"Topic7\", \"Topic7\", \"Topic7\", \"Topic7\", \"Topic7\", \"Topic7\", \"Topic8\", \"Topic8\", \"Topic8\", \"Topic8\", \"Topic8\", \"Topic8\", \"Topic8\", \"Topic8\", \"Topic8\", \"Topic8\", \"Topic8\", \"Topic8\", \"Topic8\", \"Topic8\", \"Topic8\", \"Topic8\", \"Topic8\", \"Topic8\", \"Topic8\", \"Topic8\", \"Topic8\", \"Topic8\", \"Topic8\", \"Topic8\", \"Topic8\", \"Topic8\", \"Topic8\", \"Topic8\", \"Topic8\", \"Topic8\", \"Topic8\", \"Topic8\", \"Topic8\", \"Topic8\", \"Topic8\", \"Topic8\", \"Topic8\", \"Topic8\", \"Topic8\", \"Topic8\", \"Topic8\", \"Topic8\", \"Topic8\", \"Topic8\", \"Topic8\", \"Topic8\", \"Topic8\", \"Topic8\", \"Topic8\", \"Topic8\", \"Topic8\", \"Topic8\", \"Topic8\", \"Topic8\", \"Topic8\", \"Topic8\", \"Topic8\", \"Topic8\", \"Topic8\", \"Topic8\"], \"logprob\": [30.0, 29.0, 28.0, 27.0, 26.0, 25.0, 24.0, 23.0, 22.0, 21.0, 20.0, 19.0, 18.0, 17.0, 16.0, 15.0, 14.0, 13.0, 12.0, 11.0, 10.0, 9.0, 8.0, 7.0, 6.0, 5.0, 4.0, 3.0, 2.0, 1.0, -5.827199935913086, -6.126699924468994, -6.223899841308594, -6.293799877166748, -6.0015997886657715, -5.972700119018555, -6.281599998474121, -4.487100124359131, -6.140999794006348, -6.59250020980835, -6.623000144958496, -6.6768999099731445, -6.570799827575684, -6.679900169372559, -5.662899971008301, -6.61870002746582, -6.796999931335449, -6.834799766540527, -6.7505998611450195, -5.640200138092041, -6.964799880981445, -6.330100059509277, -6.945000171661377, -6.750699996948242, -6.441500186920166, -7.061999797821045, -6.86899995803833, -6.903200149536133, -7.114999771118164, -7.081299781799316, -4.770299911499023, -4.9679999351501465, -5.509300231933594, -4.576600074768066, -2.5817999839782715, -1.8044999837875366, -4.892300128936768, -3.969599962234497, -5.603000164031982, -5.841599941253662, -4.089200019836426, -4.783100128173828, -4.493299961090088, -4.373600006103516, -5.2129998207092285, -4.332499980926514, -4.974800109863281, -4.966800212860107, -3.782099962234497, -4.495100021362305, -4.157700061798096, -2.4302000999450684, -4.840700149536133, -3.2376999855041504, -4.664100170135498, -4.8379998207092285, -5.690299987792969, -4.201600074768066, -5.078499794006348, -4.9380998611450195, -5.224100112915039, -4.874300003051758, -5.065800189971924, -4.809599876403809, -5.0721001625061035, -5.542600154876709, -5.878699779510498, -5.94350004196167, -5.971700191497803, -6.082399845123291, -6.159299850463867, -6.15749979019165, -6.099599838256836, -6.299200057983398, -6.297100067138672, -6.341300010681152, -6.375999927520752, -5.055799961090088, -6.232900142669678, -6.4842000007629395, -6.422699928283691, -6.502500057220459, -6.091899871826172, -4.192800045013428, -6.510900020599365, -6.618199825286865, -6.657800197601318, -6.416900157928467, -6.093599796295166, -6.741499900817871, -6.736700057983398, -5.861499786376953, -6.332499980926514, -6.765699863433838, -6.822700023651123, -5.717599868774414, -5.508299827575684, -6.307499885559082, -5.588399887084961, -6.008500099182129, -4.97189998626709, -4.615300178527832, -4.743599891662598, -5.3420000076293945, -3.225399971008301, -5.314000129699707, -2.6301000118255615, -2.076900005340576, -5.30049991607666, -4.507800102233887, -3.668100118637085, -3.8847999572753906, -4.57859992980957, -3.764899969100952, -5.635900020599365, -5.174699783325195, -5.341700077056885, -5.347099781036377, -4.502099990844727, -5.574999809265137, -4.529900074005127, -5.031099796295166, -4.850399971008301, -4.817299842834473, -4.960599899291992, -4.89300012588501, -5.249800205230713, -4.483099937438965, -4.902500152587891, -4.9079999923706055, -5.20389986038208, -5.117300033569336, -5.3242998123168945, -6.167600154876709, -5.756700038909912, -6.1508002281188965, -6.337399959564209, -6.446300029754639, -5.912899971008301, -6.732999801635742, -6.5345001220703125, -6.761000156402588, -6.487299919128418, -6.827899932861328, -6.826499938964844, -6.856100082397461, -6.846799850463867, -6.944499969482422, -6.958199977874756, -6.553999900817871, -6.877399921417236, -7.015100002288818, -5.769999980926514, -6.14769983291626, -7.077099800109863, -7.033299922943115, -7.109300136566162, -6.981900215148926, -6.02400016784668, -7.126200199127197, -7.182400226593018, -6.944399833679199, -7.187300205230713, -7.106299877166748, -5.7581000328063965, -5.5696001052856445, -5.827099800109863, -4.307700157165527, -3.637399911880493, -2.578399896621704, -3.5803000926971436, -3.578700065612793, -4.775700092315674, -1.4213000535964966, -3.6101999282836914, -3.761699914932251, -4.452600002288818, -4.486999988555908, -5.4197001457214355, -5.855299949645996, -5.195899963378906, -5.9552001953125, -5.298299789428711, -4.9054999351501465, -3.7428998947143555, -5.3267998695373535, -5.526199817657471, -4.235400199890137, -4.63129997253418, -3.91129994392395, -4.862599849700928, -4.037899971008301, -5.011499881744385, -5.4944000244140625, -4.803299903869629, -5.142600059509277, -5.224999904632568, -4.945899963378906, -5.382900238037109, -5.4334001541137695, -5.148399829864502, -4.915200233459473, -5.36959981918335, -5.456999778747559, -5.827400207519531, -5.956999778747559, -6.010200023651123, -6.098100185394287, -6.073500156402588, -6.3109002113342285, -6.361400127410889, -6.511899948120117, -6.575900077819824, -6.655399799346924, -6.512199878692627, -6.215099811553955, -4.033299922943115, -6.651500225067139, -6.777699947357178, -6.787899971008301, -4.269700050354004, -6.816800117492676, -6.863500118255615, -6.843500137329102, -6.5366997718811035, -6.821800231933594, -6.9105000495910645, -6.3109002113342285, -5.870100021362305, -6.835100173950195, -6.985899925231934, -2.7116000652313232, -3.4539999961853027, -4.460299968719482, -4.400899887084961, -4.5472002029418945, -5.455900192260742, -5.036900043487549, -4.258399963378906, -5.03439998626709, -4.409900188446045, -4.200500011444092, -5.356800079345703, -3.733799934387207, -3.990799903869629, -4.686399936676025, -4.405700206756592, -4.728899955749512, -5.2322998046875, -5.738100051879883, -2.930299997329712, -3.7300000190734863, -4.286399841308594, -5.247900009155273, -3.4166998863220215, -4.834700107574463, -4.051799774169922, -4.6691999435424805, -4.218999862670898, -3.564300060272217, -4.019499778747559, -4.670599937438965, -3.672300100326538, -4.536900043487549, -4.6066999435424805, -4.498300075531006, -4.140100002288818, -5.598199844360352, -5.748000144958496, -5.691500186920166, -5.888800144195557, -5.9243998527526855, -6.008900165557861, -6.138899803161621, -6.253600120544434, -6.283999919891357, -6.098299980163574, -6.484799861907959, -5.892300128936768, -6.533899784088135, -6.577000141143799, -6.587900161743164, -5.713699817657471, -6.746799945831299, -6.763800144195557, -6.808000087738037, -6.829100131988525, -6.826499938964844, -6.88670015335083, -6.895599842071533, -6.694499969482422, -6.813700199127197, -6.853700160980225, -6.500199794769287, -6.811299800872803, -7.040299892425537, -1.465499997138977, -2.5013999938964844, -4.960999965667725, -3.6006999015808105, -6.054299831390381, -6.112500190734863, -5.424099922180176, -5.678899765014648, -4.5416998863220215, -4.9319000244140625, -5.880000114440918, -5.527299880981445, -3.324899911880493, -4.89109992980957, -4.366799831390381, -5.026199817657471, -3.664299964904785, -3.4979000091552734, -3.281899929046631, -4.0644001960754395, -3.375499963760376, -3.824399948120117, -5.313600063323975, -4.915500164031982, -5.20359992980957, -5.401000022888184, -4.625699996948242, -5.463699817657471, -4.992199897766113, -5.367599964141846, -5.527299880981445, -5.431600093841553, -5.442599773406982, -5.503200054168701, -5.112599849700928, -4.503799915313721, -5.334000110626221, -5.710299968719482, -5.722700119018555, -5.5208001136779785, -5.812600135803223, -6.01039981842041, -4.354700088500977, -5.820499897003174, -6.234499931335449, -4.035299777984619, -3.4511001110076904, -6.411499977111816, -6.347400188446045, -5.950799942016602, -6.5152997970581055, -6.5416998863220215, -6.1178998947143555, -6.452899932861328, -6.648600101470947, -6.1828999519348145, -6.742599964141846, -6.83650016784668, -6.699900150299072, -6.8404998779296875, -6.0960001945495605, -5.340099811553955, -5.591100215911865, -4.601600170135498, -5.156300067901611, -6.4903998374938965, -2.91129994392395, -5.015600204467773, -6.09499979019165, -5.5131001472473145, -3.927999973297119, -3.035900115966797, -3.9895999431610107, -4.740900039672852, -3.5176000595092773, -4.360199928283691, -4.109499931335449, -4.7677001953125, -5.483099937438965, -4.417799949645996, -3.2790000438690186, -5.1757001876831055, -2.9402999877929688, -4.117199897766113, -4.6280999183654785, -5.120200157165527, -3.779099941253662, -4.382400035858154, -4.725900173187256, -4.943600177764893, -4.479400157928467, -4.258600234985352, -4.12529993057251, -5.028600215911865, -4.9054999351501465, -4.812900066375732, -4.758399963378906, -4.19950008392334, -4.792799949645996, -3.421799898147583, -5.331699848175049, -5.670199871063232, -5.737500190734863, -5.488399982452393, -5.738699913024902, -2.8726999759674072, -5.834400177001953, -5.3846001625061035, -6.122000217437744, -5.879000186920166, -5.107800006866455, -6.391600131988525, -6.477200031280518, -6.508399963378906, -6.590400218963623, -6.596099853515625, -6.691800117492676, -6.757999897003174, -6.758399963378906, -6.791399955749512, -6.815199851989746, -6.858699798583984, -6.71619987487793, -5.704699993133545, -4.509900093078613, -5.305799961090088, -6.989699840545654, -6.441199779510498, -3.446899890899658, -4.809199810028076, -1.8214000463485718, -4.6255998611450195, -4.95550012588501, -5.433499813079834, -5.294300079345703, -5.501800060272217, -4.086999893188477, -3.372299909591675, -5.41540002822876, -5.404200077056885, -2.5408999919891357, -4.591599941253662, -4.215400218963623, -4.5482001304626465, -4.065999984741211, -3.4202001094818115, -4.635200023651123, -4.091800212860107, -4.14139986038208, -4.478300094604492, -4.269100189208984, -4.842100143432617, -4.8815999031066895, -4.605100154876709, -4.9197998046875, -4.613800048828125, -5.122499942779541, -4.793499946594238, -4.977799892425537, -5.098800182342529, -5.14709997177124, -5.111199855804443, -5.134900093078613, -5.364299774169922, -4.932300090789795, -5.476600170135498, -5.467700004577637, -5.620999813079834, -5.126800060272217, -5.69980001449585, -5.461900234222412, -5.804200172424316, -4.849299907684326, -5.6778998374938965, -5.087800025939941, -5.8404998779296875, -5.839099884033203, -5.531000137329102, -5.9832000732421875, -5.836900234222412, -5.416399955749512, -6.1031999588012695, -6.107100009918213, -6.113500118255615, -6.105000019073486, -6.084400177001953, -6.203499794006348, -5.816400051116943, -4.445199966430664, -3.8192999362945557, -4.860599994659424, -4.0218000411987305, -4.303999900817871, -4.918600082397461, -2.7908999919891357, -4.769000053405762, -5.006400108337402, -4.101900100708008, -4.864799976348877, -4.372200012207031, -5.200300216674805, -5.013500213623047, -2.3499999046325684, -3.5957000255584717, -4.7104997634887695, -5.02269983291626, -5.045899868011475, -4.344799995422363, -4.051199913024902, -3.980600118637085, -4.468200206756592, -4.551499843597412, -4.827300071716309, -4.74399995803833, -4.679800033569336, -4.9004998207092285, -4.894499778747559], \"loglift\": [30.0, 29.0, 28.0, 27.0, 26.0, 25.0, 24.0, 23.0, 22.0, 21.0, 20.0, 19.0, 18.0, 17.0, 16.0, 15.0, 14.0, 13.0, 12.0, 11.0, 10.0, 9.0, 8.0, 7.0, 6.0, 5.0, 4.0, 3.0, 2.0, 1.0, 1.6002000570297241, 1.5925999879837036, 1.5901999473571777, 1.5880000591278076, 1.5860999822616577, 1.5857000350952148, 1.582800030708313, 1.5806000232696533, 1.5774999856948853, 1.5765000581741333, 1.5753999948501587, 1.5729999542236328, 1.5729999542236328, 1.5729000568389893, 1.5722999572753906, 1.570099949836731, 1.5663000345230103, 1.5647000074386597, 1.55840003490448, 1.5580999851226807, 1.5572999715805054, 1.555799961090088, 1.5543999671936035, 1.5541000366210938, 1.5533000230789185, 1.5509999990463257, 1.549299955368042, 1.5485999584197998, 1.5475000143051147, 1.5468000173568726, 1.527999997138977, 1.5183000564575195, 1.5261000394821167, 1.4843000173568726, 1.4177000522613525, 1.3514000177383423, 1.4378000497817993, 1.3539999723434448, 1.4460999965667725, 1.4696999788284302, 1.1959999799728394, 1.288599967956543, 1.2005000114440918, 1.0693000555038452, 1.2546000480651855, 1.0255000591278076, 1.1567000150680542, 1.1299999952316284, 0.7075999975204468, 0.8934999704360962, 0.7305999994277954, -0.08749999850988388, 0.9182999730110168, -0.0575999990105629, 0.7204999923706055, 0.7843000292778015, 1.3356000185012817, -0.04010000079870224, 0.753600001335144, 0.23899999260902405, 0.734499990940094, 0.017899999395012856, 0.3831999897956848, -0.8562999963760376, -1.2324999570846558, 1.6340999603271484, 1.631100058555603, 1.6297999620437622, 1.625599980354309, 1.6246999502182007, 1.6240999698638916, 1.6236000061035156, 1.621399998664856, 1.6196999549865723, 1.618499994277954, 1.6181999444961548, 1.6168999671936035, 1.6167000532150269, 1.61489999294281, 1.6130000352859497, 1.6117000579833984, 1.6116000413894653, 1.6105999946594238, 1.6093000173568726, 1.606600046157837, 1.6061999797821045, 1.6053999662399292, 1.605299949645996, 1.6038000583648682, 1.6009000539779663, 1.6003999710083008, 1.5983999967575073, 1.5973000526428223, 1.597100019454956, 1.597000002861023, 1.594499945640564, 1.5793999433517456, 1.5841000080108643, 1.5484999418258667, 1.5497000217437744, 1.4312000274658203, 1.3866000175476074, 1.3760000467300415, 1.454699993133545, 1.1151000261306763, 1.3273999691009521, 0.5501000285148621, 0.26579999923706055, 1.2733999490737915, 0.876800000667572, 0.4934000074863434, 0.5652999877929688, 0.7728999853134155, 0.18850000202655792, 1.2872999906539917, 0.9239000082015991, 0.9890000224113464, 0.9567000269889832, -0.034299999475479126, 1.0817999839782715, -0.10350000113248825, 0.41179999709129333, 0.13519999384880066, 0.07479999959468842, 0.21660000085830688, -0.004600000102072954, 0.6093000173568726, -1.3272000551223755, -0.41290000081062317, -0.9085000157356262, -0.11999999731779099, -1.2316999435424805, 0.047200001776218414, 1.769700050354004, 1.7696000337600708, 1.7625000476837158, 1.7623000144958496, 1.7589000463485718, 1.7541999816894531, 1.7441999912261963, 1.743899941444397, 1.7424999475479126, 1.738800048828125, 1.7383999824523926, 1.7382999658584595, 1.7365000247955322, 1.7359999418258667, 1.7303999662399292, 1.7295000553131104, 1.7294000387191772, 1.7274999618530273, 1.7252999544143677, 1.7232999801635742, 1.7223999500274658, 1.7181999683380127, 1.718000054359436, 1.7178000211715698, 1.715999960899353, 1.7156000137329102, 1.7144999504089355, 1.7115000486373901, 1.7110999822616577, 1.7102999687194824, 1.7099000215530396, 1.694000005722046, 1.6800999641418457, 1.6568000316619873, 1.5506999492645264, 1.4574999809265137, 1.3072999715805054, 1.3818999528884888, 1.2984999418258667, 1.44159996509552, 0.9214000105857849, 1.2103999853134155, 1.2318999767303467, 1.344099998474121, 1.3425999879837036, 1.4987000226974487, 1.5324000120162964, 1.3573999404907227, 1.5449999570846558, 1.253999948501587, 1.061400055885315, 0.21040000021457672, 1.0679999589920044, 1.1568000316619873, 0.10509999841451645, 0.35429999232292175, -0.3456999957561493, 0.48890000581741333, -0.8578000068664551, 0.37709999084472656, 1.0133999586105347, -0.3531999886035919, 0.03449999913573265, 0.23270000517368317, -0.7843999862670898, 0.5149000287055969, 0.564300000667572, -1.9924999475479126, 2.254499912261963, 2.251199960708618, 2.2504000663757324, 2.2488999366760254, 2.241499900817871, 2.2411000728607178, 2.2291998863220215, 2.226300001144409, 2.2248001098632812, 2.220599889755249, 2.2060999870300293, 2.2002999782562256, 2.1995999813079834, 2.198699951171875, 2.194000005722046, 2.1902999877929688, 2.186800003051758, 2.1826000213623047, 2.1814000606536865, 2.180799961090088, 2.1805999279022217, 2.1798999309539795, 2.179500102996826, 2.1791000366210938, 2.174999952316284, 2.174999952316284, 2.1735000610351562, 2.170599937438965, 2.1684000492095947, 2.1638998985290527, 2.142899990081787, 2.1445000171661377, 2.140399932861328, 2.1345999240875244, 2.074899911880493, 2.0938000679016113, 2.0471999645233154, 1.982300043106079, 2.031899929046631, 1.9345999956130981, 1.871500015258789, 2.023200035095215, 1.7151000499725342, 1.7366000413894653, 1.8547999858856201, 1.7721999883651733, 1.7954000234603882, 1.8954999446868896, 2.044800043106079, 1.0230000019073486, 1.2556999921798706, 1.3358999490737915, 1.736899971961975, 0.46889999508857727, 1.4010000228881836, 0.7689999938011169, 1.228600025177002, 0.65829998254776, -0.38420000672340393, 0.1420000046491623, 0.9732000231742859, -1.3295999765396118, 0.3513999879360199, -0.1565999984741211, -0.932699978351593, 2.267199993133545, 2.2651000022888184, 2.2606000900268555, 2.257699966430664, 2.253700017929077, 2.253499984741211, 2.2495999336242676, 2.236799955368042, 2.2363998889923096, 2.234499931335449, 2.2298998832702637, 2.220099925994873, 2.219099998474121, 2.213900089263916, 2.213099956512451, 2.211400032043457, 2.210200071334839, 2.198899984359741, 2.1965999603271484, 2.193000078201294, 2.1902999877929688, 2.187299966812134, 2.1840999126434326, 2.183799982070923, 2.1821999549865723, 2.1810998916625977, 2.1803998947143555, 2.170599937438965, 2.163800001144409, 2.161799907684326, 2.100100040435791, 1.9249999523162842, 2.046099901199341, 1.770799994468689, 2.0768001079559326, 2.075000047683716, 1.9591000080108643, 1.9601999521255493, 1.6821000576019287, 1.698699951171875, 1.9596999883651733, 1.8532999753952026, 1.1647000312805176, 1.645900011062622, 1.276900053024292, 1.555799961090088, 0.8034999966621399, 0.3416999876499176, -0.12600000202655792, 0.38580000400543213, -1.0327999591827393, -0.6442000269889832, 1.1806000471115112, 0.4424000084400177, 0.892300009727478, 1.202299952507019, -0.6262000203132629, 1.0829999446868896, -0.8307999968528748, 0.5993000268936157, 0.996999979019165, -0.43799999356269836, -0.5541999936103821, -0.6823999881744385, 2.374300003051758, 2.363800048828125, 2.3615000247955322, 2.3564000129699707, 2.3533999919891357, 2.353100061416626, 2.3515000343322754, 2.3433001041412354, 2.338200092315674, 2.3348000049591064, 2.330399990081787, 2.327899932861328, 2.322499990463257, 2.31820011138916, 2.314300060272217, 2.3125998973846436, 2.309999942779541, 2.307800054550171, 2.303800106048584, 2.297800064086914, 2.2969000339508057, 2.2887001037597656, 2.2836999893188477, 2.2790000438690186, 2.278899908065796, 2.278700113296509, 2.277100086212158, 2.275700092315674, 2.275399923324585, 2.275099992752075, 2.2451000213623047, 2.270400047302246, 2.1554999351501465, 2.2030999660491943, 2.249799966812134, 2.1661999225616455, 1.9311000108718872, 1.7848000526428223, 1.8352999687194824, 1.9577000141143799, 1.5662000179290771, 1.7639000415802002, 1.6926000118255615, 1.8393000364303589, 2.036600112915039, 1.5204999446868896, 0.8824999928474426, 1.8533999919891357, 0.23989999294281006, 0.8450000286102295, 1.269700050354004, 1.6612999439239502, 0.060499999672174454, 0.7124999761581421, 1.0707999467849731, 1.2922999858856201, 0.4088999927043915, -0.3052000105381012, -1.7826000452041626, 1.2752000093460083, 0.5522000193595886, -0.32330000400543213, -1.6024999618530273, 2.4558000564575195, 2.4526000022888184, 2.4486000537872314, 2.445499897003174, 2.4365999698638916, 2.434000015258789, 2.4330999851226807, 2.4305999279022217, 2.4249000549316406, 2.420300006866455, 2.415299892425537, 2.4147000312805176, 2.4019999504089355, 2.398900032043457, 2.3921000957489014, 2.3879001140594482, 2.3817999362945557, 2.3775999546051025, 2.375499963760376, 2.3666000366210938, 2.3608999252319336, 2.3605000972747803, 2.3571999073028564, 2.3543999195098877, 2.3492000102996826, 2.340399980545044, 2.334700107574463, 2.333400011062622, 2.3315000534057617, 2.3294999599456787, 2.327199935913086, 2.225600004196167, 2.2258999347686768, 2.018199920654297, 2.197700023651123, 2.2167999744415283, 2.2495999336242676, 2.1714999675750732, 2.153899908065796, 1.7618000507354736, 1.5198999643325806, 2.0434000492095947, 1.9555000066757202, 0.6392999887466431, 1.4960999488830566, 1.242300033569336, 1.4174000024795532, 1.017899990081787, 0.46540001034736633, 1.3779000043869019, 0.37599998712539673, 0.19910000264644623, 0.34220001101493835, -0.3156999945640564, 0.22470000386238098, 0.1120000034570694, -1.4492000341415405, 0.06589999794960022, -2.2711000442504883, 0.6365000009536743, 2.6403000354766846, 2.6364998817443848, 2.6345999240875244, 2.6305999755859375, 2.6301000118255615, 2.6256000995635986, 2.625200033187866, 2.6229000091552734, 2.6219000816345215, 2.6194000244140625, 2.6145999431610107, 2.6135001182556152, 2.6119000911712646, 2.6070001125335693, 2.606600046157837, 2.60509991645813, 2.60260009765625, 2.6017000675201416, 2.599299907684326, 2.598599910736084, 2.5969998836517334, 2.594899892807007, 2.5931999683380127, 2.5880000591278076, 2.5876998901367188, 2.587399959564209, 2.586400032043457, 2.5859999656677246, 2.5841000080108643, 2.5792999267578125, 2.577500104904175, 2.5450000762939453, 2.513700008392334, 2.5376999378204346, 2.4832000732421875, 2.4565999507904053, 2.4839999675750732, 1.676900029182434, 2.264899969100952, 2.337599992752075, 1.8740999698638916, 2.163100004196167, 1.8976000547409058, 2.303999900817871, 2.1394999027252197, -0.007300000172108412, 0.8543999791145325, 1.7411999702453613, 1.9824999570846558, 2.0041000843048096, 0.8323000073432922, -0.09780000150203705, -0.8248000144958496, 0.35249999165534973, 0.26899999380111694, 1.1470999717712402, -0.5824999809265137, -1.4996000528335571, 0.45100000500679016, -1.054900050163269]}, \"token.table\": {\"Topic\": [1, 3, 7, 4, 3, 1, 2, 3, 4, 5, 6, 8, 3, 2, 3, 5, 1, 2, 3, 4, 5, 6, 8, 6, 8, 2, 3, 4, 5, 7, 8, 5, 1, 2, 3, 4, 5, 6, 7, 8, 7, 1, 2, 1, 5, 6, 5, 7, 8, 1, 2, 3, 4, 5, 6, 7, 8, 4, 5, 8, 7, 6, 5, 6, 1, 2, 3, 4, 5, 6, 7, 8, 4, 3, 5, 3, 7, 2, 3, 1, 5, 2, 5, 3, 5, 1, 5, 3, 2, 1, 2, 3, 5, 7, 1, 2, 3, 5, 8, 1, 2, 3, 4, 5, 6, 1, 8, 2, 3, 6, 7, 1, 2, 3, 4, 5, 6, 7, 8, 2, 7, 1, 2, 3, 4, 5, 6, 7, 8, 4, 2, 3, 6, 2, 5, 1, 2, 3, 4, 5, 2, 3, 6, 8, 6, 5, 1, 2, 3, 4, 5, 6, 8, 3, 4, 1, 2, 4, 8, 7, 1, 2, 3, 6, 7, 2, 3, 6, 8, 8, 1, 2, 3, 7, 8, 1, 2, 3, 4, 5, 6, 7, 8, 1, 2, 3, 5, 6, 7, 8, 1, 2, 3, 4, 5, 8, 5, 3, 2, 1, 2, 3, 4, 5, 6, 7, 8, 2, 5, 7, 1, 4, 1, 5, 1, 2, 3, 4, 5, 7, 8, 1, 6, 8, 2, 3, 4, 5, 1, 1, 2, 5, 2, 5, 8, 1, 2, 7, 2, 5, 8, 6, 1, 2, 3, 5, 6, 8, 2, 2, 6, 5, 2, 3, 4, 5, 6, 7, 8, 1, 2, 3, 6, 7, 8, 2, 4, 5, 6, 2, 4, 5, 6, 8, 4, 1, 2, 3, 2, 3, 4, 5, 6, 8, 6, 1, 2, 3, 5, 6, 8, 3, 7, 1, 2, 3, 6, 2, 1, 2, 3, 4, 5, 6, 8, 5, 3, 7, 1, 2, 3, 4, 5, 7, 8, 1, 2, 4, 7, 1, 1, 2, 3, 4, 5, 6, 7, 8, 8, 1, 7, 1, 2, 4, 1, 2, 3, 5, 6, 2, 5, 1, 2, 3, 4, 7, 1, 2, 3, 4, 5, 6, 7, 8, 6, 4, 1, 2, 6, 2, 3, 1, 2, 4, 5, 6, 8, 1, 2, 3, 4, 5, 7, 8, 4, 3, 4, 3, 4, 4, 5, 2, 5, 3, 8, 2, 6, 8, 1, 2, 3, 4, 5, 6, 7, 8, 2, 2, 7, 8, 2, 4, 6, 7, 6, 1, 2, 3, 4, 5, 8, 5, 5, 4, 1, 2, 3, 4, 5, 6, 8, 1, 2, 3, 4, 5, 8, 1, 2, 3, 4, 5, 6, 7, 8, 3, 8, 1, 5, 6, 1, 2, 3, 4, 5, 5, 7, 8, 7, 2, 3, 5, 8, 1, 2, 5, 1, 5, 2, 4, 1, 3, 4, 5, 6, 7, 6, 1, 2, 3, 4, 8, 1, 4, 1, 3, 8, 1, 2, 3, 4, 5, 8, 1, 2, 4, 5, 6, 7, 8, 1, 2, 3, 4, 5, 6, 7, 8, 1, 2, 5, 6, 6, 2, 6, 7, 1, 8, 1, 2, 3, 4, 5, 6, 7, 8, 2, 1, 2, 3, 1, 8, 1, 8, 1, 2, 3, 4, 5, 6, 7, 8, 2, 3, 4, 6, 8, 6, 5, 8, 7, 2, 1, 2, 3, 4, 5, 8, 8, 3, 4, 6, 6, 4, 5, 8, 1, 2, 3, 4, 5, 6, 7, 8, 2, 3, 4, 1, 2, 3, 5, 6, 7, 2, 3, 4, 5, 6, 2, 8, 1, 1, 2, 5, 5, 3, 2, 8, 1, 3, 1, 2, 3, 4, 6, 7, 8, 2, 7, 8, 7, 3, 2, 5, 2, 4, 5, 8, 8, 2, 1, 2, 3, 4, 6, 8, 8, 1, 2, 3, 4, 5, 6, 7, 8, 1, 2, 3, 4, 5, 6, 7, 8, 1, 2, 3, 4, 6, 7, 2, 1, 2, 3, 4, 5, 6, 7, 8, 4, 1, 2, 3, 4, 5, 6, 7, 8, 2, 3, 1, 3, 5, 8, 2, 8, 1, 2, 3, 4, 5, 7, 8, 8, 1, 2, 3, 4, 6, 7, 8, 7, 8, 1, 2, 3, 4, 5, 6, 7, 8, 1, 2, 3, 5, 6, 7, 2, 4, 5, 6, 2, 6, 7, 1, 2, 3, 2, 3, 1, 2, 3, 4, 5, 7, 8, 2, 3, 7, 5, 1, 5, 6, 2, 4, 5, 6, 5, 8, 8, 2, 4, 1, 2, 6, 7, 3, 7, 3, 6, 6, 4, 1, 2, 3, 4, 2, 3, 6, 1, 2, 8, 1, 2, 3, 4, 5, 6, 7, 8, 3, 2, 5, 2, 1, 2, 3, 4, 5, 6, 7, 8, 5, 1, 2, 4, 5, 8, 3, 1, 4, 6, 7, 8, 2, 6, 4, 2, 1, 2, 1, 2, 3, 4, 5, 6, 8, 1, 2, 3, 4, 6, 7, 1, 2, 3, 5, 6, 7, 8, 5, 1, 2, 3, 4, 5, 6, 7, 8, 1, 2, 3, 4, 5, 6, 7, 8, 1, 2, 8, 1, 5, 1, 8, 1, 2, 3, 4, 5, 6, 8, 1, 2, 3, 4, 5, 6, 8, 5, 5, 2, 4, 1, 2, 3, 4, 5, 6, 7, 8, 1, 2, 3, 4, 5, 6, 7, 8, 8, 1, 2, 4, 5, 4, 1, 4, 5, 3, 6, 7, 6, 2, 1, 2, 3, 4, 6, 2, 4, 7, 2, 3, 4, 5, 6, 8, 2, 3, 4, 5, 6, 8, 8, 6, 7, 2, 3, 4, 5, 8, 1, 2, 3, 4, 7, 8, 1, 2, 3, 6, 3, 3, 5, 6, 7, 1, 2, 3, 4, 5, 6, 8, 1, 2, 3, 6, 8, 1, 7, 1, 4, 1, 3, 6, 2, 8, 1, 1, 2, 3, 4, 5, 6, 7, 8, 1, 2, 3, 5, 2, 5, 5, 1, 2, 4, 5, 7, 8, 4, 6, 1, 2, 3, 4, 5, 6, 7, 8, 1, 2, 3, 4, 6, 2, 4, 5, 7, 8, 2, 5, 6, 3, 6, 1, 2, 3, 4, 5, 6, 7, 8, 5, 1, 2, 3, 4, 8, 2, 1, 2, 3, 4, 5, 6, 7, 8, 1, 2, 3, 4, 5, 6, 8, 1, 2, 3, 4, 5, 6, 7, 8, 4, 5, 4, 1, 5, 6, 2, 2, 3, 2, 3, 5, 6, 8, 2, 3, 1, 2, 3, 4, 5, 6, 8, 7, 3, 4, 1, 8, 3, 5, 4, 5, 7, 8, 1, 2, 4, 6, 7, 3, 4, 5, 6, 3, 2, 1, 2, 3, 4, 5, 6, 7, 2, 3, 4, 8, 3, 6, 1, 2, 3, 4, 5, 6, 7, 3, 6, 1, 2, 3, 4, 5, 6, 7, 2, 3, 4, 5, 6, 1, 2, 3, 4, 5, 6, 7, 8, 1, 2, 5, 8, 1, 2, 4, 5, 6, 7, 7, 1, 4, 1, 2, 4, 6, 8, 1, 2, 3, 4, 5, 6, 7, 8, 8, 1, 2, 3, 4, 5, 6, 8, 1, 2, 3, 5, 6, 7, 8, 7, 1, 2, 3, 4, 6, 1, 2, 4, 5, 6, 7, 8, 3, 3, 1, 3, 4, 5, 7, 1, 2, 6, 8, 4, 1, 2, 5, 8, 3, 1, 2, 3, 4, 6, 8, 1, 1, 2, 3, 4, 5, 6, 7, 8, 1, 2, 3, 1, 6, 1, 2, 5, 7, 8, 1, 7, 1, 2, 3, 4, 5, 6, 7, 8, 7, 1, 2, 3, 4, 5, 8, 7, 2, 6, 7, 1], \"Freq\": [0.956938624382019, 0.9772557616233826, 0.8698691725730896, 0.8957135081291199, 0.9633419513702393, 0.027279816567897797, 0.08547676354646683, 0.6037932634353638, 0.19641467928886414, 0.030917126685380936, 0.049103669822216034, 0.010911926627159119, 0.9317445755004883, 0.02464991807937622, 0.8627471923828125, 0.09859967231750488, 0.7145559191703796, 0.12609809637069702, 0.01200934313237667, 0.060046713799238205, 0.006004671566188335, 0.07205605506896973, 0.006004671566188335, 0.061237532645463943, 0.9185629487037659, 0.34364575147628784, 0.4550984501838684, 0.05572633817791939, 0.00928772334009409, 0.11145267635583878, 0.027863169088959694, 0.876020610332489, 0.3289889693260193, 0.2676520347595215, 0.28995636105537415, 0.03903258964419365, 0.011152167804539204, 0.011152167804539204, 0.02788042090833187, 0.02788042090833187, 0.885078489780426, 0.02190045826137066, 0.9636201858520508, 0.013309907168149948, 0.013309907168149948, 0.9716232419013977, 0.08905787765979767, 0.8905787467956543, 0.9570741057395935, 0.2012111097574234, 0.20674902200698853, 0.018459733575582504, 0.09968256205320358, 0.05168725550174713, 0.027689602226018906, 0.383962482213974, 0.011075840331614017, 0.8975389003753662, 0.03185215964913368, 0.9555647373199463, 0.9314978122711182, 0.9604589939117432, 0.9596154093742371, 0.9465755224227905, 0.1865987479686737, 0.33154597878456116, 0.06964131444692612, 0.06897488981485367, 0.05264750123023987, 0.1156245768070221, 0.15894214808940887, 0.0156609658151865, 0.9556853175163269, 0.14124885201454163, 0.8004101514816284, 0.9697209596633911, 0.9650288820266724, 0.05482861399650574, 0.9320864677429199, 0.904965341091156, 0.9525154232978821, 0.928831160068512, 0.04975881054997444, 0.038273826241493225, 0.9185718297958374, 0.9211507439613342, 0.03684602677822113, 0.9444159865379333, 0.9624887108802795, 0.8458272814750671, 0.031918011605739594, 0.09575403481721878, 0.015959005802869797, 0.9116650223731995, 0.29198595881462097, 0.043257180601358414, 0.47582897543907166, 0.18384301662445068, 0.005407147575169802, 0.9544881582260132, 0.8029286861419678, 0.00836384017020464, 0.01672768034040928, 0.04181919991970062, 0.12545759975910187, 0.09050669521093369, 0.8824402689933777, 0.06256598979234695, 0.1407734751701355, 0.5787354111671448, 0.20333945751190186, 0.07093999534845352, 0.21890056133270264, 0.2351154237985611, 0.35672685503959656, 0.0020268571097403765, 0.02634914219379425, 0.08918171375989914, 0.0020268571097403765, 0.9621712565422058, 0.9590492844581604, 0.7636115550994873, 0.050733987241983414, 0.02244003303349018, 0.006179139483720064, 0.08845926076173782, 0.018212201073765755, 0.01983829028904438, 0.03057047910988331, 0.8739579319953918, 0.09079135209321976, 0.02269783802330494, 0.8625178337097168, 0.9425188899040222, 0.8934802412986755, 0.2670954167842865, 0.04674169793725014, 0.06677385419607162, 0.5942872762680054, 0.013354770839214325, 0.14578616619110107, 0.6414591670036316, 0.029157234355807304, 0.18466247618198395, 0.974675178527832, 0.9100989699363708, 0.24055136740207672, 0.0353752002120018, 0.2547014653682709, 0.41035234928131104, 0.007075040601193905, 0.007075040601193905, 0.04952528327703476, 0.9274862408638, 0.9806487560272217, 0.030089901760220528, 0.030089901760220528, 0.04513484984636307, 0.8876520991325378, 0.9042530655860901, 0.08334383368492126, 0.04861723631620407, 0.6945319771766663, 0.1597423553466797, 0.006945319473743439, 0.02442432940006256, 0.35415276885032654, 0.47627440094947815, 0.1343338042497635, 0.9034282565116882, 0.057472728192806244, 0.028736364096403122, 0.028736364096403122, 0.8620908856391907, 0.028736364096403122, 0.006499340292066336, 0.17548218369483948, 0.20797888934612274, 0.032496701925992966, 0.022747691720724106, 0.15923383831977844, 0.2892206311225891, 0.10398944467306137, 0.004396425560116768, 0.050558894872665405, 0.04396425560116768, 0.004396425560116768, 0.7869601845741272, 0.10551421344280243, 0.004396425560116768, 0.009170821867883205, 0.9583508968353271, 0.004585410933941603, 0.004585410933941603, 0.009170821867883205, 0.01834164373576641, 0.9726554155349731, 0.9710222482681274, 0.9404475092887878, 0.6095290184020996, 0.012313717976212502, 0.006156858988106251, 0.16623519361019135, 0.05541172996163368, 0.03078429400920868, 0.036941152065992355, 0.08003916591405869, 0.09093382954597473, 0.03897164389491081, 0.8703666925430298, 0.9572180509567261, 0.855984628200531, 0.7484199404716492, 0.23388123512268066, 0.21006369590759277, 0.5134890675544739, 0.07780136913061142, 0.015560274012386799, 0.09336164593696594, 0.023340411484241486, 0.062241096049547195, 0.9602709412574768, 0.2571745812892914, 0.728661298751831, 0.04489244893193245, 0.28431883454322815, 0.5686376690864563, 0.0897848978638649, 0.9783689975738525, 0.010501045733690262, 0.4410439431667328, 0.5460544228553772, 0.022724324837327003, 0.11362162977457047, 0.8408000469207764, 0.03819529712200165, 0.19097648561000824, 0.7511741518974304, 0.9721902012825012, 0.9374996423721313, 0.9294617772102356, 0.8820556402206421, 0.023915313184261322, 0.07174593955278397, 0.011957656592130661, 0.023915313184261322, 0.059788282960653305, 0.8131206631660461, 0.9711970090866089, 0.05374384671449661, 0.9136453866958618, 0.9157320261001587, 0.1649744212627411, 0.6316163539886475, 0.04242199286818504, 0.01885421946644783, 0.028281329199671745, 0.0047135548666119576, 0.11312531679868698, 0.07560452818870544, 0.2754164934158325, 0.2052122801542282, 0.05940355360507965, 0.34562069177627563, 0.03240193799138069, 0.09180399775505066, 0.01530066691339016, 0.7803339958190918, 0.12240533530712128, 0.08117849379777908, 0.7793135046958923, 0.06494279205799103, 0.04870709404349327, 0.032471396028995514, 0.9294090270996094, 0.025053998455405235, 0.1753779947757721, 0.7766739726066589, 0.18787844479084015, 0.1565653681755066, 0.270075261592865, 0.36010032892227173, 0.019570671021938324, 0.007828268222510815, 0.9411693811416626, 0.8732064962387085, 0.0475214421749115, 0.017820540815591812, 0.029700901359319687, 0.02376072108745575, 0.005940180271863937, 0.08591823279857635, 0.8591822981834412, 0.21105723083019257, 0.6894536018371582, 0.07035241276025772, 0.028140963986516, 0.9576509594917297, 0.04295644909143448, 0.04295644909143448, 0.7076509594917297, 0.01356519479304552, 0.004521731287240982, 0.18539099395275116, 0.004521731287240982, 0.9192505478858948, 0.033811040222644806, 0.9467090964317322, 0.5499985218048096, 0.11470557004213333, 0.008823505602777004, 0.12352907657623291, 0.15588192641735077, 0.041176360100507736, 0.002941168611869216, 0.02519845776259899, 0.7559537291526794, 0.006299614440649748, 0.20788727700710297, 0.94125896692276, 0.060986727476119995, 0.19234275817871094, 0.01407385990023613, 0.11728216707706451, 0.01407385990023613, 0.5723369717597961, 0.032839007675647736, 0.0046912869438529015, 0.9846593141555786, 0.33651813864707947, 0.6489992737770081, 0.06647911667823792, 0.09971867501735687, 0.797749400138855, 0.09709904342889786, 0.03883961960673332, 0.5728843808174133, 0.10680894553661346, 0.1844881772994995, 0.9385265111923218, 0.02406478114426136, 0.8999117016792297, 0.05454010143876076, 0.02727005071938038, 0.009090016596019268, 0.009090016596019268, 0.9781093001365662, 0.181269109249115, 0.01208460796624422, 0.008056405000388622, 0.008056405000388622, 0.004028202500194311, 0.7774431109428406, 0.01208460796624422, 0.8853390216827393, 0.9608542323112488, 0.011175707913935184, 0.04470283165574074, 0.938759446144104, 0.04976334422826767, 0.9206218719482422, 0.26819100975990295, 0.00788797065615654, 0.7020293474197388, 0.00788797065615654, 0.00788797065615654, 0.00788797065615654, 0.19574084877967834, 0.08084947615861893, 0.055318064987659454, 0.5744568109512329, 0.008510471321642399, 0.012765707448124886, 0.0723390057682991, 0.8631318211555481, 0.9231240749359131, 0.06366372853517532, 0.018004324287176132, 0.9722335338592529, 0.9380236864089966, 0.8435255289077759, 0.9507712125778198, 0.030670039355754852, 0.906691312789917, 0.03626765310764313, 0.03613804280757904, 0.9034510254859924, 0.03613804280757904, 0.06883358955383301, 0.1847638338804245, 0.0024152135010808706, 0.012076067738234997, 0.22461485862731934, 0.012076067738234997, 0.12196828424930573, 0.373150497674942, 0.9789454936981201, 0.050438035279512405, 0.9331036806106567, 0.025219017639756203, 0.8182655572891235, 0.012397963553667068, 0.024795927107334137, 0.14877556264400482, 0.9164549112319946, 0.05737385153770447, 0.3059938848018646, 0.00956230890005827, 0.0860607773065567, 0.5163646936416626, 0.00956230890005827, 0.9174128770828247, 0.9570016860961914, 0.9555454254150391, 0.8319869637489319, 0.08553136885166168, 0.015551157295703888, 0.007775578647851944, 0.03887789323925972, 0.007775578647851944, 0.007775578647851944, 0.6958184242248535, 0.1516527235507965, 0.008920748718082905, 0.12489048391580582, 0.008920748718082905, 0.008920748718082905, 0.41291773319244385, 0.21986527740955353, 0.02681283839046955, 0.2627658247947693, 0.005362567957490683, 0.02145027182996273, 0.04290054365992546, 0.9462836384773254, 0.9444447159767151, 0.9588766694068909, 0.0807780772447586, 0.8885588049888611, 0.8749315738677979, 0.06159854307770729, 0.7671818733215332, 0.005599867552518845, 0.005599867552518845, 0.15679629147052765, 0.70363450050354, 0.175908625125885, 0.07036345452070236, 0.8828637599945068, 0.2478571981191635, 0.12392859905958176, 0.017704084515571594, 0.5842348337173462, 0.06369210034608841, 0.7218437790870667, 0.2016916424036026, 0.9570286273956299, 0.9709997773170471, 0.02826397866010666, 0.9609752893447876, 0.022804640233516693, 0.629408061504364, 0.05929206684231758, 0.009121856652200222, 0.2645338475704193, 0.009121856652200222, 0.8837940096855164, 0.014640151523053646, 0.24156250059604645, 0.24156250059604645, 0.029280303046107292, 0.4684848487377167, 0.15794698894023895, 0.816059410572052, 0.025158055126667023, 0.27673861384391785, 0.704425573348999, 0.062378495931625366, 0.015594623982906342, 0.038986559957265854, 0.007797311991453171, 0.015594623982906342, 0.8577042818069458, 0.005537555553019047, 0.011075111106038094, 0.0027687777765095234, 0.01384388841688633, 0.01384388841688633, 0.9469220042228699, 0.005537555553019047, 0.04295864701271057, 0.08248060196638107, 0.5515890121459961, 0.07732556760311127, 0.001718345913104713, 0.0343669168651104, 0.1185658648610115, 0.09107232838869095, 0.01890668272972107, 0.05672004818916321, 0.09453341364860535, 0.831894040107727, 0.8792631030082703, 0.9263845086097717, 0.03705538064241409, 0.9294513463973999, 0.9559911489486694, 0.9589706063270569, 0.04472147300839424, 0.16994158923625946, 0.09167902171611786, 0.01565251499414444, 0.004472147207707167, 0.43603435158729553, 0.2325516641139984, 0.006708221044391394, 0.9520915746688843, 0.9113813042640686, 0.08285284787416458, 0.9341568946838379, 0.9612455368041992, 0.9564990401268005, 0.9562584757804871, 0.9147294759750366, 0.08374489843845367, 0.23102040588855743, 0.20286479592323303, 0.28227806091308594, 0.008663265034556389, 0.06714030355215073, 0.0613647922873497, 0.06353060901165009, 0.014001880772411823, 0.7420997023582458, 0.028003761544823647, 0.21002821624279022, 0.014001880772411823, 0.9889217019081116, 0.9292363524436951, 0.934158205986023, 0.9052563905715942, 0.9498005509376526, 0.2282000482082367, 0.6846001744270325, 0.009921741671860218, 0.049608707427978516, 0.009921741671860218, 0.019843483343720436, 0.9808185696601868, 0.9147883057594299, 0.8594491481781006, 0.8691747784614563, 0.9424256086349487, 0.9190638065338135, 0.9420800805091858, 0.9806206822395325, 0.1032203659415245, 0.3369492292404175, 0.11508477479219437, 0.08661019057035446, 0.1471186876296997, 0.037966109812259674, 0.009491527453064919, 0.16372884809970856, 0.13331152498722076, 0.08887434750795364, 0.7776505351066589, 0.4077756106853485, 0.4591251313686371, 0.009061680175364017, 0.003020560136064887, 0.11780184507369995, 0.003020560136064887, 0.3260517120361328, 0.02460767701268196, 0.29529210925102234, 0.246076762676239, 0.10458262264728546, 0.9304012656211853, 0.906597912311554, 0.9522638320922852, 0.1258508712053299, 0.3286105990409851, 0.5383620262145996, 0.9626248478889465, 0.9467228651046753, 0.026471329852938652, 0.9529678821563721, 0.9537450075149536, 0.9458587169647217, 0.3844081461429596, 0.2013566493988037, 0.00610171677544713, 0.01220343355089426, 0.00610171677544713, 0.3722047209739685, 0.01220343355089426, 0.967229425907135, 0.9521369934082031, 0.952410876750946, 0.9310705661773682, 0.9036774635314941, 0.14944569766521454, 0.7970437407493591, 0.11210751533508301, 0.8662853240966797, 0.010191592387855053, 0.010191592387855053, 0.9065699577331543, 0.9703269004821777, 0.05127967894077301, 0.2153746485710144, 0.14358310401439667, 0.010255935601890087, 0.5743324160575867, 0.9596399664878845, 0.8864254355430603, 0.05734413117170334, 0.03479306772351265, 0.0019329481292515993, 0.012242005206644535, 0.14110521972179413, 0.09664741158485413, 0.6307854056358337, 0.02448401041328907, 0.6536138653755188, 0.1476784497499466, 0.057430509477853775, 0.002734786132350564, 0.01914350315928459, 0.09298273175954819, 0.010939144529402256, 0.01640871725976467, 0.03555181995034218, 0.12798655033111572, 0.04977254942059517, 0.7323675155639648, 0.042662184685468674, 0.007110364269465208, 0.9841499924659729, 0.005156095139682293, 0.030936572700738907, 0.05156095325946808, 0.21827469766139984, 0.05156095325946808, 0.5431087017059326, 0.001718698418699205, 0.09968450665473938, 0.9012442827224731, 0.08580584079027176, 0.1062358021736145, 0.5638669729232788, 0.01225797738879919, 0.06537587940692902, 0.04698891192674637, 0.09397782385349274, 0.02451595477759838, 0.9685453176498413, 0.9128771424293518, 0.9477850198745728, 0.9073142409324646, 0.0716300681233406, 0.023876691237092018, 0.9256587028503418, 0.9097846150398254, 0.658383846282959, 0.2674684226512909, 0.03703409060835838, 0.004114898853003979, 0.004114898853003979, 0.004114898853003979, 0.024689393118023872, 0.9750701785087585, 0.010666219517588615, 0.0515533946454525, 0.0035554065834730864, 0.8639638423919678, 0.0035554065834730864, 0.06044191122055054, 0.007110813166946173, 0.9710069894790649, 0.019420139491558075, 0.1902434080839157, 0.31292372941970825, 0.07467497885227203, 0.11645741015672684, 0.04356040433049202, 0.22046898305416107, 0.0017779757035896182, 0.03911546617746353, 0.018324142321944237, 0.21988971531391144, 0.274862140417099, 0.32983458042144775, 0.045810356736183167, 0.10994485765695572, 0.08770129829645157, 0.8945532441139221, 0.008770129643380642, 0.008770129643380642, 0.08058824390172958, 0.8864706754684448, 0.026862747967243195, 0.03900495916604996, 0.07800991833209991, 0.8776115775108337, 0.9489365220069885, 0.9616408348083496, 0.48220300674438477, 0.1395052820444107, 0.23958514630794525, 0.10614532232284546, 0.006065446883440018, 0.009098170325160027, 0.018196340650320053, 0.030082376673817635, 0.15041188895702362, 0.7821418046951294, 0.8244049549102783, 0.9287424683570862, 0.06296336650848389, 0.8814870715141296, 0.1439453512430191, 0.11515627801418304, 0.7197267413139343, 0.02878906950354576, 0.8989754915237427, 0.9387686848640442, 0.9408538937568665, 0.06217687204480171, 0.9326530694961548, 0.029966851696372032, 0.1498342603445053, 0.8091050386428833, 0.029966851696372032, 0.3918640613555908, 0.5877960920333862, 0.06618274748325348, 0.9265584349632263, 0.9220352172851562, 0.9174177646636963, 0.07745659351348877, 0.37621772289276123, 0.5200656652450562, 0.0110652269795537, 0.051092419773340225, 0.22991590201854706, 0.68974769115448, 0.9450270533561707, 0.04108813405036926, 0.9291500449180603, 0.4011395275592804, 0.12713037431240082, 0.02715406008064747, 0.041965365409851074, 0.32214590907096863, 0.0654166042804718, 0.013577030040323734, 0.00246855104342103, 0.9525267481803894, 0.9059346914291382, 0.06968728452920914, 0.955773651599884, 0.1811317652463913, 0.2496330291032791, 0.4134592115879059, 0.026823652908205986, 0.035764869302511215, 0.015286597423255444, 0.008652791380882263, 0.0692223310470581, 0.8631972670555115, 0.12005363404750824, 0.33287596702575684, 0.049112848937511444, 0.03819888085126877, 0.45292961597442627, 0.8755002617835999, 0.9629284143447876, 0.005980921909213066, 0.005980921909213066, 0.005980921909213066, 0.0179427657276392, 0.056256067007780075, 0.9322434067726135, 0.8709008693695068, 0.9644074440002441, 0.9610306620597839, 0.019220612943172455, 0.010509270243346691, 0.063055619597435, 0.17865759134292603, 0.22594931721687317, 0.0945834368467331, 0.41511619091033936, 0.0052546351216733456, 0.04774314537644386, 0.019097259268164635, 0.028645887970924377, 0.8593766093254089, 0.03819451853632927, 0.9183148741722107, 0.08330371975898743, 0.49982231855392456, 0.007573065813630819, 0.060584526509046555, 0.32564181089401245, 0.007573065813630819, 0.015146131627261639, 0.8507087826728821, 0.07762715220451355, 0.17263351380825043, 0.010427527129650116, 0.01853782683610916, 0.6882168054580688, 0.00463445670902729, 0.011586141772568226, 0.017379213124513626, 0.026986734941601753, 0.05599747225642204, 0.6085508465766907, 0.16192041337490082, 0.006746683735400438, 0.002698673401027918, 0.13358433544635773, 0.004722678568214178, 0.030275581404566765, 0.030275581404566765, 0.9385430216789246, 0.04616854712367058, 0.9233709573745728, 0.047868918627500534, 0.9334439039230347, 0.28991860151290894, 0.10308217257261276, 0.009663953445851803, 0.5637306571006775, 0.022549225017428398, 0.009663953445851803, 0.003221317892894149, 0.0029395073652267456, 0.015677371993660927, 0.11660046130418777, 0.039683349430561066, 0.8201225399971008, 0.001959671499207616, 0.0029395073652267456, 0.9581170082092285, 0.9621408581733704, 0.06703723967075348, 0.8714840412139893, 0.04953298345208168, 0.2759694755077362, 0.21228420734405518, 0.04953298345208168, 0.042456842958927155, 0.3325785994529724, 0.007076140493154526, 0.03538070246577263, 0.8157868385314941, 0.07711794227361679, 0.009072698652744293, 0.015877222642302513, 0.05368013679981232, 0.0037802911829203367, 0.0052924077026546, 0.018901456147432327, 0.9829738736152649, 0.20272980630397797, 0.19974848628044128, 0.002981320722028613, 0.590301513671875, 0.916675865650177, 0.944725751876831, 0.018524033948779106, 0.018524033948779106, 0.19365651905536652, 0.04841412976384163, 0.7262119650840759, 0.9567720293998718, 0.9518343210220337, 0.034528933465480804, 0.05179340019822121, 0.20717360079288483, 0.6733141541481018, 0.017264466732740402, 0.0472073033452034, 0.17309345304965973, 0.7710526585578918, 0.02634190209209919, 0.3600060045719147, 0.02634190209209919, 0.02634190209209919, 0.16683204472064972, 0.3951285183429718, 0.009703167714178562, 0.7762534022331238, 0.004851583857089281, 0.024257918819785118, 0.13584434986114502, 0.048515837639570236, 0.961725652217865, 0.9445675015449524, 0.926919162273407, 0.20433060824871063, 0.06287095695734024, 0.04715321585536003, 0.01571773923933506, 0.6758627891540527, 0.015272238291800022, 0.10690566897392273, 0.19853909313678741, 0.09163343161344528, 0.07636119425296783, 0.5039838552474976, 0.8503818511962891, 0.08296408504247665, 0.04148204252123833, 0.020741021260619164, 0.9474210143089294, 0.18050174415111542, 0.0180501751601696, 0.0180501751601696, 0.7761574983596802, 0.010092774406075478, 0.015139160677790642, 0.2775512933731079, 0.3482007086277008, 0.015139160677790642, 0.3229687809944153, 0.015139160677790642, 0.13075529038906097, 0.3050956726074219, 0.27240684628486633, 0.07082577794790268, 0.21792547404766083, 0.973659336566925, 0.8292084336280823, 0.9527150392532349, 0.9313719272613525, 0.9237109422683716, 0.059977613389492035, 0.8996641635894775, 0.9459568858146667, 0.030514737591147423, 0.966219425201416, 0.4100751280784607, 0.19124579429626465, 0.05332815647125244, 0.1434343457221985, 0.05700596049427986, 0.1379176378250122, 0.005516705568879843, 0.0018389018950983882, 0.9129098653793335, 0.01573982462286949, 0.01573982462286949, 0.06295929849147797, 0.966335654258728, 0.8931255340576172, 0.9106269478797913, 0.37628015875816345, 0.48114511370658875, 0.018505582585930824, 0.024674108251929283, 0.08635938167572021, 0.006168527062982321, 0.903393566608429, 0.08603748679161072, 0.029700055718421936, 0.027720052748918533, 0.6553812026977539, 0.005940011236816645, 0.04158007726073265, 0.21186040341854095, 0.0019800036679953337, 0.02574004791676998, 0.04801402986049652, 0.009602805599570274, 0.2784813642501831, 0.6433879733085632, 0.009602805599570274, 0.15617699921131134, 0.8121203780174255, 0.010411799885332584, 0.010411799885332584, 0.010411799885332584, 0.016798803582787514, 0.9659311771392822, 0.008399401791393757, 0.9573798179626465, 0.9427271485328674, 0.11981133371591568, 0.41495633125305176, 0.26884496212005615, 0.014611138962209225, 0.01168891042470932, 0.04967787116765976, 0.01168891042470932, 0.10812242329120636, 0.9185083508491516, 0.5763487815856934, 0.2881743907928467, 0.02241356484591961, 0.09285619109869003, 0.01600968837738037, 0.9865215420722961, 0.7644437551498413, 0.10230473428964615, 0.051152367144823074, 0.008525394834578037, 0.005683596711605787, 0.03410157933831215, 0.02273438684642315, 0.008525394834578037, 0.22206318378448486, 0.20275333523750305, 0.009654920548200607, 0.23171809315681458, 0.2993025481700897, 0.019309841096401215, 0.019309841096401215, 0.43290644884109497, 0.04597236588597298, 0.06895855069160461, 0.3869341015815735, 0.01532412227243185, 0.011493091471493244, 0.026817213743925095, 0.01532412227243185, 0.9569488763809204, 0.9438408017158508, 0.9248456954956055, 0.058306340128183365, 0.058306340128183365, 0.8745951056480408, 0.975382387638092, 0.902724027633667, 0.07965212315320969, 0.3037169575691223, 0.12654873728752136, 0.018982309848070145, 0.5315046906471252, 0.012654872611165047, 0.930595338344574, 0.9120853543281555, 0.6310756802558899, 0.17848604917526245, 0.019123505800962448, 0.04462151229381561, 0.012749004177749157, 0.10836653411388397, 0.012749004177749157, 0.9545691013336182, 0.7612055540084839, 0.2238840013742447, 0.041479725390672684, 0.9125539660453796, 0.2674444019794464, 0.7131851315498352, 0.9128679633140564, 0.010763906873762608, 0.979515552520752, 0.010763906873762608, 0.01473073661327362, 0.0049102455377578735, 0.0049102455377578735, 0.0049102455377578735, 0.9722285866737366, 0.306351900100708, 0.6607589721679688, 0.02402760088443756, 0.00600690022110939, 0.9074957370758057, 0.986099898815155, 0.22650553286075592, 0.011325276456773281, 0.17554178833961487, 0.02831319160759449, 0.08493957668542862, 0.13024067878723145, 0.33409565687179565, 0.03305092453956604, 0.14872917532920837, 0.7932222485542297, 0.01652546226978302, 0.9566165804862976, 0.9358553290367126, 0.009441504254937172, 0.009441504254937172, 0.03776601701974869, 0.6136977672576904, 0.27380362153053284, 0.03776601701974869, 0.009441504254937172, 0.9086194038391113, 0.9712775945663452, 0.42052125930786133, 0.30239731073379517, 0.17482344806194305, 0.009449915960431099, 0.08032428473234177, 0.0047249579802155495, 0.014174873940646648, 0.2656676471233368, 0.1021798625588417, 0.2350136935710907, 0.3371935486793518, 0.06130791828036308, 0.04146694764494896, 0.5837270021438599, 0.18287986516952515, 0.03827718272805214, 0.01913859136402607, 0.029771141707897186, 0.10207248479127884, 0.0021265100222080946, 0.0638837143778801, 0.17568020522594452, 0.23956391215324402, 0.5110697150230408, 0.31007814407348633, 0.010002520866692066, 0.15003781020641327, 0.480120986700058, 0.020005041733384132, 0.020005041733384132, 0.8850488066673279, 0.954054594039917, 0.9475551247596741, 0.009709266014397144, 0.3495335578918457, 0.004854633007198572, 0.6262476444244385, 0.004854633007198572, 0.2503749132156372, 0.23810163140296936, 0.16937126219272614, 0.0662757083773613, 0.0024546559434384108, 0.08100364357233047, 0.031910527497529984, 0.15955263376235962, 0.957017183303833, 0.05502741411328316, 0.26596584916114807, 0.05961303412914276, 0.11005482822656631, 0.004585617687553167, 0.4952467381954193, 0.009171235375106335, 0.004456935916095972, 0.004456935916095972, 0.017827743664383888, 0.017827743664383888, 0.9270427227020264, 0.004456935916095972, 0.022284680977463722, 0.8315584659576416, 0.03371918201446533, 0.17983563244342804, 0.011239727027714252, 0.12363699823617935, 0.6406644582748413, 0.4963241219520569, 0.2064356952905655, 0.05709923803806305, 0.004392249044030905, 0.004392249044030905, 0.15812095999717712, 0.07027598470449448, 0.9319006204605103, 0.8921844363212585, 0.013979137875139713, 0.03494784235954285, 0.9086439609527588, 0.006989568937569857, 0.03494784235954285, 0.4096272587776184, 0.5605425834655762, 0.010779664851725101, 0.010779664851725101, 0.895194947719574, 0.015622951090335846, 0.10936065763235092, 0.2655901610851288, 0.609295129776001, 0.9581331014633179, 0.0037409616634249687, 0.011222884990274906, 0.014963846653699875, 0.8641621470451355, 0.07481923699378967, 0.02992769330739975, 0.9148364663124084, 0.06635505706071854, 0.1990651786327362, 0.48107415437698364, 0.016588764265179634, 0.0995325893163681, 0.0995325893163681, 0.024883147329092026, 0.016588764265179634, 0.04151494428515434, 0.934086263179779, 0.8750161528587341, 0.9084311723709106, 0.9732473492622375, 0.9503088593482971, 0.24454858899116516, 0.6447190046310425, 0.0444633811712265, 0.0444633811712265, 0.26344430446624756, 0.7317897081375122, 0.07207536697387695, 0.09129545837640762, 0.18739594519138336, 0.09610048681497574, 0.0048050242476165295, 0.014415073208510876, 0.4901124835014343, 0.04805024340748787, 0.9585060477256775, 0.009260807186365128, 0.018521614372730255, 0.009260807186365128, 0.027782421559095383, 0.1018688753247261, 0.8334726691246033, 0.9299400448799133, 0.08437801152467728, 0.900032103061676, 0.8729339241981506, 0.9669502973556519], \"Term\": [\"access\", \"accessory\", \"adaptor\", \"advertising\", \"alarm\", \"amazon\", \"amazon\", \"amazon\", \"amazon\", \"amazon\", \"amazon\", \"amazon\", \"amazone\", \"amount\", \"amount\", \"amount\", \"android\", \"android\", \"android\", \"android\", \"android\", \"android\", \"android\", \"apne\", \"apne\", \"application\", \"application\", \"application\", \"application\", \"application\", \"application\", \"approx\", \"apps\", \"apps\", \"apps\", \"apps\", \"apps\", \"apps\", \"apps\", \"apps\", \"aspect\", \"atmos\", \"atmos\", \"awesome\", \"awesome\", \"awesome\", \"awsome\", \"awsome\", \"baad\", \"backup\", \"backup\", \"backup\", \"backup\", \"backup\", \"backup\", \"backup\", \"backup\", \"bada\", \"bahut\", \"bahut\", \"bank\", \"basis\", \"batery\", \"batter\", \"battery\", \"battery\", \"battery\", \"battery\", \"battery\", \"battery\", \"battery\", \"battery\", \"battry\", \"beast\", \"beast\", \"bekar\", \"benefit\", \"bettery\", \"bettery\", \"bhai\", \"bhut\", \"bill\", \"bill\", \"blur\", \"blur\", \"bokeh\", \"bokeh\", \"book\", \"bottom\", \"brightness\", \"brightness\", \"brightness\", \"brightness\", \"brother\", \"budget\", \"budget\", \"budget\", \"budget\", \"budget\", \"buget\", \"button\", \"button\", \"button\", \"button\", \"button\", \"buying\", \"buying\", \"cable\", \"cable\", \"cable\", \"cable\", \"call\", \"call\", \"call\", \"call\", \"call\", \"call\", \"call\", \"call\", \"caller\", \"camara\", \"camera\", \"camera\", \"camera\", \"camera\", \"camera\", \"camera\", \"camera\", \"camera\", \"camra\", \"capacity\", \"capacity\", \"capacity\", \"capture\", \"capturing\", \"card\", \"card\", \"card\", \"card\", \"card\", \"care\", \"care\", \"care\", \"care\", \"cash\", \"cashback\", \"cast\", \"cast\", \"cast\", \"cast\", \"cast\", \"cast\", \"cast\", \"casting\", \"category\", \"cell\", \"cell\", \"cell\", \"cell\", \"cemara\", \"center\", \"center\", \"center\", \"center\", \"center\", \"centre\", \"centre\", \"centre\", \"centre\", \"chalti\", \"change\", \"change\", \"change\", \"change\", \"change\", \"charge\", \"charge\", \"charge\", \"charge\", \"charge\", \"charge\", \"charge\", \"charge\", \"charger\", \"charger\", \"charger\", \"charger\", \"charger\", \"charger\", \"charger\", \"charging\", \"charging\", \"charging\", \"charging\", \"charging\", \"charging\", \"china\", \"chromecast\", \"claim\", \"clarity\", \"clarity\", \"clarity\", \"clarity\", \"clarity\", \"clarity\", \"clarity\", \"clarity\", \"class\", \"class\", \"class\", \"clearity\", \"clock\", \"color\", \"color\", \"company\", \"company\", \"company\", \"company\", \"company\", \"company\", \"company\", \"comparison\", \"complain\", \"complain\", \"complaint\", \"complaint\", \"complaint\", \"complaint\", \"concern\", \"condition\", \"condition\", \"condition\", \"configuration\", \"configuration\", \"configuration\", \"connectivity\", \"connectivity\", \"connectivity\", \"control\", \"cool\", \"copy\", \"corner\", \"cost\", \"cost\", \"cost\", \"cost\", \"cost\", \"cost\", \"coverage\", \"crack\", \"crack\", \"curve\", \"customer\", \"customer\", \"customer\", \"customer\", \"customer\", \"customer\", \"customer\", \"data\", \"data\", \"data\", \"data\", \"data\", \"data\", \"date\", \"date\", \"date\", \"date\", \"deca\", \"deca\", \"deca\", \"deca\", \"deca\", \"decacore\", \"defect\", \"defect\", \"defect\", \"delivery\", \"delivery\", \"delivery\", \"delivery\", \"delivery\", \"delivery\", \"department\", \"depth\", \"depth\", \"depth\", \"depth\", \"depth\", \"depth\", \"description\", \"description\", \"design\", \"design\", \"design\", \"design\", \"detail\", \"device\", \"device\", \"device\", \"device\", \"device\", \"device\", \"device\", \"difficulty\", \"discharge\", \"discharge\", \"display\", \"display\", \"display\", \"display\", \"display\", \"display\", \"display\", \"dolby\", \"dolby\", \"dolby\", \"dolby\", \"download\", \"drain\", \"drain\", \"drain\", \"drain\", \"drain\", \"drain\", \"drain\", \"drain\", \"drainage\", \"draining\", \"draining\", \"drop\", \"drop\", \"drop\", \"earphone\", \"earphone\", \"earphone\", \"earphone\", \"earphone\", \"edge\", \"edge\", \"effect\", \"effect\", \"effect\", \"effect\", \"effect\", \"effort\", \"everything\", \"everything\", \"everything\", \"everything\", \"everything\", \"everything\", \"everything\", \"everytime\", \"example\", \"excellent\", \"excellent\", \"excellent\", \"exchange\", \"exchange\", \"expectation\", \"expectation\", \"expectation\", \"expectation\", \"expectation\", \"expectation\", \"experience\", \"experience\", \"experience\", \"experience\", \"experience\", \"experience\", \"experience\", \"extent\", \"face\", \"face\", \"facility\", \"facility\", \"factory\", \"fair\", \"fall\", \"fall\", \"fault\", \"fault\", \"faulty\", \"faulty\", \"faulty\", \"feature\", \"feature\", \"feature\", \"feature\", \"feature\", \"feature\", \"feature\", \"feature\", \"feel\", \"fine\", \"fine\", \"fine\", \"fingerprint\", \"fingerprint\", \"fingerprint\", \"fingerprint\", \"fire\", \"flash\", \"flash\", \"flash\", \"flash\", \"flash\", \"flash\", \"flashlight\", \"folder\", \"fone\", \"front\", \"front\", \"front\", \"front\", \"front\", \"front\", \"front\", \"gallery\", \"gallery\", \"gallery\", \"gallery\", \"gallery\", \"gallery\", \"game\", \"game\", \"game\", \"game\", \"game\", \"game\", \"game\", \"gaya\", \"generation\", \"gesture\", \"ghatiya\", \"ghatiya\", \"gift\", \"glass\", \"glass\", \"glass\", \"glass\", \"glass\", \"good\", \"good\", \"good\", \"goog\", \"google\", \"google\", \"google\", \"google\", \"gorilla\", \"gorilla\", \"gorilla\", \"graphic\", \"group\", \"half\", \"half\", \"handset\", \"handset\", \"handset\", \"handset\", \"handset\", \"handset\", \"handsfree\", \"hang\", \"hang\", \"hang\", \"hang\", \"hang\", \"hanging\", \"hanging\", \"head\", \"head\", \"head\", \"headphone\", \"headphone\", \"headphone\", \"headphone\", \"headphone\", \"headphone\", \"heat\", \"heat\", \"heat\", \"heat\", \"heat\", \"heat\", \"heat\", \"heating\", \"heating\", \"heating\", \"heating\", \"heating\", \"heating\", \"heating\", \"heating\", \"help\", \"help\", \"help\", \"help\", \"history\", \"home\", \"home\", \"hone\", \"hope\", \"hota\", \"hour\", \"hour\", \"hour\", \"hour\", \"hour\", \"hour\", \"hour\", \"hour\", \"icon\", \"image\", \"image\", \"imei\", \"india\", \"invoice\", \"iron\", \"isme\", \"issue\", \"issue\", \"issue\", \"issue\", \"issue\", \"issue\", \"issue\", \"issue\", \"item\", \"item\", \"item\", \"item\", \"item\", \"jata\", \"joke\", \"jyada\", \"karne\", \"karo\", \"killer\", \"killer\", \"killer\", \"killer\", \"killer\", \"killer\", \"kiya\", \"knowledge\", \"language\", \"last\", \"launch\", \"lena\", \"lenevo\", \"lenova\", \"lenovo\", \"lenovo\", \"lenovo\", \"lenovo\", \"lenovo\", \"lenovo\", \"lenovo\", \"lenovo\", \"level\", \"level\", \"level\", \"life\", \"life\", \"life\", \"life\", \"life\", \"life\", \"light\", \"light\", \"light\", \"light\", \"light\", \"limit\", \"liye\", \"location\", \"look\", \"look\", \"look\", \"loss\", \"love\", \"mail\", \"mail\", \"manager\", \"manufacturing\", \"mark\", \"mark\", \"mark\", \"mark\", \"mark\", \"mark\", \"mark\", \"mast\", \"material\", \"mean\", \"mention\", \"menu\", \"mera\", \"mera\", \"message\", \"message\", \"message\", \"message\", \"mila\", \"mind\", \"minute\", \"minute\", \"minute\", \"minute\", \"minute\", \"mobail\", \"mobil\", \"mobile\", \"mobile\", \"mobile\", \"mobile\", \"mobile\", \"mobile\", \"mobile\", \"mobile\", \"mode\", \"mode\", \"mode\", \"mode\", \"mode\", \"mode\", \"mode\", \"mode\", \"model\", \"model\", \"model\", \"model\", \"model\", \"model\", \"moment\", \"money\", \"money\", \"money\", \"money\", \"money\", \"money\", \"money\", \"money\", \"moneycamera\", \"month\", \"month\", \"month\", \"month\", \"month\", \"month\", \"month\", \"month\", \"morning\", \"motherboard\", \"motion\", \"motorola\", \"motorola\", \"motorola\", \"movie\", \"mujhe\", \"music\", \"music\", \"music\", \"music\", \"music\", \"music\", \"music\", \"nahi\", \"network\", \"network\", \"network\", \"network\", \"network\", \"network\", \"network\", \"nice\", \"nice\", \"note\", \"note\", \"note\", \"note\", \"note\", \"note\", \"note\", \"note\", \"nothing\", \"nothing\", \"nothing\", \"nothing\", \"nothing\", \"nothing\", \"notification\", \"notification\", \"notification\", \"notification\", \"number\", \"number\", \"number\", \"offer\", \"offer\", \"offer\", \"office\", \"optimization\", \"option\", \"option\", \"option\", \"option\", \"option\", \"option\", \"option\", \"others\", \"others\", \"others\", \"otherwise\", \"overheat\", \"pack\", \"pack\", \"package\", \"package\", \"package\", \"package\", \"packaging\", \"packing\", \"paisa\", \"panel\", \"panel\", \"paper\", \"paper\", \"paper\", \"paper\", \"party\", \"party\", \"patch\", \"patch\", \"peace\", \"penny\", \"people\", \"people\", \"people\", \"people\", \"percent\", \"percent\", \"percent\", \"percentage\", \"percentage\", \"perfect\", \"performance\", \"performance\", \"performance\", \"performance\", \"performance\", \"performance\", \"performance\", \"performance\", \"persist\", \"person\", \"person\", \"phon\", \"phone\", \"phone\", \"phone\", \"phone\", \"phone\", \"phone\", \"phone\", \"phone\", \"phoneall\", \"photo\", \"photo\", \"photo\", \"photo\", \"photo\", \"pickup\", \"picture\", \"picture\", \"picture\", \"picture\", \"picture\", \"piece\", \"piece\", \"pixal\", \"place\", \"player\", \"player\", \"please\", \"please\", \"please\", \"please\", \"please\", \"please\", \"please\", \"policy\", \"policy\", \"policy\", \"policy\", \"policy\", \"position\", \"power\", \"power\", \"power\", \"power\", \"power\", \"power\", \"power\", \"powerfull\", \"price\", \"price\", \"price\", \"price\", \"price\", \"price\", \"price\", \"price\", \"problem\", \"problem\", \"problem\", \"problem\", \"problem\", \"problem\", \"problem\", \"problem\", \"process\", \"process\", \"process\", \"processer\", \"processer\", \"processing\", \"processing\", \"processor\", \"processor\", \"processor\", \"processor\", \"processor\", \"processor\", \"processor\", \"product\", \"product\", \"product\", \"product\", \"product\", \"product\", \"product\", \"protection\", \"provide\", \"provider\", \"provider\", \"purchase\", \"purchase\", \"purchase\", \"purchase\", \"purchase\", \"purchase\", \"purchase\", \"purchase\", \"quality\", \"quality\", \"quality\", \"quality\", \"quality\", \"quality\", \"quality\", \"quality\", \"raha\", \"range\", \"range\", \"range\", \"range\", \"reality\", \"rear\", \"rear\", \"rear\", \"reception\", \"reception\", \"reception\", \"recharge\", \"record\", \"recorder\", \"recorder\", \"recorder\", \"recorder\", \"recorder\", \"recording\", \"recording\", \"recording\", \"refund\", \"refund\", \"refund\", \"refund\", \"refund\", \"refund\", \"replacement\", \"replacement\", \"replacement\", \"replacement\", \"replacement\", \"replacement\", \"requirement\", \"reset\", \"resistant\", \"resolution\", \"resolution\", \"resolution\", \"resolution\", \"resolution\", \"response\", \"response\", \"response\", \"response\", \"response\", \"response\", \"rest\", \"rest\", \"rest\", \"rest\", \"restart\", \"result\", \"result\", \"result\", \"result\", \"return\", \"return\", \"return\", \"return\", \"return\", \"return\", \"return\", \"review\", \"review\", \"review\", \"review\", \"review\", \"right\", \"risk\", \"room\", \"rotation\", \"round\", \"rupee\", \"rupee\", \"saver\", \"saver\", \"scratch\", \"screen\", \"screen\", \"screen\", \"screen\", \"screen\", \"screen\", \"screen\", \"screen\", \"selfie\", \"selfie\", \"selfie\", \"selfie\", \"seller\", \"sensing\", \"sensitivity\", \"sensor\", \"sensor\", \"sensor\", \"sensor\", \"sensor\", \"sensor\", \"series\", \"series\", \"service\", \"service\", \"service\", \"service\", \"service\", \"service\", \"service\", \"service\", \"signal\", \"signal\", \"signal\", \"signal\", \"signal\", \"slot\", \"slot\", \"slot\", \"slot\", \"slot\", \"smartphone\", \"smartphone\", \"smartphone\", \"smartphones\", \"socket\", \"software\", \"software\", \"software\", \"software\", \"software\", \"software\", \"software\", \"software\", \"sort\", \"sound\", \"sound\", \"sound\", \"sound\", \"sound\", \"space\", \"speaker\", \"speaker\", \"speaker\", \"speaker\", \"speaker\", \"speaker\", \"speaker\", \"speaker\", \"specification\", \"specification\", \"specification\", \"specification\", \"specification\", \"specification\", \"specification\", \"speed\", \"speed\", \"speed\", \"speed\", \"speed\", \"speed\", \"speed\", \"speed\", \"spent\", \"split\", \"spot\", \"stand\", \"stand\", \"stand\", \"standard\", \"standby\", \"standby\", \"star\", \"star\", \"star\", \"star\", \"star\", \"status\", \"step\", \"stock\", \"stock\", \"stock\", \"stock\", \"stock\", \"stock\", \"stock\", \"stop\", \"strength\", \"strength\", \"suck\", \"suck\", \"suggestion\", \"suggestion\", \"sunlight\", \"super\", \"super\", \"super\", \"superb\", \"superb\", \"superb\", \"superb\", \"superb\", \"support\", \"support\", \"support\", \"support\", \"surprise\", \"switch\", \"system\", \"system\", \"system\", \"system\", \"system\", \"system\", \"system\", \"team\", \"team\", \"team\", \"team\", \"technician\", \"test\", \"thanks\", \"thanks\", \"thanks\", \"thanks\", \"thanks\", \"thanks\", \"thanks\", \"thats\", \"thik\", \"thing\", \"thing\", \"thing\", \"thing\", \"thing\", \"thing\", \"thing\", \"till\", \"till\", \"till\", \"till\", \"till\", \"time\", \"time\", \"time\", \"time\", \"time\", \"time\", \"time\", \"time\", \"today\", \"today\", \"today\", \"today\", \"touch\", \"touch\", \"touch\", \"touch\", \"touch\", \"touch\", \"trap\", \"tray\", \"trouble\", \"turbo\", \"turbo\", \"turbo\", \"turbo\", \"turbo\", \"update\", \"update\", \"update\", \"update\", \"update\", \"update\", \"update\", \"update\", \"upgrade\", \"usage\", \"usage\", \"usage\", \"usage\", \"usage\", \"usage\", \"usage\", \"value\", \"value\", \"value\", \"value\", \"value\", \"value\", \"value\", \"vasool\", \"version\", \"version\", \"version\", \"version\", \"version\", \"video\", \"video\", \"video\", \"video\", \"video\", \"video\", \"video\", \"visit\", \"vodafone\", \"volta\", \"volta\", \"volta\", \"volta\", \"volta\", \"volume\", \"volume\", \"volume\", \"volume\", \"want\", \"warranty\", \"warranty\", \"warranty\", \"warranty\", \"wastage\", \"waste\", \"waste\", \"waste\", \"waste\", \"waste\", \"waste\", \"website\", \"week\", \"week\", \"week\", \"week\", \"week\", \"week\", \"week\", \"week\", \"weight\", \"weight\", \"wife\", \"window\", \"wire\", \"wireless\", \"wise\", \"wise\", \"wise\", \"wise\", \"word\", \"word\", \"work\", \"work\", \"work\", \"work\", \"work\", \"work\", \"work\", \"work\", \"working\", \"worth\", \"worth\", \"worth\", \"worth\", \"worth\", \"worth\", \"wrost\", \"yesterday\", \"yesterday\", \"zero\", \"zoom\"]}, \"R\": 30, \"lambda.step\": 0.01, \"plot.opts\": {\"xlab\": \"PC1\", \"ylab\": \"PC2\"}, \"topic.order\": [5, 1, 7, 6, 8, 3, 2, 4]};\n",
       "\n",
       "function LDAvis_load_lib(url, callback){\n",
       "  var s = document.createElement('script');\n",
       "  s.src = url;\n",
       "  s.async = true;\n",
       "  s.onreadystatechange = s.onload = callback;\n",
       "  s.onerror = function(){console.warn(\"failed to load library \" + url);};\n",
       "  document.getElementsByTagName(\"head\")[0].appendChild(s);\n",
       "}\n",
       "\n",
       "if(typeof(LDAvis) !== \"undefined\"){\n",
       "   // already loaded: just create the visualization\n",
       "   !function(LDAvis){\n",
       "       new LDAvis(\"#\" + \"ldavis_el110202745674754112736144784\", ldavis_el110202745674754112736144784_data);\n",
       "   }(LDAvis);\n",
       "}else if(typeof define === \"function\" && define.amd){\n",
       "   // require.js is available: use it to load d3/LDAvis\n",
       "   require.config({paths: {d3: \"https://cdnjs.cloudflare.com/ajax/libs/d3/3.5.5/d3.min\"}});\n",
       "   require([\"d3\"], function(d3){\n",
       "      window.d3 = d3;\n",
       "      LDAvis_load_lib(\"https://cdn.rawgit.com/bmabey/pyLDAvis/files/ldavis.v1.0.0.js\", function(){\n",
       "        new LDAvis(\"#\" + \"ldavis_el110202745674754112736144784\", ldavis_el110202745674754112736144784_data);\n",
       "      });\n",
       "    });\n",
       "}else{\n",
       "    // require.js not available: dynamically load d3 & LDAvis\n",
       "    LDAvis_load_lib(\"https://cdnjs.cloudflare.com/ajax/libs/d3/3.5.5/d3.min.js\", function(){\n",
       "         LDAvis_load_lib(\"https://cdn.rawgit.com/bmabey/pyLDAvis/files/ldavis.v1.0.0.js\", function(){\n",
       "                 new LDAvis(\"#\" + \"ldavis_el110202745674754112736144784\", ldavis_el110202745674754112736144784_data);\n",
       "            })\n",
       "         });\n",
       "}\n",
       "</script>"
      ],
      "text/plain": [
       "PreparedData(topic_coordinates=              x         y  topics  cluster       Freq\n",
       "topic                                                \n",
       "4      0.117794 -0.061911       1        1  19.768936\n",
       "0      0.030935  0.012481       2        1  19.133406\n",
       "6      0.029154  0.139250       3        1  16.456514\n",
       "5     -0.017504  0.110874       4        1  10.136877\n",
       "7      0.134530 -0.182784       5        1  10.041986\n",
       "2     -0.133443  0.059763       6        1   9.105324\n",
       "1     -0.233331 -0.140678       7        1   8.381579\n",
       "3      0.071864  0.063005       8        1   6.975377, topic_info=         Term         Freq        Total Category  logprob  loglift\n",
       "44    product  2041.000000  2041.000000  Default  30.0000  30.0000\n",
       "10     mobile  1552.000000  1552.000000  Default  29.0000  29.0000\n",
       "52     camera  3074.000000  3074.000000  Default  28.0000  28.0000\n",
       "13      phone  6934.000000  6934.000000  Default  27.0000  27.0000\n",
       "59      price   863.000000   863.000000  Default  26.0000  26.0000\n",
       "..        ...          ...          ...      ...      ...      ...\n",
       "505    review    40.317783   183.548981   Topic8  -4.8273   1.1471\n",
       "22       note    43.821796  1124.874756   Topic8  -4.7440  -0.5825\n",
       "4     battery    46.728477  3001.092041   Topic8  -4.6798  -1.4996\n",
       "280  software    37.471779   342.204681   Topic8  -4.9005   0.4510\n",
       "10     mobile    37.699440  1552.033325   Topic8  -4.8945  -1.0549\n",
       "\n",
       "[543 rows x 6 columns], token_table=      Topic      Freq         Term\n",
       "term                              \n",
       "1148      1  0.956939       access\n",
       "277       3  0.977256    accessory\n",
       "1448      7  0.869869      adaptor\n",
       "1696      4  0.895714  advertising\n",
       "1347      3  0.963342        alarm\n",
       "...     ...       ...          ...\n",
       "28        7  0.929940        wrost\n",
       "879       2  0.084378    yesterday\n",
       "879       6  0.900032    yesterday\n",
       "2798      7  0.872934         zero\n",
       "1533      1  0.966950         zoom\n",
       "\n",
       "[1235 rows x 3 columns], R=30, lambda_step=0.01, plot_opts={'xlab': 'PC1', 'ylab': 'PC2'}, topic_order=[5, 1, 7, 6, 8, 3, 2, 4])"
      ]
     },
     "execution_count": 25,
     "metadata": {},
     "output_type": "execute_result"
    }
   ],
   "source": [
    "pyLDAvis.enable_notebook()\n",
    "\n",
    "vis = pyLDAvis.gensim.prepare(best_lda_model, corpus, dictionary)\n",
    "vis"
   ]
  },
  {
   "cell_type": "markdown",
   "metadata": {},
   "source": [
    "#### 11. Business interpretation of the identified topics"
   ]
  },
  {
   "cell_type": "code",
   "execution_count": 26,
   "metadata": {},
   "outputs": [
    {
     "name": "stdout",
     "output_type": "stream",
     "text": [
      "[(0,\n",
      "  [('phone', 0.12531994), ('battery', 0.07207206), ('time', 0.03974129),\n",
      "   ('note', 0.025524138), ('issue', 0.023170924), ('lenovo', 0.020551471),\n",
      "   ('charging', 0.015104598), ('camera', 0.011298661), ('feature', 0.011085849),\n",
      "   ('life', 0.011022424)]),\n",
      " (1,\n",
      "  [('mobile', 0.16179866), ('battery', 0.07879593), ('heat', 0.05654618),\n",
      "   ('backup', 0.034310866), ('problem', 0.032706052), ('superb', 0.032652054),\n",
      "   ('everything', 0.03184446), ('hour', 0.017145777), ('work', 0.016789867),\n",
      "   ('feature', 0.01670941)]),\n",
      " (2,\n",
      "  [('charger', 0.054403875), ('battery', 0.052850083), ('money', 0.048032366),\n",
      "   ('note', 0.037666377), ('value', 0.031711545), ('hour', 0.029669749),\n",
      "   ('mobile', 0.022843145), ('turbo', 0.019683972), ('drain', 0.018507643),\n",
      "   ('piece', 0.017680423)]),\n",
      " (3,\n",
      "  [('phone', 0.09537088), ('feature', 0.061366748), ('lenovo', 0.02744198),\n",
      "   ('headphone', 0.021943752), ('camera', 0.018673507), ('worth', 0.017921388),\n",
      "   ('issue', 0.017402288), ('photo', 0.01654059), ('cost', 0.01351479),\n",
      "   ('update', 0.012973844)]),\n",
      " (4,\n",
      "  [('camera', 0.16455387), ('phone', 0.08801904), ('quality', 0.07563697),\n",
      "   ('battery', 0.03925275), ('performance', 0.022775738),\n",
      "   ('speaker', 0.018881384), ('mode', 0.016752496), ('screen', 0.015643137),\n",
      "   ('note', 0.014971389), ('display', 0.013134578)]),\n",
      " (5,\n",
      "  [('network', 0.06643337), ('issue', 0.053379335), ('problem', 0.032820314),\n",
      "   ('waste', 0.03161942), ('battery', 0.028315676), ('phone', 0.025418345),\n",
      "   ('call', 0.023993375), ('processor', 0.02390097),\n",
      "   ('experience', 0.018485839), ('note', 0.017962357)]),\n",
      " (6,\n",
      "  [('phone', 0.24139047), ('problem', 0.07589796), ('amazon', 0.027911238),\n",
      "   ('service', 0.027867123), ('heating', 0.02704763), ('device', 0.026320959),\n",
      "   ('issue', 0.023684664), ('month', 0.023245126), ('product', 0.02001438),\n",
      "   ('battery', 0.017633867)]),\n",
      " (7,\n",
      "  [('product', 0.23095392), ('price', 0.08196953), ('camera', 0.037556056),\n",
      "   ('performance', 0.035974357), ('phone', 0.034200978),\n",
      "   ('mobile', 0.030259961), ('range', 0.027305221), ('feature', 0.025622498),\n",
      "   ('battery', 0.021832017), ('lenovo', 0.017173963)])]\n"
     ]
    }
   ],
   "source": [
    "topics = best_lda_model.show_topics(formatted=False)\n",
    "pprint(topics, compact=True)"
   ]
  },
  {
   "cell_type": "code",
   "execution_count": 27,
   "metadata": {},
   "outputs": [
    {
     "name": "stdout",
     "output_type": "stream",
     "text": [
      "{0: ['phone', 'battery', 'time', 'note', 'issue', 'lenovo', 'charging',\n",
      "     'camera', 'feature', 'life'],\n",
      " 1: ['mobile', 'battery', 'heat', 'backup', 'problem', 'superb', 'everything',\n",
      "     'hour', 'work', 'feature'],\n",
      " 2: ['charger', 'battery', 'money', 'note', 'value', 'hour', 'mobile', 'turbo',\n",
      "     'drain', 'piece'],\n",
      " 3: ['phone', 'feature', 'lenovo', 'headphone', 'camera', 'worth', 'issue',\n",
      "     'photo', 'cost', 'update'],\n",
      " 4: ['camera', 'phone', 'quality', 'battery', 'performance', 'speaker', 'mode',\n",
      "     'screen', 'note', 'display'],\n",
      " 5: ['network', 'issue', 'problem', 'waste', 'battery', 'phone', 'call',\n",
      "     'processor', 'experience', 'note'],\n",
      " 6: ['phone', 'problem', 'amazon', 'service', 'heating', 'device', 'issue',\n",
      "     'month', 'product', 'battery'],\n",
      " 7: ['product', 'price', 'camera', 'performance', 'phone', 'mobile', 'range',\n",
      "     'feature', 'battery', 'lenovo']}\n"
     ]
    }
   ],
   "source": [
    "topic_words = {}\n",
    "for topic_no, words in topics:\n",
    "    top_words = []\n",
    "    for word, prob in words:\n",
    "        top_words.append(word)\n",
    "    topic_words[topic_no] = top_words\n",
    "\n",
    "pprint(topic_words, compact=True)"
   ]
  },
  {
   "cell_type": "code",
   "execution_count": 28,
   "metadata": {},
   "outputs": [
    {
     "data": {
      "text/html": [
       "<div>\n",
       "<style scoped>\n",
       "    .dataframe tbody tr th:only-of-type {\n",
       "        vertical-align: middle;\n",
       "    }\n",
       "\n",
       "    .dataframe tbody tr th {\n",
       "        vertical-align: top;\n",
       "    }\n",
       "\n",
       "    .dataframe thead th {\n",
       "        text-align: right;\n",
       "    }\n",
       "</style>\n",
       "<table border=\"1\" class=\"dataframe\">\n",
       "  <thead>\n",
       "    <tr style=\"text-align: right;\">\n",
       "      <th></th>\n",
       "      <th>0</th>\n",
       "      <th>1</th>\n",
       "      <th>2</th>\n",
       "      <th>3</th>\n",
       "      <th>4</th>\n",
       "      <th>5</th>\n",
       "      <th>6</th>\n",
       "      <th>7</th>\n",
       "    </tr>\n",
       "  </thead>\n",
       "  <tbody>\n",
       "    <tr>\n",
       "      <th>0</th>\n",
       "      <td>phone</td>\n",
       "      <td>mobile</td>\n",
       "      <td>charger</td>\n",
       "      <td>phone</td>\n",
       "      <td>camera</td>\n",
       "      <td>network</td>\n",
       "      <td>phone</td>\n",
       "      <td>product</td>\n",
       "    </tr>\n",
       "    <tr>\n",
       "      <th>1</th>\n",
       "      <td>battery</td>\n",
       "      <td>battery</td>\n",
       "      <td>battery</td>\n",
       "      <td>feature</td>\n",
       "      <td>phone</td>\n",
       "      <td>issue</td>\n",
       "      <td>problem</td>\n",
       "      <td>price</td>\n",
       "    </tr>\n",
       "    <tr>\n",
       "      <th>2</th>\n",
       "      <td>time</td>\n",
       "      <td>heat</td>\n",
       "      <td>money</td>\n",
       "      <td>lenovo</td>\n",
       "      <td>quality</td>\n",
       "      <td>problem</td>\n",
       "      <td>amazon</td>\n",
       "      <td>camera</td>\n",
       "    </tr>\n",
       "    <tr>\n",
       "      <th>3</th>\n",
       "      <td>note</td>\n",
       "      <td>backup</td>\n",
       "      <td>note</td>\n",
       "      <td>headphone</td>\n",
       "      <td>battery</td>\n",
       "      <td>waste</td>\n",
       "      <td>service</td>\n",
       "      <td>performance</td>\n",
       "    </tr>\n",
       "    <tr>\n",
       "      <th>4</th>\n",
       "      <td>issue</td>\n",
       "      <td>problem</td>\n",
       "      <td>value</td>\n",
       "      <td>camera</td>\n",
       "      <td>performance</td>\n",
       "      <td>battery</td>\n",
       "      <td>heating</td>\n",
       "      <td>phone</td>\n",
       "    </tr>\n",
       "    <tr>\n",
       "      <th>5</th>\n",
       "      <td>lenovo</td>\n",
       "      <td>superb</td>\n",
       "      <td>hour</td>\n",
       "      <td>worth</td>\n",
       "      <td>speaker</td>\n",
       "      <td>phone</td>\n",
       "      <td>device</td>\n",
       "      <td>mobile</td>\n",
       "    </tr>\n",
       "    <tr>\n",
       "      <th>6</th>\n",
       "      <td>charging</td>\n",
       "      <td>everything</td>\n",
       "      <td>mobile</td>\n",
       "      <td>issue</td>\n",
       "      <td>mode</td>\n",
       "      <td>call</td>\n",
       "      <td>issue</td>\n",
       "      <td>range</td>\n",
       "    </tr>\n",
       "    <tr>\n",
       "      <th>7</th>\n",
       "      <td>camera</td>\n",
       "      <td>hour</td>\n",
       "      <td>turbo</td>\n",
       "      <td>photo</td>\n",
       "      <td>screen</td>\n",
       "      <td>processor</td>\n",
       "      <td>month</td>\n",
       "      <td>feature</td>\n",
       "    </tr>\n",
       "    <tr>\n",
       "      <th>8</th>\n",
       "      <td>feature</td>\n",
       "      <td>work</td>\n",
       "      <td>drain</td>\n",
       "      <td>cost</td>\n",
       "      <td>note</td>\n",
       "      <td>experience</td>\n",
       "      <td>product</td>\n",
       "      <td>battery</td>\n",
       "    </tr>\n",
       "    <tr>\n",
       "      <th>9</th>\n",
       "      <td>life</td>\n",
       "      <td>feature</td>\n",
       "      <td>piece</td>\n",
       "      <td>update</td>\n",
       "      <td>display</td>\n",
       "      <td>note</td>\n",
       "      <td>battery</td>\n",
       "      <td>lenovo</td>\n",
       "    </tr>\n",
       "  </tbody>\n",
       "</table>\n",
       "</div>"
      ],
      "text/plain": [
       "          0           1        2          3            4           5        6  \\\n",
       "0     phone      mobile  charger      phone       camera     network    phone   \n",
       "1   battery     battery  battery    feature        phone       issue  problem   \n",
       "2      time        heat    money     lenovo      quality     problem   amazon   \n",
       "3      note      backup     note  headphone      battery       waste  service   \n",
       "4     issue     problem    value     camera  performance     battery  heating   \n",
       "5    lenovo      superb     hour      worth      speaker       phone   device   \n",
       "6  charging  everything   mobile      issue         mode        call    issue   \n",
       "7    camera        hour    turbo      photo       screen   processor    month   \n",
       "8   feature        work    drain       cost         note  experience  product   \n",
       "9      life     feature    piece     update      display        note  battery   \n",
       "\n",
       "             7  \n",
       "0      product  \n",
       "1        price  \n",
       "2       camera  \n",
       "3  performance  \n",
       "4        phone  \n",
       "5       mobile  \n",
       "6        range  \n",
       "7      feature  \n",
       "8      battery  \n",
       "9       lenovo  "
      ]
     },
     "execution_count": 28,
     "metadata": {},
     "output_type": "execute_result"
    }
   ],
   "source": [
    "topic_words_df = pd.DataFrame(topic_words)\n",
    "topic_words_df"
   ]
  },
  {
   "cell_type": "markdown",
   "metadata": {},
   "source": [
    "#### 11.1. Table with the topic names and the top 10 terms in each to present to the business"
   ]
  },
  {
   "cell_type": "code",
   "execution_count": 34,
   "metadata": {},
   "outputs": [
    {
     "data": {
      "text/html": [
       "<div>\n",
       "<style scoped>\n",
       "    .dataframe tbody tr th:only-of-type {\n",
       "        vertical-align: middle;\n",
       "    }\n",
       "\n",
       "    .dataframe tbody tr th {\n",
       "        vertical-align: top;\n",
       "    }\n",
       "\n",
       "    .dataframe thead th {\n",
       "        text-align: right;\n",
       "    }\n",
       "</style>\n",
       "<table border=\"1\" class=\"dataframe\">\n",
       "  <thead>\n",
       "    <tr style=\"text-align: right;\">\n",
       "      <th></th>\n",
       "      <th>Phone Battery</th>\n",
       "      <th>Heating</th>\n",
       "      <th>Charging Time</th>\n",
       "      <th>Features</th>\n",
       "      <th>Camera Quality</th>\n",
       "      <th>Network Issue</th>\n",
       "      <th>Delivery Time</th>\n",
       "      <th>Value for Money</th>\n",
       "    </tr>\n",
       "  </thead>\n",
       "  <tbody>\n",
       "    <tr>\n",
       "      <th>0</th>\n",
       "      <td>phone</td>\n",
       "      <td>mobile</td>\n",
       "      <td>charger</td>\n",
       "      <td>phone</td>\n",
       "      <td>camera</td>\n",
       "      <td>network</td>\n",
       "      <td>phone</td>\n",
       "      <td>product</td>\n",
       "    </tr>\n",
       "    <tr>\n",
       "      <th>1</th>\n",
       "      <td>battery</td>\n",
       "      <td>battery</td>\n",
       "      <td>battery</td>\n",
       "      <td>feature</td>\n",
       "      <td>phone</td>\n",
       "      <td>issue</td>\n",
       "      <td>problem</td>\n",
       "      <td>price</td>\n",
       "    </tr>\n",
       "    <tr>\n",
       "      <th>2</th>\n",
       "      <td>time</td>\n",
       "      <td>heat</td>\n",
       "      <td>money</td>\n",
       "      <td>lenovo</td>\n",
       "      <td>quality</td>\n",
       "      <td>problem</td>\n",
       "      <td>amazon</td>\n",
       "      <td>camera</td>\n",
       "    </tr>\n",
       "    <tr>\n",
       "      <th>3</th>\n",
       "      <td>note</td>\n",
       "      <td>backup</td>\n",
       "      <td>note</td>\n",
       "      <td>headphone</td>\n",
       "      <td>battery</td>\n",
       "      <td>waste</td>\n",
       "      <td>service</td>\n",
       "      <td>performance</td>\n",
       "    </tr>\n",
       "    <tr>\n",
       "      <th>4</th>\n",
       "      <td>issue</td>\n",
       "      <td>problem</td>\n",
       "      <td>value</td>\n",
       "      <td>camera</td>\n",
       "      <td>performance</td>\n",
       "      <td>battery</td>\n",
       "      <td>heating</td>\n",
       "      <td>phone</td>\n",
       "    </tr>\n",
       "    <tr>\n",
       "      <th>5</th>\n",
       "      <td>lenovo</td>\n",
       "      <td>superb</td>\n",
       "      <td>hour</td>\n",
       "      <td>worth</td>\n",
       "      <td>speaker</td>\n",
       "      <td>phone</td>\n",
       "      <td>device</td>\n",
       "      <td>mobile</td>\n",
       "    </tr>\n",
       "    <tr>\n",
       "      <th>6</th>\n",
       "      <td>charging</td>\n",
       "      <td>everything</td>\n",
       "      <td>mobile</td>\n",
       "      <td>issue</td>\n",
       "      <td>mode</td>\n",
       "      <td>call</td>\n",
       "      <td>issue</td>\n",
       "      <td>range</td>\n",
       "    </tr>\n",
       "    <tr>\n",
       "      <th>7</th>\n",
       "      <td>camera</td>\n",
       "      <td>hour</td>\n",
       "      <td>turbo</td>\n",
       "      <td>photo</td>\n",
       "      <td>screen</td>\n",
       "      <td>processor</td>\n",
       "      <td>month</td>\n",
       "      <td>feature</td>\n",
       "    </tr>\n",
       "    <tr>\n",
       "      <th>8</th>\n",
       "      <td>feature</td>\n",
       "      <td>work</td>\n",
       "      <td>drain</td>\n",
       "      <td>cost</td>\n",
       "      <td>note</td>\n",
       "      <td>experience</td>\n",
       "      <td>product</td>\n",
       "      <td>battery</td>\n",
       "    </tr>\n",
       "    <tr>\n",
       "      <th>9</th>\n",
       "      <td>life</td>\n",
       "      <td>feature</td>\n",
       "      <td>piece</td>\n",
       "      <td>update</td>\n",
       "      <td>display</td>\n",
       "      <td>note</td>\n",
       "      <td>battery</td>\n",
       "      <td>lenovo</td>\n",
       "    </tr>\n",
       "  </tbody>\n",
       "</table>\n",
       "</div>"
      ],
      "text/plain": [
       "  Phone Battery     Heating Charging Time   Features Camera Quality  \\\n",
       "0         phone      mobile       charger      phone         camera   \n",
       "1       battery     battery       battery    feature          phone   \n",
       "2          time        heat         money     lenovo        quality   \n",
       "3          note      backup          note  headphone        battery   \n",
       "4         issue     problem         value     camera    performance   \n",
       "5        lenovo      superb          hour      worth        speaker   \n",
       "6      charging  everything        mobile      issue           mode   \n",
       "7        camera        hour         turbo      photo         screen   \n",
       "8       feature        work         drain       cost           note   \n",
       "9          life     feature         piece     update        display   \n",
       "\n",
       "  Network Issue Delivery Time Value for Money  \n",
       "0       network         phone         product  \n",
       "1         issue       problem           price  \n",
       "2       problem        amazon          camera  \n",
       "3         waste       service     performance  \n",
       "4       battery       heating           phone  \n",
       "5         phone        device          mobile  \n",
       "6          call         issue           range  \n",
       "7     processor         month         feature  \n",
       "8    experience       product         battery  \n",
       "9          note       battery          lenovo  "
      ]
     },
     "execution_count": 34,
     "metadata": {},
     "output_type": "execute_result"
    }
   ],
   "source": [
    "topic_names = {\n",
    "    0: \"Phone Battery\",\n",
    "    1: \"Heating\",\n",
    "    2: \"Charging Time\",\n",
    "    3: \"Features\",\n",
    "    4: \"Camera Quality\",\n",
    "    5: \"Network Issue\",\n",
    "    6: \"Delivery Time\",\n",
    "    7: \"Value for Money\"\n",
    "}\n",
    "\n",
    "topic_words_df = topic_words_df.rename(columns = topic_names)\n",
    "topic_words_df"
   ]
  },
  {
   "cell_type": "code",
   "execution_count": 36,
   "metadata": {},
   "outputs": [
    {
     "data": {
      "text/plain": [
       "14675"
      ]
     },
     "execution_count": 36,
     "metadata": {},
     "output_type": "execute_result"
    }
   ],
   "source": [
    "doc_topics = []\n",
    "for bow in review_no_custom_sw:\n",
    "    doc_topics.append(best_lda_model.get_document_topics(dictionary.doc2bow(bow)))\n",
    "\n",
    "len(doc_topics)"
   ]
  },
  {
   "cell_type": "code",
   "execution_count": 37,
   "metadata": {},
   "outputs": [
    {
     "data": {
      "text/plain": [
       "14675"
      ]
     },
     "execution_count": 37,
     "metadata": {},
     "output_type": "execute_result"
    }
   ],
   "source": [
    "dominant_topic = [np.argmax([prob for topic, prob in doc_topic]) for doc_topic in doc_topics]\n",
    "len(dominant_topic)"
   ]
  },
  {
   "cell_type": "code",
   "execution_count": 38,
   "metadata": {},
   "outputs": [
    {
     "data": {
      "text/html": [
       "<div>\n",
       "<style scoped>\n",
       "    .dataframe tbody tr th:only-of-type {\n",
       "        vertical-align: middle;\n",
       "    }\n",
       "\n",
       "    .dataframe tbody tr th {\n",
       "        vertical-align: top;\n",
       "    }\n",
       "\n",
       "    .dataframe thead th {\n",
       "        text-align: right;\n",
       "    }\n",
       "</style>\n",
       "<table border=\"1\" class=\"dataframe\">\n",
       "  <thead>\n",
       "    <tr style=\"text-align: right;\">\n",
       "      <th></th>\n",
       "      <th>sentiment</th>\n",
       "      <th>review</th>\n",
       "      <th>review_cleaned</th>\n",
       "      <th>dominant_topic</th>\n",
       "    </tr>\n",
       "  </thead>\n",
       "  <tbody>\n",
       "    <tr>\n",
       "      <th>0</th>\n",
       "      <td>1</td>\n",
       "      <td>Good but need updates and improvements</td>\n",
       "      <td>good but need updates and improvements</td>\n",
       "      <td>4</td>\n",
       "    </tr>\n",
       "    <tr>\n",
       "      <th>1</th>\n",
       "      <td>0</td>\n",
       "      <td>Worst mobile i have bought ever, Battery is dr...</td>\n",
       "      <td>worst mobile i have bought ever, battery is dr...</td>\n",
       "      <td>0</td>\n",
       "    </tr>\n",
       "    <tr>\n",
       "      <th>2</th>\n",
       "      <td>1</td>\n",
       "      <td>when I will get my 10% cash back.... its alrea...</td>\n",
       "      <td>when i will get my 10% cash back.... its alrea...</td>\n",
       "      <td>2</td>\n",
       "    </tr>\n",
       "    <tr>\n",
       "      <th>3</th>\n",
       "      <td>1</td>\n",
       "      <td>Good</td>\n",
       "      <td>good</td>\n",
       "      <td>0</td>\n",
       "    </tr>\n",
       "    <tr>\n",
       "      <th>4</th>\n",
       "      <td>0</td>\n",
       "      <td>The worst phone everThey have changed the last...</td>\n",
       "      <td>the worst phone everthey have changed the last...</td>\n",
       "      <td>6</td>\n",
       "    </tr>\n",
       "    <tr>\n",
       "      <th>5</th>\n",
       "      <td>0</td>\n",
       "      <td>Only I'm telling don't buyI'm totally disappoi...</td>\n",
       "      <td>only i'm telling don't buyi'm totally disappoi...</td>\n",
       "      <td>2</td>\n",
       "    </tr>\n",
       "    <tr>\n",
       "      <th>6</th>\n",
       "      <td>1</td>\n",
       "      <td>Phone is awesome. But while charging, it heats...</td>\n",
       "      <td>phone is awesome. but while charging, it heats...</td>\n",
       "      <td>0</td>\n",
       "    </tr>\n",
       "    <tr>\n",
       "      <th>7</th>\n",
       "      <td>0</td>\n",
       "      <td>The battery level has worn down</td>\n",
       "      <td>the battery level has worn down</td>\n",
       "      <td>5</td>\n",
       "    </tr>\n",
       "    <tr>\n",
       "      <th>8</th>\n",
       "      <td>0</td>\n",
       "      <td>It's over hitting problems...and phone hanging...</td>\n",
       "      <td>it's over hitting problems...and phone hanging...</td>\n",
       "      <td>6</td>\n",
       "    </tr>\n",
       "    <tr>\n",
       "      <th>9</th>\n",
       "      <td>0</td>\n",
       "      <td>A lot of glitches dont buy this thing better g...</td>\n",
       "      <td>a lot of glitches dont buy this thing better g...</td>\n",
       "      <td>0</td>\n",
       "    </tr>\n",
       "  </tbody>\n",
       "</table>\n",
       "</div>"
      ],
      "text/plain": [
       "   sentiment                                             review  \\\n",
       "0          1             Good but need updates and improvements   \n",
       "1          0  Worst mobile i have bought ever, Battery is dr...   \n",
       "2          1  when I will get my 10% cash back.... its alrea...   \n",
       "3          1                                               Good   \n",
       "4          0  The worst phone everThey have changed the last...   \n",
       "5          0  Only I'm telling don't buyI'm totally disappoi...   \n",
       "6          1  Phone is awesome. But while charging, it heats...   \n",
       "7          0                    The battery level has worn down   \n",
       "8          0  It's over hitting problems...and phone hanging...   \n",
       "9          0  A lot of glitches dont buy this thing better g...   \n",
       "\n",
       "                                      review_cleaned  dominant_topic  \n",
       "0             good but need updates and improvements               4  \n",
       "1  worst mobile i have bought ever, battery is dr...               0  \n",
       "2  when i will get my 10% cash back.... its alrea...               2  \n",
       "3                                               good               0  \n",
       "4  the worst phone everthey have changed the last...               6  \n",
       "5  only i'm telling don't buyi'm totally disappoi...               2  \n",
       "6  phone is awesome. but while charging, it heats...               0  \n",
       "7                    the battery level has worn down               5  \n",
       "8  it's over hitting problems...and phone hanging...               6  \n",
       "9  a lot of glitches dont buy this thing better g...               0  "
      ]
     },
     "execution_count": 38,
     "metadata": {},
     "output_type": "execute_result"
    }
   ],
   "source": [
    "data['dominant_topic'] = dominant_topic\n",
    "data.head(10)"
   ]
  },
  {
   "cell_type": "code",
   "execution_count": 41,
   "metadata": {},
   "outputs": [
    {
     "data": {
      "text/html": [
       "<div>\n",
       "<style scoped>\n",
       "    .dataframe tbody tr th:only-of-type {\n",
       "        vertical-align: middle;\n",
       "    }\n",
       "\n",
       "    .dataframe tbody tr th {\n",
       "        vertical-align: top;\n",
       "    }\n",
       "\n",
       "    .dataframe thead th {\n",
       "        text-align: right;\n",
       "    }\n",
       "</style>\n",
       "<table border=\"1\" class=\"dataframe\">\n",
       "  <thead>\n",
       "    <tr style=\"text-align: right;\">\n",
       "      <th></th>\n",
       "      <th>sentiment</th>\n",
       "      <th>review</th>\n",
       "      <th>review_cleaned</th>\n",
       "      <th>dominant_topic</th>\n",
       "    </tr>\n",
       "  </thead>\n",
       "  <tbody>\n",
       "    <tr>\n",
       "      <th>0</th>\n",
       "      <td>1</td>\n",
       "      <td>Good but need updates and improvements</td>\n",
       "      <td>good but need updates and improvements</td>\n",
       "      <td>Camera Quality</td>\n",
       "    </tr>\n",
       "    <tr>\n",
       "      <th>1</th>\n",
       "      <td>0</td>\n",
       "      <td>Worst mobile i have bought ever, Battery is dr...</td>\n",
       "      <td>worst mobile i have bought ever, battery is dr...</td>\n",
       "      <td>Phone Battery</td>\n",
       "    </tr>\n",
       "    <tr>\n",
       "      <th>2</th>\n",
       "      <td>1</td>\n",
       "      <td>when I will get my 10% cash back.... its alrea...</td>\n",
       "      <td>when i will get my 10% cash back.... its alrea...</td>\n",
       "      <td>Charging Time</td>\n",
       "    </tr>\n",
       "    <tr>\n",
       "      <th>3</th>\n",
       "      <td>1</td>\n",
       "      <td>Good</td>\n",
       "      <td>good</td>\n",
       "      <td>Phone Battery</td>\n",
       "    </tr>\n",
       "    <tr>\n",
       "      <th>4</th>\n",
       "      <td>0</td>\n",
       "      <td>The worst phone everThey have changed the last...</td>\n",
       "      <td>the worst phone everthey have changed the last...</td>\n",
       "      <td>Delivery Time</td>\n",
       "    </tr>\n",
       "    <tr>\n",
       "      <th>5</th>\n",
       "      <td>0</td>\n",
       "      <td>Only I'm telling don't buyI'm totally disappoi...</td>\n",
       "      <td>only i'm telling don't buyi'm totally disappoi...</td>\n",
       "      <td>Charging Time</td>\n",
       "    </tr>\n",
       "    <tr>\n",
       "      <th>6</th>\n",
       "      <td>1</td>\n",
       "      <td>Phone is awesome. But while charging, it heats...</td>\n",
       "      <td>phone is awesome. but while charging, it heats...</td>\n",
       "      <td>Phone Battery</td>\n",
       "    </tr>\n",
       "    <tr>\n",
       "      <th>7</th>\n",
       "      <td>0</td>\n",
       "      <td>The battery level has worn down</td>\n",
       "      <td>the battery level has worn down</td>\n",
       "      <td>Network Issue</td>\n",
       "    </tr>\n",
       "    <tr>\n",
       "      <th>8</th>\n",
       "      <td>0</td>\n",
       "      <td>It's over hitting problems...and phone hanging...</td>\n",
       "      <td>it's over hitting problems...and phone hanging...</td>\n",
       "      <td>Delivery Time</td>\n",
       "    </tr>\n",
       "    <tr>\n",
       "      <th>9</th>\n",
       "      <td>0</td>\n",
       "      <td>A lot of glitches dont buy this thing better g...</td>\n",
       "      <td>a lot of glitches dont buy this thing better g...</td>\n",
       "      <td>Phone Battery</td>\n",
       "    </tr>\n",
       "  </tbody>\n",
       "</table>\n",
       "</div>"
      ],
      "text/plain": [
       "   sentiment                                             review  \\\n",
       "0          1             Good but need updates and improvements   \n",
       "1          0  Worst mobile i have bought ever, Battery is dr...   \n",
       "2          1  when I will get my 10% cash back.... its alrea...   \n",
       "3          1                                               Good   \n",
       "4          0  The worst phone everThey have changed the last...   \n",
       "5          0  Only I'm telling don't buyI'm totally disappoi...   \n",
       "6          1  Phone is awesome. But while charging, it heats...   \n",
       "7          0                    The battery level has worn down   \n",
       "8          0  It's over hitting problems...and phone hanging...   \n",
       "9          0  A lot of glitches dont buy this thing better g...   \n",
       "\n",
       "                                      review_cleaned  dominant_topic  \n",
       "0             good but need updates and improvements  Camera Quality  \n",
       "1  worst mobile i have bought ever, battery is dr...   Phone Battery  \n",
       "2  when i will get my 10% cash back.... its alrea...   Charging Time  \n",
       "3                                               good   Phone Battery  \n",
       "4  the worst phone everthey have changed the last...   Delivery Time  \n",
       "5  only i'm telling don't buyi'm totally disappoi...   Charging Time  \n",
       "6  phone is awesome. but while charging, it heats...   Phone Battery  \n",
       "7                    the battery level has worn down   Network Issue  \n",
       "8  it's over hitting problems...and phone hanging...   Delivery Time  \n",
       "9  a lot of glitches dont buy this thing better g...   Phone Battery  "
      ]
     },
     "execution_count": 41,
     "metadata": {},
     "output_type": "execute_result"
    }
   ],
   "source": [
    "# Mapping Topic no with Topic name\n",
    "data['dominant_topic'] = data['dominant_topic'].map(topic_names)\n",
    "data.head(10)"
   ]
  },
  {
   "cell_type": "code",
   "execution_count": 43,
   "metadata": {},
   "outputs": [
    {
     "data": {
      "text/plain": [
       "Phone Battery      0.234753\n",
       "Delivery Time      0.156661\n",
       "Camera Quality     0.136014\n",
       "Value for Money    0.125928\n",
       "Heating            0.124634\n",
       "Charging Time      0.089267\n",
       "Network Issue      0.067462\n",
       "Features           0.065281\n",
       "Name: dominant_topic, dtype: float64"
      ]
     },
     "execution_count": 43,
     "metadata": {},
     "output_type": "execute_result"
    }
   ],
   "source": [
    "data['dominant_topic'].value_counts(normalize=True)"
   ]
  },
  {
   "cell_type": "code",
   "execution_count": 45,
   "metadata": {},
   "outputs": [
    {
     "data": {
      "image/png": "[encoded data removed]",
      "text/plain": [
       "<Figure size 1080x576 with 1 Axes>"
      ]
     },
     "metadata": {
      "needs_background": "light"
     },
     "output_type": "display_data"
    }
   ],
   "source": [
    "data['dominant_topic'].value_counts().sort_values().plot(kind='barh', figsize=(15,8), color='teal')\n",
    "plt.show()"
   ]
  },
  {
   "cell_type": "code",
   "execution_count": 85,
   "metadata": {},
   "outputs": [],
   "source": [
    "data_topic_sentiment_df = pd.DataFrame(data.groupby(by=['dominant_topic', 'sentiment']).size())"
   ]
  },
  {
   "cell_type": "code",
   "execution_count": 86,
   "metadata": {},
   "outputs": [
    {
     "data": {
      "text/html": [
       "<div>\n",
       "<style scoped>\n",
       "    .dataframe tbody tr th:only-of-type {\n",
       "        vertical-align: middle;\n",
       "    }\n",
       "\n",
       "    .dataframe tbody tr th {\n",
       "        vertical-align: top;\n",
       "    }\n",
       "\n",
       "    .dataframe thead th {\n",
       "        text-align: right;\n",
       "    }\n",
       "</style>\n",
       "<table border=\"1\" class=\"dataframe\">\n",
       "  <thead>\n",
       "    <tr style=\"text-align: right;\">\n",
       "      <th></th>\n",
       "      <th>dominant_topic</th>\n",
       "      <th>sentiment</th>\n",
       "      <th>count</th>\n",
       "    </tr>\n",
       "  </thead>\n",
       "  <tbody>\n",
       "    <tr>\n",
       "      <th>0</th>\n",
       "      <td>Camera Quality</td>\n",
       "      <td>0</td>\n",
       "      <td>1106</td>\n",
       "    </tr>\n",
       "    <tr>\n",
       "      <th>1</th>\n",
       "      <td>Camera Quality</td>\n",
       "      <td>1</td>\n",
       "      <td>890</td>\n",
       "    </tr>\n",
       "    <tr>\n",
       "      <th>2</th>\n",
       "      <td>Charging Time</td>\n",
       "      <td>0</td>\n",
       "      <td>810</td>\n",
       "    </tr>\n",
       "    <tr>\n",
       "      <th>3</th>\n",
       "      <td>Charging Time</td>\n",
       "      <td>1</td>\n",
       "      <td>500</td>\n",
       "    </tr>\n",
       "    <tr>\n",
       "      <th>4</th>\n",
       "      <td>Delivery Time</td>\n",
       "      <td>0</td>\n",
       "      <td>1219</td>\n",
       "    </tr>\n",
       "    <tr>\n",
       "      <th>5</th>\n",
       "      <td>Delivery Time</td>\n",
       "      <td>1</td>\n",
       "      <td>1080</td>\n",
       "    </tr>\n",
       "    <tr>\n",
       "      <th>6</th>\n",
       "      <td>Features</td>\n",
       "      <td>0</td>\n",
       "      <td>498</td>\n",
       "    </tr>\n",
       "    <tr>\n",
       "      <th>7</th>\n",
       "      <td>Features</td>\n",
       "      <td>1</td>\n",
       "      <td>460</td>\n",
       "    </tr>\n",
       "    <tr>\n",
       "      <th>8</th>\n",
       "      <td>Heating</td>\n",
       "      <td>0</td>\n",
       "      <td>1030</td>\n",
       "    </tr>\n",
       "    <tr>\n",
       "      <th>9</th>\n",
       "      <td>Heating</td>\n",
       "      <td>1</td>\n",
       "      <td>799</td>\n",
       "    </tr>\n",
       "    <tr>\n",
       "      <th>10</th>\n",
       "      <td>Network Issue</td>\n",
       "      <td>0</td>\n",
       "      <td>709</td>\n",
       "    </tr>\n",
       "    <tr>\n",
       "      <th>11</th>\n",
       "      <td>Network Issue</td>\n",
       "      <td>1</td>\n",
       "      <td>281</td>\n",
       "    </tr>\n",
       "    <tr>\n",
       "      <th>12</th>\n",
       "      <td>Phone Battery</td>\n",
       "      <td>0</td>\n",
       "      <td>1761</td>\n",
       "    </tr>\n",
       "    <tr>\n",
       "      <th>13</th>\n",
       "      <td>Phone Battery</td>\n",
       "      <td>1</td>\n",
       "      <td>1684</td>\n",
       "    </tr>\n",
       "    <tr>\n",
       "      <th>14</th>\n",
       "      <td>Value for Money</td>\n",
       "      <td>0</td>\n",
       "      <td>579</td>\n",
       "    </tr>\n",
       "    <tr>\n",
       "      <th>15</th>\n",
       "      <td>Value for Money</td>\n",
       "      <td>1</td>\n",
       "      <td>1269</td>\n",
       "    </tr>\n",
       "  </tbody>\n",
       "</table>\n",
       "</div>"
      ],
      "text/plain": [
       "     dominant_topic  sentiment  count\n",
       "0    Camera Quality          0   1106\n",
       "1    Camera Quality          1    890\n",
       "2     Charging Time          0    810\n",
       "3     Charging Time          1    500\n",
       "4     Delivery Time          0   1219\n",
       "5     Delivery Time          1   1080\n",
       "6          Features          0    498\n",
       "7          Features          1    460\n",
       "8           Heating          0   1030\n",
       "9           Heating          1    799\n",
       "10    Network Issue          0    709\n",
       "11    Network Issue          1    281\n",
       "12    Phone Battery          0   1761\n",
       "13    Phone Battery          1   1684\n",
       "14  Value for Money          0    579\n",
       "15  Value for Money          1   1269"
      ]
     },
     "execution_count": 86,
     "metadata": {},
     "output_type": "execute_result"
    }
   ],
   "source": [
    "data_topic_sentiment_df = data_topic_sentiment_df.reset_index().rename(columns = {0: 'count'})\n",
    "data_topic_sentiment_df"
   ]
  },
  {
   "cell_type": "code",
   "execution_count": 81,
   "metadata": {},
   "outputs": [
    {
     "data": {
      "text/html": [
       "<div>\n",
       "<style scoped>\n",
       "    .dataframe tbody tr th:only-of-type {\n",
       "        vertical-align: middle;\n",
       "    }\n",
       "\n",
       "    .dataframe tbody tr th {\n",
       "        vertical-align: top;\n",
       "    }\n",
       "\n",
       "    .dataframe thead th {\n",
       "        text-align: right;\n",
       "    }\n",
       "</style>\n",
       "<table border=\"1\" class=\"dataframe\">\n",
       "  <thead>\n",
       "    <tr style=\"text-align: right;\">\n",
       "      <th></th>\n",
       "      <th>dominant_topic</th>\n",
       "      <th>sentiment</th>\n",
       "      <th>count</th>\n",
       "    </tr>\n",
       "  </thead>\n",
       "  <tbody>\n",
       "    <tr>\n",
       "      <th>0</th>\n",
       "      <td>Camera Quality</td>\n",
       "      <td>0</td>\n",
       "      <td>1106</td>\n",
       "    </tr>\n",
       "    <tr>\n",
       "      <th>2</th>\n",
       "      <td>Charging Time</td>\n",
       "      <td>0</td>\n",
       "      <td>810</td>\n",
       "    </tr>\n",
       "    <tr>\n",
       "      <th>4</th>\n",
       "      <td>Delivery Time</td>\n",
       "      <td>0</td>\n",
       "      <td>1219</td>\n",
       "    </tr>\n",
       "    <tr>\n",
       "      <th>6</th>\n",
       "      <td>Features</td>\n",
       "      <td>0</td>\n",
       "      <td>498</td>\n",
       "    </tr>\n",
       "    <tr>\n",
       "      <th>8</th>\n",
       "      <td>Heating</td>\n",
       "      <td>0</td>\n",
       "      <td>1030</td>\n",
       "    </tr>\n",
       "    <tr>\n",
       "      <th>10</th>\n",
       "      <td>Network Issue</td>\n",
       "      <td>0</td>\n",
       "      <td>709</td>\n",
       "    </tr>\n",
       "    <tr>\n",
       "      <th>12</th>\n",
       "      <td>Phone Battery</td>\n",
       "      <td>0</td>\n",
       "      <td>1761</td>\n",
       "    </tr>\n",
       "    <tr>\n",
       "      <th>14</th>\n",
       "      <td>Value for Money</td>\n",
       "      <td>0</td>\n",
       "      <td>579</td>\n",
       "    </tr>\n",
       "  </tbody>\n",
       "</table>\n",
       "</div>"
      ],
      "text/plain": [
       "     dominant_topic  sentiment  count\n",
       "0    Camera Quality          0   1106\n",
       "2     Charging Time          0    810\n",
       "4     Delivery Time          0   1219\n",
       "6          Features          0    498\n",
       "8           Heating          0   1030\n",
       "10    Network Issue          0    709\n",
       "12    Phone Battery          0   1761\n",
       "14  Value for Money          0    579"
      ]
     },
     "execution_count": 81,
     "metadata": {},
     "output_type": "execute_result"
    }
   ],
   "source": [
    "data_topic_sentiment_df[data_topic_sentiment_df['sentiment'] == 0]"
   ]
  },
  {
   "cell_type": "code",
   "execution_count": 87,
   "metadata": {},
   "outputs": [
    {
     "data": {
      "text/html": [
       "<div>\n",
       "<style scoped>\n",
       "    .dataframe tbody tr th:only-of-type {\n",
       "        vertical-align: middle;\n",
       "    }\n",
       "\n",
       "    .dataframe tbody tr th {\n",
       "        vertical-align: top;\n",
       "    }\n",
       "\n",
       "    .dataframe thead th {\n",
       "        text-align: right;\n",
       "    }\n",
       "</style>\n",
       "<table border=\"1\" class=\"dataframe\">\n",
       "  <thead>\n",
       "    <tr style=\"text-align: right;\">\n",
       "      <th></th>\n",
       "      <th>dominant_topic</th>\n",
       "      <th>sentiment</th>\n",
       "      <th>count</th>\n",
       "    </tr>\n",
       "  </thead>\n",
       "  <tbody>\n",
       "    <tr>\n",
       "      <th>1</th>\n",
       "      <td>Camera Quality</td>\n",
       "      <td>1</td>\n",
       "      <td>890</td>\n",
       "    </tr>\n",
       "    <tr>\n",
       "      <th>3</th>\n",
       "      <td>Charging Time</td>\n",
       "      <td>1</td>\n",
       "      <td>500</td>\n",
       "    </tr>\n",
       "    <tr>\n",
       "      <th>5</th>\n",
       "      <td>Delivery Time</td>\n",
       "      <td>1</td>\n",
       "      <td>1080</td>\n",
       "    </tr>\n",
       "    <tr>\n",
       "      <th>7</th>\n",
       "      <td>Features</td>\n",
       "      <td>1</td>\n",
       "      <td>460</td>\n",
       "    </tr>\n",
       "    <tr>\n",
       "      <th>9</th>\n",
       "      <td>Heating</td>\n",
       "      <td>1</td>\n",
       "      <td>799</td>\n",
       "    </tr>\n",
       "    <tr>\n",
       "      <th>11</th>\n",
       "      <td>Network Issue</td>\n",
       "      <td>1</td>\n",
       "      <td>281</td>\n",
       "    </tr>\n",
       "    <tr>\n",
       "      <th>13</th>\n",
       "      <td>Phone Battery</td>\n",
       "      <td>1</td>\n",
       "      <td>1684</td>\n",
       "    </tr>\n",
       "    <tr>\n",
       "      <th>15</th>\n",
       "      <td>Value for Money</td>\n",
       "      <td>1</td>\n",
       "      <td>1269</td>\n",
       "    </tr>\n",
       "  </tbody>\n",
       "</table>\n",
       "</div>"
      ],
      "text/plain": [
       "     dominant_topic  sentiment  count\n",
       "1    Camera Quality          1    890\n",
       "3     Charging Time          1    500\n",
       "5     Delivery Time          1   1080\n",
       "7          Features          1    460\n",
       "9           Heating          1    799\n",
       "11    Network Issue          1    281\n",
       "13    Phone Battery          1   1684\n",
       "15  Value for Money          1   1269"
      ]
     },
     "execution_count": 87,
     "metadata": {},
     "output_type": "execute_result"
    }
   ],
   "source": [
    "data_topic_sentiment_df[data_topic_sentiment_df['sentiment'] == 1]"
   ]
  },
  {
   "cell_type": "code",
   "execution_count": 94,
   "metadata": {},
   "outputs": [
    {
     "data": {
      "image/png": "[encoded data removed]",
      "text/plain": [
       "<Figure size 1080x432 with 1 Axes>"
      ]
     },
     "metadata": {
      "needs_background": "light"
     },
     "output_type": "display_data"
    }
   ],
   "source": [
    "labels = topic_names.values()\n",
    "positive_sentiments = data_topic_sentiment_df[data_topic_sentiment_df['sentiment'] == 1]['count']\n",
    "negetive_sentiments = data_topic_sentiment_df[data_topic_sentiment_df['sentiment'] == 0]['count']\n",
    "\n",
    "x = np.arange(len(labels))  # the label locations\n",
    "width = 0.35  # the width of the bars\n",
    "\n",
    "fig, ax = plt.subplots(figsize=(15,6))\n",
    "rects1 = ax.bar(x - width/2, positive_sentiments, width, label='Positive')\n",
    "rects2 = ax.bar(x + width/2, negetive_sentiments, width, label='Negetive')\n",
    "\n",
    "# Add some text for labels, title and custom x-axis tick labels, etc.\n",
    "ax.set_ylabel('Sentiments')\n",
    "ax.set_title('Sentiments by Topic')\n",
    "ax.set_xticks(x)\n",
    "ax.set_xticklabels(labels)\n",
    "ax.legend()\n",
    "\n",
    "\n",
    "def autolabel(rects):\n",
    "    \"\"\"Attach a text label above each bar in *rects*, displaying its height.\"\"\"\n",
    "    for rect in rects:\n",
    "        height = rect.get_height()\n",
    "        ax.annotate('{}'.format(height),\n",
    "                    xy=(rect.get_x() + rect.get_width() / 2, height),\n",
    "                    xytext=(0, 3),  # 3 points vertical offset\n",
    "                    textcoords=\"offset points\",\n",
    "                    ha='center', va='bottom')\n",
    "\n",
    "\n",
    "autolabel(rects1)\n",
    "autolabel(rects2)\n",
    "\n",
    "fig.tight_layout()\n",
    "\n",
    "plt.show()"
   ]
  },
  {
   "cell_type": "code",
   "execution_count": null,
   "metadata": {},
   "outputs": [],
   "source": []
  }
 ],
 "metadata": {
  "kernelspec": {
   "display_name": "Python 3",
   "language": "python",
   "name": "python3"
  },
  "language_info": {
   "codemirror_mode": {
    "name": "ipython",
    "version": 3
   },
   "file_extension": ".py",
   "mimetype": "text/x-python",
   "name": "python",
   "nbconvert_exporter": "python",
   "pygments_lexer": "ipython3",
   "version": "3.7.3"
  }
 },
 "nbformat": 4,
 "nbformat_minor": 4
}
