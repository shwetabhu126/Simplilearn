{
 "cells": [
  {
   "cell_type": "markdown",
   "metadata": {},
   "source": [
    "## Topic Analysis of Review Data"
   ]
  },
  {
   "cell_type": "markdown",
   "metadata": {},
   "source": [
    "#### DESCRIPTION\n",
    "\n",
    "Help a leading mobile brand understand the voice of the customer by analyzing the reviews of their product on Amazon and the topics that customers are talking about. You will perform topic modeling on specific parts of speech. You’ll finally interpret the emerging topics."
   ]
  },
  {
   "cell_type": "markdown",
   "metadata": {},
   "source": [
    "#### Problem Statement: \n",
    "\n",
    "A popular mobile phone brand, Lenovo has launched their budget smartphone in the Indian market. The client wants to understand the VOC (voice of the customer) on the product. This will be useful to not just evaluate the current product, but to also get some direction for developing the product pipeline. The client is particularly interested in the different aspects that customers care about. Product reviews by customers on a leading e-commerce site should provide a good view."
   ]
  },
  {
   "cell_type": "markdown",
   "metadata": {},
   "source": [
    "**Domain:** Amazon reviews for a leading phone brand"
   ]
  },
  {
   "cell_type": "markdown",
   "metadata": {},
   "source": [
    "#### Analysis to be done: \n",
    "POS tagging, topic modeling using LDA, and topic interpretation\n",
    "\n",
    "**Dataset:** ‘K8 Reviews v0.2.csv’\n",
    "\n",
    "**Sentiment:** The sentiment against the review (4,5 star reviews are positive, 1,2 are negative)\n",
    "\n",
    "**Reviews:** The main text of the review"
   ]
  },
  {
   "cell_type": "markdown",
   "metadata": {},
   "source": [
    "#### Steps to perform:\n",
    "\n",
    "Discover the topics in the reviews and present it to business in a consumable format. Employ techniques in syntactic processing and topic modeling.\n",
    "\n",
    "Perform specific cleanup, POS tagging, and restricting to relevant POS tags, then, perform topic modeling using LDA. Finally, give business-friendly names to the topics and make a table for business."
   ]
  },
  {
   "cell_type": "markdown",
   "metadata": {},
   "source": [
    "#### Tasks: \n",
    "\n",
    "1. Read the .csv file using Pandas. Take a look at the top few records.\n",
    "\n",
    "2. Normalize casings for the review text and extract the text into a list for easier manipulation.\n",
    "\n",
    "3. Tokenize the reviews using NLTKs word_tokenize function.\n",
    "\n",
    "4. Perform parts-of-speech tagging on each sentence using the NLTK POS tagger.\n",
    "\n",
    "5. For the topic model, we should  want to include only nouns.\n",
    "\n",
    "  - Find out all the POS tags that correspond to nouns.\n",
    "\n",
    "  - Limit the data to only terms with these tags.\n",
    "\n",
    "6. Lemmatize. \n",
    "\n",
    "  - Different forms of the terms need to be treated as one.\n",
    "\n",
    "  - No need to provide POS tag to lemmatizer for now.\n",
    "\n",
    "7. Remove stopwords and punctuation (if there are any). \n",
    "\n",
    "8. Create a topic model using LDA on the cleaned up data with 12 topics.\n",
    "\n",
    "  - Print out the top terms for each topic.\n",
    "\n",
    "  - What is the coherence of the model with the c_v metric?\n",
    "\n",
    "9. Analyze the topics through the business lens.\n",
    "\n",
    "  - Determine which of the topics can be combined.\n",
    "\n",
    "10. Create topic model using LDA with what you think is the optimal number of topics\n",
    "\n",
    "  - What is the coherence of the model?\n",
    "\n",
    "11. The business should  be able to interpret the topics.\n",
    "\n",
    "  - Name each of the identified topics.\n",
    "\n",
    "  - Create a table with the topic name and the top 10 terms in each to present to the  business."
   ]
  },
  {
   "cell_type": "code",
   "execution_count": 1,
   "metadata": {},
   "outputs": [],
   "source": [
    "import numpy as np\n",
    "import pandas as pd\n",
    "import re\n",
    "import nltk\n",
    "import gensim\n",
    "\n",
    "# Sklearn\n",
    "from sklearn.decomposition import LatentDirichletAllocation\n",
    "from sklearn.feature_extraction.text import CountVectorizer, TfidfVectorizer\n",
    "from sklearn.model_selection import GridSearchCV\n",
    "from pprint import pprint\n",
    "\n",
    "# Plotting tools\n",
    "import pyLDAvis\n",
    "import pyLDAvis.sklearn\n",
    "import pyLDAvis.gensim\n",
    "import matplotlib.pyplot as plt\n",
    "%matplotlib inline"
   ]
  },
  {
   "cell_type": "markdown",
   "metadata": {},
   "source": [
    "#### 1. Read the data"
   ]
  },
  {
   "cell_type": "code",
   "execution_count": 2,
   "metadata": {},
   "outputs": [],
   "source": [
    "data = pd.read_csv('K8 Reviews v0.2.csv')"
   ]
  },
  {
   "cell_type": "code",
   "execution_count": 3,
   "metadata": {},
   "outputs": [
    {
     "data": {
      "text/html": [
       "<div>\n",
       "<style scoped>\n",
       "    .dataframe tbody tr th:only-of-type {\n",
       "        vertical-align: middle;\n",
       "    }\n",
       "\n",
       "    .dataframe tbody tr th {\n",
       "        vertical-align: top;\n",
       "    }\n",
       "\n",
       "    .dataframe thead th {\n",
       "        text-align: right;\n",
       "    }\n",
       "</style>\n",
       "<table border=\"1\" class=\"dataframe\">\n",
       "  <thead>\n",
       "    <tr style=\"text-align: right;\">\n",
       "      <th></th>\n",
       "      <th>sentiment</th>\n",
       "      <th>review</th>\n",
       "    </tr>\n",
       "  </thead>\n",
       "  <tbody>\n",
       "    <tr>\n",
       "      <th>0</th>\n",
       "      <td>1</td>\n",
       "      <td>Good but need updates and improvements</td>\n",
       "    </tr>\n",
       "    <tr>\n",
       "      <th>1</th>\n",
       "      <td>0</td>\n",
       "      <td>Worst mobile i have bought ever, Battery is dr...</td>\n",
       "    </tr>\n",
       "    <tr>\n",
       "      <th>2</th>\n",
       "      <td>1</td>\n",
       "      <td>when I will get my 10% cash back.... its alrea...</td>\n",
       "    </tr>\n",
       "    <tr>\n",
       "      <th>3</th>\n",
       "      <td>1</td>\n",
       "      <td>Good</td>\n",
       "    </tr>\n",
       "    <tr>\n",
       "      <th>4</th>\n",
       "      <td>0</td>\n",
       "      <td>The worst phone everThey have changed the last...</td>\n",
       "    </tr>\n",
       "  </tbody>\n",
       "</table>\n",
       "</div>"
      ],
      "text/plain": [
       "   sentiment                                             review\n",
       "0          1             Good but need updates and improvements\n",
       "1          0  Worst mobile i have bought ever, Battery is dr...\n",
       "2          1  when I will get my 10% cash back.... its alrea...\n",
       "3          1                                               Good\n",
       "4          0  The worst phone everThey have changed the last..."
      ]
     },
     "execution_count": 3,
     "metadata": {},
     "output_type": "execute_result"
    }
   ],
   "source": [
    "data.head()"
   ]
  },
  {
   "cell_type": "code",
   "execution_count": 4,
   "metadata": {},
   "outputs": [
    {
     "name": "stdout",
     "output_type": "stream",
     "text": [
      "<class 'pandas.core.frame.DataFrame'>\n",
      "RangeIndex: 14675 entries, 0 to 14674\n",
      "Data columns (total 2 columns):\n",
      " #   Column     Non-Null Count  Dtype \n",
      "---  ------     --------------  ----- \n",
      " 0   sentiment  14675 non-null  int64 \n",
      " 1   review     14675 non-null  object\n",
      "dtypes: int64(1), object(1)\n",
      "memory usage: 229.4+ KB\n"
     ]
    }
   ],
   "source": [
    "data.info()"
   ]
  },
  {
   "cell_type": "markdown",
   "metadata": {},
   "source": [
    "#### 2. Normalizing the casing to lower"
   ]
  },
  {
   "cell_type": "code",
   "execution_count": 5,
   "metadata": {},
   "outputs": [],
   "source": [
    "data['review_cleaned'] = data['review'].apply(lambda review: review.lower())"
   ]
  },
  {
   "cell_type": "code",
   "execution_count": 6,
   "metadata": {},
   "outputs": [
    {
     "data": {
      "text/html": [
       "<div>\n",
       "<style scoped>\n",
       "    .dataframe tbody tr th:only-of-type {\n",
       "        vertical-align: middle;\n",
       "    }\n",
       "\n",
       "    .dataframe tbody tr th {\n",
       "        vertical-align: top;\n",
       "    }\n",
       "\n",
       "    .dataframe thead th {\n",
       "        text-align: right;\n",
       "    }\n",
       "</style>\n",
       "<table border=\"1\" class=\"dataframe\">\n",
       "  <thead>\n",
       "    <tr style=\"text-align: right;\">\n",
       "      <th></th>\n",
       "      <th>sentiment</th>\n",
       "      <th>review</th>\n",
       "      <th>review_cleaned</th>\n",
       "    </tr>\n",
       "  </thead>\n",
       "  <tbody>\n",
       "    <tr>\n",
       "      <th>0</th>\n",
       "      <td>1</td>\n",
       "      <td>Good but need updates and improvements</td>\n",
       "      <td>good but need updates and improvements</td>\n",
       "    </tr>\n",
       "    <tr>\n",
       "      <th>1</th>\n",
       "      <td>0</td>\n",
       "      <td>Worst mobile i have bought ever, Battery is dr...</td>\n",
       "      <td>worst mobile i have bought ever, battery is dr...</td>\n",
       "    </tr>\n",
       "    <tr>\n",
       "      <th>2</th>\n",
       "      <td>1</td>\n",
       "      <td>when I will get my 10% cash back.... its alrea...</td>\n",
       "      <td>when i will get my 10% cash back.... its alrea...</td>\n",
       "    </tr>\n",
       "    <tr>\n",
       "      <th>3</th>\n",
       "      <td>1</td>\n",
       "      <td>Good</td>\n",
       "      <td>good</td>\n",
       "    </tr>\n",
       "    <tr>\n",
       "      <th>4</th>\n",
       "      <td>0</td>\n",
       "      <td>The worst phone everThey have changed the last...</td>\n",
       "      <td>the worst phone everthey have changed the last...</td>\n",
       "    </tr>\n",
       "  </tbody>\n",
       "</table>\n",
       "</div>"
      ],
      "text/plain": [
       "   sentiment                                             review  \\\n",
       "0          1             Good but need updates and improvements   \n",
       "1          0  Worst mobile i have bought ever, Battery is dr...   \n",
       "2          1  when I will get my 10% cash back.... its alrea...   \n",
       "3          1                                               Good   \n",
       "4          0  The worst phone everThey have changed the last...   \n",
       "\n",
       "                                      review_cleaned  \n",
       "0             good but need updates and improvements  \n",
       "1  worst mobile i have bought ever, battery is dr...  \n",
       "2  when i will get my 10% cash back.... its alrea...  \n",
       "3                                               good  \n",
       "4  the worst phone everthey have changed the last...  "
      ]
     },
     "execution_count": 6,
     "metadata": {},
     "output_type": "execute_result"
    }
   ],
   "source": [
    "data.head()"
   ]
  },
  {
   "cell_type": "markdown",
   "metadata": {},
   "source": [
    "#### 3. Tokenize the reviews using NLTKs word_tokenize function."
   ]
  },
  {
   "cell_type": "code",
   "execution_count": 7,
   "metadata": {},
   "outputs": [],
   "source": [
    "reviews = data['review_cleaned']\n",
    "reviews = [nltk.word_tokenize(review) for review in reviews]"
   ]
  },
  {
   "cell_type": "code",
   "execution_count": 8,
   "metadata": {},
   "outputs": [
    {
     "data": {
      "text/plain": [
       "14675"
      ]
     },
     "execution_count": 8,
     "metadata": {},
     "output_type": "execute_result"
    }
   ],
   "source": [
    "len(reviews)"
   ]
  },
  {
   "cell_type": "code",
   "execution_count": 9,
   "metadata": {},
   "outputs": [
    {
     "name": "stdout",
     "output_type": "stream",
     "text": [
      "[['good', 'but', 'need', 'updates', 'and', 'improvements'],\n",
      " ['worst', 'mobile', 'i', 'have', 'bought', 'ever', ',', 'battery', 'is',\n",
      "  'draining', 'like', 'hell', ',', 'backup', 'is', 'only', '6', 'to', '7',\n",
      "  'hours', 'with', 'internet', 'uses', ',', 'even', 'if', 'i', 'put', 'mobile',\n",
      "  'idle', 'its', 'getting', 'discharged.this', 'is', 'biggest', 'lie', 'from',\n",
      "  'amazon', '&', 'lenove', 'which', 'is', 'not', 'at', 'all', 'expected', ',',\n",
      "  'they', 'are', 'making', 'full', 'by', 'saying', 'that', 'battery', 'is',\n",
      "  '4000mah', '&', 'booster', 'charger', 'is', 'fake', ',', 'it', 'takes', 'at',\n",
      "  'least', '4', 'to', '5', 'hours', 'to', 'be', 'fully', 'charged.do', \"n't\",\n",
      "  'know', 'how', 'lenovo', 'will', 'survive', 'by', 'making', 'full', 'of',\n",
      "  'us.please', 'don', ';', 't', 'go', 'for', 'this', 'else', 'you', 'will',\n",
      "  'regret', 'like', 'me', '.'],\n",
      " ['when', 'i', 'will', 'get', 'my', '10', '%', 'cash', 'back', '...', '.',\n",
      "  'its', 'already', '15', 'january..'],\n",
      " ['good'],\n",
      " ['the', 'worst', 'phone', 'everthey', 'have', 'changed', 'the', 'last',\n",
      "  'phone', 'but', 'the', 'problem', 'is', 'still', 'same', 'and', 'the',\n",
      "  'amazon', 'is', 'not', 'returning', 'the', 'phone', '.highly',\n",
      "  'disappointing', 'of', 'amazon']]\n"
     ]
    }
   ],
   "source": [
    "pprint(reviews[:5], compact=True)"
   ]
  },
  {
   "cell_type": "markdown",
   "metadata": {},
   "source": [
    "#### 4. Perform parts-of-speech tagging on each document using the NLTK POS tagger"
   ]
  },
  {
   "cell_type": "code",
   "execution_count": 10,
   "metadata": {},
   "outputs": [
    {
     "name": "stdout",
     "output_type": "stream",
     "text": [
      "[[('good', 'JJ'), ('but', 'CC'), ('need', 'VBP'), ('updates', 'NNS'),\n",
      "  ('and', 'CC'), ('improvements', 'NNS')],\n",
      " [('worst', 'JJS'), ('mobile', 'NN'), ('i', 'NN'), ('have', 'VBP'),\n",
      "  ('bought', 'VBN'), ('ever', 'RB'), (',', ','), ('battery', 'NN'),\n",
      "  ('is', 'VBZ'), ('draining', 'VBG'), ('like', 'IN'), ('hell', 'NN'),\n",
      "  (',', ','), ('backup', 'NN'), ('is', 'VBZ'), ('only', 'RB'), ('6', 'CD'),\n",
      "  ('to', 'TO'), ('7', 'CD'), ('hours', 'NNS'), ('with', 'IN'),\n",
      "  ('internet', 'JJ'), ('uses', 'NNS'), (',', ','), ('even', 'RB'), ('if', 'IN'),\n",
      "  ('i', 'JJ'), ('put', 'VBP'), ('mobile', 'JJ'), ('idle', 'NN'),\n",
      "  ('its', 'PRP$'), ('getting', 'VBG'), ('discharged.this', 'NN'), ('is', 'VBZ'),\n",
      "  ('biggest', 'JJS'), ('lie', 'NN'), ('from', 'IN'), ('amazon', 'NN'),\n",
      "  ('&', 'CC'), ('lenove', 'NN'), ('which', 'WDT'), ('is', 'VBZ'), ('not', 'RB'),\n",
      "  ('at', 'IN'), ('all', 'DT'), ('expected', 'VBN'), (',', ','), ('they', 'PRP'),\n",
      "  ('are', 'VBP'), ('making', 'VBG'), ('full', 'JJ'), ('by', 'IN'),\n",
      "  ('saying', 'VBG'), ('that', 'DT'), ('battery', 'NN'), ('is', 'VBZ'),\n",
      "  ('4000mah', 'CD'), ('&', 'CC'), ('booster', 'JJR'), ('charger', 'NN'),\n",
      "  ('is', 'VBZ'), ('fake', 'JJ'), (',', ','), ('it', 'PRP'), ('takes', 'VBZ'),\n",
      "  ('at', 'IN'), ('least', 'JJS'), ('4', 'CD'), ('to', 'TO'), ('5', 'CD'),\n",
      "  ('hours', 'NNS'), ('to', 'TO'), ('be', 'VB'), ('fully', 'RB'),\n",
      "  ('charged.do', 'VBP'), (\"n't\", 'RB'), ('know', 'VB'), ('how', 'WRB'),\n",
      "  ('lenovo', 'JJ'), ('will', 'MD'), ('survive', 'VB'), ('by', 'IN'),\n",
      "  ('making', 'VBG'), ('full', 'JJ'), ('of', 'IN'), ('us.please', 'JJ'),\n",
      "  ('don', 'NN'), (';', ':'), ('t', 'CC'), ('go', 'VB'), ('for', 'IN'),\n",
      "  ('this', 'DT'), ('else', 'JJ'), ('you', 'PRP'), ('will', 'MD'),\n",
      "  ('regret', 'VB'), ('like', 'IN'), ('me', 'PRP'), ('.', '.')],\n",
      " [('when', 'WRB'), ('i', 'NN'), ('will', 'MD'), ('get', 'VB'), ('my', 'PRP$'),\n",
      "  ('10', 'CD'), ('%', 'NN'), ('cash', 'NN'), ('back', 'RB'), ('...', ':'),\n",
      "  ('.', '.'), ('its', 'PRP$'), ('already', 'RB'), ('15', 'CD'),\n",
      "  ('january..', 'NN')],\n",
      " [('good', 'JJ')],\n",
      " [('the', 'DT'), ('worst', 'JJS'), ('phone', 'NN'), ('everthey', 'NN'),\n",
      "  ('have', 'VBP'), ('changed', 'VBN'), ('the', 'DT'), ('last', 'JJ'),\n",
      "  ('phone', 'NN'), ('but', 'CC'), ('the', 'DT'), ('problem', 'NN'),\n",
      "  ('is', 'VBZ'), ('still', 'RB'), ('same', 'JJ'), ('and', 'CC'), ('the', 'DT'),\n",
      "  ('amazon', 'NN'), ('is', 'VBZ'), ('not', 'RB'), ('returning', 'VBG'),\n",
      "  ('the', 'DT'), ('phone', 'NN'), ('.highly', 'RB'), ('disappointing', 'JJ'),\n",
      "  ('of', 'IN'), ('amazon', 'NN')]]\n",
      "Wall time: 26 s\n"
     ]
    }
   ],
   "source": [
    "%%time\n",
    "review_pos_tags = [nltk.pos_tag(doc) for doc in reviews]\n",
    "pprint(review_pos_tags[:5], compact=True)"
   ]
  },
  {
   "cell_type": "markdown",
   "metadata": {},
   "source": [
    "#### 5. Including only nouns for building the Topic Model"
   ]
  },
  {
   "cell_type": "code",
   "execution_count": 11,
   "metadata": {},
   "outputs": [
    {
     "name": "stdout",
     "output_type": "stream",
     "text": [
      "[['updates', 'improvements'],\n",
      " ['mobile', 'i', 'battery', 'hell', 'backup', 'hours', 'uses', 'idle',\n",
      "  'discharged.this', 'lie', 'amazon', 'lenove', 'battery', 'charger', 'hours',\n",
      "  'don'],\n",
      " ['i', '%', 'cash', 'january..'], [],\n",
      " ['phone', 'everthey', 'phone', 'problem', 'amazon', 'phone', 'amazon']]\n"
     ]
    }
   ],
   "source": [
    "review_nouns = [[token for token, pos in doc if pos.startswith('NN')] for doc in review_pos_tags]\n",
    "pprint(review_nouns[:5], compact=True)"
   ]
  },
  {
   "cell_type": "markdown",
   "metadata": {},
   "source": [
    "#### 6. Lemmatize"
   ]
  },
  {
   "cell_type": "code",
   "execution_count": 12,
   "metadata": {},
   "outputs": [
    {
     "name": "stdout",
     "output_type": "stream",
     "text": [
      "[['update', 'improvement'],\n",
      " ['mobile',\n",
      "  'i',\n",
      "  'battery',\n",
      "  'hell',\n",
      "  'backup',\n",
      "  'hour',\n",
      "  'us',\n",
      "  'idle',\n",
      "  'discharged.this',\n",
      "  'lie',\n",
      "  'amazon',\n",
      "  'lenove',\n",
      "  'battery',\n",
      "  'charger',\n",
      "  'hour',\n",
      "  'don'],\n",
      " ['i', '%', 'cash', 'january..'],\n",
      " [],\n",
      " ['phone', 'everthey', 'phone', 'problem', 'amazon', 'phone', 'amazon']]\n",
      "Wall time: 3.13 s\n"
     ]
    }
   ],
   "source": [
    "%%time\n",
    "review_lemmatized = [[nltk.stem.WordNetLemmatizer().lemmatize(token) for token in doc] for doc in review_nouns]\n",
    "pprint(review_lemmatized[:5])"
   ]
  },
  {
   "cell_type": "markdown",
   "metadata": {},
   "source": [
    "#### 7. Remove stopwords and punctuation (if there are any)."
   ]
  },
  {
   "cell_type": "code",
   "execution_count": 13,
   "metadata": {},
   "outputs": [
    {
     "name": "stdout",
     "output_type": "stream",
     "text": [
      "[['update', 'improvement'],\n",
      " ['mobile',\n",
      "  'battery',\n",
      "  'hell',\n",
      "  'backup',\n",
      "  'hour',\n",
      "  'us',\n",
      "  'idle',\n",
      "  'lie',\n",
      "  'amazon',\n",
      "  'lenove',\n",
      "  'battery',\n",
      "  'charger',\n",
      "  'hour'],\n",
      " ['cash'],\n",
      " [],\n",
      " ['phone', 'everthey', 'phone', 'problem', 'amazon', 'phone', 'amazon']]\n",
      "Wall time: 25.9 s\n"
     ]
    }
   ],
   "source": [
    "%%time\n",
    "review_no_sw = [[token for token in doc if token not in nltk.corpus.stopwords.words('english') \n",
    "                 and token.isalpha()] \n",
    "                for doc in review_lemmatized]\n",
    "pprint(review_no_sw[:5])"
   ]
  },
  {
   "cell_type": "markdown",
   "metadata": {},
   "source": [
    "#### 8. Create a topic model using LDA on the cleaned up data with 12 topics."
   ]
  },
  {
   "cell_type": "code",
   "execution_count": 14,
   "metadata": {},
   "outputs": [],
   "source": [
    "# Build a Dictionary - association word to numeric id\n",
    "dictionary = gensim.corpora.Dictionary(review_no_sw)\n",
    "# Transform the collection of texts to a numerical form\n",
    "corpus = [dictionary.doc2bow(text) for text in review_no_sw]"
   ]
  },
  {
   "cell_type": "code",
   "execution_count": 15,
   "metadata": {},
   "outputs": [],
   "source": [
    "NUM_TOPICS = 12\n",
    "lda_model = gensim.models.LdaModel(corpus=corpus, num_topics=NUM_TOPICS, id2word=dictionary)"
   ]
  },
  {
   "cell_type": "markdown",
   "metadata": {},
   "source": [
    "#### 8.1 Print out the top terms for each topic."
   ]
  },
  {
   "cell_type": "code",
   "execution_count": 16,
   "metadata": {},
   "outputs": [
    {
     "name": "stdout",
     "output_type": "stream",
     "text": [
      "LDA Model:\n",
      "('Topic #0: 0.147*\"battery\" + 0.078*\"phone\" + 0.050*\"heat\" + 0.037*\"charger\" + '\n",
      " '0.034*\"day\" + 0.030*\"h\" + 0.024*\"life\" + 0.024*\"hour\" + 0.022*\"charge\" + '\n",
      " '0.020*\"month\"')\n",
      "('Topic #1: 0.138*\"issue\" + 0.091*\"network\" + 0.043*\"problem\" + 0.026*\"video\" '\n",
      " '+ 0.021*\"sim\" + 0.020*\"phone\" + 0.019*\"bit\" + 0.016*\"quality\" + '\n",
      " '0.015*\"battery\" + 0.015*\"camera\"')\n",
      "('Topic #2: 0.095*\"note\" + 0.080*\"lenovo\" + 0.056*\"hai\" + 0.043*\"smartphone\" + '\n",
      " '0.034*\"box\" + 0.030*\"ok\" + 0.028*\"phone\" + 0.019*\"killer\" + 0.016*\"image\" + '\n",
      " '0.014*\"today\"')\n",
      "('Topic #3: 0.075*\"device\" + 0.065*\"phone\" + 0.038*\"return\" + 0.033*\"amazon\" + '\n",
      " '0.023*\"headphone\" + 0.023*\"service\" + 0.022*\"problem\" + 0.021*\"budget\" + '\n",
      " '0.020*\"volta\" + 0.018*\"policy\"')\n",
      "('Topic #4: 0.154*\"price\" + 0.110*\"phone\" + 0.082*\"feature\" + 0.061*\"range\" + '\n",
      " '0.032*\"handset\" + 0.027*\"speaker\" + 0.025*\"experience\" + 0.023*\"everything\" '\n",
      " '+ 0.019*\"product\" + 0.019*\"note\"')\n",
      "('Topic #5: 0.230*\"phone\" + 0.077*\"camera\" + 0.044*\"battery\" + '\n",
      " '0.031*\"performance\" + 0.017*\"issue\" + 0.015*\"mode\" + 0.015*\"processor\" + '\n",
      " '0.014*\"quality\" + 0.014*\"day\" + 0.012*\"note\"')\n",
      "('Topic #6: 0.371*\"product\" + 0.080*\"money\" + 0.047*\"value\" + '\n",
      " '0.021*\"excellent\" + 0.020*\"star\" + 0.020*\"piece\" + 0.018*\"cam\" + '\n",
      " '0.017*\"worth\" + 0.014*\"earphone\" + 0.013*\"result\"')\n",
      "('Topic #7: 0.055*\"superb\" + 0.042*\"app\" + 0.030*\"music\" + 0.028*\"function\" + '\n",
      " '0.025*\"photo\" + 0.024*\"battery\" + 0.023*\"system\" + 0.023*\"gallery\" + '\n",
      " '0.021*\"note\" + 0.018*\"contact\"')\n",
      "('Topic #8: 0.188*\"camera\" + 0.112*\"quality\" + 0.095*\"battery\" + '\n",
      " '0.057*\"problem\" + 0.049*\"backup\" + 0.034*\"heating\" + 0.027*\"waste\" + '\n",
      " '0.026*\"product\" + 0.021*\"sound\" + 0.019*\"clarity\"')\n",
      "('Topic #9: 0.323*\"mobile\" + 0.042*\"delivery\" + 0.029*\"month\" + '\n",
      " '0.027*\"problem\" + 0.020*\"expectation\" + 0.020*\"set\" + 0.020*\"product\" + '\n",
      " '0.016*\"replacement\" + 0.014*\"purchase\" + 0.012*\"date\"')\n",
      "('Topic #10: 0.104*\"phone\" + 0.028*\"note\" + 0.028*\"service\" + 0.026*\"lenovo\" + '\n",
      " '0.023*\"screen\" + 0.019*\"day\" + 0.019*\"option\" + 0.018*\"problem\" + '\n",
      " '0.017*\"camera\" + 0.016*\"feature\"')\n",
      "('Topic #11: 0.078*\"phone\" + 0.051*\"call\" + 0.045*\"time\" + 0.034*\"battery\" + '\n",
      " '0.031*\"hour\" + 0.024*\"update\" + 0.024*\"issue\" + 0.018*\"software\" + '\n",
      " '0.017*\"turbo\" + 0.016*\"problem\"')\n"
     ]
    }
   ],
   "source": [
    "print(\"LDA Model:\")\n",
    " \n",
    "for idx in range(NUM_TOPICS):\n",
    "    # Print the first 10 most representative topics\n",
    "    pprint(\"Topic #{}: {}\".format(idx, lda_model.print_topic(idx, 10)), compact=True)"
   ]
  },
  {
   "cell_type": "code",
   "execution_count": 17,
   "metadata": {},
   "outputs": [
    {
     "data": {
      "text/html": [
       "\n",
       "<link rel=\"stylesheet\" type=\"text/css\" href=\"https://cdn.rawgit.com/bmabey/pyLDAvis/files/ldavis.v1.0.0.css\">\n",
       "\n",
       "\n",
       "<div id=\"ldavis_el884826500892297926990315317\"></div>\n",
       "<script type=\"text/javascript\">\n",
       "\n",
       "var ldavis_el884826500892297926990315317_data = {\"mdsDat\": {\"x\": [-0.12936799629803944, -0.09097191452062779, -0.042605321637876684, -0.11283242176182046, -0.13690887553980927, -0.09223562032424279, 0.04088545297572794, 0.05466820873145318, 0.08191870519316115, 0.3120577489964083, -0.01300185004553353, 0.1283938842311996], \"y\": [-0.02002667842000756, 0.06511066508374976, -0.20441106567417897, 0.01593478817315703, -0.05443257274391816, -0.0589367606127295, 0.15005458621267134, 0.13501174351549772, -0.052714552152349686, -0.1672189742570384, -0.013532495539486185, 0.20516131641463267], \"topics\": [1, 2, 3, 4, 5, 6, 7, 8, 9, 10, 11, 12], \"cluster\": [1, 1, 1, 1, 1, 1, 1, 1, 1, 1, 1, 1], \"Freq\": [18.5681209564209, 14.599726676940918, 10.3642578125, 9.600408554077148, 9.004349708557129, 6.716941833496094, 6.025667667388916, 5.897273540496826, 5.475066661834717, 5.285928726196289, 4.437071800231934, 4.025183200836182]}, \"tinfo\": {\"Term\": [\"product\", \"mobile\", \"camera\", \"price\", \"battery\", \"phone\", \"issue\", \"quality\", \"network\", \"note\", \"feature\", \"money\", \"lenovo\", \"device\", \"range\", \"heat\", \"backup\", \"call\", \"hai\", \"problem\", \"superb\", \"value\", \"hour\", \"service\", \"delivery\", \"charger\", \"app\", \"h\", \"return\", \"smartphone\", \"top\", \"resolution\", \"gaming\", \"mind\", \"half\", \"super\", \"place\", \"saver\", \"right\", \"protection\", \"bed\", \"percentage\", \"hd\", \"coverage\", \"toh\", \"job\", \"depth\", \"cool\", \"phon\", \"access\", \"limit\", \"mast\", \"photography\", \"improvement\", \"bokeh\", \"area\", \"rock\", \"technician\", \"location\", \"gamer\", \"split\", \"average\", \"slot\", \"focus\", \"effect\", \"processor\", \"phone\", \"lag\", \"core\", \"flash\", \"performance\", \"mode\", \"deca\", \"mah\", \"camera\", \"fingerprint\", \"look\", \"card\", \"mark\", \"memory\", \"battery\", \"usage\", \"sensor\", \"issue\", \"day\", \"light\", \"quality\", \"note\", \"time\", \"use\", \"feature\", \"price\", \"backup\", \"life\", \"product\", \"yesterday\", \"class\", \"ringtone\", \"kiya\", \"rating\", \"upgrade\", \"home\", \"loss\", \"alarm\", \"pic\", \"couple\", \"talk\", \"htc\", \"smart\", \"gesture\", \"amount\", \"face\", \"medium\", \"minus\", \"market\", \"manufacturing\", \"bakwas\", \"navigation\", \"mine\", \"vodafone\", \"message\", \"trouble\", \"sims\", \"trust\", \"oreo\", \"center\", \"atmos\", \"button\", \"centre\", \"bug\", \"bar\", \"office\", \"functionality\", \"stock\", \"android\", \"service\", \"option\", \"key\", \"user\", \"setting\", \"company\", \"someone\", \"screen\", \"cost\", \"lenovo\", \"phone\", \"dolby\", \"note\", \"update\", \"day\", \"feature\", \"gb\", \"music\", \"thing\", \"problem\", \"ram\", \"time\", \"camera\", \"software\", \"battery\", \"issue\", \"tray\", \"icon\", \"zoom\", \"clearity\", \"lenevo\", \"casting\", \"group\", \"bhai\", \"clarity\", \"chromecast\", \"wrost\", \"disaster\", \"camra\", \"gift\", \"comapre\", \"mobil\", \"band\", \"capacity\", \"lie\", \"cheater\", \"mp\", \"waste\", \"mood\", \"r\", \"us\", \"reviewer\", \"finish\", \"thak\", \"backup\", \"mh\", \"picture\", \"future\", \"quality\", \"camera\", \"sound\", \"selfie\", \"heating\", \"model\", \"problem\", \"battery\", \"display\", \"speed\", \"process\", \"money\", \"performance\", \"front\", \"product\", \"life\", \"speaker\", \"photo\", \"rear\", \"thing\", \"mode\", \"phone\", \"feature\", \"lenovo\", \"day\", \"recorder\", \"number\", \"audio\", \"battry\", \"usb\", \"ph\", \"ad\", \"item\", \"iron\", \"mobail\", \"tag\", \"fake\", \"bank\", \"warm\", \"provider\", \"optimization\", \"launch\", \"example\", \"overheating\", \"west\", \"patch\", \"want\", \"list\", \"hv\", \"doesnt\", \"head\", \"security\", \"executive\", \"premium\", \"caller\", \"party\", \"recording\", \"storage\", \"package\", \"call\", \"voice\", \"minute\", \"cable\", \"con\", \"turbo\", \"apps\", \"hour\", \"auto\", \"side\", \"time\", \"update\", \"u\", \"power\", \"design\", \"software\", \"jio\", \"volume\", \"phone\", \"system\", \"charger\", \"issue\", \"battery\", \"sim\", \"data\", \"problem\", \"charge\", \"note\", \"day\", \"screen\", \"feature\", \"h\", \"nice\", \"drainage\", \"raha\", \"max\", \"id\", \"pr\", \"test\", \"jyada\", \"okay\", \"gya\", \"mean\", \"menu\", \"car\", \"position\", \"irritating\", \"last\", \"thats\", \"vibration\", \"adaptor\", \"heat\", \"mention\", \"scratch\", \"risk\", \"surfing\", \"discharge\", \"mic\", \"form\", \"line\", \"tooth\", \"processing\", \"hang\", \"v\", \"charger\", \"cover\", \"cash\", \"life\", \"battery\", \"charge\", \"glass\", \"charging\", \"ho\", \"drain\", \"hour\", \"day\", \"review\", \"hr\", \"care\", \"month\", \"gorilla\", \"phone\", \"use\", \"usage\", \"game\", \"problem\", \"time\", \"customer\", \"everything\", \"buy\", \"lot\", \"quality\", \"issue\", \"comparison\", \"stop\", \"category\", \"awesome\", \"mob\", \"control\", \"restart\", \"hota\", \"repair\", \"messenger\", \"wise\", \"perfect\", \"whats\", \"reception\", \"build\", \"foot\", \"operation\", \"pack\", \"procedure\", \"ti\", \"visit\", \"motherboard\", \"airtel\", \"connectivity\", \"section\", \"tower\", \"functioning\", \"think\", \"sharpness\", \"divice\", \"network\", \"signal\", \"download\", \"colour\", \"issue\", \"dont\", \"video\", \"complain\", \"bit\", \"nothing\", \"sim\", \"configuration\", \"complaint\", \"jio\", \"notification\", \"light\", \"problem\", \"drain\", \"k\", \"heating\", \"mark\", \"quality\", \"month\", \"phone\", \"battery\", \"camera\", \"time\", \"lot\", \"day\", \"amazon\", \"service\", \"facility\", \"lte\", \"jata\", \"rha\", \"bhi\", \"bekar\", \"pin\", \"kar\", \"thank\", \"thik\", \"motorola\", \"round\", \"tone\", \"return\", \"wife\", \"accessory\", \"smartphones\", \"part\", \"bada\", \"photograph\", \"samsung\", \"ghatiya\", \"rupee\", \"bass\", \"lena\", \"microphone\", \"headphone\", \"jayega\", \"none\", \"house\", \"team\", \"device\", \"policy\", \"ka\", \"hi\", \"faulty\", \"version\", \"detail\", \"volta\", \"condition\", \"budget\", \"cast\", \"connection\", \"amazon\", \"ye\", \"ho\", \"service\", \"phone\", \"hai\", \"headset\", \"problem\", \"screen\", \"lenovo\", \"heating\", \"refund\", \"product\", \"ki\", \"order\", \"adapter\", \"ek\", \"b\", \"hu\", \"copy\", \"penny\", \"buying\", \"isme\", \"paisa\", \"batter\", \"pubg\", \"september\", \"wow\", \"turbocharger\", \"factory\", \"brother\", \"shopping\", \"maine\", \"whereas\", \"come\", \"par\", \"decade\", \"plz\", \"range\", \"series\", \"price\", \"xiaomi\", \"packup\", \"cell\", \"handset\", \"lack\", \"fine\", \"rest\", \"feature\", \"touch\", \"thanks\", \"experience\", \"buy\", \"everything\", \"speaker\", \"work\", \"phone\", \"interface\", \"response\", \"note\", \"till\", \"product\", \"worth\", \"lenovo\", \"problem\", \"performance\", \"day\", \"amazon\", \"delivery\", \"set\", \"concern\", \"lenova\", \"invoice\", \"mobile\", \"packing\", \"comment\", \"discount\", \"crack\", \"news\", \"hanging\", \"folder\", \"phoneall\", \"bill\", \"curve\", \"shape\", \"electronics\", \"tech\", \"payment\", \"cheat\", \"family\", \"dad\", \"date\", \"isse\", \"march\", \"leta\", \"th\", \"tell\", \"post\", \"cemera\", \"delivery\", \"expectation\", \"damage\", \"pls\", \"warranty\", \"purchase\", \"weight\", \"replacement\", \"month\", \"one\", \"hand\", \"gold\", \"gorilla\", \"glass\", \"problem\", \"amazon\", \"product\", \"please\", \"till\", \"heating\", \"time\", \"day\", \"use\", \"service\", \"battery\", \"note\", \"feature\", \"result\", \"excellent\", \"gud\", \"cam\", \"fone\", \"pc\", \"wastage\", \"flashlight\", \"generation\", \"socket\", \"goog\", \"flipkart\", \"dust\", \"working\", \"material\", \"port\", \"c\", \"recommend\", \"value\", \"inbuilt\", \"rate\", \"satisfactory\", \"everytime\", \"combination\", \"metal\", \"problembattery\", \"blaster\", \"pixel\", \"pice\", \"space\", \"product\", \"piece\", \"worth\", \"money\", \"star\", \"hotspot\", \"earphone\", \"n\", \"smooth\", \"level\", \"support\", \"setup\", \"amazon\", \"camera\", \"time\", \"good\", \"performance\", \"phone\", \"speed\", \"draining\", \"seller\", \"switch\", \"atom\", \"g\", \"player\", \"suggestion\", \"capture\", \"pad\", \"batery\", \"bettry\", \"aug\", \"awsome\", \"superb\", \"lock\", \"step\", \"standby\", \"book\", \"recharge\", \"aur\", \"brightness\", \"function\", \"peace\", \"corner\", \"history\", \"diya\", \"guard\", \"competition\", \"file\", \"account\", \"net\", \"app\", \"gallery\", \"default\", \"contact\", \"photo\", \"music\", \"system\", \"dolby\", \"way\", \"hr\", \"please\", \"night\", \"change\", \"note\", \"battery\", \"time\", \"apps\", \"screen\", \"ram\", \"camera\", \"china\", \"bhut\", \"effort\", \"mera\", \"gaya\", \"movie\", \"department\", \"love\", \"ok\", \"hone\", \"ke\", \"mila\", \"mujhe\", \"liye\", \"feeling\", \"smartphone\", \"view\", \"dot\", \"manager\", \"aap\", \"baad\", \"fuction\", \"wireless\", \"le\", \"cpu\", \"chrome\", \"word\", \"exchange\", \"sabse\", \"koi\", \"deal\", \"hai\", \"tha\", \"box\", \"today\", \"killer\", \"ko\", \"lenovo\", \"note\", \"sir\", \"vibe\", \"image\", \"color\", \"fast\", \"mi\", \"phone\", \"se\", \"tv\", \"look\", \"quality\"], \"Freq\": [2259.0, 1502.0, 3181.0, 914.0, 3123.0, 6954.0, 1412.0, 1392.0, 581.0, 1199.0, 854.0, 601.0, 915.0, 443.0, 354.0, 399.0, 555.0, 519.0, 255.0, 1528.0, 215.0, 230.0, 470.0, 528.0, 250.0, 481.0, 225.0, 218.0, 197.0, 149.0, 38.217437744140625, 58.048980712890625, 59.12309646606445, 33.614444732666016, 32.85668182373047, 86.72003173828125, 27.081268310546875, 29.490060806274414, 26.21867561340332, 23.748884201049805, 23.370412826538086, 22.91341781616211, 35.09914016723633, 21.159887313842773, 20.906448364257812, 20.57964515686035, 157.68441772460938, 19.909330368041992, 19.555267333984375, 18.559053421020508, 17.097396850585938, 16.433610916137695, 20.085153579711914, 42.21942138671875, 25.072996139526367, 14.08948802947998, 13.94991683959961, 12.858186721801758, 16.322702407836914, 13.220606803894043, 14.183516502380371, 61.5174446105957, 81.175048828125, 30.25023651123047, 86.51032257080078, 218.69300842285156, 3425.311279296875, 76.94660949707031, 80.9510269165039, 80.4790267944336, 456.5325012207031, 222.521484375, 48.86154556274414, 82.25704956054688, 1153.54150390625, 57.487422943115234, 93.7095718383789, 92.4929428100586, 96.6250228881836, 72.7336654663086, 655.3236694335938, 102.19148254394531, 75.98003387451172, 254.19444274902344, 203.93157958984375, 74.3060073852539, 206.0072479248047, 182.81040954589844, 143.9259490966797, 89.51496124267578, 126.69097900390625, 105.3901596069336, 93.66044616699219, 84.8619384765625, 111.81336212158203, 37.07063674926758, 83.00765991210938, 35.43456268310547, 25.242141723632812, 53.7507438659668, 22.584333419799805, 27.67351722717285, 21.138690948486328, 20.40727996826172, 75.53653717041016, 30.554636001586914, 17.036901473999023, 18.535675048828125, 22.94510841369629, 18.006298065185547, 41.70770263671875, 32.249725341796875, 41.30576705932617, 18.142377853393555, 44.6569709777832, 13.917289733886719, 15.479679107666016, 17.109275817871094, 16.33087921142578, 12.384699821472168, 98.68177032470703, 18.10506820678711, 23.798856735229492, 12.741708755493164, 55.31511306762695, 137.2802734375, 86.16049194335938, 109.4131851196289, 75.77120208740234, 82.68629455566406, 42.16087341308594, 25.500349044799805, 34.72874450683594, 127.89967346191406, 133.6068878173828, 325.3638610839844, 217.3140106201172, 92.32334899902344, 102.12611389160156, 34.955772399902344, 89.92610168457031, 43.99905014038086, 272.12322998046875, 59.85205841064453, 305.8172607421875, 1213.489013671875, 91.1104736328125, 331.21673583984375, 161.11981201171875, 227.13742065429688, 191.33700561523438, 64.6012954711914, 96.31614685058594, 88.0233383178711, 206.47244262695312, 82.1710205078125, 135.69100952148438, 197.03016662597656, 94.5179672241211, 131.15249633789062, 105.35658264160156, 27.97036361694336, 25.510257720947266, 24.677560806274414, 19.00101661682129, 26.94245147705078, 17.6024227142334, 15.026419639587402, 14.263259887695312, 158.93902587890625, 12.695686340332031, 17.426437377929688, 10.929215431213379, 9.692639350891113, 10.462029457092285, 8.92935562133789, 11.089744567871094, 7.016707897186279, 38.533512115478516, 6.385530948638916, 5.836410999298096, 91.6447982788086, 228.09547424316406, 4.652140140533447, 63.66767120361328, 6.809969902038574, 3.2606852054595947, 3.1480095386505127, 2.9308249950408936, 410.1302185058594, 2.981977939605713, 125.04085540771484, 31.525577545166016, 935.65966796875, 1562.46240234375, 176.8417205810547, 41.00907897949219, 279.1593322753906, 81.17827606201172, 472.26568603515625, 792.089111328125, 131.16342163085938, 99.64958190917969, 21.30544090270996, 142.13722229003906, 140.92626953125, 46.84065246582031, 220.1790313720703, 69.67951202392578, 60.35589599609375, 43.93293380737305, 26.839780807495117, 36.922306060791016, 40.49100875854492, 58.59910583496094, 40.358585357666016, 35.262123107910156, 31.884614944458008, 59.16592788696289, 74.04557037353516, 29.802053451538086, 19.00511932373047, 18.51178741455078, 20.241439819335938, 17.19387435913086, 70.31759643554688, 18.258018493652344, 15.228008270263672, 14.990275382995605, 14.817059516906738, 20.35759162902832, 18.95940399169922, 14.756580352783203, 13.13088607788086, 11.071378707885742, 11.084240913391113, 13.798269271850586, 10.775032997131348, 10.855287551879883, 8.396284103393555, 23.760793685913086, 8.708773612976074, 23.469858169555664, 36.30976104736328, 13.985937118530273, 6.553247451782227, 6.398177146911621, 27.128328323364258, 41.66727066040039, 57.391143798828125, 45.49226379394531, 32.614830017089844, 395.1717529296875, 73.56932067871094, 71.30103302001953, 47.70378112792969, 54.599021911621094, 131.11956787109375, 115.43897247314453, 235.8624267578125, 44.03925704956055, 66.02709197998047, 343.10931396484375, 185.94290161132812, 58.651126861572266, 74.63135528564453, 45.80018997192383, 138.07461547851562, 75.18395233154297, 50.39284896850586, 600.7106323242188, 69.2306900024414, 116.14212036132812, 181.56683349609375, 263.12384033203125, 82.10945892333984, 63.59611129760742, 125.05018615722656, 75.20895385742188, 102.83070373535156, 89.80847930908203, 63.370826721191406, 57.60041809082031, 217.6752471923828, 54.017887115478516, 45.04322814941406, 37.3209114074707, 28.278728485107422, 19.017057418823242, 17.553062438964844, 22.769672393798828, 16.358448028564453, 15.584732055664062, 15.241683006286621, 13.464961051940918, 12.276611328125, 11.608240127563477, 11.422316551208496, 10.1701078414917, 10.14791488647461, 9.802863121032715, 9.72530460357666, 9.155318260192871, 359.5187072753906, 7.352992057800293, 31.738086700439453, 7.037910461425781, 6.8396992683410645, 28.263452529907227, 6.266125679016113, 6.618328094482422, 19.133262634277344, 5.060042858123779, 36.79662322998047, 108.1597900390625, 25.430038452148438, 268.0771789550781, 45.645843505859375, 24.82780647277832, 174.21096801757812, 1062.406494140625, 158.69189453125, 101.09048461914062, 115.88862609863281, 62.70170974731445, 100.52965545654297, 173.3590850830078, 246.2967071533203, 79.21719360351562, 83.4425048828125, 53.075523376464844, 142.5680389404297, 48.973541259765625, 566.6925659179688, 78.11825561523438, 60.08805465698242, 55.7674446105957, 130.18936157226562, 106.9930191040039, 53.36837387084961, 50.94439697265625, 46.42572784423828, 49.92191696166992, 58.31685256958008, 48.74706268310547, 30.01399803161621, 26.289264678955078, 22.250019073486328, 72.31169891357422, 25.351831436157227, 20.869709014892578, 32.737266540527344, 29.040315628051758, 17.599536895751953, 16.133153915405273, 45.495731353759766, 21.363351821899414, 13.468297958374023, 39.227230072021484, 38.0435676574707, 11.586921691894531, 10.743216514587402, 14.557782173156738, 8.9035005569458, 10.679940223693848, 17.57608985900879, 10.920283317565918, 16.079246520996094, 71.09049987792969, 6.169018745422363, 5.962287425994873, 5.7898664474487305, 15.41407585144043, 5.608242511749268, 5.695537090301514, 491.6275329589844, 81.19847106933594, 13.598390579223633, 19.752124786376953, 742.529296875, 39.321250915527344, 142.88906860351562, 33.244144439697266, 101.38619995117188, 60.72659683227539, 115.0696029663086, 29.187755584716797, 38.504539489746094, 65.32622528076172, 54.399085998535156, 62.1875, 231.7624053955078, 65.2703857421875, 33.51957321166992, 76.22728729248047, 42.96280288696289, 84.89424133300781, 56.632774353027344, 109.12763214111328, 83.06820678710938, 81.52216339111328, 58.38044357299805, 45.594482421875, 53.69499206542969, 44.08728790283203, 38.335323333740234, 55.149471282958984, 46.25111770629883, 38.78570556640625, 29.085346221923828, 53.14131546020508, 24.73601531982422, 23.17100715637207, 21.826919555664062, 28.0296688079834, 17.773653030395508, 39.700191497802734, 15.84942626953125, 19.603281021118164, 182.87355041503906, 11.574050903320312, 35.37208557128906, 9.478395462036133, 50.18274688720703, 10.248309135437012, 9.572733879089355, 43.59138870239258, 12.032306671142578, 14.610620498657227, 7.9561872482299805, 7.864314079284668, 7.821333885192871, 113.27301025390625, 7.998473644256592, 8.014595985412598, 6.584984302520752, 51.886966705322266, 363.43939208984375, 86.3261947631836, 24.862150192260742, 48.92655563354492, 23.198591232299805, 69.02374267578125, 22.99271011352539, 98.88853454589844, 65.99661254882812, 103.30885314941406, 84.80260467529297, 44.54332733154297, 161.6954803466797, 30.057106018066406, 49.10546112060547, 111.11524200439453, 314.80303955078125, 62.63597869873047, 32.05234909057617, 107.05316162109375, 63.16271209716797, 68.2867202758789, 56.85887908935547, 38.51206588745117, 38.00229263305664, 32.13787841796875, 44.72835922241211, 20.6992130279541, 18.89385986328125, 14.684731483459473, 13.559775352478027, 16.906137466430664, 13.35940933227539, 40.57030487060547, 11.007891654968262, 11.59704303741455, 22.464588165283203, 8.742691040039062, 10.862977981567383, 12.518217086791992, 9.250764846801758, 7.706518173217773, 6.891872882843018, 6.753981590270996, 11.0820951461792, 7.025084495544434, 4.882087707519531, 26.55303382873535, 4.751430034637451, 48.450279235839844, 289.1034851074219, 19.106861114501953, 730.07177734375, 3.6954212188720703, 3.6946640014648438, 47.7012825012207, 153.773193359375, 17.327184677124023, 28.9075870513916, 33.270103454589844, 387.6976623535156, 62.396724700927734, 62.659080505371094, 117.73574829101562, 75.05481719970703, 109.79144287109375, 129.010986328125, 86.05264282226562, 522.0126342773438, 25.26283836364746, 28.48286247253418, 89.6832504272461, 31.056941986083984, 91.27559661865234, 30.13865089416504, 50.810638427734375, 57.506473541259766, 39.683963775634766, 32.98004913330078, 29.576982498168945, 28.18899917602539, 89.14311981201172, 41.0380859375, 28.468555450439453, 27.85407257080078, 1419.5999755859375, 16.626314163208008, 11.158665657043457, 12.688532829284668, 14.751470565795898, 8.972759246826172, 32.76511764526367, 8.690144538879395, 8.609150886535645, 50.51533508300781, 7.923407077789307, 8.091854095458984, 6.388469696044922, 5.3667097091674805, 5.293248176574707, 5.054503440856934, 4.561666965484619, 4.4915876388549805, 53.66602325439453, 4.118683815002441, 3.738395929336548, 3.6335723400115967, 3.1144871711730957, 3.0970969200134277, 3.2363903522491455, 3.012495517730713, 186.31988525390625, 89.40413665771484, 15.992573738098145, 46.36603546142578, 32.74708938598633, 60.97499465942383, 23.072105407714844, 71.76470947265625, 129.48193359375, 24.580196380615234, 31.791488647460938, 11.901211738586426, 31.434314727783203, 43.0730094909668, 118.36592102050781, 52.92977523803711, 87.7623519897461, 29.09488868713379, 21.51464080810547, 40.5055046081543, 44.64760971069336, 43.54142379760742, 29.6585693359375, 32.899417877197266, 38.66142272949219, 27.28807258605957, 26.393407821655273, 56.33559799194336, 89.65646362304688, 52.16023254394531, 75.42594909667969, 32.893463134765625, 30.09404182434082, 15.918071746826172, 18.45393943786621, 10.027302742004395, 9.912163734436035, 9.852242469787598, 16.62552833557129, 13.596233367919922, 28.830806732177734, 7.568605422973633, 7.325711250305176, 6.895350456237793, 7.055335998535156, 200.02471923828125, 7.15036153793335, 43.78496551513672, 5.865345001220703, 6.9682817459106445, 6.146528244018555, 5.967057704925537, 4.612677574157715, 4.604311466217041, 10.972984313964844, 4.047374248504639, 32.47235107421875, 1572.8026123046875, 84.00773620605469, 72.93598175048828, 340.703125, 86.7367172241211, 24.42189598083496, 57.39777755737305, 31.687381744384766, 12.89011001586914, 26.72057342529297, 52.305702209472656, 10.992938995361328, 43.035972595214844, 55.213600158691406, 36.846797943115234, 13.394761085510254, 23.092357635498047, 25.450111389160156, 14.176109313964844, 43.54628372192383, 35.900245666503906, 32.22824478149414, 20.244335174560547, 17.831647872924805, 53.752899169921875, 47.25177764892578, 15.497722625732422, 14.246112823486328, 12.080795288085938, 14.011048316955566, 11.433414459228516, 10.99846076965332, 196.15658569335938, 38.080291748046875, 9.350305557250977, 35.21745681762695, 12.991366386413574, 8.746591567993164, 8.40304183959961, 60.92735290527344, 100.0810775756836, 7.225268840789795, 7.219419479370117, 6.729917049407959, 16.610057830810547, 19.026151657104492, 5.968329429626465, 28.499263763427734, 8.576390266418457, 26.582508087158203, 149.59388732910156, 81.62733459472656, 26.49294090270996, 65.46760559082031, 88.46456146240234, 106.83306121826172, 82.27212524414062, 65.40770721435547, 35.839515686035156, 58.337825775146484, 54.407108306884766, 28.364154815673828, 20.72666358947754, 76.10821533203125, 86.10025024414062, 57.40284729003906, 33.04208755493164, 41.40494155883789, 30.364938735961914, 42.682064056396484, 34.40900802612305, 25.740934371948242, 23.87531089782715, 24.07974624633789, 22.552181243896484, 18.929224014282227, 18.56560516357422, 29.193918228149414, 97.66864013671875, 19.148805618286133, 24.735584259033203, 12.988725662231445, 12.544198036193848, 12.214005470275879, 12.854435920715332, 138.67242431640625, 17.41069984436035, 10.969868659973145, 23.10767936706543, 17.563390731811523, 10.845916748046875, 9.899470329284668, 9.47536563873291, 9.907368659973145, 8.282354354858398, 9.103429794311523, 35.50492858886719, 39.73978805541992, 5.67232084274292, 19.010324478149414, 34.331260681152344, 181.0948944091797, 33.15207290649414, 110.71038055419922, 45.342140197753906, 61.10371398925781, 31.093563079833984, 256.9779968261719, 306.3390808105469, 26.090896606445312, 24.14430809020996, 51.671512603759766, 31.771488189697266, 28.34267234802246, 28.455589294433594, 90.70716094970703, 22.123783111572266, 22.094581604003906, 23.05259132385254, 25.165266036987305], \"Total\": [2259.0, 1502.0, 3181.0, 914.0, 3123.0, 6954.0, 1412.0, 1392.0, 581.0, 1199.0, 854.0, 601.0, 915.0, 443.0, 354.0, 399.0, 555.0, 519.0, 255.0, 1528.0, 215.0, 230.0, 470.0, 528.0, 250.0, 481.0, 225.0, 218.0, 197.0, 149.0, 39.19291305541992, 59.54943084716797, 60.82843017578125, 34.589866638183594, 33.83244323730469, 89.32498168945312, 28.05695343017578, 30.562591552734375, 27.231962203979492, 24.724367141723633, 24.34584617614746, 23.888853073120117, 36.59746551513672, 22.135313034057617, 21.881980895996094, 21.5550537109375, 165.35223388671875, 20.88473129272461, 20.530696868896484, 19.534475326538086, 18.088336944580078, 17.409027099609375, 21.305767059326172, 44.89220428466797, 26.75580406188965, 15.06489086151123, 14.9253568649292, 13.833759307861328, 17.580617904663086, 14.264632225036621, 15.310662269592285, 67.84357452392578, 92.1661605834961, 33.83531951904297, 109.47893524169922, 308.22564697265625, 6954.55859375, 100.02735137939453, 106.07844543457031, 106.06948852539062, 828.7890014648438, 368.3062744140625, 60.637325286865234, 115.13870239257812, 3181.060546875, 77.34811401367188, 148.63577270507812, 148.2298126220703, 163.34677124023438, 112.36876678466797, 3123.04638671875, 217.7296600341797, 162.3415069580078, 1412.220458984375, 950.7052001953125, 163.74783325195312, 1392.118408203125, 1199.2591552734375, 967.0224609375, 289.4281921386719, 854.9354248046875, 914.9180297851562, 555.5333862304688, 345.6878356933594, 2259.355712890625, 38.033634185791016, 85.28404998779297, 36.73284912109375, 26.205717086791992, 55.9189338684082, 23.561298370361328, 28.925790786743164, 22.10167121887207, 21.370258331298828, 79.54010009765625, 32.25864028930664, 17.99988555908203, 19.596742630004883, 24.26273536682129, 19.048254013061523, 44.12455749511719, 34.145442962646484, 43.92505645751953, 19.331539154052734, 47.627342224121094, 14.88027286529541, 16.562997817993164, 18.317228317260742, 17.497739791870117, 13.347698211669922, 106.6856689453125, 19.637224197387695, 25.86103630065918, 13.85328483581543, 60.218379974365234, 154.29421997070312, 97.27140808105469, 127.0075454711914, 87.34404754638672, 97.80634307861328, 48.19975662231445, 28.14962387084961, 39.7230110168457, 170.62869262695312, 182.2593231201172, 528.504638671875, 355.4264221191406, 128.41238403320312, 144.81663513183594, 41.6336555480957, 138.15142822265625, 55.7452278137207, 579.1759033203125, 87.01693725585938, 915.0343017578125, 6954.55859375, 167.9877166748047, 1199.2591552734375, 432.3367919921875, 950.7052001953125, 854.9354248046875, 113.92823028564453, 261.4067077636719, 222.85067749023438, 1528.2562255859375, 212.16151428222656, 967.0224609375, 3181.060546875, 355.8674011230469, 3123.04638671875, 1412.220458984375, 28.939102172851562, 26.478971481323242, 25.841501235961914, 19.969701766967773, 28.382047653198242, 18.69575309753418, 15.995254516601562, 15.23217487335205, 170.58360290527344, 13.664376258850098, 19.026229858398438, 11.954310417175293, 10.661323547363281, 11.528440475463867, 9.898098945617676, 12.549339294433594, 7.985392093658447, 44.08733367919922, 7.35422945022583, 6.805106163024902, 108.93006896972656, 275.3728942871094, 5.620824813842773, 80.42546081542969, 8.609623908996582, 4.229401111602783, 4.179703712463379, 3.8997795581817627, 555.5333862304688, 4.102686882019043, 175.6605682373047, 43.73432159423828, 1392.118408203125, 3181.060546875, 328.9196472167969, 66.00300598144531, 592.0684204101562, 147.93711853027344, 1528.2562255859375, 3123.04638671875, 362.6834716796875, 270.83782958984375, 33.5185661315918, 601.142333984375, 828.7890014648438, 131.43463134765625, 2259.355712890625, 345.6878356933594, 369.4719543457031, 187.7120361328125, 55.27517318725586, 222.85067749023438, 368.3062744140625, 6954.55859375, 854.9354248046875, 915.0343017578125, 950.7052001953125, 61.16460037231445, 76.84996032714844, 31.247241973876953, 19.971555709838867, 19.47825813293457, 21.29973030090332, 18.16034698486328, 74.27656555175781, 19.33662223815918, 16.19451332092285, 15.956725120544434, 15.78352165222168, 21.74031639099121, 20.25787353515625, 15.791038513183594, 14.116939544677734, 12.03783893585205, 12.05893325805664, 15.015047073364258, 11.74149227142334, 11.912637710571289, 9.46202564239502, 26.79627227783203, 9.835596084594727, 26.52107048034668, 41.31543731689453, 15.968925476074219, 7.5196852684021, 7.364637851715088, 31.27124786376953, 48.86486053466797, 67.92383575439453, 53.86155319213867, 38.28495407104492, 519.2806396484375, 101.39629364013672, 99.67073822021484, 64.75145721435547, 76.85456848144531, 213.8199920654297, 190.05780029296875, 470.4727478027344, 63.02325439453125, 106.95002746582031, 967.0224609375, 432.3367919921875, 96.30229187011719, 136.44659423828125, 71.83163452148438, 355.8674011230469, 154.6613311767578, 97.9538803100586, 6954.55859375, 186.32894897460938, 481.2638854980469, 1412.220458984375, 3123.04638671875, 286.5100402832031, 194.7725067138672, 1528.2562255859375, 325.41259765625, 1199.2591552734375, 950.7052001953125, 579.1759033203125, 854.9354248046875, 218.9307403564453, 55.004337310791016, 46.07649612426758, 38.4352912902832, 29.24885368347168, 19.991540908813477, 18.53896141052246, 24.099214553833008, 17.320981979370117, 16.591014862060547, 16.227209091186523, 14.449024200439453, 13.239108085632324, 12.570743560791016, 12.401838302612305, 11.134439468383789, 11.112702369689941, 10.765371322631836, 10.724536895751953, 10.118025779724121, 399.48565673828125, 8.3154935836792, 35.992000579833984, 8.000411033630371, 7.802260875701904, 32.53774642944336, 7.228623867034912, 7.723423957824707, 22.3500919342041, 6.022540092468262, 44.18083190917969, 145.59689331054688, 32.778839111328125, 481.2638854980469, 66.07435607910156, 33.97288131713867, 345.6878356933594, 3123.04638671875, 325.41259765625, 187.24327087402344, 229.44509887695312, 112.9484634399414, 223.2169647216797, 470.4727478027344, 950.7052001953125, 187.58802795410156, 211.96131896972656, 108.68232727050781, 498.43988037109375, 97.49457550048828, 6954.55859375, 289.4281921386719, 217.7296600341797, 195.70745849609375, 1528.2562255859375, 967.0224609375, 219.54086303710938, 255.7603759765625, 154.0659637451172, 294.53759765625, 1392.118408203125, 1412.220458984375, 30.986007690429688, 27.266401290893555, 23.21868324279785, 75.51500701904297, 26.508142471313477, 21.84073257446289, 34.45103454589844, 30.565568923950195, 18.574052810668945, 17.105159759521484, 48.49199676513672, 22.83263397216797, 14.436988830566406, 42.589115142822266, 41.431846618652344, 12.625866889953613, 11.823214530944824, 16.028427124023438, 9.872190475463867, 11.900701522827148, 19.773529052734375, 12.335397720336914, 18.216951370239258, 81.3589859008789, 7.137685775756836, 6.934137344360352, 6.758525371551514, 18.02466583251953, 6.5782999992370605, 6.726501941680908, 581.2667846679688, 107.42835998535156, 16.72854995727539, 24.897655487060547, 1412.220458984375, 55.22703170776367, 239.65859985351562, 46.067291259765625, 186.77227783203125, 113.44776153564453, 286.5100402832031, 44.17394256591797, 68.50971221923828, 154.6613311767578, 121.19701385498047, 163.74783325195312, 1528.2562255859375, 223.2169647216797, 79.7955551147461, 592.0684204101562, 163.34677124023438, 1392.118408203125, 498.43988037109375, 6954.55859375, 3123.04638671875, 3181.060546875, 967.0224609375, 294.53759765625, 950.7052001953125, 556.2333984375, 528.504638671875, 56.120182037353516, 47.39857864379883, 39.756431579589844, 30.0831298828125, 54.97959899902344, 25.706714630126953, 24.141719818115234, 22.858810424804688, 29.49854850769043, 18.760828018188477, 41.93869400024414, 16.820707321166992, 20.958498001098633, 197.10104370117188, 12.556653022766113, 38.798099517822266, 10.44908618927002, 55.35829544067383, 11.312482833862305, 10.569296836853027, 48.35005569458008, 13.461386680603027, 16.385488510131836, 8.926898002624512, 8.835006713867188, 8.792041778564453, 127.69107818603516, 9.028587341308594, 9.056770324707031, 7.555750370025635, 60.671180725097656, 443.93115234375, 104.90349578857422, 29.317895889282227, 59.59556579589844, 27.693632125854492, 88.79568481445312, 27.58897590637207, 147.17352294921875, 99.64176177978516, 186.13394165039062, 146.92208862304688, 72.32527160644531, 556.2333984375, 43.33999252319336, 112.9484634399414, 528.504638671875, 6954.55859375, 255.84744262695312, 54.18061828613281, 1528.2562255859375, 579.1759033203125, 915.0343017578125, 592.0684204101562, 112.57855224609375, 2259.355712890625, 33.26321792602539, 46.68715286254883, 21.669662475585938, 19.864402770996094, 15.655167579650879, 14.530264854431152, 18.1652889251709, 14.39640998840332, 43.893089294433594, 11.978466987609863, 12.649856567382812, 24.817707061767578, 9.713204383850098, 12.098763465881348, 13.998449325561523, 10.378708839416504, 8.676952362060547, 7.862300395965576, 7.7245306968688965, 12.797762870788574, 8.320064544677734, 5.852528095245361, 31.869022369384766, 5.721994400024414, 58.525115966796875, 354.0110778808594, 23.466331481933594, 914.9180297851562, 4.66593074798584, 4.665096759796143, 65.04720306396484, 221.9480438232422, 23.039024353027344, 40.659698486328125, 49.565006256103516, 854.9354248046875, 104.94410705566406, 109.4719467163086, 243.84515380859375, 154.0659637451172, 255.7603759765625, 369.4719543457031, 214.50938415527344, 6954.55859375, 48.0009651184082, 65.1085433959961, 1199.2591552734375, 100.004638671875, 2259.355712890625, 111.2673110961914, 915.0343017578125, 1528.2562255859375, 828.7890014648438, 950.7052001953125, 556.2333984375, 250.83180236816406, 90.43041229248047, 42.01380157470703, 29.44428825378418, 29.282833099365234, 1502.2891845703125, 17.67835807800293, 12.240092277526855, 13.932204246520996, 16.246904373168945, 9.957161903381348, 36.4735107421875, 9.674015045166016, 9.584941864013672, 56.58897399902344, 8.9049711227417, 9.175424575805664, 7.364193439483643, 6.342409133911133, 6.2689409255981445, 6.030198574066162, 5.537367343902588, 5.467281341552734, 66.6732177734375, 5.16110372543335, 4.723793983459473, 4.609414100646973, 4.090176582336426, 4.088834285736084, 4.282252311706543, 3.998661756515503, 250.83180236816406, 122.5156021118164, 21.763261795043945, 70.60723114013672, 64.57469940185547, 136.93914794921875, 46.24077224731445, 208.40560913085938, 498.43988037109375, 54.75417709350586, 89.2933578491211, 21.237781524658203, 97.49457550048828, 187.24327087402344, 1528.2562255859375, 556.2333984375, 2259.355712890625, 192.5873565673828, 100.004638671875, 592.0684204101562, 967.0224609375, 950.7052001953125, 289.4281921386719, 528.504638671875, 3123.04638671875, 1199.2591552734375, 854.9354248046875, 57.527313232421875, 91.59877014160156, 53.34293746948242, 77.82963562011719, 34.16043472290039, 31.52081298828125, 16.91753578186035, 19.652509689331055, 10.994343757629395, 10.879197120666504, 10.819390296936035, 18.349464416503906, 15.0716552734375, 32.03139877319336, 8.53618335723877, 8.349872589111328, 7.862415313720703, 8.086167335510254, 230.24021911621094, 8.240255355834961, 50.72315216064453, 6.832386493682861, 8.117769241333008, 7.204866409301758, 7.184151649475098, 5.579730987548828, 5.5714030265808105, 13.469426155090332, 5.014416217803955, 40.912845611572266, 2259.355712890625, 127.72798919677734, 111.2673110961914, 601.142333984375, 165.3164520263672, 36.76824951171875, 107.8270263671875, 52.01484680175781, 17.305938720703125, 45.4294548034668, 175.69284057617188, 19.235179901123047, 556.2333984375, 3181.060546875, 967.0224609375, 31.28057098388672, 828.7890014648438, 6954.55859375, 270.83782958984375, 44.7138671875, 37.395198822021484, 33.57331085205078, 21.22563934326172, 18.798046112060547, 56.685333251953125, 50.07019805908203, 16.464126586914062, 15.267786979675293, 13.047215461730957, 15.152610778808594, 12.399847030639648, 12.031045913696289, 215.65093994140625, 41.914798736572266, 10.317386627197266, 38.90657043457031, 14.357098579406738, 9.713322639465332, 9.369439125061035, 68.07115936279297, 113.32144927978516, 8.196426391601562, 8.202996253967285, 7.708881378173828, 19.09560775756836, 21.92543601989746, 6.958968639373779, 33.33760070800781, 10.035356521606445, 33.819068908691406, 225.0421142578125, 120.47785186767578, 38.99974060058594, 121.26276397705078, 187.7120361328125, 261.4067077636719, 186.32894897460938, 167.9877166748047, 70.87184143066406, 211.96131896972656, 192.5873565673828, 64.59722137451172, 37.6480827331543, 1199.2591552734375, 3123.04638671875, 967.0224609375, 190.05780029296875, 579.1759033203125, 212.16151428222656, 3181.060546875, 35.3697624206543, 26.701702117919922, 24.8310604095459, 25.11061668395996, 23.550731658935547, 19.89443016052246, 19.521331787109375, 30.748064041137695, 102.87442016601562, 20.3159236907959, 26.50732421875, 13.961211204528809, 13.50110149383545, 13.175692558288574, 13.880792617797852, 149.86614990234375, 18.840059280395508, 11.925591468811035, 25.326435089111328, 19.25263786315918, 11.897073745727539, 10.876984596252441, 10.484960556030273, 11.032752990722656, 9.23809814453125, 10.173201560974121, 40.57828140258789, 45.7690315246582, 6.636890411376953, 22.304914474487305, 41.87443161010742, 255.84744262695312, 41.317100524902344, 163.1959228515625, 71.87490844726562, 112.5950698852539, 47.226219177246094, 915.0343017578125, 1199.2591552734375, 39.727840423583984, 37.984046936035156, 147.7568359375, 74.0019760131836, 74.48919677734375, 77.99484252929688, 6954.55859375, 38.51213455200195, 60.705753326416016, 148.63577270507812, 1392.118408203125], \"Category\": [\"Default\", \"Default\", \"Default\", \"Default\", \"Default\", \"Default\", \"Default\", \"Default\", \"Default\", \"Default\", \"Default\", \"Default\", \"Default\", \"Default\", \"Default\", \"Default\", \"Default\", \"Default\", \"Default\", \"Default\", \"Default\", \"Default\", \"Default\", \"Default\", \"Default\", \"Default\", \"Default\", \"Default\", \"Default\", \"Default\", \"Topic1\", \"Topic1\", \"Topic1\", \"Topic1\", \"Topic1\", \"Topic1\", \"Topic1\", \"Topic1\", \"Topic1\", \"Topic1\", \"Topic1\", \"Topic1\", \"Topic1\", \"Topic1\", \"Topic1\", \"Topic1\", \"Topic1\", \"Topic1\", \"Topic1\", \"Topic1\", \"Topic1\", \"Topic1\", \"Topic1\", \"Topic1\", \"Topic1\", \"Topic1\", \"Topic1\", \"Topic1\", \"Topic1\", \"Topic1\", \"Topic1\", \"Topic1\", \"Topic1\", \"Topic1\", \"Topic1\", \"Topic1\", \"Topic1\", \"Topic1\", \"Topic1\", \"Topic1\", \"Topic1\", \"Topic1\", \"Topic1\", \"Topic1\", \"Topic1\", \"Topic1\", \"Topic1\", \"Topic1\", \"Topic1\", \"Topic1\", \"Topic1\", \"Topic1\", \"Topic1\", \"Topic1\", \"Topic1\", \"Topic1\", \"Topic1\", \"Topic1\", \"Topic1\", \"Topic1\", \"Topic1\", \"Topic1\", \"Topic1\", \"Topic1\", \"Topic1\", \"Topic2\", \"Topic2\", \"Topic2\", \"Topic2\", \"Topic2\", \"Topic2\", \"Topic2\", \"Topic2\", \"Topic2\", \"Topic2\", \"Topic2\", \"Topic2\", \"Topic2\", \"Topic2\", \"Topic2\", \"Topic2\", \"Topic2\", \"Topic2\", \"Topic2\", \"Topic2\", \"Topic2\", \"Topic2\", \"Topic2\", \"Topic2\", \"Topic2\", \"Topic2\", \"Topic2\", \"Topic2\", \"Topic2\", \"Topic2\", \"Topic2\", \"Topic2\", \"Topic2\", \"Topic2\", \"Topic2\", \"Topic2\", \"Topic2\", \"Topic2\", \"Topic2\", \"Topic2\", \"Topic2\", \"Topic2\", \"Topic2\", \"Topic2\", \"Topic2\", \"Topic2\", \"Topic2\", \"Topic2\", \"Topic2\", \"Topic2\", \"Topic2\", \"Topic2\", \"Topic2\", \"Topic2\", \"Topic2\", \"Topic2\", \"Topic2\", \"Topic2\", \"Topic2\", \"Topic2\", \"Topic2\", \"Topic2\", \"Topic2\", \"Topic2\", \"Topic2\", \"Topic2\", \"Topic3\", \"Topic3\", \"Topic3\", \"Topic3\", \"Topic3\", \"Topic3\", \"Topic3\", \"Topic3\", \"Topic3\", \"Topic3\", \"Topic3\", \"Topic3\", \"Topic3\", \"Topic3\", \"Topic3\", \"Topic3\", \"Topic3\", \"Topic3\", \"Topic3\", \"Topic3\", \"Topic3\", \"Topic3\", \"Topic3\", \"Topic3\", \"Topic3\", \"Topic3\", \"Topic3\", \"Topic3\", \"Topic3\", \"Topic3\", \"Topic3\", \"Topic3\", \"Topic3\", \"Topic3\", \"Topic3\", \"Topic3\", \"Topic3\", \"Topic3\", \"Topic3\", \"Topic3\", \"Topic3\", \"Topic3\", \"Topic3\", \"Topic3\", \"Topic3\", \"Topic3\", \"Topic3\", \"Topic3\", \"Topic3\", \"Topic3\", \"Topic3\", \"Topic3\", \"Topic3\", \"Topic3\", \"Topic3\", \"Topic3\", \"Topic3\", \"Topic4\", \"Topic4\", \"Topic4\", \"Topic4\", \"Topic4\", \"Topic4\", \"Topic4\", \"Topic4\", \"Topic4\", \"Topic4\", \"Topic4\", \"Topic4\", \"Topic4\", \"Topic4\", \"Topic4\", \"Topic4\", \"Topic4\", \"Topic4\", \"Topic4\", \"Topic4\", \"Topic4\", \"Topic4\", \"Topic4\", \"Topic4\", \"Topic4\", \"Topic4\", \"Topic4\", \"Topic4\", \"Topic4\", \"Topic4\", \"Topic4\", \"Topic4\", \"Topic4\", \"Topic4\", \"Topic4\", \"Topic4\", \"Topic4\", \"Topic4\", \"Topic4\", \"Topic4\", \"Topic4\", \"Topic4\", \"Topic4\", \"Topic4\", \"Topic4\", \"Topic4\", \"Topic4\", \"Topic4\", \"Topic4\", \"Topic4\", \"Topic4\", \"Topic4\", \"Topic4\", \"Topic4\", \"Topic4\", \"Topic4\", \"Topic4\", \"Topic4\", \"Topic4\", \"Topic4\", \"Topic4\", \"Topic4\", \"Topic4\", \"Topic4\", \"Topic4\", \"Topic5\", \"Topic5\", \"Topic5\", \"Topic5\", \"Topic5\", \"Topic5\", \"Topic5\", \"Topic5\", \"Topic5\", \"Topic5\", \"Topic5\", \"Topic5\", \"Topic5\", \"Topic5\", \"Topic5\", \"Topic5\", \"Topic5\", \"Topic5\", \"Topic5\", \"Topic5\", \"Topic5\", \"Topic5\", \"Topic5\", \"Topic5\", \"Topic5\", \"Topic5\", \"Topic5\", \"Topic5\", \"Topic5\", \"Topic5\", \"Topic5\", \"Topic5\", \"Topic5\", \"Topic5\", \"Topic5\", \"Topic5\", \"Topic5\", \"Topic5\", \"Topic5\", \"Topic5\", \"Topic5\", \"Topic5\", \"Topic5\", \"Topic5\", \"Topic5\", \"Topic5\", \"Topic5\", \"Topic5\", \"Topic5\", \"Topic5\", \"Topic5\", \"Topic5\", \"Topic5\", \"Topic5\", \"Topic5\", \"Topic5\", \"Topic5\", \"Topic5\", \"Topic5\", \"Topic5\", \"Topic5\", \"Topic5\", \"Topic6\", \"Topic6\", \"Topic6\", \"Topic6\", \"Topic6\", \"Topic6\", \"Topic6\", \"Topic6\", \"Topic6\", \"Topic6\", \"Topic6\", \"Topic6\", \"Topic6\", \"Topic6\", \"Topic6\", \"Topic6\", \"Topic6\", \"Topic6\", \"Topic6\", \"Topic6\", \"Topic6\", \"Topic6\", \"Topic6\", \"Topic6\", \"Topic6\", \"Topic6\", \"Topic6\", \"Topic6\", \"Topic6\", \"Topic6\", \"Topic6\", \"Topic6\", \"Topic6\", \"Topic6\", \"Topic6\", \"Topic6\", \"Topic6\", \"Topic6\", \"Topic6\", \"Topic6\", \"Topic6\", \"Topic6\", \"Topic6\", \"Topic6\", \"Topic6\", \"Topic6\", \"Topic6\", \"Topic6\", \"Topic6\", \"Topic6\", \"Topic6\", \"Topic6\", \"Topic6\", \"Topic6\", \"Topic6\", \"Topic6\", \"Topic6\", \"Topic6\", \"Topic6\", \"Topic6\", \"Topic6\", \"Topic7\", \"Topic7\", \"Topic7\", \"Topic7\", \"Topic7\", \"Topic7\", \"Topic7\", \"Topic7\", \"Topic7\", \"Topic7\", \"Topic7\", \"Topic7\", \"Topic7\", \"Topic7\", \"Topic7\", \"Topic7\", \"Topic7\", \"Topic7\", \"Topic7\", \"Topic7\", \"Topic7\", \"Topic7\", \"Topic7\", \"Topic7\", \"Topic7\", \"Topic7\", \"Topic7\", \"Topic7\", \"Topic7\", \"Topic7\", \"Topic7\", \"Topic7\", \"Topic7\", \"Topic7\", \"Topic7\", \"Topic7\", \"Topic7\", \"Topic7\", \"Topic7\", \"Topic7\", \"Topic7\", \"Topic7\", \"Topic7\", \"Topic7\", \"Topic7\", \"Topic7\", \"Topic7\", \"Topic7\", \"Topic7\", \"Topic7\", \"Topic7\", \"Topic7\", \"Topic7\", \"Topic7\", \"Topic7\", \"Topic7\", \"Topic8\", \"Topic8\", \"Topic8\", \"Topic8\", \"Topic8\", \"Topic8\", \"Topic8\", \"Topic8\", \"Topic8\", \"Topic8\", \"Topic8\", \"Topic8\", \"Topic8\", \"Topic8\", \"Topic8\", \"Topic8\", \"Topic8\", \"Topic8\", \"Topic8\", \"Topic8\", \"Topic8\", \"Topic8\", \"Topic8\", \"Topic8\", \"Topic8\", \"Topic8\", \"Topic8\", \"Topic8\", \"Topic8\", \"Topic8\", \"Topic8\", \"Topic8\", \"Topic8\", \"Topic8\", \"Topic8\", \"Topic8\", \"Topic8\", \"Topic8\", \"Topic8\", \"Topic8\", \"Topic8\", \"Topic8\", \"Topic8\", \"Topic8\", \"Topic8\", \"Topic8\", \"Topic8\", \"Topic8\", \"Topic8\", \"Topic8\", \"Topic8\", \"Topic8\", \"Topic8\", \"Topic8\", \"Topic8\", \"Topic8\", \"Topic9\", \"Topic9\", \"Topic9\", \"Topic9\", \"Topic9\", \"Topic9\", \"Topic9\", \"Topic9\", \"Topic9\", \"Topic9\", \"Topic9\", \"Topic9\", \"Topic9\", \"Topic9\", \"Topic9\", \"Topic9\", \"Topic9\", \"Topic9\", \"Topic9\", \"Topic9\", \"Topic9\", \"Topic9\", \"Topic9\", \"Topic9\", \"Topic9\", \"Topic9\", \"Topic9\", \"Topic9\", \"Topic9\", \"Topic9\", \"Topic9\", \"Topic9\", \"Topic9\", \"Topic9\", \"Topic9\", \"Topic9\", \"Topic9\", \"Topic9\", \"Topic9\", \"Topic9\", \"Topic9\", \"Topic9\", \"Topic9\", \"Topic9\", \"Topic9\", \"Topic9\", \"Topic9\", \"Topic9\", \"Topic9\", \"Topic9\", \"Topic9\", \"Topic9\", \"Topic9\", \"Topic9\", \"Topic9\", \"Topic9\", \"Topic9\", \"Topic10\", \"Topic10\", \"Topic10\", \"Topic10\", \"Topic10\", \"Topic10\", \"Topic10\", \"Topic10\", \"Topic10\", \"Topic10\", \"Topic10\", \"Topic10\", \"Topic10\", \"Topic10\", \"Topic10\", \"Topic10\", \"Topic10\", \"Topic10\", \"Topic10\", \"Topic10\", \"Topic10\", \"Topic10\", \"Topic10\", \"Topic10\", \"Topic10\", \"Topic10\", \"Topic10\", \"Topic10\", \"Topic10\", \"Topic10\", \"Topic10\", \"Topic10\", \"Topic10\", \"Topic10\", \"Topic10\", \"Topic10\", \"Topic10\", \"Topic10\", \"Topic10\", \"Topic10\", \"Topic10\", \"Topic10\", \"Topic10\", \"Topic10\", \"Topic10\", \"Topic10\", \"Topic10\", \"Topic10\", \"Topic10\", \"Topic11\", \"Topic11\", \"Topic11\", \"Topic11\", \"Topic11\", \"Topic11\", \"Topic11\", \"Topic11\", \"Topic11\", \"Topic11\", \"Topic11\", \"Topic11\", \"Topic11\", \"Topic11\", \"Topic11\", \"Topic11\", \"Topic11\", \"Topic11\", \"Topic11\", \"Topic11\", \"Topic11\", \"Topic11\", \"Topic11\", \"Topic11\", \"Topic11\", \"Topic11\", \"Topic11\", \"Topic11\", \"Topic11\", \"Topic11\", \"Topic11\", \"Topic11\", \"Topic11\", \"Topic11\", \"Topic11\", \"Topic11\", \"Topic11\", \"Topic11\", \"Topic11\", \"Topic11\", \"Topic11\", \"Topic11\", \"Topic11\", \"Topic11\", \"Topic11\", \"Topic11\", \"Topic11\", \"Topic11\", \"Topic11\", \"Topic11\", \"Topic11\", \"Topic12\", \"Topic12\", \"Topic12\", \"Topic12\", \"Topic12\", \"Topic12\", \"Topic12\", \"Topic12\", \"Topic12\", \"Topic12\", \"Topic12\", \"Topic12\", \"Topic12\", \"Topic12\", \"Topic12\", \"Topic12\", \"Topic12\", \"Topic12\", \"Topic12\", \"Topic12\", \"Topic12\", \"Topic12\", \"Topic12\", \"Topic12\", \"Topic12\", \"Topic12\", \"Topic12\", \"Topic12\", \"Topic12\", \"Topic12\", \"Topic12\", \"Topic12\", \"Topic12\", \"Topic12\", \"Topic12\", \"Topic12\", \"Topic12\", \"Topic12\", \"Topic12\", \"Topic12\", \"Topic12\", \"Topic12\", \"Topic12\", \"Topic12\", \"Topic12\", \"Topic12\", \"Topic12\", \"Topic12\", \"Topic12\", \"Topic12\"], \"logprob\": [30.0, 29.0, 28.0, 27.0, 26.0, 25.0, 24.0, 23.0, 22.0, 21.0, 20.0, 19.0, 18.0, 17.0, 16.0, 15.0, 14.0, 13.0, 12.0, 11.0, 10.0, 9.0, 8.0, 7.0, 6.0, 5.0, 4.0, 3.0, 2.0, 1.0, -5.9664998054504395, -5.548600196838379, -5.530200004577637, -6.094900131225586, -6.117700099945068, -5.147200107574463, -6.310999870300293, -6.225800037384033, -6.343400001525879, -6.442299842834473, -6.458399772644043, -6.478099822998047, -6.051700115203857, -6.557700157165527, -6.569799900054932, -6.5854997634887695, -4.549200057983398, -6.618599891662598, -6.636600017547607, -6.688899993896484, -6.770899772644043, -6.810500144958496, -6.609899997711182, -5.867000102996826, -6.388000011444092, -6.964399814605713, -6.974400043487549, -7.0559000968933105, -6.817299842834473, -7.02810001373291, -6.957799911499023, -5.490499973297119, -5.213200092315674, -6.200300216674805, -5.149600028991699, -4.2221999168396, -1.470900058746338, -5.26669979095459, -5.216000080108643, -5.221799850463867, -3.4862000942230225, -4.204800128936768, -5.720799922943115, -5.199999809265137, -2.5592000484466553, -5.558300018310547, -5.0696001052856445, -5.082699775695801, -5.039000034332275, -5.322999954223633, -3.1247000694274902, -4.982999801635742, -5.279399871826172, -4.071700096130371, -4.292099952697754, -5.301599979400635, -4.281899929046631, -4.401400089263916, -4.640500068664551, -5.1153998374938965, -4.768099784851074, -4.952199935913086, -5.070199966430664, -5.168799877166748, -4.89300012588501, -5.7565999031066895, -4.950500011444092, -5.801700115203857, -6.140900135040283, -5.385000228881836, -6.252099990844727, -6.048900127410889, -6.318299770355225, -6.353499889373779, -5.0447998046875, -5.949900150299072, -6.533999919891357, -6.449699878692627, -6.236299991607666, -6.478700160980225, -5.638700008392334, -5.895899772644043, -5.648399829864502, -6.471099853515625, -5.570400238037109, -6.736299991607666, -6.629899978637695, -6.529799938201904, -6.576300144195557, -6.85290002822876, -4.777500152587891, -6.473199844360352, -6.19980001449585, -6.82450008392334, -5.356299877166748, -4.447400093078613, -4.9131999015808105, -4.674300193786621, -5.0416998863220215, -4.9542999267578125, -5.627900123596191, -6.13070011138916, -5.821800231933594, -4.518099784851074, -4.4745001792907715, -3.584399938583374, -3.988100051879883, -4.844099998474121, -4.743199825286865, -5.815299987792969, -4.8703999519348145, -5.58519983291626, -3.7630999088287354, -5.277500152587891, -3.646399974822998, -2.2681000232696533, -4.8572998046875, -3.5666000843048096, -4.287199974060059, -3.9437999725341797, -4.1153998374938965, -5.201200008392334, -4.801799774169922, -4.8917999267578125, -4.0391998291015625, -4.960599899291992, -4.459000110626221, -4.085999965667725, -4.8206000328063965, -4.493000030517578, -4.711999893188477, -5.6956000328063965, -5.787700176239014, -5.820899963378906, -6.082300186157227, -5.733099937438965, -6.158699989318848, -6.31689977645874, -6.369100093841553, -3.958199977874756, -6.485499858856201, -6.168799877166748, -6.635300159454346, -6.75540018081665, -6.678999900817871, -6.837399959564209, -6.620699882507324, -7.078499794006348, -5.375199794769287, -7.172699928283691, -7.262599945068359, -4.508800029754639, -3.5969998836517334, -7.4893999099731445, -4.8730998039245605, -7.108399868011475, -7.844799995422363, -7.880000114440918, -7.951499938964844, -3.0102999210357666, -7.934199810028076, -4.1981000900268555, -5.576000213623047, -2.185499906539917, -1.672700047492981, -3.8515000343322754, -5.313000202178955, -3.3949999809265137, -4.630099773406982, -2.8691999912261963, -2.352099895477295, -4.150300025939941, -4.425099849700928, -5.967800140380859, -4.070000171661377, -4.078499794006348, -5.179999828338623, -3.6322999000549316, -4.782800197601318, -4.926499843597412, -5.244100093841553, -5.7368998527526855, -5.417900085449219, -5.325699806213379, -4.955999851226807, -5.328999996185303, -5.463900089263916, -5.564599990844727, -4.869900226593018, -4.645500183105469, -5.555600166320801, -6.005499839782715, -6.031799793243408, -5.942500114440918, -6.105599880218506, -4.697199821472168, -6.045599937438965, -6.227099895477295, -6.242800235748291, -6.25439977645874, -5.936699867248535, -6.007900238037109, -6.258500099182129, -6.375199794769287, -6.54580020904541, -6.5447001457214355, -6.325699806213379, -6.572999954223633, -6.565499782562256, -6.822400093078613, -5.782199859619141, -6.785900115966797, -5.79449987411499, -5.358099937438965, -6.312099933624268, -7.070199966430664, -7.094200134277344, -5.649600028991699, -5.2204999923706055, -4.900300025939941, -5.132699966430664, -5.465400218963623, -2.970900058746338, -4.6519999504089355, -4.683300018310547, -5.08519983291626, -4.950200080871582, -4.074100017547607, -4.201499938964844, -3.4869000911712646, -5.16510009765625, -4.7600998878479, -3.1120998859405518, -3.7248001098632812, -4.878600120544434, -4.637599945068359, -5.125899791717529, -4.02239990234375, -4.630300045013428, -5.030300140380859, -2.5520999431610107, -4.712800025939941, -4.195400238037109, -3.7486000061035156, -3.3775999546051025, -4.542099952697754, -4.797599792480469, -4.121500015258789, -4.629899978637695, -4.3171000480651855, -4.452499866485596, -4.801199913024902, -4.896699905395508, -3.5030999183654785, -4.8968000411987305, -5.078499794006348, -5.266499996185303, -5.544000148773193, -5.940800189971924, -6.020899772644043, -5.760700225830078, -6.091400146484375, -6.139800071716309, -6.162099838256836, -6.285999774932861, -6.378399848937988, -6.4344000816345215, -6.450500011444092, -6.5665998458862305, -6.56879997253418, -6.603400230407715, -6.611400127410889, -6.671800136566162, -3.001300096511841, -6.890999794006348, -5.428599834442139, -6.934800148010254, -6.963399887084961, -5.54449987411499, -7.050899982452393, -6.996300220489502, -5.934700012207031, -7.264699935913086, -5.280700206756592, -4.202499866485596, -5.650199890136719, -3.294800043106079, -5.065199851989746, -5.674099922180176, -3.725800037384033, -1.917799949645996, -3.8190999031066895, -4.270100116729736, -4.133500099182129, -4.747700214385986, -4.275599956512451, -3.7307000160217285, -3.3796000480651855, -4.513899803161621, -4.461900234222412, -4.914400100708008, -3.926300048828125, -4.994800090789795, -2.546299934387207, -4.527900218963623, -4.790299892425537, -4.8649001121521, -4.017099857330322, -4.2133002281188965, -4.908899784088135, -4.955399990081787, -5.0482001304626465, -4.975599765777588, -4.820199966430664, -4.999499797821045, -5.191400051116943, -5.32390022277832, -5.490699768066406, -4.311999797821045, -5.360199928283691, -5.554699897766113, -5.104499816894531, -5.224299907684326, -5.725200176239014, -5.812099933624268, -4.775400161743164, -5.531300067901611, -5.992700099945068, -4.923699855804443, -4.9542999267578125, -6.143099784851074, -6.218699932098389, -5.914899826049805, -6.406599998474121, -6.224699974060059, -5.726500034332275, -6.202400207519531, -5.815499782562256, -4.329100131988525, -6.773499965667725, -6.807600021362305, -6.836900234222412, -5.857699871063232, -6.868800163269043, -6.853300094604492, -2.3952999114990234, -4.196100234985352, -5.983099937438965, -5.609799861907959, -1.9830000400543213, -4.921299934387207, -3.63100004196167, -5.089099884033203, -3.974100112915039, -4.486599922180176, -3.8475000858306885, -5.219299793243408, -4.942200183868408, -4.413599967956543, -4.596700191497803, -4.462900161743164, -3.1473000049591064, -4.4145002365112305, -5.080900192260742, -4.259300231933594, -4.832699775695801, -4.151599884033203, -4.556399822235107, -3.9005000591278076, -4.173399925231934, -4.1921000480651855, -4.526000022888184, -4.773200035095215, -4.6097002029418945, -4.8069000244140625, -4.946700096130371, -4.474400043487549, -4.650300025939941, -4.826399803161621, -5.114200115203857, -4.511499881744385, -5.276199817657471, -5.3414998054504395, -5.401299953460693, -5.151199817657471, -5.6066999435424805, -4.803100109100342, -5.72130012512207, -5.508699893951416, -3.275599956512451, -6.035699844360352, -4.918499946594238, -6.235400199890137, -4.568699836730957, -6.157299995422363, -6.225500106811523, -4.70959997177124, -5.996799945831299, -5.802700042724609, -6.4105000495910645, -6.422100067138672, -6.427599906921387, -3.7546000480651855, -6.405200004577637, -6.403200149536133, -6.599599838256836, -4.535399913787842, -2.5887999534606934, -4.026299953460693, -5.271100044250488, -4.594099998474121, -5.3403000831604, -4.25, -5.3491997718811035, -3.890399932861328, -4.2947998046875, -3.8466999530792236, -4.044099807739258, -4.688000202178955, -3.398699998855591, -5.081299781799316, -4.590400218963623, -3.773900032043457, -2.7325000762939453, -4.347099781036377, -5.017000198364258, -3.8111000061035156, -4.338699817657471, -4.260700225830078, -4.44379997253418, -4.833399772644043, -4.846799850463867, -4.992800235748291, -4.662300109863281, -5.432799816131592, -5.52400016784668, -5.776100158691406, -5.855800151824951, -5.635200023651123, -5.870699882507324, -4.759799957275391, -6.064300060272217, -6.0121002197265625, -5.350900173187256, -6.2947001457214355, -6.077499866485596, -5.935699939727783, -6.2382001876831055, -6.42080020904541, -6.53249979019165, -6.552700042724609, -6.057600021362305, -6.513400077819824, -6.877299785614014, -5.183700084686279, -6.904399871826172, -4.582300186157227, -2.796099901199341, -5.512800216674805, -1.8696999549865723, -7.155799865722656, -7.156000137329102, -4.597899913787842, -3.4274001121520996, -5.610599994659424, -5.098800182342529, -4.958199977874756, -2.502700090408325, -4.329400062561035, -4.325200080871582, -3.6944000720977783, -4.144700050354004, -3.7643001079559326, -3.6029999256134033, -4.007900238037109, -2.205199956893921, -5.233500003814697, -5.11359977722168, -3.966599941253662, -5.027100086212158, -3.9489998817443848, -5.05709981918335, -4.534800052642822, -4.410999774932861, -4.781899929046631, -4.9670000076293945, -5.075900077819824, -5.123899936676025, -3.898400068283081, -4.674099922180176, -5.03980016708374, -5.061600208282471, -1.1304999589920044, -5.577600002288818, -5.976399898529053, -5.847899913787842, -5.697299957275391, -6.194399833679199, -4.899199962615967, -6.226399898529053, -6.235799789428711, -4.466300010681152, -6.31879997253418, -6.297699928283691, -6.53410005569458, -6.708399772644043, -6.7221999168396, -6.7683000564575195, -6.8709001541137695, -6.88640022277832, -4.405799865722656, -6.973100185394287, -7.069900035858154, -7.098400115966797, -7.252500057220459, -7.2581000328063965, -7.214099884033203, -7.285799980163574, -3.161099910736084, -3.895400047302246, -5.616499900817871, -4.552000045776367, -4.899799823760986, -4.27810001373291, -5.25, -4.115200042724609, -3.525099992752075, -5.186699867248535, -4.9293999671936035, -5.9120001792907715, -4.940700054168701, -4.625699996948242, -3.614799976348877, -4.419600009918213, -3.9140000343322754, -5.01800012588501, -5.319900035858154, -4.68720006942749, -4.589799880981445, -4.6149001121521, -4.998799800872803, -4.895100116729736, -4.733799934387207, -5.082099914550781, -5.115499973297119, -4.3221001625061035, -3.8575000762939453, -4.399099826812744, -4.030300140380859, -4.860199928283691, -4.949100017547607, -5.585999965667725, -5.438199996948242, -6.048099994659424, -6.059700012207031, -6.065700054168701, -5.542500019073486, -5.743599891662598, -4.992000102996826, -6.329400062561035, -6.361999988555908, -6.422599792480469, -6.399700164794922, -3.055000066757202, -6.386300086975098, -4.574100017547607, -6.584400177001953, -6.412099838256836, -6.537600040435791, -6.567200183868408, -6.8246002197265625, -6.826399803161621, -5.958000183105469, -6.955399990081787, -4.8730998039245605, -0.9927999973297119, -3.922499895095825, -4.063899993896484, -2.52239990234375, -3.8905999660491943, -5.1579999923706055, -4.303400039672852, -4.897500038146973, -5.796999931335449, -5.067999839782715, -4.396299839019775, -5.956200122833252, -4.591400146484375, -4.342199802398682, -4.746699810028076, -5.758600234985352, -5.213900089263916, -5.116700172424316, -5.701900005340576, -4.404600143432617, -4.597599983215332, -4.70550012588501, -5.170499801635742, -5.297399997711182, -4.193999767303467, -4.32289981842041, -5.437699794769287, -5.521900177001953, -5.686800003051758, -5.53849983215332, -5.741799831390381, -5.780600070953369, -2.8994998931884766, -4.538700103759766, -5.942999839782715, -4.616799831390381, -5.614099979400635, -6.009699821472168, -6.049799919128418, -4.068699836730957, -3.5724000930786133, -6.200799942016602, -6.201600074768066, -6.2718000411987305, -5.3684000968933105, -5.232600212097168, -6.391900062561035, -4.828499794006348, -6.029399871826172, -4.898099899291992, -3.1705000400543213, -3.77620005607605, -4.901500225067139, -3.996799945831299, -3.6958000659942627, -3.5071001052856445, -3.768399953842163, -3.9976999759674072, -4.599299907684326, -4.112100124359131, -4.1819000244140625, -4.8333001136779785, -5.146999835968018, -3.8461999893188477, -3.722899913787842, -4.128300189971924, -4.680600166320801, -4.454999923706055, -4.765100002288818, -4.424600124359131, -4.542600154876709, -4.832900047302246, -4.908100128173828, -4.899600028991699, -4.965099811553955, -5.1402997970581055, -5.1596999168396, -4.706999778747559, -3.4993999004364014, -5.128699779510498, -4.872700214385986, -5.516900062561035, -5.551700115203857, -5.578400135040283, -5.527299880981445, -3.1487998962402344, -5.223899841308594, -5.685800075531006, -4.940800189971924, -5.215099811553955, -5.697199821472168, -5.78849983215332, -5.832300186157227, -5.787700176239014, -5.966800212860107, -5.872300148010254, -4.511300086975098, -4.398600101470947, -6.345399856567383, -5.136000156402588, -4.544899940490723, -2.8819000720977783, -4.579899787902832, -3.374000072479248, -4.26669979095459, -3.968400001525879, -4.644000053405762, -2.5320000648498535, -2.356300115585327, -4.819399833679199, -4.896900177001953, -4.136099815368652, -4.622399806976318, -4.736599922180176, -4.732600212097168, -3.5732998847961426, -4.984300136566162, -4.985599994659424, -4.94320011138916, -4.855500221252441], \"loglift\": [30.0, 29.0, 28.0, 27.0, 26.0, 25.0, 24.0, 23.0, 22.0, 21.0, 20.0, 19.0, 18.0, 17.0, 16.0, 15.0, 14.0, 13.0, 12.0, 11.0, 10.0, 9.0, 8.0, 7.0, 6.0, 5.0, 4.0, 3.0, 2.0, 1.0, 1.6584999561309814, 1.6582000255584717, 1.6553000211715698, 1.6550999879837036, 1.6545000076293945, 1.654099941253662, 1.648300051689148, 1.6480000019073486, 1.645799994468689, 1.6434999704360962, 1.642799973487854, 1.6419999599456787, 1.6418999433517456, 1.638700008392334, 1.638100028038025, 1.6374000310897827, 1.636199951171875, 1.6359000205993652, 1.6349999904632568, 1.6325000524520874, 1.6274000406265259, 1.626099944114685, 1.6246999502182007, 1.6223000288009644, 1.6188000440597534, 1.6167999505996704, 1.6160999536514282, 1.6105999946594238, 1.6095000505447388, 1.607699990272522, 1.607300043106079, 1.585800051689148, 1.5566999912261963, 1.5716999769210815, 1.4483000040054321, 1.3406000137329102, 0.9754999876022339, 1.4213999509811401, 1.4134000539779663, 1.4076000452041626, 1.087399959564209, 1.179800033569336, 1.4678000211715698, 1.3473999500274658, 0.6693000197410583, 1.3869999647140503, 1.2223999500274658, 1.2121000289916992, 1.1586999893188477, 1.2487000226974487, 0.12229999899864197, 0.927299976348877, 0.9244999885559082, -0.031099999323487282, 0.14429999887943268, 0.8935999870300293, -0.22689999639987946, -0.1973000019788742, -0.22120000422000885, 0.510200023651123, -0.225600004196167, -0.477400004863739, -0.09650000184774399, 0.2791999876499176, -1.3222999572753906, 1.8984999656677246, 1.8970999717712402, 1.888200044631958, 1.8867000341415405, 1.884600043296814, 1.8818000555038452, 1.8798999786376953, 1.8796000480651855, 1.878100037574768, 1.872499942779541, 1.8698999881744385, 1.8691999912261963, 1.868499994277954, 1.868299961090088, 1.867900013923645, 1.867799997329712, 1.8669999837875366, 1.8626999855041504, 1.860700011253357, 1.8597999811172485, 1.857300043106079, 1.8565000295639038, 1.8559000492095947, 1.8552000522613525, 1.8493000268936157, 1.8461999893188477, 1.842900037765503, 1.8410999774932861, 1.840499997138977, 1.8392000198364258, 1.8072999715805054, 1.802899956703186, 1.7750999927520752, 1.781999945640564, 1.7561999559402466, 1.7903000116348267, 1.8252999782562256, 1.7898000478744507, 1.6359000205993652, 1.6136000156402588, 1.4391000270843506, 1.4321999549865723, 1.5942000150680542, 1.5749000310897827, 1.7493000030517578, 1.4947999715805054, 1.6875, 1.1687999963760376, 1.5499000549316406, 0.8281999826431274, 0.17829999327659607, 1.3122999668121338, 0.637499988079071, 0.9370999932289124, 0.4925000071525574, 0.42719998955726624, 1.3567999601364136, 0.9257000088691711, 0.9952999949455261, -0.07750000059604645, 0.975600004196167, -0.03970000147819519, -0.8574000000953674, 0.5983999967575073, -1.246000051498413, -0.6714000105857849, 2.232800006866455, 2.2295000553131104, 2.2207000255584717, 2.217099905014038, 2.2147998809814453, 2.2065000534057617, 2.2042999267578125, 2.2011001110076904, 2.1960999965667725, 2.1933000087738037, 2.178999900817871, 2.1772000789642334, 2.171600103378296, 2.1696999073028564, 2.163800001144409, 2.143199920654297, 2.137500047683716, 2.132200002670288, 2.1256000995635986, 2.1131999492645264, 2.0940001010894775, 2.078399896621704, 2.077699899673462, 2.0332000255584717, 2.0322999954223633, 2.006700038909912, 1.983299970626831, 1.9811999797821045, 1.9634000062942505, 1.9478000402450562, 1.926900029182434, 1.9394999742507935, 1.8695000410079956, 1.555899977684021, 1.6461999416351318, 1.7908999919891357, 1.5149999856948853, 1.666700005531311, 1.0924999713897705, 0.8949000239372253, 1.2496999502182007, 1.2668999433517456, 1.8136999607086182, 0.8248000144958496, 0.4950999915599823, 1.2350000143051147, -0.06159999966621399, 0.6651999950408936, 0.45500001311302185, 0.8145999908447266, 1.5443999767303467, 0.4690999984741211, 0.05900000035762787, -2.5095999240875244, -0.7864000201225281, -0.989300012588501, -1.1282999515533447, 2.3101000785827637, 2.3062000274658203, 2.2960000038146973, 2.293800115585327, 2.2925000190734863, 2.2923998832702637, 2.2887001037597656, 2.288599967956543, 2.2860000133514404, 2.2818000316619873, 2.280900001525879, 2.2802000045776367, 2.277600049972534, 2.277100086212158, 2.275599956512451, 2.2709999084472656, 2.259700059890747, 2.2590999603271484, 2.2588999271392822, 2.257499933242798, 2.2504000663757324, 2.223900079727173, 2.223099946975708, 2.2216999530792236, 2.221100091934204, 2.214200019836426, 2.2107999324798584, 2.2058000564575195, 2.202699899673462, 2.201200008392334, 2.184000015258789, 2.1749000549316406, 2.174499988555908, 2.1830999851226807, 2.070199966430664, 2.022599935531616, 2.0083999633789062, 2.0378000736236572, 2.001499891281128, 1.8543000221252441, 1.8447999954223633, 1.652899980545044, 1.9848999977111816, 1.8610999584197998, 1.3071999549865723, 1.4996000528335571, 1.847499966621399, 1.7400000095367432, 1.8933000564575195, 1.3966000080108643, 1.6220999956130981, 1.6786999702453613, -0.10570000112056732, 1.3532999753952026, 0.9218000173568726, 0.2921000123023987, -0.1306000053882599, 1.0936000347137451, 1.2240999937057495, -0.1597999930381775, 0.8784999847412109, -0.11299999803304672, -0.016200000420212746, 0.13079999387264252, -0.35409998893737793, 2.401700019836426, 2.389400005340576, 2.3847999572753906, 2.378000020980835, 2.373699903488159, 2.3575000762939453, 2.352799892425537, 2.3506999015808105, 2.3503000736236572, 2.344899892807007, 2.3447999954223633, 2.336899995803833, 2.3320000171661377, 2.3278000354766846, 2.325200080871582, 2.3169000148773193, 2.3166000843048096, 2.313800096511841, 2.3097000122070312, 2.307499885559082, 2.3020999431610107, 2.28439998626709, 2.2816998958587646, 2.2792999744415283, 2.2757999897003174, 2.2665998935699463, 2.2646000385284424, 2.253000020980835, 2.2520999908447266, 2.233299970626831, 2.224600076675415, 2.1101999282836914, 2.153599977493286, 1.8222999572753906, 2.037600040435791, 2.093899965286255, 1.7222000360488892, 1.329200029373169, 1.6892999410629272, 1.791100025177002, 1.7244000434875488, 1.8188999891281128, 1.6097999811172485, 1.40910005569458, 1.0568000078201294, 1.5454000234603882, 1.4752000570297241, 1.6907000541687012, 1.1557999849319458, 1.7188999652862549, -0.09989999979734421, 1.0978000164031982, 1.1200000047683716, 1.1519999504089355, -0.055399999022483826, 0.20600000023841858, 0.9930999875068665, 0.7940000295639038, 1.207900047302246, 0.6324999928474426, -0.7652000188827515, -0.9588000178337097, 2.6686999797821045, 2.6640000343322754, 2.657900094985962, 2.6572000980377197, 2.655900001525879, 2.655100107192993, 2.6494998931884766, 2.6493000984191895, 2.6466000080108643, 2.6419999599456787, 2.6368000507354736, 2.634000062942505, 2.6310999393463135, 2.618299961090088, 2.6152000427246094, 2.6147000789642334, 2.6047000885009766, 2.604300022125244, 2.5973000526428223, 2.5922999382019043, 2.58270001411438, 2.578700065612793, 2.575700044631958, 2.5655999183654785, 2.5546998977661133, 2.549499988555908, 2.545799970626831, 2.544100046157837, 2.5409998893737793, 2.5341999530792236, 2.5329999923706055, 2.420599937438965, 2.4934000968933105, 2.4690001010894775, 2.0576999187469482, 2.36080002784729, 2.1833999156951904, 2.374300003051758, 2.089600086212158, 2.0755999088287354, 1.7883000373840332, 2.2862000465393066, 2.124300003051758, 1.8387000560760498, 1.8995000123977661, 1.7323999404907227, 0.8144000172615051, 1.470900058746338, 1.8331999778747559, 0.650600016117096, 1.3650000095367432, -0.0966000035405159, 0.525600016117096, -1.4541000127792358, -0.9264000058174133, -0.9635999798774719, -0.10670000314712524, 0.8349000215530396, -0.17329999804496765, 0.1655000001192093, 0.07689999788999557, 2.7916998863220215, 2.784600019454956, 2.78439998626709, 2.775399923324585, 2.775099992752075, 2.7706000804901123, 2.7681000232696533, 2.7629001140594482, 2.7581000328063965, 2.7551000118255615, 2.754300117492676, 2.7497000694274902, 2.742300033569336, 2.7342000007629395, 2.7276999950408936, 2.7167000770568848, 2.7116000652313232, 2.7109999656677246, 2.7102999687194824, 2.710099935531616, 2.7054998874664307, 2.696899890899658, 2.694499969482422, 2.694000005722046, 2.6928000450134277, 2.6921000480651855, 2.689300060272217, 2.687999963760376, 2.6868999004364014, 2.671600103378296, 2.6526999473571777, 2.609100103378296, 2.6142001152038574, 2.6442999839782715, 2.6119000911712646, 2.631999969482422, 2.557300090789795, 2.6268999576568604, 2.4114999771118164, 2.397200107574463, 2.220400094985962, 2.2595999240875244, 2.324399948120117, 1.573699951171875, 2.44320011138916, 1.976199984550476, 1.2496999502182007, -0.28610000014305115, 1.401900053024292, 2.2841999530792236, 0.15060000121593475, 0.5932000279426575, 0.21389999985694885, 0.4661000072956085, 1.7365000247955322, -1.2760000228881836, 2.796299934387207, 2.7878000736236572, 2.784899950027466, 2.780600070953369, 2.766700029373169, 2.7616000175476074, 2.7588000297546387, 2.7558999061584473, 2.752000093460083, 2.7462000846862793, 2.743799924850464, 2.731100082397461, 2.725399971008301, 2.722899913787842, 2.718899965286255, 2.71560001373291, 2.712100028991699, 2.698899984359741, 2.6963999271392822, 2.6867001056671143, 2.6614999771118164, 2.649399995803833, 2.648200035095215, 2.6447999477386475, 2.6417999267578125, 2.6280999183654785, 2.625200033187866, 2.6050000190734863, 2.5975000858306885, 2.5975000858306885, 2.5204999446868896, 2.46370005607605, 2.545799970626831, 2.489500045776367, 2.4321000576019287, 2.039900064468384, 2.310800075531006, 2.272700071334839, 2.10260009765625, 2.1115000247955322, 1.9850000143051147, 1.778499960899353, 1.9172999858856201, 0.24120000004768372, 2.188800096511841, 2.0039000511169434, 0.23749999701976776, 1.6612999439239502, -0.3783000111579895, 1.5246000289916992, -0.06019999831914902, -0.44929999113082886, -0.20829999446868896, -0.5306000113487244, -0.10350000113248825, 0.6448000073432922, 2.8905999660491943, 2.881500005722046, 2.871299982070923, 2.8548998832702637, 2.848400115966797, 2.843600034713745, 2.8125, 2.811500072479248, 2.8083999156951904, 2.8008999824523926, 2.7976999282836914, 2.7976999282836914, 2.797600030899048, 2.7913999557495117, 2.7881999015808105, 2.7792999744415283, 2.7627999782562256, 2.7379000186920166, 2.73580002784729, 2.7284998893737793, 2.7111001014709473, 2.708400011062622, 2.6879000663757324, 2.67930006980896, 2.6710000038146973, 2.667099952697754, 2.6324000358581543, 2.62719988822937, 2.6249001026153564, 2.621799945831299, 2.607599973678589, 2.589900016784668, 2.59689998626709, 2.4844000339508057, 2.2260000705718994, 2.095900058746338, 2.209700107574463, 1.8388999700546265, 1.5570000410079956, 2.104099988937378, 1.8722000122070312, 2.3257999420166016, 1.7731000185012817, 1.4355000257492065, 0.34689998626708984, 0.5526999831199646, -0.3431999981403351, 1.0149999856948853, 1.368499994277954, 0.22280000150203705, -0.1704999953508377, -0.1784999966621399, 0.626800000667572, 0.12839999794960022, -1.486799955368042, -0.878000020980835, -0.5728999972343445, 2.9191999435424805, 2.9186999797821045, 2.9177000522613525, 2.908799886703491, 2.9022998809814453, 2.8938000202178955, 2.879199981689453, 2.87719988822937, 2.848099946975708, 2.8469998836517334, 2.8464999198913574, 2.8415000438690186, 2.837100028991699, 2.8348000049591064, 2.8197999000549316, 2.809299945831299, 2.8089001178741455, 2.803800106048584, 2.7994000911712646, 2.79830002784729, 2.7929999828338623, 2.7874999046325684, 2.787400007247925, 2.7813000679016113, 2.754499912261963, 2.749799966812134, 2.749500036239624, 2.735100030899048, 2.7258999347686768, 2.7091000080108643, 2.577899932861328, 2.5211000442504883, 2.5178000926971436, 2.372299909591675, 2.295099973678589, 2.5309998989105225, 2.3096001148223877, 2.444499969482422, 2.6454999446868896, 2.40939998626709, 1.7285000085830688, 2.3805999755859375, 0.38100001215934753, -1.1136000156402588, -0.3273000121116638, 2.0920000076293945, -0.6402999758720398, -2.670300006866455, -0.009800000116229057, 3.08870005607605, 3.074399948120117, 3.0743000507354736, 3.0678000450134277, 3.0624001026153564, 3.0620999336242676, 3.0571999549865723, 3.0546998977661133, 3.0459001064300537, 3.0381999015808105, 3.036799907684326, 3.0339999198913574, 3.025399923324585, 3.020400047302246, 3.019200086593628, 3.0167999267578125, 3.0155999660491943, 3.015199899673462, 3.0102999210357666, 3.0062999725341797, 3.004300117492676, 2.9909000396728516, 2.9890999794006348, 2.987499952316284, 2.9793999195098877, 2.9756999015808105, 2.973299980163574, 2.9616000652313232, 2.958400011062622, 2.9581000804901123, 2.8743999004364014, 2.7067999839782715, 2.7258999347686768, 2.7284998893737793, 2.498800039291382, 2.3629000186920166, 2.220400094985962, 2.2976999282836914, 2.1719000339508057, 2.4333999156951904, 1.8250000476837158, 1.851099967956543, 2.292099952697754, 2.5183000564575195, 0.3578999936580658, -0.47589999437332153, 0.29100000858306885, 1.3655999898910522, 0.47699999809265137, 1.1711000204086304, -1.1959999799728394, 3.1851000785827637, 3.1760001182556152, 3.17330002784729, 3.1707000732421875, 3.169300079345703, 3.162899971008301, 3.162400007247925, 3.1607000827789307, 3.1607000827789307, 3.15339994430542, 3.143399953842163, 3.140399932861328, 3.1391000747680664, 3.1368000507354736, 3.1357998847961426, 3.134999990463257, 3.133699893951416, 3.1291000843048096, 3.1208999156951904, 3.120800018310547, 3.1201000213623047, 3.1184000968933105, 3.1113998889923096, 3.1050000190734863, 3.1033999919891357, 3.1015000343322754, 3.0789999961853027, 3.0713000297546387, 3.0555999279022217, 3.052799940109253, 3.0139999389648438, 2.867000102996826, 2.9923999309539795, 2.8245999813079834, 2.7518999576568604, 2.6013998985290527, 2.7946999073028564, 1.9426000118255615, 1.8478000164031982, 2.792099952697754, 2.759500026702881, 2.161900043487549, 2.3671000003814697, 2.246299982070923, 2.2042999267578125, -1.1268999576568604, 2.6582999229431152, 2.201900005340576, 1.3488999605178833, -0.8004999756813049]}, \"token.table\": {\"Topic\": [1, 12, 1, 3, 7, 2, 11, 4, 8, 5, 1, 6, 2, 1, 2, 3, 4, 5, 6, 7, 8, 9, 10, 11, 12, 1, 2, 1, 2, 3, 4, 7, 8, 1, 2, 3, 4, 6, 11, 1, 2, 4, 5, 6, 7, 9, 10, 11, 1, 1, 2, 3, 7, 9, 11, 11, 4, 11, 11, 4, 6, 11, 1, 2, 4, 1, 6, 7, 11, 8, 12, 1, 2, 3, 4, 5, 6, 8, 9, 11, 7, 2, 3, 2, 4, 1, 2, 7, 11, 3, 8, 1, 2, 3, 4, 5, 6, 7, 8, 9, 10, 11, 4, 1, 7, 11, 3, 7, 12, 12, 8, 9, 1, 2, 3, 4, 6, 7, 9, 10, 1, 3, 11, 1, 2, 4, 9, 12, 2, 5, 9, 11, 8, 1, 2, 3, 4, 7, 10, 1, 2, 4, 2, 6, 7, 1, 2, 4, 7, 11, 1, 2, 4, 5, 7, 8, 11, 8, 9, 10, 4, 8, 9, 1, 2, 3, 4, 5, 6, 7, 9, 11, 4, 5, 1, 4, 10, 1, 2, 3, 4, 5, 6, 7, 8, 9, 10, 11, 12, 3, 1, 3, 4, 11, 5, 1, 2, 3, 4, 5, 6, 7, 9, 1, 2, 4, 5, 6, 7, 1, 5, 1, 2, 3, 4, 6, 7, 8, 12, 3, 6, 1, 4, 8, 9, 1, 2, 6, 7, 9, 2, 6, 7, 9, 2, 11, 1, 2, 3, 4, 5, 6, 11, 12, 1, 2, 3, 4, 5, 9, 11, 12, 1, 2, 3, 4, 5, 6, 8, 9, 9, 3, 12, 12, 3, 1, 2, 3, 6, 7, 9, 2, 5, 3, 1, 2, 7, 12, 1, 6, 3, 10, 8, 9, 1, 2, 3, 4, 6, 8, 9, 11, 6, 11, 1, 6, 1, 4, 6, 7, 9, 1, 2, 4, 5, 6, 9, 1, 4, 5, 7, 1, 2, 3, 6, 9, 2, 3, 4, 7, 1, 2, 6, 11, 1, 2, 3, 4, 5, 8, 11, 6, 1, 8, 1, 2, 9, 10, 12, 11, 1, 2, 4, 6, 7, 8, 2, 6, 2, 5, 11, 1, 12, 2, 9, 9, 1, 2, 3, 4, 5, 6, 7, 9, 10, 9, 2, 9, 1, 2, 4, 5, 6, 7, 9, 11, 1, 2, 4, 9, 1, 2, 3, 4, 5, 6, 7, 8, 9, 10, 11, 5, 6, 7, 11, 12, 1, 9, 10, 12, 8, 2, 7, 11, 1, 2, 4, 5, 6, 8, 9, 10, 11, 12, 12, 1, 2, 3, 5, 1, 2, 4, 8, 1, 7, 1, 2, 3, 4, 5, 6, 7, 9, 10, 11, 12, 3, 1, 5, 11, 9, 1, 2, 3, 4, 5, 6, 7, 9, 11, 12, 6, 11, 12, 1, 4, 11, 1, 2, 4, 11, 1, 2, 4, 6, 8, 11, 12, 1, 6, 1, 2, 3, 4, 5, 6, 10, 11, 5, 11, 8, 10, 1, 2, 4, 5, 6, 7, 8, 10, 11, 12, 1, 2, 3, 4, 6, 7, 10, 12, 8, 9, 1, 2, 3, 5, 6, 7, 8, 10, 11, 10, 4, 10, 1, 12, 4, 1, 4, 9, 12, 1, 2, 3, 4, 5, 7, 8, 9, 11, 12, 2, 12, 7, 8, 4, 9, 1, 5, 12, 7, 12, 1, 2, 3, 4, 5, 6, 7, 8, 9, 11, 12, 12, 1, 7, 11, 6, 8, 11, 1, 2, 4, 6, 11, 3, 1, 2, 4, 5, 7, 9, 10, 10, 2, 10, 1, 11, 9, 10, 6, 5, 1, 2, 3, 6, 7, 11, 12, 1, 2, 3, 4, 6, 11, 12, 1, 2, 6, 6, 3, 6, 11, 1, 2, 3, 4, 7, 9, 11, 12, 1, 2, 3, 4, 5, 6, 11, 12, 1, 1, 12, 1, 2, 3, 4, 7, 9, 11, 10, 2, 7, 3, 1, 2, 4, 5, 6, 7, 9, 10, 11, 1, 9, 1, 2, 3, 4, 10, 10, 1, 2, 4, 5, 9, 10, 11, 3, 1, 6, 11, 10, 5, 5, 1, 5, 7, 8, 11, 12, 1, 1, 2, 4, 7, 9, 1, 2, 4, 5, 6, 7, 8, 1, 2, 3, 4, 5, 8, 10, 11, 1, 4, 9, 1, 12, 1, 2, 4, 1, 2, 5, 7, 10, 11, 12, 7, 9, 12, 1, 2, 4, 5, 6, 9, 12, 1, 2, 3, 4, 5, 6, 7, 8, 9, 10, 1, 7, 8, 12, 11, 5, 7, 2, 12, 4, 6, 2, 9, 10, 11, 1, 2, 3, 4, 5, 6, 7, 9, 11, 7, 1, 2, 3, 4, 5, 6, 9, 11, 2, 8, 4, 3, 5, 1, 2, 4, 5, 10, 12, 1, 9, 10, 1, 2, 3, 8, 10, 11, 9, 4, 5, 8, 9, 1, 2, 3, 4, 5, 6, 7, 8, 9, 10, 11, 12, 1, 4, 6, 7, 11, 7, 7, 1, 2, 3, 4, 5, 6, 1, 5, 2, 4, 5, 6, 8, 10, 1, 7, 8, 12, 7, 5, 12, 1, 2, 3, 4, 10, 8, 1, 2, 6, 8, 11, 12, 2, 5, 7, 12, 7, 12, 1, 4, 8, 1, 2, 4, 5, 6, 12, 5, 4, 12, 7, 2, 3, 9, 1, 2, 3, 4, 5, 6, 7, 8, 9, 10, 11, 12, 9, 1, 3, 10, 3, 1, 2, 3, 4, 5, 6, 7, 8, 9, 11, 1, 2, 6, 7, 9, 10, 11, 1, 4, 5, 9, 1, 4, 5, 12, 1, 4, 11, 1, 2, 3, 4, 6, 7, 8, 9, 10, 11, 12, 2, 1, 2, 3, 4, 5, 6, 8, 10, 11, 12, 2, 12, 7, 1, 3, 4, 5, 6, 8, 9, 2, 12, 2, 9, 1, 2, 4, 6, 9, 10, 11, 2, 4, 1, 10, 5, 5, 1, 2, 1, 2, 3, 4, 6, 7, 9, 5, 5, 12, 1, 2, 9, 6, 10, 3, 1, 2, 4, 12, 5, 7, 12, 1, 2, 2, 1, 2, 3, 4, 7, 6, 4, 3, 7, 1, 2, 3, 4, 5, 6, 7, 8, 9, 10, 11, 12, 1, 2, 3, 5, 6, 7, 10, 11, 1, 2, 3, 4, 7, 8, 1, 2, 3, 4, 5, 6, 8, 9, 10, 11, 12, 1, 2, 3, 5, 6, 7, 8, 9, 10, 11, 12, 3, 6, 1, 7, 12, 1, 2, 3, 9, 11, 12, 1, 2, 4, 5, 6, 7, 9, 11, 1, 2, 3, 6, 10, 11, 2, 1, 11, 1, 2, 3, 4, 5, 6, 7, 8, 9, 11, 9, 5, 1, 4, 5, 6, 11, 7, 1, 2, 3, 4, 5, 6, 7, 8, 9, 10, 11, 12, 1, 2, 3, 4, 6, 7, 9, 1, 2, 4, 6, 10, 2, 4, 2, 11, 1, 3, 4, 12, 5, 1, 2, 4, 9, 6, 4, 1, 2, 3, 4, 5, 7, 8, 9, 10, 11, 12, 1, 8, 9, 2, 5, 7, 4, 6, 1, 4, 6, 9, 8, 11, 8, 8, 11, 7, 8, 2, 4, 5, 4, 9, 4, 10, 11, 8, 1, 1, 6, 1, 2, 3, 4, 5, 6, 7, 8, 9, 10, 11, 12, 4, 1, 1, 2, 3, 4, 5, 6, 7, 8, 9, 10, 11, 12, 9, 1, 2, 3, 4, 6, 11, 12, 7, 1, 2, 12, 10, 1, 2, 3, 5, 6, 7, 10, 11, 2, 4, 7, 10, 12, 7, 1, 10, 1, 5, 11, 1, 2, 4, 6, 8, 9, 11, 2, 3, 5, 6, 8, 9, 11, 1, 2, 4, 6, 8, 9, 1, 6, 7, 9, 10, 10, 5, 9, 1, 2, 4, 5, 8, 11, 5, 4, 1, 2, 3, 4, 6, 7, 8, 9, 12, 1, 2, 3, 4, 5, 6, 7, 8, 9, 10, 11, 12, 10, 6, 3, 5, 6, 7, 1, 5, 1, 2, 3, 4, 7, 8, 9, 10, 12, 1, 2, 3, 4, 5, 6, 7, 8, 9, 10, 11, 12, 1, 4, 8, 1, 2, 4, 6, 7, 9, 11, 1, 2, 3, 4, 5, 6, 7, 8, 9, 10, 11, 12, 2, 3, 5, 9, 5, 1, 2, 3, 4, 5, 7, 9, 10, 11, 1, 2, 3, 4, 6, 7, 8, 9, 1, 3, 10, 2, 4, 6, 1, 2, 3, 1, 6, 11, 10, 4, 7, 2, 4, 11, 1, 5, 6, 7, 10, 11, 6, 1, 2, 4, 5, 7, 8, 9, 10, 1, 6, 1, 4, 5, 6, 8, 9, 1, 8, 11, 12, 6, 10, 1, 2, 3, 7, 9, 10, 1, 2, 3, 4, 5, 9, 10, 11, 3, 7, 1, 2, 5, 1, 7, 7, 9, 12, 2, 4, 7, 10, 1, 1, 4, 5, 9, 1, 2, 3, 4, 5, 6, 7, 8, 9, 10, 11, 12, 7, 8, 11, 12, 6, 1, 4, 1, 2, 3, 10, 11, 1, 11, 1, 2, 3, 4, 7, 8, 9, 11, 8, 1, 6, 8, 1, 2, 3, 5, 6, 7, 8, 9, 11, 9, 2, 4, 6, 2, 10, 12, 9, 6, 8, 1, 2, 4, 5, 7, 9, 11, 1, 2, 4, 6, 7, 9, 1, 2, 3, 4, 6, 7, 9, 1, 2, 9, 12, 1, 2, 4, 5, 7, 8, 2, 1, 2, 7, 12, 7, 3, 4, 10, 10, 1, 2, 3, 4, 5, 6, 7, 8, 11, 12, 2, 5, 7, 11, 1, 2, 3, 4, 5, 6, 7, 8, 11, 2, 10, 1, 2, 3, 4, 5, 7, 8, 9, 11, 1, 2, 3, 4, 5, 6, 7, 8, 9, 10, 11, 12, 1, 6, 11, 1, 2, 3, 5, 10, 11, 1, 2, 3, 4, 5, 7, 8, 12, 6, 1, 2, 3, 4, 6, 1, 2, 11, 1, 9, 1, 6, 7, 8, 9, 11, 1, 2, 4, 7, 8, 9, 10, 11, 12, 5, 11, 1, 3, 4, 5, 7, 9, 11, 4, 2, 1, 5, 7, 9, 9, 1, 9, 5, 9, 5, 7, 12, 3, 7, 1, 2, 3, 5, 7, 8, 10, 5, 7, 1, 2, 3, 4, 5, 6, 7, 8, 9, 11, 12, 1, 6, 6, 1, 2, 4, 8, 9, 11, 1, 2, 3, 4, 5, 6, 7, 8, 9, 10, 11, 12, 2, 4, 11, 12, 1, 7, 5, 1, 1, 2, 3, 4, 6, 8, 10, 11, 6, 3, 2, 2, 1, 2, 4, 5, 6, 9, 11, 12, 8, 1, 3, 4, 7, 8, 12, 1, 2, 4, 8, 11, 1, 2, 3, 4, 5, 6, 7, 8, 9, 10, 11, 12, 2, 1, 3, 1, 2, 3, 4, 5, 6, 8, 10, 11, 4, 1, 2, 3, 4, 5, 6, 7, 9, 11, 12, 1, 2, 4, 5, 6, 11, 12, 1, 3, 5, 10, 2, 3, 4, 6, 10, 1, 2, 4, 5, 7, 8, 9, 2, 4, 7, 11, 12, 5, 1, 2, 4, 5, 6, 8, 9, 1, 12, 2, 6, 2, 1, 2, 4, 5, 7, 2, 4, 5, 7, 1, 2, 4, 9, 10, 11, 4, 4, 1, 2, 6, 9, 10, 1, 2, 3, 4, 5, 6, 9, 10, 11, 1, 3, 4, 9, 11, 1, 5, 9, 4, 6, 8, 7, 12, 1, 4, 6, 5, 7, 12, 1, 2, 3, 4, 5, 6, 8, 12, 6, 10, 2, 5, 8, 9, 10, 11, 1, 8, 3, 8, 7, 12, 2, 3], \"Freq\": [0.051940932869911194, 0.9349368214607239, 0.9726393818855286, 0.05154891684651375, 0.9021060466766357, 0.09964767843484879, 0.8968291282653809, 0.936105489730835, 0.9690967798233032, 0.8895015716552734, 0.05489392578601837, 0.878302812576294, 0.9358801245689392, 0.11505961418151855, 0.06472103297710419, 0.03595612943172455, 0.08629471063613892, 0.04854077473282814, 0.079103484749794, 0.29124465584754944, 0.05393419414758682, 0.09528373926877975, 0.07730567455291748, 0.037753935903310776, 0.01438245177268982, 0.04532623291015625, 0.9518508911132812, 0.05486687645316124, 0.7352161407470703, 0.03840681537985802, 0.09327369183301926, 0.03840681537985802, 0.032920125871896744, 0.06665419042110443, 0.07109780609607697, 0.00444361288100481, 0.18218812346458435, 0.013330837711691856, 0.6665419340133667, 0.03156934306025505, 0.14206205308437347, 0.6050791144371033, 0.015784671530127525, 0.01052311435341835, 0.01052311435341835, 0.005261557176709175, 0.005261557176709175, 0.17363138496875763, 0.929313063621521, 0.030841540545225143, 0.8841241598129272, 0.01028051320463419, 0.01028051320463419, 0.01028051320463419, 0.05140256509184837, 0.9422566294670105, 0.9600847363471985, 0.8871077299118042, 0.8538398146629333, 0.6981549859046936, 0.047601476311683655, 0.22214022278785706, 0.9138669371604919, 0.05895915627479553, 0.014739789068698883, 0.01324240118265152, 0.9534528851509094, 0.01324240118265152, 0.9143012166023254, 0.9581500887870789, 0.9245970845222473, 0.16920675337314606, 0.010800430551171303, 0.7380294799804688, 0.0450017973780632, 0.005400215275585651, 0.0036001435946673155, 0.0018000717973336577, 0.021600861102342606, 0.0018000717973336577, 0.8839792609214783, 0.9056331515312195, 0.8766006827354431, 0.045997489243745804, 0.9199498295783997, 0.10373496264219284, 0.87137371301651, 0.8961679339408875, 0.9197365045547485, 0.04029381275177002, 0.8864638209342957, 0.2097311168909073, 0.04194622114300728, 0.25359854102134705, 0.08421264588832855, 0.3400525748729706, 0.026576614007353783, 0.0006404003361240029, 0.0006404003361240029, 0.012487806379795074, 0.002241401234641671, 0.027537215501070023, 0.9513530135154724, 0.944719672203064, 0.9725085496902466, 0.923933207988739, 0.9191070795059204, 0.9639939069747925, 0.018188564106822014, 0.9737206697463989, 0.08835643529891968, 0.9012356400489807, 0.21416454017162323, 0.042832907289266586, 0.10708227008581161, 0.010708226822316647, 0.5407654643058777, 0.07495759427547455, 0.005354113411158323, 0.8974400162696838, 0.9343767166137695, 0.0373750664293766, 0.9054754376411438, 0.006127604283392429, 0.006127604283392429, 0.2941249907016754, 0.012255208566784859, 0.6801640391349792, 0.01469050906598568, 0.05876203626394272, 0.01469050906598568, 0.896121084690094, 0.8903246521949768, 0.37070080637931824, 0.026862377300858498, 0.010744950734078884, 0.005372475367039442, 0.5533649325370789, 0.021489901468157768, 0.13291572034358978, 0.8486157059669495, 0.010224285535514355, 0.024136023595929146, 0.9171688556671143, 0.04827204719185829, 0.08660902827978134, 0.8582167029380798, 0.01574709638953209, 0.007873548194766045, 0.023620644584298134, 0.12332379817962646, 0.01947217807173729, 0.006490726489573717, 0.29857340455055237, 0.05192581191658974, 0.4868044853210449, 0.006490726489573717, 0.9340878129005432, 0.04556525871157646, 0.8903116583824158, 0.7412960529327393, 0.015443667769432068, 0.23165501654148102, 0.019257409498095512, 0.11747019737958908, 0.003851481946185231, 0.7606676816940308, 0.003851481946185231, 0.02118314988911152, 0.038514818996191025, 0.0019257409730926156, 0.032737597823143005, 0.8634129166603088, 0.09593477100133896, 0.01284857653081417, 0.01284857653081417, 0.9636431932449341, 0.3627721071243286, 0.06192903220653534, 0.4910311996936798, 0.008487734943628311, 0.008487734943628311, 0.02577756717801094, 0.0025148845743387938, 0.0009430816862732172, 0.0025148845743387938, 0.01728983037173748, 0.013517504557967186, 0.0050297691486775875, 0.9379698634147644, 0.06804675608873367, 0.8846077919006348, 0.022682251408696175, 0.9110717177391052, 0.9545974731445312, 0.6206578612327576, 0.08770165592432022, 0.006746281404048204, 0.006746281404048204, 0.006746281404048204, 0.17540331184864044, 0.053970251232385635, 0.0404776856303215, 0.06440789252519608, 0.19322368502616882, 0.027603384107351303, 0.4876597821712494, 0.18402256071567535, 0.027603384107351303, 0.23548193275928497, 0.7358810901641846, 0.0544506274163723, 0.2790594696998596, 0.013612656854093075, 0.013612656854093075, 0.006806328427046537, 0.5785379409790039, 0.020418984815478325, 0.034031640738248825, 0.9627854824066162, 0.9475128054618835, 0.23060177266597748, 0.015373450703918934, 0.73792564868927, 0.7502509951591492, 0.05833011865615845, 0.8879140019416809, 0.012962248176336288, 0.019443372264504433, 0.012962248176336288, 0.8701222538948059, 0.10304079204797745, 0.011448977515101433, 0.011448977515101433, 0.42498844861984253, 0.5577973127365112, 0.14443202316761017, 0.012292087078094482, 0.018438130617141724, 0.23047663271427155, 0.48861047625541687, 0.021511152386665344, 0.04609532654285431, 0.03687626123428345, 0.027012208476662636, 0.06233586370944977, 0.0020778621546924114, 0.24103200435638428, 0.5568670630455017, 0.05194655433297157, 0.02077862061560154, 0.03947937861084938, 0.008716681972146034, 0.10895852744579315, 0.056658435612916946, 0.20048369467258453, 0.5055675506591797, 0.056658435612916946, 0.01743336394429207, 0.03486672788858414, 0.8291600942611694, 0.8816908597946167, 0.9612730741500854, 0.8846772313117981, 0.9513789415359497, 0.03517336770892143, 0.0058622281067073345, 0.9320942759513855, 0.017586683854460716, 0.0058622281067073345, 0.0058622281067073345, 0.9732183218002319, 0.01172552164644003, 0.9514413475990295, 0.14864468574523926, 0.405394583940506, 0.013513152487576008, 0.43242087960243225, 0.16065770387649536, 0.803288459777832, 0.9092655181884766, 0.8327704668045044, 0.8543316721916199, 0.8986860513687134, 0.014476868323981762, 0.6514590382575989, 0.17372241616249084, 0.06514590978622437, 0.05066903680562973, 0.007238434161990881, 0.007238434161990881, 0.021715302020311356, 0.968178927898407, 0.8621967434883118, 0.26048851013183594, 0.7163434028625488, 0.014596470631659031, 0.029192941263318062, 0.5692623257637024, 0.35031530261039734, 0.029192941263318062, 0.2342085838317871, 0.013011587783694267, 0.7156373262405396, 0.013011587783694267, 0.013011587783694267, 0.9758697748184204, 0.1706111878156662, 0.010035952553153038, 0.15053929388523102, 0.662372887134552, 0.24901558458805084, 0.04527556151151657, 0.022637780755758286, 0.6564956307411194, 0.022637780755758286, 0.262702077627182, 0.04147927835583687, 0.08295855671167374, 0.6221891641616821, 0.03687361627817154, 0.049164820462465286, 0.8726755976676941, 0.03687361627817154, 0.024739664047956467, 0.3628484010696411, 0.008246554993093014, 0.008246554993093014, 0.04947932809591293, 0.008246554993093014, 0.5360260605812073, 0.961506187915802, 0.9576374292373657, 0.9358507990837097, 0.7635858654975891, 0.04713492840528488, 0.0282809566706419, 0.009426985867321491, 0.14140479266643524, 0.8533467054367065, 0.16088822484016418, 0.6895209550857544, 0.022984031587839127, 0.011492015793919563, 0.011492015793919563, 0.10342814028263092, 0.9609828591346741, 0.030999446287751198, 0.2572858929634094, 0.6961853504180908, 0.04540339484810829, 0.9487103223800659, 0.8659791350364685, 0.06155018508434296, 0.9232528209686279, 0.898374617099762, 0.05921448767185211, 0.2049732357263565, 0.004554960876703262, 0.07743433117866516, 0.2414129227399826, 0.1594236195087433, 0.1594236195087433, 0.0728793740272522, 0.01821984350681305, 0.7316250801086426, 0.22974497079849243, 0.7351838946342468, 0.04620775207877159, 0.2618439495563507, 0.32858845591545105, 0.1026838943362236, 0.16429422795772552, 0.0256709735840559, 0.0256709735840559, 0.03593936562538147, 0.07499263435602188, 0.07499263435602188, 0.04499557986855507, 0.8099204301834106, 0.2145775556564331, 0.23877012729644775, 0.03365922346711159, 0.09466657042503357, 0.25875529646873474, 0.05679994076490402, 0.010518508031964302, 0.0347110740840435, 0.04628143459558487, 0.0010518507333472371, 0.010518508031964302, 0.02388092130422592, 0.02388092130422592, 0.04776184260845184, 0.04776184260845184, 0.8119513392448425, 0.8080831170082092, 0.03298298642039299, 0.016491493210196495, 0.13193194568157196, 0.8738211989402771, 0.25641196966171265, 0.025641195476055145, 0.666671097278595, 0.10764185339212418, 0.003986735362559557, 0.007973470725119114, 0.003986735362559557, 0.003986735362559557, 0.11162859201431274, 0.7415327429771423, 0.007973470725119114, 0.003986735362559557, 0.003986735362559557, 0.9732942581176758, 0.9555359482765198, 0.012095391750335693, 0.012095391750335693, 0.01814308762550354, 0.3062717318534851, 0.013921443372964859, 0.6403864026069641, 0.027842886745929718, 0.14498545229434967, 0.8336663246154785, 0.020273413509130478, 0.0720832496881485, 0.013515609316527843, 0.013515609316527843, 0.02928381972014904, 0.020273413509130478, 0.817694365978241, 0.0022526015527546406, 0.0022526015527546406, 0.006757804658263922, 0.0022526015527546406, 0.9201701879501343, 0.06146707013249397, 0.8605390191078186, 0.030733535066246986, 0.9330899715423584, 0.12958958745002747, 0.13510403037071228, 0.36119648814201355, 0.09098842740058899, 0.08547397702932358, 0.055144503712654114, 0.016543351113796234, 0.06341617554426193, 0.008271675556898117, 0.055144503712654114, 0.8919941186904907, 0.8902570605278015, 0.10473612695932388, 0.03770586848258972, 0.867235004901886, 0.03770586848258972, 0.04762252792716026, 0.5417062640190125, 0.01785844936966896, 0.3869330585002899, 0.01810707524418831, 0.01810707524418831, 0.1810707449913025, 0.7061759233474731, 0.01810707524418831, 0.03621415048837662, 0.922386109828949, 0.11955609172582626, 0.8368926048278809, 0.05375935509800911, 0.02239973098039627, 0.008959892205893993, 0.16127806901931763, 0.45247456431388855, 0.2911964952945709, 0.004479946102946997, 0.004479946102946997, 0.9766367673873901, 0.9840347766876221, 0.06634971499443054, 0.9288960099220276, 0.04637056216597557, 0.018548225983977318, 0.2411269247531891, 0.009274112991988659, 0.018548225983977318, 0.055644676089286804, 0.027822338044643402, 0.528624415397644, 0.018548225983977318, 0.027822338044643402, 0.7946734428405762, 0.04567088559269905, 0.10961012542247772, 0.00913417711853981, 0.00913417711853981, 0.02740253135561943, 0.00913417711853981, 0.9665313959121704, 0.956484854221344, 0.8147531747817993, 0.16421620547771454, 0.08601801842451096, 0.007819819264113903, 0.19940540194511414, 0.09774774312973022, 0.0039099096320569515, 0.430090069770813, 0.0039099096320569515, 0.0039099096320569515, 0.8623058795928955, 0.9121868014335632, 0.9825459718704224, 0.10924417525529861, 0.8739534020423889, 0.9308900237083435, 0.19589342176914215, 0.057135581970214844, 0.7264381051063538, 0.008162225596606731, 0.1107260063290596, 0.1599375605583191, 0.020504815503954887, 0.024605778977274895, 0.04511059448122978, 0.00410096300765872, 0.4839136600494385, 0.01640385203063488, 0.07381733506917953, 0.06151444837450981, 0.9371675252914429, 0.02928648516535759, 0.9800395965576172, 0.9219827055931091, 0.9503582715988159, 0.9029561877250671, 0.13424766063690186, 0.4698667824268341, 0.3758934438228607, 0.8305158615112305, 0.10832814872264862, 0.14854922890663147, 0.22340868413448334, 0.04678715765476227, 0.06784138083457947, 0.0011696789879351854, 0.0058483947068452835, 0.007018073927611113, 0.45383545756340027, 0.030411653220653534, 0.008187753148376942, 0.008187753148376942, 0.9365459680557251, 0.02999616041779518, 0.05999232083559036, 0.8398924469947815, 0.24594378471374512, 0.7132369875907898, 0.024594377726316452, 0.7369281053543091, 0.025857126340270042, 0.12928563356399536, 0.025857126340270042, 0.06464281678199768, 0.7177542448043823, 0.754222571849823, 0.09427782148122787, 0.06599447131156921, 0.03771112859249115, 0.018855564296245575, 0.009427782148122787, 0.009427782148122787, 0.9159135818481445, 0.054497502744197845, 0.9264575839042664, 0.8866474628448486, 0.05910982936620712, 0.930327296257019, 0.9660298824310303, 0.9504297971725464, 0.9063338041305542, 0.4945424199104309, 0.10651683062314987, 0.3575921952724457, 0.007608344778418541, 0.007608344778418541, 0.015216689556837082, 0.9193724393844604, 0.044122274965047836, 0.008824454620480537, 0.008824454620480537, 0.008824454620480537, 0.008824454620480537, 0.8824454545974731, 0.026473363861441612, 0.05034865066409111, 0.8811013698577881, 0.05034865066409111, 0.8877676129341125, 0.7316907644271851, 0.25151869654655457, 0.9575463533401489, 0.016600562259554863, 0.033201124519109726, 0.07470252364873886, 0.15770533680915833, 0.008300281129777431, 0.008300281129777431, 0.6806230545043945, 0.016600562259554863, 0.35256704688072205, 0.3065800368785858, 0.005109667312353849, 0.005109667312353849, 0.28614136576652527, 0.030658002942800522, 0.010219334624707699, 0.005109667312353849, 0.9113448858261108, 0.9699411988258362, 0.9766150712966919, 0.03510982170701027, 0.5705346465110779, 0.03510982170701027, 0.05266473442316055, 0.28087857365608215, 0.008777455426752567, 0.017554910853505135, 0.9095585942268372, 0.9449685215950012, 0.8914386034011841, 0.8674200177192688, 0.04806581139564514, 0.11749421060085297, 0.010681292042136192, 0.5394052267074585, 0.016021937131881714, 0.005340646021068096, 0.22964777052402496, 0.010681292042136192, 0.021362584084272385, 0.3766871690750122, 0.5650307536125183, 0.031968727707862854, 0.031968727707862854, 0.4795309007167816, 0.031968727707862854, 0.4155934453010559, 0.924266517162323, 0.08205584436655045, 0.05128490552306175, 0.02051396109163761, 0.5025920867919922, 0.31796640157699585, 0.010256980545818806, 0.010256980545818806, 0.937778115272522, 0.04560912773013115, 0.04560912773013115, 0.8665733933448792, 0.9748244285583496, 0.9243733882904053, 0.9957486987113953, 0.003908579237759113, 0.015634316951036453, 0.246240496635437, 0.003908579237759113, 0.019542895257472992, 0.7074528336524963, 0.975395143032074, 0.0111990412697196, 0.43676260113716125, 0.14558753371238708, 0.0447961650788784, 0.3583693206310272, 0.004505558870732784, 0.08560562133789062, 0.15318900346755981, 0.018022235482931137, 0.009011117741465569, 0.036044470965862274, 0.6938560605049133, 0.061814505606889725, 0.05494622886180878, 0.006868278607726097, 0.02060483582317829, 0.7417740821838379, 0.013736557215452194, 0.08928761631250381, 0.013736557215452194, 0.05483431741595268, 0.02741715870797634, 0.9047662019729614, 0.9563503861427307, 0.027324296534061432, 0.024204028770327568, 0.07261208444833755, 0.8713449835777283, 0.02349420264363289, 0.007831400260329247, 0.007831400260329247, 0.8849482536315918, 0.015662800520658493, 0.02349420264363289, 0.015662800520658493, 0.5906171202659607, 0.07382714003324509, 0.31376534700393677, 0.020025750622153282, 0.02503218874335289, 0.015019312500953674, 0.9011587500572205, 0.015019312500953674, 0.020025750622153282, 0.0050064376555383205, 0.054047808051109314, 0.06418177485466003, 0.47122931480407715, 0.04222485050559044, 0.05235881358385086, 0.12836354970932007, 0.09627265483140945, 0.020267928019165993, 0.0692487508058548, 0.001688994001597166, 0.033559542149305344, 0.822208821773529, 0.016779771074652672, 0.11745840311050415, 0.9080435633659363, 0.5577765107154846, 0.43382617831230164, 0.9679942727088928, 0.9352269768714905, 0.032716549932956696, 0.9487800002098083, 0.21757902204990387, 0.05439475551247597, 0.6527370810508728, 0.027197377756237984, 0.06589116901159286, 0.010627607814967632, 0.0297573022544384, 0.5016230940818787, 0.3677152395248413, 0.002125521656125784, 0.002125521656125784, 0.002125521656125784, 0.0148786511272192, 0.9264466762542725, 0.20286720991134644, 0.06604978442192078, 0.028307052329182625, 0.004717841744422913, 0.39158087968826294, 0.004717841744422913, 0.01887136697769165, 0.27363482117652893, 0.9695488810539246, 0.9635061621665955, 0.9150436520576477, 0.9819112420082092, 0.9504019618034363, 0.23687566816806793, 0.31132230162620544, 0.006767876446247101, 0.05414301156997681, 0.040607258677482605, 0.35192957520484924, 0.935574471950531, 0.04455116391181946, 0.8494882583618164, 0.20832914113998413, 0.10416457056999207, 0.08333165943622589, 0.5208228826522827, 0.041665829718112946, 0.020832914859056473, 0.9561916589736938, 0.9308761358261108, 0.8981143832206726, 0.918314516544342, 0.7750279903411865, 0.17985861003398895, 0.0743509978055954, 0.014162094332277775, 0.12887506186962128, 0.03469713404774666, 0.5261217951774597, 0.01345399022102356, 0.002124314196407795, 0.005664838012307882, 0.002124314196407795, 0.01628640852868557, 0.002124314196407795, 0.013463196344673634, 0.9424237608909607, 0.013463196344673634, 0.013463196344673634, 0.013463196344673634, 0.9809733629226685, 0.8860743641853333, 0.051725924015045166, 0.025862962007522583, 0.006465740501880646, 0.48493051528930664, 0.006465740501880646, 0.4202731251716614, 0.9742494821548462, 0.9237351417541504, 0.0751921609044075, 0.012532026506960392, 0.12532027065753937, 0.4260888993740082, 0.3133006691932678, 0.03759608045220375, 0.034108858555555344, 0.8527215123176575, 0.034108858555555344, 0.034108858555555344, 0.9624297618865967, 0.03772542253136635, 0.9431355595588684, 0.05451187491416931, 0.716441810131073, 0.015574822202324867, 0.19468526542186737, 0.007787411101162434, 0.9620235562324524, 0.03552553430199623, 0.29308566451072693, 0.06216968595981598, 0.044406916946172714, 0.008881383575499058, 0.5417643785476685, 0.9539902806282043, 0.10587339103221893, 0.23292146623134613, 0.6564150452613831, 0.08966633677482605, 0.8518301844596863, 0.17361846566200256, 0.04340461641550064, 0.7378784418106079, 0.769789457321167, 0.049986328929662704, 0.059983592480421066, 0.06998085975646973, 0.009997265413403511, 0.029991796240210533, 0.8998711109161377, 0.9137852787971497, 0.9063920974731445, 0.9054888486862183, 0.03523353859782219, 0.9513055682182312, 0.9509484171867371, 0.07431415468454361, 0.33441370725631714, 0.03824993222951889, 0.056828469038009644, 0.01202140748500824, 0.02622852474451065, 0.07431415468454361, 0.05573561415076256, 0.025135669857263565, 0.0076499865390360355, 0.013114262372255325, 0.28086379170417786, 0.8677892684936523, 0.3742065727710724, 0.022012149915099144, 0.5943280458450317, 0.8158570528030396, 0.24588657915592194, 0.014463916420936584, 0.20249482989311218, 0.005785566754639149, 0.5033442974090576, 0.008678349666297436, 0.008678349666297436, 0.0028927833773195744, 0.0028927833773195744, 0.008678349666297436, 0.45191437005996704, 0.07328341156244278, 0.37863096594810486, 0.048855606466531754, 0.006106950808316469, 0.018320852890610695, 0.024427803233265877, 0.9398320913314819, 0.04474254697561264, 0.8501083850860596, 0.04474254697561264, 0.037318624556064606, 0.8956469893455505, 0.037318624556064606, 0.9107680916786194, 0.9100931286811829, 0.047715842723846436, 0.9066010117530823, 0.6324183940887451, 0.013455711305141449, 0.06727855652570724, 0.0067278556525707245, 0.013455711305141449, 0.04036713391542435, 0.0067278556525707245, 0.013455711305141449, 0.053822845220565796, 0.0067278556525707245, 0.15474067628383636, 0.9501543641090393, 0.18673337996006012, 0.2308703511953354, 0.006790304556488991, 0.14599154889583588, 0.16975761950016022, 0.15617699921131134, 0.006790304556488991, 0.013580609112977982, 0.07808849960565567, 0.0033951522782444954, 0.03252237290143967, 0.9431487917900085, 0.9704932570457458, 0.712184488773346, 0.09553694725036621, 0.15633317828178406, 0.017370354384183884, 0.008685177192091942, 0.859525203704834, 0.07813865691423416, 0.03948443755507469, 0.9081420302391052, 0.9408429861068726, 0.8467769622802734, 0.5938286781311035, 0.042853616178035736, 0.024487780407071114, 0.2632436454296112, 0.006121945101767778, 0.036731671541929245, 0.030609726905822754, 0.9448354244232178, 0.041992686688899994, 0.9190634489059448, 0.9371870160102844, 0.957302451133728, 0.8997147083282471, 0.022766049951314926, 0.9334080219268799, 0.6496466994285583, 0.07119415700435638, 0.008899269625544548, 0.03559707850217819, 0.09789197146892548, 0.11569050699472427, 0.008899269625544548, 0.8418021202087402, 0.9064054489135742, 0.9557710289955139, 0.056239981204271317, 0.927959680557251, 0.009373330511152744, 0.935390293598175, 0.8351716995239258, 0.7312281131744385, 0.23078449070453644, 0.025642720982432365, 0.3589980900287628, 0.3589980900287628, 0.8300334811210632, 0.9099137783050537, 0.9311513304710388, 0.9829468131065369, 0.9144037961959839, 0.9311208724975586, 0.1504955291748047, 0.09029731154441833, 0.030099105089902878, 0.7123454809188843, 0.010033034719526768, 0.943106472492218, 0.9262396097183228, 0.8765401840209961, 0.07968547195196152, 0.0033282539807260036, 0.012647365219891071, 0.0033282539807260036, 0.005990857258439064, 0.005990857258439064, 0.005990857258439064, 0.0006656508194282651, 0.005990857258439064, 0.9452241659164429, 0.00465955538675189, 0.006656507961452007, 0.0006656508194282651, 0.6054743528366089, 0.1276111900806427, 0.1086052656173706, 0.03258157894015312, 0.035296712070703506, 0.002715131500735879, 0.02172105200588703, 0.06516315788030624, 0.006759628653526306, 0.37177959084510803, 0.547529935836792, 0.006759628653526306, 0.027038514614105225, 0.027038514614105225, 0.009980997070670128, 0.05988598242402077, 0.2362169325351715, 0.08816547691822052, 0.0016634995117783546, 0.006653998047113419, 0.0033269990235567093, 0.018298495560884476, 0.5672533512115479, 0.006653998047113419, 0.0016634995117783546, 0.13843193650245667, 0.0942942202091217, 0.010031299665570259, 0.28689518570899963, 0.11435682326555252, 0.040125198662281036, 0.04413772001862526, 0.25880753993988037, 0.004012519959360361, 0.0020062599796801805, 0.008025039918720722, 0.8895491361618042, 0.8917426466941833, 0.02384432777762413, 0.9537731409072876, 0.9550411701202393, 0.04590100795030594, 0.08262181282043457, 0.8445785641670227, 0.018360402435064316, 0.009180201217532158, 0.9628844261169434, 0.10711278021335602, 0.36724382638931274, 0.030603652819991112, 0.06503275781869888, 0.003825456602498889, 0.011476369574666023, 0.003825456602498889, 0.4093238413333893, 0.019225280731916428, 0.038450561463832855, 0.019225280731916428, 0.038450561463832855, 0.6152089834213257, 0.24992863833904266, 0.9280880093574524, 0.1774147003889084, 0.798366129398346, 0.0344076082110405, 0.018924184143543243, 0.003440760774537921, 0.07225597649812698, 0.003440760774537921, 0.8464271426200867, 0.003440760774537921, 0.006881521549075842, 0.003440760774537921, 0.008601902052760124, 0.903872013092041, 0.9817407727241516, 0.15480542182922363, 0.1393248736858368, 0.18576650321483612, 0.061922166496515274, 0.4334551692008972, 0.8833171129226685, 0.1525942087173462, 0.27600371837615967, 0.025015443563461304, 0.08588635921478271, 0.005836937110871077, 0.025015443563461304, 0.012507721781730652, 0.07504633069038391, 0.022513899952173233, 0.0016676962841302156, 0.06337245553731918, 0.2551575303077698, 0.14984869956970215, 0.017629258334636688, 0.2027364820241928, 0.05288777872920036, 0.5376924276351929, 0.02644388936460018, 0.008814629167318344, 0.024753084406256676, 0.5033127069473267, 0.008251028135418892, 0.44555553793907166, 0.008251028135418892, 0.013012368232011795, 0.9629152417182922, 0.9236357808113098, 0.07104890793561935, 0.029161768034100533, 0.00972058903425932, 0.00972058903425932, 0.9526177644729614, 0.9643774032592773, 0.4017958343029022, 0.07305378466844559, 0.05479034036397934, 0.45658618211746216, 0.9303730130195618, 0.9208794832229614, 0.06189747899770737, 0.6105342507362366, 0.045016348361968994, 0.02532169595360756, 0.04220282658934593, 0.09847326576709747, 0.02813521772623062, 0.005627043545246124, 0.002813521772623062, 0.07315156608819962, 0.002813521772623062, 0.021419169381260872, 0.9638625979423523, 0.021419169381260872, 0.9133424162864685, 0.016606224700808525, 0.049818675965070724, 0.9323980212211609, 0.9358373284339905, 0.10447968542575836, 0.8619574308395386, 0.02611992135643959, 0.9616277813911438, 0.8574312925338745, 0.9169632792472839, 0.9486273527145386, 0.8472176790237427, 0.1255137324333191, 0.903207004070282, 0.07225655764341354, 0.08185841143131256, 0.8595133423805237, 0.04092920571565628, 0.9233891367912292, 0.7975828647613525, 0.031725071370601654, 0.9517521262168884, 0.8540307283401489, 0.903002917766571, 0.962792158126831, 0.04379696026444435, 0.9197362065315247, 0.5514069199562073, 0.021718434989452362, 0.170127734541893, 0.022925015538930893, 0.055502668023109436, 0.03619739040732384, 0.007239478174597025, 0.04826318845152855, 0.027751334011554718, 0.027751334011554718, 0.026544753462076187, 0.006032898556441069, 0.9389790296554565, 0.974151074886322, 0.4924827218055725, 0.17441797256469727, 0.008483643643558025, 0.08641813695430756, 0.08152925968170166, 0.01567317359149456, 0.045294031500816345, 0.07505868375301361, 0.0008627434726804495, 0.00359476450830698, 0.0031633926555514336, 0.01308494247496128, 0.9389728307723999, 0.15981926023960114, 0.037291161715984344, 0.23440159857273102, 0.005327309016138315, 0.06392771005630493, 0.46880319714546204, 0.02130923606455326, 0.9461367130279541, 0.9387129545211792, 0.9554929137229919, 0.0377168245613575, 0.797700047492981, 0.17647671699523926, 0.005692797247320414, 0.7115996479988098, 0.06831356883049011, 0.011385594494640827, 0.005692797247320414, 0.011385594494640827, 0.005692797247320414, 0.023487413302063942, 0.26619067788124084, 0.031316548585891724, 0.6576475501060486, 0.015658274292945862, 0.9527075886726379, 0.14848442375659943, 0.8166643381118774, 0.962328314781189, 0.035282496362924576, 0.9526273608207703, 0.21808284521102905, 0.17654326558113098, 0.010384897701442242, 0.14538857340812683, 0.010384897701442242, 0.1505810171365738, 0.28039222955703735, 0.014162855222821236, 0.21244283020496368, 0.042488567531108856, 0.014162855222821236, 0.014162855222821236, 0.6514913439750671, 0.042488567531108856, 0.017086680978536606, 0.017086680978536606, 0.03417336195707321, 0.05126004293560982, 0.8201606869697571, 0.03417336195707321, 0.04766285419464111, 0.009532570838928223, 0.8198010921478271, 0.09532570838928223, 0.009532570838928223, 0.838336169719696, 0.886965274810791, 0.7005659341812134, 0.1612352430820465, 0.19055074453353882, 0.549665629863739, 0.00732887489721179, 0.00732887489721179, 0.08061762154102325, 0.9709281921386719, 0.8147040009498596, 0.11476437747478485, 0.019673893228173256, 0.0065579647198319435, 0.018580898642539978, 0.010929941199719906, 0.008743952959775925, 0.7978857159614563, 0.01748790591955185, 0.002185988239943981, 0.02879098430275917, 0.13479414582252502, 0.3088487386703491, 0.08179257065057755, 0.08506426960229874, 0.1518070101737976, 0.07001443952322006, 0.0379517525434494, 0.07721218466758728, 0.0013086810940876603, 0.014395492151379585, 0.007197746075689793, 0.8961005210876465, 0.9116517901420593, 0.6265184283256531, 0.11933684349060059, 0.029834210872650146, 0.17900526523590088, 0.1584397554397583, 0.8374672532081604, 0.7105184197425842, 0.11030879616737366, 0.05191002041101456, 0.01297750510275364, 0.009733129292726517, 0.00324437627568841, 0.022710634395480156, 0.035688139498233795, 0.04542126879096031, 0.04957165569067001, 0.016818953678011894, 0.09737288951873779, 0.0035408325493335724, 0.01903197355568409, 0.013720725663006306, 0.016818953678011894, 0.04027697071433067, 0.038949158042669296, 0.6962161660194397, 0.003983436618000269, 0.003983436618000269, 0.9707022905349731, 0.9499058723449707, 0.9265737533569336, 0.14605027437210083, 0.021907541900873184, 0.0949326753616333, 0.14605027437210083, 0.1314452439546585, 0.44545334577560425, 0.007302513811737299, 0.14797592163085938, 0.024423209950327873, 0.6723566055297852, 0.009338285773992538, 0.041663121432065964, 0.06105802580714226, 0.00430997833609581, 0.0035916485358029604, 0.007901626639068127, 0.0007183296838775277, 0.009338285773992538, 0.01795824244618416, 0.12433873116970062, 0.7957679033279419, 0.012433873489499092, 0.06216936558485031, 0.9626569151878357, 0.21681594848632812, 0.38649800419807434, 0.11312136799097061, 0.028280341997742653, 0.009426780045032501, 0.042420510202646255, 0.032993730157613754, 0.023566950112581253, 0.14140170812606812, 0.12146512418985367, 0.016948621720075607, 0.005649540573358536, 0.005649540573358536, 0.02824770286679268, 0.002824770286679268, 0.8163586258888245, 0.002824770286679268, 0.09857431799173355, 0.01971486397087574, 0.8674539923667908, 0.96568363904953, 0.01788303069770336, 0.01788303069770336, 0.4703739285469055, 0.03618260845541954, 0.48846521973609924, 0.04696035757660866, 0.9157269597053528, 0.9265624284744263, 0.8656758666038513, 0.96461021900177, 0.016349326819181442, 0.10305660963058472, 0.8391752243041992, 0.029444744810461998, 0.28424596786499023, 0.03553074598312378, 0.22206716239452362, 0.34642478823661804, 0.062178805470466614, 0.05329611897468567, 0.9690938591957092, 0.014395006000995636, 0.20632842183113098, 0.10076504200696945, 0.1775384098291397, 0.0911683738231659, 0.04318501800298691, 0.34548014402389526, 0.014395006000995636, 0.9739807844161987, 0.016792772337794304, 0.1996665745973587, 0.13823071122169495, 0.015358967706561089, 0.18430760502815247, 0.4300510883331299, 0.015358967706561089, 0.22193077206611633, 0.6657922863960266, 0.04035104811191559, 0.04035104811191559, 0.9578812718391418, 0.9734506607055664, 0.020294159650802612, 0.005073539912700653, 0.005073539912700653, 0.9284577965736389, 0.03044123947620392, 0.005073539912700653, 0.3358423411846161, 0.010661661624908447, 0.021323323249816895, 0.1599249243736267, 0.4211356043815613, 0.010661661624908447, 0.01599249243736267, 0.01599249243736267, 0.7093203067779541, 0.9639954566955566, 0.9547604322433472, 0.9528256058692932, 0.8749550580978394, 0.9380010366439819, 0.9512085318565369, 0.9154441952705383, 0.06102961301803589, 0.9040378332138062, 0.020682498812675476, 0.04136499762535095, 0.910029947757721, 0.8781704902648926, 0.9488723874092102, 0.0277839507907629, 0.0277839507907629, 0.8890864253044128, 0.0277839507907629, 0.11222842335700989, 0.4696328043937683, 0.018992502242326736, 0.10877524316310883, 0.04143818840384483, 0.005179773550480604, 0.10877524316310883, 0.0017265911446884274, 0.03453182429075241, 0.010359547100961208, 0.07079023867845535, 0.01381272915750742, 0.28562426567077637, 0.05193168297410011, 0.05193168297410011, 0.5712485313415527, 0.8406085968017578, 0.06262162327766418, 0.8767026662826538, 0.3181673288345337, 0.0151508254930377, 0.6211838126182556, 0.0151508254930377, 0.0151508254930377, 0.026741400361061096, 0.9626904129981995, 0.4681489169597626, 0.08623795956373215, 0.06775839626789093, 0.10471752285957336, 0.12319707870483398, 0.006159854121506214, 0.018479561433196068, 0.12319707870483398, 0.9091838002204895, 0.08522848784923553, 0.08522848784923553, 0.809670627117157, 0.03216622769832611, 0.6149425506591797, 0.001892130938358605, 0.001892130938358605, 0.07190097868442535, 0.21002653241157532, 0.001892130938358605, 0.06244032084941864, 0.001892130938358605, 0.9841821789741516, 0.8406660556793213, 0.0240190289914608, 0.1200951486825943, 0.3639165461063385, 0.5718688368797302, 0.05198807641863823, 0.8718942403793335, 0.9120897650718689, 0.9062039256095886, 0.05610096827149391, 0.1870032250881195, 0.6171106696128845, 0.00935016106814146, 0.00935016106814146, 0.04675080627202988, 0.06545113027095795, 0.04654264450073242, 0.1117023453116417, 0.009308529086411, 0.7539908289909363, 0.05585117265582085, 0.018617058172822, 0.2408292591571808, 0.03490279242396355, 0.013961116783320904, 0.28620287775993347, 0.40138208866119385, 0.013961116783320904, 0.003490279195830226, 0.03866821154952049, 0.9280370473861694, 0.3020551800727844, 0.654452919960022, 0.8788474798202515, 0.01084996946156025, 0.0216999389231205, 0.01084996946156025, 0.01084996946156025, 0.0650998130440712, 0.9479557871818542, 0.05338096618652344, 0.00667262077331543, 0.00667262077331543, 0.9274942874908447, 0.861319363117218, 0.05778363347053528, 0.17335090041160583, 0.7511872053146362, 0.9191854596138, 0.11802148818969727, 0.26695337891578674, 0.08711110055446625, 0.3877848982810974, 0.05339067429304123, 0.03372042626142502, 0.002810035366564989, 0.030910389497876167, 0.014050177298486233, 0.005620070733129978, 0.7893052101135254, 0.017938755452632904, 0.05381626635789871, 0.10763253271579742, 0.06992588937282562, 0.2432204931974411, 0.5381253361701965, 0.060805123299360275, 0.006080512423068285, 0.02432204969227314, 0.030402561649680138, 0.0030402562115341425, 0.02128179371356964, 0.19553761184215546, 0.7821504473686218, 0.05413130670785904, 0.19487270712852478, 0.16239392757415771, 0.10555604845285416, 0.010826261714100838, 0.01353282667696476, 0.34914693236351013, 0.06766413152217865, 0.04059848189353943, 0.23630377650260925, 0.13661311566829681, 0.3692246377468109, 0.08492166548967361, 0.029537972062826157, 0.007384493015706539, 0.014768986031413078, 0.0036922465078532696, 0.033230219036340714, 0.0516914501786232, 0.007384493015706539, 0.022153478115797043, 0.9143954515457153, 0.07710780203342438, 0.8995909690856934, 0.012098009698092937, 0.41133230924606323, 0.03629402816295624, 0.012098009698092937, 0.526263415813446, 0.872313916683197, 0.10549221932888031, 0.7501668930053711, 0.04102475196123123, 0.07032814621925354, 0.005860678851604462, 0.011721357703208923, 0.011721357703208923, 0.005860678851604462, 0.9535545110702515, 0.01856611855328083, 0.07426447421312332, 0.01856611855328083, 0.8354753255844116, 0.01856611855328083, 0.01997195929288864, 0.01997195929288864, 0.9386821389198303, 0.9739716649055481, 0.022390153259038925, 0.018548492342233658, 0.0046371230855584145, 0.0046371230855584145, 0.009274246171116829, 0.051008354872465134, 0.9088761806488037, 0.017075255513191223, 0.20490305125713348, 0.3016628324985504, 0.00569175137206912, 0.04553401097655296, 0.05691751465201378, 0.2959710955619812, 0.05691751465201378, 0.02276700548827648, 0.8971758484840393, 0.9531380534172058, 0.010733705013990402, 0.026834262534976006, 0.3703128397464752, 0.010733705013990402, 0.04830167442560196, 0.09123649448156357, 0.440081924200058, 0.9400424957275391, 0.9444504380226135, 0.09889373928308487, 0.016482289880514145, 0.8570790886878967, 0.016482289880514145, 0.7883439660072327, 0.9397301077842712, 0.733705461025238, 0.9543879628181458, 0.7334646582603455, 0.07260916382074356, 0.09681221097707748, 0.798700749874115, 0.7692742347717285, 0.9491992592811584, 0.0913476049900055, 0.02740428037941456, 0.00913476012647152, 0.03653904050588608, 0.22836901247501373, 0.57548987865448, 0.03653904050588608, 0.9289043545722961, 0.9594459533691406, 0.26026394963264465, 0.39488324522972107, 0.16603045165538788, 0.03589847683906555, 0.049360405653715134, 0.017949238419532776, 0.008974619209766388, 0.004487309604883194, 0.017949238419532776, 0.004487309604883194, 0.04487309604883194, 0.05547953024506569, 0.8321929574012756, 0.9243152737617493, 0.15999257564544678, 0.06999675184488297, 0.15999257564544678, 0.30998560786247253, 0.21998979151248932, 0.06999675184488297, 0.14891070127487183, 0.14063788950443268, 0.008272817358374596, 0.354697048664093, 0.11064893007278442, 0.05997792258858681, 0.02275024726986885, 0.010341021232306957, 0.046534597873687744, 0.038261778652668, 0.05894382297992706, 0.0010341021697968245, 0.1391306072473526, 0.19478285312652588, 0.01391306146979332, 0.6260877251625061, 0.9596937298774719, 0.9542668461799622, 0.8302145004272461, 0.9695630669593811, 0.247750923037529, 0.01905776374042034, 0.03811552748084068, 0.00952888187021017, 0.028586646541953087, 0.5907906889915466, 0.00952888187021017, 0.03811552748084068, 0.865284264087677, 0.9675490260124207, 0.916626513004303, 0.9384055733680725, 0.042091481387615204, 0.07482929527759552, 0.6126648783683777, 0.19642691314220428, 0.00467683095484972, 0.014030493795871735, 0.042091481387615204, 0.00935366190969944, 0.867159903049469, 0.01647290401160717, 0.1482561230659485, 0.01647290401160717, 0.4118225872516632, 0.01647290401160717, 0.36240386962890625, 0.0311519056558609, 0.3011350929737091, 0.6126541495323181, 0.0415358766913414, 0.01038396917283535, 0.03238216042518616, 0.372394859790802, 0.06476432085037231, 0.4302201569080353, 0.0416342094540596, 0.00925204623490572, 0.025443127378821373, 0.00231301155872643, 0.011565057560801506, 0.00231301155872643, 0.00231301155872643, 0.0069390349090099335, 0.9761770963668823, 0.11614909023046494, 0.8130436539649963, 0.46847084164619446, 0.02755710855126381, 0.013778554275631905, 0.1745283603668213, 0.2755710780620575, 0.009185703471302986, 0.004592851735651493, 0.013778554275631905, 0.013778554275631905, 0.9754465818405151, 0.31095796823501587, 0.10365265607833862, 0.04146106168627739, 0.031095795333385468, 0.269496887922287, 0.006910176947712898, 0.06564667820930481, 0.10365265607833862, 0.062191590666770935, 0.003455088473856449, 0.20025323331356049, 0.7043389678001404, 0.020715851336717606, 0.013810568489134312, 0.013810568489134312, 0.03452641889452934, 0.006905284244567156, 0.06101497262716293, 0.06101497262716293, 0.7626871466636658, 0.06101497262716293, 0.013029869645833969, 0.03908960893750191, 0.0694926381111145, 0.004343289881944656, 0.8686579465866089, 0.011261808685958385, 0.09009446948766708, 0.06757085025310516, 0.011261808685958385, 0.7770648002624512, 0.03378542512655258, 0.011261808685958385, 0.23694157600402832, 0.052653685212135315, 0.026326842606067657, 0.026326842606067657, 0.6318442225456238, 0.9324411749839783, 0.09596984833478928, 0.27956435084342957, 0.008345204405486584, 0.008345204405486584, 0.5966821312904358, 0.004172602202743292, 0.004172602202743292, 0.053078390657901764, 0.902332603931427, 0.05057266354560852, 0.9103079438209534, 0.899031400680542, 0.009862293489277363, 0.05917375907301903, 0.7298097014427185, 0.009862293489277363, 0.18738357722759247, 0.04756290465593338, 0.2649933099746704, 0.013589400798082352, 0.672675371170044, 0.05104443058371544, 0.29605770111083984, 0.5104442834854126, 0.05104443058371544, 0.05104443058371544, 0.020417772233486176, 0.8454849123954773, 0.9379069209098816, 0.015485941432416439, 0.27874693274497986, 0.20131723582744598, 0.5110360383987427, 0.9457642436027527, 0.010894318111240864, 0.0689973533153534, 0.827968180179596, 0.018157197162508965, 0.0036314395256340504, 0.0036314395256340504, 0.05447159335017204, 0.0036314395256340504, 0.0036314395256340504, 0.3950793445110321, 0.028219953179359436, 0.028219953179359436, 0.028219953179359436, 0.5079591274261475, 0.2811371684074402, 0.21625936031341553, 0.4973965287208557, 0.936848521232605, 0.9004647731781006, 0.841339647769928, 0.9556686878204346, 0.8583723306655884, 0.02062195912003517, 0.02062195912003517, 0.9279881715774536, 0.09857489913702011, 0.024643724784255028, 0.8871740698814392, 0.13053041696548462, 0.11188321560621262, 0.07925061136484146, 0.20978103578090668, 0.037294406443834305, 0.004661800805479288, 0.40091484785079956, 0.018647203221917152, 0.062438733875751495, 0.9053616523742676, 0.0359494611620903, 0.01797473058104515, 0.26962095499038696, 0.008987365290522575, 0.6560776829719543, 0.008987365290522575, 0.07143648713827133, 0.9286742806434631, 0.8935033679008484, 0.857278048992157, 0.6922013163566589, 0.27688053250312805, 0.9728231430053711, 0.9674360752105713], \"Term\": [\"aap\", \"aap\", \"access\", \"accessory\", \"accessory\", \"account\", \"account\", \"ad\", \"adapter\", \"adaptor\", \"airtel\", \"airtel\", \"alarm\", \"amazon\", \"amazon\", \"amazon\", \"amazon\", \"amazon\", \"amazon\", \"amazon\", \"amazon\", \"amazon\", \"amazon\", \"amazon\", \"amazon\", \"amount\", \"amount\", \"android\", \"android\", \"android\", \"android\", \"android\", \"android\", \"app\", \"app\", \"app\", \"app\", \"app\", \"app\", \"apps\", \"apps\", \"apps\", \"apps\", \"apps\", \"apps\", \"apps\", \"apps\", \"apps\", \"area\", \"atmos\", \"atmos\", \"atmos\", \"atmos\", \"atmos\", \"atmos\", \"atom\", \"audio\", \"aug\", \"aur\", \"auto\", \"auto\", \"auto\", \"average\", \"average\", \"average\", \"awesome\", \"awesome\", \"awesome\", \"awsome\", \"b\", \"baad\", \"backup\", \"backup\", \"backup\", \"backup\", \"backup\", \"backup\", \"backup\", \"backup\", \"backup\", \"bada\", \"bakwas\", \"band\", \"bank\", \"bank\", \"bar\", \"bar\", \"bass\", \"batery\", \"batter\", \"batter\", \"battery\", \"battery\", \"battery\", \"battery\", \"battery\", \"battery\", \"battery\", \"battery\", \"battery\", \"battery\", \"battery\", \"battry\", \"bed\", \"bekar\", \"bettry\", \"bhai\", \"bhi\", \"bhi\", \"bhut\", \"bill\", \"bill\", \"bit\", \"bit\", \"bit\", \"bit\", \"bit\", \"bit\", \"bit\", \"blaster\", \"bokeh\", \"bokeh\", \"book\", \"box\", \"box\", \"box\", \"box\", \"box\", \"brightness\", \"brightness\", \"brightness\", \"brightness\", \"brother\", \"budget\", \"budget\", \"budget\", \"budget\", \"budget\", \"budget\", \"bug\", \"bug\", \"bug\", \"build\", \"build\", \"build\", \"button\", \"button\", \"button\", \"button\", \"button\", \"buy\", \"buy\", \"buy\", \"buy\", \"buy\", \"buy\", \"buy\", \"buying\", \"buying\", \"c\", \"cable\", \"cable\", \"cable\", \"call\", \"call\", \"call\", \"call\", \"call\", \"call\", \"call\", \"call\", \"call\", \"caller\", \"caller\", \"cam\", \"cam\", \"cam\", \"camera\", \"camera\", \"camera\", \"camera\", \"camera\", \"camera\", \"camera\", \"camera\", \"camera\", \"camera\", \"camera\", \"camera\", \"camra\", \"capacity\", \"capacity\", \"capacity\", \"capture\", \"car\", \"card\", \"card\", \"card\", \"card\", \"card\", \"card\", \"card\", \"card\", \"care\", \"care\", \"care\", \"care\", \"care\", \"care\", \"cash\", \"cash\", \"cast\", \"cast\", \"cast\", \"cast\", \"cast\", \"cast\", \"cast\", \"cast\", \"casting\", \"category\", \"cell\", \"cell\", \"cell\", \"cemera\", \"center\", \"center\", \"center\", \"center\", \"center\", \"centre\", \"centre\", \"centre\", \"centre\", \"change\", \"change\", \"charge\", \"charge\", \"charge\", \"charge\", \"charge\", \"charge\", \"charge\", \"charge\", \"charger\", \"charger\", \"charger\", \"charger\", \"charger\", \"charger\", \"charger\", \"charger\", \"charging\", \"charging\", \"charging\", \"charging\", \"charging\", \"charging\", \"charging\", \"charging\", \"cheat\", \"cheater\", \"china\", \"chrome\", \"chromecast\", \"clarity\", \"clarity\", \"clarity\", \"clarity\", \"clarity\", \"clarity\", \"class\", \"class\", \"clearity\", \"color\", \"color\", \"color\", \"color\", \"colour\", \"colour\", \"comapre\", \"combination\", \"come\", \"comment\", \"company\", \"company\", \"company\", \"company\", \"company\", \"company\", \"company\", \"company\", \"comparison\", \"competition\", \"complain\", \"complain\", \"complaint\", \"complaint\", \"complaint\", \"complaint\", \"complaint\", \"con\", \"con\", \"con\", \"con\", \"con\", \"concern\", \"condition\", \"condition\", \"condition\", \"condition\", \"configuration\", \"configuration\", \"configuration\", \"configuration\", \"configuration\", \"connection\", \"connection\", \"connection\", \"connection\", \"connectivity\", \"connectivity\", \"connectivity\", \"connectivity\", \"contact\", \"contact\", \"contact\", \"contact\", \"contact\", \"contact\", \"contact\", \"control\", \"cool\", \"copy\", \"core\", \"core\", \"core\", \"core\", \"core\", \"corner\", \"cost\", \"cost\", \"cost\", \"cost\", \"cost\", \"cost\", \"couple\", \"couple\", \"cover\", \"cover\", \"cover\", \"coverage\", \"cpu\", \"crack\", \"crack\", \"curve\", \"customer\", \"customer\", \"customer\", \"customer\", \"customer\", \"customer\", \"customer\", \"customer\", \"customer\", \"dad\", \"damage\", \"damage\", \"data\", \"data\", \"data\", \"data\", \"data\", \"data\", \"data\", \"data\", \"date\", \"date\", \"date\", \"date\", \"day\", \"day\", \"day\", \"day\", \"day\", \"day\", \"day\", \"day\", \"day\", \"day\", \"day\", \"deal\", \"deal\", \"deal\", \"deal\", \"deal\", \"deca\", \"deca\", \"deca\", \"deca\", \"decade\", \"default\", \"default\", \"default\", \"delivery\", \"delivery\", \"delivery\", \"delivery\", \"delivery\", \"delivery\", \"delivery\", \"delivery\", \"delivery\", \"delivery\", \"department\", \"depth\", \"depth\", \"depth\", \"depth\", \"design\", \"design\", \"design\", \"design\", \"detail\", \"detail\", \"device\", \"device\", \"device\", \"device\", \"device\", \"device\", \"device\", \"device\", \"device\", \"device\", \"device\", \"disaster\", \"discharge\", \"discharge\", \"discharge\", \"discount\", \"display\", \"display\", \"display\", \"display\", \"display\", \"display\", \"display\", \"display\", \"display\", \"display\", \"divice\", \"diya\", \"diya\", \"doesnt\", \"doesnt\", \"doesnt\", \"dolby\", \"dolby\", \"dolby\", \"dolby\", \"dont\", \"dont\", \"dont\", \"dont\", \"dont\", \"dont\", \"dot\", \"download\", \"download\", \"drain\", \"drain\", \"drain\", \"drain\", \"drain\", \"drain\", \"drain\", \"drain\", \"drainage\", \"draining\", \"dust\", \"dust\", \"earphone\", \"earphone\", \"earphone\", \"earphone\", \"earphone\", \"earphone\", \"earphone\", \"earphone\", \"earphone\", \"earphone\", \"effect\", \"effect\", \"effect\", \"effect\", \"effect\", \"effect\", \"effect\", \"effort\", \"ek\", \"electronics\", \"everything\", \"everything\", \"everything\", \"everything\", \"everything\", \"everything\", \"everything\", \"everything\", \"everything\", \"everytime\", \"example\", \"excellent\", \"exchange\", \"exchange\", \"executive\", \"expectation\", \"expectation\", \"expectation\", \"expectation\", \"experience\", \"experience\", \"experience\", \"experience\", \"experience\", \"experience\", \"experience\", \"experience\", \"experience\", \"experience\", \"face\", \"face\", \"facility\", \"factory\", \"fake\", \"family\", \"fast\", \"fast\", \"fast\", \"faulty\", \"faulty\", \"feature\", \"feature\", \"feature\", \"feature\", \"feature\", \"feature\", \"feature\", \"feature\", \"feature\", \"feature\", \"feature\", \"feeling\", \"file\", \"file\", \"file\", \"fine\", \"fine\", \"fine\", \"fingerprint\", \"fingerprint\", \"fingerprint\", \"fingerprint\", \"fingerprint\", \"finish\", \"flash\", \"flash\", \"flash\", \"flash\", \"flash\", \"flash\", \"flash\", \"flashlight\", \"flipkart\", \"flipkart\", \"focus\", \"focus\", \"folder\", \"fone\", \"foot\", \"form\", \"front\", \"front\", \"front\", \"front\", \"front\", \"front\", \"fuction\", \"function\", \"function\", \"function\", \"function\", \"function\", \"function\", \"function\", \"functionality\", \"functionality\", \"functionality\", \"functioning\", \"future\", \"future\", \"g\", \"gallery\", \"gallery\", \"gallery\", \"gallery\", \"gallery\", \"gallery\", \"gallery\", \"gallery\", \"game\", \"game\", \"game\", \"game\", \"game\", \"game\", \"game\", \"game\", \"gamer\", \"gaming\", \"gaya\", \"gb\", \"gb\", \"gb\", \"gb\", \"gb\", \"gb\", \"gb\", \"generation\", \"gesture\", \"ghatiya\", \"gift\", \"glass\", \"glass\", \"glass\", \"glass\", \"glass\", \"glass\", \"glass\", \"glass\", \"glass\", \"gold\", \"gold\", \"good\", \"good\", \"good\", \"good\", \"good\", \"goog\", \"gorilla\", \"gorilla\", \"gorilla\", \"gorilla\", \"gorilla\", \"gorilla\", \"gorilla\", \"group\", \"guard\", \"guard\", \"guard\", \"gud\", \"gya\", \"h\", \"hai\", \"hai\", \"hai\", \"hai\", \"hai\", \"hai\", \"half\", \"hand\", \"hand\", \"hand\", \"hand\", \"hand\", \"handset\", \"handset\", \"handset\", \"handset\", \"handset\", \"handset\", \"handset\", \"hang\", \"hang\", \"hang\", \"hang\", \"hang\", \"hang\", \"hang\", \"hang\", \"hanging\", \"hanging\", \"hanging\", \"hd\", \"hd\", \"head\", \"head\", \"head\", \"headphone\", \"headphone\", \"headphone\", \"headphone\", \"headphone\", \"headphone\", \"headphone\", \"headset\", \"headset\", \"headset\", \"heat\", \"heat\", \"heat\", \"heat\", \"heat\", \"heat\", \"heat\", \"heating\", \"heating\", \"heating\", \"heating\", \"heating\", \"heating\", \"heating\", \"heating\", \"heating\", \"heating\", \"hi\", \"hi\", \"hi\", \"hi\", \"history\", \"ho\", \"ho\", \"home\", \"hone\", \"hota\", \"hota\", \"hotspot\", \"hotspot\", \"hotspot\", \"hotspot\", \"hour\", \"hour\", \"hour\", \"hour\", \"hour\", \"hour\", \"hour\", \"hour\", \"hour\", \"house\", \"hr\", \"hr\", \"hr\", \"hr\", \"hr\", \"hr\", \"hr\", \"hr\", \"htc\", \"hu\", \"hv\", \"icon\", \"id\", \"image\", \"image\", \"image\", \"image\", \"image\", \"image\", \"improvement\", \"improvement\", \"inbuilt\", \"interface\", \"interface\", \"interface\", \"interface\", \"interface\", \"interface\", \"invoice\", \"iron\", \"irritating\", \"isme\", \"isse\", \"issue\", \"issue\", \"issue\", \"issue\", \"issue\", \"issue\", \"issue\", \"issue\", \"issue\", \"issue\", \"issue\", \"issue\", \"item\", \"item\", \"item\", \"item\", \"item\", \"jata\", \"jayega\", \"jio\", \"jio\", \"jio\", \"jio\", \"jio\", \"jio\", \"job\", \"jyada\", \"k\", \"k\", \"k\", \"k\", \"k\", \"k\", \"ka\", \"ka\", \"ka\", \"ka\", \"kar\", \"ke\", \"ke\", \"key\", \"key\", \"key\", \"key\", \"key\", \"ki\", \"killer\", \"killer\", \"killer\", \"killer\", \"killer\", \"killer\", \"kiya\", \"ko\", \"ko\", \"ko\", \"koi\", \"koi\", \"lack\", \"lack\", \"lack\", \"lag\", \"lag\", \"lag\", \"lag\", \"lag\", \"lag\", \"last\", \"launch\", \"le\", \"lena\", \"lenevo\", \"lenevo\", \"lenova\", \"lenovo\", \"lenovo\", \"lenovo\", \"lenovo\", \"lenovo\", \"lenovo\", \"lenovo\", \"lenovo\", \"lenovo\", \"lenovo\", \"lenovo\", \"lenovo\", \"leta\", \"level\", \"level\", \"level\", \"lie\", \"life\", \"life\", \"life\", \"life\", \"life\", \"life\", \"life\", \"life\", \"life\", \"life\", \"light\", \"light\", \"light\", \"light\", \"light\", \"light\", \"light\", \"limit\", \"line\", \"line\", \"line\", \"list\", \"list\", \"list\", \"liye\", \"location\", \"lock\", \"lock\", \"look\", \"look\", \"look\", \"look\", \"look\", \"look\", \"look\", \"look\", \"look\", \"look\", \"look\", \"loss\", \"lot\", \"lot\", \"lot\", \"lot\", \"lot\", \"lot\", \"lot\", \"lot\", \"lot\", \"lot\", \"love\", \"love\", \"lte\", \"mah\", \"mah\", \"mah\", \"mah\", \"mah\", \"maine\", \"maine\", \"manager\", \"manager\", \"manufacturing\", \"march\", \"mark\", \"mark\", \"mark\", \"mark\", \"mark\", \"mark\", \"mark\", \"market\", \"market\", \"mast\", \"material\", \"max\", \"mean\", \"medium\", \"medium\", \"memory\", \"memory\", \"memory\", \"memory\", \"memory\", \"memory\", \"memory\", \"mention\", \"menu\", \"mera\", \"message\", \"message\", \"message\", \"messenger\", \"metal\", \"mh\", \"mi\", \"mi\", \"mi\", \"mi\", \"mic\", \"microphone\", \"mila\", \"mind\", \"mine\", \"minus\", \"minute\", \"minute\", \"minute\", \"minute\", \"minute\", \"mob\", \"mobail\", \"mobil\", \"mobil\", \"mobile\", \"mobile\", \"mobile\", \"mobile\", \"mobile\", \"mobile\", \"mobile\", \"mobile\", \"mobile\", \"mobile\", \"mobile\", \"mobile\", \"mode\", \"mode\", \"mode\", \"mode\", \"mode\", \"mode\", \"mode\", \"mode\", \"model\", \"model\", \"model\", \"model\", \"model\", \"model\", \"money\", \"money\", \"money\", \"money\", \"money\", \"money\", \"money\", \"money\", \"money\", \"money\", \"money\", \"month\", \"month\", \"month\", \"month\", \"month\", \"month\", \"month\", \"month\", \"month\", \"month\", \"month\", \"mood\", \"motherboard\", \"motorola\", \"motorola\", \"movie\", \"mp\", \"mp\", \"mp\", \"mp\", \"mp\", \"mujhe\", \"music\", \"music\", \"music\", \"music\", \"music\", \"music\", \"music\", \"music\", \"n\", \"n\", \"n\", \"n\", \"n\", \"n\", \"navigation\", \"net\", \"net\", \"network\", \"network\", \"network\", \"network\", \"network\", \"network\", \"network\", \"network\", \"network\", \"network\", \"news\", \"nice\", \"night\", \"night\", \"night\", \"night\", \"night\", \"none\", \"note\", \"note\", \"note\", \"note\", \"note\", \"note\", \"note\", \"note\", \"note\", \"note\", \"note\", \"note\", \"nothing\", \"nothing\", \"nothing\", \"nothing\", \"nothing\", \"nothing\", \"nothing\", \"notification\", \"notification\", \"notification\", \"notification\", \"notification\", \"number\", \"number\", \"office\", \"office\", \"ok\", \"ok\", \"ok\", \"ok\", \"okay\", \"one\", \"one\", \"one\", \"one\", \"operation\", \"optimization\", \"option\", \"option\", \"option\", \"option\", \"option\", \"option\", \"option\", \"option\", \"option\", \"option\", \"option\", \"order\", \"order\", \"order\", \"oreo\", \"oreo\", \"oreo\", \"overheating\", \"pack\", \"package\", \"package\", \"package\", \"packing\", \"packup\", \"pad\", \"paisa\", \"par\", \"par\", \"part\", \"part\", \"party\", \"party\", \"party\", \"patch\", \"payment\", \"pc\", \"pc\", \"peace\", \"penny\", \"percentage\", \"perfect\", \"perfect\", \"performance\", \"performance\", \"performance\", \"performance\", \"performance\", \"performance\", \"performance\", \"performance\", \"performance\", \"performance\", \"performance\", \"performance\", \"ph\", \"phon\", \"phone\", \"phone\", \"phone\", \"phone\", \"phone\", \"phone\", \"phone\", \"phone\", \"phone\", \"phone\", \"phone\", \"phone\", \"phoneall\", \"photo\", \"photo\", \"photo\", \"photo\", \"photo\", \"photo\", \"photo\", \"photograph\", \"photography\", \"pic\", \"pic\", \"pice\", \"picture\", \"picture\", \"picture\", \"picture\", \"picture\", \"picture\", \"picture\", \"picture\", \"piece\", \"piece\", \"piece\", \"piece\", \"piece\", \"pin\", \"pixel\", \"pixel\", \"place\", \"player\", \"player\", \"please\", \"please\", \"please\", \"please\", \"please\", \"please\", \"please\", \"pls\", \"pls\", \"pls\", \"pls\", \"pls\", \"pls\", \"pls\", \"plz\", \"plz\", \"plz\", \"plz\", \"plz\", \"plz\", \"policy\", \"policy\", \"policy\", \"policy\", \"policy\", \"port\", \"position\", \"post\", \"power\", \"power\", \"power\", \"power\", \"power\", \"power\", \"pr\", \"premium\", \"price\", \"price\", \"price\", \"price\", \"price\", \"price\", \"price\", \"price\", \"price\", \"problem\", \"problem\", \"problem\", \"problem\", \"problem\", \"problem\", \"problem\", \"problem\", \"problem\", \"problem\", \"problem\", \"problem\", \"problembattery\", \"procedure\", \"process\", \"process\", \"process\", \"process\", \"processing\", \"processing\", \"processor\", \"processor\", \"processor\", \"processor\", \"processor\", \"processor\", \"processor\", \"processor\", \"processor\", \"product\", \"product\", \"product\", \"product\", \"product\", \"product\", \"product\", \"product\", \"product\", \"product\", \"product\", \"product\", \"protection\", \"provider\", \"pubg\", \"purchase\", \"purchase\", \"purchase\", \"purchase\", \"purchase\", \"purchase\", \"purchase\", \"quality\", \"quality\", \"quality\", \"quality\", \"quality\", \"quality\", \"quality\", \"quality\", \"quality\", \"quality\", \"quality\", \"quality\", \"r\", \"r\", \"r\", \"r\", \"raha\", \"ram\", \"ram\", \"ram\", \"ram\", \"ram\", \"ram\", \"ram\", \"ram\", \"ram\", \"range\", \"range\", \"range\", \"range\", \"range\", \"range\", \"range\", \"range\", \"rate\", \"rate\", \"rate\", \"rating\", \"rating\", \"rating\", \"rear\", \"rear\", \"rear\", \"reception\", \"reception\", \"recharge\", \"recommend\", \"recorder\", \"recorder\", \"recording\", \"recording\", \"recording\", \"refund\", \"refund\", \"refund\", \"refund\", \"refund\", \"refund\", \"repair\", \"replacement\", \"replacement\", \"replacement\", \"replacement\", \"replacement\", \"replacement\", \"replacement\", \"replacement\", \"resolution\", \"resolution\", \"response\", \"response\", \"response\", \"response\", \"response\", \"response\", \"rest\", \"rest\", \"rest\", \"rest\", \"restart\", \"result\", \"return\", \"return\", \"return\", \"return\", \"return\", \"return\", \"review\", \"review\", \"review\", \"review\", \"review\", \"review\", \"review\", \"review\", \"reviewer\", \"rha\", \"right\", \"ringtone\", \"risk\", \"rock\", \"round\", \"rupee\", \"rupee\", \"sabse\", \"samsung\", \"samsung\", \"samsung\", \"satisfactory\", \"saver\", \"scratch\", \"scratch\", \"scratch\", \"scratch\", \"screen\", \"screen\", \"screen\", \"screen\", \"screen\", \"screen\", \"screen\", \"screen\", \"screen\", \"screen\", \"screen\", \"screen\", \"se\", \"se\", \"se\", \"se\", \"section\", \"security\", \"security\", \"selfie\", \"selfie\", \"selfie\", \"selfie\", \"selfie\", \"seller\", \"seller\", \"sensor\", \"sensor\", \"sensor\", \"sensor\", \"sensor\", \"sensor\", \"sensor\", \"sensor\", \"september\", \"series\", \"series\", \"series\", \"service\", \"service\", \"service\", \"service\", \"service\", \"service\", \"service\", \"service\", \"service\", \"set\", \"setting\", \"setting\", \"setting\", \"setup\", \"setup\", \"setup\", \"shape\", \"sharpness\", \"shopping\", \"side\", \"side\", \"side\", \"side\", \"side\", \"side\", \"side\", \"signal\", \"signal\", \"signal\", \"signal\", \"signal\", \"signal\", \"sim\", \"sim\", \"sim\", \"sim\", \"sim\", \"sim\", \"sim\", \"sims\", \"sims\", \"sir\", \"sir\", \"slot\", \"slot\", \"slot\", \"slot\", \"slot\", \"slot\", \"smart\", \"smartphone\", \"smartphone\", \"smartphone\", \"smartphone\", \"smartphones\", \"smooth\", \"smooth\", \"smooth\", \"socket\", \"software\", \"software\", \"software\", \"software\", \"software\", \"software\", \"software\", \"software\", \"software\", \"software\", \"someone\", \"someone\", \"someone\", \"someone\", \"sound\", \"sound\", \"sound\", \"sound\", \"sound\", \"sound\", \"sound\", \"sound\", \"sound\", \"space\", \"space\", \"speaker\", \"speaker\", \"speaker\", \"speaker\", \"speaker\", \"speaker\", \"speaker\", \"speaker\", \"speaker\", \"speed\", \"speed\", \"speed\", \"speed\", \"speed\", \"speed\", \"speed\", \"speed\", \"speed\", \"speed\", \"speed\", \"speed\", \"split\", \"standby\", \"standby\", \"star\", \"star\", \"star\", \"star\", \"star\", \"step\", \"stock\", \"stock\", \"stock\", \"stock\", \"stock\", \"stock\", \"stock\", \"stock\", \"stop\", \"storage\", \"storage\", \"storage\", \"storage\", \"storage\", \"suggestion\", \"suggestion\", \"suggestion\", \"super\", \"super\", \"superb\", \"superb\", \"superb\", \"superb\", \"superb\", \"superb\", \"support\", \"support\", \"support\", \"support\", \"support\", \"support\", \"support\", \"support\", \"support\", \"surfing\", \"switch\", \"system\", \"system\", \"system\", \"system\", \"system\", \"system\", \"system\", \"tag\", \"talk\", \"team\", \"team\", \"team\", \"team\", \"tech\", \"technician\", \"tell\", \"test\", \"th\", \"tha\", \"tha\", \"tha\", \"thak\", \"thank\", \"thanks\", \"thanks\", \"thanks\", \"thanks\", \"thanks\", \"thanks\", \"thanks\", \"thats\", \"thik\", \"thing\", \"thing\", \"thing\", \"thing\", \"thing\", \"thing\", \"thing\", \"thing\", \"thing\", \"thing\", \"thing\", \"think\", \"think\", \"ti\", \"till\", \"till\", \"till\", \"till\", \"till\", \"till\", \"time\", \"time\", \"time\", \"time\", \"time\", \"time\", \"time\", \"time\", \"time\", \"time\", \"time\", \"time\", \"today\", \"today\", \"today\", \"today\", \"toh\", \"tone\", \"tooth\", \"top\", \"touch\", \"touch\", \"touch\", \"touch\", \"touch\", \"touch\", \"touch\", \"touch\", \"tower\", \"tray\", \"trouble\", \"trust\", \"turbo\", \"turbo\", \"turbo\", \"turbo\", \"turbo\", \"turbo\", \"turbo\", \"turbo\", \"turbocharger\", \"tv\", \"tv\", \"tv\", \"tv\", \"tv\", \"tv\", \"u\", \"u\", \"u\", \"u\", \"u\", \"update\", \"update\", \"update\", \"update\", \"update\", \"update\", \"update\", \"update\", \"update\", \"update\", \"update\", \"update\", \"upgrade\", \"us\", \"us\", \"usage\", \"usage\", \"usage\", \"usage\", \"usage\", \"usage\", \"usage\", \"usage\", \"usage\", \"usb\", \"use\", \"use\", \"use\", \"use\", \"use\", \"use\", \"use\", \"use\", \"use\", \"use\", \"user\", \"user\", \"user\", \"user\", \"user\", \"user\", \"user\", \"v\", \"v\", \"v\", \"v\", \"value\", \"value\", \"value\", \"value\", \"value\", \"version\", \"version\", \"version\", \"version\", \"version\", \"version\", \"version\", \"vibe\", \"vibe\", \"vibe\", \"vibe\", \"vibe\", \"vibration\", \"video\", \"video\", \"video\", \"video\", \"video\", \"video\", \"video\", \"view\", \"view\", \"visit\", \"visit\", \"vodafone\", \"voice\", \"voice\", \"voice\", \"voice\", \"voice\", \"volta\", \"volta\", \"volta\", \"volta\", \"volume\", \"volume\", \"volume\", \"volume\", \"volume\", \"volume\", \"want\", \"warm\", \"warranty\", \"warranty\", \"warranty\", \"warranty\", \"wastage\", \"waste\", \"waste\", \"waste\", \"waste\", \"waste\", \"waste\", \"waste\", \"waste\", \"waste\", \"way\", \"way\", \"way\", \"way\", \"way\", \"weight\", \"weight\", \"weight\", \"west\", \"whats\", \"whereas\", \"wife\", \"wireless\", \"wise\", \"wise\", \"wise\", \"word\", \"word\", \"word\", \"work\", \"work\", \"work\", \"work\", \"work\", \"work\", \"work\", \"work\", \"working\", \"working\", \"worth\", \"worth\", \"worth\", \"worth\", \"worth\", \"worth\", \"wow\", \"wow\", \"wrost\", \"xiaomi\", \"ye\", \"ye\", \"yesterday\", \"zoom\"]}, \"R\": 30, \"lambda.step\": 0.01, \"plot.opts\": {\"xlab\": \"PC1\", \"ylab\": \"PC2\"}, \"topic.order\": [6, 11, 9, 12, 1, 2, 4, 5, 10, 7, 8, 3]};\n",
       "\n",
       "function LDAvis_load_lib(url, callback){\n",
       "  var s = document.createElement('script');\n",
       "  s.src = url;\n",
       "  s.async = true;\n",
       "  s.onreadystatechange = s.onload = callback;\n",
       "  s.onerror = function(){console.warn(\"failed to load library \" + url);};\n",
       "  document.getElementsByTagName(\"head\")[0].appendChild(s);\n",
       "}\n",
       "\n",
       "if(typeof(LDAvis) !== \"undefined\"){\n",
       "   // already loaded: just create the visualization\n",
       "   !function(LDAvis){\n",
       "       new LDAvis(\"#\" + \"ldavis_el884826500892297926990315317\", ldavis_el884826500892297926990315317_data);\n",
       "   }(LDAvis);\n",
       "}else if(typeof define === \"function\" && define.amd){\n",
       "   // require.js is available: use it to load d3/LDAvis\n",
       "   require.config({paths: {d3: \"https://cdnjs.cloudflare.com/ajax/libs/d3/3.5.5/d3.min\"}});\n",
       "   require([\"d3\"], function(d3){\n",
       "      window.d3 = d3;\n",
       "      LDAvis_load_lib(\"https://cdn.rawgit.com/bmabey/pyLDAvis/files/ldavis.v1.0.0.js\", function(){\n",
       "        new LDAvis(\"#\" + \"ldavis_el884826500892297926990315317\", ldavis_el884826500892297926990315317_data);\n",
       "      });\n",
       "    });\n",
       "}else{\n",
       "    // require.js not available: dynamically load d3 & LDAvis\n",
       "    LDAvis_load_lib(\"https://cdnjs.cloudflare.com/ajax/libs/d3/3.5.5/d3.min.js\", function(){\n",
       "         LDAvis_load_lib(\"https://cdn.rawgit.com/bmabey/pyLDAvis/files/ldavis.v1.0.0.js\", function(){\n",
       "                 new LDAvis(\"#\" + \"ldavis_el884826500892297926990315317\", ldavis_el884826500892297926990315317_data);\n",
       "            })\n",
       "         });\n",
       "}\n",
       "</script>"
      ],
      "text/plain": [
       "PreparedData(topic_coordinates=              x         y  topics  cluster       Freq\n",
       "topic                                                \n",
       "5     -0.129368 -0.020027       1        1  18.568121\n",
       "10    -0.090972  0.065111       2        1  14.599727\n",
       "8     -0.042605 -0.204411       3        1  10.364258\n",
       "11    -0.112832  0.015935       4        1   9.600409\n",
       "0     -0.136909 -0.054433       5        1   9.004350\n",
       "1     -0.092236 -0.058937       6        1   6.716942\n",
       "3      0.040885  0.150055       7        1   6.025668\n",
       "4      0.054668  0.135012       8        1   5.897274\n",
       "9      0.081919 -0.052715       9        1   5.475067\n",
       "6      0.312058 -0.167219      10        1   5.285929\n",
       "7     -0.013002 -0.013532      11        1   4.437072\n",
       "2      0.128394  0.205161      12        1   4.025183, topic_info=        Term         Freq        Total Category  logprob  loglift\n",
       "47   product  2259.000000  2259.000000  Default  30.0000  30.0000\n",
       "11    mobile  1502.000000  1502.000000  Default  29.0000  29.0000\n",
       "55    camera  3181.000000  3181.000000  Default  28.0000  28.0000\n",
       "63     price   914.000000   914.000000  Default  27.0000  27.0000\n",
       "4    battery  3123.000000  3123.000000  Default  26.0000  26.0000\n",
       "..       ...          ...          ...      ...      ...      ...\n",
       "15     phone    90.707161  6954.558594  Topic12  -3.5733  -1.1269\n",
       "304       se    22.123783    38.512135  Topic12  -4.9843   2.6583\n",
       "117       tv    22.094582    60.705753  Topic12  -4.9856   2.2019\n",
       "169     look    23.052591   148.635773  Topic12  -4.9432   1.3489\n",
       "90   quality    25.165266  1392.118408  Topic12  -4.8555  -0.8005\n",
       "\n",
       "[725 rows x 6 columns], token_table=      Topic      Freq       Term\n",
       "term                            \n",
       "1367      1  0.051941        aap\n",
       "1367     12  0.934937        aap\n",
       "1328      1  0.972639     access\n",
       "332       3  0.051549  accessory\n",
       "332       7  0.902106  accessory\n",
       "...     ...       ...        ...\n",
       "1448      8  0.857278     xiaomi\n",
       "305       7  0.692201         ye\n",
       "305      12  0.276881         ye\n",
       "1024      2  0.972823  yesterday\n",
       "1770      3  0.967436       zoom\n",
       "\n",
       "[1874 rows x 3 columns], R=30, lambda_step=0.01, plot_opts={'xlab': 'PC1', 'ylab': 'PC2'}, topic_order=[6, 11, 9, 12, 1, 2, 4, 5, 10, 7, 8, 3])"
      ]
     },
     "execution_count": 17,
     "metadata": {},
     "output_type": "execute_result"
    }
   ],
   "source": [
    "pyLDAvis.enable_notebook()\n",
    "\n",
    "vis = pyLDAvis.gensim.prepare(lda_model, corpus, dictionary)\n",
    "vis"
   ]
  },
  {
   "cell_type": "markdown",
   "metadata": {},
   "source": [
    "#### 8.2 coherence of the model with the c_v metric"
   ]
  },
  {
   "cell_type": "code",
   "execution_count": 18,
   "metadata": {},
   "outputs": [
    {
     "name": "stdout",
     "output_type": "stream",
     "text": [
      "Coherence Score:  0.5134232511606582\n"
     ]
    }
   ],
   "source": [
    "# Compute Coherence Score\n",
    "coherence_model_lda = gensim.models.CoherenceModel(model=lda_model, texts=review_no_sw, dictionary=dictionary, coherence='c_v')\n",
    "\n",
    "coherence_lda = coherence_model_lda.get_coherence()\n",
    "print('Coherence Score: ', coherence_lda)"
   ]
  },
  {
   "cell_type": "markdown",
   "metadata": {},
   "source": [
    "#### 9. Analyze the topics through the business lens - Determine which of the topics can be combined"
   ]
  },
  {
   "cell_type": "markdown",
   "metadata": {},
   "source": [
    "Now since the problem at hand demands identifying the diffrent aspects of the budget smartphone launched in the market, it is imperative that the tokens (words in the customer reviews) like 'phone', 'mobile' etc. or sentimental keys like 'problem', 'issue' may be removed from the topic model. That way topic model focuses on the variety of aspects like 'camera', 'battery'."
   ]
  },
  {
   "cell_type": "code",
   "execution_count": 19,
   "metadata": {},
   "outputs": [
    {
     "name": "stdout",
     "output_type": "stream",
     "text": [
      "[['update', 'improvement'],\n",
      " ['battery',\n",
      "  'hell',\n",
      "  'backup',\n",
      "  'hour',\n",
      "  'us',\n",
      "  'idle',\n",
      "  'lie',\n",
      "  'amazon',\n",
      "  'lenove',\n",
      "  'battery',\n",
      "  'charger',\n",
      "  'hour'],\n",
      " ['cash'],\n",
      " [],\n",
      " ['everthey', 'amazon', 'amazon']]\n"
     ]
    }
   ],
   "source": [
    "custom_stop_words = ['phone', 'problem', 'issue', 'product', 'mobile']\n",
    "\n",
    "review_no_custom_sw = [[token for token in doc if token not in custom_stop_words] for doc in review_no_sw]\n",
    "\n",
    "pprint(review_no_custom_sw[:5])"
   ]
  },
  {
   "cell_type": "markdown",
   "metadata": {},
   "source": [
    "#### 10. Create topic model using LDA with what you think is the optimal number of topics"
   ]
  },
  {
   "cell_type": "markdown",
   "metadata": {},
   "source": [
    "We perform a GridSearch over the parameter space of NUM_TOPICS and get the best cv score"
   ]
  },
  {
   "cell_type": "code",
   "execution_count": 42,
   "metadata": {},
   "outputs": [
    {
     "data": {
      "text/plain": [
       "['update improvement',\n",
       " 'battery hell backup hour us idle lie amazon lenove battery charger hour',\n",
       " 'cash',\n",
       " '',\n",
       " 'everthey amazon amazon']"
      ]
     },
     "execution_count": 42,
     "metadata": {},
     "output_type": "execute_result"
    }
   ],
   "source": [
    "review_optimised = []\n",
    "for doc in review_no_custom_sw:\n",
    "    tokens = \"\"\n",
    "    for token in doc:\n",
    "        tokens = tokens + \" \" + token\n",
    "    review_optimised.append(tokens[1:])\n",
    "\n",
    "review_optimised[:5]"
   ]
  },
  {
   "cell_type": "code",
   "execution_count": 43,
   "metadata": {},
   "outputs": [],
   "source": [
    "vectorizer = CountVectorizer(analyzer='word',       \n",
    "                             min_df=10,                        # minimum reqd occurences of a word \n",
    "                             stop_words='english',             # remove stop words\n",
    "                             lowercase=False,                   # convert all words to lowercase\n",
    "                             token_pattern='[a-zA-Z0-9]{3,}',  # num chars > 3\n",
    "                             # max_features=50000,             # max number of uniq words\n",
    "                            )\n",
    "\n",
    "data_vectorized = vectorizer.fit_transform(review_optimised)"
   ]
  },
  {
   "cell_type": "code",
   "execution_count": 44,
   "metadata": {},
   "outputs": [
    {
     "name": "stdout",
     "output_type": "stream",
     "text": [
      "Sparsicity:  0.5335390057096686 %\n"
     ]
    }
   ],
   "source": [
    "# Materialize the sparse data\n",
    "data_dense = data_vectorized.todense()\n",
    "\n",
    "# Compute Sparsicity = Percentage of Non-Zero cells\n",
    "print(\"Sparsicity: \", ((data_dense > 0).sum()/data_dense.size)*100, \"%\")"
   ]
  },
  {
   "cell_type": "code",
   "execution_count": 47,
   "metadata": {},
   "outputs": [
    {
     "name": "stdout",
     "output_type": "stream",
     "text": [
      "LatentDirichletAllocation(batch_size=128, doc_topic_prior=None,\n",
      "                          evaluate_every=-1, learning_decay=0.7,\n",
      "                          learning_method='online', learning_offset=10.0,\n",
      "                          max_doc_update_iter=100, max_iter=10,\n",
      "                          mean_change_tol=0.001, n_components=12, n_jobs=-1,\n",
      "                          perp_tol=0.1, random_state=100, topic_word_prior=None,\n",
      "                          total_samples=1000000.0, verbose=0)\n"
     ]
    }
   ],
   "source": [
    "# Build LDA Model\n",
    "lda_model = LatentDirichletAllocation(n_components=12,           # Number of topics\n",
    "                                      max_iter=10,               # Max learning iterations\n",
    "                                      learning_method='online',   \n",
    "                                      random_state=100,          # Random state\n",
    "                                      batch_size=128,            # n docs in each learning iter\n",
    "                                      evaluate_every = -1,       # compute perplexity every n iters, default: Don't\n",
    "                                      n_jobs = -1,               # Use all available CPUs\n",
    "                                     )\n",
    "lda_output = lda_model.fit_transform(data_vectorized)\n",
    "\n",
    "print(lda_model)  # Model attributes"
   ]
  },
  {
   "cell_type": "code",
   "execution_count": 48,
   "metadata": {},
   "outputs": [
    {
     "name": "stdout",
     "output_type": "stream",
     "text": [
      "Log Likelihood:  -302316.9190399189\n",
      "Perplexity:  302.07201970206717\n",
      "{'batch_size': 128,\n",
      " 'doc_topic_prior': None,\n",
      " 'evaluate_every': -1,\n",
      " 'learning_decay': 0.7,\n",
      " 'learning_method': 'online',\n",
      " 'learning_offset': 10.0,\n",
      " 'max_doc_update_iter': 100,\n",
      " 'max_iter': 10,\n",
      " 'mean_change_tol': 0.001,\n",
      " 'n_components': 12,\n",
      " 'n_jobs': -1,\n",
      " 'perp_tol': 0.1,\n",
      " 'random_state': 100,\n",
      " 'topic_word_prior': None,\n",
      " 'total_samples': 1000000.0,\n",
      " 'verbose': 0}\n"
     ]
    }
   ],
   "source": [
    "# Log Likelyhood: Higher the better\n",
    "print(\"Log Likelihood: \", lda_model.score(data_vectorized))\n",
    "\n",
    "# Perplexity: Lower the better. Perplexity = exp(-1. * log-likelihood per word)\n",
    "print(\"Perplexity: \", lda_model.perplexity(data_vectorized))\n",
    "\n",
    "# See model parameters\n",
    "pprint(lda_model.get_params())"
   ]
  },
  {
   "cell_type": "code",
   "execution_count": 51,
   "metadata": {},
   "outputs": [
    {
     "data": {
      "text/plain": [
       "GridSearchCV(cv=None, error_score=nan,\n",
       "             estimator=LatentDirichletAllocation(batch_size=128,\n",
       "                                                 doc_topic_prior=None,\n",
       "                                                 evaluate_every=-1,\n",
       "                                                 learning_decay=0.7,\n",
       "                                                 learning_method='batch',\n",
       "                                                 learning_offset=10.0,\n",
       "                                                 max_doc_update_iter=100,\n",
       "                                                 max_iter=10,\n",
       "                                                 mean_change_tol=0.001,\n",
       "                                                 n_components=10, n_jobs=None,\n",
       "                                                 perp_tol=0.1,\n",
       "                                                 random_state=None,\n",
       "                                                 topic_word_prior=None,\n",
       "                                                 total_samples=1000000.0,\n",
       "                                                 verbose=0),\n",
       "             iid='deprecated', n_jobs=None,\n",
       "             param_grid={'n_components': [10, 11, 12]}, pre_dispatch='2*n_jobs',\n",
       "             refit=True, return_train_score=False, scoring=None, verbose=0)"
      ]
     },
     "execution_count": 51,
     "metadata": {},
     "output_type": "execute_result"
    }
   ],
   "source": [
    "# Define Search Param\n",
    "search_params = {'n_components': [10, 11, 12]}\n",
    "\n",
    "# Init the Model\n",
    "lda = LatentDirichletAllocation()\n",
    "\n",
    "# Init Grid Search Class\n",
    "model = GridSearchCV(lda, param_grid=search_params)\n",
    "\n",
    "# Do the Grid Search\n",
    "model.fit(data_vectorized)"
   ]
  },
  {
   "cell_type": "markdown",
   "metadata": {},
   "source": [
    "#### 10.1 Coherence of the optimal model"
   ]
  },
  {
   "cell_type": "code",
   "execution_count": 52,
   "metadata": {},
   "outputs": [
    {
     "name": "stdout",
     "output_type": "stream",
     "text": [
      "Best Model's Params:  {'n_components': 10}\n",
      "Best Log Likelihood Score:  -64122.96238764863\n",
      "Model Perplexity:  254.16612932482374\n"
     ]
    }
   ],
   "source": [
    "# Best Model\n",
    "best_lda_model = model.best_estimator_\n",
    "\n",
    "# Model Parameters\n",
    "print(\"Best Model's Params: \", model.best_params_)\n",
    "\n",
    "# Log Likelihood Score\n",
    "print(\"Best Log Likelihood Score: \", model.best_score_)\n",
    "\n",
    "# Perplexity\n",
    "print(\"Model Perplexity: \", best_lda_model.perplexity(data_vectorized))"
   ]
  },
  {
   "cell_type": "markdown",
   "metadata": {},
   "source": [
    "#### 11. Business interpretation of the identified topics"
   ]
  },
  {
   "cell_type": "code",
   "execution_count": null,
   "metadata": {},
   "outputs": [],
   "source": []
  },
  {
   "cell_type": "markdown",
   "metadata": {},
   "source": [
    "#### 11.1. Table with the topic names and the top 10 terms in each to present to the business"
   ]
  },
  {
   "cell_type": "code",
   "execution_count": null,
   "metadata": {},
   "outputs": [],
   "source": []
  }
 ],
 "metadata": {
  "kernelspec": {
   "display_name": "Python 3",
   "language": "python",
   "name": "python3"
  },
  "language_info": {
   "codemirror_mode": {
    "name": "ipython",
    "version": 3
   },
   "file_extension": ".py",
   "mimetype": "text/x-python",
   "name": "python",
   "nbconvert_exporter": "python",
   "pygments_lexer": "ipython3",
   "version": "3.7.3"
  }
 },
 "nbformat": 4,
 "nbformat_minor": 4
}
