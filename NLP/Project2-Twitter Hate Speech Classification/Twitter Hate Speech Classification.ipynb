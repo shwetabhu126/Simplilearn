{
 "cells": [
  {
   "cell_type": "markdown",
   "metadata": {},
   "source": [
    "# PGP AI - Natural Language Processing"
   ]
  },
  {
   "cell_type": "markdown",
   "metadata": {},
   "source": [
    "## Project 2: Help Twitter Combat Hate Speech Using NLP and Machine Learning"
   ]
  },
  {
   "cell_type": "markdown",
   "metadata": {},
   "source": [
    "> ### Author:\n",
    ">\n",
    "> ***Saikat Narayan Bhattacharjya***\n",
    ">\n",
    ">  ***Email: <snbhattacharjya@gmail.com>***"
   ]
  },
  {
   "cell_type": "markdown",
   "metadata": {},
   "source": [
    "### DESCRIPTION\n",
    "\n",
    "Using NLP and ML, make a model to identify hate speech (racist or sexist tweets) in Twitter."
   ]
  },
  {
   "cell_type": "markdown",
   "metadata": {},
   "source": [
    "### Problem Statement:  \n",
    "\n",
    "Twitter is the biggest platform where anybody and everybody can have their views heard. Some of these voices spread hate and negativity. Twitter is wary of its platform being used as a medium  to spread hate. \n",
    "\n",
    "You are a data scientist at Twitter, and you will help Twitter in identifying the tweets with hate speech and removing them from the platform. You will use NLP techniques, perform specific cleanup for tweets data, and make a robust model.\n"
   ]
  },
  {
   "cell_type": "markdown",
   "metadata": {},
   "source": [
    "### Domain: Social Media"
   ]
  },
  {
   "cell_type": "markdown",
   "metadata": {},
   "source": [
    "### Analysis to be done: \n",
    "\n",
    "Clean up tweets and build a classification model by using NLP techniques, cleanup specific for tweets data, regularization and hyperparameter tuning using stratified k-fold and cross validation to get the best model"
   ]
  },
  {
   "cell_type": "markdown",
   "metadata": {},
   "source": [
    "### Content: \n",
    "\n",
    "1. id: identifier number of the tweet\n",
    "2. Label: 0 (non-hate) /1 (hate)\n",
    "3. Tweet: the text in the tweet\n"
   ]
  },
  {
   "cell_type": "markdown",
   "metadata": {},
   "source": [
    "### Tasks: \n",
    "\n",
    "1. Load the tweets file using read_csv function from Pandas package.\n",
    "2. Get the tweets into a list for easy text cleanup and manipulation.\n",
    "3. To cleanup: \n",
    "    1. Normalize the casing.\n",
    "    2. Using regular expressions, remove user handles. These begin with '@’.\n",
    "    3. Using regular expressions, remove URLs.\n",
    "    4. Using TweetTokenizer from NLTK, tokenize the tweets into individual terms.\n",
    "    5. Remove stop words.\n",
    "    6. Remove redundant terms like ‘amp’, ‘rt’, etc.\n",
    "    7. Remove ‘#’ symbols from the tweet while retaining the term.\n",
    "4. Extra cleanup by removing terms with a length of 1.\n",
    "5. Check out the top terms in the tweets:\n",
    "    1. First, get all the tokenized terms into one large list.\n",
    "    2. Use the counter and find the 10 most common terms.\n",
    "6. Data formatting for predictive modeling:\n",
    "    1. Join the tokens back to form strings. This will be required for the vectorizers.\n",
    "    2. Assign x and y.\n",
    "    3. Perform train_test_split using sklearn.\n",
    "7. We’ll use TF-IDF values for the terms as a feature to get into a vector space model.\n",
    "    1. Import TF-IDF  vectorizer from sklearn.\n",
    "    2. Instantiate with a maximum of 5000 terms in your vocabulary.\n",
    "    3. Fit and apply on the train set.\n",
    "    4. Apply on the test set.\n",
    "8. Model building: Ordinary Logistic Regression\n",
    "    1. Instantiate Logistic Regression from sklearn with default parameters.\n",
    "    2. Fit into  the train data.\n",
    "    3. Make predictions for the train and the test set.\n",
    "9. Model evaluation: Accuracy, recall, and f_1 score.\n",
    "    1. Report the accuracy on the train set.\n",
    "    2. Report the recall on the train set: decent, high, or low.\n",
    "    3. Get the f1 score on the train set.\n",
    "10.\tLooks like you need to adjust the class imbalance, as the model seems to focus on the 0s.\n",
    "    1. Adjust the appropriate class in the LogisticRegression model.\n",
    "11.\tTrain again with the adjustment and evaluate.\n",
    "    1. Train the model on the train set.\n",
    "    2. Evaluate the predictions on the train set: accuracy, recall, and f_1 score.\n",
    "12.\tRegularization and Hyperparameter tuning:\n",
    "    1. Import GridSearch and StratifiedKFold because of class imbalance.\n",
    "    2. Provide the parameter grid to choose for ‘C’ and ‘penalty’ parameters.\n",
    "    3. Use a balanced class weight while instantiating the logistic regression.\n",
    "13.\tFind the parameters with the best recall in cross-validation.\n",
    "    1. Choose ‘recall’ as the metric for scoring.\n",
    "    2. Choose a stratified 4 fold cross-validation scheme.\n",
    "    3. Fit into  the train set.\n",
    "14.\tWhat are the best parameters?\n",
    "15.\tPredict and evaluate using the best estimator.\n",
    "    1. Use the best estimator from the grid search to make predictions on the test set.\n",
    "    2. What is the recall on the test set for the toxic comments?\n",
    "    3. What is the f_1 score?"
   ]
  },
  {
   "cell_type": "code",
   "execution_count": 2,
   "metadata": {},
   "outputs": [],
   "source": [
    "import numpy as np\n",
    "import pandas as pd\n",
    "import nltk\n",
    "from pprint import pprint\n",
    "\n",
    "import matplotlib.pyplot as plt\n",
    "%matplotlib inline"
   ]
  },
  {
   "cell_type": "code",
   "execution_count": null,
   "metadata": {},
   "outputs": [],
   "source": []
  },
  {
   "cell_type": "code",
   "execution_count": 3,
   "metadata": {},
   "outputs": [
    {
     "data": {
      "text/html": [
       "<div>\n",
       "<style scoped>\n",
       "    .dataframe tbody tr th:only-of-type {\n",
       "        vertical-align: middle;\n",
       "    }\n",
       "\n",
       "    .dataframe tbody tr th {\n",
       "        vertical-align: top;\n",
       "    }\n",
       "\n",
       "    .dataframe thead th {\n",
       "        text-align: right;\n",
       "    }\n",
       "</style>\n",
       "<table border=\"1\" class=\"dataframe\">\n",
       "  <thead>\n",
       "    <tr style=\"text-align: right;\">\n",
       "      <th></th>\n",
       "      <th>id</th>\n",
       "      <th>label</th>\n",
       "      <th>tweet</th>\n",
       "    </tr>\n",
       "  </thead>\n",
       "  <tbody>\n",
       "    <tr>\n",
       "      <th>0</th>\n",
       "      <td>1</td>\n",
       "      <td>0</td>\n",
       "      <td>@user when a father is dysfunctional and is s...</td>\n",
       "    </tr>\n",
       "    <tr>\n",
       "      <th>1</th>\n",
       "      <td>2</td>\n",
       "      <td>0</td>\n",
       "      <td>@user @user thanks for #lyft credit i can't us...</td>\n",
       "    </tr>\n",
       "    <tr>\n",
       "      <th>2</th>\n",
       "      <td>3</td>\n",
       "      <td>0</td>\n",
       "      <td>bihday your majesty</td>\n",
       "    </tr>\n",
       "    <tr>\n",
       "      <th>3</th>\n",
       "      <td>4</td>\n",
       "      <td>0</td>\n",
       "      <td>#model   i love u take with u all the time in ...</td>\n",
       "    </tr>\n",
       "    <tr>\n",
       "      <th>4</th>\n",
       "      <td>5</td>\n",
       "      <td>0</td>\n",
       "      <td>factsguide: society now    #motivation</td>\n",
       "    </tr>\n",
       "  </tbody>\n",
       "</table>\n",
       "</div>"
      ],
      "text/plain": [
       "   id  label                                              tweet\n",
       "0   1      0   @user when a father is dysfunctional and is s...\n",
       "1   2      0  @user @user thanks for #lyft credit i can't us...\n",
       "2   3      0                                bihday your majesty\n",
       "3   4      0  #model   i love u take with u all the time in ...\n",
       "4   5      0             factsguide: society now    #motivation"
      ]
     },
     "execution_count": 3,
     "metadata": {},
     "output_type": "execute_result"
    }
   ],
   "source": [
    "tweet_data = pd.read_csv('TwitterHate.csv')\n",
    "tweet_data.head()"
   ]
  },
  {
   "cell_type": "code",
   "execution_count": 4,
   "metadata": {},
   "outputs": [
    {
     "name": "stdout",
     "output_type": "stream",
     "text": [
      "<class 'pandas.core.frame.DataFrame'>\n",
      "RangeIndex: 31962 entries, 0 to 31961\n",
      "Data columns (total 3 columns):\n",
      " #   Column  Non-Null Count  Dtype \n",
      "---  ------  --------------  ----- \n",
      " 0   id      31962 non-null  int64 \n",
      " 1   label   31962 non-null  int64 \n",
      " 2   tweet   31962 non-null  object\n",
      "dtypes: int64(2), object(1)\n",
      "memory usage: 749.2+ KB\n"
     ]
    }
   ],
   "source": [
    "tweet_data.info()"
   ]
  },
  {
   "cell_type": "code",
   "execution_count": null,
   "metadata": {},
   "outputs": [],
   "source": []
  },
  {
   "cell_type": "code",
   "execution_count": 5,
   "metadata": {},
   "outputs": [
    {
     "data": {
      "text/plain": [
       "[' @user when a father is dysfunctional and is so selfish he drags his kids into his dysfunction.   #run',\n",
       " \"@user @user thanks for #lyft credit i can't use cause they don't offer wheelchair vans in pdx.    #disapointed #getthanked\",\n",
       " '  bihday your majesty',\n",
       " '#model   i love u take with u all the time in urð\\x9f\\x93±!!! ð\\x9f\\x98\\x99ð\\x9f\\x98\\x8eð\\x9f\\x91\\x84ð\\x9f\\x91\\x85ð\\x9f\\x92¦ð\\x9f\\x92¦ð\\x9f\\x92¦  ',\n",
       " ' factsguide: society now    #motivation']"
      ]
     },
     "execution_count": 5,
     "metadata": {},
     "output_type": "execute_result"
    }
   ],
   "source": [
    "tweets = tweet_data['tweet'].to_list()\n",
    "tweets[:5]"
   ]
  },
  {
   "cell_type": "code",
   "execution_count": null,
   "metadata": {},
   "outputs": [],
   "source": []
  },
  {
   "cell_type": "code",
   "execution_count": 6,
   "metadata": {},
   "outputs": [],
   "source": [
    "import re\n",
    "from nltk.tokenize import TweetTokenizer\n",
    "\n",
    "def basic_tweet_cleanup(tweets):\n",
    "    #Lower casing\n",
    "    tweets = [tweet.lower() for tweet in tweets]\n",
    "    \n",
    "    #Removing @\n",
    "    tweets = [re.sub('@\\S+\\s+','',tweet) for tweet in tweets]\n",
    "    \n",
    "    #Removing URL \n",
    "    tweets = [re.sub('http\\S://\\S+','',tweet) for tweet in tweets]\n",
    "    \n",
    "    #Remove ‘#’ symbols from the tweet while retaining the term.\n",
    "    tweets = [re.sub('#','',tweet) for tweet in tweets]\n",
    "      \n",
    "    #Using TweetTokenizer from NLTK, tokenize the tweets into individual terms.\n",
    "    tweet_tokenizer = TweetTokenizer()\n",
    "    tweets = [tweet_tokenizer.tokenize(tweet) for tweet in tweets]\n",
    "    \n",
    "    #Remove stop words\n",
    "    tweets = [[token for token in tweet if token not in nltk.corpus.stopwords.words('english')] for tweet in tweets]\n",
    "    \n",
    "    return tweets"
   ]
  },
  {
   "cell_type": "code",
   "execution_count": 8,
   "metadata": {},
   "outputs": [
    {
     "name": "stdout",
     "output_type": "stream",
     "text": [
      "[['father', 'dysfunctional', 'selfish', 'drags', 'kids', 'dysfunction', '.',\n",
      "  'run'],\n",
      " ['thanks', 'lyft', 'credit', \"can't\", 'use', 'cause', 'offer', 'wheelchair',\n",
      "  'vans', 'pdx', '.', 'disapointed', 'getthanked'],\n",
      " ['bihday', 'majesty'],\n",
      " ['model', 'love', 'u', 'take', 'u', 'time', 'urð', '\\x9f', '\\x93', '±', '!',\n",
      "  '!', '!', 'ð', '\\x9f', '\\x98', '\\x99', 'ð', '\\x9f', '\\x98', '\\x8e', 'ð',\n",
      "  '\\x9f', '\\x91', '\\x84', 'ð', '\\x9f', '\\x91', 'ð', '\\x9f', '\\x92', '¦', 'ð',\n",
      "  '\\x9f', '\\x92', '¦', 'ð', '\\x9f', '\\x92', '¦'],\n",
      " ['factsguide', ':', 'society', 'motivation']]\n",
      "Wall time: 1min 36s\n"
     ]
    }
   ],
   "source": [
    "%%time\n",
    "tweets_cleaned = basic_tweet_cleanup(tweets)\n",
    "pprint(tweets_cleaned[:5], compact=True)"
   ]
  },
  {
   "cell_type": "code",
   "execution_count": 9,
   "metadata": {},
   "outputs": [
    {
     "name": "stdout",
     "output_type": "stream",
     "text": [
      "[' @user when a father is dysfunctional and is so selfish he drags his kids '\n",
      " 'into his dysfunction.   #run',\n",
      " \"@user @user thanks for #lyft credit i can't use cause they don't offer \"\n",
      " 'wheelchair vans in pdx.    #disapointed #getthanked',\n",
      " '  bihday your majesty',\n",
      " '#model   i love u take with u all the time in urð\\x9f\\x93±!!! '\n",
      " 'ð\\x9f\\x98\\x99ð\\x9f\\x98\\x8eð\\x9f\\x91\\x84ð\\x9f\\x91\\x85'\n",
      " 'ð\\x9f\\x92¦ð\\x9f\\x92¦ð\\x9f\\x92¦  ',\n",
      " ' factsguide: society now    #motivation']\n"
     ]
    }
   ],
   "source": [
    "pprint(tweets[:5], compact=True)"
   ]
  },
  {
   "cell_type": "markdown",
   "metadata": {},
   "source": [
    "Advanced Cleanup"
   ]
  },
  {
   "cell_type": "code",
   "execution_count": 10,
   "metadata": {},
   "outputs": [],
   "source": [
    "def advanced_tweet_cleanup(tweets):\n",
    "    #Filtering only alphabet words with length > 1\n",
    "    tweets_cleaned = [[token for token in tweet_tokens if token.isalpha() and len(token) > 1] for tweet_tokens in tweets]\n",
    "    return tweets_cleaned"
   ]
  },
  {
   "cell_type": "code",
   "execution_count": 11,
   "metadata": {},
   "outputs": [
    {
     "name": "stdout",
     "output_type": "stream",
     "text": [
      "[['father', 'dysfunctional', 'selfish', 'drags', 'kids', 'dysfunction', 'run'],\n",
      " ['thanks', 'lyft', 'credit', 'use', 'cause', 'offer', 'wheelchair', 'vans',\n",
      "  'pdx', 'disapointed', 'getthanked'],\n",
      " ['bihday', 'majesty'], ['model', 'love', 'take', 'time', 'urð'],\n",
      " ['factsguide', 'society', 'motivation']]\n"
     ]
    }
   ],
   "source": [
    "tweets_cleaned = advanced_tweet_cleanup(tweets_cleaned)\n",
    "pprint(tweets_cleaned[:5], compact=True)"
   ]
  },
  {
   "cell_type": "markdown",
   "metadata": {},
   "source": [
    "Joining the tokens in a list to find the top ten common terms"
   ]
  },
  {
   "cell_type": "code",
   "execution_count": 12,
   "metadata": {},
   "outputs": [
    {
     "name": "stdout",
     "output_type": "stream",
     "text": [
      "Total Tokens: 236721\n"
     ]
    }
   ],
   "source": [
    "terms = []\n",
    "\n",
    "for tweet in tweets_cleaned:\n",
    "    for token in tweet:\n",
    "        terms.append(token)\n",
    "\n",
    "print(\"Total Tokens: {}\".format(len(terms)))"
   ]
  },
  {
   "cell_type": "code",
   "execution_count": 14,
   "metadata": {},
   "outputs": [
    {
     "data": {
      "image/png": "[encoded data removed]",
      "text/plain": [
       "<Figure size 864x720 with 1 Axes>"
      ]
     },
     "metadata": {
      "needs_background": "light"
     },
     "output_type": "display_data"
    }
   ],
   "source": [
    "from collections import Counter\n",
    "\n",
    "counts_terms = Counter(terms)\n",
    "terms_df = pd.DataFrame(counts_terms.most_common(10), columns=['term', 'count'])\n",
    "terms_df.sort_values(by='count', ascending=True).plot(kind=\"barh\", x='term', figsize=(12,10), color='teal')\n",
    "plt.show()"
   ]
  },
  {
   "cell_type": "code",
   "execution_count": null,
   "metadata": {},
   "outputs": [],
   "source": []
  },
  {
   "cell_type": "markdown",
   "metadata": {},
   "source": [
    "Adding tweets_cleaned to the data frame for vectorizers"
   ]
  },
  {
   "cell_type": "code",
   "execution_count": 18,
   "metadata": {},
   "outputs": [
    {
     "data": {
      "text/plain": [
       "['father dysfunctional selfish drags kids dysfunction run',\n",
       " 'thanks lyft credit use cause offer wheelchair vans pdx disapointed getthanked',\n",
       " 'bihday majesty',\n",
       " 'model love take time urð',\n",
       " 'factsguide society motivation']"
      ]
     },
     "execution_count": 18,
     "metadata": {},
     "output_type": "execute_result"
    }
   ],
   "source": [
    "tweets_cleaned_sent = []\n",
    "\n",
    "for tweet in tweets_cleaned:\n",
    "    sent = \"\"\n",
    "    for token in tweet:\n",
    "        sent = sent + token + \" \"\n",
    "    tweets_cleaned_sent.append(sent[:-1])\n",
    "\n",
    "tweets_cleaned_sent[:5]"
   ]
  },
  {
   "cell_type": "code",
   "execution_count": 20,
   "metadata": {},
   "outputs": [
    {
     "data": {
      "text/html": [
       "<div>\n",
       "<style scoped>\n",
       "    .dataframe tbody tr th:only-of-type {\n",
       "        vertical-align: middle;\n",
       "    }\n",
       "\n",
       "    .dataframe tbody tr th {\n",
       "        vertical-align: top;\n",
       "    }\n",
       "\n",
       "    .dataframe thead th {\n",
       "        text-align: right;\n",
       "    }\n",
       "</style>\n",
       "<table border=\"1\" class=\"dataframe\">\n",
       "  <thead>\n",
       "    <tr style=\"text-align: right;\">\n",
       "      <th></th>\n",
       "      <th>id</th>\n",
       "      <th>label</th>\n",
       "      <th>tweet</th>\n",
       "      <th>tweet_cleaned</th>\n",
       "    </tr>\n",
       "  </thead>\n",
       "  <tbody>\n",
       "    <tr>\n",
       "      <th>0</th>\n",
       "      <td>1</td>\n",
       "      <td>0</td>\n",
       "      <td>@user when a father is dysfunctional and is s...</td>\n",
       "      <td>father dysfunctional selfish drags kids dysfun...</td>\n",
       "    </tr>\n",
       "    <tr>\n",
       "      <th>1</th>\n",
       "      <td>2</td>\n",
       "      <td>0</td>\n",
       "      <td>@user @user thanks for #lyft credit i can't us...</td>\n",
       "      <td>thanks lyft credit use cause offer wheelchair ...</td>\n",
       "    </tr>\n",
       "    <tr>\n",
       "      <th>2</th>\n",
       "      <td>3</td>\n",
       "      <td>0</td>\n",
       "      <td>bihday your majesty</td>\n",
       "      <td>bihday majesty</td>\n",
       "    </tr>\n",
       "    <tr>\n",
       "      <th>3</th>\n",
       "      <td>4</td>\n",
       "      <td>0</td>\n",
       "      <td>#model   i love u take with u all the time in ...</td>\n",
       "      <td>model love take time urð</td>\n",
       "    </tr>\n",
       "    <tr>\n",
       "      <th>4</th>\n",
       "      <td>5</td>\n",
       "      <td>0</td>\n",
       "      <td>factsguide: society now    #motivation</td>\n",
       "      <td>factsguide society motivation</td>\n",
       "    </tr>\n",
       "    <tr>\n",
       "      <th>5</th>\n",
       "      <td>6</td>\n",
       "      <td>0</td>\n",
       "      <td>[2/2] huge fan fare and big talking before the...</td>\n",
       "      <td>huge fan fare big talking leave chaos pay disp...</td>\n",
       "    </tr>\n",
       "    <tr>\n",
       "      <th>6</th>\n",
       "      <td>7</td>\n",
       "      <td>0</td>\n",
       "      <td>@user camping tomorrow @user @user @user @use...</td>\n",
       "      <td>camping tomorrow dannyâ</td>\n",
       "    </tr>\n",
       "    <tr>\n",
       "      <th>7</th>\n",
       "      <td>8</td>\n",
       "      <td>0</td>\n",
       "      <td>the next school year is the year for exams.ð...</td>\n",
       "      <td>next school year year exams think school exams...</td>\n",
       "    </tr>\n",
       "    <tr>\n",
       "      <th>8</th>\n",
       "      <td>9</td>\n",
       "      <td>0</td>\n",
       "      <td>we won!!! love the land!!! #allin #cavs #champ...</td>\n",
       "      <td>love land allin cavs champions cleveland cleve...</td>\n",
       "    </tr>\n",
       "    <tr>\n",
       "      <th>9</th>\n",
       "      <td>10</td>\n",
       "      <td>0</td>\n",
       "      <td>@user @user welcome here !  i'm   it's so #gr...</td>\n",
       "      <td>welcome</td>\n",
       "    </tr>\n",
       "  </tbody>\n",
       "</table>\n",
       "</div>"
      ],
      "text/plain": [
       "   id  label                                              tweet  \\\n",
       "0   1      0   @user when a father is dysfunctional and is s...   \n",
       "1   2      0  @user @user thanks for #lyft credit i can't us...   \n",
       "2   3      0                                bihday your majesty   \n",
       "3   4      0  #model   i love u take with u all the time in ...   \n",
       "4   5      0             factsguide: society now    #motivation   \n",
       "5   6      0  [2/2] huge fan fare and big talking before the...   \n",
       "6   7      0   @user camping tomorrow @user @user @user @use...   \n",
       "7   8      0  the next school year is the year for exams.ð...   \n",
       "8   9      0  we won!!! love the land!!! #allin #cavs #champ...   \n",
       "9  10      0   @user @user welcome here !  i'm   it's so #gr...   \n",
       "\n",
       "                                       tweet_cleaned  \n",
       "0  father dysfunctional selfish drags kids dysfun...  \n",
       "1  thanks lyft credit use cause offer wheelchair ...  \n",
       "2                                     bihday majesty  \n",
       "3                           model love take time urð  \n",
       "4                      factsguide society motivation  \n",
       "5  huge fan fare big talking leave chaos pay disp...  \n",
       "6                            camping tomorrow dannyâ  \n",
       "7  next school year year exams think school exams...  \n",
       "8  love land allin cavs champions cleveland cleve...  \n",
       "9                                            welcome  "
      ]
     },
     "execution_count": 20,
     "metadata": {},
     "output_type": "execute_result"
    }
   ],
   "source": [
    "tweet_data['tweet_cleaned'] = tweets_cleaned_sent\n",
    "tweet_data.head(10)"
   ]
  },
  {
   "cell_type": "markdown",
   "metadata": {},
   "source": [
    "Assigning X and Y"
   ]
  },
  {
   "cell_type": "code",
   "execution_count": null,
   "metadata": {},
   "outputs": [],
   "source": [
    "X = tweet_data['tweet_cleaned']\n",
    "Y = tweet_data['label']"
   ]
  }
 ],
 "metadata": {
  "kernelspec": {
   "display_name": "Python 3",
   "language": "python",
   "name": "python3"
  },
  "language_info": {
   "codemirror_mode": {
    "name": "ipython",
    "version": 3
   },
   "file_extension": ".py",
   "mimetype": "text/x-python",
   "name": "python",
   "nbconvert_exporter": "python",
   "pygments_lexer": "ipython3",
   "version": "3.7.3"
  }
 },
 "nbformat": 4,
 "nbformat_minor": 4
}
